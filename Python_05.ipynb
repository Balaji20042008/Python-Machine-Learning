{
 "cells": [
  {
   "cell_type": "code",
   "execution_count": 35,
   "id": "a5231264-c1c9-49bc-8321-67b4ba63008b",
   "metadata": {},
   "outputs": [],
   "source": [
    "# list_01 = [18, \"Balaji\", 24, 36, \"NIT Warangal\", [12, 45, 60]]"
   ]
  },
  {
   "cell_type": "code",
   "execution_count": 4,
   "id": "56862321-a36c-48ac-ad6a-90eb71924aa1",
   "metadata": {},
   "outputs": [],
   "source": [
    "# list_02 = []\n",
    "# for i in list_01 :\n",
    "#     if type(i) == int or type(i) == float :\n",
    "#         list_02.append(i)\n",
    "# else :\n",
    "#     print(\"The code is executed successfuly.\")"
   ]
  },
  {
   "cell_type": "code",
   "execution_count": 5,
   "id": "451a86a3-a137-4ec4-a87c-54a2a4b50ee5",
   "metadata": {},
   "outputs": [],
   "source": [
    "# for i in list_02 :\n",
    "#     print(i)\n",
    "# else :\n",
    "#     print(\"The code is executed successfully.\")"
   ]
  },
  {
   "cell_type": "code",
   "execution_count": 32,
   "id": "ae5620af-dea6-43f7-8520-06185e7c7579",
   "metadata": {},
   "outputs": [],
   "source": [
    "# def lists(list_01, list_02) :\n",
    "    \n",
    "#     for i in list_01 :\n",
    "#         if type(i) == int or type(i) == float :\n",
    "#             list_02.append(i)\n",
    "        \n",
    "#     for i in list_02 :\n",
    "#         print(i)\n",
    "#     else :\n",
    "#         print(\"The code is executed successfully.\")"
   ]
  },
  {
   "cell_type": "code",
   "execution_count": 33,
   "id": "5ae870ef-29e3-4306-8f0e-b2ebdb89a558",
   "metadata": {},
   "outputs": [],
   "source": [
    "# list_02 = []"
   ]
  },
  {
   "cell_type": "code",
   "execution_count": 34,
   "id": "14176119-9f22-4544-8fdc-debee1cd25a2",
   "metadata": {},
   "outputs": [],
   "source": [
    "# lists(list_01,list_02)"
   ]
  },
  {
   "cell_type": "code",
   "execution_count": 15,
   "id": "1ac5a52c-05a5-41da-a901-f3d990cf7fb7",
   "metadata": {},
   "outputs": [],
   "source": [
    "# def addition(a,b) :\n",
    "#     g = a + b\n",
    "#     return g"
   ]
  },
  {
   "cell_type": "code",
   "execution_count": 16,
   "id": "87b02347-1684-49e4-98c8-58ec34de6b0e",
   "metadata": {},
   "outputs": [],
   "source": [
    "# def subtraction(a,b) :\n",
    "#     g = a - b\n",
    "#     return g"
   ]
  },
  {
   "cell_type": "code",
   "execution_count": 17,
   "id": "4bcadc5e-f2dc-416c-89c4-435d4bde97fa",
   "metadata": {},
   "outputs": [],
   "source": [
    "# def multiplication(a,b) :\n",
    "#     g = a * b\n",
    "#     return g"
   ]
  },
  {
   "cell_type": "code",
   "execution_count": 18,
   "id": "341ce4e7-cbdc-44d0-adb5-a20b1ffed8ab",
   "metadata": {},
   "outputs": [],
   "source": [
    "# def division(a,b) :\n",
    "#     g = a / b\n",
    "#     return g"
   ]
  },
  {
   "cell_type": "code",
   "execution_count": 19,
   "id": "bfd567ee-a9c5-4daf-ba0c-570959955d45",
   "metadata": {},
   "outputs": [],
   "source": [
    "# print(\"The value of 'a' is: \")\n",
    "# a = int(input())\n",
    "\n",
    "# print(\"The value of 'b' is: \")\n",
    "# b = int(input())"
   ]
  },
  {
   "cell_type": "code",
   "execution_count": 20,
   "id": "1c4be8b6-7e44-473a-b2c7-26854e04c0df",
   "metadata": {},
   "outputs": [],
   "source": [
    "# g = addition(a,b)\n",
    "# print(\"Addition: \" + str(g))\n",
    "# d = subtraction(a,b)\n",
    "# print(\"Subtraction: \" + str(d))\n",
    "# l = multiplication(a,b)\n",
    "# print(\"Multiplication: \" + str(l))\n",
    "# m = division(a,b)\n",
    "# print(\"Divison: \" + str(m))"
   ]
  },
  {
   "cell_type": "code",
   "execution_count": 24,
   "id": "53f77c56-2655-44cf-97be-e11d15d04ac6",
   "metadata": {},
   "outputs": [],
   "source": [
    "# def addition(*args) :\n",
    "#     s = 0\n",
    "#     for i in args :\n",
    "#         s = s + i\n",
    "#     return s"
   ]
  },
  {
   "cell_type": "code",
   "execution_count": 25,
   "id": "8ec35861-24fe-4ac5-b435-cd9944690ab4",
   "metadata": {},
   "outputs": [],
   "source": [
    "# g = addition(30,45,75,50)\n",
    "# print(\"Addition: \" + str(g))"
   ]
  },
  {
   "cell_type": "code",
   "execution_count": 30,
   "id": "a4e43967-d1a6-45a1-a4b9-573569c6fbe8",
   "metadata": {},
   "outputs": [],
   "source": [
    "# def addition(a = 10, b = 20) :\n",
    "#     g = a + b\n",
    "#     return g"
   ]
  },
  {
   "cell_type": "code",
   "execution_count": 28,
   "id": "55fc385e-617a-42ee-b885-c3eda0f1e9c5",
   "metadata": {},
   "outputs": [],
   "source": [
    "# g = addition()\n",
    "# print(\"Addition: \" + str(g))"
   ]
  },
  {
   "cell_type": "code",
   "execution_count": 31,
   "id": "04ddb5b9-8523-47b3-b143-1599f50c2088",
   "metadata": {},
   "outputs": [],
   "source": [
    "# g = addition(25,55)\n",
    "# print(\"Additon: \" + str(g))"
   ]
  },
  {
   "cell_type": "code",
   "execution_count": 49,
   "id": "9e96c34d-7a97-4230-a0ef-1f949778ce5c",
   "metadata": {},
   "outputs": [],
   "source": [
    "# list_01 = [12, \"Balaji\", 25, 60, \"Srinivas\", 90, \"Rahul\"]"
   ]
  },
  {
   "cell_type": "code",
   "execution_count": 40,
   "id": "2b8db568-64f6-4ae4-98c0-919d1b8e0f6d",
   "metadata": {},
   "outputs": [],
   "source": [
    "# list_02 = []\n",
    "# for i in list_01 :\n",
    "#     if type(i) == str :\n",
    "#         list_02.append(i)\n",
    "# else :\n",
    "#     print(\"The code is executed successfully.\")"
   ]
  },
  {
   "cell_type": "code",
   "execution_count": 41,
   "id": "abbeffe5-67c4-4a6e-aa6a-743bb7f3964c",
   "metadata": {},
   "outputs": [],
   "source": [
    "# for i in list_02 :\n",
    "#     print(i)\n",
    "# else :\n",
    "#     print(\"The code is executed successfully.\")"
   ]
  },
  {
   "cell_type": "code",
   "execution_count": 48,
   "id": "bb15d7d9-51ef-4de5-b5da-bf7fef833e02",
   "metadata": {},
   "outputs": [],
   "source": [
    "# def lists(list_01, list_02) :\n",
    "    \n",
    "#     for i in list_01 :\n",
    "#         if type(i) == str :\n",
    "#             list_02.append(i)\n",
    "#     else :\n",
    "#         print(\"The code is executed successfully.\")\n",
    "    \n",
    "#     for i in list_02 :\n",
    "#         print(i)\n",
    "#     else :\n",
    "#         print(\"The code is executed successfully.\")"
   ]
  },
  {
   "cell_type": "code",
   "execution_count": 47,
   "id": "7a5da602-0fb3-4c32-ae33-67163feee7eb",
   "metadata": {},
   "outputs": [],
   "source": [
    "# list_02 = []"
   ]
  },
  {
   "cell_type": "code",
   "execution_count": 46,
   "id": "b856cfed-5d27-4326-b27e-f1a2f0ed22b6",
   "metadata": {},
   "outputs": [],
   "source": [
    "# lists(list_01,list_02)"
   ]
  },
  {
   "cell_type": "code",
   "execution_count": null,
   "id": "e92cec98-2536-46c5-8cb4-23f1f7cdecf8",
   "metadata": {},
   "outputs": [],
   "source": []
  }
 ],
 "metadata": {
  "kernelspec": {
   "display_name": "Python 3 (ipykernel)",
   "language": "python",
   "name": "python3"
  },
  "language_info": {
   "codemirror_mode": {
    "name": "ipython",
    "version": 3
   },
   "file_extension": ".py",
   "mimetype": "text/x-python",
   "name": "python",
   "nbconvert_exporter": "python",
   "pygments_lexer": "ipython3",
   "version": "3.10.8"
  }
 },
 "nbformat": 4,
 "nbformat_minor": 5
}
