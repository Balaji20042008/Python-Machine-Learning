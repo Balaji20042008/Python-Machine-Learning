{
 "cells": [
  {
   "cell_type": "code",
   "execution_count": 1,
   "id": "a9578bbd-f290-42d9-ac7f-086129966255",
   "metadata": {},
   "outputs": [],
   "source": [
    "import multiprocessing"
   ]
  },
  {
   "cell_type": "code",
   "execution_count": 2,
   "id": "88222cbb-3193-476c-8f35-42fdf252bfc5",
   "metadata": {},
   "outputs": [
    {
     "name": "stdout",
     "output_type": "stream",
     "text": [
      "This is the Main Program.\n",
      "This is the Multiprocessing Program.\n"
     ]
    }
   ],
   "source": [
    "def printing() :\n",
    "    print(\"This is the Multiprocessing Program.\")\n",
    "\n",
    "if __name__ == \"__main__\" :\n",
    "    multi_processor = multiprocessing.Process(target = printing)\n",
    "    print(\"This is the Main Program.\")\n",
    "    multi_processor.start()\n",
    "    multi_processor.join()"
   ]
  },
  {
   "cell_type": "code",
   "execution_count": 1,
   "id": "0a20852a-b452-45eb-8e1b-ae076a12e8d5",
   "metadata": {},
   "outputs": [],
   "source": [
    "import multiprocessing"
   ]
  },
  {
   "cell_type": "code",
   "execution_count": 2,
   "id": "28876890-2ec2-4495-abda-8b809db03fb6",
   "metadata": {},
   "outputs": [
    {
     "name": "stdout",
     "output_type": "stream",
     "text": [
      "[1, 4, 9, 16, 25, 36, 49, 64, 81, 100]\n"
     ]
    }
   ],
   "source": [
    "def squaring(n) :\n",
    "    return n*n\n",
    "\n",
    "if __name__ == \"__main__\" :\n",
    "    with multiprocessing.Pool(processes = 10) as multi_processor :\n",
    "        list_01 = [1, 2, 3, 4, 5, 6, 7, 8, 9, 10]\n",
    "        list_02 = multi_processor.map(squaring, list_01)\n",
    "        print(list_02)"
   ]
  },
  {
   "cell_type": "code",
   "execution_count": 1,
   "id": "264c78a0-8572-43be-8cba-9572bedfa286",
   "metadata": {},
   "outputs": [],
   "source": [
    "import multiprocessing"
   ]
  },
  {
   "cell_type": "code",
   "execution_count": 2,
   "id": "6392e56c-8cf1-4ac5-bef8-230d9d8f992e",
   "metadata": {},
   "outputs": [],
   "source": [
    "def queue_input(queue_01) :\n",
    "    list_01 = [10, 20, 30, 40, 50, 60, 70, 80, 90, 100]\n",
    "    for i in list_01 :\n",
    "        queue_01.put(i)\n",
    "        \n",
    "def queue_output(queue_01) :\n",
    "    while True :\n",
    "        item = queue_01.get()\n",
    "        if item is None :\n",
    "            break\n",
    "        print(item)"
   ]
  },
  {
   "cell_type": "code",
   "execution_count": null,
   "id": "670c01e5-e842-46a0-bee2-de7e39ef08c4",
   "metadata": {},
   "outputs": [
    {
     "name": "stdout",
     "output_type": "stream",
     "text": [
      "10\n",
      "20\n",
      "30\n",
      "40\n",
      "50\n",
      "60\n",
      "70\n",
      "80\n",
      "90\n",
      "100\n"
     ]
    }
   ],
   "source": [
    "if __name__ == \"__main__\" :\n",
    "    queue = multiprocessing.Queue()\n",
    "    multi_processor_01 = multiprocessing.Process(target = queue_input, args = (queue,))\n",
    "    multi_processor_02 = multiprocessing.Process(target = queue_output, args = (queue,))\n",
    "    multi_processor_01.start()\n",
    "    multi_processor_02.start()\n",
    "    multi_processor_01.join()\n",
    "    multi_processor_02.join()"
   ]
  },
  {
   "cell_type": "code",
   "execution_count": null,
   "id": "685bc6ac-326b-4ce1-92d8-7418e861228c",
   "metadata": {},
   "outputs": [],
   "source": []
  }
 ],
 "metadata": {
  "kernelspec": {
   "display_name": "Python 3 (ipykernel)",
   "language": "python",
   "name": "python3"
  },
  "language_info": {
   "codemirror_mode": {
    "name": "ipython",
    "version": 3
   },
   "file_extension": ".py",
   "mimetype": "text/x-python",
   "name": "python",
   "nbconvert_exporter": "python",
   "pygments_lexer": "ipython3",
   "version": "3.10.8"
  }
 },
 "nbformat": 4,
 "nbformat_minor": 5
}
