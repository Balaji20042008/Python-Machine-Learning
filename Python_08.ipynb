{
 "cells": [
  {
   "cell_type": "code",
   "execution_count": 68,
   "id": "3aa68527-696b-43aa-b4e1-7eac800ac3db",
   "metadata": {},
   "outputs": [],
   "source": [
    "class college :\n",
    "    \n",
    "    def __init__ (self) :\n",
    "        \n",
    "        pass\n",
    "    \n",
    "    def constructor(self, name, roll_number, email_id, phone_number, cgpa) :\n",
    "        \n",
    "        self.name = name\n",
    "        self.roll_number = roll_number\n",
    "        self.email_id = email_id\n",
    "        self.phone_number = phone_number\n",
    "        self.cgpa = cgpa\n",
    "        \n",
    "    def print_details(self) :\n",
    "        \n",
    "        print(\"Name : \" + str(self.name))\n",
    "        print(\"Roll Number: \" + str(self.roll_number))\n",
    "        print(\"Email ID: \" + str(self.email_id))\n",
    "        print(\"CGPA: \" + str(self.cgpa))"
   ]
  },
  {
   "cell_type": "code",
   "execution_count": 69,
   "id": "d45553ae-9e11-47f7-9d9d-feff8e14038c",
   "metadata": {},
   "outputs": [],
   "source": [
    "student_01 = college()"
   ]
  },
  {
   "cell_type": "code",
   "execution_count": 70,
   "id": "6ce756dc-cf44-4e29-8c90-c8b78ffbe9e9",
   "metadata": {},
   "outputs": [],
   "source": [
    "student_01.name = \"Balaji\""
   ]
  },
  {
   "cell_type": "code",
   "execution_count": 71,
   "id": "2371395f-74fb-4ca4-9dce-bdb457f54c9d",
   "metadata": {},
   "outputs": [],
   "source": [
    "student_01.roll_number = \"21CEB0B41\""
   ]
  },
  {
   "cell_type": "code",
   "execution_count": 72,
   "id": "072693fa-5766-4b7c-b22f-623b88d102d8",
   "metadata": {},
   "outputs": [],
   "source": [
    "student_01.email_id = \"mn21ceb0b41@student.nitw.ac.in\""
   ]
  },
  {
   "cell_type": "code",
   "execution_count": 73,
   "id": "5341ac76-74fb-47ad-ae92-7d9685c6fbe3",
   "metadata": {},
   "outputs": [],
   "source": [
    "student_01.cgpa = 7.63"
   ]
  },
  {
   "cell_type": "code",
   "execution_count": 74,
   "id": "20e0bed3-3a06-405f-aac3-fff27107c69f",
   "metadata": {},
   "outputs": [],
   "source": [
    "student_01.phone_number = 8688609730"
   ]
  },
  {
   "cell_type": "code",
   "execution_count": 75,
   "id": "a29ee82b-75d4-4740-890b-bd0354b228b9",
   "metadata": {},
   "outputs": [
    {
     "name": "stdout",
     "output_type": "stream",
     "text": [
      "Balaji\n"
     ]
    }
   ],
   "source": [
    "print(student_01.name)"
   ]
  },
  {
   "cell_type": "code",
   "execution_count": 76,
   "id": "28ca4a2f-5bf4-467d-8c74-c98a876ffed0",
   "metadata": {},
   "outputs": [
    {
     "name": "stdout",
     "output_type": "stream",
     "text": [
      "21CEB0B41\n"
     ]
    }
   ],
   "source": [
    "print(student_01.roll_number)"
   ]
  },
  {
   "cell_type": "code",
   "execution_count": 77,
   "id": "9b29cc0f-8393-4e1b-916f-e6c9148aecff",
   "metadata": {},
   "outputs": [
    {
     "name": "stdout",
     "output_type": "stream",
     "text": [
      "mn21ceb0b41@student.nitw.ac.in\n"
     ]
    }
   ],
   "source": [
    "print(student_01.email_id)"
   ]
  },
  {
   "cell_type": "code",
   "execution_count": 78,
   "id": "e077b7fe-cf25-44e3-98f2-d266b5af5759",
   "metadata": {},
   "outputs": [
    {
     "name": "stdout",
     "output_type": "stream",
     "text": [
      "7.63\n"
     ]
    }
   ],
   "source": [
    "print(student_01.cgpa)"
   ]
  },
  {
   "cell_type": "code",
   "execution_count": 79,
   "id": "0f172e8e-922c-4ef8-a535-926e2c0261f9",
   "metadata": {},
   "outputs": [
    {
     "name": "stdout",
     "output_type": "stream",
     "text": [
      "8688609730\n"
     ]
    }
   ],
   "source": [
    "print(student_01.phone_number)"
   ]
  },
  {
   "cell_type": "code",
   "execution_count": 80,
   "id": "c171ca84-81b9-42b9-9c5b-7d6d0c979e04",
   "metadata": {},
   "outputs": [
    {
     "name": "stdout",
     "output_type": "stream",
     "text": [
      "<class '__main__.college'>\n"
     ]
    }
   ],
   "source": [
    "print(type(student_01))"
   ]
  },
  {
   "cell_type": "code",
   "execution_count": 81,
   "id": "5475a754-83c3-46dc-8f09-6e14160bba8e",
   "metadata": {},
   "outputs": [
    {
     "name": "stdout",
     "output_type": "stream",
     "text": [
      "<class 'str'>\n"
     ]
    }
   ],
   "source": [
    "print(type(student_01.name))"
   ]
  },
  {
   "cell_type": "code",
   "execution_count": 82,
   "id": "0554be0c-a539-4909-9c89-795f551e96b9",
   "metadata": {},
   "outputs": [
    {
     "name": "stdout",
     "output_type": "stream",
     "text": [
      "<class 'float'>\n"
     ]
    }
   ],
   "source": [
    "print(type(student_01.cgpa))"
   ]
  },
  {
   "cell_type": "code",
   "execution_count": 83,
   "id": "c5cd6790-eb8d-4794-aeb4-23bf4bfc63e0",
   "metadata": {},
   "outputs": [
    {
     "name": "stdout",
     "output_type": "stream",
     "text": [
      "<class 'int'>\n"
     ]
    }
   ],
   "source": [
    "print(type(student_01.phone_number))"
   ]
  },
  {
   "cell_type": "code",
   "execution_count": 84,
   "id": "a76d2c67-8a4d-46c7-9e21-29d7dedfb5a0",
   "metadata": {},
   "outputs": [
    {
     "name": "stdout",
     "output_type": "stream",
     "text": [
      "Name : Balaji\n",
      "Roll Number: 21CEB0B41\n",
      "Email ID: mn21ceb0b41@student.nitw.ac.in\n",
      "CGPA: 7.63\n"
     ]
    }
   ],
   "source": [
    "student_01.print_details()"
   ]
  },
  {
   "cell_type": "code",
   "execution_count": 85,
   "id": "8be3f8a1-a84a-4e92-b6fa-9ff23d1ceabc",
   "metadata": {},
   "outputs": [],
   "source": [
    "student_02 = college()"
   ]
  },
  {
   "cell_type": "code",
   "execution_count": 86,
   "id": "9c92195a-1d60-4eb7-bd76-0c11ad4f1742",
   "metadata": {},
   "outputs": [],
   "source": [
    "student_02.constructor(\"Rahul\", \"21CEB0B58\", \"rk21ceb0b58@student.nitw.ac.in\", 7036747555, 8.28)"
   ]
  },
  {
   "cell_type": "code",
   "execution_count": 87,
   "id": "6a80a90c-3e9d-4361-98dc-2081ac383ec8",
   "metadata": {},
   "outputs": [
    {
     "name": "stdout",
     "output_type": "stream",
     "text": [
      "Rahul\n"
     ]
    }
   ],
   "source": [
    "print(student_02.name)"
   ]
  },
  {
   "cell_type": "code",
   "execution_count": 88,
   "id": "484856e1-48bb-4d9a-a667-07ecffd0d470",
   "metadata": {},
   "outputs": [
    {
     "name": "stdout",
     "output_type": "stream",
     "text": [
      "21CEB0B58\n"
     ]
    }
   ],
   "source": [
    "print(student_02.roll_number)"
   ]
  },
  {
   "cell_type": "code",
   "execution_count": 89,
   "id": "0aeffdbb-cdbc-42ff-9da3-969a92de8ad0",
   "metadata": {},
   "outputs": [
    {
     "name": "stdout",
     "output_type": "stream",
     "text": [
      "rk21ceb0b58@student.nitw.ac.in\n"
     ]
    }
   ],
   "source": [
    "print(student_02.email_id)"
   ]
  },
  {
   "cell_type": "code",
   "execution_count": 90,
   "id": "69fec904-63bf-408a-9c9c-2c573401b333",
   "metadata": {},
   "outputs": [
    {
     "name": "stdout",
     "output_type": "stream",
     "text": [
      "7036747555\n"
     ]
    }
   ],
   "source": [
    "print(student_02.phone_number)"
   ]
  },
  {
   "cell_type": "code",
   "execution_count": 91,
   "id": "6291be94-95f1-458a-bec9-1ad797dc02e4",
   "metadata": {},
   "outputs": [
    {
     "name": "stdout",
     "output_type": "stream",
     "text": [
      "8.28\n"
     ]
    }
   ],
   "source": [
    "print(student_02.cgpa)"
   ]
  },
  {
   "cell_type": "code",
   "execution_count": 92,
   "id": "eeb7ad6e-a72a-48d3-b4a7-14229d5fef54",
   "metadata": {},
   "outputs": [
    {
     "name": "stdout",
     "output_type": "stream",
     "text": [
      "<class 'str'>\n"
     ]
    }
   ],
   "source": [
    "print(type(student_02.name))"
   ]
  },
  {
   "cell_type": "code",
   "execution_count": 93,
   "id": "a46c0206-6446-42d5-871e-c9a0eb95104d",
   "metadata": {},
   "outputs": [
    {
     "name": "stdout",
     "output_type": "stream",
     "text": [
      "<class 'int'>\n"
     ]
    }
   ],
   "source": [
    "print(type(student_02.phone_number))"
   ]
  },
  {
   "cell_type": "code",
   "execution_count": 94,
   "id": "fd62f48a-6cb0-474c-bf49-5070820476fa",
   "metadata": {},
   "outputs": [
    {
     "name": "stdout",
     "output_type": "stream",
     "text": [
      "<class 'float'>\n"
     ]
    }
   ],
   "source": [
    "print(type(student_02.cgpa))"
   ]
  },
  {
   "cell_type": "code",
   "execution_count": 95,
   "id": "db860cad-fed9-4b00-8eb1-71f150b5d38c",
   "metadata": {},
   "outputs": [
    {
     "name": "stdout",
     "output_type": "stream",
     "text": [
      "Name : Rahul\n",
      "Roll Number: 21CEB0B58\n",
      "Email ID: rk21ceb0b58@student.nitw.ac.in\n",
      "CGPA: 8.28\n"
     ]
    }
   ],
   "source": [
    "student_02.print_details()"
   ]
  },
  {
   "cell_type": "code",
   "execution_count": 72,
   "id": "5c23aec9-d427-4287-8520-4552624c2fc1",
   "metadata": {},
   "outputs": [],
   "source": [
    "# Polymorphism"
   ]
  },
  {
   "cell_type": "code",
   "execution_count": 2,
   "id": "bb66bcde-1149-4999-b572-575dfd7a763a",
   "metadata": {},
   "outputs": [],
   "source": [
    "class pig :\n",
    "    \n",
    "    def __init__ (self) :\n",
    "        pass\n",
    "    \n",
    "    def animal_sound (self) :\n",
    "        print(\"The pig says: 'Oink Oink'\")"
   ]
  },
  {
   "cell_type": "code",
   "execution_count": 3,
   "id": "c8bb877c-91f5-474e-b2c4-e3bf46d475ee",
   "metadata": {},
   "outputs": [],
   "source": [
    "class dog :\n",
    "    \n",
    "    def __init__(self) :\n",
    "        pass\n",
    "    \n",
    "    def animal_sound(self) :\n",
    "        print(\"The pig says: 'Bow Bow'\")"
   ]
  },
  {
   "cell_type": "code",
   "execution_count": 4,
   "id": "d0f2e1e0-b170-4419-a4ba-312d57f3fa1b",
   "metadata": {},
   "outputs": [],
   "source": [
    "pig_01 = pig()"
   ]
  },
  {
   "cell_type": "code",
   "execution_count": 5,
   "id": "6bf56fc7-fca3-4029-bfa7-87e542ae23f9",
   "metadata": {},
   "outputs": [],
   "source": [
    "dog_01 = dog()"
   ]
  },
  {
   "cell_type": "code",
   "execution_count": 6,
   "id": "36d70195-384e-4d3d-8b6e-6ba832126d52",
   "metadata": {},
   "outputs": [
    {
     "name": "stdout",
     "output_type": "stream",
     "text": [
      "The pig says: 'Oink Oink'\n"
     ]
    }
   ],
   "source": [
    "pig_01.animal_sound()"
   ]
  },
  {
   "cell_type": "code",
   "execution_count": 7,
   "id": "14e57bbc-d003-4d62-85ff-c8c5c2cfb5cf",
   "metadata": {},
   "outputs": [
    {
     "name": "stdout",
     "output_type": "stream",
     "text": [
      "The pig says: 'Bow Bow'\n"
     ]
    }
   ],
   "source": [
    "dog_01.animal_sound()"
   ]
  },
  {
   "cell_type": "code",
   "execution_count": 104,
   "id": "436d7cda-e2ee-4a23-af9c-304204d10be9",
   "metadata": {},
   "outputs": [],
   "source": [
    "def class_parcer(class_obj) :\n",
    "    \n",
    "    for i in class_obj :\n",
    "        i.animal_sound()\n",
    "    else :\n",
    "        print(\"The code is executed successfully.\")"
   ]
  },
  {
   "cell_type": "code",
   "execution_count": 105,
   "id": "ef81ae30-3a0d-4e51-b2db-0dc1460e07d4",
   "metadata": {},
   "outputs": [],
   "source": [
    "class_obj = [pig_01, dog_01]"
   ]
  },
  {
   "cell_type": "code",
   "execution_count": 106,
   "id": "2ac60350-0d52-41bb-bc38-0326b32167ca",
   "metadata": {},
   "outputs": [
    {
     "name": "stdout",
     "output_type": "stream",
     "text": [
      "The pig says: 'Oink Oink'\n",
      "The pig says: 'Bow Bow'\n",
      "The code is executed successfully.\n"
     ]
    }
   ],
   "source": [
    "class_parcer(class_obj)"
   ]
  },
  {
   "cell_type": "code",
   "execution_count": 73,
   "id": "67c022d8-941c-452e-8426-3f3d307504cc",
   "metadata": {},
   "outputs": [],
   "source": [
    "# Encapsulation"
   ]
  },
  {
   "cell_type": "code",
   "execution_count": 3,
   "id": "c1b98726-7ad0-4d45-9c91-5971c9d4775f",
   "metadata": {},
   "outputs": [],
   "source": [
    "class email :\n",
    "    \n",
    "    def __init__ (self, email_id, password) :\n",
    "        \n",
    "        self.__email_id = email_id\n",
    "        self.__password = password\n",
    "        \n",
    "    def set_password (self, password) :\n",
    "        \n",
    "        self.__password = password\n",
    "        \n",
    "    def get_email_id (self) :\n",
    "        \n",
    "        return self.__email_id\n",
    "        \n",
    "    def get_password (self) :\n",
    "        \n",
    "        return self.__password"
   ]
  },
  {
   "cell_type": "code",
   "execution_count": 4,
   "id": "a3e76328-cc88-447f-9be8-bacbe0c0ecfe",
   "metadata": {},
   "outputs": [],
   "source": [
    "email_01 = email(\"mn21ceb0b41@student.nitw.ac.in\", \"bpk_warangal\")"
   ]
  },
  {
   "cell_type": "code",
   "execution_count": 5,
   "id": "6d03a477-ee34-4885-a0a7-cc2732b842d4",
   "metadata": {},
   "outputs": [
    {
     "data": {
      "text/plain": [
       "'mn21ceb0b41@student.nitw.ac.in'"
      ]
     },
     "execution_count": 5,
     "metadata": {},
     "output_type": "execute_result"
    }
   ],
   "source": [
    "email_01.get_email_id()"
   ]
  },
  {
   "cell_type": "code",
   "execution_count": 6,
   "id": "fb795732-1024-4e8c-843e-adb2af9cd876",
   "metadata": {},
   "outputs": [
    {
     "data": {
      "text/plain": [
       "'bpk_warangal'"
      ]
     },
     "execution_count": 6,
     "metadata": {},
     "output_type": "execute_result"
    }
   ],
   "source": [
    "email_01.get_password()"
   ]
  },
  {
   "cell_type": "code",
   "execution_count": 7,
   "id": "efe57506-f697-4997-8667-2f728ec435f1",
   "metadata": {},
   "outputs": [],
   "source": [
    "email_01.set_password(\"bpk_2008\")"
   ]
  },
  {
   "cell_type": "code",
   "execution_count": 8,
   "id": "82f09bc0-fbf0-46c0-a9d1-8dd31f94107f",
   "metadata": {},
   "outputs": [
    {
     "data": {
      "text/plain": [
       "'bpk_2008'"
      ]
     },
     "execution_count": 8,
     "metadata": {},
     "output_type": "execute_result"
    }
   ],
   "source": [
    "email_01.get_password()"
   ]
  },
  {
   "cell_type": "code",
   "execution_count": 8,
   "id": "6d7647df-fb0b-48c5-ad9e-13307664d58a",
   "metadata": {},
   "outputs": [],
   "source": [
    "#Inheritance"
   ]
  },
  {
   "cell_type": "code",
   "execution_count": 42,
   "id": "0ed196cb-e84b-4142-bbb5-5dc515bc70cf",
   "metadata": {},
   "outputs": [],
   "source": [
    "class parent :\n",
    "    \n",
    "    def __init__ (self) :\n",
    "        \n",
    "        pass\n",
    "        \n",
    "    def hobbies_parent(self) :\n",
    "        \n",
    "        print(\"I like to read historical books.\")\n",
    "        print(\"I like to sing beautiful songs.\")\n",
    "        "
   ]
  },
  {
   "cell_type": "code",
   "execution_count": 31,
   "id": "ddcc1812-9c3f-4f73-abac-f46a1627acbb",
   "metadata": {},
   "outputs": [],
   "source": [
    "class child(parent) :\n",
    "    \n",
    "    def __init__ (self) :\n",
    "        \n",
    "        pass\n",
    "    \n",
    "    def hobbies_child(self) :\n",
    "        \n",
    "        print(\"I like to watch inspirational movies.\")"
   ]
  },
  {
   "cell_type": "code",
   "execution_count": 32,
   "id": "9849c56f-4e2a-45a8-beef-905690b8499f",
   "metadata": {},
   "outputs": [],
   "source": [
    "object_01 = parent()"
   ]
  },
  {
   "cell_type": "code",
   "execution_count": 39,
   "id": "72452203-8a75-4c17-8a23-51c93d0acf4c",
   "metadata": {},
   "outputs": [
    {
     "name": "stdout",
     "output_type": "stream",
     "text": [
      "I like to read historical books.\n",
      "I like to sing beautiful songs.\n"
     ]
    }
   ],
   "source": [
    "object_01.hobbies_parent()"
   ]
  },
  {
   "cell_type": "code",
   "execution_count": 40,
   "id": "e9d00e50-50bd-41c3-821e-42fea37292a4",
   "metadata": {},
   "outputs": [],
   "source": [
    "object_02 = child()"
   ]
  },
  {
   "cell_type": "code",
   "execution_count": 43,
   "id": "7a459c0e-0801-46b9-bc0b-097045e46555",
   "metadata": {},
   "outputs": [
    {
     "name": "stdout",
     "output_type": "stream",
     "text": [
      "I like to read historical books.\n",
      "I like to sing beautiful songs.\n"
     ]
    }
   ],
   "source": [
    "object_02.hobbies_parent()"
   ]
  },
  {
   "cell_type": "code",
   "execution_count": 44,
   "id": "5f06af4f-0bc3-47f5-b8cb-28af13f0d67c",
   "metadata": {},
   "outputs": [
    {
     "name": "stdout",
     "output_type": "stream",
     "text": [
      "I like to watch inspirational movies.\n"
     ]
    }
   ],
   "source": [
    "object_02.hobbies_child()"
   ]
  },
  {
   "cell_type": "code",
   "execution_count": 66,
   "id": "096dd16a-8643-41f5-8fe3-ecf465969038",
   "metadata": {},
   "outputs": [],
   "source": [
    "# Multilevel Inheritance"
   ]
  },
  {
   "cell_type": "code",
   "execution_count": 19,
   "id": "ccc1b87a-2750-42b6-80f7-e0b263f642c4",
   "metadata": {},
   "outputs": [],
   "source": [
    "# class class_01 :\n",
    "    \n",
    "#     def __init__(self) :\n",
    "        \n",
    "#         pass\n",
    "    \n",
    "#     def class_01_method(self) :\n",
    "        \n",
    "#         print(\"This is a method from the class 01.\")"
   ]
  },
  {
   "cell_type": "code",
   "execution_count": 20,
   "id": "612b12b2-6f80-4523-8371-c6f2c09cb545",
   "metadata": {},
   "outputs": [],
   "source": [
    "# class class_02(class_01) :\n",
    "    \n",
    "#     def __init__(self) :\n",
    "        \n",
    "#         pass\n",
    "    \n",
    "#     def class_02_method(self) :\n",
    "        \n",
    "#         print(\"This is amethod from the class 02.\")"
   ]
  },
  {
   "cell_type": "code",
   "execution_count": 21,
   "id": "dd64b624-71c3-47d9-b28f-3be8f088c77c",
   "metadata": {},
   "outputs": [],
   "source": [
    "# class class_03(class_02) :\n",
    "    \n",
    "#     def __init__(self) :\n",
    "        \n",
    "#         pass\n",
    "    \n",
    "#     def class_03_method(self) :\n",
    "        \n",
    "#         print(\"This is a method from the class 03.\")"
   ]
  },
  {
   "cell_type": "code",
   "execution_count": 22,
   "id": "38f98437-f711-459a-9c4d-9c1236cedb70",
   "metadata": {},
   "outputs": [],
   "source": [
    "# object_01 = class_03()"
   ]
  },
  {
   "cell_type": "code",
   "execution_count": 23,
   "id": "7fc5b06a-c817-41ae-8c37-6b59eae8478d",
   "metadata": {},
   "outputs": [],
   "source": [
    "# object_01.class_03_method()"
   ]
  },
  {
   "cell_type": "code",
   "execution_count": 24,
   "id": "913a8c4f-09dd-44fa-9c1d-d11d211df160",
   "metadata": {},
   "outputs": [],
   "source": [
    "# object_01.class_02_method()"
   ]
  },
  {
   "cell_type": "code",
   "execution_count": 25,
   "id": "d153f11f-8ace-4871-85e2-5dd5564b2d33",
   "metadata": {},
   "outputs": [],
   "source": [
    "# object_01.class_01_method()"
   ]
  },
  {
   "cell_type": "code",
   "execution_count": 71,
   "id": "e2832c9a-39c1-4b84-9e25-dd58b508b6aa",
   "metadata": {},
   "outputs": [],
   "source": [
    "# Multiple Inheritance"
   ]
  },
  {
   "cell_type": "code",
   "execution_count": 26,
   "id": "ea5e2edc-f1cf-4393-bb2b-198462e8bb64",
   "metadata": {},
   "outputs": [],
   "source": [
    "class class_01 :\n",
    "    \n",
    "    def __init__(self) :\n",
    "        \n",
    "        pass\n",
    "    \n",
    "    def class_01_method(self) :\n",
    "        \n",
    "        print(\"This is a method from the class 01.\")"
   ]
  },
  {
   "cell_type": "code",
   "execution_count": 27,
   "id": "9c510062-4e11-4e8f-b523-d9bc5bf01521",
   "metadata": {},
   "outputs": [],
   "source": [
    "class class_02 :\n",
    "    \n",
    "    def __init__(self) :\n",
    "        \n",
    "        pass\n",
    "    \n",
    "    def class_02_method(self) :\n",
    "        \n",
    "        print(\"This is a method from the class 02.\")"
   ]
  },
  {
   "cell_type": "code",
   "execution_count": 28,
   "id": "6ffc78b1-0983-459d-a52f-02e480721f1b",
   "metadata": {},
   "outputs": [],
   "source": [
    "class class_03(class_01, class_02) :\n",
    "    \n",
    "    def __init__(self) :\n",
    "        \n",
    "        pass\n",
    "    \n",
    "    def class_03_method(self) :\n",
    "        \n",
    "        print(\"This is a method from the class 03.\")"
   ]
  },
  {
   "cell_type": "code",
   "execution_count": 29,
   "id": "10ae7071-5ee1-4693-bb6f-10078fd244cc",
   "metadata": {},
   "outputs": [],
   "source": [
    "object_01 = class_03()"
   ]
  },
  {
   "cell_type": "code",
   "execution_count": 30,
   "id": "8d26a544-9b13-4cd3-b529-079679d556a5",
   "metadata": {},
   "outputs": [
    {
     "name": "stdout",
     "output_type": "stream",
     "text": [
      "This is a method from the class 03.\n"
     ]
    }
   ],
   "source": [
    "object_01.class_03_method()"
   ]
  },
  {
   "cell_type": "code",
   "execution_count": 31,
   "id": "80a06f9a-1339-4526-9991-773174e194d1",
   "metadata": {},
   "outputs": [
    {
     "name": "stdout",
     "output_type": "stream",
     "text": [
      "This is a method from the class 01.\n"
     ]
    }
   ],
   "source": [
    "object_01.class_01_method()"
   ]
  },
  {
   "cell_type": "code",
   "execution_count": 32,
   "id": "609b25e4-8984-4aa4-9f74-e45c7f72f8fc",
   "metadata": {},
   "outputs": [
    {
     "name": "stdout",
     "output_type": "stream",
     "text": [
      "This is a method from the class 02.\n"
     ]
    }
   ],
   "source": [
    "object_01.class_02_method()"
   ]
  },
  {
   "cell_type": "code",
   "execution_count": 15,
   "id": "6745e9a1-ca8d-481f-894c-c71cf7fccd73",
   "metadata": {},
   "outputs": [],
   "source": [
    "# Abstraction"
   ]
  },
  {
   "cell_type": "code",
   "execution_count": 6,
   "id": "5d144ab5-781f-4730-8e5f-46d2dd2f0465",
   "metadata": {},
   "outputs": [],
   "source": [
    "import abc\n",
    "\n",
    "class abstraction :\n",
    "    \n",
    "    @abc.abstractmethod\n",
    "    \n",
    "    def welcome(self) :\n",
    "        \n",
    "        pass"
   ]
  },
  {
   "cell_type": "code",
   "execution_count": 7,
   "id": "310931f8-b35a-4f9a-9d65-a96a8826d8f0",
   "metadata": {},
   "outputs": [],
   "source": [
    "class data_science(abstraction) :\n",
    "    \n",
    "    def welcome(self) :\n",
    "        \n",
    "        print(\"Welcome to Data Science.\")"
   ]
  },
  {
   "cell_type": "code",
   "execution_count": 10,
   "id": "2c85803b-b4dc-4b44-b78e-32f1607eebcd",
   "metadata": {},
   "outputs": [],
   "source": [
    "class data_structures(abstraction) :\n",
    "    \n",
    "    def welcome(self) :\n",
    "        \n",
    "        print(\"Welcome to Data Structures.\")"
   ]
  },
  {
   "cell_type": "code",
   "execution_count": 11,
   "id": "69451062-b993-4bff-9a19-0e4a19bd3361",
   "metadata": {},
   "outputs": [],
   "source": [
    "object_01 = data_science()"
   ]
  },
  {
   "cell_type": "code",
   "execution_count": 12,
   "id": "5c774e14-29f2-45c7-9954-14490cb82edb",
   "metadata": {},
   "outputs": [],
   "source": [
    "object_02 = data_structures()"
   ]
  },
  {
   "cell_type": "code",
   "execution_count": 13,
   "id": "4f0c1179-e7dd-4587-af64-b29bb94b6a9d",
   "metadata": {},
   "outputs": [
    {
     "name": "stdout",
     "output_type": "stream",
     "text": [
      "Welcome to Data Science.\n"
     ]
    }
   ],
   "source": [
    "object_01.welcome()"
   ]
  },
  {
   "cell_type": "code",
   "execution_count": 14,
   "id": "4b6cd9ce-f872-4757-b48d-5741d44e13c6",
   "metadata": {},
   "outputs": [
    {
     "name": "stdout",
     "output_type": "stream",
     "text": [
      "Welcome to Data Structures.\n"
     ]
    }
   ],
   "source": [
    "object_02.welcome()"
   ]
  },
  {
   "cell_type": "code",
   "execution_count": null,
   "id": "f03fb5d8-a65c-46fb-8564-e0d3fdea93f9",
   "metadata": {},
   "outputs": [],
   "source": []
  }
 ],
 "metadata": {
  "kernelspec": {
   "display_name": "Python 3 (ipykernel)",
   "language": "python",
   "name": "python3"
  },
  "language_info": {
   "codemirror_mode": {
    "name": "ipython",
    "version": 3
   },
   "file_extension": ".py",
   "mimetype": "text/x-python",
   "name": "python",
   "nbconvert_exporter": "python",
   "pygments_lexer": "ipython3",
   "version": "3.10.8"
  }
 },
 "nbformat": 4,
 "nbformat_minor": 5
}
