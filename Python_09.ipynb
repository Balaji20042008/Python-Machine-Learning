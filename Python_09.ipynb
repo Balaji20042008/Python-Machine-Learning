{
 "cells": [
  {
   "cell_type": "code",
   "execution_count": 8,
   "id": "f1a5687f-10bb-4440-9c61-f0ca427f0e9c",
   "metadata": {},
   "outputs": [],
   "source": [
    "def decorator(function) :\n",
    "    def inner_decorator():\n",
    "        print(\"This is the start of the function.\")\n",
    "        function()\n",
    "        print(\"This is the end of the function.\")\n",
    "    return inner_decorator"
   ]
  },
  {
   "cell_type": "code",
   "execution_count": 9,
   "id": "b659bb72-cff6-4a8b-a32e-cff7fbfadbe1",
   "metadata": {},
   "outputs": [],
   "source": [
    "import time\n",
    "def timer(function):\n",
    "    def inner_timer():\n",
    "        start = time.time()\n",
    "        function()\n",
    "        end = time.time()\n",
    "        print(\"Time Taken: \" + str(end-start))\n",
    "    return inner_timer"
   ]
  },
  {
   "cell_type": "code",
   "execution_count": 10,
   "id": "abba6e82-3845-4b4f-a2de-466443efd08d",
   "metadata": {},
   "outputs": [],
   "source": [
    "@decorator\n",
    "@timer\n",
    "def Addition() :\n",
    "    \n",
    "    a = 10\n",
    "    print(\"The value of 'a' is: \" + str(a))\n",
    "    \n",
    "    b = 20\n",
    "    print(\"The value of 'b' is: \" + str(b))\n",
    "    \n",
    "    print(\"Addition: \" + str(a + b))"
   ]
  },
  {
   "cell_type": "code",
   "execution_count": 11,
   "id": "7c26da06-f112-4f64-ae5e-f474ff04f48e",
   "metadata": {},
   "outputs": [
    {
     "name": "stdout",
     "output_type": "stream",
     "text": [
      "This is the start of the function.\n",
      "The value of 'a' is: 10\n",
      "The value of 'b' is: 20\n",
      "Addition: 30\n",
      "Time Taken: 2.1219253540039062e-05\n",
      "This is the end of the function.\n"
     ]
    }
   ],
   "source": [
    "Addition()"
   ]
  },
  {
   "cell_type": "code",
   "execution_count": 12,
   "id": "0de77735-a501-4479-9d9c-bbceac5e2ac0",
   "metadata": {},
   "outputs": [],
   "source": [
    "# class college :\n",
    "    \n",
    "#     def __init__ (self, name, roll_number, email_id,  phone_number, cgpa) :\n",
    "        \n",
    "#         self.name = name\n",
    "#         self.roll_number = roll_number\n",
    "#         self.email_id = email_id\n",
    "#         self.phone_number = phone_number\n",
    "#         self.cgpa = cgpa\n",
    "        \n",
    "#     def print_details (self) :\n",
    "        \n",
    "#         print (\"Name: \" + str (self.name))\n",
    "#         print (\"Roll Number: \" + str (self.roll_number))\n",
    "#         print (\"Email ID: \" + str (self.email_id))\n",
    "#         print (\"Phone Number: \" + str (self.phone_number))\n",
    "#         print (\"CGPA: \" + str (self.cgpa))"
   ]
  },
  {
   "cell_type": "code",
   "execution_count": 13,
   "id": "6a06518c-6f70-4cd6-b19a-f01d1593821a",
   "metadata": {},
   "outputs": [],
   "source": [
    "# student_01 = college (\"Balaji\", \"21CEB0B41\", \"mn21ceb0b41@student.nitw.ac.in\", 8688609730, 7.63)"
   ]
  },
  {
   "cell_type": "code",
   "execution_count": 14,
   "id": "60a09d25-2cad-43a3-9e22-6c949db3ccde",
   "metadata": {},
   "outputs": [],
   "source": [
    "# student_01.print_details()"
   ]
  },
  {
   "cell_type": "code",
   "execution_count": 157,
   "id": "da49d5ea-d336-450a-9648-df4c4492f648",
   "metadata": {},
   "outputs": [],
   "source": [
    "class college :\n",
    "    \n",
    "    def __init__ (self, name, roll_number, email_id,  phone_number, cgpa) :\n",
    "        \n",
    "        self.name = name\n",
    "        self.roll_number = roll_number\n",
    "        self.email_id = email_id\n",
    "        self.phone_number = phone_number\n",
    "        self.cgpa = cgpa\n",
    "        \n",
    "    @staticmethod\n",
    "    \n",
    "    def faculty () :\n",
    "        \n",
    "        list_faculty = [\"Rajesh Kumar\", \"Ramaseshu\", \"Gunneswara Rao\", \"Ramana Murthy\"]\n",
    "        \n",
    "        for i in list_faculty :\n",
    "            print(i)\n",
    "    \n",
    "    @classmethod\n",
    "    \n",
    "    def student_details (cls, name, roll_number, email_id, phone_number, cgpa) :\n",
    "        \n",
    "        cls.faculty()\n",
    "        return cls(name, roll_number, email_id, phone_number, cgpa)\n",
    "        \n",
    "    def print_details (self) :\n",
    "        \n",
    "        print (\"Name: \" + str (self.name))\n",
    "        print (\"Roll Number: \" + str (self.roll_number))\n",
    "        print (\"Email ID: \" + str (self.email_id))\n",
    "        print (\"Phone Number: \" + str (self.phone_number))\n",
    "        print (\"CGPA: \" + str (self.cgpa))\n",
    "        \n",
    "        self.faculty()"
   ]
  },
  {
   "cell_type": "code",
   "execution_count": 158,
   "id": "12584f35-52d2-4d1f-9265-6ec7d35e0ed7",
   "metadata": {},
   "outputs": [],
   "source": [
    "# passing details without creating an class object"
   ]
  },
  {
   "cell_type": "code",
   "execution_count": 159,
   "id": "a9e0ce3d-9f73-4bb5-92f0-6ed5a745c2e3",
   "metadata": {},
   "outputs": [
    {
     "name": "stdout",
     "output_type": "stream",
     "text": [
      "Rajesh Kumar\n",
      "Ramaseshu\n",
      "Gunneswara Rao\n",
      "Ramana Murthy\n"
     ]
    },
    {
     "data": {
      "text/plain": [
       "<__main__.college at 0x7f6e1c1e24a0>"
      ]
     },
     "execution_count": 159,
     "metadata": {},
     "output_type": "execute_result"
    }
   ],
   "source": [
    "college.student_details(\"Balaji\", \"21CEB0B41\", \"mn21ceb0b41@student.nitw.ac.in\", 8688609730, 7.63)"
   ]
  },
  {
   "cell_type": "code",
   "execution_count": 160,
   "id": "5765c862-7030-4c9d-9da3-3bb56442a708",
   "metadata": {},
   "outputs": [
    {
     "name": "stdout",
     "output_type": "stream",
     "text": [
      "Rajesh Kumar\n",
      "Ramaseshu\n",
      "Gunneswara Rao\n",
      "Ramana Murthy\n"
     ]
    }
   ],
   "source": [
    "college.faculty()"
   ]
  },
  {
   "cell_type": "code",
   "execution_count": 161,
   "id": "3376ddf3-103d-425e-a62e-8b3cc3e310dc",
   "metadata": {},
   "outputs": [],
   "source": [
    "# storing details in a variable"
   ]
  },
  {
   "cell_type": "code",
   "execution_count": 162,
   "id": "ca5755ba-27db-4983-bfd1-a21b05579939",
   "metadata": {},
   "outputs": [
    {
     "name": "stdout",
     "output_type": "stream",
     "text": [
      "Rajesh Kumar\n",
      "Ramaseshu\n",
      "Gunneswara Rao\n",
      "Ramana Murthy\n"
     ]
    }
   ],
   "source": [
    "student_01 = college.student_details(\"Balaji\", \"21CEB0B41\", \"mn21ceb0b41@student.nitw.ac.in\", 8688609730, 7.63)"
   ]
  },
  {
   "cell_type": "code",
   "execution_count": 163,
   "id": "a895f99c-4736-44dc-9b66-98a078d9ecfa",
   "metadata": {},
   "outputs": [
    {
     "data": {
      "text/plain": [
       "'Balaji'"
      ]
     },
     "execution_count": 163,
     "metadata": {},
     "output_type": "execute_result"
    }
   ],
   "source": [
    "student_01.name"
   ]
  },
  {
   "cell_type": "code",
   "execution_count": 164,
   "id": "759a6b74-d33c-4bce-a065-b57906620a06",
   "metadata": {},
   "outputs": [
    {
     "data": {
      "text/plain": [
       "'21CEB0B41'"
      ]
     },
     "execution_count": 164,
     "metadata": {},
     "output_type": "execute_result"
    }
   ],
   "source": [
    "student_01.roll_number"
   ]
  },
  {
   "cell_type": "code",
   "execution_count": 165,
   "id": "f2b788d7-4114-44f8-a5f0-c6f1695b9aab",
   "metadata": {},
   "outputs": [
    {
     "data": {
      "text/plain": [
       "'mn21ceb0b41@student.nitw.ac.in'"
      ]
     },
     "execution_count": 165,
     "metadata": {},
     "output_type": "execute_result"
    }
   ],
   "source": [
    "student_01.email_id"
   ]
  },
  {
   "cell_type": "code",
   "execution_count": 166,
   "id": "2c40ef85-acc7-44a3-914c-a313876ea40e",
   "metadata": {},
   "outputs": [
    {
     "data": {
      "text/plain": [
       "8688609730"
      ]
     },
     "execution_count": 166,
     "metadata": {},
     "output_type": "execute_result"
    }
   ],
   "source": [
    "student_01.phone_number"
   ]
  },
  {
   "cell_type": "code",
   "execution_count": 167,
   "id": "60631b3b-b606-4500-bbc5-d5e28bad0c4a",
   "metadata": {},
   "outputs": [
    {
     "data": {
      "text/plain": [
       "7.63"
      ]
     },
     "execution_count": 167,
     "metadata": {},
     "output_type": "execute_result"
    }
   ],
   "source": [
    "student_01.cgpa"
   ]
  },
  {
   "cell_type": "code",
   "execution_count": 168,
   "id": "1287a469-e7e7-45c3-bb37-0a6a589c847a",
   "metadata": {},
   "outputs": [
    {
     "name": "stdout",
     "output_type": "stream",
     "text": [
      "Name: Balaji\n",
      "Roll Number: 21CEB0B41\n",
      "Email ID: mn21ceb0b41@student.nitw.ac.in\n",
      "Phone Number: 8688609730\n",
      "CGPA: 7.63\n",
      "Rajesh Kumar\n",
      "Ramaseshu\n",
      "Gunneswara Rao\n",
      "Ramana Murthy\n"
     ]
    }
   ],
   "source": [
    "student_01.print_details()"
   ]
  },
  {
   "cell_type": "code",
   "execution_count": 169,
   "id": "df29054e-73f6-4399-9ec2-78691a9ca45a",
   "metadata": {},
   "outputs": [
    {
     "name": "stdout",
     "output_type": "stream",
     "text": [
      "Rajesh Kumar\n",
      "Ramaseshu\n",
      "Gunneswara Rao\n",
      "Ramana Murthy\n"
     ]
    }
   ],
   "source": [
    "student_01.faculty()"
   ]
  },
  {
   "cell_type": "code",
   "execution_count": 170,
   "id": "1d6f207c-dc63-4f07-8593-991259f8a24c",
   "metadata": {},
   "outputs": [
    {
     "name": "stdout",
     "output_type": "stream",
     "text": [
      "Rajesh Kumar\n",
      "Ramaseshu\n",
      "Gunneswara Rao\n",
      "Ramana Murthy\n"
     ]
    }
   ],
   "source": [
    "student_02 = college.student_details(\"Rahul\", \"21CEB0B58\", \"rk21ceb0b58@student.nitw.ac.in\", 7036747555, 8.28)"
   ]
  },
  {
   "cell_type": "code",
   "execution_count": 171,
   "id": "e80992bf-6671-4ceb-b744-16bd87c09534",
   "metadata": {},
   "outputs": [
    {
     "data": {
      "text/plain": [
       "'Balaji'"
      ]
     },
     "execution_count": 171,
     "metadata": {},
     "output_type": "execute_result"
    }
   ],
   "source": [
    "student_01.name"
   ]
  },
  {
   "cell_type": "code",
   "execution_count": 172,
   "id": "5289ceca-344f-429a-bb3b-10784b5920f2",
   "metadata": {},
   "outputs": [
    {
     "data": {
      "text/plain": [
       "'Rahul'"
      ]
     },
     "execution_count": 172,
     "metadata": {},
     "output_type": "execute_result"
    }
   ],
   "source": [
    "student_02.name"
   ]
  },
  {
   "cell_type": "code",
   "execution_count": 173,
   "id": "15120d63-1534-4d75-8900-b3984664200e",
   "metadata": {
    "tags": []
   },
   "outputs": [
    {
     "name": "stdout",
     "output_type": "stream",
     "text": [
      "Name: Balaji\n",
      "Roll Number: 21CEB0B41\n",
      "Email ID: mn21ceb0b41@student.nitw.ac.in\n",
      "Phone Number: 8688609730\n",
      "CGPA: 7.63\n",
      "Rajesh Kumar\n",
      "Ramaseshu\n",
      "Gunneswara Rao\n",
      "Ramana Murthy\n"
     ]
    }
   ],
   "source": [
    "student_01.print_details()"
   ]
  },
  {
   "cell_type": "code",
   "execution_count": 174,
   "id": "86453fa4-f788-4b3f-a9e4-8cc9b1999a6f",
   "metadata": {},
   "outputs": [
    {
     "name": "stdout",
     "output_type": "stream",
     "text": [
      "Name: Rahul\n",
      "Roll Number: 21CEB0B58\n",
      "Email ID: rk21ceb0b58@student.nitw.ac.in\n",
      "Phone Number: 7036747555\n",
      "CGPA: 8.28\n",
      "Rajesh Kumar\n",
      "Ramaseshu\n",
      "Gunneswara Rao\n",
      "Ramana Murthy\n"
     ]
    }
   ],
   "source": [
    "student_02.print_details()"
   ]
  },
  {
   "cell_type": "code",
   "execution_count": 175,
   "id": "6c7d7ed1-0f95-4bd9-9101-afd5f2b103b2",
   "metadata": {},
   "outputs": [
    {
     "name": "stdout",
     "output_type": "stream",
     "text": [
      "Rajesh Kumar\n",
      "Ramaseshu\n",
      "Gunneswara Rao\n",
      "Ramana Murthy\n"
     ]
    }
   ],
   "source": [
    "student_02.faculty()"
   ]
  },
  {
   "cell_type": "code",
   "execution_count": 76,
   "id": "c8dde9f5-6691-4e37-8916-1a93b725c304",
   "metadata": {},
   "outputs": [],
   "source": [
    "# class college :\n",
    "    \n",
    "#     branch = \"Civil Engineering\"\n",
    "#     hod = \"T.D. Gunneswara Rao\"\n",
    "    \n",
    "#     def __init__ (self, name, roll_number, email_id,  phone_number, cgpa) :\n",
    "        \n",
    "#         self.name = name\n",
    "#         self.roll_number = roll_number\n",
    "#         self.email_id = email_id\n",
    "#         self.phone_number = phone_number\n",
    "#         self.cgpa = cgpa\n",
    "        \n",
    "#     @classmethod\n",
    "    \n",
    "#     def change_details (cls, branch, hod) :\n",
    "        \n",
    "#         college.branch = branch\n",
    "#         college.hod = hod\n",
    "    \n",
    "#     @classmethod\n",
    "    \n",
    "#     def student_details (cls, name, roll_number, email_id, phone_number, cgpa) :\n",
    "        \n",
    "#         return cls(name, roll_number, email_id, phone_number, cgpa)\n",
    "        \n",
    "#     def print_details (self) :\n",
    "        \n",
    "#         print (\"Name: \" + str (self.name))\n",
    "#         print (\"Branch: \" + str (college.branch))\n",
    "#         print (\"Roll Number: \" + str (self.roll_number))\n",
    "#         print (\"Email ID: \" + str (self.email_id))\n",
    "#         print (\"Phone Number: \" + str (self.phone_number))\n",
    "#         print (\"CGPA: \" + str (self.cgpa))\n",
    "#         print (\"HOD: \" + str (college.hod))"
   ]
  },
  {
   "cell_type": "code",
   "execution_count": 57,
   "id": "a04ad52c-aa43-4425-a581-b4e8a3131af9",
   "metadata": {},
   "outputs": [],
   "source": [
    "# accessing the class variables with a class object"
   ]
  },
  {
   "cell_type": "code",
   "execution_count": 77,
   "id": "3508ffbb-001f-4381-aa9b-a0cb13f6040c",
   "metadata": {},
   "outputs": [],
   "source": [
    "# student_01 = college (\"Balaji\", \"21CEB0B41\", \"mn21ceb0b41@student.nitw.ac.in\", 8688609730, 7.63)"
   ]
  },
  {
   "cell_type": "code",
   "execution_count": 78,
   "id": "e3d0c2b2-d299-41e7-8d6c-c1f86dcda316",
   "metadata": {},
   "outputs": [],
   "source": [
    "# student_01.print_details()"
   ]
  },
  {
   "cell_type": "code",
   "execution_count": 58,
   "id": "9b2a59aa-d510-4082-8b41-79b068a9a21b",
   "metadata": {},
   "outputs": [],
   "source": [
    "# accessing the class variables without a class object"
   ]
  },
  {
   "cell_type": "code",
   "execution_count": 79,
   "id": "642339f1-6aed-44fc-a9c5-5467348d43ed",
   "metadata": {},
   "outputs": [],
   "source": [
    "# student = college.student_details(\"Balaji\", \"21CEB0B41\", \"mn21ceb0b41@student.nitw.ac.in\", 8688609730, 7.63)"
   ]
  },
  {
   "cell_type": "code",
   "execution_count": 80,
   "id": "491a5626-75db-4d24-a9f9-b64ee23ebe0c",
   "metadata": {},
   "outputs": [],
   "source": [
    "# student.print_details()"
   ]
  },
  {
   "cell_type": "code",
   "execution_count": 64,
   "id": "3bf3eb8a-9d70-4973-adfc-cc697e48a347",
   "metadata": {},
   "outputs": [],
   "source": [
    "# changing the data present in the class variables"
   ]
  },
  {
   "cell_type": "code",
   "execution_count": 81,
   "id": "bd6b16ca-3105-4a47-b000-14549ebb8a8d",
   "metadata": {},
   "outputs": [],
   "source": [
    "# college.change_details(\"Concrete Technology\", \"G. Rajesh Kumar\")"
   ]
  },
  {
   "cell_type": "code",
   "execution_count": 82,
   "id": "06cb4277-17c0-4cee-a3a7-9f858c1d58b9",
   "metadata": {},
   "outputs": [],
   "source": [
    "# student_01.print_details()"
   ]
  },
  {
   "cell_type": "code",
   "execution_count": 83,
   "id": "31d9c69c-cdd0-4b48-919a-dce2adbf2bf3",
   "metadata": {},
   "outputs": [],
   "source": [
    "# student.print_details()"
   ]
  },
  {
   "cell_type": "code",
   "execution_count": 84,
   "id": "a9cd9427-969e-4db8-b339-33554db8eb4a",
   "metadata": {},
   "outputs": [],
   "source": [
    "# def course (cls, name, faculty) :\n",
    "    \n",
    "#     print (\"Name: \" + str(name))\n",
    "#     print (\"Faculty: \" + str(faculty))"
   ]
  },
  {
   "cell_type": "code",
   "execution_count": 85,
   "id": "1ed0467e-926a-4ce7-b65c-5ac0e3ac16bf",
   "metadata": {},
   "outputs": [],
   "source": [
    "# college.course(\"Foundation Analysis & Design\", \"P. Hari Krishna\")"
   ]
  },
  {
   "cell_type": "code",
   "execution_count": 86,
   "id": "129d8baf-ebc8-4332-b9f0-7b272ed7b620",
   "metadata": {},
   "outputs": [],
   "source": [
    "# del college.change_details"
   ]
  },
  {
   "cell_type": "code",
   "execution_count": 87,
   "id": "33555a14-9e98-4dd1-b276-632581fe1ee1",
   "metadata": {},
   "outputs": [],
   "source": [
    "# delattr (college, \"student_details\")"
   ]
  },
  {
   "cell_type": "code",
   "execution_count": 88,
   "id": "2da6b632-8c46-4a52-8d7c-c709a594d90a",
   "metadata": {},
   "outputs": [],
   "source": [
    "# delattr (college, \"hod\")"
   ]
  },
  {
   "cell_type": "code",
   "execution_count": 89,
   "id": "8bdc4f26-7425-4411-ad14-2f545dc71171",
   "metadata": {},
   "outputs": [],
   "source": [
    "# delattr (college, \"branch\")"
   ]
  },
  {
   "cell_type": "code",
   "execution_count": 90,
   "id": "01d2a7af-61c6-4b0d-8f53-06ccc35e95e4",
   "metadata": {},
   "outputs": [],
   "source": [
    "# delattr (college, \"print_details\")"
   ]
  },
  {
   "cell_type": "code",
   "execution_count": 91,
   "id": "2a5e7245-b812-4364-b3b0-79b8c13bbce1",
   "metadata": {},
   "outputs": [],
   "source": [
    "# del college.course"
   ]
  },
  {
   "cell_type": "code",
   "execution_count": 34,
   "id": "05555357-80b3-4038-8714-2a03de4e0c74",
   "metadata": {},
   "outputs": [],
   "source": [
    "# dir(int)"
   ]
  },
  {
   "cell_type": "code",
   "execution_count": 35,
   "id": "1950a420-6b22-48d3-87fc-395b3428fa7e",
   "metadata": {},
   "outputs": [],
   "source": [
    "# dir(list)"
   ]
  },
  {
   "cell_type": "code",
   "execution_count": 4,
   "id": "0f72df37-435e-4a91-b577-c8f4376fa237",
   "metadata": {},
   "outputs": [],
   "source": [
    "a = 10\n",
    "b = 20"
   ]
  },
  {
   "cell_type": "code",
   "execution_count": 5,
   "id": "fbbc24cb-86f4-4471-baa3-f830c56aaca3",
   "metadata": {},
   "outputs": [
    {
     "name": "stdout",
     "output_type": "stream",
     "text": [
      "Addition: 30\n"
     ]
    }
   ],
   "source": [
    "print(\"Addition: \" + str(a+b))"
   ]
  },
  {
   "cell_type": "code",
   "execution_count": 7,
   "id": "95c34792-f023-4fa4-82cf-4ac4600a5017",
   "metadata": {},
   "outputs": [
    {
     "name": "stdout",
     "output_type": "stream",
     "text": [
      "Addition: 30\n"
     ]
    }
   ],
   "source": [
    "print(\"Addition: \" + str(a.__add__(b)))"
   ]
  },
  {
   "cell_type": "code",
   "execution_count": 30,
   "id": "73661853-8816-4e61-903f-eff43f3f0882",
   "metadata": {},
   "outputs": [],
   "source": [
    "class college :\n",
    "    \n",
    "#     def __new__ (cls, name, roll_number, email_id, phone_number, cgpa) :\n",
    "        \n",
    "#         print(\"This is new function.\")\n",
    "        \n",
    "#         cls.name = name\n",
    "#         cls.roll_number = roll_number\n",
    "#         cls.email_id = email_id\n",
    "#         cls.phone_number = phone_number\n",
    "#         cls.cgpa = cgpa\n",
    "    \n",
    "    def __init__ (self, name, roll_number, email_id, phone_number, cgpa) :\n",
    "        \n",
    "        print(\"This is init function.\")\n",
    "        \n",
    "        self.name = name\n",
    "        self.roll_number = roll_number\n",
    "        self.email_id = email_id\n",
    "        self.phone_number = phone_number\n",
    "        self.cgpa = cgpa\n",
    "    \n",
    "    def __str__ (self) :\n",
    "        \n",
    "        return \"This is a magic call for string.\""
   ]
  },
  {
   "cell_type": "code",
   "execution_count": 31,
   "id": "6d51396d-cb60-4fd4-8a8f-fb3c73a10300",
   "metadata": {},
   "outputs": [
    {
     "name": "stdout",
     "output_type": "stream",
     "text": [
      "This is init function.\n"
     ]
    }
   ],
   "source": [
    "student_01 = college(\"Balaji\", \"21CEB0B41\", \"mn21ceb0b41@student.nitw.ac.in\", 8688609730, 7.63)"
   ]
  },
  {
   "cell_type": "code",
   "execution_count": 32,
   "id": "626f2b6f-ebf5-49d9-b30b-68b767b7125e",
   "metadata": {},
   "outputs": [
    {
     "data": {
      "text/plain": [
       "<__main__.college at 0x7f39fc6a77f0>"
      ]
     },
     "execution_count": 32,
     "metadata": {},
     "output_type": "execute_result"
    }
   ],
   "source": [
    "student_01"
   ]
  },
  {
   "cell_type": "code",
   "execution_count": 33,
   "id": "c0f68101-c537-46d2-af98-f6ad00b7424a",
   "metadata": {},
   "outputs": [
    {
     "name": "stdout",
     "output_type": "stream",
     "text": [
      "This is a magic call for string.\n"
     ]
    }
   ],
   "source": [
    "print(student_01)"
   ]
  },
  {
   "cell_type": "code",
   "execution_count": 50,
   "id": "7ec4c9ca-b005-4f4a-be07-3f8d7bc0ea27",
   "metadata": {},
   "outputs": [],
   "source": [
    "class coaching :\n",
    "    \n",
    "    def __init__ (self, name, fees) :\n",
    "        \n",
    "        self.name = name\n",
    "        self.__fees = fees\n",
    "        \n",
    "    @property\n",
    "    \n",
    "    def price_access (self) :\n",
    "        \n",
    "        return self.__fees\n",
    "    \n",
    "    @price_access.setter\n",
    "    \n",
    "    def price_modify (self, price) :\n",
    "        \n",
    "        if price < self.__fees :\n",
    "            pass\n",
    "        else :\n",
    "            self.__fees = price\n",
    "            \n",
    "    @price_access.deleter\n",
    "    \n",
    "    def delete_course (self) :\n",
    "        \n",
    "        del self.__fees"
   ]
  },
  {
   "cell_type": "code",
   "execution_count": 51,
   "id": "86240a0c-075f-4e2e-8a3d-c5c30f967cd3",
   "metadata": {},
   "outputs": [],
   "source": [
    "course_01 = coaching(\"Data Science\", 3500)"
   ]
  },
  {
   "cell_type": "code",
   "execution_count": 52,
   "id": "435a7627-e9cc-4270-8ed6-6a548371640e",
   "metadata": {},
   "outputs": [
    {
     "data": {
      "text/plain": [
       "'Data Science'"
      ]
     },
     "execution_count": 52,
     "metadata": {},
     "output_type": "execute_result"
    }
   ],
   "source": [
    "course_01.name"
   ]
  },
  {
   "cell_type": "code",
   "execution_count": 53,
   "id": "02bb7c89-08e4-481e-a81c-ddd8f357f5a2",
   "metadata": {},
   "outputs": [
    {
     "data": {
      "text/plain": [
       "3500"
      ]
     },
     "execution_count": 53,
     "metadata": {},
     "output_type": "execute_result"
    }
   ],
   "source": [
    "course_01.price_access"
   ]
  },
  {
   "cell_type": "code",
   "execution_count": 54,
   "id": "addfa67f-6718-4313-90cf-5b6dfca6432d",
   "metadata": {},
   "outputs": [],
   "source": [
    "course_01.price_modify = 4500"
   ]
  },
  {
   "cell_type": "code",
   "execution_count": 55,
   "id": "21e5dd14-cbd2-4d79-9998-e103b9bfce10",
   "metadata": {},
   "outputs": [
    {
     "data": {
      "text/plain": [
       "4500"
      ]
     },
     "execution_count": 55,
     "metadata": {},
     "output_type": "execute_result"
    }
   ],
   "source": [
    "course_01.price_access"
   ]
  },
  {
   "cell_type": "code",
   "execution_count": 58,
   "id": "927d03d6-1068-41da-8193-9a6e41bddef8",
   "metadata": {},
   "outputs": [],
   "source": [
    "del course_01.delete_course"
   ]
  },
  {
   "cell_type": "code",
   "execution_count": null,
   "id": "7c90054d-84b6-4ca7-ba03-ec429fed3433",
   "metadata": {},
   "outputs": [],
   "source": []
  }
 ],
 "metadata": {
  "kernelspec": {
   "display_name": "Python 3 (ipykernel)",
   "language": "python",
   "name": "python3"
  },
  "language_info": {
   "codemirror_mode": {
    "name": "ipython",
    "version": 3
   },
   "file_extension": ".py",
   "mimetype": "text/x-python",
   "name": "python",
   "nbconvert_exporter": "python",
   "pygments_lexer": "ipython3",
   "version": "3.10.8"
  }
 },
 "nbformat": 4,
 "nbformat_minor": 5
}
