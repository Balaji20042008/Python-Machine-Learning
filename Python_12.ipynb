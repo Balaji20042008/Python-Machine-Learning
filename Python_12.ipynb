{
 "cells": [
  {
   "cell_type": "code",
   "execution_count": 1,
   "id": "021a1780-3eed-4142-8973-f2afc4f9809e",
   "metadata": {},
   "outputs": [],
   "source": [
    "import logging"
   ]
  },
  {
   "cell_type": "code",
   "execution_count": 2,
   "id": "54aa2894-bce2-4a65-beda-dc295f9b1af1",
   "metadata": {},
   "outputs": [],
   "source": [
    "logging.basicConfig(filename = \"test_01.log\", level = logging.INFO)"
   ]
  },
  {
   "cell_type": "code",
   "execution_count": 3,
   "id": "2b412c6c-2967-4ef3-bacd-b07920147e3c",
   "metadata": {},
   "outputs": [],
   "source": [
    "logging.info(\"This is a info message.\")"
   ]
  },
  {
   "cell_type": "code",
   "execution_count": 4,
   "id": "c47bcf05-5657-4362-b1d9-06afa0d5e59b",
   "metadata": {},
   "outputs": [],
   "source": [
    "logging.warning(\"This is a warning message.\")"
   ]
  },
  {
   "cell_type": "code",
   "execution_count": 5,
   "id": "f49bff3b-93d6-4bb0-94ea-f39bcfc08f44",
   "metadata": {},
   "outputs": [],
   "source": [
    "logging.error(\"This is a error message.\")"
   ]
  },
  {
   "cell_type": "code",
   "execution_count": 6,
   "id": "519dd658-8b8e-4620-81ce-21c0ddbccabf",
   "metadata": {},
   "outputs": [],
   "source": [
    "logging.critical(\"This is a critical message.\")"
   ]
  },
  {
   "cell_type": "code",
   "execution_count": 7,
   "id": "7bb9f7e4-ea20-4308-a3b2-92c483ef27b4",
   "metadata": {},
   "outputs": [],
   "source": [
    "logging.shutdown()"
   ]
  },
  {
   "cell_type": "code",
   "execution_count": 8,
   "id": "e2265197-f472-494a-b1af-b47563bbda5a",
   "metadata": {},
   "outputs": [],
   "source": [
    "import logging"
   ]
  },
  {
   "cell_type": "code",
   "execution_count": 9,
   "id": "948e58f8-2bcb-4a97-a83c-467cdad97a6c",
   "metadata": {},
   "outputs": [],
   "source": [
    "logging.basicConfig(filename = \"test_01.log\", level = logging.DEBUG, format = \"%(asctime)s %(name)s %(levelname)s %(message)s\")"
   ]
  },
  {
   "cell_type": "code",
   "execution_count": 10,
   "id": "2d66d2ca-206a-4eee-8f5f-eb79dbe38683",
   "metadata": {},
   "outputs": [],
   "source": [
    "logging.info(\"This is a info message.\")"
   ]
  },
  {
   "cell_type": "code",
   "execution_count": 11,
   "id": "5d2b7aa9-59fa-4922-b13f-755a56c1edeb",
   "metadata": {},
   "outputs": [],
   "source": [
    "logging.warning(\"This is a warning message.\")"
   ]
  },
  {
   "cell_type": "code",
   "execution_count": 12,
   "id": "a8bcb9c9-fdf2-474d-867a-92b36218bf6d",
   "metadata": {},
   "outputs": [],
   "source": [
    "logging.error(\"This is a error message.\")"
   ]
  },
  {
   "cell_type": "code",
   "execution_count": 13,
   "id": "91129e3e-204b-43d4-9a5a-bb787fa1a463",
   "metadata": {},
   "outputs": [],
   "source": [
    "logging.critical(\"This is a critical message.\")"
   ]
  },
  {
   "cell_type": "code",
   "execution_count": 14,
   "id": "6d2993ff-0c31-4aa9-819b-b7289d9ff53a",
   "metadata": {},
   "outputs": [],
   "source": [
    "list_01 = [12, 24, 36, 48, 60, \"Balaji\", \"Srinivas\", \"Rahul\"]"
   ]
  },
  {
   "cell_type": "code",
   "execution_count": 15,
   "id": "1014b689-40f5-43c6-9d55-db30e4538e4c",
   "metadata": {},
   "outputs": [],
   "source": [
    "list_int = []\n",
    "list_str = []"
   ]
  },
  {
   "cell_type": "code",
   "execution_count": 16,
   "id": "b9bd9063-c2e3-49fd-be04-36acc1bbfc0a",
   "metadata": {},
   "outputs": [],
   "source": [
    "for i in range(0, len(list_01)) :\n",
    "    \n",
    "    logging.info(\"i = \" + str(i))\n",
    "    \n",
    "    if type(list_01[i]) == int :\n",
    "        \n",
    "        logging.info(\"list_01[\" + str(i) + \"] is of integer data type.\")\n",
    "        logging.info(\"appending list_01[\" + str(i) + \"] = \" + str(list_01[i]) + \" into list_int\")\n",
    "        list_int.append(list_01[i])\n",
    "        \n",
    "    elif type(list_01[i]) == str :\n",
    "        \n",
    "        logging.info(\"list_01[\" + str(i) + \"] is of string data type.\")\n",
    "        logging.info(\"appending list_01[\" + str(i) + \"] = \" + str(list_01[i]) + \" into list_str\")\n",
    "        list_str.append(list_01[i])\n",
    "        \n",
    "    else :\n",
    "        pass\n",
    "else :\n",
    "    \n",
    "    logging.info(\"The code is executed successfully.\")"
   ]
  },
  {
   "cell_type": "code",
   "execution_count": 17,
   "id": "8eff5bec-54de-4146-a390-38c940e99609",
   "metadata": {},
   "outputs": [
    {
     "data": {
      "text/plain": [
       "[12, 24, 36, 48, 60]"
      ]
     },
     "execution_count": 17,
     "metadata": {},
     "output_type": "execute_result"
    }
   ],
   "source": [
    "list_int"
   ]
  },
  {
   "cell_type": "code",
   "execution_count": 18,
   "id": "0d8d3634-b0c7-40b8-9991-635ebc61c475",
   "metadata": {},
   "outputs": [
    {
     "data": {
      "text/plain": [
       "['Balaji', 'Srinivas', 'Rahul']"
      ]
     },
     "execution_count": 18,
     "metadata": {},
     "output_type": "execute_result"
    }
   ],
   "source": [
    "list_str"
   ]
  },
  {
   "cell_type": "code",
   "execution_count": null,
   "id": "5700902c-413b-40c7-9a1f-7954a1e9e765",
   "metadata": {},
   "outputs": [],
   "source": []
  }
 ],
 "metadata": {
  "kernelspec": {
   "display_name": "Python 3 (ipykernel)",
   "language": "python",
   "name": "python3"
  },
  "language_info": {
   "codemirror_mode": {
    "name": "ipython",
    "version": 3
   },
   "file_extension": ".py",
   "mimetype": "text/x-python",
   "name": "python",
   "nbconvert_exporter": "python",
   "pygments_lexer": "ipython3",
   "version": "3.10.8"
  }
 },
 "nbformat": 4,
 "nbformat_minor": 5
}
