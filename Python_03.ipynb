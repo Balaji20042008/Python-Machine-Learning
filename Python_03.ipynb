{
 "cells": [
  {
   "cell_type": "code",
   "execution_count": 2,
   "id": "3076d247-1619-4375-965f-0ac0d1b7421b",
   "metadata": {},
   "outputs": [],
   "source": [
    "lists = [1, 1.00, \"1\", True, 1+1j]"
   ]
  },
  {
   "cell_type": "code",
   "execution_count": 3,
   "id": "30e5bdf3-dbe6-4d43-91d9-86f0628b5555",
   "metadata": {},
   "outputs": [
    {
     "name": "stdout",
     "output_type": "stream",
     "text": [
      "<class 'int'>\n",
      "<class 'float'>\n",
      "<class 'str'>\n",
      "<class 'bool'>\n",
      "<class 'complex'>\n",
      "The for loop is executed successfully.\n"
     ]
    }
   ],
   "source": [
    "for i in lists:\n",
    "    print(type(i))\n",
    "else :\n",
    "    print(\"The for loop is executed successfully.\")"
   ]
  },
  {
   "cell_type": "code",
   "execution_count": 6,
   "id": "6f758778-61b7-4da8-b285-28de56777c6c",
   "metadata": {},
   "outputs": [
    {
     "data": {
      "text/plain": [
       "[1, 1.0, '1']"
      ]
     },
     "execution_count": 6,
     "metadata": {},
     "output_type": "execute_result"
    }
   ],
   "source": [
    "lists[0:3]"
   ]
  },
  {
   "cell_type": "code",
   "execution_count": 7,
   "id": "51f23899-d93e-4282-b0cb-e7a8e3afd6a3",
   "metadata": {},
   "outputs": [
    {
     "data": {
      "text/plain": [
       "[1.0, True]"
      ]
     },
     "execution_count": 7,
     "metadata": {},
     "output_type": "execute_result"
    }
   ],
   "source": [
    "lists[1:4:2]"
   ]
  },
  {
   "cell_type": "code",
   "execution_count": 8,
   "id": "9d76933f-0820-4395-9879-dd5a89159b2a",
   "metadata": {},
   "outputs": [
    {
     "data": {
      "text/plain": [
       "[]"
      ]
     },
     "execution_count": 8,
     "metadata": {},
     "output_type": "execute_result"
    }
   ],
   "source": [
    "lists[-5:0:1]"
   ]
  },
  {
   "cell_type": "code",
   "execution_count": 9,
   "id": "fdc86271-c178-44d3-beb9-75f85ba9eb41",
   "metadata": {},
   "outputs": [
    {
     "data": {
      "text/plain": [
       "[(1+1j), True, '1', 1.0, 1]"
      ]
     },
     "execution_count": 9,
     "metadata": {},
     "output_type": "execute_result"
    }
   ],
   "source": [
    "lists[-1:-6:-1]"
   ]
  },
  {
   "cell_type": "code",
   "execution_count": 10,
   "id": "4bd0fd3b-acf2-4ed4-b2c4-b6019e89fd94",
   "metadata": {},
   "outputs": [
    {
     "data": {
      "text/plain": [
       "[1, 1.0, '1', True]"
      ]
     },
     "execution_count": 10,
     "metadata": {},
     "output_type": "execute_result"
    }
   ],
   "source": [
    "lists[-5:-1:1]"
   ]
  },
  {
   "cell_type": "code",
   "execution_count": 11,
   "id": "78645ae5-6ee0-48c2-913b-0c7160e57f32",
   "metadata": {},
   "outputs": [
    {
     "data": {
      "text/plain": [
       "[1, 1.0, '1', True, (1+1j)]"
      ]
     },
     "execution_count": 11,
     "metadata": {},
     "output_type": "execute_result"
    }
   ],
   "source": [
    "lists[-5:7:1]"
   ]
  },
  {
   "cell_type": "code",
   "execution_count": 12,
   "id": "6b59e51b-d6f3-454f-9f37-56b90d8c0151",
   "metadata": {},
   "outputs": [
    {
     "data": {
      "text/plain": [
       "[]"
      ]
     },
     "execution_count": 12,
     "metadata": {},
     "output_type": "execute_result"
    }
   ],
   "source": [
    "lists[-3:1:1]"
   ]
  },
  {
   "cell_type": "code",
   "execution_count": 13,
   "id": "d583d1b8-190a-4e88-a617-323099b7bb59",
   "metadata": {},
   "outputs": [
    {
     "data": {
      "text/plain": [
       "['1']"
      ]
     },
     "execution_count": 13,
     "metadata": {},
     "output_type": "execute_result"
    }
   ],
   "source": [
    "lists[-3:1:-1]"
   ]
  },
  {
   "cell_type": "code",
   "execution_count": 14,
   "id": "c5e4de41-a6ff-4da0-bd69-ea97e245aaf4",
   "metadata": {},
   "outputs": [
    {
     "data": {
      "text/plain": [
       "[]"
      ]
     },
     "execution_count": 14,
     "metadata": {},
     "output_type": "execute_result"
    }
   ],
   "source": [
    "lists[-2:1:1]"
   ]
  },
  {
   "cell_type": "code",
   "execution_count": 15,
   "id": "a8221b1e-bf89-4d1e-b16e-da93c781f675",
   "metadata": {},
   "outputs": [
    {
     "data": {
      "text/plain": [
       "[1.0, '1']"
      ]
     },
     "execution_count": 15,
     "metadata": {},
     "output_type": "execute_result"
    }
   ],
   "source": [
    "lists[1:-2:1]"
   ]
  },
  {
   "cell_type": "code",
   "execution_count": 19,
   "id": "7c022daa-8c2f-4033-870f-fee1adfc03e5",
   "metadata": {},
   "outputs": [
    {
     "data": {
      "text/plain": [
       "[1, '1', (1+1j)]"
      ]
     },
     "execution_count": 19,
     "metadata": {},
     "output_type": "execute_result"
    }
   ],
   "source": [
    "lists[0:5:2]"
   ]
  },
  {
   "cell_type": "code",
   "execution_count": 20,
   "id": "08c1d646-f91a-4a7d-ba8a-0afe0e102c35",
   "metadata": {},
   "outputs": [
    {
     "data": {
      "text/plain": [
       "[(1+1j), True, '1', 1.0, 1]"
      ]
     },
     "execution_count": 20,
     "metadata": {},
     "output_type": "execute_result"
    }
   ],
   "source": [
    "lists[-1:-6:-1]"
   ]
  },
  {
   "cell_type": "code",
   "execution_count": 21,
   "id": "8fcf766c-f5e7-4617-9a99-6728e4351863",
   "metadata": {},
   "outputs": [
    {
     "data": {
      "text/plain": [
       "[1.0, True]"
      ]
     },
     "execution_count": 21,
     "metadata": {},
     "output_type": "execute_result"
    }
   ],
   "source": [
    "lists[1:5:2]"
   ]
  },
  {
   "cell_type": "code",
   "execution_count": 22,
   "id": "71aba582-b3c2-4b22-be8d-3f4045e43275",
   "metadata": {},
   "outputs": [
    {
     "data": {
      "text/plain": [
       "[1, '1', (1+1j)]"
      ]
     },
     "execution_count": 22,
     "metadata": {},
     "output_type": "execute_result"
    }
   ],
   "source": [
    "lists[0:5:2]"
   ]
  },
  {
   "cell_type": "code",
   "execution_count": 23,
   "id": "901e0bf4-d994-4d19-a957-6768568cc9e4",
   "metadata": {},
   "outputs": [
    {
     "data": {
      "text/plain": [
       "['1', (1+1j)]"
      ]
     },
     "execution_count": 23,
     "metadata": {},
     "output_type": "execute_result"
    }
   ],
   "source": [
    "lists[2:5:2]"
   ]
  },
  {
   "cell_type": "code",
   "execution_count": 24,
   "id": "2c7b481c-efd8-41de-bb8c-17ac52a94e75",
   "metadata": {},
   "outputs": [
    {
     "data": {
      "text/plain": [
       "[1, '1', (1+1j)]"
      ]
     },
     "execution_count": 24,
     "metadata": {},
     "output_type": "execute_result"
    }
   ],
   "source": [
    "lists[::2]"
   ]
  },
  {
   "cell_type": "code",
   "execution_count": 25,
   "id": "c8059e92-5ec9-4ecd-ae33-ac624d129da9",
   "metadata": {},
   "outputs": [
    {
     "data": {
      "text/plain": [
       "[(1+1j), True, '1', 1.0, 1]"
      ]
     },
     "execution_count": 25,
     "metadata": {},
     "output_type": "execute_result"
    }
   ],
   "source": [
    "lists[::-1]"
   ]
  },
  {
   "cell_type": "code",
   "execution_count": 26,
   "id": "6e1d5685-72cf-4cb2-ad22-66662ccadd49",
   "metadata": {},
   "outputs": [
    {
     "data": {
      "text/plain": [
       "[(1+1j), '1', 1]"
      ]
     },
     "execution_count": 26,
     "metadata": {},
     "output_type": "execute_result"
    }
   ],
   "source": [
    "lists[::-2]"
   ]
  },
  {
   "cell_type": "code",
   "execution_count": 5,
   "id": "282ff44d-f45d-43e6-ad4b-0899f4e07b08",
   "metadata": {},
   "outputs": [
    {
     "data": {
      "text/plain": [
       "3"
      ]
     },
     "execution_count": 5,
     "metadata": {},
     "output_type": "execute_result"
    }
   ],
   "source": [
    "lists.count(1)"
   ]
  },
  {
   "cell_type": "code",
   "execution_count": 4,
   "id": "afef9b23-f878-4e39-82d7-bc362ef6b3eb",
   "metadata": {},
   "outputs": [
    {
     "data": {
      "text/plain": [
       "(1+1j)"
      ]
     },
     "execution_count": 4,
     "metadata": {},
     "output_type": "execute_result"
    }
   ],
   "source": [
    "lists.pop()"
   ]
  },
  {
   "cell_type": "code",
   "execution_count": 6,
   "id": "798171a6-a0c5-4752-a47e-d7b4ec11079e",
   "metadata": {},
   "outputs": [],
   "source": [
    "lists.append(1+1j)"
   ]
  },
  {
   "cell_type": "code",
   "execution_count": 7,
   "id": "4a4f2631-9d44-43aa-a8fc-86d8eb35ab5a",
   "metadata": {},
   "outputs": [
    {
     "data": {
      "text/plain": [
       "[1, 1.0, '1', True, (1+1j)]"
      ]
     },
     "execution_count": 7,
     "metadata": {},
     "output_type": "execute_result"
    }
   ],
   "source": [
    "lists"
   ]
  },
  {
   "cell_type": "code",
   "execution_count": 10,
   "id": "700ba02b-79da-4d8c-839f-f78840be0306",
   "metadata": {},
   "outputs": [],
   "source": [
    "lists.append(\"Balaji\")"
   ]
  },
  {
   "cell_type": "code",
   "execution_count": 34,
   "id": "662f102c-5ac5-4e47-a484-e25a6d2e1b09",
   "metadata": {},
   "outputs": [
    {
     "data": {
      "text/plain": [
       "['Balaji', (1+1j), True, '1', 1.0, 1]"
      ]
     },
     "execution_count": 34,
     "metadata": {},
     "output_type": "execute_result"
    }
   ],
   "source": [
    "lists[::-1]"
   ]
  },
  {
   "cell_type": "code",
   "execution_count": 35,
   "id": "3aaa7b99-7f17-47c2-aab1-f78069d44a01",
   "metadata": {},
   "outputs": [],
   "source": [
    "lists.reverse()"
   ]
  },
  {
   "cell_type": "code",
   "execution_count": 36,
   "id": "31dd40e8-6d7b-4b21-9570-6e95be54974d",
   "metadata": {},
   "outputs": [
    {
     "data": {
      "text/plain": [
       "['Balaji', (1+1j), True, '1', 1.0, 1]"
      ]
     },
     "execution_count": 36,
     "metadata": {},
     "output_type": "execute_result"
    }
   ],
   "source": [
    "lists[::1]"
   ]
  },
  {
   "cell_type": "code",
   "execution_count": 37,
   "id": "197164af-dda1-465c-a436-73dfb7aefeaf",
   "metadata": {},
   "outputs": [
    {
     "data": {
      "text/plain": [
       "'Blj'"
      ]
     },
     "execution_count": 37,
     "metadata": {},
     "output_type": "execute_result"
    }
   ],
   "source": [
    "lists[0][::2]"
   ]
  },
  {
   "cell_type": "code",
   "execution_count": 11,
   "id": "6adc99f6-7f14-4b88-b4b7-52048f98823a",
   "metadata": {},
   "outputs": [],
   "source": [
    "lists.insert(1,'Srinivas')"
   ]
  },
  {
   "cell_type": "code",
   "execution_count": 40,
   "id": "6d28ad2a-843b-41a2-9dfd-34d56ceccd42",
   "metadata": {},
   "outputs": [
    {
     "data": {
      "text/plain": [
       "['Balaji', 'Srinivas', (1+1j), True, '1', 1.0, 1]"
      ]
     },
     "execution_count": 40,
     "metadata": {},
     "output_type": "execute_result"
    }
   ],
   "source": [
    "lists[::1]"
   ]
  },
  {
   "cell_type": "code",
   "execution_count": 12,
   "id": "07377c0b-53a5-49fe-817f-136e3e59c1a7",
   "metadata": {},
   "outputs": [],
   "source": [
    "lists.remove(True)"
   ]
  },
  {
   "cell_type": "code",
   "execution_count": 42,
   "id": "6c475dc3-c4a9-42f5-bfa7-790ceb625f1d",
   "metadata": {},
   "outputs": [
    {
     "data": {
      "text/plain": [
       "['Balaji', 'Srinivas', (1+1j), '1', 1.0, 1]"
      ]
     },
     "execution_count": 42,
     "metadata": {},
     "output_type": "execute_result"
    }
   ],
   "source": [
    "lists[::1]"
   ]
  },
  {
   "cell_type": "code",
   "execution_count": 43,
   "id": "08d403fb-8765-48dd-b5ef-0bb37d955dae",
   "metadata": {},
   "outputs": [
    {
     "data": {
      "text/plain": [
       "0"
      ]
     },
     "execution_count": 43,
     "metadata": {},
     "output_type": "execute_result"
    }
   ],
   "source": [
    "lists.index('Balaji')"
   ]
  },
  {
   "cell_type": "code",
   "execution_count": 44,
   "id": "33dd3c31-2a74-4a54-a872-8cc9069daa4c",
   "metadata": {},
   "outputs": [],
   "source": [
    "lists.insert(3,'Balaji')"
   ]
  },
  {
   "cell_type": "code",
   "execution_count": 45,
   "id": "626abef2-fc2b-4e5a-816e-528adfaea74b",
   "metadata": {},
   "outputs": [
    {
     "data": {
      "text/plain": [
       "['Balaji', 'Srinivas', (1+1j), 'Balaji', '1', 1.0, 1]"
      ]
     },
     "execution_count": 45,
     "metadata": {},
     "output_type": "execute_result"
    }
   ],
   "source": [
    "lists[::1]"
   ]
  },
  {
   "cell_type": "code",
   "execution_count": 47,
   "id": "d35e9923-c8c1-4b45-91b2-9586e57dc89e",
   "metadata": {},
   "outputs": [
    {
     "data": {
      "text/plain": [
       "0"
      ]
     },
     "execution_count": 47,
     "metadata": {},
     "output_type": "execute_result"
    }
   ],
   "source": [
    "lists.index('Balaji')"
   ]
  },
  {
   "cell_type": "code",
   "execution_count": 49,
   "id": "3b252bb8-c422-42e9-810c-58e6892aac22",
   "metadata": {},
   "outputs": [],
   "source": [
    "lists.extend('1')"
   ]
  },
  {
   "cell_type": "code",
   "execution_count": 50,
   "id": "2a959625-694b-47b0-abbb-1ab9b5c2f059",
   "metadata": {},
   "outputs": [
    {
     "data": {
      "text/plain": [
       "['Balaji', 'Srinivas', (1+1j), 'Balaji', '1', 1.0, 1, '1']"
      ]
     },
     "execution_count": 50,
     "metadata": {},
     "output_type": "execute_result"
    }
   ],
   "source": [
    "lists[::1]"
   ]
  },
  {
   "cell_type": "code",
   "execution_count": 51,
   "id": "32e569c0-960c-49cf-b769-d1bf68ed95f3",
   "metadata": {},
   "outputs": [
    {
     "data": {
      "text/plain": [
       "'1'"
      ]
     },
     "execution_count": 51,
     "metadata": {},
     "output_type": "execute_result"
    }
   ],
   "source": [
    "lists.pop()"
   ]
  },
  {
   "cell_type": "code",
   "execution_count": 52,
   "id": "f70452d2-aba5-4c4c-a3f8-b6e892dd241d",
   "metadata": {},
   "outputs": [],
   "source": [
    "lists.remove('Balaji')"
   ]
  },
  {
   "cell_type": "code",
   "execution_count": 54,
   "id": "b916f2b9-b1ef-4a5c-943e-bad4c5a3c730",
   "metadata": {},
   "outputs": [
    {
     "data": {
      "text/plain": [
       "['Srinivas', (1+1j), 'Balaji', '1', 1.0, 1]"
      ]
     },
     "execution_count": 54,
     "metadata": {},
     "output_type": "execute_result"
    }
   ],
   "source": [
    "lists[::1]"
   ]
  },
  {
   "cell_type": "code",
   "execution_count": 56,
   "id": "52aa452c-af3e-463d-bf66-c4e3fd5d951f",
   "metadata": {},
   "outputs": [
    {
     "data": {
      "text/plain": [
       "4"
      ]
     },
     "execution_count": 56,
     "metadata": {},
     "output_type": "execute_result"
    }
   ],
   "source": [
    "lists.index(1.0)"
   ]
  },
  {
   "cell_type": "code",
   "execution_count": 57,
   "id": "86bf5100-1cb5-4987-b46a-014f2054fee7",
   "metadata": {},
   "outputs": [],
   "source": [
    "lists.append(False)"
   ]
  },
  {
   "cell_type": "code",
   "execution_count": 58,
   "id": "dc88489f-a551-4276-96a7-a826c528e6d0",
   "metadata": {},
   "outputs": [
    {
     "data": {
      "text/plain": [
       "['Srinivas', (1+1j), 'Balaji', '1', 1.0, 1, False]"
      ]
     },
     "execution_count": 58,
     "metadata": {},
     "output_type": "execute_result"
    }
   ],
   "source": [
    "lists[::1]"
   ]
  },
  {
   "cell_type": "code",
   "execution_count": 59,
   "id": "10285dad-9e18-4ce6-b16a-f257628fad9e",
   "metadata": {},
   "outputs": [
    {
     "data": {
      "text/plain": [
       "'Fal'"
      ]
     },
     "execution_count": 59,
     "metadata": {},
     "output_type": "execute_result"
    }
   ],
   "source": [
    "str(lists[6])[0:3:1]"
   ]
  },
  {
   "cell_type": "code",
   "execution_count": 60,
   "id": "390f4449-3fa5-4198-a1b8-b4752e35486f",
   "metadata": {},
   "outputs": [
    {
     "data": {
      "text/plain": [
       "['Srinivas', (1+1j), 'Balaji', '1', 1.0, 1, False]"
      ]
     },
     "execution_count": 60,
     "metadata": {},
     "output_type": "execute_result"
    }
   ],
   "source": [
    "lists[::1]"
   ]
  },
  {
   "cell_type": "code",
   "execution_count": 61,
   "id": "13887660-c606-4e09-8e10-d5b3c5e64e61",
   "metadata": {},
   "outputs": [
    {
     "data": {
      "text/plain": [
       "bool"
      ]
     },
     "execution_count": 61,
     "metadata": {},
     "output_type": "execute_result"
    }
   ],
   "source": [
    "type(lists[6])"
   ]
  },
  {
   "cell_type": "code",
   "execution_count": 62,
   "id": "161f115e-1c63-4114-b295-bfb4c00cc870",
   "metadata": {},
   "outputs": [],
   "source": [
    "lists[6] = True"
   ]
  },
  {
   "cell_type": "code",
   "execution_count": 63,
   "id": "e4b7dc68-455f-4a78-a51f-b589d98a3fca",
   "metadata": {},
   "outputs": [
    {
     "data": {
      "text/plain": [
       "['Srinivas', (1+1j), 'Balaji', '1', 1.0, 1, True]"
      ]
     },
     "execution_count": 63,
     "metadata": {},
     "output_type": "execute_result"
    }
   ],
   "source": [
    "lists[::1]"
   ]
  },
  {
   "cell_type": "code",
   "execution_count": 64,
   "id": "59431f05-d9da-4ac4-acbb-6700f803d29c",
   "metadata": {},
   "outputs": [],
   "source": [
    "lists[6] = str(lists[6])"
   ]
  },
  {
   "cell_type": "code",
   "execution_count": 65,
   "id": "19599c4d-8415-4fac-ad8d-e433bb01e338",
   "metadata": {},
   "outputs": [
    {
     "data": {
      "text/plain": [
       "['Srinivas', (1+1j), 'Balaji', '1', 1.0, 1, 'True']"
      ]
     },
     "execution_count": 65,
     "metadata": {},
     "output_type": "execute_result"
    }
   ],
   "source": [
    "lists[::1]"
   ]
  },
  {
   "cell_type": "code",
   "execution_count": 69,
   "id": "2ce0a735-8469-41b3-851c-f6e9a9000422",
   "metadata": {},
   "outputs": [],
   "source": [
    "l = lists.copy()"
   ]
  },
  {
   "cell_type": "code",
   "execution_count": 70,
   "id": "59664a34-3053-44f1-b2dc-50fb42e0852f",
   "metadata": {},
   "outputs": [
    {
     "data": {
      "text/plain": [
       "['Srinivas', (1+1j), 'Balaji', '1', 1.0, 1, 'True']"
      ]
     },
     "execution_count": 70,
     "metadata": {},
     "output_type": "execute_result"
    }
   ],
   "source": [
    "l[::1]"
   ]
  },
  {
   "cell_type": "code",
   "execution_count": 71,
   "id": "de9961b1-8f65-4baa-bdff-59093605dae5",
   "metadata": {},
   "outputs": [],
   "source": [
    "l.clear()"
   ]
  },
  {
   "cell_type": "code",
   "execution_count": 72,
   "id": "b0bd8497-a637-4c77-a306-5b51c9a67d10",
   "metadata": {},
   "outputs": [
    {
     "data": {
      "text/plain": [
       "[]"
      ]
     },
     "execution_count": 72,
     "metadata": {},
     "output_type": "execute_result"
    }
   ],
   "source": [
    "l[::1]"
   ]
  },
  {
   "cell_type": "code",
   "execution_count": 74,
   "id": "68628cd8-b487-4fe1-b4e1-cc31e3e591f1",
   "metadata": {},
   "outputs": [],
   "source": [
    "l = [23, 12, 90, 45, 98, 18]"
   ]
  },
  {
   "cell_type": "code",
   "execution_count": 75,
   "id": "ed89bfc4-15fb-4304-a77a-a697c7776f8c",
   "metadata": {},
   "outputs": [],
   "source": [
    "l.sort()"
   ]
  },
  {
   "cell_type": "code",
   "execution_count": 76,
   "id": "31dd78fb-faf8-4ae5-b3ce-c2c84e4508f3",
   "metadata": {},
   "outputs": [
    {
     "data": {
      "text/plain": [
       "[12, 18, 23, 45, 90, 98]"
      ]
     },
     "execution_count": 76,
     "metadata": {},
     "output_type": "execute_result"
    }
   ],
   "source": [
    "l[::1]"
   ]
  },
  {
   "cell_type": "code",
   "execution_count": 77,
   "id": "494e64a0-6fd3-4310-9352-6b486fad695a",
   "metadata": {},
   "outputs": [
    {
     "data": {
      "text/plain": [
       "['Srinivas', (1+1j), 'Balaji', '1', 1.0, 1, 'True', 12, 18, 23, 45, 90, 98]"
      ]
     },
     "execution_count": 77,
     "metadata": {},
     "output_type": "execute_result"
    }
   ],
   "source": [
    "lists + l"
   ]
  },
  {
   "cell_type": "code",
   "execution_count": 78,
   "id": "d9102588-96a2-46a2-8566-1f2bab974441",
   "metadata": {},
   "outputs": [
    {
     "data": {
      "text/plain": [
       "['Srinivas', (1+1j), 'Balaji', '1', 1.0, 1, 'True']"
      ]
     },
     "execution_count": 78,
     "metadata": {},
     "output_type": "execute_result"
    }
   ],
   "source": [
    "lists[::1]"
   ]
  },
  {
   "cell_type": "code",
   "execution_count": 79,
   "id": "adf1e460-5dde-4f45-a530-8fc026c41313",
   "metadata": {},
   "outputs": [
    {
     "data": {
      "text/plain": [
       "1.0"
      ]
     },
     "execution_count": 79,
     "metadata": {},
     "output_type": "execute_result"
    }
   ],
   "source": [
    "lists.pop(4)"
   ]
  },
  {
   "cell_type": "code",
   "execution_count": 80,
   "id": "b329daeb-725c-4680-b36a-ae42deaa3ff8",
   "metadata": {},
   "outputs": [],
   "source": [
    "lists.remove('True')"
   ]
  },
  {
   "cell_type": "code",
   "execution_count": 81,
   "id": "8d00bd6e-cf03-4eff-94e4-257c25945957",
   "metadata": {},
   "outputs": [
    {
     "data": {
      "text/plain": [
       "['Srinivas', (1+1j), 'Balaji', '1', 1]"
      ]
     },
     "execution_count": 81,
     "metadata": {},
     "output_type": "execute_result"
    }
   ],
   "source": [
    "lists[::1]"
   ]
  },
  {
   "cell_type": "code",
   "execution_count": 13,
   "id": "e22cc132-6478-43cd-8f6d-7ee9c7ff06e9",
   "metadata": {},
   "outputs": [],
   "source": [
    "tuple_01 = ('Balaji', 1, 1.0, 'Balaji', '1', 1+1j, True)"
   ]
  },
  {
   "cell_type": "code",
   "execution_count": 14,
   "id": "e1e96841-0440-421a-aab0-28cf1f1e90fa",
   "metadata": {},
   "outputs": [
    {
     "name": "stdout",
     "output_type": "stream",
     "text": [
      "The size of the tuple is: 7\n"
     ]
    }
   ],
   "source": [
    "print(\"The size of the tuple is: \" + str(len(tuple_01)))"
   ]
  },
  {
   "cell_type": "code",
   "execution_count": 15,
   "id": "7a5ff17c-4d49-45a8-bc5f-0a9a05d24636",
   "metadata": {},
   "outputs": [
    {
     "data": {
      "text/plain": [
       "('Balaji', 1, 1.0, 'Balaji', '1', (1+1j), True)"
      ]
     },
     "execution_count": 15,
     "metadata": {},
     "output_type": "execute_result"
    }
   ],
   "source": [
    "tuple_01[0::1]"
   ]
  },
  {
   "cell_type": "code",
   "execution_count": 16,
   "id": "96969a12-57fa-4837-852f-f8c54a8cc69a",
   "metadata": {},
   "outputs": [
    {
     "data": {
      "text/plain": [
       "'Balaji'"
      ]
     },
     "execution_count": 16,
     "metadata": {},
     "output_type": "execute_result"
    }
   ],
   "source": [
    "tuple_01[0]"
   ]
  },
  {
   "cell_type": "code",
   "execution_count": 17,
   "id": "9e9b0a87-4d65-45d6-a4cc-f469b9288e4e",
   "metadata": {},
   "outputs": [
    {
     "data": {
      "text/plain": [
       "True"
      ]
     },
     "execution_count": 17,
     "metadata": {},
     "output_type": "execute_result"
    }
   ],
   "source": [
    "tuple_01[-1]"
   ]
  },
  {
   "cell_type": "code",
   "execution_count": 18,
   "id": "71bbe991-5e0d-4765-af7b-8bcfaa6c59d0",
   "metadata": {},
   "outputs": [
    {
     "data": {
      "text/plain": [
       "('Balaji', 1.0, '1')"
      ]
     },
     "execution_count": 18,
     "metadata": {},
     "output_type": "execute_result"
    }
   ],
   "source": [
    "tuple_01[0:6:2]"
   ]
  },
  {
   "cell_type": "code",
   "execution_count": 19,
   "id": "a00b06a4-10a6-49e8-b11f-6f0a79e61cf1",
   "metadata": {},
   "outputs": [
    {
     "data": {
      "text/plain": [
       "3"
      ]
     },
     "execution_count": 19,
     "metadata": {},
     "output_type": "execute_result"
    }
   ],
   "source": [
    "tuple_01.index(\"Balaji\")"
   ]
  },
  {
   "cell_type": "code",
   "execution_count": 105,
   "id": "05f398f8-399c-41da-bd70-e5c390efbbb8",
   "metadata": {},
   "outputs": [
    {
     "data": {
      "text/plain": [
       "2"
      ]
     },
     "execution_count": 105,
     "metadata": {},
     "output_type": "execute_result"
    }
   ],
   "source": [
    "tuple_01.count('Balaji')"
   ]
  },
  {
   "cell_type": "code",
   "execution_count": 107,
   "id": "9a5f4b3c-3c1c-41a2-bebd-c00cd1f6ad0b",
   "metadata": {},
   "outputs": [],
   "source": [
    "tuple_02 = ('Balaji', 1.0, True, [10, 20, 30])"
   ]
  },
  {
   "cell_type": "code",
   "execution_count": 108,
   "id": "80a8a5d8-8036-49e1-889c-00e5eac02573",
   "metadata": {},
   "outputs": [
    {
     "data": {
      "text/plain": [
       "[10, 20, 30]"
      ]
     },
     "execution_count": 108,
     "metadata": {},
     "output_type": "execute_result"
    }
   ],
   "source": [
    "tuple_02[3]"
   ]
  },
  {
   "cell_type": "code",
   "execution_count": 109,
   "id": "170c6be2-7bd6-4819-bd51-df8f0211031f",
   "metadata": {},
   "outputs": [
    {
     "data": {
      "text/plain": [
       "30"
      ]
     },
     "execution_count": 109,
     "metadata": {},
     "output_type": "execute_result"
    }
   ],
   "source": [
    "tuple_02[3].pop()"
   ]
  },
  {
   "cell_type": "code",
   "execution_count": 110,
   "id": "7a156432-2a56-4e00-a824-270544e773bc",
   "metadata": {},
   "outputs": [
    {
     "data": {
      "text/plain": [
       "('Balaji', 1.0, True, [10, 20])"
      ]
     },
     "execution_count": 110,
     "metadata": {},
     "output_type": "execute_result"
    }
   ],
   "source": [
    "tuple_02[::1]"
   ]
  },
  {
   "cell_type": "code",
   "execution_count": 111,
   "id": "f21a3c5e-3ab9-4f9b-9438-ca3b6f407259",
   "metadata": {},
   "outputs": [],
   "source": [
    "tuple_02[3][1] = 15"
   ]
  },
  {
   "cell_type": "code",
   "execution_count": 112,
   "id": "e59f2682-500f-435c-8bdc-e88fb71a2e77",
   "metadata": {},
   "outputs": [
    {
     "data": {
      "text/plain": [
       "('Balaji', 1.0, True, [10, 15])"
      ]
     },
     "execution_count": 112,
     "metadata": {},
     "output_type": "execute_result"
    }
   ],
   "source": [
    "tuple_02[::1]"
   ]
  },
  {
   "cell_type": "code",
   "execution_count": 116,
   "id": "235ae2cb-bf97-491c-b076-4412f068090d",
   "metadata": {},
   "outputs": [
    {
     "data": {
      "text/plain": [
       "2"
      ]
     },
     "execution_count": 116,
     "metadata": {},
     "output_type": "execute_result"
    }
   ],
   "source": [
    "tuple_02.count(True)"
   ]
  },
  {
   "cell_type": "code",
   "execution_count": 117,
   "id": "8dcc08a3-3a27-495c-92da-7364ca634f87",
   "metadata": {},
   "outputs": [
    {
     "data": {
      "text/plain": [
       "2"
      ]
     },
     "execution_count": 117,
     "metadata": {},
     "output_type": "execute_result"
    }
   ],
   "source": [
    "tuple_02.count(1)"
   ]
  },
  {
   "cell_type": "code",
   "execution_count": 120,
   "id": "cd50b1a2-a6dd-433b-8fa3-2956bec34fd1",
   "metadata": {},
   "outputs": [],
   "source": [
    "set_01 = {10, 20, 30, 40, 50}"
   ]
  },
  {
   "cell_type": "code",
   "execution_count": 121,
   "id": "5fb39242-5de9-40eb-833a-8fb268c7ab50",
   "metadata": {},
   "outputs": [
    {
     "data": {
      "text/plain": [
       "set"
      ]
     },
     "execution_count": 121,
     "metadata": {},
     "output_type": "execute_result"
    }
   ],
   "source": [
    "type(set_01)"
   ]
  },
  {
   "cell_type": "code",
   "execution_count": 122,
   "id": "5ecf0878-a086-4e5a-9c84-53d16e282574",
   "metadata": {},
   "outputs": [
    {
     "data": {
      "text/plain": [
       "{10, 20, 30, 40, 50}"
      ]
     },
     "execution_count": 122,
     "metadata": {},
     "output_type": "execute_result"
    }
   ],
   "source": [
    "set_01"
   ]
  },
  {
   "cell_type": "code",
   "execution_count": 123,
   "id": "92fb6109-f3cd-4dbb-a8f0-ec90ded4f04e",
   "metadata": {},
   "outputs": [],
   "source": [
    "set_02 = {10, 20, 50, 30, 50, 20, 10, 50, 70, 30}"
   ]
  },
  {
   "cell_type": "code",
   "execution_count": 124,
   "id": "5e1e2197-3e0c-4dc7-ba6e-ee3a21eef53f",
   "metadata": {},
   "outputs": [
    {
     "data": {
      "text/plain": [
       "{10, 20, 30, 50, 70}"
      ]
     },
     "execution_count": 124,
     "metadata": {},
     "output_type": "execute_result"
    }
   ],
   "source": [
    "set_02"
   ]
  },
  {
   "cell_type": "code",
   "execution_count": 125,
   "id": "6cd15d55-bbd3-4a14-8262-b35b6975a092",
   "metadata": {},
   "outputs": [],
   "source": [
    "set_03 = {'Balaji', 1, 1.0, True, 12+5j, (10, 20)}"
   ]
  },
  {
   "cell_type": "code",
   "execution_count": 126,
   "id": "48156060-6a1b-4030-8b91-62c10bbc3abf",
   "metadata": {},
   "outputs": [
    {
     "data": {
      "text/plain": [
       "{(10, 20), (12+5j), 1, 'Balaji'}"
      ]
     },
     "execution_count": 126,
     "metadata": {},
     "output_type": "execute_result"
    }
   ],
   "source": [
    "set_03"
   ]
  },
  {
   "cell_type": "code",
   "execution_count": 128,
   "id": "8959d64d-d106-4793-a922-b444700c7be7",
   "metadata": {},
   "outputs": [
    {
     "data": {
      "text/plain": [
       "{(10, 20), (12+5j), 1, 'Balaji'}"
      ]
     },
     "execution_count": 128,
     "metadata": {},
     "output_type": "execute_result"
    }
   ],
   "source": [
    "set_03"
   ]
  },
  {
   "cell_type": "code",
   "execution_count": 129,
   "id": "d9597979-fd63-48c1-8c49-95786ff5a51d",
   "metadata": {},
   "outputs": [],
   "source": [
    "set_01.add(60)"
   ]
  },
  {
   "cell_type": "code",
   "execution_count": 130,
   "id": "d8ff444b-c5cb-471b-9944-910ec4888691",
   "metadata": {},
   "outputs": [
    {
     "data": {
      "text/plain": [
       "{10, 20, 30, 40, 50, 60}"
      ]
     },
     "execution_count": 130,
     "metadata": {},
     "output_type": "execute_result"
    }
   ],
   "source": [
    "set_01"
   ]
  },
  {
   "cell_type": "code",
   "execution_count": 131,
   "id": "7ee61a2b-b4fe-4c4a-ae88-6544c82f5261",
   "metadata": {},
   "outputs": [],
   "source": [
    "set_01.remove(50)"
   ]
  },
  {
   "cell_type": "code",
   "execution_count": 132,
   "id": "a8bee7d1-f7ab-407a-b8fb-35522e722237",
   "metadata": {},
   "outputs": [
    {
     "data": {
      "text/plain": [
       "{10, 20, 30, 40, 60}"
      ]
     },
     "execution_count": 132,
     "metadata": {},
     "output_type": "execute_result"
    }
   ],
   "source": [
    "set_01"
   ]
  },
  {
   "cell_type": "code",
   "execution_count": 135,
   "id": "a0069b63-5f82-4a70-ba05-0e55f0dd0a08",
   "metadata": {},
   "outputs": [
    {
     "data": {
      "text/plain": [
       "40"
      ]
     },
     "execution_count": 135,
     "metadata": {},
     "output_type": "execute_result"
    }
   ],
   "source": [
    "set_01.pop()"
   ]
  },
  {
   "cell_type": "code",
   "execution_count": 136,
   "id": "1bb45444-6c49-45ba-8c60-7a3e813980fe",
   "metadata": {},
   "outputs": [
    {
     "data": {
      "text/plain": [
       "{10, 30, 60}"
      ]
     },
     "execution_count": 136,
     "metadata": {},
     "output_type": "execute_result"
    }
   ],
   "source": [
    "set_01"
   ]
  },
  {
   "cell_type": "code",
   "execution_count": 137,
   "id": "35ea9a0f-119d-4185-9e76-2e08146f058c",
   "metadata": {},
   "outputs": [],
   "source": [
    "set_01.add(20)"
   ]
  },
  {
   "cell_type": "code",
   "execution_count": 138,
   "id": "c517b46e-4594-4355-a891-e7ef2ea997bd",
   "metadata": {},
   "outputs": [],
   "source": [
    "set_01.add(40)"
   ]
  },
  {
   "cell_type": "code",
   "execution_count": 141,
   "id": "a56bb9b0-85e8-46d6-9ab6-7745da531f01",
   "metadata": {},
   "outputs": [],
   "source": [
    "set_01.add(50)"
   ]
  },
  {
   "cell_type": "code",
   "execution_count": 142,
   "id": "b1160d3d-ab1a-46cb-af17-c861d2970011",
   "metadata": {},
   "outputs": [
    {
     "data": {
      "text/plain": [
       "{10, 20, 30, 40, 50, 60}"
      ]
     },
     "execution_count": 142,
     "metadata": {},
     "output_type": "execute_result"
    }
   ],
   "source": [
    "set_01"
   ]
  },
  {
   "cell_type": "code",
   "execution_count": 1,
   "id": "a13212a9-83b1-4d33-b03e-c686a3105268",
   "metadata": {},
   "outputs": [],
   "source": [
    "set_04 = {23, 12, 34, 29, 10, 15, 26}"
   ]
  },
  {
   "cell_type": "code",
   "execution_count": 2,
   "id": "fca53ecb-7d97-4955-9e56-6ca022740ef5",
   "metadata": {},
   "outputs": [
    {
     "data": {
      "text/plain": [
       "{10, 12, 15, 23, 26, 29, 34}"
      ]
     },
     "execution_count": 2,
     "metadata": {},
     "output_type": "execute_result"
    }
   ],
   "source": [
    "set_04"
   ]
  },
  {
   "cell_type": "code",
   "execution_count": null,
   "id": "63f8af08-3592-4d7c-b64b-dbe107c26ee3",
   "metadata": {},
   "outputs": [],
   "source": []
  }
 ],
 "metadata": {
  "kernelspec": {
   "display_name": "Python 3 (ipykernel)",
   "language": "python",
   "name": "python3"
  },
  "language_info": {
   "codemirror_mode": {
    "name": "ipython",
    "version": 3
   },
   "file_extension": ".py",
   "mimetype": "text/x-python",
   "name": "python",
   "nbconvert_exporter": "python",
   "pygments_lexer": "ipython3",
   "version": "3.10.8"
  }
 },
 "nbformat": 4,
 "nbformat_minor": 5
}
