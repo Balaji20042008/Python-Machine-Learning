{
 "cells": [
  {
   "cell_type": "markdown",
   "id": "0d32dcb8-1a37-441c-ada1-3aa71d467c3d",
   "metadata": {},
   "source": [
    "## # Machine Learning - Hierarichal Clustering"
   ]
  },
  {
   "cell_type": "code",
   "execution_count": 1,
   "id": "282faa82-57ed-4895-8b55-55940bba2458",
   "metadata": {},
   "outputs": [],
   "source": [
    "import pandas as pd\n",
    "import numpy as np\n",
    "import matplotlib.pyplot as plt\n",
    "import seaborn as sns\n",
    "%matplotlib inline\n",
    "import warnings\n",
    "warnings.filterwarnings(\"ignore\")"
   ]
  },
  {
   "cell_type": "markdown",
   "id": "9143d5fe-cd61-46ef-a1d8-3fc4f43c4ac4",
   "metadata": {},
   "source": [
    "### Step-01: Import load_iris from sklearn.datasets "
   ]
  },
  {
   "cell_type": "code",
   "execution_count": 2,
   "id": "68e8fc6c-d33d-44f9-9983-2ff53c05b46c",
   "metadata": {},
   "outputs": [],
   "source": [
    "from sklearn.datasets import load_iris"
   ]
  },
  {
   "cell_type": "code",
   "execution_count": 3,
   "id": "e1060357-3e17-4aab-af5c-7df560369097",
   "metadata": {},
   "outputs": [],
   "source": [
    "dataset = load_iris()"
   ]
  },
  {
   "cell_type": "code",
   "execution_count": 4,
   "id": "0759bbae-70e4-452e-a9aa-f92fc62855a8",
   "metadata": {},
   "outputs": [
    {
     "data": {
      "text/plain": [
       "dict_keys(['data', 'target', 'frame', 'target_names', 'DESCR', 'feature_names', 'filename', 'data_module'])"
      ]
     },
     "execution_count": 4,
     "metadata": {},
     "output_type": "execute_result"
    }
   ],
   "source": [
    "dataset.keys()"
   ]
  },
  {
   "cell_type": "code",
   "execution_count": 5,
   "id": "999554c9-e38c-4f67-a365-41310cb27a56",
   "metadata": {},
   "outputs": [
    {
     "name": "stdout",
     "output_type": "stream",
     "text": [
      ".. _iris_dataset:\n",
      "\n",
      "Iris plants dataset\n",
      "--------------------\n",
      "\n",
      "**Data Set Characteristics:**\n",
      "\n",
      "    :Number of Instances: 150 (50 in each of three classes)\n",
      "    :Number of Attributes: 4 numeric, predictive attributes and the class\n",
      "    :Attribute Information:\n",
      "        - sepal length in cm\n",
      "        - sepal width in cm\n",
      "        - petal length in cm\n",
      "        - petal width in cm\n",
      "        - class:\n",
      "                - Iris-Setosa\n",
      "                - Iris-Versicolour\n",
      "                - Iris-Virginica\n",
      "                \n",
      "    :Summary Statistics:\n",
      "\n",
      "    ============== ==== ==== ======= ===== ====================\n",
      "                    Min  Max   Mean    SD   Class Correlation\n",
      "    ============== ==== ==== ======= ===== ====================\n",
      "    sepal length:   4.3  7.9   5.84   0.83    0.7826\n",
      "    sepal width:    2.0  4.4   3.05   0.43   -0.4194\n",
      "    petal length:   1.0  6.9   3.76   1.76    0.9490  (high!)\n",
      "    petal width:    0.1  2.5   1.20   0.76    0.9565  (high!)\n",
      "    ============== ==== ==== ======= ===== ====================\n",
      "\n",
      "    :Missing Attribute Values: None\n",
      "    :Class Distribution: 33.3% for each of 3 classes.\n",
      "    :Creator: R.A. Fisher\n",
      "    :Donor: Michael Marshall (MARSHALL%PLU@io.arc.nasa.gov)\n",
      "    :Date: July, 1988\n",
      "\n",
      "The famous Iris database, first used by Sir R.A. Fisher. The dataset is taken\n",
      "from Fisher's paper. Note that it's the same as in R, but not as in the UCI\n",
      "Machine Learning Repository, which has two wrong data points.\n",
      "\n",
      "This is perhaps the best known database to be found in the\n",
      "pattern recognition literature.  Fisher's paper is a classic in the field and\n",
      "is referenced frequently to this day.  (See Duda & Hart, for example.)  The\n",
      "data set contains 3 classes of 50 instances each, where each class refers to a\n",
      "type of iris plant.  One class is linearly separable from the other 2; the\n",
      "latter are NOT linearly separable from each other.\n",
      "\n",
      ".. topic:: References\n",
      "\n",
      "   - Fisher, R.A. \"The use of multiple measurements in taxonomic problems\"\n",
      "     Annual Eugenics, 7, Part II, 179-188 (1936); also in \"Contributions to\n",
      "     Mathematical Statistics\" (John Wiley, NY, 1950).\n",
      "   - Duda, R.O., & Hart, P.E. (1973) Pattern Classification and Scene Analysis.\n",
      "     (Q327.D83) John Wiley & Sons.  ISBN 0-471-22361-1.  See page 218.\n",
      "   - Dasarathy, B.V. (1980) \"Nosing Around the Neighborhood: A New System\n",
      "     Structure and Classification Rule for Recognition in Partially Exposed\n",
      "     Environments\".  IEEE Transactions on Pattern Analysis and Machine\n",
      "     Intelligence, Vol. PAMI-2, No. 1, 67-71.\n",
      "   - Gates, G.W. (1972) \"The Reduced Nearest Neighbor Rule\".  IEEE Transactions\n",
      "     on Information Theory, May 1972, 431-433.\n",
      "   - See also: 1988 MLC Proceedings, 54-64.  Cheeseman et al\"s AUTOCLASS II\n",
      "     conceptual clustering system finds 3 classes in the data.\n",
      "   - Many, many more ...\n"
     ]
    }
   ],
   "source": [
    "print(dataset.DESCR)"
   ]
  },
  {
   "cell_type": "code",
   "execution_count": 7,
   "id": "50e93550-7885-45d2-b1bc-7f4480c02e93",
   "metadata": {},
   "outputs": [],
   "source": [
    "x = pd.DataFrame(dataset.data, columns = dataset.feature_names)\n",
    "y = dataset.target"
   ]
  },
  {
   "cell_type": "code",
   "execution_count": 8,
   "id": "6c7c61c5-9a08-41e4-a1d6-1ec55e6f131a",
   "metadata": {},
   "outputs": [
    {
     "data": {
      "text/html": [
       "<div>\n",
       "<style scoped>\n",
       "    .dataframe tbody tr th:only-of-type {\n",
       "        vertical-align: middle;\n",
       "    }\n",
       "\n",
       "    .dataframe tbody tr th {\n",
       "        vertical-align: top;\n",
       "    }\n",
       "\n",
       "    .dataframe thead th {\n",
       "        text-align: right;\n",
       "    }\n",
       "</style>\n",
       "<table border=\"1\" class=\"dataframe\">\n",
       "  <thead>\n",
       "    <tr style=\"text-align: right;\">\n",
       "      <th></th>\n",
       "      <th>sepal length (cm)</th>\n",
       "      <th>sepal width (cm)</th>\n",
       "      <th>petal length (cm)</th>\n",
       "      <th>petal width (cm)</th>\n",
       "    </tr>\n",
       "  </thead>\n",
       "  <tbody>\n",
       "    <tr>\n",
       "      <th>0</th>\n",
       "      <td>5.1</td>\n",
       "      <td>3.5</td>\n",
       "      <td>1.4</td>\n",
       "      <td>0.2</td>\n",
       "    </tr>\n",
       "    <tr>\n",
       "      <th>1</th>\n",
       "      <td>4.9</td>\n",
       "      <td>3.0</td>\n",
       "      <td>1.4</td>\n",
       "      <td>0.2</td>\n",
       "    </tr>\n",
       "    <tr>\n",
       "      <th>2</th>\n",
       "      <td>4.7</td>\n",
       "      <td>3.2</td>\n",
       "      <td>1.3</td>\n",
       "      <td>0.2</td>\n",
       "    </tr>\n",
       "    <tr>\n",
       "      <th>3</th>\n",
       "      <td>4.6</td>\n",
       "      <td>3.1</td>\n",
       "      <td>1.5</td>\n",
       "      <td>0.2</td>\n",
       "    </tr>\n",
       "    <tr>\n",
       "      <th>4</th>\n",
       "      <td>5.0</td>\n",
       "      <td>3.6</td>\n",
       "      <td>1.4</td>\n",
       "      <td>0.2</td>\n",
       "    </tr>\n",
       "    <tr>\n",
       "      <th>...</th>\n",
       "      <td>...</td>\n",
       "      <td>...</td>\n",
       "      <td>...</td>\n",
       "      <td>...</td>\n",
       "    </tr>\n",
       "    <tr>\n",
       "      <th>145</th>\n",
       "      <td>6.7</td>\n",
       "      <td>3.0</td>\n",
       "      <td>5.2</td>\n",
       "      <td>2.3</td>\n",
       "    </tr>\n",
       "    <tr>\n",
       "      <th>146</th>\n",
       "      <td>6.3</td>\n",
       "      <td>2.5</td>\n",
       "      <td>5.0</td>\n",
       "      <td>1.9</td>\n",
       "    </tr>\n",
       "    <tr>\n",
       "      <th>147</th>\n",
       "      <td>6.5</td>\n",
       "      <td>3.0</td>\n",
       "      <td>5.2</td>\n",
       "      <td>2.0</td>\n",
       "    </tr>\n",
       "    <tr>\n",
       "      <th>148</th>\n",
       "      <td>6.2</td>\n",
       "      <td>3.4</td>\n",
       "      <td>5.4</td>\n",
       "      <td>2.3</td>\n",
       "    </tr>\n",
       "    <tr>\n",
       "      <th>149</th>\n",
       "      <td>5.9</td>\n",
       "      <td>3.0</td>\n",
       "      <td>5.1</td>\n",
       "      <td>1.8</td>\n",
       "    </tr>\n",
       "  </tbody>\n",
       "</table>\n",
       "<p>150 rows × 4 columns</p>\n",
       "</div>"
      ],
      "text/plain": [
       "     sepal length (cm)  sepal width (cm)  petal length (cm)  petal width (cm)\n",
       "0                  5.1               3.5                1.4               0.2\n",
       "1                  4.9               3.0                1.4               0.2\n",
       "2                  4.7               3.2                1.3               0.2\n",
       "3                  4.6               3.1                1.5               0.2\n",
       "4                  5.0               3.6                1.4               0.2\n",
       "..                 ...               ...                ...               ...\n",
       "145                6.7               3.0                5.2               2.3\n",
       "146                6.3               2.5                5.0               1.9\n",
       "147                6.5               3.0                5.2               2.0\n",
       "148                6.2               3.4                5.4               2.3\n",
       "149                5.9               3.0                5.1               1.8\n",
       "\n",
       "[150 rows x 4 columns]"
      ]
     },
     "execution_count": 8,
     "metadata": {},
     "output_type": "execute_result"
    }
   ],
   "source": [
    "x"
   ]
  },
  {
   "cell_type": "code",
   "execution_count": 9,
   "id": "c2ae57a2-def1-4415-8a9b-5f02145f7d43",
   "metadata": {},
   "outputs": [
    {
     "name": "stdout",
     "output_type": "stream",
     "text": [
      "x.head(): \n",
      "\n",
      "    sepal length (cm)  sepal width (cm)  petal length (cm)  petal width (cm)\n",
      "0                5.1               3.5                1.4               0.2\n",
      "1                4.9               3.0                1.4               0.2\n",
      "2                4.7               3.2                1.3               0.2\n",
      "3                4.6               3.1                1.5               0.2\n",
      "4                5.0               3.6                1.4               0.2 \n",
      "\n",
      "x.shape: (150, 4) \n",
      "\n"
     ]
    }
   ],
   "source": [
    "print(\"x.head(): \\n\\n {} \\n\" .format(x.head()))\n",
    "print(\"x.shape: {} \\n\" .format(x.shape))"
   ]
  },
  {
   "cell_type": "code",
   "execution_count": 10,
   "id": "3acab148-6818-4c41-9869-90554ff8f477",
   "metadata": {},
   "outputs": [
    {
     "data": {
      "text/plain": [
       "array([0, 0, 0, 0, 0, 0, 0, 0, 0, 0, 0, 0, 0, 0, 0, 0, 0, 0, 0, 0, 0, 0,\n",
       "       0, 0, 0, 0, 0, 0, 0, 0, 0, 0, 0, 0, 0, 0, 0, 0, 0, 0, 0, 0, 0, 0,\n",
       "       0, 0, 0, 0, 0, 0, 1, 1, 1, 1, 1, 1, 1, 1, 1, 1, 1, 1, 1, 1, 1, 1,\n",
       "       1, 1, 1, 1, 1, 1, 1, 1, 1, 1, 1, 1, 1, 1, 1, 1, 1, 1, 1, 1, 1, 1,\n",
       "       1, 1, 1, 1, 1, 1, 1, 1, 1, 1, 1, 1, 2, 2, 2, 2, 2, 2, 2, 2, 2, 2,\n",
       "       2, 2, 2, 2, 2, 2, 2, 2, 2, 2, 2, 2, 2, 2, 2, 2, 2, 2, 2, 2, 2, 2,\n",
       "       2, 2, 2, 2, 2, 2, 2, 2, 2, 2, 2, 2, 2, 2, 2, 2, 2, 2])"
      ]
     },
     "execution_count": 10,
     "metadata": {},
     "output_type": "execute_result"
    }
   ],
   "source": [
    "y"
   ]
  },
  {
   "cell_type": "code",
   "execution_count": 11,
   "id": "6a41503e-f484-4a6d-b66a-73fcf1b6eaac",
   "metadata": {},
   "outputs": [
    {
     "name": "stdout",
     "output_type": "stream",
     "text": [
      "y: \n",
      "\n",
      " [0 0 0 0 0 0 0 0 0 0 0 0 0 0 0 0 0 0 0 0 0 0 0 0 0 0 0 0 0 0 0 0 0 0 0 0 0\n",
      " 0 0 0 0 0 0 0 0 0 0 0 0 0 1 1 1 1 1 1 1 1 1 1 1 1 1 1 1 1 1 1 1 1 1 1 1 1\n",
      " 1 1 1 1 1 1 1 1 1 1 1 1 1 1 1 1 1 1 1 1 1 1 1 1 1 1 2 2 2 2 2 2 2 2 2 2 2\n",
      " 2 2 2 2 2 2 2 2 2 2 2 2 2 2 2 2 2 2 2 2 2 2 2 2 2 2 2 2 2 2 2 2 2 2 2 2 2\n",
      " 2 2] \n",
      "\n",
      "y.shape: (150,) \n",
      "\n"
     ]
    }
   ],
   "source": [
    "print(\"y: \\n\\n {} \\n\" .format(y))\n",
    "print(\"y.shape: {} \\n\" .format(y.shape))"
   ]
  },
  {
   "cell_type": "markdown",
   "id": "b587b6dd-f727-4cda-830f-82cc725297d4",
   "metadata": {},
   "source": [
    "### Step-02: Import train_test_split from sklearn.model_selection"
   ]
  },
  {
   "cell_type": "code",
   "execution_count": 12,
   "id": "cef0882a-7854-48f4-9cfc-549373654dbd",
   "metadata": {},
   "outputs": [],
   "source": [
    "from sklearn.model_selection import train_test_split"
   ]
  },
  {
   "cell_type": "code",
   "execution_count": 13,
   "id": "b72b5dc4-6729-49d0-b1b0-96042cfaf884",
   "metadata": {},
   "outputs": [],
   "source": [
    "x_train, x_test, y_train, y_test = train_test_split(x, y, test_size = 0.33, random_state = 100)"
   ]
  },
  {
   "cell_type": "code",
   "execution_count": 14,
   "id": "5d4906cc-aeea-40d1-93b6-306d18583789",
   "metadata": {},
   "outputs": [
    {
     "data": {
      "text/html": [
       "<div>\n",
       "<style scoped>\n",
       "    .dataframe tbody tr th:only-of-type {\n",
       "        vertical-align: middle;\n",
       "    }\n",
       "\n",
       "    .dataframe tbody tr th {\n",
       "        vertical-align: top;\n",
       "    }\n",
       "\n",
       "    .dataframe thead th {\n",
       "        text-align: right;\n",
       "    }\n",
       "</style>\n",
       "<table border=\"1\" class=\"dataframe\">\n",
       "  <thead>\n",
       "    <tr style=\"text-align: right;\">\n",
       "      <th></th>\n",
       "      <th>sepal length (cm)</th>\n",
       "      <th>sepal width (cm)</th>\n",
       "      <th>petal length (cm)</th>\n",
       "      <th>petal width (cm)</th>\n",
       "    </tr>\n",
       "  </thead>\n",
       "  <tbody>\n",
       "    <tr>\n",
       "      <th>23</th>\n",
       "      <td>5.1</td>\n",
       "      <td>3.3</td>\n",
       "      <td>1.7</td>\n",
       "      <td>0.5</td>\n",
       "    </tr>\n",
       "    <tr>\n",
       "      <th>35</th>\n",
       "      <td>5.0</td>\n",
       "      <td>3.2</td>\n",
       "      <td>1.2</td>\n",
       "      <td>0.2</td>\n",
       "    </tr>\n",
       "    <tr>\n",
       "      <th>54</th>\n",
       "      <td>6.5</td>\n",
       "      <td>2.8</td>\n",
       "      <td>4.6</td>\n",
       "      <td>1.5</td>\n",
       "    </tr>\n",
       "    <tr>\n",
       "      <th>131</th>\n",
       "      <td>7.9</td>\n",
       "      <td>3.8</td>\n",
       "      <td>6.4</td>\n",
       "      <td>2.0</td>\n",
       "    </tr>\n",
       "    <tr>\n",
       "      <th>127</th>\n",
       "      <td>6.1</td>\n",
       "      <td>3.0</td>\n",
       "      <td>4.9</td>\n",
       "      <td>1.8</td>\n",
       "    </tr>\n",
       "    <tr>\n",
       "      <th>...</th>\n",
       "      <td>...</td>\n",
       "      <td>...</td>\n",
       "      <td>...</td>\n",
       "      <td>...</td>\n",
       "    </tr>\n",
       "    <tr>\n",
       "      <th>87</th>\n",
       "      <td>6.3</td>\n",
       "      <td>2.3</td>\n",
       "      <td>4.4</td>\n",
       "      <td>1.3</td>\n",
       "    </tr>\n",
       "    <tr>\n",
       "      <th>103</th>\n",
       "      <td>6.3</td>\n",
       "      <td>2.9</td>\n",
       "      <td>5.6</td>\n",
       "      <td>1.8</td>\n",
       "    </tr>\n",
       "    <tr>\n",
       "      <th>67</th>\n",
       "      <td>5.8</td>\n",
       "      <td>2.7</td>\n",
       "      <td>4.1</td>\n",
       "      <td>1.0</td>\n",
       "    </tr>\n",
       "    <tr>\n",
       "      <th>24</th>\n",
       "      <td>4.8</td>\n",
       "      <td>3.4</td>\n",
       "      <td>1.9</td>\n",
       "      <td>0.2</td>\n",
       "    </tr>\n",
       "    <tr>\n",
       "      <th>8</th>\n",
       "      <td>4.4</td>\n",
       "      <td>2.9</td>\n",
       "      <td>1.4</td>\n",
       "      <td>0.2</td>\n",
       "    </tr>\n",
       "  </tbody>\n",
       "</table>\n",
       "<p>100 rows × 4 columns</p>\n",
       "</div>"
      ],
      "text/plain": [
       "     sepal length (cm)  sepal width (cm)  petal length (cm)  petal width (cm)\n",
       "23                 5.1               3.3                1.7               0.5\n",
       "35                 5.0               3.2                1.2               0.2\n",
       "54                 6.5               2.8                4.6               1.5\n",
       "131                7.9               3.8                6.4               2.0\n",
       "127                6.1               3.0                4.9               1.8\n",
       "..                 ...               ...                ...               ...\n",
       "87                 6.3               2.3                4.4               1.3\n",
       "103                6.3               2.9                5.6               1.8\n",
       "67                 5.8               2.7                4.1               1.0\n",
       "24                 4.8               3.4                1.9               0.2\n",
       "8                  4.4               2.9                1.4               0.2\n",
       "\n",
       "[100 rows x 4 columns]"
      ]
     },
     "execution_count": 14,
     "metadata": {},
     "output_type": "execute_result"
    }
   ],
   "source": [
    "x_train"
   ]
  },
  {
   "cell_type": "code",
   "execution_count": 15,
   "id": "2b8f9e86-30f4-4ac8-a45c-adbe21df9c5f",
   "metadata": {},
   "outputs": [
    {
     "name": "stdout",
     "output_type": "stream",
     "text": [
      "x_train.head(): \n",
      "\n",
      "      sepal length (cm)  sepal width (cm)  petal length (cm)  petal width (cm)\n",
      "23                 5.1               3.3                1.7               0.5\n",
      "35                 5.0               3.2                1.2               0.2\n",
      "54                 6.5               2.8                4.6               1.5\n",
      "131                7.9               3.8                6.4               2.0\n",
      "127                6.1               3.0                4.9               1.8 \n",
      "\n",
      "x_train.shape: (100, 4)\n"
     ]
    }
   ],
   "source": [
    "print(\"x_train.head(): \\n\\n {} \\n\" .format(x_train.head()))\n",
    "print(\"x_train.shape: {}\" .format(x_train.shape))"
   ]
  },
  {
   "cell_type": "code",
   "execution_count": 17,
   "id": "ba67debd-8faa-4c09-8758-294e798dc73f",
   "metadata": {},
   "outputs": [
    {
     "data": {
      "text/html": [
       "<div>\n",
       "<style scoped>\n",
       "    .dataframe tbody tr th:only-of-type {\n",
       "        vertical-align: middle;\n",
       "    }\n",
       "\n",
       "    .dataframe tbody tr th {\n",
       "        vertical-align: top;\n",
       "    }\n",
       "\n",
       "    .dataframe thead th {\n",
       "        text-align: right;\n",
       "    }\n",
       "</style>\n",
       "<table border=\"1\" class=\"dataframe\">\n",
       "  <thead>\n",
       "    <tr style=\"text-align: right;\">\n",
       "      <th></th>\n",
       "      <th>sepal length (cm)</th>\n",
       "      <th>sepal width (cm)</th>\n",
       "      <th>petal length (cm)</th>\n",
       "      <th>petal width (cm)</th>\n",
       "    </tr>\n",
       "  </thead>\n",
       "  <tbody>\n",
       "    <tr>\n",
       "      <th>128</th>\n",
       "      <td>6.4</td>\n",
       "      <td>2.8</td>\n",
       "      <td>5.6</td>\n",
       "      <td>2.1</td>\n",
       "    </tr>\n",
       "    <tr>\n",
       "      <th>11</th>\n",
       "      <td>4.8</td>\n",
       "      <td>3.4</td>\n",
       "      <td>1.6</td>\n",
       "      <td>0.2</td>\n",
       "    </tr>\n",
       "    <tr>\n",
       "      <th>118</th>\n",
       "      <td>7.7</td>\n",
       "      <td>2.6</td>\n",
       "      <td>6.9</td>\n",
       "      <td>2.3</td>\n",
       "    </tr>\n",
       "    <tr>\n",
       "      <th>15</th>\n",
       "      <td>5.7</td>\n",
       "      <td>4.4</td>\n",
       "      <td>1.5</td>\n",
       "      <td>0.4</td>\n",
       "    </tr>\n",
       "    <tr>\n",
       "      <th>123</th>\n",
       "      <td>6.3</td>\n",
       "      <td>2.7</td>\n",
       "      <td>4.9</td>\n",
       "      <td>1.8</td>\n",
       "    </tr>\n",
       "  </tbody>\n",
       "</table>\n",
       "</div>"
      ],
      "text/plain": [
       "     sepal length (cm)  sepal width (cm)  petal length (cm)  petal width (cm)\n",
       "128                6.4               2.8                5.6               2.1\n",
       "11                 4.8               3.4                1.6               0.2\n",
       "118                7.7               2.6                6.9               2.3\n",
       "15                 5.7               4.4                1.5               0.4\n",
       "123                6.3               2.7                4.9               1.8"
      ]
     },
     "execution_count": 17,
     "metadata": {},
     "output_type": "execute_result"
    }
   ],
   "source": [
    "x_test.head()"
   ]
  },
  {
   "cell_type": "code",
   "execution_count": 18,
   "id": "ffd1d4a1-603b-42c8-a4de-a2e143c368aa",
   "metadata": {},
   "outputs": [
    {
     "name": "stdout",
     "output_type": "stream",
     "text": [
      "x_test.head(): \n",
      "\n",
      "      sepal length (cm)  sepal width (cm)  petal length (cm)  petal width (cm)\n",
      "128                6.4               2.8                5.6               2.1\n",
      "11                 4.8               3.4                1.6               0.2\n",
      "118                7.7               2.6                6.9               2.3\n",
      "15                 5.7               4.4                1.5               0.4\n",
      "123                6.3               2.7                4.9               1.8 \n",
      "\n",
      "x_test.shape: (50, 4)\n"
     ]
    }
   ],
   "source": [
    "print(\"x_test.head(): \\n\\n {} \\n\" .format(x_test.head()))\n",
    "print(\"x_test.shape: {}\" .format(x_test.shape))"
   ]
  },
  {
   "cell_type": "code",
   "execution_count": 19,
   "id": "b4c3a8e1-3b07-4e82-9889-1f0065e2d96d",
   "metadata": {},
   "outputs": [
    {
     "data": {
      "text/plain": [
       "array([0, 0, 1, 2, 2, 1, 2, 1, 2, 2, 1, 0, 2, 2, 2, 0, 0, 2, 0, 0, 0, 1,\n",
       "       2, 2, 2, 0, 1, 1, 0, 1, 1, 2, 0, 1, 1, 1, 1, 1, 1, 2, 2, 0, 1, 0,\n",
       "       1, 2, 2, 2, 1, 0, 0, 0, 0, 2, 0, 0, 1, 0, 2, 1, 2, 0, 2, 2, 0, 1,\n",
       "       1, 1, 2, 1, 1, 0, 0, 0, 2, 1, 1, 0, 2, 2, 2, 1, 1, 1, 1, 2, 2, 0,\n",
       "       0, 1, 1, 1, 1, 2, 1, 1, 2, 1, 0, 0])"
      ]
     },
     "execution_count": 19,
     "metadata": {},
     "output_type": "execute_result"
    }
   ],
   "source": [
    "y_train"
   ]
  },
  {
   "cell_type": "code",
   "execution_count": 21,
   "id": "ffe4f792-a0dd-4a17-a6f8-f871889b3290",
   "metadata": {},
   "outputs": [
    {
     "name": "stdout",
     "output_type": "stream",
     "text": [
      "y_train: \n",
      "\n",
      " [0 0 1 2 2 1 2 1 2 2 1 0 2 2 2 0 0 2 0 0 0 1 2 2 2 0 1 1 0 1 1 2 0 1 1 1 1\n",
      " 1 1 2 2 0 1 0 1 2 2 2 1 0 0 0 0 2 0 0 1 0 2 1 2 0 2 2 0 1 1 1 2 1 1 0 0 0\n",
      " 2 1 1 0 2 2 2 1 1 1 1 2 2 0 0 1 1 1 1 2 1 1 2 1 0 0] \n",
      "\n",
      "y_train.shape: (100,)\n"
     ]
    }
   ],
   "source": [
    "print(\"y_train: \\n\\n {} \\n\" .format(y_train))\n",
    "print(\"y_train.shape: {}\" .format(y_train.shape))"
   ]
  },
  {
   "cell_type": "code",
   "execution_count": 22,
   "id": "b1b19b21-7287-492f-8500-567b9dbbb81a",
   "metadata": {},
   "outputs": [
    {
     "data": {
      "text/plain": [
       "array([2, 0, 2, 0, 2, 2, 0, 0, 2, 0, 0, 2, 0, 0, 2, 1, 1, 1, 2, 2, 2, 0,\n",
       "       2, 0, 1, 2, 1, 0, 1, 2, 1, 1, 2, 0, 0, 1, 0, 1, 2, 2, 0, 1, 2, 2,\n",
       "       0, 0, 0, 0, 1, 0])"
      ]
     },
     "execution_count": 22,
     "metadata": {},
     "output_type": "execute_result"
    }
   ],
   "source": [
    "y_test"
   ]
  },
  {
   "cell_type": "code",
   "execution_count": 23,
   "id": "ef0e80a5-2bd8-46f5-8721-7b808dab8a89",
   "metadata": {},
   "outputs": [
    {
     "name": "stdout",
     "output_type": "stream",
     "text": [
      "y_test: \n",
      "\n",
      " [2 0 2 0 2 2 0 0 2 0 0 2 0 0 2 1 1 1 2 2 2 0 2 0 1 2 1 0 1 2 1 1 2 0 0 1 0\n",
      " 1 2 2 0 1 2 2 0 0 0 0 1 0] \n",
      "\n",
      "y_test.shape: (50,)\n"
     ]
    }
   ],
   "source": [
    "print(\"y_test: \\n\\n {} \\n\" .format(y_test))\n",
    "print(\"y_test.shape: {}\" .format(y_test.shape))"
   ]
  },
  {
   "cell_type": "markdown",
   "id": "05b7e820-0782-4022-ac86-029b5ea6d98b",
   "metadata": {},
   "source": [
    "### Step-03: Import StandardScaler from sklearn.preprocessing"
   ]
  },
  {
   "cell_type": "code",
   "execution_count": 24,
   "id": "5fb3380a-6894-4ae1-90a3-d4c1ff3ca4dc",
   "metadata": {},
   "outputs": [],
   "source": [
    "from sklearn.preprocessing import StandardScaler"
   ]
  },
  {
   "cell_type": "code",
   "execution_count": 25,
   "id": "2cd58824-64f6-40ab-a8d5-e8df50384865",
   "metadata": {},
   "outputs": [],
   "source": [
    "standard_scaler = StandardScaler()"
   ]
  },
  {
   "cell_type": "code",
   "execution_count": 26,
   "id": "5bde3952-cd47-4b49-80f7-226c8788de84",
   "metadata": {},
   "outputs": [
    {
     "data": {
      "text/html": [
       "<style>#sk-container-id-1 {color: black;background-color: white;}#sk-container-id-1 pre{padding: 0;}#sk-container-id-1 div.sk-toggleable {background-color: white;}#sk-container-id-1 label.sk-toggleable__label {cursor: pointer;display: block;width: 100%;margin-bottom: 0;padding: 0.3em;box-sizing: border-box;text-align: center;}#sk-container-id-1 label.sk-toggleable__label-arrow:before {content: \"▸\";float: left;margin-right: 0.25em;color: #696969;}#sk-container-id-1 label.sk-toggleable__label-arrow:hover:before {color: black;}#sk-container-id-1 div.sk-estimator:hover label.sk-toggleable__label-arrow:before {color: black;}#sk-container-id-1 div.sk-toggleable__content {max-height: 0;max-width: 0;overflow: hidden;text-align: left;background-color: #f0f8ff;}#sk-container-id-1 div.sk-toggleable__content pre {margin: 0.2em;color: black;border-radius: 0.25em;background-color: #f0f8ff;}#sk-container-id-1 input.sk-toggleable__control:checked~div.sk-toggleable__content {max-height: 200px;max-width: 100%;overflow: auto;}#sk-container-id-1 input.sk-toggleable__control:checked~label.sk-toggleable__label-arrow:before {content: \"▾\";}#sk-container-id-1 div.sk-estimator input.sk-toggleable__control:checked~label.sk-toggleable__label {background-color: #d4ebff;}#sk-container-id-1 div.sk-label input.sk-toggleable__control:checked~label.sk-toggleable__label {background-color: #d4ebff;}#sk-container-id-1 input.sk-hidden--visually {border: 0;clip: rect(1px 1px 1px 1px);clip: rect(1px, 1px, 1px, 1px);height: 1px;margin: -1px;overflow: hidden;padding: 0;position: absolute;width: 1px;}#sk-container-id-1 div.sk-estimator {font-family: monospace;background-color: #f0f8ff;border: 1px dotted black;border-radius: 0.25em;box-sizing: border-box;margin-bottom: 0.5em;}#sk-container-id-1 div.sk-estimator:hover {background-color: #d4ebff;}#sk-container-id-1 div.sk-parallel-item::after {content: \"\";width: 100%;border-bottom: 1px solid gray;flex-grow: 1;}#sk-container-id-1 div.sk-label:hover label.sk-toggleable__label {background-color: #d4ebff;}#sk-container-id-1 div.sk-serial::before {content: \"\";position: absolute;border-left: 1px solid gray;box-sizing: border-box;top: 0;bottom: 0;left: 50%;z-index: 0;}#sk-container-id-1 div.sk-serial {display: flex;flex-direction: column;align-items: center;background-color: white;padding-right: 0.2em;padding-left: 0.2em;position: relative;}#sk-container-id-1 div.sk-item {position: relative;z-index: 1;}#sk-container-id-1 div.sk-parallel {display: flex;align-items: stretch;justify-content: center;background-color: white;position: relative;}#sk-container-id-1 div.sk-item::before, #sk-container-id-1 div.sk-parallel-item::before {content: \"\";position: absolute;border-left: 1px solid gray;box-sizing: border-box;top: 0;bottom: 0;left: 50%;z-index: -1;}#sk-container-id-1 div.sk-parallel-item {display: flex;flex-direction: column;z-index: 1;position: relative;background-color: white;}#sk-container-id-1 div.sk-parallel-item:first-child::after {align-self: flex-end;width: 50%;}#sk-container-id-1 div.sk-parallel-item:last-child::after {align-self: flex-start;width: 50%;}#sk-container-id-1 div.sk-parallel-item:only-child::after {width: 0;}#sk-container-id-1 div.sk-dashed-wrapped {border: 1px dashed gray;margin: 0 0.4em 0.5em 0.4em;box-sizing: border-box;padding-bottom: 0.4em;background-color: white;}#sk-container-id-1 div.sk-label label {font-family: monospace;font-weight: bold;display: inline-block;line-height: 1.2em;}#sk-container-id-1 div.sk-label-container {text-align: center;}#sk-container-id-1 div.sk-container {/* jupyter's `normalize.less` sets `[hidden] { display: none; }` but bootstrap.min.css set `[hidden] { display: none !important; }` so we also need the `!important` here to be able to override the default hidden behavior on the sphinx rendered scikit-learn.org. See: https://github.com/scikit-learn/scikit-learn/issues/21755 */display: inline-block !important;position: relative;}#sk-container-id-1 div.sk-text-repr-fallback {display: none;}</style><div id=\"sk-container-id-1\" class=\"sk-top-container\"><div class=\"sk-text-repr-fallback\"><pre>StandardScaler()</pre><b>In a Jupyter environment, please rerun this cell to show the HTML representation or trust the notebook. <br />On GitHub, the HTML representation is unable to render, please try loading this page with nbviewer.org.</b></div><div class=\"sk-container\" hidden><div class=\"sk-item\"><div class=\"sk-estimator sk-toggleable\"><input class=\"sk-toggleable__control sk-hidden--visually\" id=\"sk-estimator-id-1\" type=\"checkbox\" checked><label for=\"sk-estimator-id-1\" class=\"sk-toggleable__label sk-toggleable__label-arrow\">StandardScaler</label><div class=\"sk-toggleable__content\"><pre>StandardScaler()</pre></div></div></div></div></div>"
      ],
      "text/plain": [
       "StandardScaler()"
      ]
     },
     "execution_count": 26,
     "metadata": {},
     "output_type": "execute_result"
    }
   ],
   "source": [
    "standard_scaler"
   ]
  },
  {
   "cell_type": "code",
   "execution_count": 27,
   "id": "933a2aec-5485-4a4a-9f46-ed297b40e579",
   "metadata": {},
   "outputs": [],
   "source": [
    "x_train = standard_scaler.fit_transform(x_train)\n",
    "x_test = standard_scaler.transform(x_test)"
   ]
  },
  {
   "cell_type": "code",
   "execution_count": 28,
   "id": "79944b76-4e92-487b-bfa5-651d9cd42d00",
   "metadata": {},
   "outputs": [
    {
     "data": {
      "text/plain": [
       "array([[-0.91606933,  0.5957364 , -1.2517454 , -0.99807655],\n",
       "       [-1.04053528,  0.35648483, -1.54696837, -1.41394178],\n",
       "       [ 0.82645386, -0.60052143,  0.46054784,  0.38814088],\n",
       "       [ 2.56897705,  1.79199424,  1.52335053,  1.0812496 ],\n",
       "       [ 0.32859009, -0.1220183 ,  0.63768162,  0.80400611],\n",
       "       [-0.54267151, -0.1220183 ,  0.40150324,  0.38814088],\n",
       "       [ 0.70198791, -0.839773  ,  0.87386   ,  0.94262785],\n",
       "       [-0.16927368, -0.36126987,  0.22436946,  0.11089739],\n",
       "       [ 2.32004516,  1.79199424,  1.70048432,  1.35849308],\n",
       "       [ 0.82645386,  0.35648483,  0.75577081,  1.0812496 ],\n",
       "       [-0.04480774, -0.839773  ,  0.04723568, -0.02772435],\n",
       "       [-1.53839905,  1.3134911 , -1.66505756, -1.41394178],\n",
       "       [ 1.32431763,  0.11723327,  0.93290459,  1.21987134],\n",
       "       [ 1.07538574,  0.5957364 ,  1.11003837,  1.21987134],\n",
       "       [ 0.57752197, -0.60052143,  0.75577081,  0.38814088],\n",
       "       [-0.41820557,  2.7490005 , -1.42887918, -1.41394178],\n",
       "       [-1.78733093,  0.35648483, -1.48792378, -1.41394178],\n",
       "       [-0.04480774, -0.839773  ,  0.75577081,  0.94262785],\n",
       "       [-0.54267151,  2.0312458 , -1.2517454 , -1.13669829],\n",
       "       [-0.41820557,  1.07423953, -1.48792378, -1.41394178],\n",
       "       [-1.04053528,  1.07423953, -1.31078999, -0.85945481],\n",
       "       [ 1.32431763,  0.11723327,  0.63768162,  0.38814088],\n",
       "       [ 0.82645386, -0.1220183 ,  1.16908297,  1.35849308],\n",
       "       [ 1.07538574,  0.5957364 ,  1.11003837,  1.77435831],\n",
       "       [ 0.32859009, -1.07902457,  1.05099378,  0.24951914],\n",
       "       [-0.54267151,  1.55274267, -1.36983459, -1.41394178],\n",
       "       [ 0.20412415,  0.83498797,  0.40150324,  0.52676262],\n",
       "       [ 0.0796582 ,  0.35648483,  0.57863702,  0.80400611],\n",
       "       [-1.53839905,  0.11723327, -1.36983459, -1.41394178],\n",
       "       [ 1.19985168, -0.60052143,  0.57863702,  0.24951914],\n",
       "       [-1.16500122, -1.5575277 , -0.30703189, -0.30496784],\n",
       "       [ 0.45305603, -0.60052143,  0.57863702,  0.80400611],\n",
       "       [-0.91606933,  1.07423953, -1.42887918, -1.41394178],\n",
       "       [ 0.20412415, -0.36126987,  0.40150324,  0.38814088],\n",
       "       [-0.29373962, -0.1220183 ,  0.16532486,  0.11089739],\n",
       "       [ 0.20412415, -0.839773  ,  0.75577081,  0.52676262],\n",
       "       [ 1.44878357,  0.35648483,  0.51959243,  0.24951914],\n",
       "       [ 0.45305603, -2.03603083,  0.40150324,  0.38814088],\n",
       "       [-0.16927368, -0.1220183 ,  0.22436946, -0.02772435],\n",
       "       [ 0.70198791, -0.60052143,  1.05099378,  1.35849308],\n",
       "       [-0.16927368, -1.31827613,  0.69672621,  1.0812496 ],\n",
       "       [-1.91179687, -0.1220183 , -1.60601297, -1.55256352],\n",
       "       [ 0.57752197, -1.31827613,  0.63768162,  0.38814088],\n",
       "       [-0.91606933,  1.07423953, -1.42887918, -1.27532004],\n",
       "       [ 0.70198791, -0.36126987,  0.28341405,  0.11089739],\n",
       "       [ 1.69771545, -0.1220183 ,  1.16908297,  0.52676262],\n",
       "       [ 0.70198791,  0.11723327,  0.99194918,  0.80400611],\n",
       "       [-1.16500122, -1.31827613,  0.40150324,  0.66538437],\n",
       "       [-0.29373962, -0.36126987, -0.12989811,  0.11089739],\n",
       "       [-0.16927368,  1.79199424, -1.2517454 , -1.27532004],\n",
       "       [-0.91606933,  1.79199424, -1.13365621, -1.13669829],\n",
       "       [-1.78733093, -0.1220183 , -1.48792378, -1.41394178],\n",
       "       [-0.91606933,  0.83498797, -1.36983459, -1.41394178],\n",
       "       [-0.29373962, -0.60052143,  0.63768162,  1.0812496 ],\n",
       "       [-0.66713745,  1.55274267, -1.36983459, -1.41394178],\n",
       "       [-1.28946716,  0.11723327, -1.31078999, -1.41394178],\n",
       "       [ 0.57752197,  0.5957364 ,  0.51959243,  0.52676262],\n",
       "       [-0.79160339,  1.07423953, -1.36983459, -1.41394178],\n",
       "       [ 1.07538574,  0.11723327,  1.05099378,  1.63573657],\n",
       "       [ 0.32859009, -0.36126987,  0.51959243,  0.24951914],\n",
       "       [ 1.32431763,  0.11723327,  0.75577081,  1.49711483],\n",
       "       [-0.91606933,  1.79199424, -1.36983459, -1.27532004],\n",
       "       [-0.04480774, -0.839773  ,  0.75577081,  0.94262785],\n",
       "       [ 2.19557922, -0.1220183 ,  1.64143972,  1.21987134],\n",
       "       [-1.4139331 ,  0.35648483, -1.48792378, -1.41394178],\n",
       "       [-0.41820557, -1.5575277 , -0.01180892, -0.16634609],\n",
       "       [ 0.32859009, -0.60052143,  0.10628027,  0.11089739],\n",
       "       [-0.16927368, -0.60052143,  0.40150324,  0.11089739],\n",
       "       [ 1.19985168,  0.35648483,  1.22812756,  1.49711483],\n",
       "       [ 0.0796582 , -0.1220183 ,  0.22436946,  0.38814088],\n",
       "       [ 1.07538574,  0.11723327,  0.34245865,  0.24951914],\n",
       "       [-1.53839905,  0.35648483, -1.42887918, -1.41394178],\n",
       "       [-1.04053528,  0.5957364 , -1.42887918, -1.41394178],\n",
       "       [-1.04053528,  0.83498797, -1.36983459, -1.41394178],\n",
       "       [ 0.82645386, -0.1220183 ,  0.8148154 ,  1.0812496 ],\n",
       "       [-0.79160339, -0.839773  ,  0.04723568,  0.24951914],\n",
       "       [ 0.32859009, -0.1220183 ,  0.46054784,  0.24951914],\n",
       "       [-1.04053528,  1.3134911 , -1.42887918, -1.41394178],\n",
       "       [ 0.57752197,  0.5957364 ,  1.28717216,  1.77435831],\n",
       "       [ 1.07538574, -1.31827613,  1.16908297,  0.80400611],\n",
       "       [ 1.94664734, -0.60052143,  1.34621675,  0.94262785],\n",
       "       [ 1.07538574,  0.11723327,  0.51959243,  0.38814088],\n",
       "       [-1.04053528, -1.79677927, -0.30703189, -0.30496784],\n",
       "       [ 0.9509198 , -0.36126987,  0.46054784,  0.11089739],\n",
       "       [-1.04053528, -2.51453397, -0.1889427 , -0.30496784],\n",
       "       [ 1.82218139, -0.36126987,  1.46430594,  0.80400611],\n",
       "       [ 0.45305603,  0.83498797,  0.93290459,  1.49711483],\n",
       "       [-1.16500122,  0.11723327, -1.36983459, -1.41394178],\n",
       "       [-0.04480774,  2.27049737, -1.54696837, -1.41394178],\n",
       "       [-0.29373962, -0.1220183 ,  0.40150324,  0.38814088],\n",
       "       [-0.41820557, -1.79677927,  0.10628027,  0.11089739],\n",
       "       [-0.91606933, -1.31827613, -0.48416567, -0.16634609],\n",
       "       [-0.29373962, -0.839773  ,  0.22436946,  0.11089739],\n",
       "       [ 0.20412415, -0.1220183 ,  0.57863702,  0.80400611],\n",
       "       [-0.16927368, -1.07902457, -0.1889427 , -0.30496784],\n",
       "       [ 0.57752197, -1.79677927,  0.34245865,  0.11089739],\n",
       "       [ 0.57752197, -0.36126987,  1.05099378,  0.80400611],\n",
       "       [-0.04480774, -0.839773  ,  0.16532486, -0.30496784],\n",
       "       [-1.28946716,  0.83498797, -1.13365621, -1.41394178],\n",
       "       [-1.78733093, -0.36126987, -1.42887918, -1.41394178]])"
      ]
     },
     "execution_count": 28,
     "metadata": {},
     "output_type": "execute_result"
    }
   ],
   "source": [
    "x_train"
   ]
  },
  {
   "cell_type": "code",
   "execution_count": 29,
   "id": "4a2c23f4-d2f5-4e1a-b249-9bc305ba4dea",
   "metadata": {},
   "outputs": [
    {
     "data": {
      "text/plain": [
       "array([[ 0.70198791, -0.60052143,  1.05099378,  1.21987134],\n",
       "       [-1.28946716,  0.83498797, -1.31078999, -1.41394178],\n",
       "       [ 2.32004516, -1.07902457,  1.81857351,  1.49711483],\n",
       "       [-0.16927368,  3.22750364, -1.36983459, -1.13669829],\n",
       "       [ 0.57752197, -0.839773  ,  0.63768162,  0.80400611],\n",
       "       [ 2.32004516, -0.1220183 ,  1.34621675,  1.49711483],\n",
       "       [-0.79160339,  2.50974894, -1.36983459, -1.55256352],\n",
       "       [-1.16500122, -0.1220183 , -1.42887918, -1.41394178],\n",
       "       [ 0.82645386, -0.1220183 ,  0.99194918,  0.80400611],\n",
       "       [-1.28946716, -0.1220183 , -1.42887918, -1.27532004],\n",
       "       [-1.04053528,  1.07423953, -1.48792378, -1.27532004],\n",
       "       [ 0.70198791,  0.35648483,  0.87386   ,  1.49711483],\n",
       "       [-1.04053528,  0.83498797, -1.31078999, -1.13669829],\n",
       "       [-0.79160339,  0.83498797, -1.42887918, -1.41394178],\n",
       "       [ 1.07538574, -0.1220183 ,  0.8148154 ,  1.49711483],\n",
       "       [ 0.45305603, -0.36126987,  0.28341405,  0.11089739],\n",
       "       [ 0.20412415, -2.03603083,  0.10628027, -0.30496784],\n",
       "       [ 1.07538574, -0.1220183 ,  0.69672621,  0.66538437],\n",
       "       [ 2.32004516, -0.60052143,  1.70048432,  1.0812496 ],\n",
       "       [ 1.19985168, -0.1220183 ,  0.99194918,  1.21987134],\n",
       "       [ 1.69771545,  0.35648483,  1.28717216,  0.80400611],\n",
       "       [-0.54267151,  0.83498797, -1.36983459, -1.13669829],\n",
       "       [ 0.57752197, -1.31827613,  0.69672621,  0.94262785],\n",
       "       [-1.4139331 ,  0.35648483, -1.31078999, -1.41394178],\n",
       "       [-0.29373962, -1.31827613,  0.04723568, -0.16634609],\n",
       "       [ 0.0796582 , -0.1220183 ,  0.75577081,  0.80400611],\n",
       "       [ 0.9509198 , -0.1220183 ,  0.34245865,  0.24951914],\n",
       "       [-0.54267151,  0.83498797, -1.2517454 , -1.41394178],\n",
       "       [ 0.32859009, -0.60052143,  0.51959243, -0.02772435],\n",
       "       [ 1.32431763,  0.35648483,  1.11003837,  1.49711483],\n",
       "       [-0.41820557, -1.5575277 , -0.07085351, -0.30496784],\n",
       "       [-0.16927368, -0.60052143,  0.16532486,  0.11089739],\n",
       "       [ 0.20412415, -2.03603083,  0.69672621,  0.38814088],\n",
       "       [-1.28946716, -0.1220183 , -1.42887918, -1.55256352],\n",
       "       [-0.54267151,  2.0312458 , -1.48792378, -1.13669829],\n",
       "       [ 0.70198791,  0.35648483,  0.40150324,  0.38814088],\n",
       "       [-0.91606933,  1.79199424, -1.31078999, -1.41394178],\n",
       "       [-0.41820557, -1.31827613,  0.10628027,  0.11089739],\n",
       "       [ 0.57752197,  0.83498797,  1.05099378,  1.63573657],\n",
       "       [-0.04480774, -0.60052143,  0.75577081,  1.63573657],\n",
       "       [-1.66286499, -1.79677927, -1.48792378, -1.27532004],\n",
       "       [-0.41820557, -1.07902457,  0.34245865, -0.02772435],\n",
       "       [ 1.57324951, -0.1220183 ,  1.22812756,  1.21987134],\n",
       "       [ 1.69771545,  1.3134911 ,  1.34621675,  1.77435831],\n",
       "       [-1.16500122,  1.3134911 , -1.42887918, -1.55256352],\n",
       "       [-1.53839905,  0.83498797, -1.42887918, -1.27532004],\n",
       "       [-1.04053528, -0.1220183 , -1.31078999, -1.41394178],\n",
       "       [-0.91606933,  1.55274267, -1.36983459, -1.13669829],\n",
       "       [-0.04480774, -1.07902457,  0.10628027, -0.02772435],\n",
       "       [-1.16500122,  0.11723327, -1.36983459, -1.55256352]])"
      ]
     },
     "execution_count": 29,
     "metadata": {},
     "output_type": "execute_result"
    }
   ],
   "source": [
    "x_test"
   ]
  },
  {
   "cell_type": "markdown",
   "id": "e966ae9f-9dd3-4169-a3fa-6b4ef6b34ba2",
   "metadata": {},
   "source": [
    "### Step-04: Import PCA from sklearn.decomposition"
   ]
  },
  {
   "cell_type": "code",
   "execution_count": 31,
   "id": "997618a6-ee4b-4802-b1d5-2b8563c54b09",
   "metadata": {},
   "outputs": [],
   "source": [
    "from sklearn.decomposition import PCA"
   ]
  },
  {
   "cell_type": "code",
   "execution_count": 32,
   "id": "582a6a08-ce6f-4ce4-926f-bdb5445588e2",
   "metadata": {},
   "outputs": [],
   "source": [
    "pca = PCA(n_components = 2)"
   ]
  },
  {
   "cell_type": "code",
   "execution_count": 33,
   "id": "a1253a4e-24ca-4217-9609-40a3e16ca796",
   "metadata": {},
   "outputs": [],
   "source": [
    "x_train = pca.fit_transform(x_train)\n",
    "x_test = pca.transform(x_test)"
   ]
  },
  {
   "cell_type": "code",
   "execution_count": 34,
   "id": "c7d44953-2968-45b8-b52f-cf25083b2001",
   "metadata": {},
   "outputs": [
    {
     "data": {
      "text/plain": [
       "array([[ 1.92810952,  0.11720672],\n",
       "       [ 2.3396654 , -0.16921336],\n",
       "       [-1.07230939, -0.18945175],\n",
       "       [-2.36256666,  2.74358318],\n",
       "       [-1.03236861,  0.05804704],\n",
       "       [-0.2090696 , -0.3154783 ],\n",
       "       [-1.62865751, -0.43512783],\n",
       "       [-0.20167206, -0.39172522],\n",
       "       [-2.49628608,  2.65277787],\n",
       "       [-1.39086922,  0.7085655 ],\n",
       "       [-0.20757625, -0.78388657],\n",
       "       [ 2.91412277,  0.49710447],\n",
       "       [-1.89193313,  0.70161137],\n",
       "       [-1.74304415,  1.03855248],\n",
       "       [-1.11723155, -0.28676521],\n",
       "       [ 2.57369583,  2.26850916],\n",
       "       [ 2.68908788, -0.47439145],\n",
       "       [-1.17548025, -0.74314257],\n",
       "       [ 2.18901324,  1.57450595],\n",
       "       [ 2.17203624,  0.74105374],\n",
       "       [ 2.07235341,  0.50558587],\n",
       "       [-1.24510717,  0.67168585],\n",
       "       [-1.9155721 ,  0.28743793],\n",
       "       [-2.05897837,  1.055351  ],\n",
       "       [-1.20781144, -0.82442399],\n",
       "       [ 2.29150891,  1.12806991],\n",
       "       [-0.42277798,  0.86713633],\n",
       "       [-0.74513992,  0.39120595],\n",
       "       [ 2.42959492, -0.58853198],\n",
       "       [-1.25449939, -0.03869845],\n",
       "       [ 0.54694959, -1.91136311],\n",
       "       [-1.18642621, -0.32802358],\n",
       "       [ 2.39345625,  0.53791686],\n",
       "       [-0.65539765, -0.22742749],\n",
       "       [-0.04076525, -0.22561854],\n",
       "       [-1.06653205, -0.65370025],\n",
       "       [-1.09863435,  0.93468857],\n",
       "       [-1.21964463, -1.65189615],\n",
       "       [-0.06036786, -0.17785201],\n",
       "       [-1.90704231, -0.20161946],\n",
       "       [-1.28051894, -1.22705478],\n",
       "       [ 2.77660123, -0.96764847],\n",
       "       [-1.23502364, -0.94287483],\n",
       "       [ 2.3144727 ,  0.54211649],\n",
       "       [-0.68426562, -0.03363542],\n",
       "       [-1.8896794 ,  0.6193844 ],\n",
       "       [-1.36956122,  0.43485499],\n",
       "       [-0.35863377, -1.65254627],\n",
       "       [ 0.06983873, -0.44841912],\n",
       "       [ 2.01367245,  1.5052953 ],\n",
       "       [ 2.24952645,  1.20526238],\n",
       "       [ 2.56444659, -0.91053713],\n",
       "       [ 2.29655068,  0.32078957],\n",
       "       [-0.99497084, -0.62480242],\n",
       "       [ 2.35551015,  1.07704931],\n",
       "       [ 2.26700752, -0.48554521],\n",
       "       [-0.74627218,  0.80401641],\n",
       "       [ 2.29487009,  0.58988302],\n",
       "       [-2.07005118,  0.61406014],\n",
       "       [-0.70958518, -0.17871542],\n",
       "       [-1.94614547,  0.70717398],\n",
       "       [ 2.46684971,  1.19728056],\n",
       "       [-1.17548025, -0.74314257],\n",
       "       [-2.81728152,  0.85202937],\n",
       "       [ 2.49708418, -0.32132963],\n",
       "       [-0.088966  , -1.59631209],\n",
       "       [-0.45082779, -0.40760673],\n",
       "       [-0.36774748, -0.60696141],\n",
       "       [-2.09650299,  0.88179061],\n",
       "       [-0.42532099, -0.06321191],\n",
       "       [-0.86519652,  0.56071726],\n",
       "       [ 2.52650049, -0.37140469],\n",
       "       [ 2.3328162 ,  0.05075058],\n",
       "       [ 2.36055191,  0.26976897],\n",
       "       [-1.55009543,  0.27336537],\n",
       "       [ 0.01846404, -1.08161095],\n",
       "       [-0.61267961,  0.03841187],\n",
       "       [ 2.51977813,  0.7049691 ],\n",
       "       [-1.90672822,  0.85410522],\n",
       "       [-2.03924357, -0.71768357],\n",
       "       [-2.48302861,  0.30071548],\n",
       "       [-1.04793485,  0.56775353],\n",
       "       [ 0.42062771, -2.07841534],\n",
       "       [-0.91602287,  0.07124244],\n",
       "       [ 0.16449592, -2.73074275],\n",
       "       [-2.34689302,  0.46545918],\n",
       "       [-1.41492967,  1.00708489],\n",
       "       [ 2.23759121, -0.43547016],\n",
       "       [ 2.32622069,  1.98353421],\n",
       "       [-0.33707207, -0.21343708],\n",
       "       [-0.37842361, -1.80409457],\n",
       "       [ 0.50603898, -1.58988607],\n",
       "       [-0.26231211, -0.87889151],\n",
       "       [-0.93378245,  0.00608088],\n",
       "       [ 0.09041115, -1.06516147],\n",
       "       [-1.02877319, -1.39214751],\n",
       "       [-1.4647862 , -0.05136574],\n",
       "       [-0.11877899, -0.79039473],\n",
       "       [ 2.35021468,  0.17150995],\n",
       "       [ 2.46754102, -1.12766442]])"
      ]
     },
     "execution_count": 34,
     "metadata": {},
     "output_type": "execute_result"
    }
   ],
   "source": [
    "x_train"
   ]
  },
  {
   "cell_type": "code",
   "execution_count": 35,
   "id": "58a8fc01-0903-4f4c-ac70-095cf97e3368",
   "metadata": {},
   "outputs": [
    {
     "data": {
      "text/plain": [
       "array([[-1.82805875, -0.20581908],\n",
       "       [ 2.45396946,  0.1686733 ],\n",
       "       [-3.39228723,  0.04199453],\n",
       "       [ 2.37778262,  2.81604086],\n",
       "       [-1.34733301, -0.49413026],\n",
       "       [-2.86632524,  0.90672149],\n",
       "       [ 2.74777752,  1.89412042],\n",
       "       [ 2.20985549, -0.65448854],\n",
       "       [-1.4958831 ,  0.26780276],\n",
       "       [ 2.19487317, -0.70130952],\n",
       "       [ 2.41305886,  0.49015034],\n",
       "       [-1.6329885 ,  0.67203488],\n",
       "       [ 2.16799988,  0.27911377],\n",
       "       [ 2.26713437,  0.37086463],\n",
       "       [-1.91504857,  0.38800548],\n",
       "       [-0.55626315, -0.13567664],\n",
       "       [-0.52379976, -1.77966326],\n",
       "       [-1.37197738,  0.3609166 ],\n",
       "       [-2.96152542,  0.46365023],\n",
       "       [-1.92483747,  0.43346347],\n",
       "       [-1.99217507,  1.06582044],\n",
       "       [ 1.94657987,  0.48225066],\n",
       "       [-1.58554279, -0.92513076],\n",
       "       [ 2.3933294 , -0.31849298],\n",
       "       [-0.12523152, -1.32627309],\n",
       "       [-0.97353599, -0.04210308],\n",
       "       [-0.86351593,  0.29162381],\n",
       "       [ 2.03537713,  0.4757425 ],\n",
       "       [-0.61393871, -0.40518751],\n",
       "       [-2.09133438,  0.93092012],\n",
       "       [ 0.02460248, -1.60145726],\n",
       "       [-0.22940778, -0.61074361],\n",
       "       [-1.26456679, -1.74920962],\n",
       "       [ 2.35284028, -0.70970878],\n",
       "       [ 2.32735294,  1.57072375],\n",
       "       [-0.72444065,  0.63087345],\n",
       "       [ 2.51124834,  1.19402648],\n",
       "       [-0.25378232, -1.36794889],\n",
       "       [-1.62708431,  1.06419623],\n",
       "       [-1.50807739, -0.50407159],\n",
       "       [ 1.98521728, -2.38182676],\n",
       "       [-0.25081782, -1.15029348],\n",
       "       [-2.25518087,  0.59030749],\n",
       "       [-2.33036231,  1.96845475],\n",
       "       [ 2.66276292,  0.64974886],\n",
       "       [ 2.57215822,  0.06894062],\n",
       "       [ 2.07668441, -0.60157684],\n",
       "       [ 2.3255455 ,  0.98340735],\n",
       "       [-0.30448182, -1.00101386],\n",
       "       [ 2.31657477, -0.43966979]])"
      ]
     },
     "execution_count": 35,
     "metadata": {},
     "output_type": "execute_result"
    }
   ],
   "source": [
    "x_test"
   ]
  },
  {
   "cell_type": "code",
   "execution_count": 37,
   "id": "93d66043-de2d-4304-ac7e-5502ac3bed23",
   "metadata": {},
   "outputs": [
    {
     "data": {
      "text/plain": [
       "array([[-0.5142068 ,  0.26048166, -0.58574245, -0.56977754],\n",
       "       [ 0.40991621,  0.91147925,  0.01601415,  0.0302956 ]])"
      ]
     },
     "execution_count": 37,
     "metadata": {},
     "output_type": "execute_result"
    }
   ],
   "source": [
    "pca.components_"
   ]
  },
  {
   "cell_type": "code",
   "execution_count": null,
   "id": "4c12eb98-c114-4307-8f1c-1ad5ec216aab",
   "metadata": {},
   "outputs": [],
   "source": [
    "pca."
   ]
  },
  {
   "cell_type": "code",
   "execution_count": 36,
   "id": "58d6446b-bc8b-458c-82b6-a63b4a67f636",
   "metadata": {},
   "outputs": [
    {
     "data": {
      "text/plain": [
       "array([0.71633053, 0.23809163])"
      ]
     },
     "execution_count": 36,
     "metadata": {},
     "output_type": "execute_result"
    }
   ],
   "source": [
    "pca.explained_variance_ratio_"
   ]
  },
  {
   "cell_type": "markdown",
   "id": "b61ca80e-c053-4bc0-b31f-e3969607c0b7",
   "metadata": {},
   "source": [
    "### Step-04: Import scipy.cluster.hierarchy"
   ]
  },
  {
   "cell_type": "code",
   "execution_count": 39,
   "id": "28cfb9bb-c43d-4b00-9eac-57fb45e005f8",
   "metadata": {},
   "outputs": [],
   "source": [
    "import scipy.cluster.hierarchy as sc"
   ]
  },
  {
   "cell_type": "code",
   "execution_count": 45,
   "id": "93577881-613a-49ec-a81f-63cdfa885f5c",
   "metadata": {},
   "outputs": [
    {
     "data": {
      "text/plain": [
       "Text(0.5, 1.0, 'Before Clustering')"
      ]
     },
     "execution_count": 45,
     "metadata": {},
     "output_type": "execute_result"
    },
    {
     "data": {
      "image/png": "[encoded data removed]",
      "text/plain": [
       "<Figure size 640x480 with 1 Axes>"
      ]
     },
     "metadata": {},
     "output_type": "display_data"
    }
   ],
   "source": [
    "sns.scatterplot(x = x_train[:,0], y = x_train[:,1])\n",
    "plt.xlabel(\"Feature_01\")\n",
    "plt.ylabel(\"Feature_02\")\n",
    "plt.title(\"Before Clustering\")"
   ]
  },
  {
   "cell_type": "code",
   "execution_count": 47,
   "id": "4234e74e-4c08-4eca-a52d-a8f7f26684fe",
   "metadata": {},
   "outputs": [
    {
     "data": {
      "text/plain": [
       "Text(0, 0.5, 'Eucledian Distance')"
      ]
     },
     "execution_count": 47,
     "metadata": {},
     "output_type": "execute_result"
    },
    {
     "data": {
      "image/png": "[encoded data removed]",
      "text/plain": [
       "<Figure size 1500x700 with 1 Axes>"
      ]
     },
     "metadata": {},
     "output_type": "display_data"
    }
   ],
   "source": [
    "plt.figure(figsize = (15, 7))\n",
    "plt.title(\"Dendogram\")\n",
    "sc.dendrogram(sc.linkage(x_train, method = \"ward\"))\n",
    "plt.xlabel(\"Sample Index\")\n",
    "plt.ylabel(\"Eucledian Distance\")"
   ]
  },
  {
   "cell_type": "markdown",
   "id": "62d91fc0-f491-41da-b630-7edc061ef888",
   "metadata": {},
   "source": [
    "### Step-05: Import AgglomerativeClustering from sklearn.cluster"
   ]
  },
  {
   "cell_type": "code",
   "execution_count": 49,
   "id": "b0f4243e-f039-4076-a3d6-8a6598f2f6ca",
   "metadata": {},
   "outputs": [],
   "source": [
    "from sklearn.cluster import AgglomerativeClustering"
   ]
  },
  {
   "cell_type": "code",
   "execution_count": 50,
   "id": "bcb9f508-f879-499a-ac15-9a643b8832eb",
   "metadata": {},
   "outputs": [],
   "source": [
    "agglomerative_clustering = AgglomerativeClustering(n_clusters = 2)"
   ]
  },
  {
   "cell_type": "code",
   "execution_count": 51,
   "id": "afb81368-2669-4cf2-ac8f-1e3c4f3b0171",
   "metadata": {},
   "outputs": [
    {
     "data": {
      "text/html": [
       "<style>#sk-container-id-2 {color: black;background-color: white;}#sk-container-id-2 pre{padding: 0;}#sk-container-id-2 div.sk-toggleable {background-color: white;}#sk-container-id-2 label.sk-toggleable__label {cursor: pointer;display: block;width: 100%;margin-bottom: 0;padding: 0.3em;box-sizing: border-box;text-align: center;}#sk-container-id-2 label.sk-toggleable__label-arrow:before {content: \"▸\";float: left;margin-right: 0.25em;color: #696969;}#sk-container-id-2 label.sk-toggleable__label-arrow:hover:before {color: black;}#sk-container-id-2 div.sk-estimator:hover label.sk-toggleable__label-arrow:before {color: black;}#sk-container-id-2 div.sk-toggleable__content {max-height: 0;max-width: 0;overflow: hidden;text-align: left;background-color: #f0f8ff;}#sk-container-id-2 div.sk-toggleable__content pre {margin: 0.2em;color: black;border-radius: 0.25em;background-color: #f0f8ff;}#sk-container-id-2 input.sk-toggleable__control:checked~div.sk-toggleable__content {max-height: 200px;max-width: 100%;overflow: auto;}#sk-container-id-2 input.sk-toggleable__control:checked~label.sk-toggleable__label-arrow:before {content: \"▾\";}#sk-container-id-2 div.sk-estimator input.sk-toggleable__control:checked~label.sk-toggleable__label {background-color: #d4ebff;}#sk-container-id-2 div.sk-label input.sk-toggleable__control:checked~label.sk-toggleable__label {background-color: #d4ebff;}#sk-container-id-2 input.sk-hidden--visually {border: 0;clip: rect(1px 1px 1px 1px);clip: rect(1px, 1px, 1px, 1px);height: 1px;margin: -1px;overflow: hidden;padding: 0;position: absolute;width: 1px;}#sk-container-id-2 div.sk-estimator {font-family: monospace;background-color: #f0f8ff;border: 1px dotted black;border-radius: 0.25em;box-sizing: border-box;margin-bottom: 0.5em;}#sk-container-id-2 div.sk-estimator:hover {background-color: #d4ebff;}#sk-container-id-2 div.sk-parallel-item::after {content: \"\";width: 100%;border-bottom: 1px solid gray;flex-grow: 1;}#sk-container-id-2 div.sk-label:hover label.sk-toggleable__label {background-color: #d4ebff;}#sk-container-id-2 div.sk-serial::before {content: \"\";position: absolute;border-left: 1px solid gray;box-sizing: border-box;top: 0;bottom: 0;left: 50%;z-index: 0;}#sk-container-id-2 div.sk-serial {display: flex;flex-direction: column;align-items: center;background-color: white;padding-right: 0.2em;padding-left: 0.2em;position: relative;}#sk-container-id-2 div.sk-item {position: relative;z-index: 1;}#sk-container-id-2 div.sk-parallel {display: flex;align-items: stretch;justify-content: center;background-color: white;position: relative;}#sk-container-id-2 div.sk-item::before, #sk-container-id-2 div.sk-parallel-item::before {content: \"\";position: absolute;border-left: 1px solid gray;box-sizing: border-box;top: 0;bottom: 0;left: 50%;z-index: -1;}#sk-container-id-2 div.sk-parallel-item {display: flex;flex-direction: column;z-index: 1;position: relative;background-color: white;}#sk-container-id-2 div.sk-parallel-item:first-child::after {align-self: flex-end;width: 50%;}#sk-container-id-2 div.sk-parallel-item:last-child::after {align-self: flex-start;width: 50%;}#sk-container-id-2 div.sk-parallel-item:only-child::after {width: 0;}#sk-container-id-2 div.sk-dashed-wrapped {border: 1px dashed gray;margin: 0 0.4em 0.5em 0.4em;box-sizing: border-box;padding-bottom: 0.4em;background-color: white;}#sk-container-id-2 div.sk-label label {font-family: monospace;font-weight: bold;display: inline-block;line-height: 1.2em;}#sk-container-id-2 div.sk-label-container {text-align: center;}#sk-container-id-2 div.sk-container {/* jupyter's `normalize.less` sets `[hidden] { display: none; }` but bootstrap.min.css set `[hidden] { display: none !important; }` so we also need the `!important` here to be able to override the default hidden behavior on the sphinx rendered scikit-learn.org. See: https://github.com/scikit-learn/scikit-learn/issues/21755 */display: inline-block !important;position: relative;}#sk-container-id-2 div.sk-text-repr-fallback {display: none;}</style><div id=\"sk-container-id-2\" class=\"sk-top-container\"><div class=\"sk-text-repr-fallback\"><pre>AgglomerativeClustering()</pre><b>In a Jupyter environment, please rerun this cell to show the HTML representation or trust the notebook. <br />On GitHub, the HTML representation is unable to render, please try loading this page with nbviewer.org.</b></div><div class=\"sk-container\" hidden><div class=\"sk-item\"><div class=\"sk-estimator sk-toggleable\"><input class=\"sk-toggleable__control sk-hidden--visually\" id=\"sk-estimator-id-2\" type=\"checkbox\" checked><label for=\"sk-estimator-id-2\" class=\"sk-toggleable__label sk-toggleable__label-arrow\">AgglomerativeClustering</label><div class=\"sk-toggleable__content\"><pre>AgglomerativeClustering()</pre></div></div></div></div></div>"
      ],
      "text/plain": [
       "AgglomerativeClustering()"
      ]
     },
     "execution_count": 51,
     "metadata": {},
     "output_type": "execute_result"
    }
   ],
   "source": [
    "agglomerative_clustering"
   ]
  },
  {
   "cell_type": "code",
   "execution_count": 52,
   "id": "cd333c76-7055-4866-8a5f-a3bd9ffec2ff",
   "metadata": {},
   "outputs": [
    {
     "data": {
      "text/html": [
       "<style>#sk-container-id-3 {color: black;background-color: white;}#sk-container-id-3 pre{padding: 0;}#sk-container-id-3 div.sk-toggleable {background-color: white;}#sk-container-id-3 label.sk-toggleable__label {cursor: pointer;display: block;width: 100%;margin-bottom: 0;padding: 0.3em;box-sizing: border-box;text-align: center;}#sk-container-id-3 label.sk-toggleable__label-arrow:before {content: \"▸\";float: left;margin-right: 0.25em;color: #696969;}#sk-container-id-3 label.sk-toggleable__label-arrow:hover:before {color: black;}#sk-container-id-3 div.sk-estimator:hover label.sk-toggleable__label-arrow:before {color: black;}#sk-container-id-3 div.sk-toggleable__content {max-height: 0;max-width: 0;overflow: hidden;text-align: left;background-color: #f0f8ff;}#sk-container-id-3 div.sk-toggleable__content pre {margin: 0.2em;color: black;border-radius: 0.25em;background-color: #f0f8ff;}#sk-container-id-3 input.sk-toggleable__control:checked~div.sk-toggleable__content {max-height: 200px;max-width: 100%;overflow: auto;}#sk-container-id-3 input.sk-toggleable__control:checked~label.sk-toggleable__label-arrow:before {content: \"▾\";}#sk-container-id-3 div.sk-estimator input.sk-toggleable__control:checked~label.sk-toggleable__label {background-color: #d4ebff;}#sk-container-id-3 div.sk-label input.sk-toggleable__control:checked~label.sk-toggleable__label {background-color: #d4ebff;}#sk-container-id-3 input.sk-hidden--visually {border: 0;clip: rect(1px 1px 1px 1px);clip: rect(1px, 1px, 1px, 1px);height: 1px;margin: -1px;overflow: hidden;padding: 0;position: absolute;width: 1px;}#sk-container-id-3 div.sk-estimator {font-family: monospace;background-color: #f0f8ff;border: 1px dotted black;border-radius: 0.25em;box-sizing: border-box;margin-bottom: 0.5em;}#sk-container-id-3 div.sk-estimator:hover {background-color: #d4ebff;}#sk-container-id-3 div.sk-parallel-item::after {content: \"\";width: 100%;border-bottom: 1px solid gray;flex-grow: 1;}#sk-container-id-3 div.sk-label:hover label.sk-toggleable__label {background-color: #d4ebff;}#sk-container-id-3 div.sk-serial::before {content: \"\";position: absolute;border-left: 1px solid gray;box-sizing: border-box;top: 0;bottom: 0;left: 50%;z-index: 0;}#sk-container-id-3 div.sk-serial {display: flex;flex-direction: column;align-items: center;background-color: white;padding-right: 0.2em;padding-left: 0.2em;position: relative;}#sk-container-id-3 div.sk-item {position: relative;z-index: 1;}#sk-container-id-3 div.sk-parallel {display: flex;align-items: stretch;justify-content: center;background-color: white;position: relative;}#sk-container-id-3 div.sk-item::before, #sk-container-id-3 div.sk-parallel-item::before {content: \"\";position: absolute;border-left: 1px solid gray;box-sizing: border-box;top: 0;bottom: 0;left: 50%;z-index: -1;}#sk-container-id-3 div.sk-parallel-item {display: flex;flex-direction: column;z-index: 1;position: relative;background-color: white;}#sk-container-id-3 div.sk-parallel-item:first-child::after {align-self: flex-end;width: 50%;}#sk-container-id-3 div.sk-parallel-item:last-child::after {align-self: flex-start;width: 50%;}#sk-container-id-3 div.sk-parallel-item:only-child::after {width: 0;}#sk-container-id-3 div.sk-dashed-wrapped {border: 1px dashed gray;margin: 0 0.4em 0.5em 0.4em;box-sizing: border-box;padding-bottom: 0.4em;background-color: white;}#sk-container-id-3 div.sk-label label {font-family: monospace;font-weight: bold;display: inline-block;line-height: 1.2em;}#sk-container-id-3 div.sk-label-container {text-align: center;}#sk-container-id-3 div.sk-container {/* jupyter's `normalize.less` sets `[hidden] { display: none; }` but bootstrap.min.css set `[hidden] { display: none !important; }` so we also need the `!important` here to be able to override the default hidden behavior on the sphinx rendered scikit-learn.org. See: https://github.com/scikit-learn/scikit-learn/issues/21755 */display: inline-block !important;position: relative;}#sk-container-id-3 div.sk-text-repr-fallback {display: none;}</style><div id=\"sk-container-id-3\" class=\"sk-top-container\"><div class=\"sk-text-repr-fallback\"><pre>AgglomerativeClustering()</pre><b>In a Jupyter environment, please rerun this cell to show the HTML representation or trust the notebook. <br />On GitHub, the HTML representation is unable to render, please try loading this page with nbviewer.org.</b></div><div class=\"sk-container\" hidden><div class=\"sk-item\"><div class=\"sk-estimator sk-toggleable\"><input class=\"sk-toggleable__control sk-hidden--visually\" id=\"sk-estimator-id-3\" type=\"checkbox\" checked><label for=\"sk-estimator-id-3\" class=\"sk-toggleable__label sk-toggleable__label-arrow\">AgglomerativeClustering</label><div class=\"sk-toggleable__content\"><pre>AgglomerativeClustering()</pre></div></div></div></div></div>"
      ],
      "text/plain": [
       "AgglomerativeClustering()"
      ]
     },
     "execution_count": 52,
     "metadata": {},
     "output_type": "execute_result"
    }
   ],
   "source": [
    "agglomerative_clustering.fit(x_train)"
   ]
  },
  {
   "cell_type": "code",
   "execution_count": 54,
   "id": "7fac9d35-3f48-47cc-8288-a5fb9dd5a1d1",
   "metadata": {},
   "outputs": [],
   "source": [
    "x_train_labels = agglomerative_clustering.labels_"
   ]
  },
  {
   "cell_type": "code",
   "execution_count": 55,
   "id": "748cce1b-c50c-4609-a322-e617a1d0731d",
   "metadata": {},
   "outputs": [
    {
     "data": {
      "text/plain": [
       "array([1, 1, 0, 0, 0, 0, 0, 0, 0, 0, 0, 1, 0, 0, 0, 1, 1, 0, 1, 1, 1, 0,\n",
       "       0, 0, 0, 1, 0, 0, 1, 0, 0, 0, 1, 0, 0, 0, 0, 0, 0, 0, 0, 1, 0, 1,\n",
       "       0, 0, 0, 0, 0, 1, 1, 1, 1, 0, 1, 1, 0, 1, 0, 0, 0, 1, 0, 0, 1, 0,\n",
       "       0, 0, 0, 0, 0, 1, 1, 1, 0, 0, 0, 1, 0, 0, 0, 0, 0, 0, 0, 0, 0, 1,\n",
       "       1, 0, 0, 0, 0, 0, 0, 0, 0, 0, 1, 1])"
      ]
     },
     "execution_count": 55,
     "metadata": {},
     "output_type": "execute_result"
    }
   ],
   "source": [
    "x_train_labels"
   ]
  },
  {
   "cell_type": "code",
   "execution_count": 56,
   "id": "cdc13514-6cc1-45db-9919-4fb3c4d265e3",
   "metadata": {},
   "outputs": [
    {
     "data": {
      "text/html": [
       "<style>#sk-container-id-4 {color: black;background-color: white;}#sk-container-id-4 pre{padding: 0;}#sk-container-id-4 div.sk-toggleable {background-color: white;}#sk-container-id-4 label.sk-toggleable__label {cursor: pointer;display: block;width: 100%;margin-bottom: 0;padding: 0.3em;box-sizing: border-box;text-align: center;}#sk-container-id-4 label.sk-toggleable__label-arrow:before {content: \"▸\";float: left;margin-right: 0.25em;color: #696969;}#sk-container-id-4 label.sk-toggleable__label-arrow:hover:before {color: black;}#sk-container-id-4 div.sk-estimator:hover label.sk-toggleable__label-arrow:before {color: black;}#sk-container-id-4 div.sk-toggleable__content {max-height: 0;max-width: 0;overflow: hidden;text-align: left;background-color: #f0f8ff;}#sk-container-id-4 div.sk-toggleable__content pre {margin: 0.2em;color: black;border-radius: 0.25em;background-color: #f0f8ff;}#sk-container-id-4 input.sk-toggleable__control:checked~div.sk-toggleable__content {max-height: 200px;max-width: 100%;overflow: auto;}#sk-container-id-4 input.sk-toggleable__control:checked~label.sk-toggleable__label-arrow:before {content: \"▾\";}#sk-container-id-4 div.sk-estimator input.sk-toggleable__control:checked~label.sk-toggleable__label {background-color: #d4ebff;}#sk-container-id-4 div.sk-label input.sk-toggleable__control:checked~label.sk-toggleable__label {background-color: #d4ebff;}#sk-container-id-4 input.sk-hidden--visually {border: 0;clip: rect(1px 1px 1px 1px);clip: rect(1px, 1px, 1px, 1px);height: 1px;margin: -1px;overflow: hidden;padding: 0;position: absolute;width: 1px;}#sk-container-id-4 div.sk-estimator {font-family: monospace;background-color: #f0f8ff;border: 1px dotted black;border-radius: 0.25em;box-sizing: border-box;margin-bottom: 0.5em;}#sk-container-id-4 div.sk-estimator:hover {background-color: #d4ebff;}#sk-container-id-4 div.sk-parallel-item::after {content: \"\";width: 100%;border-bottom: 1px solid gray;flex-grow: 1;}#sk-container-id-4 div.sk-label:hover label.sk-toggleable__label {background-color: #d4ebff;}#sk-container-id-4 div.sk-serial::before {content: \"\";position: absolute;border-left: 1px solid gray;box-sizing: border-box;top: 0;bottom: 0;left: 50%;z-index: 0;}#sk-container-id-4 div.sk-serial {display: flex;flex-direction: column;align-items: center;background-color: white;padding-right: 0.2em;padding-left: 0.2em;position: relative;}#sk-container-id-4 div.sk-item {position: relative;z-index: 1;}#sk-container-id-4 div.sk-parallel {display: flex;align-items: stretch;justify-content: center;background-color: white;position: relative;}#sk-container-id-4 div.sk-item::before, #sk-container-id-4 div.sk-parallel-item::before {content: \"\";position: absolute;border-left: 1px solid gray;box-sizing: border-box;top: 0;bottom: 0;left: 50%;z-index: -1;}#sk-container-id-4 div.sk-parallel-item {display: flex;flex-direction: column;z-index: 1;position: relative;background-color: white;}#sk-container-id-4 div.sk-parallel-item:first-child::after {align-self: flex-end;width: 50%;}#sk-container-id-4 div.sk-parallel-item:last-child::after {align-self: flex-start;width: 50%;}#sk-container-id-4 div.sk-parallel-item:only-child::after {width: 0;}#sk-container-id-4 div.sk-dashed-wrapped {border: 1px dashed gray;margin: 0 0.4em 0.5em 0.4em;box-sizing: border-box;padding-bottom: 0.4em;background-color: white;}#sk-container-id-4 div.sk-label label {font-family: monospace;font-weight: bold;display: inline-block;line-height: 1.2em;}#sk-container-id-4 div.sk-label-container {text-align: center;}#sk-container-id-4 div.sk-container {/* jupyter's `normalize.less` sets `[hidden] { display: none; }` but bootstrap.min.css set `[hidden] { display: none !important; }` so we also need the `!important` here to be able to override the default hidden behavior on the sphinx rendered scikit-learn.org. See: https://github.com/scikit-learn/scikit-learn/issues/21755 */display: inline-block !important;position: relative;}#sk-container-id-4 div.sk-text-repr-fallback {display: none;}</style><div id=\"sk-container-id-4\" class=\"sk-top-container\"><div class=\"sk-text-repr-fallback\"><pre>AgglomerativeClustering()</pre><b>In a Jupyter environment, please rerun this cell to show the HTML representation or trust the notebook. <br />On GitHub, the HTML representation is unable to render, please try loading this page with nbviewer.org.</b></div><div class=\"sk-container\" hidden><div class=\"sk-item\"><div class=\"sk-estimator sk-toggleable\"><input class=\"sk-toggleable__control sk-hidden--visually\" id=\"sk-estimator-id-4\" type=\"checkbox\" checked><label for=\"sk-estimator-id-4\" class=\"sk-toggleable__label sk-toggleable__label-arrow\">AgglomerativeClustering</label><div class=\"sk-toggleable__content\"><pre>AgglomerativeClustering()</pre></div></div></div></div></div>"
      ],
      "text/plain": [
       "AgglomerativeClustering()"
      ]
     },
     "execution_count": 56,
     "metadata": {},
     "output_type": "execute_result"
    }
   ],
   "source": [
    "agglomerative_clustering.fit(x_test)"
   ]
  },
  {
   "cell_type": "code",
   "execution_count": 57,
   "id": "cee239cd-3d5d-48fb-be52-2375732d1c44",
   "metadata": {},
   "outputs": [],
   "source": [
    "x_test_labels = agglomerative_clustering.labels_"
   ]
  },
  {
   "cell_type": "code",
   "execution_count": 58,
   "id": "9070bd73-66cf-4bde-a27d-23b378a2db90",
   "metadata": {},
   "outputs": [
    {
     "data": {
      "text/plain": [
       "array([0, 1, 0, 1, 0, 0, 1, 1, 0, 1, 1, 0, 1, 1, 0, 0, 0, 0, 0, 0, 0, 1,\n",
       "       0, 1, 0, 0, 0, 1, 0, 0, 0, 0, 0, 1, 1, 0, 1, 0, 0, 0, 1, 0, 0, 0,\n",
       "       1, 1, 1, 1, 0, 1])"
      ]
     },
     "execution_count": 58,
     "metadata": {},
     "output_type": "execute_result"
    }
   ],
   "source": [
    "x_test_labels"
   ]
  },
  {
   "cell_type": "code",
   "execution_count": 64,
   "id": "3771e0d5-8009-4d78-aa0c-883dd88a9da9",
   "metadata": {},
   "outputs": [
    {
     "data": {
      "text/plain": [
       "Text(0.5, 1.0, 'After Clustering (X_train Data)')"
      ]
     },
     "execution_count": 64,
     "metadata": {},
     "output_type": "execute_result"
    },
    {
     "data": {
      "image/png": "[encoded data removed]",
      "text/plain": [
       "<Figure size 640x480 with 1 Axes>"
      ]
     },
     "metadata": {},
     "output_type": "display_data"
    }
   ],
   "source": [
    "sns.scatterplot(x = x_train[:,0], y = x_train[:,1], hue = x_train_labels)\n",
    "plt.xlabel(\"Feature_01\")\n",
    "plt.ylabel(\"Feature_02\")\n",
    "plt.title(\"After Clustering (X_train Data)\")"
   ]
  },
  {
   "cell_type": "code",
   "execution_count": 62,
   "id": "7bfe385a-fda8-4815-a7d9-0213253a2670",
   "metadata": {},
   "outputs": [
    {
     "data": {
      "text/plain": [
       "Text(0.5, 1.0, 'After Clustering (X_test Data)')"
      ]
     },
     "execution_count": 62,
     "metadata": {},
     "output_type": "execute_result"
    },
    {
     "data": {
      "image/png": "[encoded data removed]",
      "text/plain": [
       "<Figure size 640x480 with 1 Axes>"
      ]
     },
     "metadata": {},
     "output_type": "display_data"
    }
   ],
   "source": [
    "sns.scatterplot(x = x_test[:,0], y = x_test[:,1], hue = x_test_labels)\n",
    "plt.xlabel(\"Feature_01\")\n",
    "plt.ylabel(\"Feature_02\")\n",
    "plt.title(\"After Clustering (X_test Data)\")"
   ]
  },
  {
   "cell_type": "markdown",
   "id": "b8906980-4967-4d37-8fdf-c9120d4bca74",
   "metadata": {},
   "source": [
    "### Step-06: Import silhoutte score from sklearn.metrics"
   ]
  },
  {
   "cell_type": "code",
   "execution_count": 66,
   "id": "0fb4a5ea-9925-40f5-8a83-2e24f52dbe3f",
   "metadata": {},
   "outputs": [],
   "source": [
    "from sklearn.metrics import silhouette_score"
   ]
  },
  {
   "cell_type": "code",
   "execution_count": 68,
   "id": "8d9dc568-55a7-480e-aa0c-89f28ab0b990",
   "metadata": {},
   "outputs": [],
   "source": [
    "silhouette_coeffecients = []\n",
    "\n",
    "for k in range(2, 11):\n",
    "    agglomerative_clustering = AgglomerativeClustering(n_clusters = k, affinity = \"euclidean\")\n",
    "    agglomerative_clustering.fit(x_train)\n",
    "    x_train_labels = agglomerative_clustering.labels_\n",
    "    accuracy = silhouette_score(x_train, x_train_labels)\n",
    "    silhouette_coeffecients.append(accuracy)"
   ]
  },
  {
   "cell_type": "code",
   "execution_count": 69,
   "id": "78ecc6bc-382a-4d75-bee3-80de8ffad5d1",
   "metadata": {},
   "outputs": [
    {
     "data": {
      "text/plain": [
       "[0.6166731934393662,\n",
       " 0.5017533299159951,\n",
       " 0.47446851412758356,\n",
       " 0.4251712826397319,\n",
       " 0.41601441875990036,\n",
       " 0.44265474399611404,\n",
       " 0.45087196542186986,\n",
       " 0.45697754910731503,\n",
       " 0.4642207429473845]"
      ]
     },
     "execution_count": 69,
     "metadata": {},
     "output_type": "execute_result"
    }
   ],
   "source": [
    "silhouette_coeffecients"
   ]
  },
  {
   "cell_type": "code",
   "execution_count": 71,
   "id": "588c05ec-a598-4746-8a31-5312f6b53d2c",
   "metadata": {},
   "outputs": [
    {
     "data": {
      "text/plain": [
       "Text(0.5, 1.0, 'Silhoutte Coefficients X No. of Clusters')"
      ]
     },
     "execution_count": 71,
     "metadata": {},
     "output_type": "execute_result"
    },
    {
     "data": {
      "image/png": "[encoded data removed]",
      "text/plain": [
       "<Figure size 640x480 with 1 Axes>"
      ]
     },
     "metadata": {},
     "output_type": "display_data"
    }
   ],
   "source": [
    "sns.lineplot(x = range(2,11), y = silhouette_coeffecients)\n",
    "plt.xlabel(\"No. of Clusters\")\n",
    "plt.ylabel(\"Silhoutte Coeffients\")\n",
    "plt.title(\"Silhoutte Coefficients X No. of Clusters\")"
   ]
  },
  {
   "cell_type": "code",
   "execution_count": null,
   "id": "7270ed78-b35c-4379-832e-3267ea639918",
   "metadata": {},
   "outputs": [],
   "source": []
  }
 ],
 "metadata": {
  "kernelspec": {
   "display_name": "Python 3 (ipykernel)",
   "language": "python",
   "name": "python3"
  },
  "language_info": {
   "codemirror_mode": {
    "name": "ipython",
    "version": 3
   },
   "file_extension": ".py",
   "mimetype": "text/x-python",
   "name": "python",
   "nbconvert_exporter": "python",
   "pygments_lexer": "ipython3",
   "version": "3.10.8"
  }
 },
 "nbformat": 4,
 "nbformat_minor": 5
}
