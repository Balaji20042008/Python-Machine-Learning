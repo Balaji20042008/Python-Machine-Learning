{
 "cells": [
  {
   "cell_type": "markdown",
   "id": "6aecf23c-21fa-4907-9f36-8f47da0a8cbe",
   "metadata": {},
   "source": [
    "## # Linear Regression - Algerian Forest Dataset"
   ]
  },
  {
   "cell_type": "markdown",
   "id": "2ee90102-4db2-450e-918d-72013a5d4af5",
   "metadata": {},
   "source": [
    "### Task-01: Dataframe - Algerian Forest Dataset"
   ]
  },
  {
   "cell_type": "markdown",
   "id": "c6ee8105-3d63-4b2a-9d55-0e4dea174508",
   "metadata": {
    "tags": []
   },
   "source": [
    "#### Step-01: Import all the libraries required to perform Linear Regression"
   ]
  },
  {
   "cell_type": "code",
   "execution_count": 1,
   "id": "8eb25b22-7def-4d7b-a634-8e5824a7dcc8",
   "metadata": {},
   "outputs": [],
   "source": [
    "import pandas as pd\n",
    "import numpy as np\n",
    "import matplotlib.pyplot as plt\n",
    "import seaborn as sns\n",
    "%matplotlib inline\n",
    "import warnings\n",
    "warnings.filterwarnings(\"ignore\")"
   ]
  },
  {
   "cell_type": "code",
   "execution_count": 2,
   "id": "c577249a-d61f-4277-8aea-e8976018cb50",
   "metadata": {},
   "outputs": [],
   "source": [
    "df = pd.read_csv(\"Algerian_forest_fires_dataset_cleaned.csv\")"
   ]
  },
  {
   "cell_type": "code",
   "execution_count": 3,
   "id": "ea642e4c-5dcf-4826-bfd8-b966d457b478",
   "metadata": {},
   "outputs": [
    {
     "data": {
      "text/html": [
       "<div>\n",
       "<style scoped>\n",
       "    .dataframe tbody tr th:only-of-type {\n",
       "        vertical-align: middle;\n",
       "    }\n",
       "\n",
       "    .dataframe tbody tr th {\n",
       "        vertical-align: top;\n",
       "    }\n",
       "\n",
       "    .dataframe thead th {\n",
       "        text-align: right;\n",
       "    }\n",
       "</style>\n",
       "<table border=\"1\" class=\"dataframe\">\n",
       "  <thead>\n",
       "    <tr style=\"text-align: right;\">\n",
       "      <th></th>\n",
       "      <th>Unnamed: 0</th>\n",
       "      <th>day</th>\n",
       "      <th>month</th>\n",
       "      <th>year</th>\n",
       "      <th>Temperature</th>\n",
       "      <th>RH</th>\n",
       "      <th>Ws</th>\n",
       "      <th>Rain</th>\n",
       "      <th>FFMC</th>\n",
       "      <th>DMC</th>\n",
       "      <th>DC</th>\n",
       "      <th>ISI</th>\n",
       "      <th>BUI</th>\n",
       "      <th>FWI</th>\n",
       "      <th>Classes</th>\n",
       "      <th>Region</th>\n",
       "    </tr>\n",
       "  </thead>\n",
       "  <tbody>\n",
       "    <tr>\n",
       "      <th>0</th>\n",
       "      <td>0</td>\n",
       "      <td>1</td>\n",
       "      <td>6</td>\n",
       "      <td>2012</td>\n",
       "      <td>29</td>\n",
       "      <td>57</td>\n",
       "      <td>18</td>\n",
       "      <td>0.0</td>\n",
       "      <td>65.7</td>\n",
       "      <td>3.4</td>\n",
       "      <td>7.6</td>\n",
       "      <td>1.3</td>\n",
       "      <td>3.4</td>\n",
       "      <td>0.5</td>\n",
       "      <td>not fire</td>\n",
       "      <td>1</td>\n",
       "    </tr>\n",
       "    <tr>\n",
       "      <th>1</th>\n",
       "      <td>1</td>\n",
       "      <td>2</td>\n",
       "      <td>6</td>\n",
       "      <td>2012</td>\n",
       "      <td>29</td>\n",
       "      <td>61</td>\n",
       "      <td>13</td>\n",
       "      <td>1.3</td>\n",
       "      <td>64.4</td>\n",
       "      <td>4.1</td>\n",
       "      <td>7.6</td>\n",
       "      <td>1.0</td>\n",
       "      <td>3.9</td>\n",
       "      <td>0.4</td>\n",
       "      <td>not fire</td>\n",
       "      <td>1</td>\n",
       "    </tr>\n",
       "    <tr>\n",
       "      <th>2</th>\n",
       "      <td>2</td>\n",
       "      <td>3</td>\n",
       "      <td>6</td>\n",
       "      <td>2012</td>\n",
       "      <td>26</td>\n",
       "      <td>82</td>\n",
       "      <td>22</td>\n",
       "      <td>13.1</td>\n",
       "      <td>47.1</td>\n",
       "      <td>2.5</td>\n",
       "      <td>7.1</td>\n",
       "      <td>0.3</td>\n",
       "      <td>2.7</td>\n",
       "      <td>0.1</td>\n",
       "      <td>not fire</td>\n",
       "      <td>1</td>\n",
       "    </tr>\n",
       "    <tr>\n",
       "      <th>3</th>\n",
       "      <td>3</td>\n",
       "      <td>4</td>\n",
       "      <td>6</td>\n",
       "      <td>2012</td>\n",
       "      <td>25</td>\n",
       "      <td>89</td>\n",
       "      <td>13</td>\n",
       "      <td>2.5</td>\n",
       "      <td>28.6</td>\n",
       "      <td>1.3</td>\n",
       "      <td>6.9</td>\n",
       "      <td>0.0</td>\n",
       "      <td>1.7</td>\n",
       "      <td>0.0</td>\n",
       "      <td>not fire</td>\n",
       "      <td>1</td>\n",
       "    </tr>\n",
       "    <tr>\n",
       "      <th>4</th>\n",
       "      <td>4</td>\n",
       "      <td>5</td>\n",
       "      <td>6</td>\n",
       "      <td>2012</td>\n",
       "      <td>27</td>\n",
       "      <td>77</td>\n",
       "      <td>16</td>\n",
       "      <td>0.0</td>\n",
       "      <td>64.8</td>\n",
       "      <td>3.0</td>\n",
       "      <td>14.2</td>\n",
       "      <td>1.2</td>\n",
       "      <td>3.9</td>\n",
       "      <td>0.5</td>\n",
       "      <td>not fire</td>\n",
       "      <td>1</td>\n",
       "    </tr>\n",
       "  </tbody>\n",
       "</table>\n",
       "</div>"
      ],
      "text/plain": [
       "   Unnamed: 0  day  month  year  Temperature  RH  Ws  Rain  FFMC  DMC    DC  \\\n",
       "0           0    1      6  2012           29  57  18   0.0  65.7  3.4   7.6   \n",
       "1           1    2      6  2012           29  61  13   1.3  64.4  4.1   7.6   \n",
       "2           2    3      6  2012           26  82  22  13.1  47.1  2.5   7.1   \n",
       "3           3    4      6  2012           25  89  13   2.5  28.6  1.3   6.9   \n",
       "4           4    5      6  2012           27  77  16   0.0  64.8  3.0  14.2   \n",
       "\n",
       "   ISI  BUI  FWI   Classes  Region  \n",
       "0  1.3  3.4  0.5  not fire       1  \n",
       "1  1.0  3.9  0.4  not fire       1  \n",
       "2  0.3  2.7  0.1  not fire       1  \n",
       "3  0.0  1.7  0.0  not fire       1  \n",
       "4  1.2  3.9  0.5  not fire       1  "
      ]
     },
     "execution_count": 3,
     "metadata": {},
     "output_type": "execute_result"
    }
   ],
   "source": [
    "df.head()"
   ]
  },
  {
   "cell_type": "code",
   "execution_count": 4,
   "id": "7cdf16cf-f91d-4399-a122-eabeb69ebca2",
   "metadata": {},
   "outputs": [],
   "source": [
    "df.drop([\"Unnamed: 0\", \"day\", \"month\", \"year\"], axis = 1, inplace = True)"
   ]
  },
  {
   "cell_type": "code",
   "execution_count": 5,
   "id": "bf828d22-4184-41ca-9778-3da4f8c446bb",
   "metadata": {},
   "outputs": [
    {
     "data": {
      "text/html": [
       "<div>\n",
       "<style scoped>\n",
       "    .dataframe tbody tr th:only-of-type {\n",
       "        vertical-align: middle;\n",
       "    }\n",
       "\n",
       "    .dataframe tbody tr th {\n",
       "        vertical-align: top;\n",
       "    }\n",
       "\n",
       "    .dataframe thead th {\n",
       "        text-align: right;\n",
       "    }\n",
       "</style>\n",
       "<table border=\"1\" class=\"dataframe\">\n",
       "  <thead>\n",
       "    <tr style=\"text-align: right;\">\n",
       "      <th></th>\n",
       "      <th>Temperature</th>\n",
       "      <th>RH</th>\n",
       "      <th>Ws</th>\n",
       "      <th>Rain</th>\n",
       "      <th>FFMC</th>\n",
       "      <th>DMC</th>\n",
       "      <th>DC</th>\n",
       "      <th>ISI</th>\n",
       "      <th>BUI</th>\n",
       "      <th>FWI</th>\n",
       "      <th>Classes</th>\n",
       "      <th>Region</th>\n",
       "    </tr>\n",
       "  </thead>\n",
       "  <tbody>\n",
       "    <tr>\n",
       "      <th>0</th>\n",
       "      <td>29</td>\n",
       "      <td>57</td>\n",
       "      <td>18</td>\n",
       "      <td>0.0</td>\n",
       "      <td>65.7</td>\n",
       "      <td>3.4</td>\n",
       "      <td>7.6</td>\n",
       "      <td>1.3</td>\n",
       "      <td>3.4</td>\n",
       "      <td>0.5</td>\n",
       "      <td>not fire</td>\n",
       "      <td>1</td>\n",
       "    </tr>\n",
       "    <tr>\n",
       "      <th>1</th>\n",
       "      <td>29</td>\n",
       "      <td>61</td>\n",
       "      <td>13</td>\n",
       "      <td>1.3</td>\n",
       "      <td>64.4</td>\n",
       "      <td>4.1</td>\n",
       "      <td>7.6</td>\n",
       "      <td>1.0</td>\n",
       "      <td>3.9</td>\n",
       "      <td>0.4</td>\n",
       "      <td>not fire</td>\n",
       "      <td>1</td>\n",
       "    </tr>\n",
       "    <tr>\n",
       "      <th>2</th>\n",
       "      <td>26</td>\n",
       "      <td>82</td>\n",
       "      <td>22</td>\n",
       "      <td>13.1</td>\n",
       "      <td>47.1</td>\n",
       "      <td>2.5</td>\n",
       "      <td>7.1</td>\n",
       "      <td>0.3</td>\n",
       "      <td>2.7</td>\n",
       "      <td>0.1</td>\n",
       "      <td>not fire</td>\n",
       "      <td>1</td>\n",
       "    </tr>\n",
       "    <tr>\n",
       "      <th>3</th>\n",
       "      <td>25</td>\n",
       "      <td>89</td>\n",
       "      <td>13</td>\n",
       "      <td>2.5</td>\n",
       "      <td>28.6</td>\n",
       "      <td>1.3</td>\n",
       "      <td>6.9</td>\n",
       "      <td>0.0</td>\n",
       "      <td>1.7</td>\n",
       "      <td>0.0</td>\n",
       "      <td>not fire</td>\n",
       "      <td>1</td>\n",
       "    </tr>\n",
       "    <tr>\n",
       "      <th>4</th>\n",
       "      <td>27</td>\n",
       "      <td>77</td>\n",
       "      <td>16</td>\n",
       "      <td>0.0</td>\n",
       "      <td>64.8</td>\n",
       "      <td>3.0</td>\n",
       "      <td>14.2</td>\n",
       "      <td>1.2</td>\n",
       "      <td>3.9</td>\n",
       "      <td>0.5</td>\n",
       "      <td>not fire</td>\n",
       "      <td>1</td>\n",
       "    </tr>\n",
       "  </tbody>\n",
       "</table>\n",
       "</div>"
      ],
      "text/plain": [
       "   Temperature  RH  Ws  Rain  FFMC  DMC    DC  ISI  BUI  FWI   Classes  Region\n",
       "0           29  57  18   0.0  65.7  3.4   7.6  1.3  3.4  0.5  not fire       1\n",
       "1           29  61  13   1.3  64.4  4.1   7.6  1.0  3.9  0.4  not fire       1\n",
       "2           26  82  22  13.1  47.1  2.5   7.1  0.3  2.7  0.1  not fire       1\n",
       "3           25  89  13   2.5  28.6  1.3   6.9  0.0  1.7  0.0  not fire       1\n",
       "4           27  77  16   0.0  64.8  3.0  14.2  1.2  3.9  0.5  not fire       1"
      ]
     },
     "execution_count": 5,
     "metadata": {},
     "output_type": "execute_result"
    }
   ],
   "source": [
    "df.head()"
   ]
  },
  {
   "cell_type": "code",
   "execution_count": 6,
   "id": "2da7bb05-e87e-4246-b378-a75d769fa6d8",
   "metadata": {},
   "outputs": [],
   "source": [
    "df[\"Classes\"] = np.where(df[\"Classes\"] == \"not fire\", 0, 1)"
   ]
  },
  {
   "cell_type": "code",
   "execution_count": 7,
   "id": "8271615f-d636-4114-abdd-481ea41cab3a",
   "metadata": {},
   "outputs": [
    {
     "data": {
      "text/html": [
       "<div>\n",
       "<style scoped>\n",
       "    .dataframe tbody tr th:only-of-type {\n",
       "        vertical-align: middle;\n",
       "    }\n",
       "\n",
       "    .dataframe tbody tr th {\n",
       "        vertical-align: top;\n",
       "    }\n",
       "\n",
       "    .dataframe thead th {\n",
       "        text-align: right;\n",
       "    }\n",
       "</style>\n",
       "<table border=\"1\" class=\"dataframe\">\n",
       "  <thead>\n",
       "    <tr style=\"text-align: right;\">\n",
       "      <th></th>\n",
       "      <th>Temperature</th>\n",
       "      <th>RH</th>\n",
       "      <th>Ws</th>\n",
       "      <th>Rain</th>\n",
       "      <th>FFMC</th>\n",
       "      <th>DMC</th>\n",
       "      <th>DC</th>\n",
       "      <th>ISI</th>\n",
       "      <th>BUI</th>\n",
       "      <th>FWI</th>\n",
       "      <th>Classes</th>\n",
       "      <th>Region</th>\n",
       "    </tr>\n",
       "  </thead>\n",
       "  <tbody>\n",
       "    <tr>\n",
       "      <th>0</th>\n",
       "      <td>29</td>\n",
       "      <td>57</td>\n",
       "      <td>18</td>\n",
       "      <td>0.0</td>\n",
       "      <td>65.7</td>\n",
       "      <td>3.4</td>\n",
       "      <td>7.6</td>\n",
       "      <td>1.3</td>\n",
       "      <td>3.4</td>\n",
       "      <td>0.5</td>\n",
       "      <td>0</td>\n",
       "      <td>1</td>\n",
       "    </tr>\n",
       "    <tr>\n",
       "      <th>1</th>\n",
       "      <td>29</td>\n",
       "      <td>61</td>\n",
       "      <td>13</td>\n",
       "      <td>1.3</td>\n",
       "      <td>64.4</td>\n",
       "      <td>4.1</td>\n",
       "      <td>7.6</td>\n",
       "      <td>1.0</td>\n",
       "      <td>3.9</td>\n",
       "      <td>0.4</td>\n",
       "      <td>0</td>\n",
       "      <td>1</td>\n",
       "    </tr>\n",
       "    <tr>\n",
       "      <th>2</th>\n",
       "      <td>26</td>\n",
       "      <td>82</td>\n",
       "      <td>22</td>\n",
       "      <td>13.1</td>\n",
       "      <td>47.1</td>\n",
       "      <td>2.5</td>\n",
       "      <td>7.1</td>\n",
       "      <td>0.3</td>\n",
       "      <td>2.7</td>\n",
       "      <td>0.1</td>\n",
       "      <td>0</td>\n",
       "      <td>1</td>\n",
       "    </tr>\n",
       "    <tr>\n",
       "      <th>3</th>\n",
       "      <td>25</td>\n",
       "      <td>89</td>\n",
       "      <td>13</td>\n",
       "      <td>2.5</td>\n",
       "      <td>28.6</td>\n",
       "      <td>1.3</td>\n",
       "      <td>6.9</td>\n",
       "      <td>0.0</td>\n",
       "      <td>1.7</td>\n",
       "      <td>0.0</td>\n",
       "      <td>0</td>\n",
       "      <td>1</td>\n",
       "    </tr>\n",
       "    <tr>\n",
       "      <th>4</th>\n",
       "      <td>27</td>\n",
       "      <td>77</td>\n",
       "      <td>16</td>\n",
       "      <td>0.0</td>\n",
       "      <td>64.8</td>\n",
       "      <td>3.0</td>\n",
       "      <td>14.2</td>\n",
       "      <td>1.2</td>\n",
       "      <td>3.9</td>\n",
       "      <td>0.5</td>\n",
       "      <td>0</td>\n",
       "      <td>1</td>\n",
       "    </tr>\n",
       "  </tbody>\n",
       "</table>\n",
       "</div>"
      ],
      "text/plain": [
       "   Temperature  RH  Ws  Rain  FFMC  DMC    DC  ISI  BUI  FWI  Classes  Region\n",
       "0           29  57  18   0.0  65.7  3.4   7.6  1.3  3.4  0.5        0       1\n",
       "1           29  61  13   1.3  64.4  4.1   7.6  1.0  3.9  0.4        0       1\n",
       "2           26  82  22  13.1  47.1  2.5   7.1  0.3  2.7  0.1        0       1\n",
       "3           25  89  13   2.5  28.6  1.3   6.9  0.0  1.7  0.0        0       1\n",
       "4           27  77  16   0.0  64.8  3.0  14.2  1.2  3.9  0.5        0       1"
      ]
     },
     "execution_count": 7,
     "metadata": {},
     "output_type": "execute_result"
    }
   ],
   "source": [
    "df.head()"
   ]
  },
  {
   "cell_type": "code",
   "execution_count": 8,
   "id": "8269cac9-d7bc-45ff-a132-2884b00c4bfa",
   "metadata": {},
   "outputs": [],
   "source": [
    "x = df.drop(\"FWI\", axis = 1)\n",
    "y = df[[\"FWI\"]]"
   ]
  },
  {
   "cell_type": "code",
   "execution_count": 9,
   "id": "ad68588b-724c-4032-af31-13442d8b3987",
   "metadata": {},
   "outputs": [
    {
     "data": {
      "text/html": [
       "<div>\n",
       "<style scoped>\n",
       "    .dataframe tbody tr th:only-of-type {\n",
       "        vertical-align: middle;\n",
       "    }\n",
       "\n",
       "    .dataframe tbody tr th {\n",
       "        vertical-align: top;\n",
       "    }\n",
       "\n",
       "    .dataframe thead th {\n",
       "        text-align: right;\n",
       "    }\n",
       "</style>\n",
       "<table border=\"1\" class=\"dataframe\">\n",
       "  <thead>\n",
       "    <tr style=\"text-align: right;\">\n",
       "      <th></th>\n",
       "      <th>Temperature</th>\n",
       "      <th>RH</th>\n",
       "      <th>Ws</th>\n",
       "      <th>Rain</th>\n",
       "      <th>FFMC</th>\n",
       "      <th>DMC</th>\n",
       "      <th>DC</th>\n",
       "      <th>ISI</th>\n",
       "      <th>BUI</th>\n",
       "      <th>Classes</th>\n",
       "      <th>Region</th>\n",
       "    </tr>\n",
       "  </thead>\n",
       "  <tbody>\n",
       "    <tr>\n",
       "      <th>0</th>\n",
       "      <td>29</td>\n",
       "      <td>57</td>\n",
       "      <td>18</td>\n",
       "      <td>0.0</td>\n",
       "      <td>65.7</td>\n",
       "      <td>3.4</td>\n",
       "      <td>7.6</td>\n",
       "      <td>1.3</td>\n",
       "      <td>3.4</td>\n",
       "      <td>0</td>\n",
       "      <td>1</td>\n",
       "    </tr>\n",
       "    <tr>\n",
       "      <th>1</th>\n",
       "      <td>29</td>\n",
       "      <td>61</td>\n",
       "      <td>13</td>\n",
       "      <td>1.3</td>\n",
       "      <td>64.4</td>\n",
       "      <td>4.1</td>\n",
       "      <td>7.6</td>\n",
       "      <td>1.0</td>\n",
       "      <td>3.9</td>\n",
       "      <td>0</td>\n",
       "      <td>1</td>\n",
       "    </tr>\n",
       "    <tr>\n",
       "      <th>2</th>\n",
       "      <td>26</td>\n",
       "      <td>82</td>\n",
       "      <td>22</td>\n",
       "      <td>13.1</td>\n",
       "      <td>47.1</td>\n",
       "      <td>2.5</td>\n",
       "      <td>7.1</td>\n",
       "      <td>0.3</td>\n",
       "      <td>2.7</td>\n",
       "      <td>0</td>\n",
       "      <td>1</td>\n",
       "    </tr>\n",
       "    <tr>\n",
       "      <th>3</th>\n",
       "      <td>25</td>\n",
       "      <td>89</td>\n",
       "      <td>13</td>\n",
       "      <td>2.5</td>\n",
       "      <td>28.6</td>\n",
       "      <td>1.3</td>\n",
       "      <td>6.9</td>\n",
       "      <td>0.0</td>\n",
       "      <td>1.7</td>\n",
       "      <td>0</td>\n",
       "      <td>1</td>\n",
       "    </tr>\n",
       "    <tr>\n",
       "      <th>4</th>\n",
       "      <td>27</td>\n",
       "      <td>77</td>\n",
       "      <td>16</td>\n",
       "      <td>0.0</td>\n",
       "      <td>64.8</td>\n",
       "      <td>3.0</td>\n",
       "      <td>14.2</td>\n",
       "      <td>1.2</td>\n",
       "      <td>3.9</td>\n",
       "      <td>0</td>\n",
       "      <td>1</td>\n",
       "    </tr>\n",
       "  </tbody>\n",
       "</table>\n",
       "</div>"
      ],
      "text/plain": [
       "   Temperature  RH  Ws  Rain  FFMC  DMC    DC  ISI  BUI  Classes  Region\n",
       "0           29  57  18   0.0  65.7  3.4   7.6  1.3  3.4        0       1\n",
       "1           29  61  13   1.3  64.4  4.1   7.6  1.0  3.9        0       1\n",
       "2           26  82  22  13.1  47.1  2.5   7.1  0.3  2.7        0       1\n",
       "3           25  89  13   2.5  28.6  1.3   6.9  0.0  1.7        0       1\n",
       "4           27  77  16   0.0  64.8  3.0  14.2  1.2  3.9        0       1"
      ]
     },
     "execution_count": 9,
     "metadata": {},
     "output_type": "execute_result"
    }
   ],
   "source": [
    "x.head()"
   ]
  },
  {
   "cell_type": "code",
   "execution_count": 10,
   "id": "5f676cf8-18a4-4af9-9a3c-8c76ee9276f7",
   "metadata": {},
   "outputs": [
    {
     "data": {
      "text/html": [
       "<div>\n",
       "<style scoped>\n",
       "    .dataframe tbody tr th:only-of-type {\n",
       "        vertical-align: middle;\n",
       "    }\n",
       "\n",
       "    .dataframe tbody tr th {\n",
       "        vertical-align: top;\n",
       "    }\n",
       "\n",
       "    .dataframe thead th {\n",
       "        text-align: right;\n",
       "    }\n",
       "</style>\n",
       "<table border=\"1\" class=\"dataframe\">\n",
       "  <thead>\n",
       "    <tr style=\"text-align: right;\">\n",
       "      <th></th>\n",
       "      <th>FWI</th>\n",
       "    </tr>\n",
       "  </thead>\n",
       "  <tbody>\n",
       "    <tr>\n",
       "      <th>0</th>\n",
       "      <td>0.5</td>\n",
       "    </tr>\n",
       "    <tr>\n",
       "      <th>1</th>\n",
       "      <td>0.4</td>\n",
       "    </tr>\n",
       "    <tr>\n",
       "      <th>2</th>\n",
       "      <td>0.1</td>\n",
       "    </tr>\n",
       "    <tr>\n",
       "      <th>3</th>\n",
       "      <td>0.0</td>\n",
       "    </tr>\n",
       "    <tr>\n",
       "      <th>4</th>\n",
       "      <td>0.5</td>\n",
       "    </tr>\n",
       "  </tbody>\n",
       "</table>\n",
       "</div>"
      ],
      "text/plain": [
       "   FWI\n",
       "0  0.5\n",
       "1  0.4\n",
       "2  0.1\n",
       "3  0.0\n",
       "4  0.5"
      ]
     },
     "execution_count": 10,
     "metadata": {},
     "output_type": "execute_result"
    }
   ],
   "source": [
    "y.head()"
   ]
  },
  {
   "cell_type": "markdown",
   "id": "98532ea3-8c20-418e-9ebe-0980d169a1a1",
   "metadata": {},
   "source": [
    "### Task-02: Spliting - Train & Test Datasets"
   ]
  },
  {
   "cell_type": "markdown",
   "id": "22b41c57-4d46-48f0-8dae-3df4edb09d0b",
   "metadata": {},
   "source": [
    "#### Step-01: Import train_test_split from sklearn.model_selection"
   ]
  },
  {
   "cell_type": "code",
   "execution_count": 11,
   "id": "9aa1c30d-3a5f-4b9d-96bb-2d9b5c35aa18",
   "metadata": {},
   "outputs": [],
   "source": [
    "from sklearn.model_selection import train_test_split"
   ]
  },
  {
   "cell_type": "code",
   "execution_count": 12,
   "id": "8fee3c8b-ffec-4c7e-bcf3-c3a332f14777",
   "metadata": {},
   "outputs": [],
   "source": [
    "x_train, x_test, y_train, y_test = train_test_split(x, y, test_size = 0.25, random_state = 42)"
   ]
  },
  {
   "cell_type": "code",
   "execution_count": 13,
   "id": "4d494426-83d4-4931-a3ad-844c0dadc27f",
   "metadata": {},
   "outputs": [
    {
     "name": "stdout",
     "output_type": "stream",
     "text": [
      "     Temperature  RH  Ws  Rain  FFMC   DMC    DC   ISI   BUI  Classes  Region\n",
      "97            29  74  19   0.1  75.8   3.6  32.2   2.1   5.6        0       1\n",
      "141           31  72  14   0.2  60.2   3.8   8.0   0.8   3.7        0       2\n",
      "192           40  31  15   0.0  94.2  22.5  46.3  16.6  22.4        1       2\n",
      "68            32  60  18   0.3  77.1  11.3  47.0   2.2  14.1        0       1\n",
      "119           32  47  14   0.7  77.5   7.1   8.8   1.8   6.8        0       1\n",
      "(182, 11)\n"
     ]
    }
   ],
   "source": [
    "print(x_train.head())\n",
    "print(x_train.shape)"
   ]
  },
  {
   "cell_type": "code",
   "execution_count": 14,
   "id": "26de552b-9b5c-45b9-aaf4-a606ef1a404d",
   "metadata": {},
   "outputs": [
    {
     "name": "stdout",
     "output_type": "stream",
     "text": [
      "     Temperature  RH  Ws  Rain  FFMC   DMC    DC  ISI   BUI  Classes  Region\n",
      "24            31  64  15   0.0  86.7  14.2  63.8  5.7  18.3        1       1\n",
      "6             33  54  13   0.0  88.2   9.9  30.5  6.4  10.9        1       1\n",
      "152           28  58  18   2.2  63.7   3.2   8.5  1.2   3.3        0       2\n",
      "232           34  58  13   0.2  79.5  18.7  88.0  2.1  24.4        0       2\n",
      "238           30  65  14   0.0  85.4  16.0  44.5  4.5  16.9        1       2\n",
      "(61, 11)\n"
     ]
    }
   ],
   "source": [
    "print(x_test.head())\n",
    "print(x_test.shape)"
   ]
  },
  {
   "cell_type": "code",
   "execution_count": 15,
   "id": "4659a1e9-9018-4ea6-9c79-acb9d2c86002",
   "metadata": {},
   "outputs": [
    {
     "name": "stdout",
     "output_type": "stream",
     "text": [
      "      FWI\n",
      "97    0.9\n",
      "141   0.3\n",
      "192  21.6\n",
      "68    2.6\n",
      "119   0.9\n",
      "(182, 1)\n"
     ]
    }
   ],
   "source": [
    "print(y_train.head())\n",
    "print(y_train.shape)"
   ]
  },
  {
   "cell_type": "code",
   "execution_count": 16,
   "id": "a061fca1-aa56-4a2c-9ee8-c1fa054541b8",
   "metadata": {},
   "outputs": [
    {
     "name": "stdout",
     "output_type": "stream",
     "text": [
      "     FWI\n",
      "24   8.4\n",
      "6    7.2\n",
      "152  0.5\n",
      "232  3.8\n",
      "238  6.5\n",
      "(61, 1)\n"
     ]
    }
   ],
   "source": [
    "print(y_test.head())\n",
    "print(y_test.shape)"
   ]
  },
  {
   "cell_type": "markdown",
   "id": "4ded479e-fb93-4278-8801-039f5cf69c19",
   "metadata": {},
   "source": [
    "#### Step-02: Check for multicollinearity"
   ]
  },
  {
   "cell_type": "code",
   "execution_count": 17,
   "id": "014798d7-f318-459c-9626-06cc62742adf",
   "metadata": {},
   "outputs": [
    {
     "data": {
      "text/html": [
       "<div>\n",
       "<style scoped>\n",
       "    .dataframe tbody tr th:only-of-type {\n",
       "        vertical-align: middle;\n",
       "    }\n",
       "\n",
       "    .dataframe tbody tr th {\n",
       "        vertical-align: top;\n",
       "    }\n",
       "\n",
       "    .dataframe thead th {\n",
       "        text-align: right;\n",
       "    }\n",
       "</style>\n",
       "<table border=\"1\" class=\"dataframe\">\n",
       "  <thead>\n",
       "    <tr style=\"text-align: right;\">\n",
       "      <th></th>\n",
       "      <th>Temperature</th>\n",
       "      <th>RH</th>\n",
       "      <th>Ws</th>\n",
       "      <th>Rain</th>\n",
       "      <th>FFMC</th>\n",
       "      <th>DMC</th>\n",
       "      <th>DC</th>\n",
       "      <th>ISI</th>\n",
       "      <th>BUI</th>\n",
       "      <th>Classes</th>\n",
       "      <th>Region</th>\n",
       "    </tr>\n",
       "  </thead>\n",
       "  <tbody>\n",
       "    <tr>\n",
       "      <th>Temperature</th>\n",
       "      <td>1.000000</td>\n",
       "      <td>-0.656095</td>\n",
       "      <td>-0.305977</td>\n",
       "      <td>-0.317512</td>\n",
       "      <td>0.694768</td>\n",
       "      <td>0.498173</td>\n",
       "      <td>0.390684</td>\n",
       "      <td>0.629848</td>\n",
       "      <td>0.473609</td>\n",
       "      <td>0.542141</td>\n",
       "      <td>0.254549</td>\n",
       "    </tr>\n",
       "    <tr>\n",
       "      <th>RH</th>\n",
       "      <td>-0.656095</td>\n",
       "      <td>1.000000</td>\n",
       "      <td>0.225736</td>\n",
       "      <td>0.241656</td>\n",
       "      <td>-0.653023</td>\n",
       "      <td>-0.414601</td>\n",
       "      <td>-0.236078</td>\n",
       "      <td>-0.717804</td>\n",
       "      <td>-0.362317</td>\n",
       "      <td>-0.456876</td>\n",
       "      <td>-0.394665</td>\n",
       "    </tr>\n",
       "    <tr>\n",
       "      <th>Ws</th>\n",
       "      <td>-0.305977</td>\n",
       "      <td>0.225736</td>\n",
       "      <td>1.000000</td>\n",
       "      <td>0.251932</td>\n",
       "      <td>-0.190076</td>\n",
       "      <td>0.000379</td>\n",
       "      <td>0.096576</td>\n",
       "      <td>-0.023558</td>\n",
       "      <td>0.035633</td>\n",
       "      <td>-0.082570</td>\n",
       "      <td>-0.199969</td>\n",
       "    </tr>\n",
       "    <tr>\n",
       "      <th>Rain</th>\n",
       "      <td>-0.317512</td>\n",
       "      <td>0.241656</td>\n",
       "      <td>0.251932</td>\n",
       "      <td>1.000000</td>\n",
       "      <td>-0.545491</td>\n",
       "      <td>-0.289754</td>\n",
       "      <td>-0.302341</td>\n",
       "      <td>-0.345707</td>\n",
       "      <td>-0.300964</td>\n",
       "      <td>-0.369357</td>\n",
       "      <td>-0.059022</td>\n",
       "    </tr>\n",
       "    <tr>\n",
       "      <th>FFMC</th>\n",
       "      <td>0.694768</td>\n",
       "      <td>-0.653023</td>\n",
       "      <td>-0.190076</td>\n",
       "      <td>-0.545491</td>\n",
       "      <td>1.000000</td>\n",
       "      <td>0.620807</td>\n",
       "      <td>0.524101</td>\n",
       "      <td>0.750799</td>\n",
       "      <td>0.607210</td>\n",
       "      <td>0.781259</td>\n",
       "      <td>0.249514</td>\n",
       "    </tr>\n",
       "    <tr>\n",
       "      <th>DMC</th>\n",
       "      <td>0.498173</td>\n",
       "      <td>-0.414601</td>\n",
       "      <td>0.000379</td>\n",
       "      <td>-0.289754</td>\n",
       "      <td>0.620807</td>\n",
       "      <td>1.000000</td>\n",
       "      <td>0.868647</td>\n",
       "      <td>0.685656</td>\n",
       "      <td>0.983175</td>\n",
       "      <td>0.617273</td>\n",
       "      <td>0.212582</td>\n",
       "    </tr>\n",
       "    <tr>\n",
       "      <th>DC</th>\n",
       "      <td>0.390684</td>\n",
       "      <td>-0.236078</td>\n",
       "      <td>0.096576</td>\n",
       "      <td>-0.302341</td>\n",
       "      <td>0.524101</td>\n",
       "      <td>0.868647</td>\n",
       "      <td>1.000000</td>\n",
       "      <td>0.513701</td>\n",
       "      <td>0.942414</td>\n",
       "      <td>0.543581</td>\n",
       "      <td>-0.060838</td>\n",
       "    </tr>\n",
       "    <tr>\n",
       "      <th>ISI</th>\n",
       "      <td>0.629848</td>\n",
       "      <td>-0.717804</td>\n",
       "      <td>-0.023558</td>\n",
       "      <td>-0.345707</td>\n",
       "      <td>0.750799</td>\n",
       "      <td>0.685656</td>\n",
       "      <td>0.513701</td>\n",
       "      <td>1.000000</td>\n",
       "      <td>0.643818</td>\n",
       "      <td>0.742977</td>\n",
       "      <td>0.296441</td>\n",
       "    </tr>\n",
       "    <tr>\n",
       "      <th>BUI</th>\n",
       "      <td>0.473609</td>\n",
       "      <td>-0.362317</td>\n",
       "      <td>0.035633</td>\n",
       "      <td>-0.300964</td>\n",
       "      <td>0.607210</td>\n",
       "      <td>0.983175</td>\n",
       "      <td>0.942414</td>\n",
       "      <td>0.643818</td>\n",
       "      <td>1.000000</td>\n",
       "      <td>0.612239</td>\n",
       "      <td>0.114897</td>\n",
       "    </tr>\n",
       "    <tr>\n",
       "      <th>Classes</th>\n",
       "      <td>0.542141</td>\n",
       "      <td>-0.456876</td>\n",
       "      <td>-0.082570</td>\n",
       "      <td>-0.369357</td>\n",
       "      <td>0.781259</td>\n",
       "      <td>0.617273</td>\n",
       "      <td>0.543581</td>\n",
       "      <td>0.742977</td>\n",
       "      <td>0.612239</td>\n",
       "      <td>1.000000</td>\n",
       "      <td>0.188837</td>\n",
       "    </tr>\n",
       "    <tr>\n",
       "      <th>Region</th>\n",
       "      <td>0.254549</td>\n",
       "      <td>-0.394665</td>\n",
       "      <td>-0.199969</td>\n",
       "      <td>-0.059022</td>\n",
       "      <td>0.249514</td>\n",
       "      <td>0.212582</td>\n",
       "      <td>-0.060838</td>\n",
       "      <td>0.296441</td>\n",
       "      <td>0.114897</td>\n",
       "      <td>0.188837</td>\n",
       "      <td>1.000000</td>\n",
       "    </tr>\n",
       "  </tbody>\n",
       "</table>\n",
       "</div>"
      ],
      "text/plain": [
       "             Temperature        RH        Ws      Rain      FFMC       DMC  \\\n",
       "Temperature     1.000000 -0.656095 -0.305977 -0.317512  0.694768  0.498173   \n",
       "RH             -0.656095  1.000000  0.225736  0.241656 -0.653023 -0.414601   \n",
       "Ws             -0.305977  0.225736  1.000000  0.251932 -0.190076  0.000379   \n",
       "Rain           -0.317512  0.241656  0.251932  1.000000 -0.545491 -0.289754   \n",
       "FFMC            0.694768 -0.653023 -0.190076 -0.545491  1.000000  0.620807   \n",
       "DMC             0.498173 -0.414601  0.000379 -0.289754  0.620807  1.000000   \n",
       "DC              0.390684 -0.236078  0.096576 -0.302341  0.524101  0.868647   \n",
       "ISI             0.629848 -0.717804 -0.023558 -0.345707  0.750799  0.685656   \n",
       "BUI             0.473609 -0.362317  0.035633 -0.300964  0.607210  0.983175   \n",
       "Classes         0.542141 -0.456876 -0.082570 -0.369357  0.781259  0.617273   \n",
       "Region          0.254549 -0.394665 -0.199969 -0.059022  0.249514  0.212582   \n",
       "\n",
       "                   DC       ISI       BUI   Classes    Region  \n",
       "Temperature  0.390684  0.629848  0.473609  0.542141  0.254549  \n",
       "RH          -0.236078 -0.717804 -0.362317 -0.456876 -0.394665  \n",
       "Ws           0.096576 -0.023558  0.035633 -0.082570 -0.199969  \n",
       "Rain        -0.302341 -0.345707 -0.300964 -0.369357 -0.059022  \n",
       "FFMC         0.524101  0.750799  0.607210  0.781259  0.249514  \n",
       "DMC          0.868647  0.685656  0.983175  0.617273  0.212582  \n",
       "DC           1.000000  0.513701  0.942414  0.543581 -0.060838  \n",
       "ISI          0.513701  1.000000  0.643818  0.742977  0.296441  \n",
       "BUI          0.942414  0.643818  1.000000  0.612239  0.114897  \n",
       "Classes      0.543581  0.742977  0.612239  1.000000  0.188837  \n",
       "Region      -0.060838  0.296441  0.114897  0.188837  1.000000  "
      ]
     },
     "execution_count": 17,
     "metadata": {},
     "output_type": "execute_result"
    }
   ],
   "source": [
    "x_train.corr()"
   ]
  },
  {
   "cell_type": "code",
   "execution_count": 18,
   "id": "20e15c34-f9be-45d3-b7e1-e731e1273cc0",
   "metadata": {},
   "outputs": [
    {
     "data": {
      "text/plain": [
       "<AxesSubplot: >"
      ]
     },
     "execution_count": 18,
     "metadata": {},
     "output_type": "execute_result"
    },
    {
     "data": {
      "image/png": "[encoded data removed]",
      "text/plain": [
       "<Figure size 1500x1000 with 2 Axes>"
      ]
     },
     "metadata": {},
     "output_type": "display_data"
    }
   ],
   "source": [
    "plt.figure(figsize = (15, 10))\n",
    "sns.heatmap(x_train.corr(), annot = True)"
   ]
  },
  {
   "cell_type": "code",
   "execution_count": 19,
   "id": "7365ecea-3c3d-49ab-a796-4d846f7dd6ee",
   "metadata": {},
   "outputs": [],
   "source": [
    "def correlation(dataset, threshold):\n",
    "    col_corr = set()\n",
    "    corr_matrix = dataset.corr()\n",
    "    for i in range(len(dataset.columns)):\n",
    "        for j in range(i):\n",
    "            if abs(corr_matrix.iloc[i,j]) > threshold:\n",
    "                col = dataset.columns[i]\n",
    "                col_corr.add(col)\n",
    "    return col_corr"
   ]
  },
  {
   "cell_type": "code",
   "execution_count": 20,
   "id": "260c42d4-0090-4ba2-bb40-1b7f7d6cf81c",
   "metadata": {},
   "outputs": [],
   "source": [
    "corr_features = correlation(x_train, 0.85)"
   ]
  },
  {
   "cell_type": "code",
   "execution_count": 21,
   "id": "6c0e0e39-ea1d-4610-b421-d223ff3600c4",
   "metadata": {},
   "outputs": [
    {
     "data": {
      "text/plain": [
       "{'BUI', 'DC'}"
      ]
     },
     "execution_count": 21,
     "metadata": {},
     "output_type": "execute_result"
    }
   ],
   "source": [
    "corr_features"
   ]
  },
  {
   "cell_type": "code",
   "execution_count": 22,
   "id": "1799d7fc-9fac-482b-a59a-5d02052c0289",
   "metadata": {},
   "outputs": [
    {
     "name": "stdout",
     "output_type": "stream",
     "text": [
      "x_train.shape: (182, 11)\n",
      "x_test.shape: (61, 11)\n"
     ]
    }
   ],
   "source": [
    "print(\"x_train.shape: \" + str(x_train.shape))\n",
    "print(\"x_test.shape: \" + str(x_test.shape))"
   ]
  },
  {
   "cell_type": "code",
   "execution_count": 23,
   "id": "b287ed66-acce-4b11-b894-00a409c1b485",
   "metadata": {},
   "outputs": [
    {
     "name": "stdout",
     "output_type": "stream",
     "text": [
      "x_train.shape: (182, 9)\n",
      "x_test.shape: (61, 9)\n"
     ]
    }
   ],
   "source": [
    "x_train.drop(corr_features, axis = 1, inplace = True)\n",
    "x_test.drop(corr_features, axis = 1, inplace = True)\n",
    "\n",
    "print(\"x_train.shape: \" + str(x_train.shape))\n",
    "print(\"x_test.shape: \" + str(x_test.shape))"
   ]
  },
  {
   "cell_type": "markdown",
   "id": "331b9f62-74cb-46b6-8d3e-0dd4b9c427aa",
   "metadata": {},
   "source": [
    "### Task-03: Feature Scaling - Standardization/Normalization"
   ]
  },
  {
   "cell_type": "markdown",
   "id": "ca1c8de0-8fad-4d1f-9a41-7968f0304409",
   "metadata": {},
   "source": [
    "#### Step-01: Import StandardScaler from sklearn.preprocessing"
   ]
  },
  {
   "cell_type": "code",
   "execution_count": 24,
   "id": "110f0ed9-6490-4bf6-9538-afe7070ae7ea",
   "metadata": {},
   "outputs": [],
   "source": [
    "from sklearn.preprocessing import StandardScaler"
   ]
  },
  {
   "cell_type": "code",
   "execution_count": 25,
   "id": "a417cd30-53d2-4c40-bb53-de990bb40d6d",
   "metadata": {},
   "outputs": [],
   "source": [
    "scaler = StandardScaler()"
   ]
  },
  {
   "cell_type": "code",
   "execution_count": 26,
   "id": "9c270930-f3d3-42be-aeb2-76ae12d21fdf",
   "metadata": {},
   "outputs": [
    {
     "data": {
      "text/html": [
       "<style>#sk-container-id-1 {color: black;background-color: white;}#sk-container-id-1 pre{padding: 0;}#sk-container-id-1 div.sk-toggleable {background-color: white;}#sk-container-id-1 label.sk-toggleable__label {cursor: pointer;display: block;width: 100%;margin-bottom: 0;padding: 0.3em;box-sizing: border-box;text-align: center;}#sk-container-id-1 label.sk-toggleable__label-arrow:before {content: \"▸\";float: left;margin-right: 0.25em;color: #696969;}#sk-container-id-1 label.sk-toggleable__label-arrow:hover:before {color: black;}#sk-container-id-1 div.sk-estimator:hover label.sk-toggleable__label-arrow:before {color: black;}#sk-container-id-1 div.sk-toggleable__content {max-height: 0;max-width: 0;overflow: hidden;text-align: left;background-color: #f0f8ff;}#sk-container-id-1 div.sk-toggleable__content pre {margin: 0.2em;color: black;border-radius: 0.25em;background-color: #f0f8ff;}#sk-container-id-1 input.sk-toggleable__control:checked~div.sk-toggleable__content {max-height: 200px;max-width: 100%;overflow: auto;}#sk-container-id-1 input.sk-toggleable__control:checked~label.sk-toggleable__label-arrow:before {content: \"▾\";}#sk-container-id-1 div.sk-estimator input.sk-toggleable__control:checked~label.sk-toggleable__label {background-color: #d4ebff;}#sk-container-id-1 div.sk-label input.sk-toggleable__control:checked~label.sk-toggleable__label {background-color: #d4ebff;}#sk-container-id-1 input.sk-hidden--visually {border: 0;clip: rect(1px 1px 1px 1px);clip: rect(1px, 1px, 1px, 1px);height: 1px;margin: -1px;overflow: hidden;padding: 0;position: absolute;width: 1px;}#sk-container-id-1 div.sk-estimator {font-family: monospace;background-color: #f0f8ff;border: 1px dotted black;border-radius: 0.25em;box-sizing: border-box;margin-bottom: 0.5em;}#sk-container-id-1 div.sk-estimator:hover {background-color: #d4ebff;}#sk-container-id-1 div.sk-parallel-item::after {content: \"\";width: 100%;border-bottom: 1px solid gray;flex-grow: 1;}#sk-container-id-1 div.sk-label:hover label.sk-toggleable__label {background-color: #d4ebff;}#sk-container-id-1 div.sk-serial::before {content: \"\";position: absolute;border-left: 1px solid gray;box-sizing: border-box;top: 0;bottom: 0;left: 50%;z-index: 0;}#sk-container-id-1 div.sk-serial {display: flex;flex-direction: column;align-items: center;background-color: white;padding-right: 0.2em;padding-left: 0.2em;position: relative;}#sk-container-id-1 div.sk-item {position: relative;z-index: 1;}#sk-container-id-1 div.sk-parallel {display: flex;align-items: stretch;justify-content: center;background-color: white;position: relative;}#sk-container-id-1 div.sk-item::before, #sk-container-id-1 div.sk-parallel-item::before {content: \"\";position: absolute;border-left: 1px solid gray;box-sizing: border-box;top: 0;bottom: 0;left: 50%;z-index: -1;}#sk-container-id-1 div.sk-parallel-item {display: flex;flex-direction: column;z-index: 1;position: relative;background-color: white;}#sk-container-id-1 div.sk-parallel-item:first-child::after {align-self: flex-end;width: 50%;}#sk-container-id-1 div.sk-parallel-item:last-child::after {align-self: flex-start;width: 50%;}#sk-container-id-1 div.sk-parallel-item:only-child::after {width: 0;}#sk-container-id-1 div.sk-dashed-wrapped {border: 1px dashed gray;margin: 0 0.4em 0.5em 0.4em;box-sizing: border-box;padding-bottom: 0.4em;background-color: white;}#sk-container-id-1 div.sk-label label {font-family: monospace;font-weight: bold;display: inline-block;line-height: 1.2em;}#sk-container-id-1 div.sk-label-container {text-align: center;}#sk-container-id-1 div.sk-container {/* jupyter's `normalize.less` sets `[hidden] { display: none; }` but bootstrap.min.css set `[hidden] { display: none !important; }` so we also need the `!important` here to be able to override the default hidden behavior on the sphinx rendered scikit-learn.org. See: https://github.com/scikit-learn/scikit-learn/issues/21755 */display: inline-block !important;position: relative;}#sk-container-id-1 div.sk-text-repr-fallback {display: none;}</style><div id=\"sk-container-id-1\" class=\"sk-top-container\"><div class=\"sk-text-repr-fallback\"><pre>StandardScaler()</pre><b>In a Jupyter environment, please rerun this cell to show the HTML representation or trust the notebook. <br />On GitHub, the HTML representation is unable to render, please try loading this page with nbviewer.org.</b></div><div class=\"sk-container\" hidden><div class=\"sk-item\"><div class=\"sk-estimator sk-toggleable\"><input class=\"sk-toggleable__control sk-hidden--visually\" id=\"sk-estimator-id-1\" type=\"checkbox\" checked><label for=\"sk-estimator-id-1\" class=\"sk-toggleable__label sk-toggleable__label-arrow\">StandardScaler</label><div class=\"sk-toggleable__content\"><pre>StandardScaler()</pre></div></div></div></div></div>"
      ],
      "text/plain": [
       "StandardScaler()"
      ]
     },
     "execution_count": 26,
     "metadata": {},
     "output_type": "execute_result"
    }
   ],
   "source": [
    "scaler"
   ]
  },
  {
   "cell_type": "code",
   "execution_count": 27,
   "id": "ec77be84-c5c1-483f-9f62-3aba9ae2e5b8",
   "metadata": {},
   "outputs": [],
   "source": [
    "x_train_scaled = scaler.fit_transform(x_train)\n",
    "x_test_scaled = scaler.transform(x_test)"
   ]
  },
  {
   "cell_type": "markdown",
   "id": "554b58be-d812-455e-8ea5-63f944460ce7",
   "metadata": {},
   "source": [
    "#### Step-02: Boxplots to understand the effect of StandardScaler"
   ]
  },
  {
   "cell_type": "code",
   "execution_count": 33,
   "id": "4ceb483c-3fdb-4f08-b2da-2ad4b90ba1bd",
   "metadata": {},
   "outputs": [
    {
     "data": {
      "image/png": "[encoded data removed]",
      "text/plain": [
       "<Figure size 1500x500 with 2 Axes>"
      ]
     },
     "metadata": {},
     "output_type": "display_data"
    }
   ],
   "source": [
    "plt.figure(figsize = (15, 5))\n",
    "plt.subplot(1, 2, 1)\n",
    "plt.boxplot(x = x_train, )\n",
    "plt.title(\"x_train before scaling\")\n",
    "plt.subplot(1, 2, 2)\n",
    "plt.boxplot(x = x_train_scaled)\n",
    "plt.title(\"x_train after scaling\")\n",
    "plt.show()"
   ]
  },
  {
   "cell_type": "markdown",
   "id": "3174cf47-2070-4418-9ab0-ecd681716ee3",
   "metadata": {},
   "source": [
    "### Task-04: Ridge Regression"
   ]
  },
  {
   "cell_type": "code",
   "execution_count": 36,
   "id": "28da7f2f-b8d9-47cc-a3cf-688b79ef852f",
   "metadata": {},
   "outputs": [
    {
     "name": "stdout",
     "output_type": "stream",
     "text": [
      "Mean Absolute Error: 0.5642305340105692\n",
      "Accuracy: 0.9842993364555513\n"
     ]
    },
    {
     "data": {
      "image/png": "[encoded data removed]",
      "text/plain": [
       "<Figure size 640x480 with 1 Axes>"
      ]
     },
     "metadata": {},
     "output_type": "display_data"
    }
   ],
   "source": [
    "from sklearn.linear_model import Ridge\n",
    "from sklearn.metrics import mean_absolute_error\n",
    "from sklearn.metrics import r2_score\n",
    "ridge = Ridge()\n",
    "ridge.fit(x_train_scaled, y_train)\n",
    "y_pred = ridge.predict(x_test_scaled)\n",
    "plt.scatter(y_test, y_pred)\n",
    "print(\"Mean Absolute Error: {}\" .format(mean_absolute_error(y_test, y_pred)))\n",
    "print(\"Accuracy: {}\" .format(r2_score(y_test, y_pred)))"
   ]
  },
  {
   "cell_type": "markdown",
   "id": "0acff444-c26f-4a67-b4f5-8e8cc80a0fe1",
   "metadata": {},
   "source": [
    "### Task-05: Lasso Regression"
   ]
  },
  {
   "cell_type": "code",
   "execution_count": 37,
   "id": "8b722f3c-ffe0-4a4f-a4f9-e15cc7ff68fa",
   "metadata": {},
   "outputs": [
    {
     "name": "stdout",
     "output_type": "stream",
     "text": [
      "Mean Absolute Error: 1.133175994914409\n",
      "Accuracy: 0.9492020263112388\n"
     ]
    },
    {
     "data": {
      "image/png": "[encoded data removed]",
      "text/plain": [
       "<Figure size 640x480 with 1 Axes>"
      ]
     },
     "metadata": {},
     "output_type": "display_data"
    }
   ],
   "source": [
    "from sklearn.linear_model import Lasso\n",
    "from sklearn.metrics import mean_absolute_error\n",
    "from sklearn.metrics import r2_score\n",
    "lasso = Lasso()\n",
    "lasso.fit(x_train_scaled, y_train)\n",
    "y_pred = lasso.predict(x_test_scaled)\n",
    "plt.scatter(y_test, y_pred)\n",
    "print(\"Mean Absolute Error: {}\" .format(mean_absolute_error(y_test, y_pred)))\n",
    "print(\"Accuracy: {}\" .format(r2_score(y_test, y_pred)))"
   ]
  },
  {
   "cell_type": "markdown",
   "id": "42778ae4-7c3e-44fb-a841-2f420215a53f",
   "metadata": {},
   "source": [
    "### Task-06: Elastic Net Regression"
   ]
  },
  {
   "cell_type": "code",
   "execution_count": 38,
   "id": "18148179-1392-46eb-8108-3a893662f2a7",
   "metadata": {},
   "outputs": [
    {
     "name": "stdout",
     "output_type": "stream",
     "text": [
      "Mean Absolute Error: 1.8822353634896005\n",
      "Accuracy: 0.8753460589519703\n"
     ]
    },
    {
     "data": {
      "image/png": "[encoded data removed]",
      "text/plain": [
       "<Figure size 640x480 with 1 Axes>"
      ]
     },
     "metadata": {},
     "output_type": "display_data"
    }
   ],
   "source": [
    "from sklearn.linear_model import ElasticNet\n",
    "from sklearn.metrics import mean_absolute_error\n",
    "from sklearn.metrics import r2_score\n",
    "elastic_net = ElasticNet()\n",
    "elastic_net.fit(x_train_scaled, y_train)\n",
    "y_pred = elastic_net.predict(x_test_scaled)\n",
    "plt.scatter(y_test, y_pred)\n",
    "print(\"Mean Absolute Error: {}\" .format(mean_absolute_error(y_test, y_pred)))\n",
    "print(\"Accuracy: {}\" .format(r2_score(y_test, y_pred)))"
   ]
  },
  {
   "cell_type": "markdown",
   "id": "f6a16888-333c-46ae-93ed-a19f6bc5ffa1",
   "metadata": {},
   "source": [
    "### Task-07: Cross Validation Ridge"
   ]
  },
  {
   "cell_type": "code",
   "execution_count": 40,
   "id": "dc5da4c5-f100-479a-aeb1-071b5d806316",
   "metadata": {},
   "outputs": [
    {
     "name": "stdout",
     "output_type": "stream",
     "text": [
      "Mean Absolute Error: 0.5642305340105692\n",
      "Accuracy: 0.9842993364555513\n"
     ]
    },
    {
     "data": {
      "image/png": "[encoded data removed]",
      "text/plain": [
       "<Figure size 640x480 with 1 Axes>"
      ]
     },
     "metadata": {},
     "output_type": "display_data"
    }
   ],
   "source": [
    "from sklearn.linear_model import RidgeCV\n",
    "from sklearn.metrics import mean_absolute_error\n",
    "from sklearn.metrics import r2_score\n",
    "ridgecv = RidgeCV(cv = 5)\n",
    "ridgecv.fit(x_train_scaled, y_train)\n",
    "y_pred = ridgecv.predict(x_test_scaled)\n",
    "plt.scatter(y_test, y_pred)\n",
    "print(\"Mean Absolute Error: {}\" .format(mean_absolute_error(y_test, y_pred)))\n",
    "print(\"Accuracy: {}\" .format(r2_score(y_test, y_pred)))"
   ]
  },
  {
   "cell_type": "markdown",
   "id": "1bbb3909-d487-44a6-a320-e68489d59b48",
   "metadata": {},
   "source": [
    "### Task-08: Cross Validation Lasso"
   ]
  },
  {
   "cell_type": "code",
   "execution_count": 41,
   "id": "60dd6267-d32a-4070-af54-6c8e36b55943",
   "metadata": {},
   "outputs": [
    {
     "name": "stdout",
     "output_type": "stream",
     "text": [
      "Mean Absolute Error: 0.6199701158263433\n",
      "Accuracy: 0.9820946715928275\n"
     ]
    },
    {
     "data": {
      "image/png": "[encoded data removed]",
      "text/plain": [
       "<Figure size 640x480 with 1 Axes>"
      ]
     },
     "metadata": {},
     "output_type": "display_data"
    }
   ],
   "source": [
    "from sklearn.linear_model import LassoCV\n",
    "from sklearn.metrics import mean_absolute_error\n",
    "from sklearn.metrics import r2_score\n",
    "lassocv = LassoCV(cv = 5)\n",
    "lassocv.fit(x_train_scaled, y_train)\n",
    "y_pred = lassocv.predict(x_test_scaled)\n",
    "plt.scatter(y_test, y_pred)\n",
    "print(\"Mean Absolute Error: {}\" .format(mean_absolute_error(y_test, y_pred)))\n",
    "print(\"Accuracy: {}\" .format(r2_score(y_test, y_pred)))"
   ]
  },
  {
   "cell_type": "markdown",
   "id": "8272bb4b-c5db-41e8-a807-bcf28d323f14",
   "metadata": {},
   "source": [
    "### Task-09: Cross Validation Elastic Net"
   ]
  },
  {
   "cell_type": "code",
   "execution_count": 42,
   "id": "76c8bdf0-6751-4a61-b7e2-9575dc4882d1",
   "metadata": {},
   "outputs": [
    {
     "name": "stdout",
     "output_type": "stream",
     "text": [
      "Mean Absolute Error: 0.6575946731430898\n",
      "Accuracy: 0.9814217587854941\n"
     ]
    },
    {
     "data": {
      "image/png": "[encoded data removed]",
      "text/plain": [
       "<Figure size 640x480 with 1 Axes>"
      ]
     },
     "metadata": {},
     "output_type": "display_data"
    }
   ],
   "source": [
    "from sklearn.linear_model import ElasticNetCV\n",
    "from sklearn.metrics import mean_absolute_error\n",
    "from sklearn.metrics import r2_score\n",
    "elastic_net_cv = ElasticNetCV(cv = 5)\n",
    "elastic_net_cv.fit(x_train_scaled, y_train)\n",
    "y_pred = elastic_net_cv.predict(x_test_scaled)\n",
    "plt.scatter(y_test, y_pred)\n",
    "print(\"Mean Absolute Error: {}\" .format(mean_absolute_error(y_test, y_pred)))\n",
    "print(\"Accuracy: {}\" .format(r2_score(y_test, y_pred)))"
   ]
  },
  {
   "cell_type": "code",
   "execution_count": null,
   "id": "aeedc2eb-b869-4ec3-8afa-144e55276d0d",
   "metadata": {},
   "outputs": [],
   "source": []
  }
 ],
 "metadata": {
  "kernelspec": {
   "display_name": "Python 3 (ipykernel)",
   "language": "python",
   "name": "python3"
  },
  "language_info": {
   "codemirror_mode": {
    "name": "ipython",
    "version": 3
   },
   "file_extension": ".py",
   "mimetype": "text/x-python",
   "name": "python",
   "nbconvert_exporter": "python",
   "pygments_lexer": "ipython3",
   "version": "3.10.8"
  }
 },
 "nbformat": 4,
 "nbformat_minor": 5
}
