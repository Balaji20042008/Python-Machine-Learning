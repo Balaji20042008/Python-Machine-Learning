{
 "cells": [
  {
   "cell_type": "markdown",
   "id": "decea56b-c6fa-4ea3-b38f-20e28b9284e2",
   "metadata": {},
   "source": [
    "## # Machine Learning - Support Vector Classifier"
   ]
  },
  {
   "cell_type": "markdown",
   "id": "3077ed17-21d2-4d84-9b10-73dcc008baf8",
   "metadata": {},
   "source": [
    "### Step-01: Import all the libraries required to perform SVC"
   ]
  },
  {
   "cell_type": "code",
   "execution_count": 1,
   "id": "ca727895-ea36-4a81-a5e4-a6504f4121ac",
   "metadata": {},
   "outputs": [],
   "source": [
    "import pandas as pd\n",
    "import numpy as np\n",
    "import matplotlib.pyplot as plt\n",
    "import seaborn as sns\n",
    "%matplotlib inline\n",
    "import warnings\n",
    "warnings.filterwarnings(\"ignore\")"
   ]
  },
  {
   "cell_type": "markdown",
   "id": "f6a21751-506c-49bf-9045-46d574c20536",
   "metadata": {},
   "source": [
    "### Step-02: Import make_classification from sklearn.datasets"
   ]
  },
  {
   "cell_type": "code",
   "execution_count": 2,
   "id": "a0b77371-b926-49df-9249-a3bc4c94c636",
   "metadata": {},
   "outputs": [],
   "source": [
    "from sklearn.datasets import make_classification"
   ]
  },
  {
   "cell_type": "code",
   "execution_count": 3,
   "id": "cf5860ee-7ce5-48d7-bd69-dc01ed2b5a80",
   "metadata": {},
   "outputs": [],
   "source": [
    "x, y = make_classification(n_samples = 1000, n_features = 2, n_redundant = 0, n_classes = 2, n_clusters_per_class = 2)"
   ]
  },
  {
   "cell_type": "code",
   "execution_count": 4,
   "id": "d9472092-10d7-4b2b-8fa7-71ea8e436467",
   "metadata": {},
   "outputs": [
    {
     "data": {
      "text/plain": [
       "array([[ 1.03597652, -0.94676844],\n",
       "       [ 0.13943798, -2.22965546],\n",
       "       [-1.22286122, -0.27985958],\n",
       "       ...,\n",
       "       [ 0.9413765 ,  1.18417223],\n",
       "       [ 1.56367779,  0.15391455],\n",
       "       [ 2.62174359,  1.06385676]])"
      ]
     },
     "execution_count": 4,
     "metadata": {},
     "output_type": "execute_result"
    }
   ],
   "source": [
    "x"
   ]
  },
  {
   "cell_type": "code",
   "execution_count": 5,
   "id": "48756147-920a-4202-bf5c-c896933361fb",
   "metadata": {},
   "outputs": [
    {
     "data": {
      "text/plain": [
       "array([1, 0, 0, 1, 0, 0, 0, 0, 1, 1, 0, 1, 0, 0, 1, 1, 0, 0, 1, 1, 1, 0,\n",
       "       1, 0, 0, 0, 1, 0, 1, 0, 0, 1, 1, 0, 1, 0, 1, 1, 0, 1, 0, 1, 1, 1,\n",
       "       0, 0, 0, 1, 1, 1, 1, 1, 0, 0, 1, 0, 0, 0, 1, 0, 0, 1, 1, 1, 0, 1,\n",
       "       1, 0, 1, 0, 1, 0, 0, 0, 0, 1, 0, 0, 1, 0, 1, 1, 0, 0, 1, 1, 1, 1,\n",
       "       1, 0, 0, 1, 0, 1, 0, 0, 0, 1, 1, 1, 0, 0, 0, 0, 0, 0, 1, 1, 0, 1,\n",
       "       1, 0, 0, 0, 0, 1, 0, 0, 0, 1, 1, 0, 0, 1, 0, 1, 1, 0, 1, 1, 0, 1,\n",
       "       0, 0, 1, 0, 1, 1, 1, 1, 0, 1, 1, 0, 1, 1, 0, 0, 0, 0, 1, 1, 1, 1,\n",
       "       1, 0, 1, 0, 1, 0, 1, 0, 1, 1, 1, 1, 1, 0, 1, 1, 0, 1, 0, 0, 1, 0,\n",
       "       0, 0, 0, 0, 0, 0, 1, 1, 0, 1, 1, 0, 1, 1, 1, 0, 0, 1, 0, 0, 1, 1,\n",
       "       0, 1, 0, 0, 0, 0, 0, 0, 0, 0, 1, 0, 1, 0, 0, 1, 0, 1, 1, 0, 1, 0,\n",
       "       0, 0, 1, 0, 1, 1, 0, 1, 1, 0, 1, 1, 0, 1, 0, 0, 1, 1, 1, 1, 1, 1,\n",
       "       0, 0, 0, 1, 0, 0, 1, 1, 1, 0, 1, 1, 1, 0, 0, 1, 0, 1, 0, 0, 1, 0,\n",
       "       1, 0, 0, 1, 1, 0, 0, 0, 0, 0, 1, 1, 0, 1, 1, 1, 0, 1, 1, 1, 1, 0,\n",
       "       1, 0, 0, 0, 0, 0, 0, 0, 0, 0, 0, 1, 1, 0, 1, 1, 0, 0, 0, 0, 0, 1,\n",
       "       1, 0, 1, 0, 0, 1, 0, 1, 0, 0, 1, 0, 1, 0, 1, 0, 1, 1, 1, 0, 0, 1,\n",
       "       0, 1, 0, 0, 1, 0, 0, 0, 1, 1, 0, 1, 0, 0, 0, 0, 0, 0, 1, 0, 0, 1,\n",
       "       1, 1, 1, 1, 1, 1, 1, 0, 1, 1, 1, 0, 0, 0, 1, 1, 0, 0, 0, 0, 1, 1,\n",
       "       1, 1, 0, 1, 1, 1, 1, 1, 0, 1, 0, 0, 1, 0, 1, 1, 0, 0, 0, 0, 0, 1,\n",
       "       0, 1, 0, 0, 1, 1, 1, 1, 0, 0, 1, 1, 0, 0, 1, 1, 1, 0, 0, 0, 1, 1,\n",
       "       1, 1, 1, 1, 0, 1, 0, 1, 1, 0, 0, 1, 0, 1, 1, 1, 0, 1, 1, 0, 0, 0,\n",
       "       0, 1, 0, 1, 0, 0, 1, 0, 0, 1, 0, 1, 0, 0, 0, 1, 0, 1, 1, 0, 1, 1,\n",
       "       1, 0, 0, 0, 1, 1, 0, 0, 1, 0, 0, 1, 0, 1, 0, 1, 1, 1, 1, 1, 0, 1,\n",
       "       1, 0, 0, 1, 1, 0, 0, 1, 0, 1, 0, 0, 1, 1, 0, 0, 1, 1, 1, 0, 1, 0,\n",
       "       1, 0, 1, 0, 1, 1, 1, 0, 1, 1, 0, 0, 1, 1, 1, 0, 1, 1, 1, 1, 0, 0,\n",
       "       0, 0, 0, 1, 1, 0, 0, 1, 0, 1, 1, 1, 1, 1, 1, 1, 0, 1, 1, 0, 1, 1,\n",
       "       0, 1, 0, 1, 1, 0, 0, 0, 1, 0, 0, 1, 1, 0, 0, 1, 1, 0, 0, 1, 1, 0,\n",
       "       0, 1, 0, 0, 0, 0, 1, 1, 1, 1, 1, 1, 0, 0, 1, 0, 1, 1, 1, 0, 0, 0,\n",
       "       0, 1, 1, 1, 1, 0, 0, 0, 0, 1, 0, 1, 0, 0, 0, 1, 0, 1, 1, 0, 1, 1,\n",
       "       0, 0, 1, 1, 0, 1, 0, 1, 0, 1, 0, 1, 1, 0, 1, 0, 1, 0, 1, 0, 0, 0,\n",
       "       1, 1, 1, 0, 1, 0, 1, 0, 1, 1, 0, 0, 0, 0, 0, 0, 1, 1, 1, 1, 0, 1,\n",
       "       1, 1, 0, 1, 1, 1, 0, 0, 0, 0, 1, 1, 1, 0, 1, 1, 1, 0, 0, 1, 1, 1,\n",
       "       0, 0, 0, 0, 1, 0, 0, 0, 0, 0, 1, 1, 1, 0, 1, 0, 0, 0, 1, 1, 0, 0,\n",
       "       0, 1, 0, 0, 1, 0, 1, 1, 0, 1, 1, 0, 0, 0, 1, 1, 1, 0, 0, 1, 0, 1,\n",
       "       1, 0, 1, 0, 0, 0, 0, 0, 0, 1, 0, 1, 0, 1, 0, 1, 0, 0, 1, 0, 1, 1,\n",
       "       1, 1, 1, 0, 1, 0, 1, 0, 1, 1, 1, 1, 0, 0, 1, 1, 1, 1, 1, 1, 0, 1,\n",
       "       1, 0, 0, 0, 1, 0, 0, 0, 0, 1, 1, 1, 0, 1, 0, 1, 0, 1, 1, 1, 0, 0,\n",
       "       1, 1, 0, 0, 0, 0, 1, 1, 1, 1, 1, 1, 1, 0, 1, 1, 1, 1, 1, 1, 0, 1,\n",
       "       0, 0, 0, 0, 0, 0, 1, 0, 0, 0, 0, 1, 1, 1, 0, 1, 1, 0, 1, 1, 0, 0,\n",
       "       1, 1, 0, 1, 1, 0, 0, 0, 0, 1, 0, 0, 0, 1, 1, 1, 1, 0, 1, 0, 0, 0,\n",
       "       0, 1, 1, 1, 0, 1, 0, 1, 0, 0, 0, 1, 0, 1, 0, 1, 0, 0, 0, 1, 1, 1,\n",
       "       0, 0, 0, 0, 0, 1, 1, 1, 0, 1, 0, 1, 1, 1, 1, 0, 1, 0, 1, 0, 1, 0,\n",
       "       1, 1, 0, 0, 1, 0, 0, 0, 0, 0, 1, 1, 1, 1, 1, 1, 0, 1, 0, 0, 0, 1,\n",
       "       0, 0, 0, 1, 1, 0, 1, 0, 0, 0, 1, 1, 1, 0, 1, 0, 0, 1, 1, 0, 0, 1,\n",
       "       0, 1, 1, 0, 1, 1, 1, 0, 1, 0, 1, 0, 0, 0, 1, 1, 0, 0, 1, 0, 0, 1,\n",
       "       0, 0, 0, 0, 1, 0, 1, 1, 0, 1, 1, 0, 1, 1, 1, 1, 1, 1, 0, 0, 1, 0,\n",
       "       0, 1, 0, 0, 0, 1, 0, 1, 1, 1])"
      ]
     },
     "execution_count": 5,
     "metadata": {},
     "output_type": "execute_result"
    }
   ],
   "source": [
    "y"
   ]
  },
  {
   "cell_type": "code",
   "execution_count": 6,
   "id": "1ec9f32c-9d62-4f3e-830d-f4e7d5addfef",
   "metadata": {},
   "outputs": [
    {
     "data": {
      "text/plain": [
       "<AxesSubplot: xlabel='0', ylabel='1'>"
      ]
     },
     "execution_count": 6,
     "metadata": {},
     "output_type": "execute_result"
    },
    {
     "data": {
      "image/png": "[encoded data removed]",
      "text/plain": [
       "<Figure size 640x480 with 1 Axes>"
      ]
     },
     "metadata": {},
     "output_type": "display_data"
    }
   ],
   "source": [
    "sns.scatterplot(x = pd.DataFrame(x)[0], y = pd.DataFrame(x)[1], hue = y)"
   ]
  },
  {
   "cell_type": "markdown",
   "id": "3e2a5e5a-f182-4867-90a5-cd884f8f7a1d",
   "metadata": {},
   "source": [
    "### Step-03: Import train_test_split from sklearn.model_selection"
   ]
  },
  {
   "cell_type": "code",
   "execution_count": 7,
   "id": "0613f95a-5190-4e77-bf19-9875031efd67",
   "metadata": {},
   "outputs": [],
   "source": [
    "from sklearn.model_selection import train_test_split"
   ]
  },
  {
   "cell_type": "code",
   "execution_count": 8,
   "id": "82165cfa-4962-4bae-be6a-bd5693312dba",
   "metadata": {},
   "outputs": [],
   "source": [
    "x_train, x_test, y_train, y_test = train_test_split(x, y, test_size = 0.25)"
   ]
  },
  {
   "cell_type": "code",
   "execution_count": 9,
   "id": "02727ae2-9baf-450b-b3f6-55e53467885e",
   "metadata": {},
   "outputs": [
    {
     "name": "stdout",
     "output_type": "stream",
     "text": [
      "x_train: \n",
      "\n",
      " [[ 1.28405832  1.10265562]\n",
      " [-0.85521827 -1.66406629]\n",
      " [-0.2344497   1.12212142]\n",
      " ...\n",
      " [ 1.1305673  -1.93074614]\n",
      " [-0.14858666  0.2761928 ]\n",
      " [ 0.60981838 -2.62637458]] \n",
      "\n",
      "x_train.shape: (750, 2)\n"
     ]
    }
   ],
   "source": [
    "print(\"x_train: \\n\\n {} \\n\" . format(x_train))\n",
    "print(\"x_train.shape: {}\" .format(x_train.shape))"
   ]
  },
  {
   "cell_type": "code",
   "execution_count": 10,
   "id": "2aa18c0a-e16b-427e-8108-2708e172470e",
   "metadata": {},
   "outputs": [
    {
     "name": "stdout",
     "output_type": "stream",
     "text": [
      "x_test: \n",
      "\n",
      " [[-1.66750889e+00 -4.45530511e-01]\n",
      " [-3.58189891e-01  4.15213940e-01]\n",
      " [-8.12200284e-01  9.61087417e-01]\n",
      " [ 1.03120510e+00 -2.34035353e+00]\n",
      " [ 1.20622188e+00  1.38374679e+00]\n",
      " [-2.22011570e+00  2.89787923e+00]\n",
      " [-2.63481383e+00  6.65846049e-01]\n",
      " [ 9.41376502e-01  1.18417223e+00]\n",
      " [-1.96623362e+00  1.47725973e+00]\n",
      " [ 9.80580492e-01  9.88071933e-01]\n",
      " [ 6.08284979e-01  7.79579317e-01]\n",
      " [-5.73556676e-01  5.69882707e-01]\n",
      " [ 4.66414432e-02  1.13097866e+00]\n",
      " [ 6.87420752e-01  1.05124408e+00]\n",
      " [-5.99966385e-01  7.92594492e-01]\n",
      " [-6.58912265e-01  6.75918949e-01]\n",
      " [-3.24142779e-01 -1.81918483e+00]\n",
      " [-8.89624787e-01  2.04808333e+00]\n",
      " [ 5.74507253e-01  7.33994107e-01]\n",
      " [ 8.78068582e-01  1.17697321e+00]\n",
      " [-1.18744026e+00  1.33479403e+00]\n",
      " [ 1.34879980e+00  1.52582382e+00]\n",
      " [ 6.07131571e-01  8.81657909e-01]\n",
      " [ 9.38828070e-01 -8.03351241e-01]\n",
      " [ 4.31444377e-01  7.35859092e-01]\n",
      " [ 1.19134022e+00  7.05594327e-01]\n",
      " [-8.22181896e-01 -6.41884479e-01]\n",
      " [ 5.31308711e-01 -2.54301680e+00]\n",
      " [ 1.06831487e+00 -8.96707734e-01]\n",
      " [ 2.89381836e-01 -7.73456252e-02]\n",
      " [ 1.28052915e+00 -1.08571090e+00]\n",
      " [-1.58213913e+00  2.23455974e+00]\n",
      " [-6.59553396e-01 -9.89475239e-01]\n",
      " [-3.23715237e+00  7.44279936e-01]\n",
      " [-9.27648511e-02 -3.50525958e-01]\n",
      " [-1.09023338e+00  8.07680026e-01]\n",
      " [ 1.42331337e+00  2.28404488e+00]\n",
      " [ 3.03593138e-01 -1.10151868e+00]\n",
      " [-5.06536012e-01 -1.56659429e+00]\n",
      " [ 4.60672601e-01 -2.17028235e-01]\n",
      " [-6.36616351e-01  4.88701642e-01]\n",
      " [-1.57107860e+00 -5.18266781e-01]\n",
      " [-1.68007732e+00 -5.81266918e-01]\n",
      " [-2.98217439e-01 -1.53061054e+00]\n",
      " [-5.35913740e-01 -1.60643340e+00]\n",
      " [ 2.16897697e-01  8.50050564e-01]\n",
      " [-5.60096622e-01  1.72791849e+00]\n",
      " [ 6.36737245e-01  1.38146426e+00]\n",
      " [-5.61234947e-01 -1.99799127e+00]\n",
      " [ 1.20587011e+00  4.26926564e-01]\n",
      " [ 8.77827686e-01 -2.77543130e+00]\n",
      " [ 2.29922167e+00  8.98918040e-01]\n",
      " [-1.80206397e+00  1.03421908e-01]\n",
      " [-1.26339179e+00 -7.39049679e-01]\n",
      " [-8.85386942e-01 -1.40640448e+00]\n",
      " [-4.15696030e-01  1.67645080e+00]\n",
      " [ 4.84624285e-01  6.61552949e-01]\n",
      " [ 1.57520861e+00  1.74945658e+00]\n",
      " [ 1.83520941e-01  2.05112080e-01]\n",
      " [ 5.95303599e-02 -1.20963181e+00]\n",
      " [ 8.74988876e-01  1.52187678e+00]\n",
      " [-1.69123545e+00  2.36653366e+00]\n",
      " [ 1.52453995e+00 -3.22114655e+00]\n",
      " [ 1.32996999e+00 -2.62722314e+00]\n",
      " [ 1.54830229e+00  1.00639657e+00]\n",
      " [ 8.35853737e-01 -7.06789463e-01]\n",
      " [ 1.44328453e+00 -9.74950160e-01]\n",
      " [ 1.75644432e+00  7.33458939e-01]\n",
      " [-2.80648477e-01 -1.13602212e-01]\n",
      " [-5.57772574e-01 -1.02023492e+00]\n",
      " [-2.66506580e+00  3.10800838e-01]\n",
      " [ 1.24141586e+00 -3.00047930e+00]\n",
      " [-4.20823147e-01 -1.96246776e+00]\n",
      " [ 1.27100089e+00 -8.11664002e-01]\n",
      " [-5.41890670e-01  1.99649506e+00]\n",
      " [-9.20441725e-01  1.34221809e+00]\n",
      " [-3.84138135e-01  1.38225295e+00]\n",
      " [ 1.10637622e+00 -2.86987593e+00]\n",
      " [-1.10356269e+00  1.01231849e+00]\n",
      " [ 1.37030427e+00 -2.49774544e+00]\n",
      " [-1.63715860e-01  8.25221389e-01]\n",
      " [ 9.40106343e-01  1.49128468e+00]\n",
      " [-7.56078444e-01 -1.25102311e+00]\n",
      " [-1.54262363e+00  2.14833740e+00]\n",
      " [-5.97611192e-01  5.33044168e-01]\n",
      " [ 2.48509204e+00 -2.91235398e+00]\n",
      " [-2.34928914e+00  1.58164485e+00]\n",
      " [-3.38943370e-02  5.95836817e-01]\n",
      " [ 2.13928876e+00 -1.99590801e+00]\n",
      " [ 1.09466143e+00 -1.70273750e+00]\n",
      " [ 1.31286208e+00 -9.93095252e-01]\n",
      " [ 8.70032241e-01  7.99705177e-01]\n",
      " [ 8.52580137e-01  4.99710836e-01]\n",
      " [ 2.33669335e+00  1.91396093e+00]\n",
      " [ 2.27141599e+00  8.70040723e-02]\n",
      " [-6.73887813e-02 -2.16016529e+00]\n",
      " [ 8.12224674e-01  1.15443972e+00]\n",
      " [-3.16650042e-01 -1.52234461e+00]\n",
      " [-5.97711097e-01  1.33389908e+00]\n",
      " [-6.60717260e-01 -1.99710998e-01]\n",
      " [-3.25566830e-01  1.52475026e+00]\n",
      " [-1.94898277e-01  1.11627054e+00]\n",
      " [-6.43381768e-01  1.26923008e+00]\n",
      " [ 1.02685445e+00 -1.43680035e+00]\n",
      " [ 8.23657227e-01 -1.28957325e+00]\n",
      " [-3.53416730e+00  8.14549626e-01]\n",
      " [ 9.92207251e-01  9.56167276e-01]\n",
      " [ 1.28885982e+00 -5.30792319e-01]\n",
      " [ 7.06504038e-01 -9.47198742e-01]\n",
      " [ 1.97976157e-01 -2.02928097e+00]\n",
      " [ 1.35685866e+00  1.24513491e+00]\n",
      " [ 2.21146854e-01 -1.86008761e+00]\n",
      " [-2.42332756e+00  3.47240840e-01]\n",
      " [ 5.02582009e-02  3.74845252e-01]\n",
      " [ 3.07811431e-01 -6.83558459e-01]\n",
      " [ 1.65935143e+00  2.31077967e+00]\n",
      " [ 1.73409052e+00 -4.10004015e-01]\n",
      " [-8.61203300e-01 -1.36896985e+00]\n",
      " [-1.17464208e+00 -8.42755431e-01]\n",
      " [ 3.02542475e-01  1.21459207e+00]\n",
      " [-1.83885577e+00 -8.46003024e-01]\n",
      " [ 2.60087799e+00 -2.43050880e+00]\n",
      " [ 8.13996370e-01 -2.58797291e+00]\n",
      " [-1.31333890e+00  6.28358968e-01]\n",
      " [-1.11183758e+00 -2.07716050e-03]\n",
      " [-3.76792934e+00  1.64106374e+00]\n",
      " [ 1.56240125e+00 -1.95479313e+00]\n",
      " [-6.35814145e-01 -1.52890833e+00]\n",
      " [-7.87235325e-02  8.57492075e-01]\n",
      " [-1.40515405e+00  1.32273744e+00]\n",
      " [-1.12623914e+00  1.47836766e+00]\n",
      " [-2.17610375e+00  8.43612289e-01]\n",
      " [ 1.24950186e+00  9.82097287e-01]\n",
      " [-1.13698726e+00  1.22071883e+00]\n",
      " [-1.45639154e+00 -5.64840021e-01]\n",
      " [-1.64245273e+00  8.21321651e-01]\n",
      " [ 1.43168050e+00  8.73071755e-01]\n",
      " [-1.25014310e+00  1.37558588e+00]\n",
      " [ 1.84121927e+00  2.27218156e+00]\n",
      " [ 7.73517498e-01 -1.39911647e+00]\n",
      " [ 1.58516259e-01 -9.83447978e-02]\n",
      " [-2.61604219e+00  3.32504376e-01]\n",
      " [-1.17018440e+00  1.40063703e+00]\n",
      " [-1.08231694e-01  1.31456993e+00]\n",
      " [-4.26162609e-01  1.47097469e+00]\n",
      " [ 1.49481166e+00 -2.71265801e+00]\n",
      " [ 1.49213768e+00 -1.78751324e+00]\n",
      " [-9.98760712e-01 -6.30182172e-01]\n",
      " [ 1.08751553e+00 -1.49192271e+00]\n",
      " [ 2.76390742e-01 -2.15683136e+00]\n",
      " [-2.25957401e+00  4.29470396e-01]\n",
      " [ 2.18893634e+00 -3.17685096e+00]\n",
      " [-1.19452694e+00 -9.53910639e-01]\n",
      " [ 1.44597144e+00  1.63352485e+00]\n",
      " [ 2.46769913e-01  8.69687130e-01]\n",
      " [-1.13445368e+00  2.12243645e+00]\n",
      " [-1.20763060e+00 -7.54622040e-01]\n",
      " [ 6.23469371e-01  3.69554472e-01]\n",
      " [ 1.27931930e+00  8.01620481e-01]\n",
      " [-1.43310584e+00 -8.56230549e-01]\n",
      " [-1.00655994e+00  1.80087990e+00]\n",
      " [-1.64542629e+00 -1.71578079e-01]\n",
      " [ 1.26569997e+00 -6.36860038e-01]\n",
      " [ 1.35598482e+00 -1.61831132e+00]\n",
      " [ 9.51185477e-01 -1.21808329e+00]\n",
      " [-2.52031326e+00  3.61816469e-01]\n",
      " [ 1.26880065e-01  6.77768425e-01]\n",
      " [ 6.88245889e-01  5.82163673e-01]\n",
      " [-1.25773027e+00  1.05889394e+00]\n",
      " [-4.05274065e-01 -1.43244075e+00]\n",
      " [ 1.62472380e-01 -2.29741463e+00]\n",
      " [ 1.69563262e+00  9.76756309e-01]\n",
      " [ 1.09630327e+00  1.44131094e+00]\n",
      " [ 1.85737373e+00 -2.32612397e+00]\n",
      " [ 2.06524101e+00  1.03730886e+00]\n",
      " [-1.27339458e+00  1.49566595e+00]\n",
      " [ 2.38789723e+00 -2.47930015e+00]\n",
      " [-1.20920630e+00  6.69439571e-01]\n",
      " [-5.09583742e-01  2.26342860e+00]\n",
      " [-3.57880460e-01 -1.29553512e+00]\n",
      " [ 1.33613967e+00 -1.06550853e+00]\n",
      " [ 9.86390703e-01  1.77324691e+00]\n",
      " [-2.41713750e+00 -2.35092478e-01]\n",
      " [-4.74406851e-01 -7.61121073e-01]\n",
      " [ 3.87914371e-01 -9.61408063e-01]\n",
      " [ 1.32072476e-01  1.51164998e+00]\n",
      " [ 1.55147295e+00  1.10401239e+00]\n",
      " [ 9.65814814e-01  1.21333522e+00]\n",
      " [ 1.30417710e+00  3.75892342e-01]\n",
      " [-2.24521156e+00 -2.73632213e-01]\n",
      " [-9.14855037e-02 -1.65369354e+00]\n",
      " [-1.99950894e+00  1.55784914e+00]\n",
      " [ 2.64457441e+00 -2.28391289e+00]\n",
      " [-1.06797092e+00  1.98035339e-01]\n",
      " [-3.71017804e+00  1.36148831e+00]\n",
      " [-2.18405458e+00  2.54091653e-01]\n",
      " [ 6.49612051e-01  7.30070132e-01]\n",
      " [-2.43861752e+00 -1.00617089e-01]\n",
      " [ 8.83764068e-01  7.91589070e-03]\n",
      " [ 9.73737551e-01 -7.51310955e-01]\n",
      " [ 1.23317154e+00  6.79964275e-01]\n",
      " [-2.78207483e-01  1.60388066e+00]\n",
      " [-2.37295449e+00  9.93537781e-01]\n",
      " [ 6.44594099e-01 -6.85466834e-01]\n",
      " [ 9.93711661e-01  1.76415709e+00]\n",
      " [-1.29044944e+00 -9.79427181e-01]\n",
      " [-6.81801079e-01  1.12235604e+00]\n",
      " [-2.56980362e+00  4.50066197e-01]\n",
      " [-1.20793181e+00  8.33647949e-01]\n",
      " [-1.28534757e-01 -1.03725453e-01]\n",
      " [ 7.44824539e-01  1.09969040e+00]\n",
      " [-6.58417337e-01 -8.68983405e-01]\n",
      " [ 1.51690285e-01  1.08324602e+00]\n",
      " [ 7.75175387e-02  3.86640324e-01]\n",
      " [-1.61210195e-01  7.92803850e-01]\n",
      " [-6.20596095e-01  5.64653741e-01]\n",
      " [ 1.20571030e+00  1.17670981e+00]\n",
      " [ 4.34786298e-01  1.11388374e+00]\n",
      " [ 5.94303231e-01  7.72818730e-01]\n",
      " [ 3.20405518e-01  1.13366600e+00]\n",
      " [ 4.64671233e-01  7.13196319e-01]\n",
      " [-1.24035966e+00 -1.23671807e+00]\n",
      " [ 6.10075249e-01 -2.54693278e+00]\n",
      " [-1.95502618e+00  2.80718556e+00]\n",
      " [-1.52664744e+00  2.19639881e+00]\n",
      " [ 1.38708449e+00  5.87459447e-01]\n",
      " [-6.06257732e-01 -1.10690036e+00]\n",
      " [ 1.15130558e+00 -2.06230494e+00]\n",
      " [ 2.07622181e+00  8.26083468e-01]\n",
      " [ 1.66654759e+00  5.92821720e-01]\n",
      " [-8.32235235e-01  1.47330966e+00]\n",
      " [ 1.50936383e+00 -1.39066085e+00]\n",
      " [ 8.90056666e-02  7.56668394e-01]\n",
      " [ 1.39016068e+00  6.86871449e-01]\n",
      " [-8.96392728e-01 -9.10162703e-01]\n",
      " [ 2.37120470e+00 -2.78524999e+00]\n",
      " [ 4.45932222e-01  7.34819969e-01]\n",
      " [ 8.09200152e-01  6.38818388e-02]\n",
      " [ 1.50239357e+00  9.60978385e-01]\n",
      " [ 1.23337291e+00 -9.34146850e-01]\n",
      " [ 1.52331032e-02 -2.35145919e+00]\n",
      " [-1.48144069e+00 -5.53282318e-02]\n",
      " [-3.15752078e-01 -1.58363327e+00]\n",
      " [-8.15554631e-01 -1.35762787e+00]\n",
      " [ 2.28089768e+00  2.45049653e+00]\n",
      " [ 1.20231777e+00  6.88786532e-01]\n",
      " [-2.12233754e-01  1.41118423e+00]\n",
      " [-7.63320442e-01  1.19552192e+00]\n",
      " [ 3.88445370e-01  1.31284750e+00]\n",
      " [-3.58466706e-01 -1.57427150e+00]] \n",
      "\n",
      "x_test.shape: (250, 2)\n"
     ]
    }
   ],
   "source": [
    "print(\"x_test: \\n\\n {} \\n\" .format(x_test))\n",
    "print(\"x_test.shape: {}\" .format(x_test.shape))"
   ]
  },
  {
   "cell_type": "code",
   "execution_count": 11,
   "id": "6e8aa3f9-ca63-46ef-947e-fb379c0affa7",
   "metadata": {},
   "outputs": [
    {
     "name": "stdout",
     "output_type": "stream",
     "text": [
      "y_train: \n",
      "\n",
      " [1 0 0 1 1 0 0 1 0 1 1 1 0 1 0 0 1 0 1 1 1 1 0 1 0 1 0 1 0 1 0 0 1 0 1 1 1\n",
      " 0 1 0 1 0 1 0 1 0 0 1 1 0 1 1 0 0 1 0 1 1 0 1 1 1 1 1 0 1 1 1 1 1 1 1 1 0\n",
      " 1 1 1 0 1 1 1 1 0 0 1 1 1 1 0 1 1 0 1 1 1 1 1 0 0 0 1 1 1 1 1 0 0 0 0 1 1\n",
      " 1 1 0 1 1 0 1 0 0 1 0 1 0 1 0 1 0 1 0 1 0 1 0 1 1 1 0 1 1 0 0 1 0 1 1 1 1\n",
      " 0 0 1 1 0 1 0 1 1 0 1 0 0 0 0 1 1 0 1 1 1 1 1 1 0 0 0 1 0 0 1 1 1 0 1 0 0\n",
      " 1 0 0 1 0 0 1 0 1 1 0 0 0 0 1 0 0 1 1 0 1 1 0 0 1 0 0 1 1 0 1 1 0 1 1 0 0\n",
      " 0 0 0 1 0 1 1 0 1 0 1 0 1 0 1 1 1 1 1 0 1 1 1 1 0 1 0 1 0 0 0 1 1 0 1 1 0\n",
      " 1 0 1 0 1 1 0 1 1 1 0 0 0 1 0 0 1 0 0 0 0 1 1 0 1 0 1 0 0 1 1 0 1 0 0 1 0\n",
      " 1 0 0 0 1 1 0 0 1 0 1 1 0 0 0 0 0 1 0 1 1 1 0 0 0 0 0 1 1 1 1 0 0 0 1 0 0\n",
      " 0 0 1 0 1 0 1 0 0 0 0 0 0 0 1 1 0 1 0 1 1 0 1 0 1 1 1 0 0 1 0 1 1 0 0 1 0\n",
      " 1 0 0 0 1 1 1 1 0 0 0 1 0 1 0 0 1 1 0 1 1 1 0 1 1 0 0 0 1 0 0 0 0 0 0 0 0\n",
      " 1 0 0 1 0 0 1 1 0 1 1 1 0 0 1 0 0 1 0 1 0 1 0 0 1 0 1 0 1 1 1 1 0 1 0 1 1\n",
      " 0 1 1 1 1 0 1 1 0 1 0 1 1 1 0 0 1 0 0 1 1 1 0 0 0 1 1 1 1 1 0 1 1 1 0 0 1\n",
      " 1 0 1 1 0 1 0 1 0 0 0 1 1 1 0 1 1 1 1 1 1 1 0 1 1 1 0 0 1 1 0 1 0 1 1 0 1\n",
      " 0 1 1 1 0 1 1 0 0 0 0 1 0 0 0 0 1 1 0 0 1 1 0 0 1 0 0 0 1 1 1 1 0 0 1 0 1\n",
      " 0 1 0 1 0 0 0 1 1 1 0 0 1 1 1 0 0 1 1 0 0 1 0 0 1 1 0 0 0 0 1 0 0 0 1 1 0\n",
      " 1 1 1 1 0 0 0 0 0 1 0 0 1 0 1 0 0 1 0 1 1 1 1 0 0 0 0 1 1 0 0 0 0 0 0 1 0\n",
      " 1 1 0 0 1 1 1 0 0 0 1 1 0 1 0 1 0 0 1 1 1 1 1 0 1 0 0 0 0 0 0 0 0 1 0 0 0\n",
      " 0 0 1 0 1 0 1 1 1 1 1 1 1 0 1 0 0 1 1 0 0 1 1 0 1 0 1 0 1 0 0 1 1 1 0 0 1\n",
      " 0 0 0 1 0 0 0 1 1 1 1 0 0 0 1 0 1 0 0 0 1 1 0 0 1 1 0 0 0 1 1 0 0 0 1 0 1\n",
      " 1 0 0 0 1 0 0 1 1 0] \n",
      "\n",
      "y_train.shape: (750,)\n"
     ]
    }
   ],
   "source": [
    "print(\"y_train: \\n\\n {} \\n\" .format(y_train))\n",
    "print(\"y_train.shape: {}\" .format(y_train.shape))"
   ]
  },
  {
   "cell_type": "code",
   "execution_count": 12,
   "id": "9c44e9aa-5316-48ee-bb38-cf40bcb01130",
   "metadata": {},
   "outputs": [
    {
     "name": "stdout",
     "output_type": "stream",
     "text": [
      "y_test: \n",
      "\n",
      " [0 0 0 0 1 0 0 1 0 1 1 0 0 1 0 0 0 0 1 1 1 1 1 1 1 1 0 0 1 1 1 0 0 0 0 0 1\n",
      " 1 0 1 0 0 0 0 0 1 0 1 0 1 0 1 0 0 0 0 1 1 0 0 1 0 0 1 1 1 1 1 0 0 0 0 0 1\n",
      " 0 0 0 0 0 1 1 1 0 0 0 1 0 1 1 1 1 1 1 1 1 0 1 0 0 0 0 1 0 1 1 0 1 1 0 0 1\n",
      " 0 0 0 1 1 1 0 0 1 0 1 0 0 0 0 1 0 1 0 0 0 1 0 0 0 1 0 1 1 1 0 0 1 0 1 1 0\n",
      " 1 0 0 1 0 1 0 0 0 1 1 0 0 0 1 1 1 0 1 1 0 0 0 1 1 1 1 0 1 0 0 0 1 1 0 0 1\n",
      " 0 1 1 1 0 0 0 1 1 0 0 1 0 1 1 1 0 0 1 1 0 0 0 0 1 1 0 1 1 1 1 1 1 1 1 1 0\n",
      " 0 0 0 1 0 1 1 1 0 1 1 1 0 1 0 1 1 1 0 0 0 0 1 1 1 0 1 0] \n",
      "\n",
      "y_test.shape: (250,)\n"
     ]
    }
   ],
   "source": [
    "print(\"y_test: \\n\\n {} \\n\" .format(y_test))\n",
    "print(\"y_test.shape: {}\" .format(y_test.shape))"
   ]
  },
  {
   "cell_type": "markdown",
   "id": "b80b579e-dfcd-4041-b23f-fe240c51dde9",
   "metadata": {},
   "source": [
    "### Step-04: Import SVC from sklearn.svm"
   ]
  },
  {
   "cell_type": "code",
   "execution_count": 13,
   "id": "5c4eb68f-5d05-4a5b-9a45-072cc7dbe5b0",
   "metadata": {},
   "outputs": [],
   "source": [
    "from sklearn.svm import SVC"
   ]
  },
  {
   "cell_type": "code",
   "execution_count": 14,
   "id": "014fd3d7-ffa7-450a-9287-be10e93cd481",
   "metadata": {},
   "outputs": [],
   "source": [
    "support_vector_classifier = SVC(kernel = \"linear\")"
   ]
  },
  {
   "cell_type": "code",
   "execution_count": 15,
   "id": "307981db-1619-4025-8ca8-9eadd354db7e",
   "metadata": {},
   "outputs": [
    {
     "data": {
      "text/html": [
       "<style>#sk-container-id-1 {color: black;background-color: white;}#sk-container-id-1 pre{padding: 0;}#sk-container-id-1 div.sk-toggleable {background-color: white;}#sk-container-id-1 label.sk-toggleable__label {cursor: pointer;display: block;width: 100%;margin-bottom: 0;padding: 0.3em;box-sizing: border-box;text-align: center;}#sk-container-id-1 label.sk-toggleable__label-arrow:before {content: \"▸\";float: left;margin-right: 0.25em;color: #696969;}#sk-container-id-1 label.sk-toggleable__label-arrow:hover:before {color: black;}#sk-container-id-1 div.sk-estimator:hover label.sk-toggleable__label-arrow:before {color: black;}#sk-container-id-1 div.sk-toggleable__content {max-height: 0;max-width: 0;overflow: hidden;text-align: left;background-color: #f0f8ff;}#sk-container-id-1 div.sk-toggleable__content pre {margin: 0.2em;color: black;border-radius: 0.25em;background-color: #f0f8ff;}#sk-container-id-1 input.sk-toggleable__control:checked~div.sk-toggleable__content {max-height: 200px;max-width: 100%;overflow: auto;}#sk-container-id-1 input.sk-toggleable__control:checked~label.sk-toggleable__label-arrow:before {content: \"▾\";}#sk-container-id-1 div.sk-estimator input.sk-toggleable__control:checked~label.sk-toggleable__label {background-color: #d4ebff;}#sk-container-id-1 div.sk-label input.sk-toggleable__control:checked~label.sk-toggleable__label {background-color: #d4ebff;}#sk-container-id-1 input.sk-hidden--visually {border: 0;clip: rect(1px 1px 1px 1px);clip: rect(1px, 1px, 1px, 1px);height: 1px;margin: -1px;overflow: hidden;padding: 0;position: absolute;width: 1px;}#sk-container-id-1 div.sk-estimator {font-family: monospace;background-color: #f0f8ff;border: 1px dotted black;border-radius: 0.25em;box-sizing: border-box;margin-bottom: 0.5em;}#sk-container-id-1 div.sk-estimator:hover {background-color: #d4ebff;}#sk-container-id-1 div.sk-parallel-item::after {content: \"\";width: 100%;border-bottom: 1px solid gray;flex-grow: 1;}#sk-container-id-1 div.sk-label:hover label.sk-toggleable__label {background-color: #d4ebff;}#sk-container-id-1 div.sk-serial::before {content: \"\";position: absolute;border-left: 1px solid gray;box-sizing: border-box;top: 0;bottom: 0;left: 50%;z-index: 0;}#sk-container-id-1 div.sk-serial {display: flex;flex-direction: column;align-items: center;background-color: white;padding-right: 0.2em;padding-left: 0.2em;position: relative;}#sk-container-id-1 div.sk-item {position: relative;z-index: 1;}#sk-container-id-1 div.sk-parallel {display: flex;align-items: stretch;justify-content: center;background-color: white;position: relative;}#sk-container-id-1 div.sk-item::before, #sk-container-id-1 div.sk-parallel-item::before {content: \"\";position: absolute;border-left: 1px solid gray;box-sizing: border-box;top: 0;bottom: 0;left: 50%;z-index: -1;}#sk-container-id-1 div.sk-parallel-item {display: flex;flex-direction: column;z-index: 1;position: relative;background-color: white;}#sk-container-id-1 div.sk-parallel-item:first-child::after {align-self: flex-end;width: 50%;}#sk-container-id-1 div.sk-parallel-item:last-child::after {align-self: flex-start;width: 50%;}#sk-container-id-1 div.sk-parallel-item:only-child::after {width: 0;}#sk-container-id-1 div.sk-dashed-wrapped {border: 1px dashed gray;margin: 0 0.4em 0.5em 0.4em;box-sizing: border-box;padding-bottom: 0.4em;background-color: white;}#sk-container-id-1 div.sk-label label {font-family: monospace;font-weight: bold;display: inline-block;line-height: 1.2em;}#sk-container-id-1 div.sk-label-container {text-align: center;}#sk-container-id-1 div.sk-container {/* jupyter's `normalize.less` sets `[hidden] { display: none; }` but bootstrap.min.css set `[hidden] { display: none !important; }` so we also need the `!important` here to be able to override the default hidden behavior on the sphinx rendered scikit-learn.org. See: https://github.com/scikit-learn/scikit-learn/issues/21755 */display: inline-block !important;position: relative;}#sk-container-id-1 div.sk-text-repr-fallback {display: none;}</style><div id=\"sk-container-id-1\" class=\"sk-top-container\"><div class=\"sk-text-repr-fallback\"><pre>SVC(kernel=&#x27;linear&#x27;)</pre><b>In a Jupyter environment, please rerun this cell to show the HTML representation or trust the notebook. <br />On GitHub, the HTML representation is unable to render, please try loading this page with nbviewer.org.</b></div><div class=\"sk-container\" hidden><div class=\"sk-item\"><div class=\"sk-estimator sk-toggleable\"><input class=\"sk-toggleable__control sk-hidden--visually\" id=\"sk-estimator-id-1\" type=\"checkbox\" checked><label for=\"sk-estimator-id-1\" class=\"sk-toggleable__label sk-toggleable__label-arrow\">SVC</label><div class=\"sk-toggleable__content\"><pre>SVC(kernel=&#x27;linear&#x27;)</pre></div></div></div></div></div>"
      ],
      "text/plain": [
       "SVC(kernel='linear')"
      ]
     },
     "execution_count": 15,
     "metadata": {},
     "output_type": "execute_result"
    }
   ],
   "source": [
    "support_vector_classifier.fit(x_train, y_train)"
   ]
  },
  {
   "cell_type": "code",
   "execution_count": 16,
   "id": "27633bad-a17e-4db8-b25e-fc9e0f5a91f5",
   "metadata": {},
   "outputs": [],
   "source": [
    "y_pred = support_vector_classifier.predict(x_test)"
   ]
  },
  {
   "cell_type": "code",
   "execution_count": 17,
   "id": "534c337c-fa79-4216-87fa-d5daff64c630",
   "metadata": {},
   "outputs": [
    {
     "data": {
      "text/plain": [
       "array([0, 0, 0, 1, 1, 0, 0, 1, 0, 1, 1, 0, 1, 1, 0, 0, 0, 0, 1, 1, 0, 1,\n",
       "       1, 1, 1, 1, 0, 0, 1, 1, 1, 0, 0, 0, 0, 0, 1, 0, 0, 1, 0, 0, 0, 0,\n",
       "       0, 1, 0, 1, 0, 1, 1, 1, 0, 0, 0, 1, 1, 1, 1, 0, 1, 0, 1, 1, 1, 1,\n",
       "       1, 1, 0, 0, 0, 1, 0, 1, 1, 0, 1, 1, 0, 1, 1, 1, 0, 0, 0, 1, 0, 1,\n",
       "       1, 1, 1, 1, 1, 1, 1, 0, 1, 0, 0, 0, 1, 1, 0, 1, 1, 0, 1, 1, 1, 0,\n",
       "       1, 0, 0, 1, 1, 1, 1, 0, 0, 1, 0, 1, 1, 0, 0, 0, 1, 0, 1, 0, 0, 0,\n",
       "       1, 0, 0, 0, 1, 0, 1, 1, 1, 0, 0, 1, 0, 1, 1, 0, 1, 0, 0, 1, 0, 1,\n",
       "       1, 0, 0, 1, 1, 0, 0, 0, 1, 1, 1, 0, 1, 1, 0, 0, 0, 1, 1, 1, 1, 0,\n",
       "       1, 0, 1, 0, 1, 1, 0, 0, 1, 1, 1, 1, 1, 0, 0, 0, 1, 0, 0, 0, 1, 0,\n",
       "       1, 1, 1, 1, 0, 1, 1, 0, 0, 0, 0, 0, 1, 0, 1, 1, 1, 0, 1, 1, 1, 1,\n",
       "       1, 0, 0, 0, 0, 1, 0, 1, 1, 1, 0, 1, 1, 1, 0, 1, 1, 1, 1, 1, 0, 0,\n",
       "       0, 0, 1, 1, 1, 0, 1, 0])"
      ]
     },
     "execution_count": 17,
     "metadata": {},
     "output_type": "execute_result"
    }
   ],
   "source": [
    "y_pred"
   ]
  },
  {
   "cell_type": "markdown",
   "id": "5e7a352f-0b5e-4351-bc6e-8fb340dd2d38",
   "metadata": {},
   "source": [
    "### Step-05: Import confusion_matrix, accuracy_score, classification_report from sklearn.metrics"
   ]
  },
  {
   "cell_type": "code",
   "execution_count": 18,
   "id": "72e95d94-d481-463c-bd22-da8b7f4a0cc9",
   "metadata": {},
   "outputs": [],
   "source": [
    "from sklearn.metrics import confusion_matrix, accuracy_score, classification_report"
   ]
  },
  {
   "cell_type": "code",
   "execution_count": 19,
   "id": "b41745f5-a5a7-44af-b7ac-f2bb9a6361c2",
   "metadata": {},
   "outputs": [
    {
     "name": "stdout",
     "output_type": "stream",
     "text": [
      "Confusion Matrix: \n",
      "\n",
      " [[110  19]\n",
      " [  5 116]] \n",
      "\n",
      "Accuarcy Score: 0.904 \n",
      "\n",
      "Classification Report: \n",
      "\n",
      "               precision    recall  f1-score   support\n",
      "\n",
      "           0       0.96      0.85      0.90       129\n",
      "           1       0.86      0.96      0.91       121\n",
      "\n",
      "    accuracy                           0.90       250\n",
      "   macro avg       0.91      0.91      0.90       250\n",
      "weighted avg       0.91      0.90      0.90       250\n",
      " \n",
      "\n"
     ]
    }
   ],
   "source": [
    "print(\"Confusion Matrix: \\n\\n {} \\n\" .format(confusion_matrix(y_test, y_pred)))\n",
    "print(\"Accuarcy Score: {} \\n\" .format(accuracy_score(y_test, y_pred)))\n",
    "print(\"Classification Report: \\n\\n {} \\n\" .format(classification_report(y_test, y_pred)))"
   ]
  },
  {
   "cell_type": "markdown",
   "id": "cf2f5096-2299-43c3-b443-3ab14d8960a4",
   "metadata": {},
   "source": [
    "### Step-06: Import GridSearchCV from sklearn.model_selection"
   ]
  },
  {
   "cell_type": "code",
   "execution_count": 20,
   "id": "fe1febf1-4008-465a-9568-f002c60174b3",
   "metadata": {},
   "outputs": [],
   "source": [
    "from sklearn.model_selection import GridSearchCV"
   ]
  },
  {
   "cell_type": "code",
   "execution_count": 21,
   "id": "02dd72e6-508c-4f00-a8d7-c4901d53d8f0",
   "metadata": {},
   "outputs": [],
   "source": [
    "parameters = {\n",
    "    \n",
    "    \"C\": [0.1, 1, 10, 100, 1000],\n",
    "    \"gamma\": [1, 0.1, 0.01, 0.001, 0.0001],\n",
    "    \"kernel\": [\"linear\"]\n",
    "}"
   ]
  },
  {
   "cell_type": "code",
   "execution_count": 22,
   "id": "e03213b9-9e20-48ff-a94b-25baab49384c",
   "metadata": {},
   "outputs": [],
   "source": [
    "grid_search_cv = GridSearchCV(support_vector_classifier, param_grid = parameters, cv = 5, verbose = 3)"
   ]
  },
  {
   "cell_type": "code",
   "execution_count": 23,
   "id": "9909f846-0eed-46e9-8060-dfb075ff2679",
   "metadata": {},
   "outputs": [
    {
     "name": "stdout",
     "output_type": "stream",
     "text": [
      "Fitting 5 folds for each of 25 candidates, totalling 125 fits\n",
      "[CV 1/5] END .....C=0.1, gamma=1, kernel=linear;, score=0.920 total time=   0.0s\n",
      "[CV 2/5] END .....C=0.1, gamma=1, kernel=linear;, score=0.900 total time=   0.0s\n",
      "[CV 3/5] END .....C=0.1, gamma=1, kernel=linear;, score=0.967 total time=   0.0s\n",
      "[CV 4/5] END .....C=0.1, gamma=1, kernel=linear;, score=0.920 total time=   0.0s\n",
      "[CV 5/5] END .....C=0.1, gamma=1, kernel=linear;, score=0.913 total time=   0.0s\n",
      "[CV 1/5] END ...C=0.1, gamma=0.1, kernel=linear;, score=0.920 total time=   0.0s\n",
      "[CV 2/5] END ...C=0.1, gamma=0.1, kernel=linear;, score=0.900 total time=   0.0s\n",
      "[CV 3/5] END ...C=0.1, gamma=0.1, kernel=linear;, score=0.967 total time=   0.0s\n",
      "[CV 4/5] END ...C=0.1, gamma=0.1, kernel=linear;, score=0.920 total time=   0.0s\n",
      "[CV 5/5] END ...C=0.1, gamma=0.1, kernel=linear;, score=0.913 total time=   0.0s\n",
      "[CV 1/5] END ..C=0.1, gamma=0.01, kernel=linear;, score=0.920 total time=   0.0s\n",
      "[CV 2/5] END ..C=0.1, gamma=0.01, kernel=linear;, score=0.900 total time=   0.0s\n",
      "[CV 3/5] END ..C=0.1, gamma=0.01, kernel=linear;, score=0.967 total time=   0.0s\n",
      "[CV 4/5] END ..C=0.1, gamma=0.01, kernel=linear;, score=0.920 total time=   0.0s\n",
      "[CV 5/5] END ..C=0.1, gamma=0.01, kernel=linear;, score=0.913 total time=   0.0s\n",
      "[CV 1/5] END .C=0.1, gamma=0.001, kernel=linear;, score=0.920 total time=   0.0s\n",
      "[CV 2/5] END .C=0.1, gamma=0.001, kernel=linear;, score=0.900 total time=   0.0s\n",
      "[CV 3/5] END .C=0.1, gamma=0.001, kernel=linear;, score=0.967 total time=   0.0s\n",
      "[CV 4/5] END .C=0.1, gamma=0.001, kernel=linear;, score=0.920 total time=   0.0s\n",
      "[CV 5/5] END .C=0.1, gamma=0.001, kernel=linear;, score=0.913 total time=   0.0s\n",
      "[CV 1/5] END C=0.1, gamma=0.0001, kernel=linear;, score=0.920 total time=   0.0s\n",
      "[CV 2/5] END C=0.1, gamma=0.0001, kernel=linear;, score=0.900 total time=   0.0s\n",
      "[CV 3/5] END C=0.1, gamma=0.0001, kernel=linear;, score=0.967 total time=   0.0s\n",
      "[CV 4/5] END C=0.1, gamma=0.0001, kernel=linear;, score=0.920 total time=   0.0s\n",
      "[CV 5/5] END C=0.1, gamma=0.0001, kernel=linear;, score=0.913 total time=   0.0s\n",
      "[CV 1/5] END .......C=1, gamma=1, kernel=linear;, score=0.920 total time=   0.0s\n",
      "[CV 2/5] END .......C=1, gamma=1, kernel=linear;, score=0.900 total time=   0.0s\n",
      "[CV 3/5] END .......C=1, gamma=1, kernel=linear;, score=0.960 total time=   0.0s\n",
      "[CV 4/5] END .......C=1, gamma=1, kernel=linear;, score=0.913 total time=   0.0s\n",
      "[CV 5/5] END .......C=1, gamma=1, kernel=linear;, score=0.920 total time=   0.0s\n",
      "[CV 1/5] END .....C=1, gamma=0.1, kernel=linear;, score=0.920 total time=   0.0s\n",
      "[CV 2/5] END .....C=1, gamma=0.1, kernel=linear;, score=0.900 total time=   0.0s\n",
      "[CV 3/5] END .....C=1, gamma=0.1, kernel=linear;, score=0.960 total time=   0.0s\n",
      "[CV 4/5] END .....C=1, gamma=0.1, kernel=linear;, score=0.913 total time=   0.0s\n",
      "[CV 5/5] END .....C=1, gamma=0.1, kernel=linear;, score=0.920 total time=   0.0s\n",
      "[CV 1/5] END ....C=1, gamma=0.01, kernel=linear;, score=0.920 total time=   0.0s\n",
      "[CV 2/5] END ....C=1, gamma=0.01, kernel=linear;, score=0.900 total time=   0.0s\n",
      "[CV 3/5] END ....C=1, gamma=0.01, kernel=linear;, score=0.960 total time=   0.0s\n",
      "[CV 4/5] END ....C=1, gamma=0.01, kernel=linear;, score=0.913 total time=   0.0s\n",
      "[CV 5/5] END ....C=1, gamma=0.01, kernel=linear;, score=0.920 total time=   0.0s\n",
      "[CV 1/5] END ...C=1, gamma=0.001, kernel=linear;, score=0.920 total time=   0.0s\n",
      "[CV 2/5] END ...C=1, gamma=0.001, kernel=linear;, score=0.900 total time=   0.0s\n",
      "[CV 3/5] END ...C=1, gamma=0.001, kernel=linear;, score=0.960 total time=   0.0s\n",
      "[CV 4/5] END ...C=1, gamma=0.001, kernel=linear;, score=0.913 total time=   0.0s\n",
      "[CV 5/5] END ...C=1, gamma=0.001, kernel=linear;, score=0.920 total time=   0.0s\n",
      "[CV 1/5] END ..C=1, gamma=0.0001, kernel=linear;, score=0.920 total time=   0.0s\n",
      "[CV 2/5] END ..C=1, gamma=0.0001, kernel=linear;, score=0.900 total time=   0.0s\n",
      "[CV 3/5] END ..C=1, gamma=0.0001, kernel=linear;, score=0.960 total time=   0.0s\n",
      "[CV 4/5] END ..C=1, gamma=0.0001, kernel=linear;, score=0.913 total time=   0.0s\n",
      "[CV 5/5] END ..C=1, gamma=0.0001, kernel=linear;, score=0.920 total time=   0.0s\n",
      "[CV 1/5] END ......C=10, gamma=1, kernel=linear;, score=0.920 total time=   0.0s\n",
      "[CV 2/5] END ......C=10, gamma=1, kernel=linear;, score=0.900 total time=   0.0s\n",
      "[CV 3/5] END ......C=10, gamma=1, kernel=linear;, score=0.960 total time=   0.0s\n",
      "[CV 4/5] END ......C=10, gamma=1, kernel=linear;, score=0.907 total time=   0.0s\n",
      "[CV 5/5] END ......C=10, gamma=1, kernel=linear;, score=0.920 total time=   0.0s\n",
      "[CV 1/5] END ....C=10, gamma=0.1, kernel=linear;, score=0.920 total time=   0.0s\n",
      "[CV 2/5] END ....C=10, gamma=0.1, kernel=linear;, score=0.900 total time=   0.0s\n",
      "[CV 3/5] END ....C=10, gamma=0.1, kernel=linear;, score=0.960 total time=   0.0s\n",
      "[CV 4/5] END ....C=10, gamma=0.1, kernel=linear;, score=0.907 total time=   0.0s\n",
      "[CV 5/5] END ....C=10, gamma=0.1, kernel=linear;, score=0.920 total time=   0.0s\n",
      "[CV 1/5] END ...C=10, gamma=0.01, kernel=linear;, score=0.920 total time=   0.0s\n",
      "[CV 2/5] END ...C=10, gamma=0.01, kernel=linear;, score=0.900 total time=   0.0s\n",
      "[CV 3/5] END ...C=10, gamma=0.01, kernel=linear;, score=0.960 total time=   0.0s\n",
      "[CV 4/5] END ...C=10, gamma=0.01, kernel=linear;, score=0.907 total time=   0.0s\n",
      "[CV 5/5] END ...C=10, gamma=0.01, kernel=linear;, score=0.920 total time=   0.0s\n",
      "[CV 1/5] END ..C=10, gamma=0.001, kernel=linear;, score=0.920 total time=   0.0s\n",
      "[CV 2/5] END ..C=10, gamma=0.001, kernel=linear;, score=0.900 total time=   0.0s\n",
      "[CV 3/5] END ..C=10, gamma=0.001, kernel=linear;, score=0.960 total time=   0.0s\n",
      "[CV 4/5] END ..C=10, gamma=0.001, kernel=linear;, score=0.907 total time=   0.0s\n",
      "[CV 5/5] END ..C=10, gamma=0.001, kernel=linear;, score=0.920 total time=   0.0s\n",
      "[CV 1/5] END .C=10, gamma=0.0001, kernel=linear;, score=0.920 total time=   0.0s\n",
      "[CV 2/5] END .C=10, gamma=0.0001, kernel=linear;, score=0.900 total time=   0.0s\n",
      "[CV 3/5] END .C=10, gamma=0.0001, kernel=linear;, score=0.960 total time=   0.0s\n",
      "[CV 4/5] END .C=10, gamma=0.0001, kernel=linear;, score=0.907 total time=   0.0s\n",
      "[CV 5/5] END .C=10, gamma=0.0001, kernel=linear;, score=0.920 total time=   0.0s\n",
      "[CV 1/5] END .....C=100, gamma=1, kernel=linear;, score=0.920 total time=   0.0s\n",
      "[CV 2/5] END .....C=100, gamma=1, kernel=linear;, score=0.900 total time=   0.0s\n",
      "[CV 3/5] END .....C=100, gamma=1, kernel=linear;, score=0.960 total time=   0.0s\n",
      "[CV 4/5] END .....C=100, gamma=1, kernel=linear;, score=0.907 total time=   0.0s\n",
      "[CV 5/5] END .....C=100, gamma=1, kernel=linear;, score=0.920 total time=   0.0s\n",
      "[CV 1/5] END ...C=100, gamma=0.1, kernel=linear;, score=0.920 total time=   0.0s\n",
      "[CV 2/5] END ...C=100, gamma=0.1, kernel=linear;, score=0.900 total time=   0.0s\n",
      "[CV 3/5] END ...C=100, gamma=0.1, kernel=linear;, score=0.960 total time=   0.0s\n",
      "[CV 4/5] END ...C=100, gamma=0.1, kernel=linear;, score=0.907 total time=   0.0s\n",
      "[CV 5/5] END ...C=100, gamma=0.1, kernel=linear;, score=0.920 total time=   0.0s\n",
      "[CV 1/5] END ..C=100, gamma=0.01, kernel=linear;, score=0.920 total time=   0.0s\n",
      "[CV 2/5] END ..C=100, gamma=0.01, kernel=linear;, score=0.900 total time=   0.0s\n",
      "[CV 3/5] END ..C=100, gamma=0.01, kernel=linear;, score=0.960 total time=   0.0s\n",
      "[CV 4/5] END ..C=100, gamma=0.01, kernel=linear;, score=0.907 total time=   0.0s\n",
      "[CV 5/5] END ..C=100, gamma=0.01, kernel=linear;, score=0.920 total time=   0.0s\n",
      "[CV 1/5] END .C=100, gamma=0.001, kernel=linear;, score=0.920 total time=   0.0s\n",
      "[CV 2/5] END .C=100, gamma=0.001, kernel=linear;, score=0.900 total time=   0.0s\n",
      "[CV 3/5] END .C=100, gamma=0.001, kernel=linear;, score=0.960 total time=   0.0s\n",
      "[CV 4/5] END .C=100, gamma=0.001, kernel=linear;, score=0.907 total time=   0.0s\n",
      "[CV 5/5] END .C=100, gamma=0.001, kernel=linear;, score=0.920 total time=   0.0s\n",
      "[CV 1/5] END C=100, gamma=0.0001, kernel=linear;, score=0.920 total time=   0.0s\n",
      "[CV 2/5] END C=100, gamma=0.0001, kernel=linear;, score=0.900 total time=   0.0s\n",
      "[CV 3/5] END C=100, gamma=0.0001, kernel=linear;, score=0.960 total time=   0.0s\n",
      "[CV 4/5] END C=100, gamma=0.0001, kernel=linear;, score=0.907 total time=   0.0s\n",
      "[CV 5/5] END C=100, gamma=0.0001, kernel=linear;, score=0.920 total time=   0.0s\n",
      "[CV 1/5] END ....C=1000, gamma=1, kernel=linear;, score=0.920 total time=   0.3s\n",
      "[CV 2/5] END ....C=1000, gamma=1, kernel=linear;, score=0.900 total time=   0.2s\n",
      "[CV 3/5] END ....C=1000, gamma=1, kernel=linear;, score=0.960 total time=   0.2s\n",
      "[CV 4/5] END ....C=1000, gamma=1, kernel=linear;, score=0.907 total time=   0.2s\n",
      "[CV 5/5] END ....C=1000, gamma=1, kernel=linear;, score=0.920 total time=   0.3s\n",
      "[CV 1/5] END ..C=1000, gamma=0.1, kernel=linear;, score=0.920 total time=   0.3s\n",
      "[CV 2/5] END ..C=1000, gamma=0.1, kernel=linear;, score=0.900 total time=   0.2s\n",
      "[CV 3/5] END ..C=1000, gamma=0.1, kernel=linear;, score=0.960 total time=   0.2s\n",
      "[CV 4/5] END ..C=1000, gamma=0.1, kernel=linear;, score=0.907 total time=   0.2s\n",
      "[CV 5/5] END ..C=1000, gamma=0.1, kernel=linear;, score=0.920 total time=   0.3s\n",
      "[CV 1/5] END .C=1000, gamma=0.01, kernel=linear;, score=0.920 total time=   0.3s\n",
      "[CV 2/5] END .C=1000, gamma=0.01, kernel=linear;, score=0.900 total time=   0.2s\n",
      "[CV 3/5] END .C=1000, gamma=0.01, kernel=linear;, score=0.960 total time=   0.2s\n",
      "[CV 4/5] END .C=1000, gamma=0.01, kernel=linear;, score=0.907 total time=   0.2s\n",
      "[CV 5/5] END .C=1000, gamma=0.01, kernel=linear;, score=0.920 total time=   0.3s\n",
      "[CV 1/5] END C=1000, gamma=0.001, kernel=linear;, score=0.920 total time=   0.3s\n",
      "[CV 2/5] END C=1000, gamma=0.001, kernel=linear;, score=0.900 total time=   0.2s\n",
      "[CV 3/5] END C=1000, gamma=0.001, kernel=linear;, score=0.960 total time=   0.2s\n",
      "[CV 4/5] END C=1000, gamma=0.001, kernel=linear;, score=0.907 total time=   0.2s\n",
      "[CV 5/5] END C=1000, gamma=0.001, kernel=linear;, score=0.920 total time=   0.3s\n",
      "[CV 1/5] END C=1000, gamma=0.0001, kernel=linear;, score=0.920 total time=   0.3s\n",
      "[CV 2/5] END C=1000, gamma=0.0001, kernel=linear;, score=0.900 total time=   0.2s\n",
      "[CV 3/5] END C=1000, gamma=0.0001, kernel=linear;, score=0.960 total time=   0.2s\n",
      "[CV 4/5] END C=1000, gamma=0.0001, kernel=linear;, score=0.907 total time=   0.2s\n",
      "[CV 5/5] END C=1000, gamma=0.0001, kernel=linear;, score=0.920 total time=   0.3s\n"
     ]
    },
    {
     "data": {
      "text/html": [
       "<style>#sk-container-id-2 {color: black;background-color: white;}#sk-container-id-2 pre{padding: 0;}#sk-container-id-2 div.sk-toggleable {background-color: white;}#sk-container-id-2 label.sk-toggleable__label {cursor: pointer;display: block;width: 100%;margin-bottom: 0;padding: 0.3em;box-sizing: border-box;text-align: center;}#sk-container-id-2 label.sk-toggleable__label-arrow:before {content: \"▸\";float: left;margin-right: 0.25em;color: #696969;}#sk-container-id-2 label.sk-toggleable__label-arrow:hover:before {color: black;}#sk-container-id-2 div.sk-estimator:hover label.sk-toggleable__label-arrow:before {color: black;}#sk-container-id-2 div.sk-toggleable__content {max-height: 0;max-width: 0;overflow: hidden;text-align: left;background-color: #f0f8ff;}#sk-container-id-2 div.sk-toggleable__content pre {margin: 0.2em;color: black;border-radius: 0.25em;background-color: #f0f8ff;}#sk-container-id-2 input.sk-toggleable__control:checked~div.sk-toggleable__content {max-height: 200px;max-width: 100%;overflow: auto;}#sk-container-id-2 input.sk-toggleable__control:checked~label.sk-toggleable__label-arrow:before {content: \"▾\";}#sk-container-id-2 div.sk-estimator input.sk-toggleable__control:checked~label.sk-toggleable__label {background-color: #d4ebff;}#sk-container-id-2 div.sk-label input.sk-toggleable__control:checked~label.sk-toggleable__label {background-color: #d4ebff;}#sk-container-id-2 input.sk-hidden--visually {border: 0;clip: rect(1px 1px 1px 1px);clip: rect(1px, 1px, 1px, 1px);height: 1px;margin: -1px;overflow: hidden;padding: 0;position: absolute;width: 1px;}#sk-container-id-2 div.sk-estimator {font-family: monospace;background-color: #f0f8ff;border: 1px dotted black;border-radius: 0.25em;box-sizing: border-box;margin-bottom: 0.5em;}#sk-container-id-2 div.sk-estimator:hover {background-color: #d4ebff;}#sk-container-id-2 div.sk-parallel-item::after {content: \"\";width: 100%;border-bottom: 1px solid gray;flex-grow: 1;}#sk-container-id-2 div.sk-label:hover label.sk-toggleable__label {background-color: #d4ebff;}#sk-container-id-2 div.sk-serial::before {content: \"\";position: absolute;border-left: 1px solid gray;box-sizing: border-box;top: 0;bottom: 0;left: 50%;z-index: 0;}#sk-container-id-2 div.sk-serial {display: flex;flex-direction: column;align-items: center;background-color: white;padding-right: 0.2em;padding-left: 0.2em;position: relative;}#sk-container-id-2 div.sk-item {position: relative;z-index: 1;}#sk-container-id-2 div.sk-parallel {display: flex;align-items: stretch;justify-content: center;background-color: white;position: relative;}#sk-container-id-2 div.sk-item::before, #sk-container-id-2 div.sk-parallel-item::before {content: \"\";position: absolute;border-left: 1px solid gray;box-sizing: border-box;top: 0;bottom: 0;left: 50%;z-index: -1;}#sk-container-id-2 div.sk-parallel-item {display: flex;flex-direction: column;z-index: 1;position: relative;background-color: white;}#sk-container-id-2 div.sk-parallel-item:first-child::after {align-self: flex-end;width: 50%;}#sk-container-id-2 div.sk-parallel-item:last-child::after {align-self: flex-start;width: 50%;}#sk-container-id-2 div.sk-parallel-item:only-child::after {width: 0;}#sk-container-id-2 div.sk-dashed-wrapped {border: 1px dashed gray;margin: 0 0.4em 0.5em 0.4em;box-sizing: border-box;padding-bottom: 0.4em;background-color: white;}#sk-container-id-2 div.sk-label label {font-family: monospace;font-weight: bold;display: inline-block;line-height: 1.2em;}#sk-container-id-2 div.sk-label-container {text-align: center;}#sk-container-id-2 div.sk-container {/* jupyter's `normalize.less` sets `[hidden] { display: none; }` but bootstrap.min.css set `[hidden] { display: none !important; }` so we also need the `!important` here to be able to override the default hidden behavior on the sphinx rendered scikit-learn.org. See: https://github.com/scikit-learn/scikit-learn/issues/21755 */display: inline-block !important;position: relative;}#sk-container-id-2 div.sk-text-repr-fallback {display: none;}</style><div id=\"sk-container-id-2\" class=\"sk-top-container\"><div class=\"sk-text-repr-fallback\"><pre>GridSearchCV(cv=5, estimator=SVC(kernel=&#x27;linear&#x27;),\n",
       "             param_grid={&#x27;C&#x27;: [0.1, 1, 10, 100, 1000],\n",
       "                         &#x27;gamma&#x27;: [1, 0.1, 0.01, 0.001, 0.0001],\n",
       "                         &#x27;kernel&#x27;: [&#x27;linear&#x27;]},\n",
       "             verbose=3)</pre><b>In a Jupyter environment, please rerun this cell to show the HTML representation or trust the notebook. <br />On GitHub, the HTML representation is unable to render, please try loading this page with nbviewer.org.</b></div><div class=\"sk-container\" hidden><div class=\"sk-item sk-dashed-wrapped\"><div class=\"sk-label-container\"><div class=\"sk-label sk-toggleable\"><input class=\"sk-toggleable__control sk-hidden--visually\" id=\"sk-estimator-id-2\" type=\"checkbox\" ><label for=\"sk-estimator-id-2\" class=\"sk-toggleable__label sk-toggleable__label-arrow\">GridSearchCV</label><div class=\"sk-toggleable__content\"><pre>GridSearchCV(cv=5, estimator=SVC(kernel=&#x27;linear&#x27;),\n",
       "             param_grid={&#x27;C&#x27;: [0.1, 1, 10, 100, 1000],\n",
       "                         &#x27;gamma&#x27;: [1, 0.1, 0.01, 0.001, 0.0001],\n",
       "                         &#x27;kernel&#x27;: [&#x27;linear&#x27;]},\n",
       "             verbose=3)</pre></div></div></div><div class=\"sk-parallel\"><div class=\"sk-parallel-item\"><div class=\"sk-item\"><div class=\"sk-label-container\"><div class=\"sk-label sk-toggleable\"><input class=\"sk-toggleable__control sk-hidden--visually\" id=\"sk-estimator-id-3\" type=\"checkbox\" ><label for=\"sk-estimator-id-3\" class=\"sk-toggleable__label sk-toggleable__label-arrow\">estimator: SVC</label><div class=\"sk-toggleable__content\"><pre>SVC(kernel=&#x27;linear&#x27;)</pre></div></div></div><div class=\"sk-serial\"><div class=\"sk-item\"><div class=\"sk-estimator sk-toggleable\"><input class=\"sk-toggleable__control sk-hidden--visually\" id=\"sk-estimator-id-4\" type=\"checkbox\" ><label for=\"sk-estimator-id-4\" class=\"sk-toggleable__label sk-toggleable__label-arrow\">SVC</label><div class=\"sk-toggleable__content\"><pre>SVC(kernel=&#x27;linear&#x27;)</pre></div></div></div></div></div></div></div></div></div></div>"
      ],
      "text/plain": [
       "GridSearchCV(cv=5, estimator=SVC(kernel='linear'),\n",
       "             param_grid={'C': [0.1, 1, 10, 100, 1000],\n",
       "                         'gamma': [1, 0.1, 0.01, 0.001, 0.0001],\n",
       "                         'kernel': ['linear']},\n",
       "             verbose=3)"
      ]
     },
     "execution_count": 23,
     "metadata": {},
     "output_type": "execute_result"
    }
   ],
   "source": [
    "grid_search_cv.fit(x_train, y_train)"
   ]
  },
  {
   "cell_type": "code",
   "execution_count": 24,
   "id": "15fc5441-dfb6-4e06-ac7f-6b602bfe3ee6",
   "metadata": {},
   "outputs": [
    {
     "data": {
      "text/plain": [
       "{'C': 0.1, 'gamma': 1, 'kernel': 'linear'}"
      ]
     },
     "execution_count": 24,
     "metadata": {},
     "output_type": "execute_result"
    }
   ],
   "source": [
    "grid_search_cv.best_params_"
   ]
  },
  {
   "cell_type": "code",
   "execution_count": 25,
   "id": "dbef5460-db6d-4e28-97f5-b4e98eb4513e",
   "metadata": {},
   "outputs": [],
   "source": [
    "y_pred = grid_search_cv.predict(x_test)"
   ]
  },
  {
   "cell_type": "code",
   "execution_count": 26,
   "id": "6f528b88-913d-46ee-bc00-4294eec6d225",
   "metadata": {},
   "outputs": [
    {
     "data": {
      "text/plain": [
       "array([0, 0, 0, 1, 1, 0, 0, 1, 0, 1, 1, 0, 1, 1, 0, 0, 0, 0, 1, 1, 0, 1,\n",
       "       1, 1, 1, 1, 0, 0, 1, 1, 1, 0, 0, 0, 0, 0, 1, 0, 0, 1, 0, 0, 0, 0,\n",
       "       0, 1, 0, 1, 0, 1, 1, 1, 0, 0, 0, 1, 1, 1, 1, 0, 1, 0, 1, 1, 1, 1,\n",
       "       1, 1, 0, 0, 0, 1, 0, 1, 1, 0, 1, 1, 0, 1, 1, 1, 0, 0, 0, 1, 0, 1,\n",
       "       1, 1, 1, 1, 1, 1, 1, 0, 1, 0, 0, 0, 1, 1, 0, 1, 1, 0, 1, 1, 1, 0,\n",
       "       1, 0, 0, 1, 1, 1, 1, 0, 0, 1, 0, 1, 1, 0, 0, 0, 1, 0, 1, 0, 0, 0,\n",
       "       1, 0, 0, 0, 1, 0, 1, 1, 1, 0, 0, 1, 0, 1, 1, 0, 1, 0, 0, 1, 0, 1,\n",
       "       1, 0, 0, 1, 1, 0, 0, 0, 1, 1, 1, 0, 1, 1, 0, 0, 0, 1, 1, 1, 1, 0,\n",
       "       1, 0, 1, 0, 1, 1, 0, 0, 1, 1, 1, 1, 1, 0, 0, 0, 1, 0, 0, 0, 1, 0,\n",
       "       1, 1, 1, 1, 0, 1, 1, 0, 0, 0, 0, 0, 1, 0, 1, 1, 1, 0, 1, 1, 1, 1,\n",
       "       1, 0, 0, 0, 0, 1, 0, 1, 1, 1, 0, 1, 1, 1, 0, 1, 1, 1, 1, 1, 0, 0,\n",
       "       0, 0, 1, 1, 1, 0, 1, 0])"
      ]
     },
     "execution_count": 26,
     "metadata": {},
     "output_type": "execute_result"
    }
   ],
   "source": [
    "y_pred"
   ]
  },
  {
   "cell_type": "code",
   "execution_count": 27,
   "id": "5d4d0359-1d08-4f57-b2aa-2f211406f760",
   "metadata": {},
   "outputs": [
    {
     "name": "stdout",
     "output_type": "stream",
     "text": [
      "Confusion Matrix: \n",
      "\n",
      " [[110  19]\n",
      " [  5 116]] \n",
      "\n",
      "Accuarcy Score: 0.904 \n",
      "\n",
      "Classification Report: \n",
      "\n",
      "               precision    recall  f1-score   support\n",
      "\n",
      "           0       0.96      0.85      0.90       129\n",
      "           1       0.86      0.96      0.91       121\n",
      "\n",
      "    accuracy                           0.90       250\n",
      "   macro avg       0.91      0.91      0.90       250\n",
      "weighted avg       0.91      0.90      0.90       250\n",
      " \n",
      "\n"
     ]
    }
   ],
   "source": [
    "print(\"Confusion Matrix: \\n\\n {} \\n\" .format(confusion_matrix(y_test, y_pred)))\n",
    "print(\"Accuarcy Score: {} \\n\" .format(accuracy_score(y_test, y_pred)))\n",
    "print(\"Classification Report: \\n\\n {} \\n\" .format(classification_report(y_test, y_pred)))"
   ]
  },
  {
   "cell_type": "code",
   "execution_count": null,
   "id": "94284069-06c0-47b6-9666-7f3b75fd9730",
   "metadata": {},
   "outputs": [],
   "source": []
  }
 ],
 "metadata": {
  "kernelspec": {
   "display_name": "Python 3 (ipykernel)",
   "language": "python",
   "name": "python3"
  },
  "language_info": {
   "codemirror_mode": {
    "name": "ipython",
    "version": 3
   },
   "file_extension": ".py",
   "mimetype": "text/x-python",
   "name": "python",
   "nbconvert_exporter": "python",
   "pygments_lexer": "ipython3",
   "version": "3.10.8"
  }
 },
 "nbformat": 4,
 "nbformat_minor": 5
}
