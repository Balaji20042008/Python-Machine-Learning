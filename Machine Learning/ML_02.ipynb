{
 "cells": [
  {
   "cell_type": "markdown",
   "id": "d83fc152-c609-4386-afd9-5d5cb10f2a53",
   "metadata": {
    "tags": []
   },
   "source": [
    "###  # Machine Learning - Handling Imbalanced Data\n",
    "\n",
    "There are two ways to handle the imbalanced categorical datasets: \n",
    "\n",
    "1. Up Sampling - In up sampling, we try to increase the data points of the minority variable.\n",
    "2. Down Sampling - In down sampling we try to decrease the data points of the majority variable."
   ]
  },
  {
   "cell_type": "code",
   "execution_count": 1,
   "id": "fa558036-2583-43fe-af7b-55f2379ad6e1",
   "metadata": {
    "tags": []
   },
   "outputs": [],
   "source": [
    "import pandas as pd\n",
    "import numpy as np"
   ]
  },
  {
   "cell_type": "code",
   "execution_count": 2,
   "id": "94b6c14f-c89e-451d-a561-a6b7f22c5302",
   "metadata": {
    "tags": []
   },
   "outputs": [],
   "source": [
    "n_sample = 1000\n",
    "n_class_0_ratio = 0.9\n",
    "n_class_0 = int(n_sample * n_class_0_ratio)\n",
    "n_class_1 = n_sample - n_class_0"
   ]
  },
  {
   "cell_type": "code",
   "execution_count": 3,
   "id": "e3668f05-18d7-4b9b-af5a-59342e5445df",
   "metadata": {
    "tags": []
   },
   "outputs": [
    {
     "name": "stdout",
     "output_type": "stream",
     "text": [
      "n_class_0: 900\n",
      "n_class_1: 100\n"
     ]
    }
   ],
   "source": [
    "print(\"n_class_0: \" + str(n_class_0))\n",
    "print(\"n_class_1: \" + str(n_class_1))"
   ]
  },
  {
   "cell_type": "code",
   "execution_count": 4,
   "id": "273f517c-3bef-4c37-8a00-76891526fff0",
   "metadata": {
    "tags": []
   },
   "outputs": [],
   "source": [
    "class_0 = pd.DataFrame({\n",
    "    \"feature_01\": np.random.normal(loc = 0.0, scale = 1.0, size = n_class_0),\n",
    "    \"feature_02\": np.random.normal(loc = 0.0, scale = 1.0, size = n_class_0),\n",
    "    \"target\": [0] * n_class_0\n",
    "})\n",
    "\n",
    "class_1 = pd.DataFrame({\n",
    "    \"feature_01\": np.random.normal(loc = 0.0, scale = 1.0, size = n_class_1),\n",
    "    \"feature_02\": np.random.normal(loc = 0.0, scale = 1.0, size = n_class_1),\n",
    "    \"target\": [1] * n_class_1\n",
    "})"
   ]
  },
  {
   "cell_type": "code",
   "execution_count": 5,
   "id": "37664201-9645-4399-9364-30b687bc7941",
   "metadata": {},
   "outputs": [],
   "source": [
    "df = pd.concat([class_0, class_1]).reset_index(drop = True)"
   ]
  },
  {
   "cell_type": "code",
   "execution_count": 6,
   "id": "a33f5042-67be-46ce-a618-0f9736526bba",
   "metadata": {},
   "outputs": [
    {
     "data": {
      "text/html": [
       "<div>\n",
       "<style scoped>\n",
       "    .dataframe tbody tr th:only-of-type {\n",
       "        vertical-align: middle;\n",
       "    }\n",
       "\n",
       "    .dataframe tbody tr th {\n",
       "        vertical-align: top;\n",
       "    }\n",
       "\n",
       "    .dataframe thead th {\n",
       "        text-align: right;\n",
       "    }\n",
       "</style>\n",
       "<table border=\"1\" class=\"dataframe\">\n",
       "  <thead>\n",
       "    <tr style=\"text-align: right;\">\n",
       "      <th></th>\n",
       "      <th>feature_01</th>\n",
       "      <th>feature_02</th>\n",
       "      <th>target</th>\n",
       "    </tr>\n",
       "  </thead>\n",
       "  <tbody>\n",
       "    <tr>\n",
       "      <th>0</th>\n",
       "      <td>0.154499</td>\n",
       "      <td>-1.030767</td>\n",
       "      <td>0</td>\n",
       "    </tr>\n",
       "    <tr>\n",
       "      <th>1</th>\n",
       "      <td>-0.541170</td>\n",
       "      <td>0.070549</td>\n",
       "      <td>0</td>\n",
       "    </tr>\n",
       "    <tr>\n",
       "      <th>2</th>\n",
       "      <td>0.496094</td>\n",
       "      <td>0.480522</td>\n",
       "      <td>0</td>\n",
       "    </tr>\n",
       "    <tr>\n",
       "      <th>3</th>\n",
       "      <td>0.809080</td>\n",
       "      <td>0.857764</td>\n",
       "      <td>0</td>\n",
       "    </tr>\n",
       "    <tr>\n",
       "      <th>4</th>\n",
       "      <td>-1.041021</td>\n",
       "      <td>0.331844</td>\n",
       "      <td>0</td>\n",
       "    </tr>\n",
       "  </tbody>\n",
       "</table>\n",
       "</div>"
      ],
      "text/plain": [
       "   feature_01  feature_02  target\n",
       "0    0.154499   -1.030767       0\n",
       "1   -0.541170    0.070549       0\n",
       "2    0.496094    0.480522       0\n",
       "3    0.809080    0.857764       0\n",
       "4   -1.041021    0.331844       0"
      ]
     },
     "execution_count": 6,
     "metadata": {},
     "output_type": "execute_result"
    }
   ],
   "source": [
    "df.head()"
   ]
  },
  {
   "cell_type": "code",
   "execution_count": 7,
   "id": "8858f099-7b9b-4d0b-abae-1b16a0cd0311",
   "metadata": {},
   "outputs": [
    {
     "data": {
      "text/html": [
       "<div>\n",
       "<style scoped>\n",
       "    .dataframe tbody tr th:only-of-type {\n",
       "        vertical-align: middle;\n",
       "    }\n",
       "\n",
       "    .dataframe tbody tr th {\n",
       "        vertical-align: top;\n",
       "    }\n",
       "\n",
       "    .dataframe thead th {\n",
       "        text-align: right;\n",
       "    }\n",
       "</style>\n",
       "<table border=\"1\" class=\"dataframe\">\n",
       "  <thead>\n",
       "    <tr style=\"text-align: right;\">\n",
       "      <th></th>\n",
       "      <th>feature_01</th>\n",
       "      <th>feature_02</th>\n",
       "      <th>target</th>\n",
       "    </tr>\n",
       "  </thead>\n",
       "  <tbody>\n",
       "    <tr>\n",
       "      <th>995</th>\n",
       "      <td>-1.421015</td>\n",
       "      <td>-0.228773</td>\n",
       "      <td>1</td>\n",
       "    </tr>\n",
       "    <tr>\n",
       "      <th>996</th>\n",
       "      <td>2.382683</td>\n",
       "      <td>-0.269191</td>\n",
       "      <td>1</td>\n",
       "    </tr>\n",
       "    <tr>\n",
       "      <th>997</th>\n",
       "      <td>1.796944</td>\n",
       "      <td>-0.880829</td>\n",
       "      <td>1</td>\n",
       "    </tr>\n",
       "    <tr>\n",
       "      <th>998</th>\n",
       "      <td>0.690412</td>\n",
       "      <td>-0.134229</td>\n",
       "      <td>1</td>\n",
       "    </tr>\n",
       "    <tr>\n",
       "      <th>999</th>\n",
       "      <td>-0.124257</td>\n",
       "      <td>-2.286632</td>\n",
       "      <td>1</td>\n",
       "    </tr>\n",
       "  </tbody>\n",
       "</table>\n",
       "</div>"
      ],
      "text/plain": [
       "     feature_01  feature_02  target\n",
       "995   -1.421015   -0.228773       1\n",
       "996    2.382683   -0.269191       1\n",
       "997    1.796944   -0.880829       1\n",
       "998    0.690412   -0.134229       1\n",
       "999   -0.124257   -2.286632       1"
      ]
     },
     "execution_count": 7,
     "metadata": {},
     "output_type": "execute_result"
    }
   ],
   "source": [
    "df.tail()"
   ]
  },
  {
   "cell_type": "code",
   "execution_count": 8,
   "id": "98ceb33f-338b-4751-a7f6-1463cb7f1e16",
   "metadata": {},
   "outputs": [
    {
     "data": {
      "text/plain": [
       "0    900\n",
       "1    100\n",
       "Name: target, dtype: int64"
      ]
     },
     "execution_count": 8,
     "metadata": {},
     "output_type": "execute_result"
    }
   ],
   "source": [
    "df[\"target\"].value_counts()"
   ]
  },
  {
   "cell_type": "markdown",
   "id": "e9ca3c08-5b45-43de-b75e-c999ef5a134f",
   "metadata": {},
   "source": [
    "### Sklearn Library\n",
    "\n",
    "To perform up sampling or down sampling, we need to import resample from the sklearn.utils library..."
   ]
  },
  {
   "cell_type": "code",
   "execution_count": 9,
   "id": "d0695154-0a23-45e8-b126-08fed4a3ae56",
   "metadata": {},
   "outputs": [],
   "source": [
    "from sklearn.utils import resample"
   ]
  },
  {
   "cell_type": "code",
   "execution_count": 10,
   "id": "163972fb-77ec-466a-93a8-02f1e8493d63",
   "metadata": {},
   "outputs": [],
   "source": [
    "df_minority = df[df[\"target\"] == 1].reset_index(drop = True)\n",
    "df_majority = df[df[\"target\"] == 0].reset_index(drop = True)"
   ]
  },
  {
   "cell_type": "code",
   "execution_count": 11,
   "id": "15e78423-2478-4607-bb81-69c6a8ab406a",
   "metadata": {},
   "outputs": [
    {
     "data": {
      "text/html": [
       "<div>\n",
       "<style scoped>\n",
       "    .dataframe tbody tr th:only-of-type {\n",
       "        vertical-align: middle;\n",
       "    }\n",
       "\n",
       "    .dataframe tbody tr th {\n",
       "        vertical-align: top;\n",
       "    }\n",
       "\n",
       "    .dataframe thead th {\n",
       "        text-align: right;\n",
       "    }\n",
       "</style>\n",
       "<table border=\"1\" class=\"dataframe\">\n",
       "  <thead>\n",
       "    <tr style=\"text-align: right;\">\n",
       "      <th></th>\n",
       "      <th>feature_01</th>\n",
       "      <th>feature_02</th>\n",
       "      <th>target</th>\n",
       "    </tr>\n",
       "  </thead>\n",
       "  <tbody>\n",
       "    <tr>\n",
       "      <th>0</th>\n",
       "      <td>-1.015608</td>\n",
       "      <td>0.777877</td>\n",
       "      <td>1</td>\n",
       "    </tr>\n",
       "    <tr>\n",
       "      <th>1</th>\n",
       "      <td>-1.333984</td>\n",
       "      <td>0.098652</td>\n",
       "      <td>1</td>\n",
       "    </tr>\n",
       "    <tr>\n",
       "      <th>2</th>\n",
       "      <td>-0.116476</td>\n",
       "      <td>0.118672</td>\n",
       "      <td>1</td>\n",
       "    </tr>\n",
       "    <tr>\n",
       "      <th>3</th>\n",
       "      <td>1.070049</td>\n",
       "      <td>-0.003885</td>\n",
       "      <td>1</td>\n",
       "    </tr>\n",
       "    <tr>\n",
       "      <th>4</th>\n",
       "      <td>0.769682</td>\n",
       "      <td>-0.038234</td>\n",
       "      <td>1</td>\n",
       "    </tr>\n",
       "  </tbody>\n",
       "</table>\n",
       "</div>"
      ],
      "text/plain": [
       "   feature_01  feature_02  target\n",
       "0   -1.015608    0.777877       1\n",
       "1   -1.333984    0.098652       1\n",
       "2   -0.116476    0.118672       1\n",
       "3    1.070049   -0.003885       1\n",
       "4    0.769682   -0.038234       1"
      ]
     },
     "execution_count": 11,
     "metadata": {},
     "output_type": "execute_result"
    }
   ],
   "source": [
    "df_minority.head()"
   ]
  },
  {
   "cell_type": "code",
   "execution_count": 12,
   "id": "ffcdd5d7-adff-4ffb-9464-90e8c360558e",
   "metadata": {},
   "outputs": [
    {
     "data": {
      "text/html": [
       "<div>\n",
       "<style scoped>\n",
       "    .dataframe tbody tr th:only-of-type {\n",
       "        vertical-align: middle;\n",
       "    }\n",
       "\n",
       "    .dataframe tbody tr th {\n",
       "        vertical-align: top;\n",
       "    }\n",
       "\n",
       "    .dataframe thead th {\n",
       "        text-align: right;\n",
       "    }\n",
       "</style>\n",
       "<table border=\"1\" class=\"dataframe\">\n",
       "  <thead>\n",
       "    <tr style=\"text-align: right;\">\n",
       "      <th></th>\n",
       "      <th>feature_01</th>\n",
       "      <th>feature_02</th>\n",
       "      <th>target</th>\n",
       "    </tr>\n",
       "  </thead>\n",
       "  <tbody>\n",
       "    <tr>\n",
       "      <th>0</th>\n",
       "      <td>0.154499</td>\n",
       "      <td>-1.030767</td>\n",
       "      <td>0</td>\n",
       "    </tr>\n",
       "    <tr>\n",
       "      <th>1</th>\n",
       "      <td>-0.541170</td>\n",
       "      <td>0.070549</td>\n",
       "      <td>0</td>\n",
       "    </tr>\n",
       "    <tr>\n",
       "      <th>2</th>\n",
       "      <td>0.496094</td>\n",
       "      <td>0.480522</td>\n",
       "      <td>0</td>\n",
       "    </tr>\n",
       "    <tr>\n",
       "      <th>3</th>\n",
       "      <td>0.809080</td>\n",
       "      <td>0.857764</td>\n",
       "      <td>0</td>\n",
       "    </tr>\n",
       "    <tr>\n",
       "      <th>4</th>\n",
       "      <td>-1.041021</td>\n",
       "      <td>0.331844</td>\n",
       "      <td>0</td>\n",
       "    </tr>\n",
       "  </tbody>\n",
       "</table>\n",
       "</div>"
      ],
      "text/plain": [
       "   feature_01  feature_02  target\n",
       "0    0.154499   -1.030767       0\n",
       "1   -0.541170    0.070549       0\n",
       "2    0.496094    0.480522       0\n",
       "3    0.809080    0.857764       0\n",
       "4   -1.041021    0.331844       0"
      ]
     },
     "execution_count": 12,
     "metadata": {},
     "output_type": "execute_result"
    }
   ],
   "source": [
    "df_majority.head()"
   ]
  },
  {
   "cell_type": "markdown",
   "id": "56431b94-ce4c-4756-9343-96b3fc03f37c",
   "metadata": {},
   "source": [
    "### Up Sampling\n",
    "\n",
    "So, let's perform upsampling first..."
   ]
  },
  {
   "cell_type": "code",
   "execution_count": 13,
   "id": "35a03205-159a-49b3-9803-e48c70e6c266",
   "metadata": {},
   "outputs": [],
   "source": [
    "df_minority_upsample = resample(df_minority, replace = True, n_samples = len(df_majority))"
   ]
  },
  {
   "cell_type": "code",
   "execution_count": 14,
   "id": "da0a5881-6a09-43d7-8a8a-8d1c4acb2680",
   "metadata": {},
   "outputs": [
    {
     "data": {
      "text/plain": [
       "(900, 3)"
      ]
     },
     "execution_count": 14,
     "metadata": {},
     "output_type": "execute_result"
    }
   ],
   "source": [
    "df_minority_upsample.shape"
   ]
  },
  {
   "cell_type": "code",
   "execution_count": 15,
   "id": "6fc6bbfd-36b3-4240-8263-82b89abf42d1",
   "metadata": {},
   "outputs": [
    {
     "data": {
      "text/plain": [
       "1    900\n",
       "Name: target, dtype: int64"
      ]
     },
     "execution_count": 15,
     "metadata": {},
     "output_type": "execute_result"
    }
   ],
   "source": [
    "df_minority_upsample[\"target\"].value_counts()"
   ]
  },
  {
   "cell_type": "code",
   "execution_count": 16,
   "id": "bdb5f12f-17df-407b-a5ec-95f9a1e57142",
   "metadata": {},
   "outputs": [],
   "source": [
    "df_minority_upsample.reset_index(drop = True, inplace = True)"
   ]
  },
  {
   "cell_type": "code",
   "execution_count": 17,
   "id": "c64d9aaf-2437-4c64-baca-a8ac4760ab1c",
   "metadata": {},
   "outputs": [
    {
     "data": {
      "text/html": [
       "<div>\n",
       "<style scoped>\n",
       "    .dataframe tbody tr th:only-of-type {\n",
       "        vertical-align: middle;\n",
       "    }\n",
       "\n",
       "    .dataframe tbody tr th {\n",
       "        vertical-align: top;\n",
       "    }\n",
       "\n",
       "    .dataframe thead th {\n",
       "        text-align: right;\n",
       "    }\n",
       "</style>\n",
       "<table border=\"1\" class=\"dataframe\">\n",
       "  <thead>\n",
       "    <tr style=\"text-align: right;\">\n",
       "      <th></th>\n",
       "      <th>feature_01</th>\n",
       "      <th>feature_02</th>\n",
       "      <th>target</th>\n",
       "    </tr>\n",
       "  </thead>\n",
       "  <tbody>\n",
       "    <tr>\n",
       "      <th>0</th>\n",
       "      <td>-0.095452</td>\n",
       "      <td>-0.428876</td>\n",
       "      <td>1</td>\n",
       "    </tr>\n",
       "    <tr>\n",
       "      <th>1</th>\n",
       "      <td>-0.926339</td>\n",
       "      <td>-1.188365</td>\n",
       "      <td>1</td>\n",
       "    </tr>\n",
       "    <tr>\n",
       "      <th>2</th>\n",
       "      <td>0.055439</td>\n",
       "      <td>-0.783842</td>\n",
       "      <td>1</td>\n",
       "    </tr>\n",
       "    <tr>\n",
       "      <th>3</th>\n",
       "      <td>1.220709</td>\n",
       "      <td>-0.550830</td>\n",
       "      <td>1</td>\n",
       "    </tr>\n",
       "    <tr>\n",
       "      <th>4</th>\n",
       "      <td>0.327246</td>\n",
       "      <td>0.839476</td>\n",
       "      <td>1</td>\n",
       "    </tr>\n",
       "  </tbody>\n",
       "</table>\n",
       "</div>"
      ],
      "text/plain": [
       "   feature_01  feature_02  target\n",
       "0   -0.095452   -0.428876       1\n",
       "1   -0.926339   -1.188365       1\n",
       "2    0.055439   -0.783842       1\n",
       "3    1.220709   -0.550830       1\n",
       "4    0.327246    0.839476       1"
      ]
     },
     "execution_count": 17,
     "metadata": {},
     "output_type": "execute_result"
    }
   ],
   "source": [
    "df_minority_upsample.head()"
   ]
  },
  {
   "cell_type": "code",
   "execution_count": 18,
   "id": "b1a08473-9854-484f-b525-58a73d4edd4f",
   "metadata": {},
   "outputs": [],
   "source": [
    "df_upsample = pd.concat([df_majority, df_minority_upsample]).reset_index(drop = True)"
   ]
  },
  {
   "cell_type": "code",
   "execution_count": 19,
   "id": "71cb7f43-6bc3-44e6-9b7e-a3bc759c6d19",
   "metadata": {},
   "outputs": [
    {
     "data": {
      "text/html": [
       "<div>\n",
       "<style scoped>\n",
       "    .dataframe tbody tr th:only-of-type {\n",
       "        vertical-align: middle;\n",
       "    }\n",
       "\n",
       "    .dataframe tbody tr th {\n",
       "        vertical-align: top;\n",
       "    }\n",
       "\n",
       "    .dataframe thead th {\n",
       "        text-align: right;\n",
       "    }\n",
       "</style>\n",
       "<table border=\"1\" class=\"dataframe\">\n",
       "  <thead>\n",
       "    <tr style=\"text-align: right;\">\n",
       "      <th></th>\n",
       "      <th>feature_01</th>\n",
       "      <th>feature_02</th>\n",
       "      <th>target</th>\n",
       "    </tr>\n",
       "  </thead>\n",
       "  <tbody>\n",
       "    <tr>\n",
       "      <th>0</th>\n",
       "      <td>0.154499</td>\n",
       "      <td>-1.030767</td>\n",
       "      <td>0</td>\n",
       "    </tr>\n",
       "    <tr>\n",
       "      <th>1</th>\n",
       "      <td>-0.541170</td>\n",
       "      <td>0.070549</td>\n",
       "      <td>0</td>\n",
       "    </tr>\n",
       "    <tr>\n",
       "      <th>2</th>\n",
       "      <td>0.496094</td>\n",
       "      <td>0.480522</td>\n",
       "      <td>0</td>\n",
       "    </tr>\n",
       "    <tr>\n",
       "      <th>3</th>\n",
       "      <td>0.809080</td>\n",
       "      <td>0.857764</td>\n",
       "      <td>0</td>\n",
       "    </tr>\n",
       "    <tr>\n",
       "      <th>4</th>\n",
       "      <td>-1.041021</td>\n",
       "      <td>0.331844</td>\n",
       "      <td>0</td>\n",
       "    </tr>\n",
       "    <tr>\n",
       "      <th>...</th>\n",
       "      <td>...</td>\n",
       "      <td>...</td>\n",
       "      <td>...</td>\n",
       "    </tr>\n",
       "    <tr>\n",
       "      <th>1795</th>\n",
       "      <td>-0.654049</td>\n",
       "      <td>-1.381190</td>\n",
       "      <td>1</td>\n",
       "    </tr>\n",
       "    <tr>\n",
       "      <th>1796</th>\n",
       "      <td>0.339965</td>\n",
       "      <td>1.275953</td>\n",
       "      <td>1</td>\n",
       "    </tr>\n",
       "    <tr>\n",
       "      <th>1797</th>\n",
       "      <td>-1.178998</td>\n",
       "      <td>1.942015</td>\n",
       "      <td>1</td>\n",
       "    </tr>\n",
       "    <tr>\n",
       "      <th>1798</th>\n",
       "      <td>-0.775594</td>\n",
       "      <td>1.192061</td>\n",
       "      <td>1</td>\n",
       "    </tr>\n",
       "    <tr>\n",
       "      <th>1799</th>\n",
       "      <td>-0.042991</td>\n",
       "      <td>0.262549</td>\n",
       "      <td>1</td>\n",
       "    </tr>\n",
       "  </tbody>\n",
       "</table>\n",
       "<p>1800 rows × 3 columns</p>\n",
       "</div>"
      ],
      "text/plain": [
       "      feature_01  feature_02  target\n",
       "0       0.154499   -1.030767       0\n",
       "1      -0.541170    0.070549       0\n",
       "2       0.496094    0.480522       0\n",
       "3       0.809080    0.857764       0\n",
       "4      -1.041021    0.331844       0\n",
       "...          ...         ...     ...\n",
       "1795   -0.654049   -1.381190       1\n",
       "1796    0.339965    1.275953       1\n",
       "1797   -1.178998    1.942015       1\n",
       "1798   -0.775594    1.192061       1\n",
       "1799   -0.042991    0.262549       1\n",
       "\n",
       "[1800 rows x 3 columns]"
      ]
     },
     "execution_count": 19,
     "metadata": {},
     "output_type": "execute_result"
    }
   ],
   "source": [
    "df_upsample"
   ]
  },
  {
   "cell_type": "code",
   "execution_count": 20,
   "id": "2f057474-42ff-4d1a-8104-f6935c6886e5",
   "metadata": {},
   "outputs": [
    {
     "data": {
      "text/plain": [
       "0    900\n",
       "1    900\n",
       "Name: target, dtype: int64"
      ]
     },
     "execution_count": 20,
     "metadata": {},
     "output_type": "execute_result"
    }
   ],
   "source": [
    "df_upsample[\"target\"].value_counts()"
   ]
  },
  {
   "cell_type": "markdown",
   "id": "2e13a3cf-ccbd-419d-aa70-fffeb4cd6ce6",
   "metadata": {},
   "source": [
    "### Down Sampling\n",
    "\n",
    "So, now let's perform down sampling..."
   ]
  },
  {
   "cell_type": "code",
   "execution_count": 21,
   "id": "2506f08b-4cbd-4067-a275-7ab8ba1eeabc",
   "metadata": {},
   "outputs": [],
   "source": [
    "df_majority_downsample = resample(df_majority, replace = False, n_samples = len(df_minority))"
   ]
  },
  {
   "cell_type": "code",
   "execution_count": 22,
   "id": "72c5b02b-12d3-410a-9c0e-a0e4c35c02af",
   "metadata": {},
   "outputs": [
    {
     "data": {
      "text/plain": [
       "(100, 3)"
      ]
     },
     "execution_count": 22,
     "metadata": {},
     "output_type": "execute_result"
    }
   ],
   "source": [
    "df_majority_downsample.shape"
   ]
  },
  {
   "cell_type": "code",
   "execution_count": 23,
   "id": "0c1a0401-989c-4718-b03a-51838c09cd2f",
   "metadata": {},
   "outputs": [
    {
     "data": {
      "text/plain": [
       "0    100\n",
       "Name: target, dtype: int64"
      ]
     },
     "execution_count": 23,
     "metadata": {},
     "output_type": "execute_result"
    }
   ],
   "source": [
    "df_majority_downsample[\"target\"].value_counts()"
   ]
  },
  {
   "cell_type": "code",
   "execution_count": 24,
   "id": "96adef7a-3817-41ea-b024-f0de3e7d5eb4",
   "metadata": {},
   "outputs": [],
   "source": [
    "df_majority_downsample.reset_index(drop = True, inplace = True)"
   ]
  },
  {
   "cell_type": "code",
   "execution_count": 25,
   "id": "ddba0446-1a02-4c2f-9be5-9d97eed9a718",
   "metadata": {},
   "outputs": [
    {
     "data": {
      "text/html": [
       "<div>\n",
       "<style scoped>\n",
       "    .dataframe tbody tr th:only-of-type {\n",
       "        vertical-align: middle;\n",
       "    }\n",
       "\n",
       "    .dataframe tbody tr th {\n",
       "        vertical-align: top;\n",
       "    }\n",
       "\n",
       "    .dataframe thead th {\n",
       "        text-align: right;\n",
       "    }\n",
       "</style>\n",
       "<table border=\"1\" class=\"dataframe\">\n",
       "  <thead>\n",
       "    <tr style=\"text-align: right;\">\n",
       "      <th></th>\n",
       "      <th>feature_01</th>\n",
       "      <th>feature_02</th>\n",
       "      <th>target</th>\n",
       "    </tr>\n",
       "  </thead>\n",
       "  <tbody>\n",
       "    <tr>\n",
       "      <th>0</th>\n",
       "      <td>-1.179466</td>\n",
       "      <td>-0.327552</td>\n",
       "      <td>0</td>\n",
       "    </tr>\n",
       "    <tr>\n",
       "      <th>1</th>\n",
       "      <td>0.535986</td>\n",
       "      <td>-1.039961</td>\n",
       "      <td>0</td>\n",
       "    </tr>\n",
       "    <tr>\n",
       "      <th>2</th>\n",
       "      <td>-0.302967</td>\n",
       "      <td>0.125612</td>\n",
       "      <td>0</td>\n",
       "    </tr>\n",
       "    <tr>\n",
       "      <th>3</th>\n",
       "      <td>-0.271478</td>\n",
       "      <td>-0.307408</td>\n",
       "      <td>0</td>\n",
       "    </tr>\n",
       "    <tr>\n",
       "      <th>4</th>\n",
       "      <td>-0.209452</td>\n",
       "      <td>-0.465656</td>\n",
       "      <td>0</td>\n",
       "    </tr>\n",
       "  </tbody>\n",
       "</table>\n",
       "</div>"
      ],
      "text/plain": [
       "   feature_01  feature_02  target\n",
       "0   -1.179466   -0.327552       0\n",
       "1    0.535986   -1.039961       0\n",
       "2   -0.302967    0.125612       0\n",
       "3   -0.271478   -0.307408       0\n",
       "4   -0.209452   -0.465656       0"
      ]
     },
     "execution_count": 25,
     "metadata": {},
     "output_type": "execute_result"
    }
   ],
   "source": [
    "df_majority_downsample.head()"
   ]
  },
  {
   "cell_type": "code",
   "execution_count": 26,
   "id": "4d66fab8-9cd9-448d-b56e-dc4f90640a7b",
   "metadata": {},
   "outputs": [],
   "source": [
    "df_downsample = pd.concat([df_majority_downsample, df_minority]).reset_index(drop = True)"
   ]
  },
  {
   "cell_type": "code",
   "execution_count": 27,
   "id": "db8dfa0a-84bd-48ad-ac6e-94e03d638ff1",
   "metadata": {},
   "outputs": [
    {
     "data": {
      "text/html": [
       "<div>\n",
       "<style scoped>\n",
       "    .dataframe tbody tr th:only-of-type {\n",
       "        vertical-align: middle;\n",
       "    }\n",
       "\n",
       "    .dataframe tbody tr th {\n",
       "        vertical-align: top;\n",
       "    }\n",
       "\n",
       "    .dataframe thead th {\n",
       "        text-align: right;\n",
       "    }\n",
       "</style>\n",
       "<table border=\"1\" class=\"dataframe\">\n",
       "  <thead>\n",
       "    <tr style=\"text-align: right;\">\n",
       "      <th></th>\n",
       "      <th>feature_01</th>\n",
       "      <th>feature_02</th>\n",
       "      <th>target</th>\n",
       "    </tr>\n",
       "  </thead>\n",
       "  <tbody>\n",
       "    <tr>\n",
       "      <th>0</th>\n",
       "      <td>-1.179466</td>\n",
       "      <td>-0.327552</td>\n",
       "      <td>0</td>\n",
       "    </tr>\n",
       "    <tr>\n",
       "      <th>1</th>\n",
       "      <td>0.535986</td>\n",
       "      <td>-1.039961</td>\n",
       "      <td>0</td>\n",
       "    </tr>\n",
       "    <tr>\n",
       "      <th>2</th>\n",
       "      <td>-0.302967</td>\n",
       "      <td>0.125612</td>\n",
       "      <td>0</td>\n",
       "    </tr>\n",
       "    <tr>\n",
       "      <th>3</th>\n",
       "      <td>-0.271478</td>\n",
       "      <td>-0.307408</td>\n",
       "      <td>0</td>\n",
       "    </tr>\n",
       "    <tr>\n",
       "      <th>4</th>\n",
       "      <td>-0.209452</td>\n",
       "      <td>-0.465656</td>\n",
       "      <td>0</td>\n",
       "    </tr>\n",
       "    <tr>\n",
       "      <th>...</th>\n",
       "      <td>...</td>\n",
       "      <td>...</td>\n",
       "      <td>...</td>\n",
       "    </tr>\n",
       "    <tr>\n",
       "      <th>195</th>\n",
       "      <td>-1.421015</td>\n",
       "      <td>-0.228773</td>\n",
       "      <td>1</td>\n",
       "    </tr>\n",
       "    <tr>\n",
       "      <th>196</th>\n",
       "      <td>2.382683</td>\n",
       "      <td>-0.269191</td>\n",
       "      <td>1</td>\n",
       "    </tr>\n",
       "    <tr>\n",
       "      <th>197</th>\n",
       "      <td>1.796944</td>\n",
       "      <td>-0.880829</td>\n",
       "      <td>1</td>\n",
       "    </tr>\n",
       "    <tr>\n",
       "      <th>198</th>\n",
       "      <td>0.690412</td>\n",
       "      <td>-0.134229</td>\n",
       "      <td>1</td>\n",
       "    </tr>\n",
       "    <tr>\n",
       "      <th>199</th>\n",
       "      <td>-0.124257</td>\n",
       "      <td>-2.286632</td>\n",
       "      <td>1</td>\n",
       "    </tr>\n",
       "  </tbody>\n",
       "</table>\n",
       "<p>200 rows × 3 columns</p>\n",
       "</div>"
      ],
      "text/plain": [
       "     feature_01  feature_02  target\n",
       "0     -1.179466   -0.327552       0\n",
       "1      0.535986   -1.039961       0\n",
       "2     -0.302967    0.125612       0\n",
       "3     -0.271478   -0.307408       0\n",
       "4     -0.209452   -0.465656       0\n",
       "..          ...         ...     ...\n",
       "195   -1.421015   -0.228773       1\n",
       "196    2.382683   -0.269191       1\n",
       "197    1.796944   -0.880829       1\n",
       "198    0.690412   -0.134229       1\n",
       "199   -0.124257   -2.286632       1\n",
       "\n",
       "[200 rows x 3 columns]"
      ]
     },
     "execution_count": 27,
     "metadata": {},
     "output_type": "execute_result"
    }
   ],
   "source": [
    "df_downsample"
   ]
  },
  {
   "cell_type": "code",
   "execution_count": 28,
   "id": "eb49ae57-b071-42a2-97e4-6c899c129006",
   "metadata": {},
   "outputs": [
    {
     "data": {
      "text/plain": [
       "0    100\n",
       "1    100\n",
       "Name: target, dtype: int64"
      ]
     },
     "execution_count": 28,
     "metadata": {},
     "output_type": "execute_result"
    }
   ],
   "source": [
    "df_downsample[\"target\"].value_counts()"
   ]
  }
 ],
 "metadata": {
  "kernelspec": {
   "display_name": "Python 3 (ipykernel)",
   "language": "python",
   "name": "python3"
  },
  "language_info": {
   "codemirror_mode": {
    "name": "ipython",
    "version": 3
   },
   "file_extension": ".py",
   "mimetype": "text/x-python",
   "name": "python",
   "nbconvert_exporter": "python",
   "pygments_lexer": "ipython3",
   "version": "3.10.8"
  },
  "toc-autonumbering": false,
  "toc-showmarkdowntxt": false
 },
 "nbformat": 4,
 "nbformat_minor": 5
}
