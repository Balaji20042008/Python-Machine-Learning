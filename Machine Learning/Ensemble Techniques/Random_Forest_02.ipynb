{
 "cells": [
  {
   "cell_type": "markdown",
   "id": "3f723f89-1094-45a3-8bff-fb477f20a0fc",
   "metadata": {},
   "source": [
    "## # Machine Learning - Random Forest Regressor"
   ]
  },
  {
   "cell_type": "markdown",
   "id": "07e665ce-9d18-4838-b45b-013db31506ea",
   "metadata": {},
   "source": [
    "### Step-01: Import all the libraries to perform Random Forest Regressor"
   ]
  },
  {
   "cell_type": "code",
   "execution_count": 1,
   "id": "13f2377a-cc68-4e34-b490-ac1f4313300b",
   "metadata": {},
   "outputs": [],
   "source": [
    "import pandas as pd\n",
    "import numpy as np\n",
    "import matplotlib.pyplot as plt\n",
    "import seaborn as sns\n",
    "%matplotlib inline\n",
    "import warnings\n",
    "warnings.filterwarnings(\"ignore\")"
   ]
  },
  {
   "cell_type": "code",
   "execution_count": 2,
   "id": "578e7659-a13a-40a2-a2ae-ad8500399b07",
   "metadata": {},
   "outputs": [],
   "source": [
    "df = sns.load_dataset(\"tips\")"
   ]
  },
  {
   "cell_type": "code",
   "execution_count": 3,
   "id": "42518aa4-8853-4849-9b68-dca1ad285eae",
   "metadata": {},
   "outputs": [
    {
     "data": {
      "text/html": [
       "<div>\n",
       "<style scoped>\n",
       "    .dataframe tbody tr th:only-of-type {\n",
       "        vertical-align: middle;\n",
       "    }\n",
       "\n",
       "    .dataframe tbody tr th {\n",
       "        vertical-align: top;\n",
       "    }\n",
       "\n",
       "    .dataframe thead th {\n",
       "        text-align: right;\n",
       "    }\n",
       "</style>\n",
       "<table border=\"1\" class=\"dataframe\">\n",
       "  <thead>\n",
       "    <tr style=\"text-align: right;\">\n",
       "      <th></th>\n",
       "      <th>total_bill</th>\n",
       "      <th>tip</th>\n",
       "      <th>sex</th>\n",
       "      <th>smoker</th>\n",
       "      <th>day</th>\n",
       "      <th>time</th>\n",
       "      <th>size</th>\n",
       "    </tr>\n",
       "  </thead>\n",
       "  <tbody>\n",
       "    <tr>\n",
       "      <th>0</th>\n",
       "      <td>16.99</td>\n",
       "      <td>1.01</td>\n",
       "      <td>Female</td>\n",
       "      <td>No</td>\n",
       "      <td>Sun</td>\n",
       "      <td>Dinner</td>\n",
       "      <td>2</td>\n",
       "    </tr>\n",
       "    <tr>\n",
       "      <th>1</th>\n",
       "      <td>10.34</td>\n",
       "      <td>1.66</td>\n",
       "      <td>Male</td>\n",
       "      <td>No</td>\n",
       "      <td>Sun</td>\n",
       "      <td>Dinner</td>\n",
       "      <td>3</td>\n",
       "    </tr>\n",
       "    <tr>\n",
       "      <th>2</th>\n",
       "      <td>21.01</td>\n",
       "      <td>3.50</td>\n",
       "      <td>Male</td>\n",
       "      <td>No</td>\n",
       "      <td>Sun</td>\n",
       "      <td>Dinner</td>\n",
       "      <td>3</td>\n",
       "    </tr>\n",
       "    <tr>\n",
       "      <th>3</th>\n",
       "      <td>23.68</td>\n",
       "      <td>3.31</td>\n",
       "      <td>Male</td>\n",
       "      <td>No</td>\n",
       "      <td>Sun</td>\n",
       "      <td>Dinner</td>\n",
       "      <td>2</td>\n",
       "    </tr>\n",
       "    <tr>\n",
       "      <th>4</th>\n",
       "      <td>24.59</td>\n",
       "      <td>3.61</td>\n",
       "      <td>Female</td>\n",
       "      <td>No</td>\n",
       "      <td>Sun</td>\n",
       "      <td>Dinner</td>\n",
       "      <td>4</td>\n",
       "    </tr>\n",
       "  </tbody>\n",
       "</table>\n",
       "</div>"
      ],
      "text/plain": [
       "   total_bill   tip     sex smoker  day    time  size\n",
       "0       16.99  1.01  Female     No  Sun  Dinner     2\n",
       "1       10.34  1.66    Male     No  Sun  Dinner     3\n",
       "2       21.01  3.50    Male     No  Sun  Dinner     3\n",
       "3       23.68  3.31    Male     No  Sun  Dinner     2\n",
       "4       24.59  3.61  Female     No  Sun  Dinner     4"
      ]
     },
     "execution_count": 3,
     "metadata": {},
     "output_type": "execute_result"
    }
   ],
   "source": [
    "df.head()"
   ]
  },
  {
   "cell_type": "code",
   "execution_count": 4,
   "id": "f2491269-6a31-4984-a499-b016f2103b45",
   "metadata": {},
   "outputs": [
    {
     "name": "stdout",
     "output_type": "stream",
     "text": [
      "df.head(): \n",
      "\n",
      "    total_bill   tip     sex smoker  day    time  size\n",
      "0       16.99  1.01  Female     No  Sun  Dinner     2\n",
      "1       10.34  1.66    Male     No  Sun  Dinner     3\n",
      "2       21.01  3.50    Male     No  Sun  Dinner     3\n",
      "3       23.68  3.31    Male     No  Sun  Dinner     2\n",
      "4       24.59  3.61  Female     No  Sun  Dinner     4 \n",
      "\n",
      "df.shape: (244, 7) \n",
      "\n"
     ]
    }
   ],
   "source": [
    "print(\"df.head(): \\n\\n {} \\n\" .format(df.head()))\n",
    "print(\"df.shape: {} \\n\" .format(df.shape))"
   ]
  },
  {
   "cell_type": "code",
   "execution_count": 5,
   "id": "7730a538-34aa-4f5d-b2fa-6d537f7d496f",
   "metadata": {},
   "outputs": [
    {
     "name": "stdout",
     "output_type": "stream",
     "text": [
      "<class 'pandas.core.frame.DataFrame'>\n",
      "RangeIndex: 244 entries, 0 to 243\n",
      "Data columns (total 7 columns):\n",
      " #   Column      Non-Null Count  Dtype   \n",
      "---  ------      --------------  -----   \n",
      " 0   total_bill  244 non-null    float64 \n",
      " 1   tip         244 non-null    float64 \n",
      " 2   sex         244 non-null    category\n",
      " 3   smoker      244 non-null    category\n",
      " 4   day         244 non-null    category\n",
      " 5   time        244 non-null    category\n",
      " 6   size        244 non-null    int64   \n",
      "dtypes: category(4), float64(2), int64(1)\n",
      "memory usage: 7.4 KB\n"
     ]
    }
   ],
   "source": [
    "df.info()"
   ]
  },
  {
   "cell_type": "code",
   "execution_count": 6,
   "id": "9f1774b9-247a-452f-8d68-4f6ed0f4be38",
   "metadata": {},
   "outputs": [
    {
     "data": {
      "text/html": [
       "<div>\n",
       "<style scoped>\n",
       "    .dataframe tbody tr th:only-of-type {\n",
       "        vertical-align: middle;\n",
       "    }\n",
       "\n",
       "    .dataframe tbody tr th {\n",
       "        vertical-align: top;\n",
       "    }\n",
       "\n",
       "    .dataframe thead th {\n",
       "        text-align: right;\n",
       "    }\n",
       "</style>\n",
       "<table border=\"1\" class=\"dataframe\">\n",
       "  <thead>\n",
       "    <tr style=\"text-align: right;\">\n",
       "      <th></th>\n",
       "      <th>total_bill</th>\n",
       "      <th>tip</th>\n",
       "      <th>size</th>\n",
       "    </tr>\n",
       "  </thead>\n",
       "  <tbody>\n",
       "    <tr>\n",
       "      <th>count</th>\n",
       "      <td>244.000000</td>\n",
       "      <td>244.000000</td>\n",
       "      <td>244.000000</td>\n",
       "    </tr>\n",
       "    <tr>\n",
       "      <th>mean</th>\n",
       "      <td>19.785943</td>\n",
       "      <td>2.998279</td>\n",
       "      <td>2.569672</td>\n",
       "    </tr>\n",
       "    <tr>\n",
       "      <th>std</th>\n",
       "      <td>8.902412</td>\n",
       "      <td>1.383638</td>\n",
       "      <td>0.951100</td>\n",
       "    </tr>\n",
       "    <tr>\n",
       "      <th>min</th>\n",
       "      <td>3.070000</td>\n",
       "      <td>1.000000</td>\n",
       "      <td>1.000000</td>\n",
       "    </tr>\n",
       "    <tr>\n",
       "      <th>25%</th>\n",
       "      <td>13.347500</td>\n",
       "      <td>2.000000</td>\n",
       "      <td>2.000000</td>\n",
       "    </tr>\n",
       "    <tr>\n",
       "      <th>50%</th>\n",
       "      <td>17.795000</td>\n",
       "      <td>2.900000</td>\n",
       "      <td>2.000000</td>\n",
       "    </tr>\n",
       "    <tr>\n",
       "      <th>75%</th>\n",
       "      <td>24.127500</td>\n",
       "      <td>3.562500</td>\n",
       "      <td>3.000000</td>\n",
       "    </tr>\n",
       "    <tr>\n",
       "      <th>max</th>\n",
       "      <td>50.810000</td>\n",
       "      <td>10.000000</td>\n",
       "      <td>6.000000</td>\n",
       "    </tr>\n",
       "  </tbody>\n",
       "</table>\n",
       "</div>"
      ],
      "text/plain": [
       "       total_bill         tip        size\n",
       "count  244.000000  244.000000  244.000000\n",
       "mean    19.785943    2.998279    2.569672\n",
       "std      8.902412    1.383638    0.951100\n",
       "min      3.070000    1.000000    1.000000\n",
       "25%     13.347500    2.000000    2.000000\n",
       "50%     17.795000    2.900000    2.000000\n",
       "75%     24.127500    3.562500    3.000000\n",
       "max     50.810000   10.000000    6.000000"
      ]
     },
     "execution_count": 6,
     "metadata": {},
     "output_type": "execute_result"
    }
   ],
   "source": [
    "df.describe()"
   ]
  },
  {
   "cell_type": "code",
   "execution_count": 7,
   "id": "be8a5aa7-b8b6-45c5-b3fa-56d7a9812880",
   "metadata": {},
   "outputs": [
    {
     "data": {
      "text/plain": [
       "total_bill    0\n",
       "tip           0\n",
       "sex           0\n",
       "smoker        0\n",
       "day           0\n",
       "time          0\n",
       "size          0\n",
       "dtype: int64"
      ]
     },
     "execution_count": 7,
     "metadata": {},
     "output_type": "execute_result"
    }
   ],
   "source": [
    "df.isnull().sum()"
   ]
  },
  {
   "cell_type": "code",
   "execution_count": 8,
   "id": "4d94bfb6-6104-4d91-b5e5-52c7b3fd6d1b",
   "metadata": {},
   "outputs": [
    {
     "data": {
      "text/plain": [
       "['Sun', 'Sat', 'Thur', 'Fri']\n",
       "Categories (4, object): ['Thur', 'Fri', 'Sat', 'Sun']"
      ]
     },
     "execution_count": 8,
     "metadata": {},
     "output_type": "execute_result"
    }
   ],
   "source": [
    "df[\"day\"].unique()"
   ]
  },
  {
   "cell_type": "code",
   "execution_count": 9,
   "id": "24d5e83c-a4d2-4b8b-ad45-5467d63d9c54",
   "metadata": {},
   "outputs": [
    {
     "data": {
      "text/plain": [
       "['Dinner', 'Lunch']\n",
       "Categories (2, object): ['Lunch', 'Dinner']"
      ]
     },
     "execution_count": 9,
     "metadata": {},
     "output_type": "execute_result"
    }
   ],
   "source": [
    "df[\"time\"].unique()"
   ]
  },
  {
   "cell_type": "code",
   "execution_count": 10,
   "id": "67cecc74-3c1b-4321-8803-f8226d7a3430",
   "metadata": {},
   "outputs": [
    {
     "data": {
      "text/plain": [
       "Sat     87\n",
       "Sun     76\n",
       "Thur    62\n",
       "Fri     19\n",
       "Name: day, dtype: int64"
      ]
     },
     "execution_count": 10,
     "metadata": {},
     "output_type": "execute_result"
    }
   ],
   "source": [
    "df[\"day\"].value_counts()"
   ]
  },
  {
   "cell_type": "code",
   "execution_count": 11,
   "id": "a3179d74-5ff9-4b8d-8f91-d8d7fa600e2e",
   "metadata": {},
   "outputs": [
    {
     "data": {
      "text/plain": [
       "Dinner    176\n",
       "Lunch      68\n",
       "Name: time, dtype: int64"
      ]
     },
     "execution_count": 11,
     "metadata": {},
     "output_type": "execute_result"
    }
   ],
   "source": [
    "df[\"time\"].value_counts()"
   ]
  },
  {
   "cell_type": "code",
   "execution_count": 12,
   "id": "5129b1f8-a700-4263-90ba-8d749a6786c7",
   "metadata": {},
   "outputs": [],
   "source": [
    "x = df.drop(\"total_bill\", axis = 1)\n",
    "y = np.array(list(df[\"total_bill\"]))"
   ]
  },
  {
   "cell_type": "code",
   "execution_count": 13,
   "id": "dafd401c-407c-4b73-843a-20afe3acade2",
   "metadata": {},
   "outputs": [
    {
     "data": {
      "text/html": [
       "<div>\n",
       "<style scoped>\n",
       "    .dataframe tbody tr th:only-of-type {\n",
       "        vertical-align: middle;\n",
       "    }\n",
       "\n",
       "    .dataframe tbody tr th {\n",
       "        vertical-align: top;\n",
       "    }\n",
       "\n",
       "    .dataframe thead th {\n",
       "        text-align: right;\n",
       "    }\n",
       "</style>\n",
       "<table border=\"1\" class=\"dataframe\">\n",
       "  <thead>\n",
       "    <tr style=\"text-align: right;\">\n",
       "      <th></th>\n",
       "      <th>tip</th>\n",
       "      <th>sex</th>\n",
       "      <th>smoker</th>\n",
       "      <th>day</th>\n",
       "      <th>time</th>\n",
       "      <th>size</th>\n",
       "    </tr>\n",
       "  </thead>\n",
       "  <tbody>\n",
       "    <tr>\n",
       "      <th>0</th>\n",
       "      <td>1.01</td>\n",
       "      <td>Female</td>\n",
       "      <td>No</td>\n",
       "      <td>Sun</td>\n",
       "      <td>Dinner</td>\n",
       "      <td>2</td>\n",
       "    </tr>\n",
       "    <tr>\n",
       "      <th>1</th>\n",
       "      <td>1.66</td>\n",
       "      <td>Male</td>\n",
       "      <td>No</td>\n",
       "      <td>Sun</td>\n",
       "      <td>Dinner</td>\n",
       "      <td>3</td>\n",
       "    </tr>\n",
       "    <tr>\n",
       "      <th>2</th>\n",
       "      <td>3.50</td>\n",
       "      <td>Male</td>\n",
       "      <td>No</td>\n",
       "      <td>Sun</td>\n",
       "      <td>Dinner</td>\n",
       "      <td>3</td>\n",
       "    </tr>\n",
       "    <tr>\n",
       "      <th>3</th>\n",
       "      <td>3.31</td>\n",
       "      <td>Male</td>\n",
       "      <td>No</td>\n",
       "      <td>Sun</td>\n",
       "      <td>Dinner</td>\n",
       "      <td>2</td>\n",
       "    </tr>\n",
       "    <tr>\n",
       "      <th>4</th>\n",
       "      <td>3.61</td>\n",
       "      <td>Female</td>\n",
       "      <td>No</td>\n",
       "      <td>Sun</td>\n",
       "      <td>Dinner</td>\n",
       "      <td>4</td>\n",
       "    </tr>\n",
       "  </tbody>\n",
       "</table>\n",
       "</div>"
      ],
      "text/plain": [
       "    tip     sex smoker  day    time  size\n",
       "0  1.01  Female     No  Sun  Dinner     2\n",
       "1  1.66    Male     No  Sun  Dinner     3\n",
       "2  3.50    Male     No  Sun  Dinner     3\n",
       "3  3.31    Male     No  Sun  Dinner     2\n",
       "4  3.61  Female     No  Sun  Dinner     4"
      ]
     },
     "execution_count": 13,
     "metadata": {},
     "output_type": "execute_result"
    }
   ],
   "source": [
    "x.head()"
   ]
  },
  {
   "cell_type": "code",
   "execution_count": 14,
   "id": "52807bc1-c613-4fcd-86db-34119f5ba217",
   "metadata": {},
   "outputs": [
    {
     "name": "stdout",
     "output_type": "stream",
     "text": [
      "x.head(): \n",
      "\n",
      "     tip     sex smoker  day    time  size\n",
      "0  1.01  Female     No  Sun  Dinner     2\n",
      "1  1.66    Male     No  Sun  Dinner     3\n",
      "2  3.50    Male     No  Sun  Dinner     3\n",
      "3  3.31    Male     No  Sun  Dinner     2\n",
      "4  3.61  Female     No  Sun  Dinner     4 \n",
      "\n",
      "x.shape: (244, 6) \n",
      "\n"
     ]
    }
   ],
   "source": [
    "print(\"x.head(): \\n\\n {} \\n\" .format(x.head()))\n",
    "print(\"x.shape: {} \\n\" .format(x.shape))"
   ]
  },
  {
   "cell_type": "code",
   "execution_count": 15,
   "id": "2b78a613-f3d1-49e9-820c-7f1623302b0a",
   "metadata": {},
   "outputs": [
    {
     "data": {
      "text/plain": [
       "array([16.99, 10.34, 21.01, 23.68, 24.59, 25.29,  8.77, 26.88, 15.04,\n",
       "       14.78, 10.27, 35.26, 15.42, 18.43, 14.83, 21.58, 10.33, 16.29,\n",
       "       16.97, 20.65, 17.92, 20.29, 15.77, 39.42, 19.82, 17.81, 13.37,\n",
       "       12.69, 21.7 , 19.65,  9.55, 18.35, 15.06, 20.69, 17.78, 24.06,\n",
       "       16.31, 16.93, 18.69, 31.27, 16.04, 17.46, 13.94,  9.68, 30.4 ,\n",
       "       18.29, 22.23, 32.4 , 28.55, 18.04, 12.54, 10.29, 34.81,  9.94,\n",
       "       25.56, 19.49, 38.01, 26.41, 11.24, 48.27, 20.29, 13.81, 11.02,\n",
       "       18.29, 17.59, 20.08, 16.45,  3.07, 20.23, 15.01, 12.02, 17.07,\n",
       "       26.86, 25.28, 14.73, 10.51, 17.92, 27.2 , 22.76, 17.29, 19.44,\n",
       "       16.66, 10.07, 32.68, 15.98, 34.83, 13.03, 18.28, 24.71, 21.16,\n",
       "       28.97, 22.49,  5.75, 16.32, 22.75, 40.17, 27.28, 12.03, 21.01,\n",
       "       12.46, 11.35, 15.38, 44.3 , 22.42, 20.92, 15.36, 20.49, 25.21,\n",
       "       18.24, 14.31, 14.  ,  7.25, 38.07, 23.95, 25.71, 17.31, 29.93,\n",
       "       10.65, 12.43, 24.08, 11.69, 13.42, 14.26, 15.95, 12.48, 29.8 ,\n",
       "        8.52, 14.52, 11.38, 22.82, 19.08, 20.27, 11.17, 12.26, 18.26,\n",
       "        8.51, 10.33, 14.15, 16.  , 13.16, 17.47, 34.3 , 41.19, 27.05,\n",
       "       16.43,  8.35, 18.64, 11.87,  9.78,  7.51, 14.07, 13.13, 17.26,\n",
       "       24.55, 19.77, 29.85, 48.17, 25.  , 13.39, 16.49, 21.5 , 12.66,\n",
       "       16.21, 13.81, 17.51, 24.52, 20.76, 31.71, 10.59, 10.63, 50.81,\n",
       "       15.81,  7.25, 31.85, 16.82, 32.9 , 17.89, 14.48,  9.6 , 34.63,\n",
       "       34.65, 23.33, 45.35, 23.17, 40.55, 20.69, 20.9 , 30.46, 18.15,\n",
       "       23.1 , 15.69, 19.81, 28.44, 15.48, 16.58,  7.56, 10.34, 43.11,\n",
       "       13.  , 13.51, 18.71, 12.74, 13.  , 16.4 , 20.53, 16.47, 26.59,\n",
       "       38.73, 24.27, 12.76, 30.06, 25.89, 48.33, 13.27, 28.17, 12.9 ,\n",
       "       28.15, 11.59,  7.74, 30.14, 12.16, 13.42,  8.58, 15.98, 13.42,\n",
       "       16.27, 10.09, 20.45, 13.28, 22.12, 24.01, 15.69, 11.61, 10.77,\n",
       "       15.53, 10.07, 12.6 , 32.83, 35.83, 29.03, 27.18, 22.67, 17.82,\n",
       "       18.78])"
      ]
     },
     "execution_count": 15,
     "metadata": {},
     "output_type": "execute_result"
    }
   ],
   "source": [
    "y"
   ]
  },
  {
   "cell_type": "code",
   "execution_count": 16,
   "id": "110ab72c-69ca-40f4-8c8b-795907fd7399",
   "metadata": {},
   "outputs": [
    {
     "name": "stdout",
     "output_type": "stream",
     "text": [
      "y: \n",
      "\n",
      " [16.99 10.34 21.01 23.68 24.59 25.29  8.77 26.88 15.04 14.78 10.27 35.26\n",
      " 15.42 18.43 14.83 21.58 10.33 16.29 16.97 20.65 17.92 20.29 15.77 39.42\n",
      " 19.82 17.81 13.37 12.69 21.7  19.65  9.55 18.35 15.06 20.69 17.78 24.06\n",
      " 16.31 16.93 18.69 31.27 16.04 17.46 13.94  9.68 30.4  18.29 22.23 32.4\n",
      " 28.55 18.04 12.54 10.29 34.81  9.94 25.56 19.49 38.01 26.41 11.24 48.27\n",
      " 20.29 13.81 11.02 18.29 17.59 20.08 16.45  3.07 20.23 15.01 12.02 17.07\n",
      " 26.86 25.28 14.73 10.51 17.92 27.2  22.76 17.29 19.44 16.66 10.07 32.68\n",
      " 15.98 34.83 13.03 18.28 24.71 21.16 28.97 22.49  5.75 16.32 22.75 40.17\n",
      " 27.28 12.03 21.01 12.46 11.35 15.38 44.3  22.42 20.92 15.36 20.49 25.21\n",
      " 18.24 14.31 14.    7.25 38.07 23.95 25.71 17.31 29.93 10.65 12.43 24.08\n",
      " 11.69 13.42 14.26 15.95 12.48 29.8   8.52 14.52 11.38 22.82 19.08 20.27\n",
      " 11.17 12.26 18.26  8.51 10.33 14.15 16.   13.16 17.47 34.3  41.19 27.05\n",
      " 16.43  8.35 18.64 11.87  9.78  7.51 14.07 13.13 17.26 24.55 19.77 29.85\n",
      " 48.17 25.   13.39 16.49 21.5  12.66 16.21 13.81 17.51 24.52 20.76 31.71\n",
      " 10.59 10.63 50.81 15.81  7.25 31.85 16.82 32.9  17.89 14.48  9.6  34.63\n",
      " 34.65 23.33 45.35 23.17 40.55 20.69 20.9  30.46 18.15 23.1  15.69 19.81\n",
      " 28.44 15.48 16.58  7.56 10.34 43.11 13.   13.51 18.71 12.74 13.   16.4\n",
      " 20.53 16.47 26.59 38.73 24.27 12.76 30.06 25.89 48.33 13.27 28.17 12.9\n",
      " 28.15 11.59  7.74 30.14 12.16 13.42  8.58 15.98 13.42 16.27 10.09 20.45\n",
      " 13.28 22.12 24.01 15.69 11.61 10.77 15.53 10.07 12.6  32.83 35.83 29.03\n",
      " 27.18 22.67 17.82 18.78] \n",
      "\n",
      "y.shape: (244,) \n",
      "\n"
     ]
    }
   ],
   "source": [
    "print(\"y: \\n\\n {} \\n\" .format(y))\n",
    "print(\"y.shape: {} \\n\" .format(y.shape))"
   ]
  },
  {
   "cell_type": "markdown",
   "id": "c709661f-20e8-4560-8217-40cd99b159a9",
   "metadata": {},
   "source": [
    "### Step-02: Import train_test_split from sklearn.model_selection"
   ]
  },
  {
   "cell_type": "code",
   "execution_count": 17,
   "id": "691ca176-7950-4aa7-8fc6-8c7c7e8ca1fb",
   "metadata": {},
   "outputs": [],
   "source": [
    "from sklearn.model_selection import train_test_split"
   ]
  },
  {
   "cell_type": "code",
   "execution_count": 18,
   "id": "60660851-5fa9-412e-8d84-18e8025f89a1",
   "metadata": {},
   "outputs": [],
   "source": [
    "x_train, x_test, y_train, y_test = train_test_split(x, y, test_size = 0.30, random_state = 100)"
   ]
  },
  {
   "cell_type": "code",
   "execution_count": 19,
   "id": "1619ae9c-b87f-4be5-bd98-6816db062d45",
   "metadata": {},
   "outputs": [
    {
     "data": {
      "text/html": [
       "<div>\n",
       "<style scoped>\n",
       "    .dataframe tbody tr th:only-of-type {\n",
       "        vertical-align: middle;\n",
       "    }\n",
       "\n",
       "    .dataframe tbody tr th {\n",
       "        vertical-align: top;\n",
       "    }\n",
       "\n",
       "    .dataframe thead th {\n",
       "        text-align: right;\n",
       "    }\n",
       "</style>\n",
       "<table border=\"1\" class=\"dataframe\">\n",
       "  <thead>\n",
       "    <tr style=\"text-align: right;\">\n",
       "      <th></th>\n",
       "      <th>tip</th>\n",
       "      <th>sex</th>\n",
       "      <th>smoker</th>\n",
       "      <th>day</th>\n",
       "      <th>time</th>\n",
       "      <th>size</th>\n",
       "    </tr>\n",
       "  </thead>\n",
       "  <tbody>\n",
       "    <tr>\n",
       "      <th>189</th>\n",
       "      <td>4.0</td>\n",
       "      <td>Male</td>\n",
       "      <td>Yes</td>\n",
       "      <td>Sun</td>\n",
       "      <td>Dinner</td>\n",
       "      <td>3</td>\n",
       "    </tr>\n",
       "    <tr>\n",
       "      <th>145</th>\n",
       "      <td>1.5</td>\n",
       "      <td>Female</td>\n",
       "      <td>No</td>\n",
       "      <td>Thur</td>\n",
       "      <td>Lunch</td>\n",
       "      <td>2</td>\n",
       "    </tr>\n",
       "    <tr>\n",
       "      <th>74</th>\n",
       "      <td>2.2</td>\n",
       "      <td>Female</td>\n",
       "      <td>No</td>\n",
       "      <td>Sat</td>\n",
       "      <td>Dinner</td>\n",
       "      <td>2</td>\n",
       "    </tr>\n",
       "    <tr>\n",
       "      <th>234</th>\n",
       "      <td>3.0</td>\n",
       "      <td>Male</td>\n",
       "      <td>Yes</td>\n",
       "      <td>Sat</td>\n",
       "      <td>Dinner</td>\n",
       "      <td>2</td>\n",
       "    </tr>\n",
       "    <tr>\n",
       "      <th>198</th>\n",
       "      <td>2.0</td>\n",
       "      <td>Female</td>\n",
       "      <td>Yes</td>\n",
       "      <td>Thur</td>\n",
       "      <td>Lunch</td>\n",
       "      <td>2</td>\n",
       "    </tr>\n",
       "  </tbody>\n",
       "</table>\n",
       "</div>"
      ],
      "text/plain": [
       "     tip     sex smoker   day    time  size\n",
       "189  4.0    Male    Yes   Sun  Dinner     3\n",
       "145  1.5  Female     No  Thur   Lunch     2\n",
       "74   2.2  Female     No   Sat  Dinner     2\n",
       "234  3.0    Male    Yes   Sat  Dinner     2\n",
       "198  2.0  Female    Yes  Thur   Lunch     2"
      ]
     },
     "execution_count": 19,
     "metadata": {},
     "output_type": "execute_result"
    }
   ],
   "source": [
    "x_train.head()"
   ]
  },
  {
   "cell_type": "code",
   "execution_count": 20,
   "id": "c85034ce-85a9-4201-b726-cb83bb71ce65",
   "metadata": {},
   "outputs": [
    {
     "name": "stdout",
     "output_type": "stream",
     "text": [
      "x_train.head(): \n",
      "\n",
      "      tip     sex smoker   day    time  size\n",
      "189  4.0    Male    Yes   Sun  Dinner     3\n",
      "145  1.5  Female     No  Thur   Lunch     2\n",
      "74   2.2  Female     No   Sat  Dinner     2\n",
      "234  3.0    Male    Yes   Sat  Dinner     2\n",
      "198  2.0  Female    Yes  Thur   Lunch     2 \n",
      "\n",
      "x_train.shape: (170, 6) \n",
      "\n"
     ]
    }
   ],
   "source": [
    "print(\"x_train.head(): \\n\\n {} \\n\" .format(x_train.head()))\n",
    "print(\"x_train.shape: {} \\n\" .format(x_train.shape))"
   ]
  },
  {
   "cell_type": "code",
   "execution_count": 21,
   "id": "9763052f-c02b-4126-ad88-79a9ef5a66a6",
   "metadata": {},
   "outputs": [
    {
     "data": {
      "text/html": [
       "<div>\n",
       "<style scoped>\n",
       "    .dataframe tbody tr th:only-of-type {\n",
       "        vertical-align: middle;\n",
       "    }\n",
       "\n",
       "    .dataframe tbody tr th {\n",
       "        vertical-align: top;\n",
       "    }\n",
       "\n",
       "    .dataframe thead th {\n",
       "        text-align: right;\n",
       "    }\n",
       "</style>\n",
       "<table border=\"1\" class=\"dataframe\">\n",
       "  <thead>\n",
       "    <tr style=\"text-align: right;\">\n",
       "      <th></th>\n",
       "      <th>tip</th>\n",
       "      <th>sex</th>\n",
       "      <th>smoker</th>\n",
       "      <th>day</th>\n",
       "      <th>time</th>\n",
       "      <th>size</th>\n",
       "    </tr>\n",
       "  </thead>\n",
       "  <tbody>\n",
       "    <tr>\n",
       "      <th>65</th>\n",
       "      <td>3.15</td>\n",
       "      <td>Male</td>\n",
       "      <td>No</td>\n",
       "      <td>Sat</td>\n",
       "      <td>Dinner</td>\n",
       "      <td>3</td>\n",
       "    </tr>\n",
       "    <tr>\n",
       "      <th>59</th>\n",
       "      <td>6.73</td>\n",
       "      <td>Male</td>\n",
       "      <td>No</td>\n",
       "      <td>Sat</td>\n",
       "      <td>Dinner</td>\n",
       "      <td>4</td>\n",
       "    </tr>\n",
       "    <tr>\n",
       "      <th>191</th>\n",
       "      <td>4.19</td>\n",
       "      <td>Female</td>\n",
       "      <td>Yes</td>\n",
       "      <td>Thur</td>\n",
       "      <td>Lunch</td>\n",
       "      <td>2</td>\n",
       "    </tr>\n",
       "    <tr>\n",
       "      <th>111</th>\n",
       "      <td>1.00</td>\n",
       "      <td>Female</td>\n",
       "      <td>No</td>\n",
       "      <td>Sat</td>\n",
       "      <td>Dinner</td>\n",
       "      <td>1</td>\n",
       "    </tr>\n",
       "    <tr>\n",
       "      <th>112</th>\n",
       "      <td>4.00</td>\n",
       "      <td>Male</td>\n",
       "      <td>No</td>\n",
       "      <td>Sun</td>\n",
       "      <td>Dinner</td>\n",
       "      <td>3</td>\n",
       "    </tr>\n",
       "  </tbody>\n",
       "</table>\n",
       "</div>"
      ],
      "text/plain": [
       "      tip     sex smoker   day    time  size\n",
       "65   3.15    Male     No   Sat  Dinner     3\n",
       "59   6.73    Male     No   Sat  Dinner     4\n",
       "191  4.19  Female    Yes  Thur   Lunch     2\n",
       "111  1.00  Female     No   Sat  Dinner     1\n",
       "112  4.00    Male     No   Sun  Dinner     3"
      ]
     },
     "execution_count": 21,
     "metadata": {},
     "output_type": "execute_result"
    }
   ],
   "source": [
    "x_test.head()"
   ]
  },
  {
   "cell_type": "code",
   "execution_count": 22,
   "id": "3ce1c1e4-859c-4c67-9eb0-0db4dbe807ec",
   "metadata": {},
   "outputs": [
    {
     "name": "stdout",
     "output_type": "stream",
     "text": [
      "x_test.head(): \n",
      "\n",
      "       tip     sex smoker   day    time  size\n",
      "65   3.15    Male     No   Sat  Dinner     3\n",
      "59   6.73    Male     No   Sat  Dinner     4\n",
      "191  4.19  Female    Yes  Thur   Lunch     2\n",
      "111  1.00  Female     No   Sat  Dinner     1\n",
      "112  4.00    Male     No   Sun  Dinner     3 \n",
      "\n",
      "x_test.shape: (74, 6) \n",
      "\n"
     ]
    }
   ],
   "source": [
    "print(\"x_test.head(): \\n\\n {} \\n\" .format(x_test.head()))\n",
    "print(\"x_test.shape: {} \\n\" .format(x_test.shape))"
   ]
  },
  {
   "cell_type": "code",
   "execution_count": 23,
   "id": "f4e490f8-30a0-48c6-b638-73510b373fc7",
   "metadata": {},
   "outputs": [
    {
     "data": {
      "text/plain": [
       "array([23.1 ,  8.35, 14.73, 15.53, 13.  , 13.  , 43.11, 26.88, 21.7 ,\n",
       "        9.78, 20.45, 16.04, 12.43,  7.51, 18.71, 10.34, 19.77, 27.2 ,\n",
       "       27.18, 50.81, 11.59, 12.26, 13.28, 28.97, 16.47, 18.15, 14.52,\n",
       "       12.9 , 15.95, 25.56, 20.92, 25.28, 18.64, 26.41, 30.4 , 11.69,\n",
       "       12.16, 28.44,  8.52, 18.26,  9.6 , 13.27, 18.78, 10.27, 17.92,\n",
       "       24.55,  5.75, 26.59, 28.15, 40.55, 10.07, 30.14, 15.42, 10.33,\n",
       "       24.06, 21.16, 18.29, 16.82, 15.69, 10.34, 16.4 , 10.29, 16.27,\n",
       "       31.27, 29.93, 14.26, 16.58,  8.77, 20.29, 14.78, 12.54, 31.85,\n",
       "       10.63, 44.3 , 15.98, 20.69, 17.92, 24.08, 25.71, 40.17, 15.98,\n",
       "       10.07, 13.51, 17.07, 25.29, 16.31,  9.68,  7.56, 17.51, 12.6 ,\n",
       "       20.76, 12.02, 20.27, 38.73, 14.48, 16.99, 22.76, 24.27, 20.23,\n",
       "       11.61, 34.63,  9.55, 20.49, 18.43, 26.86, 16.29, 16.21, 16.97,\n",
       "        7.25, 18.69, 14.31, 31.71, 32.4 , 32.83, 13.39, 23.95, 38.01,\n",
       "       12.69, 23.33, 18.29, 11.87, 15.36, 13.42, 21.01, 19.44, 23.17,\n",
       "       22.12, 13.81, 15.48, 32.9 , 18.04,  8.51, 22.67, 30.46, 22.49,\n",
       "       24.59, 11.35, 25.89, 34.3 , 22.82, 16.49, 11.17, 18.24, 29.85,\n",
       "       19.08, 13.03, 16.32, 14.15, 16.43, 11.24, 20.29, 25.21, 27.05,\n",
       "       17.82, 17.78, 14.83, 10.09, 16.45,  9.94, 21.01, 34.65, 22.75,\n",
       "       16.  , 17.89, 17.29, 18.28, 22.42,  3.07, 19.82, 15.04])"
      ]
     },
     "execution_count": 23,
     "metadata": {},
     "output_type": "execute_result"
    }
   ],
   "source": [
    "y_train"
   ]
  },
  {
   "cell_type": "code",
   "execution_count": 24,
   "id": "8ecd0d4b-edd5-4a50-b204-c34c934c78b7",
   "metadata": {},
   "outputs": [
    {
     "name": "stdout",
     "output_type": "stream",
     "text": [
      "y_train: \n",
      "\n",
      " [23.1   8.35 14.73 15.53 13.   13.   43.11 26.88 21.7   9.78 20.45 16.04\n",
      " 12.43  7.51 18.71 10.34 19.77 27.2  27.18 50.81 11.59 12.26 13.28 28.97\n",
      " 16.47 18.15 14.52 12.9  15.95 25.56 20.92 25.28 18.64 26.41 30.4  11.69\n",
      " 12.16 28.44  8.52 18.26  9.6  13.27 18.78 10.27 17.92 24.55  5.75 26.59\n",
      " 28.15 40.55 10.07 30.14 15.42 10.33 24.06 21.16 18.29 16.82 15.69 10.34\n",
      " 16.4  10.29 16.27 31.27 29.93 14.26 16.58  8.77 20.29 14.78 12.54 31.85\n",
      " 10.63 44.3  15.98 20.69 17.92 24.08 25.71 40.17 15.98 10.07 13.51 17.07\n",
      " 25.29 16.31  9.68  7.56 17.51 12.6  20.76 12.02 20.27 38.73 14.48 16.99\n",
      " 22.76 24.27 20.23 11.61 34.63  9.55 20.49 18.43 26.86 16.29 16.21 16.97\n",
      "  7.25 18.69 14.31 31.71 32.4  32.83 13.39 23.95 38.01 12.69 23.33 18.29\n",
      " 11.87 15.36 13.42 21.01 19.44 23.17 22.12 13.81 15.48 32.9  18.04  8.51\n",
      " 22.67 30.46 22.49 24.59 11.35 25.89 34.3  22.82 16.49 11.17 18.24 29.85\n",
      " 19.08 13.03 16.32 14.15 16.43 11.24 20.29 25.21 27.05 17.82 17.78 14.83\n",
      " 10.09 16.45  9.94 21.01 34.65 22.75 16.   17.89 17.29 18.28 22.42  3.07\n",
      " 19.82 15.04] \n",
      "\n",
      "y_train.shape: (170,) \n",
      "\n"
     ]
    }
   ],
   "source": [
    "print(\"y_train: \\n\\n {} \\n\" .format(y_train))\n",
    "print(\"y_train.shape: {} \\n\" .format(y_train.shape))"
   ]
  },
  {
   "cell_type": "code",
   "execution_count": 25,
   "id": "2d3026d0-ae19-49b3-aa54-d956059dbbc0",
   "metadata": {},
   "outputs": [
    {
     "data": {
      "text/plain": [
       "array([20.08, 48.27, 19.81,  7.25, 38.07, 12.66, 14.07, 21.5 , 12.46,\n",
       "       32.68, 13.81, 18.35, 24.71, 34.83, 20.69, 45.35, 15.01, 12.03,\n",
       "       16.66, 15.69, 22.23, 41.19, 29.03, 17.26, 29.8 , 20.53, 13.37,\n",
       "       13.42, 12.76, 12.74, 17.59,  7.74, 23.68, 24.01, 15.06, 27.28,\n",
       "       48.33, 17.47, 13.42, 17.46, 14.  , 11.38, 20.9 , 35.83, 10.51,\n",
       "       28.17, 20.65, 30.06, 11.02, 19.65, 13.94, 17.31, 24.52,  8.58,\n",
       "       28.55, 10.77, 39.42, 10.33, 19.49, 15.77, 34.81, 48.17, 13.16,\n",
       "       25.  , 35.26, 21.58, 15.38, 17.81, 10.59, 10.65, 15.81, 16.93,\n",
       "       12.48, 13.13])"
      ]
     },
     "execution_count": 25,
     "metadata": {},
     "output_type": "execute_result"
    }
   ],
   "source": [
    "y_test"
   ]
  },
  {
   "cell_type": "code",
   "execution_count": 26,
   "id": "bb92a3bc-1483-422a-a9a1-c1e5b319c05c",
   "metadata": {},
   "outputs": [
    {
     "name": "stdout",
     "output_type": "stream",
     "text": [
      "y_test: \n",
      "\n",
      " [20.08 48.27 19.81  7.25 38.07 12.66 14.07 21.5  12.46 32.68 13.81 18.35\n",
      " 24.71 34.83 20.69 45.35 15.01 12.03 16.66 15.69 22.23 41.19 29.03 17.26\n",
      " 29.8  20.53 13.37 13.42 12.76 12.74 17.59  7.74 23.68 24.01 15.06 27.28\n",
      " 48.33 17.47 13.42 17.46 14.   11.38 20.9  35.83 10.51 28.17 20.65 30.06\n",
      " 11.02 19.65 13.94 17.31 24.52  8.58 28.55 10.77 39.42 10.33 19.49 15.77\n",
      " 34.81 48.17 13.16 25.   35.26 21.58 15.38 17.81 10.59 10.65 15.81 16.93\n",
      " 12.48 13.13] \n",
      "\n",
      "y_test.shape: (74,) \n",
      "\n"
     ]
    }
   ],
   "source": [
    "print(\"y_test: \\n\\n {} \\n\" .format(y_test))\n",
    "print(\"y_test.shape: {} \\n\" .format(y_test.shape))"
   ]
  },
  {
   "cell_type": "code",
   "execution_count": 27,
   "id": "816bb966-de9d-4113-9c9a-27e4c135831a",
   "metadata": {},
   "outputs": [],
   "source": [
    "categorical_features = [features for features in x_train if x_train[features].dtype == \"category\"]\n",
    "numerical_features = [features for features in x_train if x_train[features].dtype != \"category\"]"
   ]
  },
  {
   "cell_type": "code",
   "execution_count": 28,
   "id": "49cd61a2-1489-498d-9dcc-d9902da3428c",
   "metadata": {},
   "outputs": [
    {
     "name": "stdout",
     "output_type": "stream",
     "text": [
      "categorical features: ['sex', 'smoker', 'day', 'time']\n"
     ]
    }
   ],
   "source": [
    "print(\"categorical features: {}\" .format(categorical_features))"
   ]
  },
  {
   "cell_type": "code",
   "execution_count": 29,
   "id": "deb36474-ae68-4091-b9e8-7e78761784d2",
   "metadata": {},
   "outputs": [
    {
     "name": "stdout",
     "output_type": "stream",
     "text": [
      "numerical_features: ['tip', 'size']\n"
     ]
    }
   ],
   "source": [
    "print(\"numerical_features: {}\" .format(numerical_features))"
   ]
  },
  {
   "cell_type": "markdown",
   "id": "e5f2cd68-099f-4f27-817f-b484b309e9bd",
   "metadata": {},
   "source": [
    "### Step-03: Import Pipeline from sklearn.pipeline"
   ]
  },
  {
   "cell_type": "code",
   "execution_count": 30,
   "id": "769df39a-5add-4750-976c-fa0128f9cbcb",
   "metadata": {},
   "outputs": [],
   "source": [
    "from sklearn.pipeline import Pipeline\n",
    "from sklearn.impute import SimpleImputer\n",
    "from sklearn.preprocessing import StandardScaler\n",
    "from sklearn.preprocessing import OneHotEncoder\n",
    "from sklearn.compose import ColumnTransformer"
   ]
  },
  {
   "cell_type": "code",
   "execution_count": 31,
   "id": "a2095a09-6eee-4677-83a4-99696ced9040",
   "metadata": {},
   "outputs": [],
   "source": [
    "numerical_pipline = Pipeline (steps = [\n",
    "     \n",
    "    (\"imputer\", SimpleImputer(strategy = \"median\")),\n",
    "    (\"scaler\", StandardScaler())\n",
    "])\n",
    "\n",
    "categorical_pipeline = Pipeline (steps = [\n",
    "     \n",
    "    (\"imputer\", SimpleImputer(strategy = \"most_frequent\")),\n",
    "    (\"encoder\", OneHotEncoder())\n",
    "])"
   ]
  },
  {
   "cell_type": "code",
   "execution_count": 32,
   "id": "23407710-bfbf-4e08-a340-62c0ef1b4409",
   "metadata": {},
   "outputs": [],
   "source": [
    "preprocessor = ColumnTransformer(transformers = [\n",
    "    \n",
    "    (\"numerical_pipline\", numerical_pipline, numerical_features),\n",
    "    (\"categorical_pipeline\", categorical_pipeline, categorical_features)\n",
    "])"
   ]
  },
  {
   "cell_type": "code",
   "execution_count": 33,
   "id": "780cdb70-aaba-4a94-af19-840bf6de2c32",
   "metadata": {},
   "outputs": [],
   "source": [
    "x_train_scaled = preprocessor.fit_transform(x_train)\n",
    "x_test_scaled = preprocessor.transform(x_test)"
   ]
  },
  {
   "cell_type": "code",
   "execution_count": 34,
   "id": "896935b9-6290-4716-a372-df19b47bb0f7",
   "metadata": {},
   "outputs": [
    {
     "data": {
      "text/plain": [
       "array([[ 0.8824047 ,  0.52806002,  0.        , ...,  0.        ,\n",
       "         1.        ,  0.        ],\n",
       "       [-1.07634385, -0.58021409,  1.        , ...,  1.        ,\n",
       "         0.        ,  1.        ],\n",
       "       [-0.52789426, -0.58021409,  1.        , ...,  0.        ,\n",
       "         1.        ,  0.        ],\n",
       "       ...,\n",
       "       [-1.46809357, -1.6884882 ,  1.        , ...,  0.        ,\n",
       "         1.        ,  0.        ],\n",
       "       [ 0.23993518, -0.58021409,  0.        , ...,  0.        ,\n",
       "         1.        ,  0.        ],\n",
       "       [-0.71593412, -0.58021409,  0.        , ...,  0.        ,\n",
       "         1.        ,  0.        ]])"
      ]
     },
     "execution_count": 34,
     "metadata": {},
     "output_type": "execute_result"
    }
   ],
   "source": [
    "x_train_scaled"
   ]
  },
  {
   "cell_type": "code",
   "execution_count": 35,
   "id": "d0e7af74-30e1-47d5-8269-258f27ab5331",
   "metadata": {},
   "outputs": [
    {
     "data": {
      "text/plain": [
       "array([[ 0.21643019,  0.52806002,  0.        ,  1.        ,  1.        ,\n",
       "         0.        ,  0.        ,  1.        ,  0.        ,  0.        ,\n",
       "         1.        ,  0.        ],\n",
       "       [ 3.02135813,  1.63633412,  0.        ,  1.        ,  1.        ,\n",
       "         0.        ,  0.        ,  1.        ,  0.        ,  0.        ,\n",
       "         1.        ,  0.        ],\n",
       "       [ 1.03126959, -0.58021409,  1.        ,  0.        ,  0.        ,\n",
       "         1.        ,  0.        ,  0.        ,  0.        ,  1.        ,\n",
       "         0.        ,  1.        ],\n",
       "       [-1.46809357, -1.6884882 ,  1.        ,  0.        ,  1.        ,\n",
       "         0.        ,  0.        ,  1.        ,  0.        ,  0.        ,\n",
       "         1.        ,  0.        ],\n",
       "       [ 0.8824047 ,  0.52806002,  0.        ,  1.        ,  1.        ,\n",
       "         0.        ,  0.        ,  0.        ,  1.        ,  0.        ,\n",
       "         1.        ,  0.        ],\n",
       "       [-0.29284443, -0.58021409,  0.        ,  1.        ,  1.        ,\n",
       "         0.        ,  0.        ,  0.        ,  1.        ,  0.        ,\n",
       "         1.        ,  0.        ],\n",
       "       [-0.29284443, -0.58021409,  0.        ,  1.        ,  1.        ,\n",
       "         0.        ,  0.        ,  0.        ,  1.        ,  0.        ,\n",
       "         1.        ,  0.        ],\n",
       "       [ 0.49065499,  1.63633412,  0.        ,  1.        ,  1.        ,\n",
       "         0.        ,  0.        ,  0.        ,  1.        ,  0.        ,\n",
       "         1.        ,  0.        ],\n",
       "       [-1.07634385, -0.58021409,  0.        ,  1.        ,  1.        ,\n",
       "         0.        ,  1.        ,  0.        ,  0.        ,  0.        ,\n",
       "         1.        ,  0.        ],\n",
       "       [ 1.66590413, -0.58021409,  0.        ,  1.        ,  0.        ,\n",
       "         1.        ,  0.        ,  0.        ,  0.        ,  1.        ,\n",
       "         0.        ,  1.        ],\n",
       "       [-0.68459414, -0.58021409,  0.        ,  1.        ,  1.        ,\n",
       "         0.        ,  0.        ,  0.        ,  1.        ,  0.        ,\n",
       "         1.        ,  0.        ],\n",
       "       [-0.29284443,  1.63633412,  0.        ,  1.        ,  1.        ,\n",
       "         0.        ,  0.        ,  1.        ,  0.        ,  0.        ,\n",
       "         1.        ,  0.        ],\n",
       "       [ 2.33187864, -0.58021409,  0.        ,  1.        ,  1.        ,\n",
       "         0.        ,  0.        ,  0.        ,  0.        ,  1.        ,\n",
       "         0.        ,  1.        ],\n",
       "       [ 1.79909903,  1.63633412,  1.        ,  0.        ,  1.        ,\n",
       "         0.        ,  0.        ,  0.        ,  0.        ,  1.        ,\n",
       "         0.        ,  1.        ],\n",
       "       [ 1.66590413,  2.74460823,  0.        ,  1.        ,  1.        ,\n",
       "         0.        ,  0.        ,  0.        ,  1.        ,  0.        ,\n",
       "         1.        ,  0.        ],\n",
       "       [ 0.49065499,  0.52806002,  0.        ,  1.        ,  0.        ,\n",
       "         1.        ,  0.        ,  0.        ,  1.        ,  0.        ,\n",
       "         1.        ,  0.        ],\n",
       "       [-0.6140792 , -0.58021409,  0.        ,  1.        ,  0.        ,\n",
       "         1.        ,  0.        ,  1.        ,  0.        ,  0.        ,\n",
       "         1.        ,  0.        ],\n",
       "       [-1.07634385, -0.58021409,  0.        ,  1.        ,  0.        ,\n",
       "         1.        ,  1.        ,  0.        ,  0.        ,  0.        ,\n",
       "         1.        ,  0.        ],\n",
       "       [ 0.41230505, -0.58021409,  0.        ,  1.        ,  1.        ,\n",
       "         0.        ,  0.        ,  0.        ,  0.        ,  1.        ,\n",
       "         0.        ,  1.        ],\n",
       "       [-1.07634385, -0.58021409,  0.        ,  1.        ,  0.        ,\n",
       "         1.        ,  0.        ,  0.        ,  1.        ,  0.        ,\n",
       "         1.        ,  0.        ],\n",
       "       [ 1.66590413, -0.58021409,  0.        ,  1.        ,  1.        ,\n",
       "         0.        ,  0.        ,  0.        ,  1.        ,  0.        ,\n",
       "         1.        ,  0.        ],\n",
       "       [ 1.66590413,  2.74460823,  0.        ,  1.        ,  1.        ,\n",
       "         0.        ,  0.        ,  0.        ,  0.        ,  1.        ,\n",
       "         0.        ,  1.        ],\n",
       "       [ 2.3867236 ,  0.52806002,  0.        ,  1.        ,  1.        ,\n",
       "         0.        ,  0.        ,  1.        ,  0.        ,  0.        ,\n",
       "         1.        ,  0.        ],\n",
       "       [-0.10480457,  0.52806002,  0.        ,  1.        ,  1.        ,\n",
       "         0.        ,  0.        ,  0.        ,  1.        ,  0.        ,\n",
       "         1.        ,  0.        ],\n",
       "       [ 1.03910459,  3.85288233,  1.        ,  0.        ,  1.        ,\n",
       "         0.        ,  0.        ,  0.        ,  0.        ,  1.        ,\n",
       "         0.        ,  1.        ],\n",
       "       [ 0.8824047 ,  1.63633412,  0.        ,  1.        ,  0.        ,\n",
       "         1.        ,  0.        ,  0.        ,  0.        ,  1.        ,\n",
       "         0.        ,  1.        ],\n",
       "       [-0.68459414, -0.58021409,  0.        ,  1.        ,  1.        ,\n",
       "         0.        ,  0.        ,  1.        ,  0.        ,  0.        ,\n",
       "         1.        ,  0.        ],\n",
       "       [ 0.474985  , -0.58021409,  1.        ,  0.        ,  0.        ,\n",
       "         1.        ,  1.        ,  0.        ,  0.        ,  0.        ,\n",
       "         0.        ,  1.        ],\n",
       "       [-0.50438928, -0.58021409,  1.        ,  0.        ,  0.        ,\n",
       "         1.        ,  0.        ,  1.        ,  0.        ,  0.        ,\n",
       "         1.        ,  0.        ],\n",
       "       [-0.67675915, -0.58021409,  1.        ,  0.        ,  0.        ,\n",
       "         1.        ,  0.        ,  0.        ,  0.        ,  1.        ,\n",
       "         0.        ,  1.        ],\n",
       "       [-0.18315451,  0.52806002,  0.        ,  1.        ,  1.        ,\n",
       "         0.        ,  0.        ,  1.        ,  0.        ,  0.        ,\n",
       "         1.        ,  0.        ],\n",
       "       [-1.12335382, -0.58021409,  0.        ,  1.        ,  0.        ,\n",
       "         1.        ,  0.        ,  1.        ,  0.        ,  0.        ,\n",
       "         1.        ,  0.        ],\n",
       "       [ 0.3417901 , -0.58021409,  0.        ,  1.        ,  1.        ,\n",
       "         0.        ,  0.        ,  0.        ,  1.        ,  0.        ,\n",
       "         1.        ,  0.        ],\n",
       "       [-0.68459414,  1.63633412,  0.        ,  1.        ,  0.        ,\n",
       "         1.        ,  0.        ,  1.        ,  0.        ,  0.        ,\n",
       "         1.        ,  0.        ],\n",
       "       [ 0.09890528, -0.58021409,  1.        ,  0.        ,  1.        ,\n",
       "         0.        ,  0.        ,  1.        ,  0.        ,  0.        ,\n",
       "         1.        ,  0.        ],\n",
       "       [ 0.8824047 , -0.58021409,  0.        ,  1.        ,  0.        ,\n",
       "         1.        ,  1.        ,  0.        ,  0.        ,  0.        ,\n",
       "         1.        ,  0.        ],\n",
       "       [ 4.79990182,  1.63633412,  0.        ,  1.        ,  1.        ,\n",
       "         0.        ,  0.        ,  1.        ,  0.        ,  0.        ,\n",
       "         1.        ,  0.        ],\n",
       "       [ 0.49065499, -0.58021409,  1.        ,  0.        ,  1.        ,\n",
       "         0.        ,  0.        ,  0.        ,  0.        ,  1.        ,\n",
       "         0.        ,  1.        ],\n",
       "       [-1.0136639 , -0.58021409,  0.        ,  1.        ,  0.        ,\n",
       "         1.        ,  1.        ,  0.        ,  0.        ,  0.        ,\n",
       "         0.        ,  1.        ],\n",
       "       [-0.26150445, -0.58021409,  0.        ,  1.        ,  1.        ,\n",
       "         0.        ,  0.        ,  0.        ,  1.        ,  0.        ,\n",
       "         1.        ,  0.        ],\n",
       "       [ 0.09890528, -0.58021409,  0.        ,  1.        ,  1.        ,\n",
       "         0.        ,  0.        ,  1.        ,  0.        ,  0.        ,\n",
       "         1.        ,  0.        ],\n",
       "       [-0.68459414, -0.58021409,  1.        ,  0.        ,  1.        ,\n",
       "         0.        ,  0.        ,  0.        ,  0.        ,  1.        ,\n",
       "         0.        ,  1.        ],\n",
       "       [ 0.49065499,  0.52806002,  1.        ,  0.        ,  0.        ,\n",
       "         1.        ,  0.        ,  0.        ,  1.        ,  0.        ,\n",
       "         1.        ,  0.        ],\n",
       "       [ 1.40734932,  0.52806002,  1.        ,  0.        ,  1.        ,\n",
       "         0.        ,  0.        ,  1.        ,  0.        ,  0.        ,\n",
       "         1.        ,  0.        ],\n",
       "       [-1.27221871, -0.58021409,  0.        ,  1.        ,  1.        ,\n",
       "         0.        ,  0.        ,  1.        ,  0.        ,  0.        ,\n",
       "         1.        ,  0.        ],\n",
       "       [ 2.84115326,  0.52806002,  1.        ,  0.        ,  0.        ,\n",
       "         1.        ,  0.        ,  1.        ,  0.        ,  0.        ,\n",
       "         1.        ,  0.        ],\n",
       "       [ 0.37313008,  0.52806002,  0.        ,  1.        ,  1.        ,\n",
       "         0.        ,  0.        ,  1.        ,  0.        ,  0.        ,\n",
       "         1.        ,  0.        ],\n",
       "       [-0.68459414,  0.52806002,  0.        ,  1.        ,  0.        ,\n",
       "         1.        ,  0.        ,  1.        ,  0.        ,  0.        ,\n",
       "         1.        ,  0.        ],\n",
       "       [-0.70026413, -0.58021409,  0.        ,  1.        ,  0.        ,\n",
       "         1.        ,  0.        ,  1.        ,  0.        ,  0.        ,\n",
       "         1.        ,  0.        ],\n",
       "       [ 0.09890528, -0.58021409,  1.        ,  0.        ,  1.        ,\n",
       "         0.        ,  0.        ,  1.        ,  0.        ,  0.        ,\n",
       "         1.        ,  0.        ],\n",
       "       [ 0.14591525, -0.58021409,  0.        ,  1.        ,  1.        ,\n",
       "         0.        ,  0.        ,  0.        ,  1.        ,  0.        ,\n",
       "         1.        ,  0.        ],\n",
       "       [ 0.49065499, -0.58021409,  1.        ,  0.        ,  1.        ,\n",
       "         0.        ,  0.        ,  0.        ,  1.        ,  0.        ,\n",
       "         1.        ,  0.        ],\n",
       "       [ 0.474985  ,  0.52806002,  0.        ,  1.        ,  1.        ,\n",
       "         0.        ,  0.        ,  0.        ,  1.        ,  0.        ,\n",
       "         1.        ,  0.        ],\n",
       "       [-0.7472741 , -1.6884882 ,  0.        ,  1.        ,  0.        ,\n",
       "         1.        ,  1.        ,  0.        ,  0.        ,  0.        ,\n",
       "         0.        ,  1.        ],\n",
       "       [-0.64541917,  0.52806002,  0.        ,  1.        ,  1.        ,\n",
       "         0.        ,  0.        ,  0.        ,  1.        ,  0.        ,\n",
       "         1.        ,  0.        ],\n",
       "       [-1.09984884, -0.58021409,  0.        ,  1.        ,  1.        ,\n",
       "         0.        ,  0.        ,  1.        ,  0.        ,  0.        ,\n",
       "         1.        ,  0.        ],\n",
       "       [ 3.68733264,  1.63633412,  0.        ,  1.        ,  1.        ,\n",
       "         0.        ,  0.        ,  1.        ,  0.        ,  0.        ,\n",
       "         1.        ,  0.        ],\n",
       "       [-0.68459414, -0.58021409,  1.        ,  0.        ,  1.        ,\n",
       "         0.        ,  0.        ,  0.        ,  0.        ,  1.        ,\n",
       "         0.        ,  1.        ],\n",
       "       [ 0.49848999, -0.58021409,  0.        ,  1.        ,  1.        ,\n",
       "         0.        ,  0.        ,  0.        ,  1.        ,  0.        ,\n",
       "         1.        ,  0.        ],\n",
       "       [-0.50438928, -0.58021409,  1.        ,  0.        ,  1.        ,\n",
       "         0.        ,  0.        ,  1.        ,  0.        ,  0.        ,\n",
       "         1.        ,  0.        ],\n",
       "       [ 1.82260401,  1.63633412,  1.        ,  0.        ,  1.        ,\n",
       "         0.        ,  0.        ,  0.        ,  1.        ,  0.        ,\n",
       "         1.        ,  0.        ],\n",
       "       [ 1.66590413,  3.85288233,  0.        ,  1.        ,  1.        ,\n",
       "         0.        ,  0.        ,  0.        ,  1.        ,  0.        ,\n",
       "         1.        ,  0.        ],\n",
       "       [-0.09696958, -0.58021409,  1.        ,  0.        ,  1.        ,\n",
       "         0.        ,  0.        ,  0.        ,  0.        ,  1.        ,\n",
       "         0.        ,  1.        ],\n",
       "       [ 0.68652985,  1.63633412,  1.        ,  0.        ,  1.        ,\n",
       "         0.        ,  0.        ,  0.        ,  1.        ,  0.        ,\n",
       "         1.        ,  0.        ],\n",
       "       [ 1.66590413,  1.63633412,  1.        ,  0.        ,  1.        ,\n",
       "         0.        ,  0.        ,  0.        ,  1.        ,  0.        ,\n",
       "         1.        ,  0.        ],\n",
       "       [ 0.81972475, -0.58021409,  0.        ,  1.        ,  1.        ,\n",
       "         0.        ,  0.        ,  0.        ,  1.        ,  0.        ,\n",
       "         1.        ,  0.        ],\n",
       "       [ 0.09890528, -0.58021409,  1.        ,  0.        ,  0.        ,\n",
       "         1.        ,  1.        ,  0.        ,  0.        ,  0.        ,\n",
       "         1.        ,  0.        ],\n",
       "       [-0.41820434,  1.63633412,  0.        ,  1.        ,  1.        ,\n",
       "         0.        ,  0.        ,  1.        ,  0.        ,  0.        ,\n",
       "         1.        ,  0.        ],\n",
       "       [-0.99015892, -0.58021409,  1.        ,  0.        ,  0.        ,\n",
       "         1.        ,  0.        ,  1.        ,  0.        ,  0.        ,\n",
       "         1.        ,  0.        ],\n",
       "       [-1.07634385, -0.58021409,  1.        ,  0.        ,  1.        ,\n",
       "         0.        ,  0.        ,  0.        ,  0.        ,  1.        ,\n",
       "         0.        ,  1.        ],\n",
       "       [ 0.22426519, -0.58021409,  0.        ,  1.        ,  0.        ,\n",
       "         1.        ,  0.        ,  1.        ,  0.        ,  0.        ,\n",
       "         1.        ,  0.        ],\n",
       "       [ 0.15375024,  0.52806002,  1.        ,  0.        ,  1.        ,\n",
       "         0.        ,  0.        ,  1.        ,  0.        ,  0.        ,\n",
       "         1.        ,  0.        ],\n",
       "       [-0.27717444, -0.58021409,  1.        ,  0.        ,  1.        ,\n",
       "         0.        ,  0.        ,  0.        ,  0.        ,  1.        ,\n",
       "         0.        ,  1.        ],\n",
       "       [-0.68459414, -0.58021409,  0.        ,  1.        ,  1.        ,\n",
       "         0.        ,  0.        ,  0.        ,  1.        ,  0.        ,\n",
       "         1.        ,  0.        ]])"
      ]
     },
     "execution_count": 35,
     "metadata": {},
     "output_type": "execute_result"
    }
   ],
   "source": [
    "x_test_scaled"
   ]
  },
  {
   "cell_type": "markdown",
   "id": "064575b0-c418-4f2e-ab19-6586b6572ae1",
   "metadata": {},
   "source": [
    "### Step-04: Import RandomForestRegressor from sklearn.ensemble"
   ]
  },
  {
   "cell_type": "code",
   "execution_count": 36,
   "id": "cce5d841-dab7-43d0-b1bb-51ec97dd2537",
   "metadata": {},
   "outputs": [],
   "source": [
    "from sklearn.ensemble import RandomForestRegressor\n",
    "from sklearn.linear_model import LinearRegression\n",
    "from sklearn.tree import DecisionTreeRegressor\n",
    "from sklearn.svm import SVR"
   ]
  },
  {
   "cell_type": "code",
   "execution_count": 37,
   "id": "266fca09-bd50-4812-b153-6668ee006c9c",
   "metadata": {},
   "outputs": [],
   "source": [
    "models = {\n",
    "    \"Random_Forest\": RandomForestRegressor(),\n",
    "    \"Linear_Regression\": LinearRegression(),\n",
    "    \"Decision_Tree_Regressor\": DecisionTreeRegressor(),\n",
    "    \"Support_Vector_Regressor\": SVR()\n",
    "}"
   ]
  },
  {
   "cell_type": "markdown",
   "id": "9608aa90-2de2-4a28-b13c-bde052a973d0",
   "metadata": {},
   "source": [
    "### Step-05: Import r2_score from sklearn.metrics"
   ]
  },
  {
   "cell_type": "code",
   "execution_count": 38,
   "id": "4d834560-0f89-4467-b392-db9e62a55d29",
   "metadata": {},
   "outputs": [],
   "source": [
    "from sklearn.metrics import r2_score"
   ]
  },
  {
   "cell_type": "code",
   "execution_count": 39,
   "id": "ac414923-084f-4d03-939e-ffe0aeef116e",
   "metadata": {},
   "outputs": [],
   "source": [
    "def evaluate_models(x_train, x_test, y_train, y_test, models):\n",
    "    report = {}\n",
    "    for i in range(0,len(models)):\n",
    "        model = list(models.values())[i]\n",
    "        model.fit(x_train,y_train)\n",
    "        y_pred = model.predict(x_test)\n",
    "        accuracy = r2_score(y_test, y_pred)\n",
    "        report[list(models.keys())[i]] = accuracy\n",
    "    return report"
   ]
  },
  {
   "cell_type": "code",
   "execution_count": 40,
   "id": "0a857128-3789-47db-8322-c714b85fe83c",
   "metadata": {},
   "outputs": [
    {
     "data": {
      "text/plain": [
       "{'Random_Forest': 0.6246774652528762,\n",
       " 'Linear_Regression': 0.661237136402572,\n",
       " 'Decision_Tree_Regressor': 0.48135737029680514,\n",
       " 'Support_Vector_Regressor': 0.3764371693655191}"
      ]
     },
     "execution_count": 40,
     "metadata": {},
     "output_type": "execute_result"
    }
   ],
   "source": [
    "evaluate_models(x_train_scaled, x_test_scaled, y_train, y_test, models)"
   ]
  },
  {
   "cell_type": "markdown",
   "id": "8124a8cb-15dc-478b-8e03-bd9d273dabd1",
   "metadata": {},
   "source": [
    "### Step-06: Import RandomizedSearchCV from sklearn.model_selection"
   ]
  },
  {
   "cell_type": "code",
   "execution_count": 41,
   "id": "35ef2305-e124-4069-b449-2511d227315a",
   "metadata": {},
   "outputs": [],
   "source": [
    "from sklearn.model_selection import RandomizedSearchCV"
   ]
  },
  {
   "cell_type": "code",
   "execution_count": 42,
   "id": "e4569311-76e1-425d-bcf1-2c6afe7c3da3",
   "metadata": {},
   "outputs": [],
   "source": [
    "random_forest = RandomForestRegressor()"
   ]
  },
  {
   "cell_type": "code",
   "execution_count": 43,
   "id": "dfdc8746-b461-41d1-ba43-9fd71c9b0428",
   "metadata": {},
   "outputs": [],
   "source": [
    "parameters = {\n",
    "    \"max_depth\": [3, 5, 10, None],\n",
    "    \"criterion\": [\"squared_error\", \"absolute_error\", \"friedman_mse\", \"poisson\"],\n",
    "    \"n_estimators\": [100, 200, 300]\n",
    "}"
   ]
  },
  {
   "cell_type": "code",
   "execution_count": 44,
   "id": "305692ad-747c-4f1d-849d-f5622375cd42",
   "metadata": {},
   "outputs": [],
   "source": [
    "randomized_cv = RandomizedSearchCV(random_forest, param_distributions = parameters, cv = 5, verbose = 3)"
   ]
  },
  {
   "cell_type": "code",
   "execution_count": 45,
   "id": "9e734316-b8cd-48bd-a79d-237589d6a1fa",
   "metadata": {},
   "outputs": [
    {
     "name": "stdout",
     "output_type": "stream",
     "text": [
      "Fitting 5 folds for each of 10 candidates, totalling 50 fits\n",
      "[CV 1/5] END criterion=poisson, max_depth=10, n_estimators=300;, score=0.242 total time=   0.6s\n",
      "[CV 2/5] END criterion=poisson, max_depth=10, n_estimators=300;, score=0.438 total time=   0.6s\n",
      "[CV 3/5] END criterion=poisson, max_depth=10, n_estimators=300;, score=0.259 total time=   0.6s\n",
      "[CV 4/5] END criterion=poisson, max_depth=10, n_estimators=300;, score=0.090 total time=   0.6s\n",
      "[CV 5/5] END criterion=poisson, max_depth=10, n_estimators=300;, score=0.530 total time=   0.6s\n",
      "[CV 1/5] END criterion=poisson, max_depth=None, n_estimators=200;, score=0.269 total time=   0.4s\n",
      "[CV 2/5] END criterion=poisson, max_depth=None, n_estimators=200;, score=0.469 total time=   0.4s\n",
      "[CV 3/5] END criterion=poisson, max_depth=None, n_estimators=200;, score=0.281 total time=   0.4s\n",
      "[CV 4/5] END criterion=poisson, max_depth=None, n_estimators=200;, score=0.074 total time=   0.4s\n",
      "[CV 5/5] END criterion=poisson, max_depth=None, n_estimators=200;, score=0.520 total time=   0.4s\n",
      "[CV 1/5] END criterion=squared_error, max_depth=3, n_estimators=100;, score=0.381 total time=   0.2s\n",
      "[CV 2/5] END criterion=squared_error, max_depth=3, n_estimators=100;, score=0.462 total time=   0.2s\n",
      "[CV 3/5] END criterion=squared_error, max_depth=3, n_estimators=100;, score=0.303 total time=   0.2s\n",
      "[CV 4/5] END criterion=squared_error, max_depth=3, n_estimators=100;, score=0.002 total time=   0.2s\n",
      "[CV 5/5] END criterion=squared_error, max_depth=3, n_estimators=100;, score=0.596 total time=   0.2s\n",
      "[CV 1/5] END criterion=squared_error, max_depth=3, n_estimators=200;, score=0.369 total time=   0.3s\n",
      "[CV 2/5] END criterion=squared_error, max_depth=3, n_estimators=200;, score=0.490 total time=   0.3s\n",
      "[CV 3/5] END criterion=squared_error, max_depth=3, n_estimators=200;, score=0.307 total time=   0.3s\n",
      "[CV 4/5] END criterion=squared_error, max_depth=3, n_estimators=200;, score=0.055 total time=   0.3s\n",
      "[CV 5/5] END criterion=squared_error, max_depth=3, n_estimators=200;, score=0.577 total time=   0.3s\n",
      "[CV 1/5] END criterion=absolute_error, max_depth=3, n_estimators=100;, score=0.325 total time=   0.3s\n",
      "[CV 2/5] END criterion=absolute_error, max_depth=3, n_estimators=100;, score=0.490 total time=   0.3s\n",
      "[CV 3/5] END criterion=absolute_error, max_depth=3, n_estimators=100;, score=0.318 total time=   0.3s\n",
      "[CV 4/5] END criterion=absolute_error, max_depth=3, n_estimators=100;, score=0.088 total time=   0.3s\n",
      "[CV 5/5] END criterion=absolute_error, max_depth=3, n_estimators=100;, score=0.660 total time=   0.3s\n",
      "[CV 1/5] END criterion=poisson, max_depth=5, n_estimators=200;, score=0.276 total time=   0.4s\n",
      "[CV 2/5] END criterion=poisson, max_depth=5, n_estimators=200;, score=0.459 total time=   0.4s\n",
      "[CV 3/5] END criterion=poisson, max_depth=5, n_estimators=200;, score=0.305 total time=   0.4s\n",
      "[CV 4/5] END criterion=poisson, max_depth=5, n_estimators=200;, score=0.090 total time=   0.4s\n",
      "[CV 5/5] END criterion=poisson, max_depth=5, n_estimators=200;, score=0.533 total time=   0.4s\n",
      "[CV 1/5] END criterion=friedman_mse, max_depth=3, n_estimators=300;, score=0.368 total time=   0.5s\n",
      "[CV 2/5] END criterion=friedman_mse, max_depth=3, n_estimators=300;, score=0.469 total time=   0.5s\n",
      "[CV 3/5] END criterion=friedman_mse, max_depth=3, n_estimators=300;, score=0.299 total time=   0.5s\n",
      "[CV 4/5] END criterion=friedman_mse, max_depth=3, n_estimators=300;, score=0.050 total time=   0.5s\n",
      "[CV 5/5] END criterion=friedman_mse, max_depth=3, n_estimators=300;, score=0.607 total time=   0.5s\n",
      "[CV 1/5] END criterion=absolute_error, max_depth=None, n_estimators=100;, score=0.308 total time=   0.4s\n",
      "[CV 2/5] END criterion=absolute_error, max_depth=None, n_estimators=100;, score=0.434 total time=   0.4s\n",
      "[CV 3/5] END criterion=absolute_error, max_depth=None, n_estimators=100;, score=0.295 total time=   0.4s\n",
      "[CV 4/5] END criterion=absolute_error, max_depth=None, n_estimators=100;, score=0.150 total time=   0.4s\n",
      "[CV 5/5] END criterion=absolute_error, max_depth=None, n_estimators=100;, score=0.543 total time=   0.4s\n",
      "[CV 1/5] END criterion=friedman_mse, max_depth=None, n_estimators=200;, score=0.294 total time=   0.4s\n",
      "[CV 2/5] END criterion=friedman_mse, max_depth=None, n_estimators=200;, score=0.448 total time=   0.4s\n",
      "[CV 3/5] END criterion=friedman_mse, max_depth=None, n_estimators=200;, score=0.258 total time=   0.4s\n",
      "[CV 4/5] END criterion=friedman_mse, max_depth=None, n_estimators=200;, score=0.106 total time=   0.4s\n",
      "[CV 5/5] END criterion=friedman_mse, max_depth=None, n_estimators=200;, score=0.526 total time=   0.4s\n",
      "[CV 1/5] END criterion=squared_error, max_depth=5, n_estimators=100;, score=0.295 total time=   0.2s\n",
      "[CV 2/5] END criterion=squared_error, max_depth=5, n_estimators=100;, score=0.463 total time=   0.2s\n",
      "[CV 3/5] END criterion=squared_error, max_depth=5, n_estimators=100;, score=0.292 total time=   0.2s\n",
      "[CV 4/5] END criterion=squared_error, max_depth=5, n_estimators=100;, score=0.129 total time=   0.2s\n",
      "[CV 5/5] END criterion=squared_error, max_depth=5, n_estimators=100;, score=0.512 total time=   0.2s\n"
     ]
    },
    {
     "data": {
      "text/html": [
       "<style>#sk-container-id-1 {color: black;background-color: white;}#sk-container-id-1 pre{padding: 0;}#sk-container-id-1 div.sk-toggleable {background-color: white;}#sk-container-id-1 label.sk-toggleable__label {cursor: pointer;display: block;width: 100%;margin-bottom: 0;padding: 0.3em;box-sizing: border-box;text-align: center;}#sk-container-id-1 label.sk-toggleable__label-arrow:before {content: \"▸\";float: left;margin-right: 0.25em;color: #696969;}#sk-container-id-1 label.sk-toggleable__label-arrow:hover:before {color: black;}#sk-container-id-1 div.sk-estimator:hover label.sk-toggleable__label-arrow:before {color: black;}#sk-container-id-1 div.sk-toggleable__content {max-height: 0;max-width: 0;overflow: hidden;text-align: left;background-color: #f0f8ff;}#sk-container-id-1 div.sk-toggleable__content pre {margin: 0.2em;color: black;border-radius: 0.25em;background-color: #f0f8ff;}#sk-container-id-1 input.sk-toggleable__control:checked~div.sk-toggleable__content {max-height: 200px;max-width: 100%;overflow: auto;}#sk-container-id-1 input.sk-toggleable__control:checked~label.sk-toggleable__label-arrow:before {content: \"▾\";}#sk-container-id-1 div.sk-estimator input.sk-toggleable__control:checked~label.sk-toggleable__label {background-color: #d4ebff;}#sk-container-id-1 div.sk-label input.sk-toggleable__control:checked~label.sk-toggleable__label {background-color: #d4ebff;}#sk-container-id-1 input.sk-hidden--visually {border: 0;clip: rect(1px 1px 1px 1px);clip: rect(1px, 1px, 1px, 1px);height: 1px;margin: -1px;overflow: hidden;padding: 0;position: absolute;width: 1px;}#sk-container-id-1 div.sk-estimator {font-family: monospace;background-color: #f0f8ff;border: 1px dotted black;border-radius: 0.25em;box-sizing: border-box;margin-bottom: 0.5em;}#sk-container-id-1 div.sk-estimator:hover {background-color: #d4ebff;}#sk-container-id-1 div.sk-parallel-item::after {content: \"\";width: 100%;border-bottom: 1px solid gray;flex-grow: 1;}#sk-container-id-1 div.sk-label:hover label.sk-toggleable__label {background-color: #d4ebff;}#sk-container-id-1 div.sk-serial::before {content: \"\";position: absolute;border-left: 1px solid gray;box-sizing: border-box;top: 0;bottom: 0;left: 50%;z-index: 0;}#sk-container-id-1 div.sk-serial {display: flex;flex-direction: column;align-items: center;background-color: white;padding-right: 0.2em;padding-left: 0.2em;position: relative;}#sk-container-id-1 div.sk-item {position: relative;z-index: 1;}#sk-container-id-1 div.sk-parallel {display: flex;align-items: stretch;justify-content: center;background-color: white;position: relative;}#sk-container-id-1 div.sk-item::before, #sk-container-id-1 div.sk-parallel-item::before {content: \"\";position: absolute;border-left: 1px solid gray;box-sizing: border-box;top: 0;bottom: 0;left: 50%;z-index: -1;}#sk-container-id-1 div.sk-parallel-item {display: flex;flex-direction: column;z-index: 1;position: relative;background-color: white;}#sk-container-id-1 div.sk-parallel-item:first-child::after {align-self: flex-end;width: 50%;}#sk-container-id-1 div.sk-parallel-item:last-child::after {align-self: flex-start;width: 50%;}#sk-container-id-1 div.sk-parallel-item:only-child::after {width: 0;}#sk-container-id-1 div.sk-dashed-wrapped {border: 1px dashed gray;margin: 0 0.4em 0.5em 0.4em;box-sizing: border-box;padding-bottom: 0.4em;background-color: white;}#sk-container-id-1 div.sk-label label {font-family: monospace;font-weight: bold;display: inline-block;line-height: 1.2em;}#sk-container-id-1 div.sk-label-container {text-align: center;}#sk-container-id-1 div.sk-container {/* jupyter's `normalize.less` sets `[hidden] { display: none; }` but bootstrap.min.css set `[hidden] { display: none !important; }` so we also need the `!important` here to be able to override the default hidden behavior on the sphinx rendered scikit-learn.org. See: https://github.com/scikit-learn/scikit-learn/issues/21755 */display: inline-block !important;position: relative;}#sk-container-id-1 div.sk-text-repr-fallback {display: none;}</style><div id=\"sk-container-id-1\" class=\"sk-top-container\"><div class=\"sk-text-repr-fallback\"><pre>RandomizedSearchCV(cv=5, estimator=RandomForestRegressor(),\n",
       "                   param_distributions={&#x27;criterion&#x27;: [&#x27;squared_error&#x27;,\n",
       "                                                      &#x27;absolute_error&#x27;,\n",
       "                                                      &#x27;friedman_mse&#x27;,\n",
       "                                                      &#x27;poisson&#x27;],\n",
       "                                        &#x27;max_depth&#x27;: [3, 5, 10, None],\n",
       "                                        &#x27;n_estimators&#x27;: [100, 200, 300]},\n",
       "                   verbose=3)</pre><b>In a Jupyter environment, please rerun this cell to show the HTML representation or trust the notebook. <br />On GitHub, the HTML representation is unable to render, please try loading this page with nbviewer.org.</b></div><div class=\"sk-container\" hidden><div class=\"sk-item sk-dashed-wrapped\"><div class=\"sk-label-container\"><div class=\"sk-label sk-toggleable\"><input class=\"sk-toggleable__control sk-hidden--visually\" id=\"sk-estimator-id-1\" type=\"checkbox\" ><label for=\"sk-estimator-id-1\" class=\"sk-toggleable__label sk-toggleable__label-arrow\">RandomizedSearchCV</label><div class=\"sk-toggleable__content\"><pre>RandomizedSearchCV(cv=5, estimator=RandomForestRegressor(),\n",
       "                   param_distributions={&#x27;criterion&#x27;: [&#x27;squared_error&#x27;,\n",
       "                                                      &#x27;absolute_error&#x27;,\n",
       "                                                      &#x27;friedman_mse&#x27;,\n",
       "                                                      &#x27;poisson&#x27;],\n",
       "                                        &#x27;max_depth&#x27;: [3, 5, 10, None],\n",
       "                                        &#x27;n_estimators&#x27;: [100, 200, 300]},\n",
       "                   verbose=3)</pre></div></div></div><div class=\"sk-parallel\"><div class=\"sk-parallel-item\"><div class=\"sk-item\"><div class=\"sk-label-container\"><div class=\"sk-label sk-toggleable\"><input class=\"sk-toggleable__control sk-hidden--visually\" id=\"sk-estimator-id-2\" type=\"checkbox\" ><label for=\"sk-estimator-id-2\" class=\"sk-toggleable__label sk-toggleable__label-arrow\">estimator: RandomForestRegressor</label><div class=\"sk-toggleable__content\"><pre>RandomForestRegressor()</pre></div></div></div><div class=\"sk-serial\"><div class=\"sk-item\"><div class=\"sk-estimator sk-toggleable\"><input class=\"sk-toggleable__control sk-hidden--visually\" id=\"sk-estimator-id-3\" type=\"checkbox\" ><label for=\"sk-estimator-id-3\" class=\"sk-toggleable__label sk-toggleable__label-arrow\">RandomForestRegressor</label><div class=\"sk-toggleable__content\"><pre>RandomForestRegressor()</pre></div></div></div></div></div></div></div></div></div></div>"
      ],
      "text/plain": [
       "RandomizedSearchCV(cv=5, estimator=RandomForestRegressor(),\n",
       "                   param_distributions={'criterion': ['squared_error',\n",
       "                                                      'absolute_error',\n",
       "                                                      'friedman_mse',\n",
       "                                                      'poisson'],\n",
       "                                        'max_depth': [3, 5, 10, None],\n",
       "                                        'n_estimators': [100, 200, 300]},\n",
       "                   verbose=3)"
      ]
     },
     "execution_count": 45,
     "metadata": {},
     "output_type": "execute_result"
    }
   ],
   "source": [
    "randomized_cv.fit(x_train_scaled, y_train)"
   ]
  },
  {
   "cell_type": "code",
   "execution_count": 46,
   "id": "21fa2394-fe36-4ac6-a506-1cee393c51d6",
   "metadata": {},
   "outputs": [
    {
     "data": {
      "text/plain": [
       "{'n_estimators': 100, 'max_depth': 3, 'criterion': 'absolute_error'}"
      ]
     },
     "execution_count": 46,
     "metadata": {},
     "output_type": "execute_result"
    }
   ],
   "source": [
    "randomized_cv.best_params_"
   ]
  },
  {
   "cell_type": "code",
   "execution_count": 47,
   "id": "6bc111ea-9881-48cf-981d-63d971793882",
   "metadata": {},
   "outputs": [
    {
     "data": {
      "text/plain": [
       "0.37620905565748186"
      ]
     },
     "execution_count": 47,
     "metadata": {},
     "output_type": "execute_result"
    }
   ],
   "source": [
    "randomized_cv.best_score_"
   ]
  },
  {
   "cell_type": "code",
   "execution_count": 48,
   "id": "049ecf8d-127c-43fd-9678-f0978fe4a358",
   "metadata": {},
   "outputs": [],
   "source": [
    "y_pred = randomized_cv.predict(x_test_scaled)"
   ]
  },
  {
   "cell_type": "code",
   "execution_count": 49,
   "id": "1ba52f32-042d-4481-b4ef-6563c2f945e0",
   "metadata": {},
   "outputs": [
    {
     "data": {
      "text/plain": [
       "array([19.42195, 29.6329 , 19.7951 ,  9.5761 , 19.4864 , 15.6485 ,\n",
       "       15.6485 , 26.27975, 11.71795, 21.36575, 13.84745, 22.8087 ,\n",
       "       20.55185, 29.36655, 28.9673 , 19.85085, 15.61255, 11.77035,\n",
       "       19.1963 , 11.75545, 21.00705, 29.314  , 21.44   , 19.3265 ,\n",
       "       26.37395, 28.54575, 13.9605 , 19.60805, 15.6749 , 15.07505,\n",
       "       18.56105, 11.45925, 19.3283 , 24.37355, 19.0621 , 19.6191 ,\n",
       "       32.31355, 19.18905, 12.00195, 16.5954 , 19.1424 , 13.624  ,\n",
       "       19.77055, 22.0637 , 11.40685, 21.6683 , 19.49315, 17.92135,\n",
       "       13.45905, 19.0621 , 19.17725, 19.36615, 19.60105, 12.32275,\n",
       "       17.03375, 11.40685, 29.6329 , 13.624  , 19.44645, 15.644  ,\n",
       "       28.91405, 28.9673 , 18.08175, 26.2018 , 28.93125, 19.3318 ,\n",
       "       19.38425, 21.71815, 12.3651 , 11.7658 , 19.51715, 19.2218 ,\n",
       "       15.46095, 13.84745])"
      ]
     },
     "execution_count": 49,
     "metadata": {},
     "output_type": "execute_result"
    }
   ],
   "source": [
    "y_pred"
   ]
  },
  {
   "cell_type": "code",
   "execution_count": 50,
   "id": "19967f9d-256a-4060-b909-f7d4c5fc8aea",
   "metadata": {},
   "outputs": [
    {
     "name": "stdout",
     "output_type": "stream",
     "text": [
      "Accuracy: 0.5285978685107495\n"
     ]
    }
   ],
   "source": [
    "print(\"Accuracy: {}\" .format(r2_score(y_test, y_pred)))"
   ]
  },
  {
   "cell_type": "code",
   "execution_count": 51,
   "id": "93ccc080-8c2d-45f1-8b45-9bc132b6ddfe",
   "metadata": {},
   "outputs": [],
   "source": [
    "random_forest = RandomForestRegressor(n_estimators = 300, max_depth = 3, criterion = \"friedman_mse\")"
   ]
  },
  {
   "cell_type": "code",
   "execution_count": 52,
   "id": "c06f5b43-22aa-4b4e-9a1f-3ea25686b2a6",
   "metadata": {},
   "outputs": [
    {
     "data": {
      "text/html": [
       "<style>#sk-container-id-2 {color: black;background-color: white;}#sk-container-id-2 pre{padding: 0;}#sk-container-id-2 div.sk-toggleable {background-color: white;}#sk-container-id-2 label.sk-toggleable__label {cursor: pointer;display: block;width: 100%;margin-bottom: 0;padding: 0.3em;box-sizing: border-box;text-align: center;}#sk-container-id-2 label.sk-toggleable__label-arrow:before {content: \"▸\";float: left;margin-right: 0.25em;color: #696969;}#sk-container-id-2 label.sk-toggleable__label-arrow:hover:before {color: black;}#sk-container-id-2 div.sk-estimator:hover label.sk-toggleable__label-arrow:before {color: black;}#sk-container-id-2 div.sk-toggleable__content {max-height: 0;max-width: 0;overflow: hidden;text-align: left;background-color: #f0f8ff;}#sk-container-id-2 div.sk-toggleable__content pre {margin: 0.2em;color: black;border-radius: 0.25em;background-color: #f0f8ff;}#sk-container-id-2 input.sk-toggleable__control:checked~div.sk-toggleable__content {max-height: 200px;max-width: 100%;overflow: auto;}#sk-container-id-2 input.sk-toggleable__control:checked~label.sk-toggleable__label-arrow:before {content: \"▾\";}#sk-container-id-2 div.sk-estimator input.sk-toggleable__control:checked~label.sk-toggleable__label {background-color: #d4ebff;}#sk-container-id-2 div.sk-label input.sk-toggleable__control:checked~label.sk-toggleable__label {background-color: #d4ebff;}#sk-container-id-2 input.sk-hidden--visually {border: 0;clip: rect(1px 1px 1px 1px);clip: rect(1px, 1px, 1px, 1px);height: 1px;margin: -1px;overflow: hidden;padding: 0;position: absolute;width: 1px;}#sk-container-id-2 div.sk-estimator {font-family: monospace;background-color: #f0f8ff;border: 1px dotted black;border-radius: 0.25em;box-sizing: border-box;margin-bottom: 0.5em;}#sk-container-id-2 div.sk-estimator:hover {background-color: #d4ebff;}#sk-container-id-2 div.sk-parallel-item::after {content: \"\";width: 100%;border-bottom: 1px solid gray;flex-grow: 1;}#sk-container-id-2 div.sk-label:hover label.sk-toggleable__label {background-color: #d4ebff;}#sk-container-id-2 div.sk-serial::before {content: \"\";position: absolute;border-left: 1px solid gray;box-sizing: border-box;top: 0;bottom: 0;left: 50%;z-index: 0;}#sk-container-id-2 div.sk-serial {display: flex;flex-direction: column;align-items: center;background-color: white;padding-right: 0.2em;padding-left: 0.2em;position: relative;}#sk-container-id-2 div.sk-item {position: relative;z-index: 1;}#sk-container-id-2 div.sk-parallel {display: flex;align-items: stretch;justify-content: center;background-color: white;position: relative;}#sk-container-id-2 div.sk-item::before, #sk-container-id-2 div.sk-parallel-item::before {content: \"\";position: absolute;border-left: 1px solid gray;box-sizing: border-box;top: 0;bottom: 0;left: 50%;z-index: -1;}#sk-container-id-2 div.sk-parallel-item {display: flex;flex-direction: column;z-index: 1;position: relative;background-color: white;}#sk-container-id-2 div.sk-parallel-item:first-child::after {align-self: flex-end;width: 50%;}#sk-container-id-2 div.sk-parallel-item:last-child::after {align-self: flex-start;width: 50%;}#sk-container-id-2 div.sk-parallel-item:only-child::after {width: 0;}#sk-container-id-2 div.sk-dashed-wrapped {border: 1px dashed gray;margin: 0 0.4em 0.5em 0.4em;box-sizing: border-box;padding-bottom: 0.4em;background-color: white;}#sk-container-id-2 div.sk-label label {font-family: monospace;font-weight: bold;display: inline-block;line-height: 1.2em;}#sk-container-id-2 div.sk-label-container {text-align: center;}#sk-container-id-2 div.sk-container {/* jupyter's `normalize.less` sets `[hidden] { display: none; }` but bootstrap.min.css set `[hidden] { display: none !important; }` so we also need the `!important` here to be able to override the default hidden behavior on the sphinx rendered scikit-learn.org. See: https://github.com/scikit-learn/scikit-learn/issues/21755 */display: inline-block !important;position: relative;}#sk-container-id-2 div.sk-text-repr-fallback {display: none;}</style><div id=\"sk-container-id-2\" class=\"sk-top-container\"><div class=\"sk-text-repr-fallback\"><pre>RandomForestRegressor(criterion=&#x27;friedman_mse&#x27;, max_depth=3, n_estimators=300)</pre><b>In a Jupyter environment, please rerun this cell to show the HTML representation or trust the notebook. <br />On GitHub, the HTML representation is unable to render, please try loading this page with nbviewer.org.</b></div><div class=\"sk-container\" hidden><div class=\"sk-item\"><div class=\"sk-estimator sk-toggleable\"><input class=\"sk-toggleable__control sk-hidden--visually\" id=\"sk-estimator-id-4\" type=\"checkbox\" checked><label for=\"sk-estimator-id-4\" class=\"sk-toggleable__label sk-toggleable__label-arrow\">RandomForestRegressor</label><div class=\"sk-toggleable__content\"><pre>RandomForestRegressor(criterion=&#x27;friedman_mse&#x27;, max_depth=3, n_estimators=300)</pre></div></div></div></div></div>"
      ],
      "text/plain": [
       "RandomForestRegressor(criterion='friedman_mse', max_depth=3, n_estimators=300)"
      ]
     },
     "execution_count": 52,
     "metadata": {},
     "output_type": "execute_result"
    }
   ],
   "source": [
    "random_forest.fit(x_train_scaled, y_train)"
   ]
  },
  {
   "cell_type": "code",
   "execution_count": 53,
   "id": "99f19f19-e121-4062-9e32-8eb3429811d8",
   "metadata": {},
   "outputs": [],
   "source": [
    "y_pred = random_forest.predict(x_test_scaled)"
   ]
  },
  {
   "cell_type": "code",
   "execution_count": 54,
   "id": "c13a2dec-e05a-4eb4-889e-02de5dabc972",
   "metadata": {},
   "outputs": [
    {
     "data": {
      "text/plain": [
       "array([21.02147826, 30.11270101, 20.42846045, 11.75209827, 21.40023327,\n",
       "       16.07562012, 16.07562012, 25.85079468, 13.21103877, 22.2809024 ,\n",
       "       13.89828819, 22.56445776, 20.81133821, 29.94130771, 28.82916034,\n",
       "       22.46199249, 16.54762779, 13.33368282, 20.04417326, 13.41961216,\n",
       "       21.07511774, 29.86771886, 23.55434187, 20.40468243, 26.82107756,\n",
       "       29.25543184, 15.20239486, 20.54535827, 16.60277741, 14.66103001,\n",
       "       20.35550382, 14.43308764, 20.27123382, 25.18973647, 20.07111186,\n",
       "       20.60407221, 36.37051808, 19.81591448, 13.20944573, 17.68413082,\n",
       "       20.27610414, 13.6108342 , 22.39480078, 23.46305379, 14.36288801,\n",
       "       25.06441426, 20.98194585, 19.31423817, 15.15007306, 20.07111186,\n",
       "       20.39945478, 20.04297504, 21.07874939, 12.71645531, 16.83028275,\n",
       "       14.28283562, 30.11270101, 13.6108342 , 20.27123382, 16.37057464,\n",
       "       28.86967142, 28.82916034, 18.90640979, 25.860844  , 28.94634615,\n",
       "       20.04583354, 20.76984213, 20.52633982, 14.93107085, 13.04699816,\n",
       "       21.04388242, 20.84967329, 15.80275031, 13.89828819])"
      ]
     },
     "execution_count": 54,
     "metadata": {},
     "output_type": "execute_result"
    }
   ],
   "source": [
    "y_pred"
   ]
  },
  {
   "cell_type": "code",
   "execution_count": 55,
   "id": "b1accbb4-50dd-4136-a73c-d8c19c81d9fe",
   "metadata": {},
   "outputs": [
    {
     "name": "stdout",
     "output_type": "stream",
     "text": [
      "Accuracy: 0.5683228099829858\n"
     ]
    }
   ],
   "source": [
    "print(\"Accuracy: {}\" .format(r2_score(y_test, y_pred)))"
   ]
  },
  {
   "cell_type": "code",
   "execution_count": null,
   "id": "f51da27f-8032-4d30-b1c7-ff232a781f84",
   "metadata": {},
   "outputs": [],
   "source": []
  }
 ],
 "metadata": {
  "kernelspec": {
   "display_name": "Python 3 (ipykernel)",
   "language": "python",
   "name": "python3"
  },
  "language_info": {
   "codemirror_mode": {
    "name": "ipython",
    "version": 3
   },
   "file_extension": ".py",
   "mimetype": "text/x-python",
   "name": "python",
   "nbconvert_exporter": "python",
   "pygments_lexer": "ipython3",
   "version": "3.10.8"
  }
 },
 "nbformat": 4,
 "nbformat_minor": 5
}
