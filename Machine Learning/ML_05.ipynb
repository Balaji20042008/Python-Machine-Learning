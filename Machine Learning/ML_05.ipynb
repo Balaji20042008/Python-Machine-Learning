{
 "cells": [
  {
   "cell_type": "markdown",
   "id": "2d708fa3-4889-41d8-a9d8-0eb9d9591d2d",
   "metadata": {
    "tags": []
   },
   "source": [
    "## # Machine Learning - Handling Outliers \n",
    "\n",
    "### -> 5 Number Summary\n",
    "\n",
    "1. Minimum - 0% percentile\n",
    "2. Q1 - 25% percentile\n",
    "3. Q2 - Median - 50% percentile\n",
    "4. Q3 - 75% percentile\n",
    "5. Maximum - 100% percentile"
   ]
  },
  {
   "cell_type": "code",
   "execution_count": 1,
   "id": "c2ace11c-37b3-4538-a9f2-14a33d2e75fb",
   "metadata": {},
   "outputs": [],
   "source": [
    "import numpy as np"
   ]
  },
  {
   "cell_type": "code",
   "execution_count": 2,
   "id": "3efcdbbc-0a81-4f39-ae90-4056575dffc3",
   "metadata": {},
   "outputs": [],
   "source": [
    "list_marks = np.array([34, 45, 58, 40, 42, 56, 51, 67, 78, 61, 85, 90, 83, 75, 97, 82, 500, 600])"
   ]
  },
  {
   "cell_type": "code",
   "execution_count": 3,
   "id": "ff7e17f3-2de5-4657-9f99-4e6627ca5ad6",
   "metadata": {},
   "outputs": [],
   "source": [
    "percentile_data = np.percentile(list_marks, [0, 25, 50, 75, 100])"
   ]
  },
  {
   "cell_type": "code",
   "execution_count": 4,
   "id": "122745fa-8274-4238-8a7c-42fae30c6782",
   "metadata": {},
   "outputs": [],
   "source": [
    "percentile_data = np.quantile(list_marks, [0.00, 0.25, 0.50, 0.75, 1.00])"
   ]
  },
  {
   "cell_type": "code",
   "execution_count": 5,
   "id": "96518a9e-5b7f-4ba5-8fdb-b6c391db2bb2",
   "metadata": {},
   "outputs": [],
   "source": [
    "mini = percentile_data[0]\n",
    "q1 = percentile_data[1]\n",
    "q2 = percentile_data[2]\n",
    "q3 = percentile_data[3]\n",
    "maxi = percentile_data[4]"
   ]
  },
  {
   "cell_type": "code",
   "execution_count": 6,
   "id": "f59272e6-62e2-4b4f-9cb6-fa1781da99e8",
   "metadata": {},
   "outputs": [],
   "source": [
    "iqr = q3 - q1"
   ]
  },
  {
   "cell_type": "code",
   "execution_count": 7,
   "id": "88801f8c-7745-4d43-9327-3666f14771fb",
   "metadata": {},
   "outputs": [],
   "source": [
    "lower_fence = q1 - 1.5 * iqr\n",
    "upper_fence = q3 + 1.5 * iqr"
   ]
  },
  {
   "cell_type": "code",
   "execution_count": 8,
   "id": "b0c026bc-05c6-4fe8-a0c9-74f391a7b732",
   "metadata": {},
   "outputs": [
    {
     "name": "stdout",
     "output_type": "stream",
     "text": [
      "lower_fence: 3.875\n",
      "upper_fence: 132.875\n"
     ]
    }
   ],
   "source": [
    "print(\"lower_fence: \" + str(lower_fence))\n",
    "print(\"upper_fence: \" + str(upper_fence))"
   ]
  },
  {
   "cell_type": "code",
   "execution_count": 16,
   "id": "ce525547-bf7a-419b-8221-470e350db8f0",
   "metadata": {},
   "outputs": [],
   "source": [
    "outliers = []\n",
    "data_marks = []\n",
    "\n",
    "for i in list_marks:\n",
    "    if i < lower_fence or i > upper_fence:\n",
    "        outliers.append(i)\n",
    "    else:\n",
    "        data_marks.append(i)"
   ]
  },
  {
   "cell_type": "code",
   "execution_count": 17,
   "id": "7593609f-db82-452d-8455-1a015a371443",
   "metadata": {},
   "outputs": [
    {
     "data": {
      "text/plain": [
       "[500, 600]"
      ]
     },
     "execution_count": 17,
     "metadata": {},
     "output_type": "execute_result"
    }
   ],
   "source": [
    "outliers"
   ]
  },
  {
   "cell_type": "code",
   "execution_count": 18,
   "id": "f99d9fd0-e330-4ae8-8d19-a0f1a45ffbde",
   "metadata": {},
   "outputs": [
    {
     "data": {
      "text/plain": [
       "[34, 45, 58, 40, 42, 56, 51, 67, 78, 61, 85, 90, 83, 75, 97, 82]"
      ]
     },
     "execution_count": 18,
     "metadata": {},
     "output_type": "execute_result"
    }
   ],
   "source": [
    "data_marks"
   ]
  },
  {
   "cell_type": "markdown",
   "id": "5fa34687-c37d-4204-a5e3-35a0538c2b0e",
   "metadata": {},
   "source": [
    "### -> Z-Score"
   ]
  },
  {
   "cell_type": "code",
   "execution_count": 51,
   "id": "662c58b3-2345-4dca-9824-d4751ac39bfc",
   "metadata": {},
   "outputs": [],
   "source": [
    "list_marks = np.array([34, 45, 58, 40, 42, 56, 51, 67, 78, 61, 85, 90, 83, 75, 97, 82, 58, 37, 67, 89, 31, 35, 38, 36, 180])"
   ]
  },
  {
   "cell_type": "code",
   "execution_count": 52,
   "id": "2f039d52-7230-426a-a7a8-dab2d07e9f5f",
   "metadata": {},
   "outputs": [],
   "source": [
    "u = list_marks.mean()\n",
    "s = list_marks.std()"
   ]
  },
  {
   "cell_type": "code",
   "execution_count": 53,
   "id": "76861af9-d1de-4e67-89df-3560742d6711",
   "metadata": {},
   "outputs": [
    {
     "name": "stdout",
     "output_type": "stream",
     "text": [
      "Mean: 64.6\n",
      "Standard Deviation: 31.017414463491313\n"
     ]
    }
   ],
   "source": [
    "print(\"Mean: \" + str(u))\n",
    "print(\"Standard Deviation: \" + str(s))"
   ]
  },
  {
   "cell_type": "code",
   "execution_count": 54,
   "id": "7d116dd3-1492-4a12-9ead-769554351bdb",
   "metadata": {},
   "outputs": [],
   "source": [
    "outliers = []\n",
    "data_marks = []\n",
    "\n",
    "for i in list_marks: \n",
    "    if i < u - (3*s) or i > u + (3*s) :\n",
    "        outliers.append(i)\n",
    "    else : \n",
    "        data_marks.append(i)"
   ]
  },
  {
   "cell_type": "code",
   "execution_count": 55,
   "id": "b0b5c479-4c74-4b6f-bc4c-e8ea5f0f3140",
   "metadata": {},
   "outputs": [
    {
     "data": {
      "text/plain": [
       "[180]"
      ]
     },
     "execution_count": 55,
     "metadata": {},
     "output_type": "execute_result"
    }
   ],
   "source": [
    "outliers"
   ]
  },
  {
   "cell_type": "code",
   "execution_count": 57,
   "id": "c3d9eff4-3409-4ea6-8683-84a1ec7e7ca4",
   "metadata": {},
   "outputs": [
    {
     "data": {
      "text/plain": [
       "[34,\n",
       " 45,\n",
       " 58,\n",
       " 40,\n",
       " 42,\n",
       " 56,\n",
       " 51,\n",
       " 67,\n",
       " 78,\n",
       " 61,\n",
       " 85,\n",
       " 90,\n",
       " 83,\n",
       " 75,\n",
       " 97,\n",
       " 82,\n",
       " 58,\n",
       " 37,\n",
       " 67,\n",
       " 89,\n",
       " 31,\n",
       " 35,\n",
       " 38,\n",
       " 36]"
      ]
     },
     "execution_count": 57,
     "metadata": {},
     "output_type": "execute_result"
    }
   ],
   "source": [
    "data_marks"
   ]
  },
  {
   "cell_type": "code",
   "execution_count": null,
   "id": "5c499c6a-ad33-4be3-88e2-be41622b14f6",
   "metadata": {},
   "outputs": [],
   "source": []
  }
 ],
 "metadata": {
  "kernelspec": {
   "display_name": "Python 3 (ipykernel)",
   "language": "python",
   "name": "python3"
  },
  "language_info": {
   "codemirror_mode": {
    "name": "ipython",
    "version": 3
   },
   "file_extension": ".py",
   "mimetype": "text/x-python",
   "name": "python",
   "nbconvert_exporter": "python",
   "pygments_lexer": "ipython3",
   "version": "3.10.8"
  }
 },
 "nbformat": 4,
 "nbformat_minor": 5
}
