{
 "cells": [
  {
   "cell_type": "code",
   "execution_count": 1,
   "id": "33384120-b691-4f83-b9bd-19322e6def20",
   "metadata": {},
   "outputs": [],
   "source": [
    "import threading\n",
    "import urllib.request\n",
    "\n",
    "def download_file(url, file) :\n",
    "    urllib.request.urlretrieve(url, file)"
   ]
  },
  {
   "cell_type": "code",
   "execution_count": 2,
   "id": "073e4366-9982-4cd3-b0ef-0df9b1fd6575",
   "metadata": {},
   "outputs": [],
   "source": [
    "url_list = [\"https://github.com/Balaji20042008/Threading-Data/blob/main/text_01.txt\", \"https://github.com/Balaji20042008/Threading-Data/blob/main/text_02.txt\", \"https://github.com/Balaji20042008/Threading-Data/blob/main/text_03.txt\"]"
   ]
  },
  {
   "cell_type": "code",
   "execution_count": 3,
   "id": "57e5dd23-592c-4ebd-987d-1c1224e0e38f",
   "metadata": {},
   "outputs": [],
   "source": [
    "file_list = [\"data_01.txt\", \"data_02.txt\", \"data_03.txt\"]"
   ]
  },
  {
   "cell_type": "code",
   "execution_count": 4,
   "id": "0f602c8a-2c57-466d-9cd6-404b36d2ae4e",
   "metadata": {},
   "outputs": [],
   "source": [
    "list_01 = [threading.Thread(target = download_file, args = (url_list[i], file_list[i])) for i in range(len(url_list))]"
   ]
  },
  {
   "cell_type": "code",
   "execution_count": 5,
   "id": "208490db-5667-42cb-8227-973c86256180",
   "metadata": {},
   "outputs": [
    {
     "data": {
      "text/plain": [
       "[<Thread(Thread-5 (download_file), initial)>,\n",
       " <Thread(Thread-6 (download_file), initial)>,\n",
       " <Thread(Thread-7 (download_file), initial)>]"
      ]
     },
     "execution_count": 5,
     "metadata": {},
     "output_type": "execute_result"
    }
   ],
   "source": [
    "list_01"
   ]
  },
  {
   "cell_type": "code",
   "execution_count": 6,
   "id": "3f6e152b-ab23-4992-8c84-c365b61af142",
   "metadata": {},
   "outputs": [],
   "source": [
    "for i in list_01 :\n",
    "    i.start()"
   ]
  },
  {
   "cell_type": "code",
   "execution_count": 7,
   "id": "fa0c3db7-e13d-4751-b645-67e5dcca7046",
   "metadata": {},
   "outputs": [
    {
     "data": {
      "text/plain": [
       "[<Thread(Thread-5 (download_file), stopped 140673481156160)>,\n",
       " <Thread(Thread-6 (download_file), stopped 140673130952256)>,\n",
       " <Thread(Thread-7 (download_file), stopped 140673122559552)>]"
      ]
     },
     "execution_count": 7,
     "metadata": {},
     "output_type": "execute_result"
    }
   ],
   "source": [
    "list_01"
   ]
  },
  {
   "cell_type": "code",
   "execution_count": 1,
   "id": "ddd5b7fd-62e9-4755-9f68-a70b1e04ab0a",
   "metadata": {},
   "outputs": [],
   "source": [
    "import threading\n",
    "import time"
   ]
  },
  {
   "cell_type": "code",
   "execution_count": 2,
   "id": "04304b02-48be-4e8b-a356-a6491a6f6b3a",
   "metadata": {},
   "outputs": [],
   "source": [
    "def printing_01(id) :\n",
    "    for i in range(10) :\n",
    "        print(\"id: %d, i: %d\" %(id,i))\n",
    "        # time.sleep(1)"
   ]
  },
  {
   "cell_type": "code",
   "execution_count": 3,
   "id": "f6a9c9c2-5257-4364-8fe5-a61c2660a722",
   "metadata": {},
   "outputs": [
    {
     "name": "stdout",
     "output_type": "stream",
     "text": [
      "id: 1, i: 0\n",
      "id: 1, i: 1\n",
      "id: 1, i: 2\n",
      "id: 1, i: 3\n",
      "id: 1, i: 4\n",
      "id: 1, i: 5\n",
      "id: 1, i: 6\n",
      "id: 1, i: 7\n",
      "id: 1, i: 8\n",
      "id: 1, i: 9\n"
     ]
    }
   ],
   "source": [
    "printing_01(1)"
   ]
  },
  {
   "cell_type": "code",
   "execution_count": 4,
   "id": "48b36d15-48b4-4a7c-9977-89a8836f081f",
   "metadata": {},
   "outputs": [],
   "source": [
    "list_02 = [threading.Thread(target = printing_01, args = (i,)) for i in range(3)]"
   ]
  },
  {
   "cell_type": "code",
   "execution_count": 5,
   "id": "b17ced0d-096c-4ccc-9156-4b2d17dfdb9d",
   "metadata": {},
   "outputs": [
    {
     "data": {
      "text/plain": [
       "[<Thread(Thread-5 (printing_01), initial)>,\n",
       " <Thread(Thread-6 (printing_01), initial)>,\n",
       " <Thread(Thread-7 (printing_01), initial)>]"
      ]
     },
     "execution_count": 5,
     "metadata": {},
     "output_type": "execute_result"
    }
   ],
   "source": [
    "list_02"
   ]
  },
  {
   "cell_type": "code",
   "execution_count": 6,
   "id": "29423a79-4072-4def-84ec-3978fdbf92f6",
   "metadata": {},
   "outputs": [
    {
     "name": "stdout",
     "output_type": "stream",
     "text": [
      "id: 0, i: 0\n",
      "id: 0, i: 1\n",
      "id: 0, i: 2\n",
      "id: 0, i: 3\n",
      "id: 0, i: 4\n",
      "id: 0, i: 5\n",
      "id: 0, i: 6\n",
      "id: 0, i: 7\n",
      "id: 0, i: 8\n",
      "id: 0, i: 9\n",
      "id: 1, i: 0\n",
      "id: 1, i: 1\n",
      "id: 1, i: 2\n",
      "id: 1, i: 3\n",
      "id: 1, i: 4\n",
      "id: 1, i: 5\n",
      "id: 1, i: 6\n",
      "id: 1, i: 7\n",
      "id: 1, i: 8\n",
      "id: 1, i: 9\n",
      "id: 2, i: 0\n",
      "id: 2, i: 1\n",
      "id: 2, i: 2\n",
      "id: 2, i: 3\n",
      "id: 2, i: 4\n",
      "id: 2, i: 5\n",
      "id: 2, i: 6\n",
      "id: 2, i: 7\n",
      "id: 2, i: 8\n",
      "id: 2, i: 9\n"
     ]
    }
   ],
   "source": [
    "for i in list_02 :\n",
    "    i.start()"
   ]
  },
  {
   "cell_type": "code",
   "execution_count": 7,
   "id": "695b7e4d-f7b1-4231-b947-63dbf6d1ba76",
   "metadata": {},
   "outputs": [],
   "source": [
    "shared_variable = 0\n",
    "locked_variable = threading.Lock()"
   ]
  },
  {
   "cell_type": "code",
   "execution_count": 8,
   "id": "16bb93f4-d627-4e1b-83a6-9dc6835501b9",
   "metadata": {},
   "outputs": [],
   "source": [
    "def printing_02(id) :\n",
    "    global shared_variable\n",
    "    with locked_variable :\n",
    "        shared_variable = shared_variable + 1\n",
    "        print(\"id : %d, shared_variable: %d\" %(id, shared_variable))"
   ]
  },
  {
   "cell_type": "code",
   "execution_count": 9,
   "id": "1cc90d99-4b7c-42b7-b5f4-f50ee3e19f2f",
   "metadata": {},
   "outputs": [],
   "source": [
    "list_03 = [threading.Thread(target = printing_02, args = (i,)) for i in range(3)]"
   ]
  },
  {
   "cell_type": "code",
   "execution_count": 10,
   "id": "c599f490-9d3b-43f1-9fba-b77bdfeacb5b",
   "metadata": {},
   "outputs": [
    {
     "data": {
      "text/plain": [
       "[<Thread(Thread-8 (printing_02), initial)>,\n",
       " <Thread(Thread-9 (printing_02), initial)>,\n",
       " <Thread(Thread-10 (printing_02), initial)>]"
      ]
     },
     "execution_count": 10,
     "metadata": {},
     "output_type": "execute_result"
    }
   ],
   "source": [
    "list_03"
   ]
  },
  {
   "cell_type": "code",
   "execution_count": 11,
   "id": "761fd058-59fe-4c88-a613-cb143e46caff",
   "metadata": {},
   "outputs": [
    {
     "name": "stdout",
     "output_type": "stream",
     "text": [
      "id : 0, shared_variable: 1\n",
      "id : 1, shared_variable: 2\n",
      "id : 2, shared_variable: 3\n"
     ]
    }
   ],
   "source": [
    "for i in list_03 :\n",
    "    i.start()"
   ]
  },
  {
   "cell_type": "code",
   "execution_count": null,
   "id": "b89f85fb-6455-4cbe-ba75-ea74feab86de",
   "metadata": {},
   "outputs": [],
   "source": []
  }
 ],
 "metadata": {
  "kernelspec": {
   "display_name": "Python 3 (ipykernel)",
   "language": "python",
   "name": "python3"
  },
  "language_info": {
   "codemirror_mode": {
    "name": "ipython",
    "version": 3
   },
   "file_extension": ".py",
   "mimetype": "text/x-python",
   "name": "python",
   "nbconvert_exporter": "python",
   "pygments_lexer": "ipython3",
   "version": "3.10.8"
  }
 },
 "nbformat": 4,
 "nbformat_minor": 5
}
