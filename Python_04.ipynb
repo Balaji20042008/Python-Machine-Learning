{
 "cells": [
  {
   "cell_type": "code",
   "execution_count": 1,
   "id": "23081e96-55d8-4ebd-9db7-713e79b4b2ec",
   "metadata": {},
   "outputs": [],
   "source": [
    "dictionary_01 = {\"Name\" : \"Balaji Punith Kumar\", \"Roll Number\" : \"21CEB0B41\", \"Email_ID\" : \"mn21ceb0b41@student.nitw.ac.in\", \"Phone Number\" : 8688609730}"
   ]
  },
  {
   "cell_type": "code",
   "execution_count": 2,
   "id": "6398a0ed-a9e3-42dc-a4dd-c211ba4a417b",
   "metadata": {},
   "outputs": [
    {
     "data": {
      "text/plain": [
       "{'Name': 'Balaji Punith Kumar',\n",
       " 'Roll Number': '21CEB0B41',\n",
       " 'Email_ID': 'mn21ceb0b41@student.nitw.ac.in',\n",
       " 'Phone Number': 8688609730}"
      ]
     },
     "execution_count": 2,
     "metadata": {},
     "output_type": "execute_result"
    }
   ],
   "source": [
    "dictionary_01"
   ]
  },
  {
   "cell_type": "code",
   "execution_count": 3,
   "id": "647bb84a-63ff-4c00-849f-6e8d86183374",
   "metadata": {},
   "outputs": [
    {
     "data": {
      "text/plain": [
       "'Balaji Punith Kumar'"
      ]
     },
     "execution_count": 3,
     "metadata": {},
     "output_type": "execute_result"
    }
   ],
   "source": [
    "dictionary_01[\"Name\"]"
   ]
  },
  {
   "cell_type": "code",
   "execution_count": 4,
   "id": "dd35e144-4619-469b-8720-857d58b95206",
   "metadata": {},
   "outputs": [
    {
     "data": {
      "text/plain": [
       "'21CEB0B41'"
      ]
     },
     "execution_count": 4,
     "metadata": {},
     "output_type": "execute_result"
    }
   ],
   "source": [
    "dictionary_01[\"Roll Number\"]"
   ]
  },
  {
   "cell_type": "code",
   "execution_count": 5,
   "id": "5394dbae-49b8-4fd5-83fe-f463bdf405e5",
   "metadata": {},
   "outputs": [
    {
     "data": {
      "text/plain": [
       "'mn21ceb0b41@student.nitw.ac.in'"
      ]
     },
     "execution_count": 5,
     "metadata": {},
     "output_type": "execute_result"
    }
   ],
   "source": [
    "dictionary_01[\"Email_ID\"]"
   ]
  },
  {
   "cell_type": "code",
   "execution_count": 6,
   "id": "5387e84e-3162-41e0-8e21-44dbff03b2b8",
   "metadata": {},
   "outputs": [
    {
     "data": {
      "text/plain": [
       "8688609730"
      ]
     },
     "execution_count": 6,
     "metadata": {},
     "output_type": "execute_result"
    }
   ],
   "source": [
    "dictionary_01[\"Phone Number\"]"
   ]
  },
  {
   "cell_type": "code",
   "execution_count": 7,
   "id": "9994fa88-30e7-4703-a05a-15185a1337ec",
   "metadata": {},
   "outputs": [],
   "source": [
    "dictionary_02 = {\"list\" : [10, 20, 30, 40, 50], \"tuple\" : (10, 20, 30, 40, 50), \"set\" : {10, 20, 30, 40, 50}}"
   ]
  },
  {
   "cell_type": "code",
   "execution_count": 8,
   "id": "97c1813c-b677-40af-bbb7-0849b165e3ff",
   "metadata": {},
   "outputs": [
    {
     "data": {
      "text/plain": [
       "{'list': [10, 20, 30, 40, 50],\n",
       " 'tuple': (10, 20, 30, 40, 50),\n",
       " 'set': {10, 20, 30, 40, 50}}"
      ]
     },
     "execution_count": 8,
     "metadata": {},
     "output_type": "execute_result"
    }
   ],
   "source": [
    "dictionary_02"
   ]
  },
  {
   "cell_type": "code",
   "execution_count": 9,
   "id": "720877b2-633c-4429-84e8-dde597806e0e",
   "metadata": {},
   "outputs": [
    {
     "data": {
      "text/plain": [
       "[10, 20, 30, 40, 50]"
      ]
     },
     "execution_count": 9,
     "metadata": {},
     "output_type": "execute_result"
    }
   ],
   "source": [
    "dictionary_02[\"list\"]"
   ]
  },
  {
   "cell_type": "code",
   "execution_count": 10,
   "id": "82655843-6ff1-42e0-a7c7-a1c8ee574fd0",
   "metadata": {},
   "outputs": [],
   "source": [
    "dictionary_02[\"list\"].extend([60, 70, 80])"
   ]
  },
  {
   "cell_type": "code",
   "execution_count": 11,
   "id": "cf3742b6-7197-4aff-abff-8b8d0f2abc0e",
   "metadata": {},
   "outputs": [
    {
     "data": {
      "text/plain": [
       "[10, 20, 30, 40, 50, 60, 70, 80]"
      ]
     },
     "execution_count": 11,
     "metadata": {},
     "output_type": "execute_result"
    }
   ],
   "source": [
    "dictionary_02[\"list\"]"
   ]
  },
  {
   "cell_type": "code",
   "execution_count": 13,
   "id": "e1aab30f-bd68-42b4-874c-519bcbc73069",
   "metadata": {},
   "outputs": [
    {
     "data": {
      "text/plain": [
       "(10, 20, 30, 40, 50)"
      ]
     },
     "execution_count": 13,
     "metadata": {},
     "output_type": "execute_result"
    }
   ],
   "source": [
    "dictionary_02[\"tuple\"]"
   ]
  },
  {
   "cell_type": "code",
   "execution_count": 14,
   "id": "3d5fe16b-1e84-4881-88d3-745595e8b5b6",
   "metadata": {},
   "outputs": [
    {
     "data": {
      "text/plain": [
       "{10, 20, 30, 40, 50}"
      ]
     },
     "execution_count": 14,
     "metadata": {},
     "output_type": "execute_result"
    }
   ],
   "source": [
    "dictionary_02[\"set\"]"
   ]
  },
  {
   "cell_type": "code",
   "execution_count": 16,
   "id": "a60cb0b7-7835-471a-beda-151b3867e28b",
   "metadata": {},
   "outputs": [],
   "source": [
    "dictionary_02[\"set\"].add(60)"
   ]
  },
  {
   "cell_type": "code",
   "execution_count": 17,
   "id": "57b1deda-5092-4d4e-950c-52bd8f141e9d",
   "metadata": {},
   "outputs": [
    {
     "data": {
      "text/plain": [
       "{10, 20, 30, 40, 50, 60}"
      ]
     },
     "execution_count": 17,
     "metadata": {},
     "output_type": "execute_result"
    }
   ],
   "source": [
    "dictionary_02[\"set\"]"
   ]
  },
  {
   "cell_type": "code",
   "execution_count": 18,
   "id": "523a22c8-5c84-4d89-94cd-ab627c6e3117",
   "metadata": {},
   "outputs": [],
   "source": [
    "dictionary_02[\"set\"].remove(60)"
   ]
  },
  {
   "cell_type": "code",
   "execution_count": 19,
   "id": "d8d4fecf-a4dc-46fa-b43f-bdcc6339f275",
   "metadata": {},
   "outputs": [
    {
     "data": {
      "text/plain": [
       "{10, 20, 30, 40, 50}"
      ]
     },
     "execution_count": 19,
     "metadata": {},
     "output_type": "execute_result"
    }
   ],
   "source": [
    "dictionary_02[\"set\"]"
   ]
  },
  {
   "cell_type": "code",
   "execution_count": 21,
   "id": "e52e661b-50b1-4bfd-a990-1f136f025d5e",
   "metadata": {},
   "outputs": [],
   "source": [
    "dictionary_01[\"CGPA\"] = 7.45"
   ]
  },
  {
   "cell_type": "code",
   "execution_count": 22,
   "id": "c78d88d2-86c2-47bd-b503-be20abc2017e",
   "metadata": {},
   "outputs": [
    {
     "data": {
      "text/plain": [
       "{'Name': 'Balaji Punith Kumar',\n",
       " 'Roll Number': '21CEB0B41',\n",
       " 'Email_ID': 'mn21ceb0b41@student.nitw.ac.in',\n",
       " 'Phone Number': 8688609730,\n",
       " 'CGPA': 7.45}"
      ]
     },
     "execution_count": 22,
     "metadata": {},
     "output_type": "execute_result"
    }
   ],
   "source": [
    "dictionary_01"
   ]
  },
  {
   "cell_type": "code",
   "execution_count": 23,
   "id": "9138dac0-c238-49ba-9ce7-7d10c3cf2b8c",
   "metadata": {},
   "outputs": [],
   "source": [
    "del dictionary_01[\"Phone Number\"]"
   ]
  },
  {
   "cell_type": "code",
   "execution_count": 28,
   "id": "5882667b-2bb4-49c8-90b5-666fded5d998",
   "metadata": {},
   "outputs": [
    {
     "data": {
      "text/plain": [
       "['Name', 'Roll Number', 'Email_ID', 'CGPA']"
      ]
     },
     "execution_count": 28,
     "metadata": {},
     "output_type": "execute_result"
    }
   ],
   "source": [
    "list(dictionary_01.keys())"
   ]
  },
  {
   "cell_type": "code",
   "execution_count": 29,
   "id": "726abc88-ec01-4a80-b925-207de952c0e5",
   "metadata": {},
   "outputs": [
    {
     "data": {
      "text/plain": [
       "['Balaji Punith Kumar', '21CEB0B41', 'mn21ceb0b41@student.nitw.ac.in', 7.45]"
      ]
     },
     "execution_count": 29,
     "metadata": {},
     "output_type": "execute_result"
    }
   ],
   "source": [
    "list(dictionary_01.values())"
   ]
  },
  {
   "cell_type": "code",
   "execution_count": 30,
   "id": "e9e9d56d-a526-4240-9125-64c059ad4a81",
   "metadata": {},
   "outputs": [
    {
     "data": {
      "text/plain": [
       "[('Name', 'Balaji Punith Kumar'),\n",
       " ('Roll Number', '21CEB0B41'),\n",
       " ('Email_ID', 'mn21ceb0b41@student.nitw.ac.in'),\n",
       " ('CGPA', 7.45)]"
      ]
     },
     "execution_count": 30,
     "metadata": {},
     "output_type": "execute_result"
    }
   ],
   "source": [
    "list(dictionary_01.items())"
   ]
  },
  {
   "cell_type": "code",
   "execution_count": 31,
   "id": "f39392b0-9636-48b3-bbd2-5fb6ef5bbe62",
   "metadata": {},
   "outputs": [
    {
     "data": {
      "text/plain": [
       "7.45"
      ]
     },
     "execution_count": 31,
     "metadata": {},
     "output_type": "execute_result"
    }
   ],
   "source": [
    "dictionary_01.pop(\"CGPA\")"
   ]
  },
  {
   "cell_type": "code",
   "execution_count": 32,
   "id": "83014336-3c7a-4045-aa63-a36d1d16ef6f",
   "metadata": {},
   "outputs": [
    {
     "data": {
      "text/plain": [
       "{'Name': 'Balaji Punith Kumar',\n",
       " 'Roll Number': '21CEB0B41',\n",
       " 'Email_ID': 'mn21ceb0b41@student.nitw.ac.in'}"
      ]
     },
     "execution_count": 32,
     "metadata": {},
     "output_type": "execute_result"
    }
   ],
   "source": [
    "dictionary_01"
   ]
  },
  {
   "cell_type": "code",
   "execution_count": 35,
   "id": "5e03680f-e22a-4532-8f6f-5592e168672d",
   "metadata": {},
   "outputs": [],
   "source": [
    "dictionary_01[\"CGPA\"]  = 7.45"
   ]
  },
  {
   "cell_type": "code",
   "execution_count": null,
   "id": "05e24810-7bd6-40a4-8bf5-c55d599d205e",
   "metadata": {},
   "outputs": [],
   "source": []
  }
 ],
 "metadata": {
  "kernelspec": {
   "display_name": "Python 3 (ipykernel)",
   "language": "python",
   "name": "python3"
  },
  "language_info": {
   "codemirror_mode": {
    "name": "ipython",
    "version": 3
   },
   "file_extension": ".py",
   "mimetype": "text/x-python",
   "name": "python",
   "nbconvert_exporter": "python",
   "pygments_lexer": "ipython3",
   "version": "3.10.8"
  }
 },
 "nbformat": 4,
 "nbformat_minor": 5
}
