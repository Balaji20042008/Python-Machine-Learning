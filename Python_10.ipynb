{
 "cells": [
  {
   "cell_type": "code",
   "execution_count": 1,
   "id": "5102f28b-9432-4f89-8bc3-b0f85d0efe12",
   "metadata": {},
   "outputs": [],
   "source": [
    "file_01 = open(\"test_01.txt\", 'w')"
   ]
  },
  {
   "cell_type": "code",
   "execution_count": 2,
   "id": "d376c8a3-4196-403f-9899-5e6c95c2eeaf",
   "metadata": {},
   "outputs": [
    {
     "data": {
      "text/plain": [
       "'/home/jovyan/work'"
      ]
     },
     "execution_count": 2,
     "metadata": {},
     "output_type": "execute_result"
    }
   ],
   "source": [
    "pwd"
   ]
  },
  {
   "cell_type": "code",
   "execution_count": 3,
   "id": "0400dce7-da6d-49aa-9e4c-91ffefbd495c",
   "metadata": {},
   "outputs": [
    {
     "name": "stdout",
     "output_type": "stream",
     "text": [
      "Python_01.ipynb  Python_04.ipynb  Python_07.ipynb  Python_10.ipynb\n",
      "Python_02.ipynb  Python_05.ipynb  Python_08.ipynb  README.md\n",
      "Python_03.ipynb  Python_06.ipynb  Python_09.ipynb  test_01.txt\n"
     ]
    }
   ],
   "source": [
    "ls"
   ]
  },
  {
   "cell_type": "code",
   "execution_count": 4,
   "id": "e85e1d76-c8e6-470a-931d-3a732a65b0f8",
   "metadata": {},
   "outputs": [
    {
     "data": {
      "text/plain": [
       "30"
      ]
     },
     "execution_count": 4,
     "metadata": {},
     "output_type": "execute_result"
    }
   ],
   "source": [
    "file_01.write(\"Name: Meda Balaji Punith Kumar\")"
   ]
  },
  {
   "cell_type": "code",
   "execution_count": 6,
   "id": "287de52c-eb01-432c-bbff-1d329dc2a866",
   "metadata": {},
   "outputs": [],
   "source": [
    "file_01.close()"
   ]
  },
  {
   "cell_type": "code",
   "execution_count": 13,
   "id": "0b2cec5c-89e1-4994-b50b-d9228220aee3",
   "metadata": {},
   "outputs": [],
   "source": [
    "file_01 = open(\"test_01.txt\", 'w')"
   ]
  },
  {
   "cell_type": "code",
   "execution_count": 14,
   "id": "1d96111b-fc84-42f7-8fa3-bf82a0409bac",
   "metadata": {},
   "outputs": [
    {
     "data": {
      "text/plain": [
       "17"
      ]
     },
     "execution_count": 14,
     "metadata": {},
     "output_type": "execute_result"
    }
   ],
   "source": [
    "file_01.write(\"Name: Rahul Katam\")"
   ]
  },
  {
   "cell_type": "code",
   "execution_count": 15,
   "id": "c66df441-6f84-4ecd-9837-7240b3add7a7",
   "metadata": {},
   "outputs": [],
   "source": [
    "file_01.close()"
   ]
  },
  {
   "cell_type": "code",
   "execution_count": 1,
   "id": "1d79fa11-d884-40d3-9f20-aec70630aec7",
   "metadata": {},
   "outputs": [],
   "source": [
    "file_01 = open(\"test_01.txt\", \"w\")"
   ]
  },
  {
   "cell_type": "code",
   "execution_count": 2,
   "id": "f55cf3d9-b443-4a02-91b6-8252fa63c873",
   "metadata": {},
   "outputs": [
    {
     "data": {
      "text/plain": [
       "269"
      ]
     },
     "execution_count": 2,
     "metadata": {},
     "output_type": "execute_result"
    }
   ],
   "source": [
    "file_01.write(\"Virat Kohli is an Indian international cricketer and the former captain of the Indian national cricket team. He is a right-handed batsman and an occasional medium-fast bowler. He currently represents Royal Challengers Bangalore in the IPL and Delhi in domestic cricket.\")"
   ]
  },
  {
   "cell_type": "code",
   "execution_count": 3,
   "id": "b861b2e5-a5e7-44ac-82a3-1750f40281d0",
   "metadata": {},
   "outputs": [],
   "source": [
    "file_01.close()"
   ]
  },
  {
   "cell_type": "code",
   "execution_count": 4,
   "id": "ea6fd014-8b61-4598-919a-611f7b1260fd",
   "metadata": {},
   "outputs": [],
   "source": [
    "file_01 = open(\"test_01.txt\", \"r\")"
   ]
  },
  {
   "cell_type": "code",
   "execution_count": 5,
   "id": "44cedd4f-5ca3-4db7-bfcb-5c21dd4685de",
   "metadata": {},
   "outputs": [
    {
     "data": {
      "text/plain": [
       "'Virat Kohli is an Indian international cricketer and the former captain of the Indian national cricket team. He is a right-handed batsman and an occasional medium-fast bowler. He currently represents Royal Challengers Bangalore in the IPL and Delhi in domestic cricket.'"
      ]
     },
     "execution_count": 5,
     "metadata": {},
     "output_type": "execute_result"
    }
   ],
   "source": [
    "file_01.read()"
   ]
  },
  {
   "cell_type": "code",
   "execution_count": 6,
   "id": "50dec931-9a19-45ed-a63a-683310ae9a62",
   "metadata": {},
   "outputs": [
    {
     "data": {
      "text/plain": [
       "''"
      ]
     },
     "execution_count": 6,
     "metadata": {},
     "output_type": "execute_result"
    }
   ],
   "source": [
    "file_01.readline()"
   ]
  },
  {
   "cell_type": "code",
   "execution_count": 7,
   "id": "259d0476-ab08-4003-9b6f-f247c0e5dcbe",
   "metadata": {},
   "outputs": [
    {
     "data": {
      "text/plain": [
       "0"
      ]
     },
     "execution_count": 7,
     "metadata": {},
     "output_type": "execute_result"
    }
   ],
   "source": [
    "file_01.seek(0)"
   ]
  },
  {
   "cell_type": "code",
   "execution_count": 8,
   "id": "2bb564fe-12f3-4d1b-b5c0-ce8e6d47ac66",
   "metadata": {},
   "outputs": [
    {
     "data": {
      "text/plain": [
       "'Virat Kohli is an Indian international cricketer and the former captain of the Indian national cricket team. He is a right-handed batsman and an occasional medium-fast bowler. He currently represents Royal Challengers Bangalore in the IPL and Delhi in domestic cricket.'"
      ]
     },
     "execution_count": 8,
     "metadata": {},
     "output_type": "execute_result"
    }
   ],
   "source": [
    "file_01.readline()"
   ]
  },
  {
   "cell_type": "code",
   "execution_count": 9,
   "id": "e6e0d65f-bcd0-4425-95bd-556030a1607b",
   "metadata": {},
   "outputs": [
    {
     "data": {
      "text/plain": [
       "''"
      ]
     },
     "execution_count": 9,
     "metadata": {},
     "output_type": "execute_result"
    }
   ],
   "source": [
    "file_01.readline()"
   ]
  },
  {
   "cell_type": "code",
   "execution_count": 10,
   "id": "cce12cc7-acfb-43da-a53d-0e09f11a316b",
   "metadata": {},
   "outputs": [
    {
     "data": {
      "text/plain": [
       "6"
      ]
     },
     "execution_count": 10,
     "metadata": {},
     "output_type": "execute_result"
    }
   ],
   "source": [
    "file_01.seek(6)"
   ]
  },
  {
   "cell_type": "code",
   "execution_count": 11,
   "id": "d9ca6afa-266e-4798-b8d5-822d641ac5dd",
   "metadata": {},
   "outputs": [
    {
     "data": {
      "text/plain": [
       "'Kohli is an Indian international cricketer and the former captain of the Indian national cricket team. He is a right-handed batsman and an occasional medium-fast bowler. He currently represents Royal Challengers Bangalore in the IPL and Delhi in domestic cricket.'"
      ]
     },
     "execution_count": 11,
     "metadata": {},
     "output_type": "execute_result"
    }
   ],
   "source": [
    "file_01.readline()"
   ]
  },
  {
   "cell_type": "code",
   "execution_count": 12,
   "id": "fbc9e0e8-8128-4a9c-ae48-d0c4121e3c63",
   "metadata": {},
   "outputs": [],
   "source": [
    "import os"
   ]
  },
  {
   "cell_type": "code",
   "execution_count": 13,
   "id": "5d1d6ca9-9662-455e-9a2f-b977569fd548",
   "metadata": {},
   "outputs": [
    {
     "data": {
      "text/plain": [
       "269"
      ]
     },
     "execution_count": 13,
     "metadata": {},
     "output_type": "execute_result"
    }
   ],
   "source": [
    "os.path.getsize(\"test_01.txt\")"
   ]
  },
  {
   "cell_type": "code",
   "execution_count": 14,
   "id": "7275473a-097c-4100-9cc3-7cd53abe4961",
   "metadata": {},
   "outputs": [],
   "source": [
    "os.rename(\"test_01.txt\", \"text_01.txt\")"
   ]
  },
  {
   "cell_type": "code",
   "execution_count": 15,
   "id": "c479a23d-2f4d-4c05-8cbd-b4a32538f8cc",
   "metadata": {},
   "outputs": [],
   "source": [
    "file_02 = open(\"text_02.txt\", \"w\")"
   ]
  },
  {
   "cell_type": "code",
   "execution_count": 16,
   "id": "4d9e52fd-a001-40a7-9a4f-e152c4f48301",
   "metadata": {},
   "outputs": [],
   "source": [
    "os.remove(\"text_02.txt\")"
   ]
  },
  {
   "cell_type": "code",
   "execution_count": 17,
   "id": "8a5077e5-7f27-49b9-be3c-df5238ab8121",
   "metadata": {},
   "outputs": [],
   "source": [
    "import shutil"
   ]
  },
  {
   "cell_type": "code",
   "execution_count": 18,
   "id": "1f308649-9726-4d61-b9e6-324bebe13839",
   "metadata": {},
   "outputs": [
    {
     "data": {
      "text/plain": [
       "'text_02.txt'"
      ]
     },
     "execution_count": 18,
     "metadata": {},
     "output_type": "execute_result"
    }
   ],
   "source": [
    "shutil.copy(\"text_01.txt\", \"text_02.txt\")"
   ]
  },
  {
   "cell_type": "code",
   "execution_count": 23,
   "id": "b212d78c-f73b-4106-8fd1-d9a5e572cdae",
   "metadata": {},
   "outputs": [],
   "source": [
    "file_01 = open(\"text_01.txt\", \"r\")"
   ]
  },
  {
   "cell_type": "code",
   "execution_count": 24,
   "id": "093f2298-4d8d-4272-a671-6f71d3d0c539",
   "metadata": {},
   "outputs": [
    {
     "name": "stdout",
     "output_type": "stream",
     "text": [
      "Virat Kohli is an Indian international cricketer and the former captain of the Indian national cricket team. He is a right-handed batsman and an occasional medium-fast bowler. He currently represents Royal Challengers Bangalore in the IPL and Delhi in domestic cricket.\n",
      "The code is executed successfully.\n"
     ]
    }
   ],
   "source": [
    "for i in file_01 :\n",
    "    print(i)\n",
    "else :\n",
    "    print(\"The code is executed successfully.\")"
   ]
  },
  {
   "cell_type": "code",
   "execution_count": 1,
   "id": "a8b6075f-f80c-44b5-bd83-03031ba740a1",
   "metadata": {},
   "outputs": [],
   "source": [
    "file_01 = open(\"text_01.txt\", \"a\")"
   ]
  },
  {
   "cell_type": "code",
   "execution_count": 2,
   "id": "0e60e186-1419-4fe6-a81e-608f0161f90d",
   "metadata": {},
   "outputs": [
    {
     "data": {
      "text/plain": [
       "55"
      ]
     },
     "execution_count": 2,
     "metadata": {},
     "output_type": "execute_result"
    }
   ],
   "source": [
    "file_01.write(\" Virat Kohli is a great player who inspired many youth.\")"
   ]
  },
  {
   "cell_type": "code",
   "execution_count": 3,
   "id": "6bafe35e-2ea2-4d15-99ea-aa34d15c200e",
   "metadata": {},
   "outputs": [],
   "source": [
    "file_01.close()"
   ]
  },
  {
   "cell_type": "code",
   "execution_count": 4,
   "id": "85540002-e1eb-4a39-af8a-3cb27b2ac18a",
   "metadata": {},
   "outputs": [],
   "source": [
    "file_01 = open(\"text_01.txt\" , \"r\")"
   ]
  },
  {
   "cell_type": "code",
   "execution_count": 5,
   "id": "f5d1a3e8-8198-4bb5-9f6b-47821355be95",
   "metadata": {},
   "outputs": [
    {
     "data": {
      "text/plain": [
       "'Virat Kohli is an Indian international cricketer and the former captain of the Indian national cricket team. He is a right-handed batsman and an occasional medium-fast bowler. He currently represents Royal Challengers Bangalore in the IPL and Delhi in domestic cricket. Virat Kohli is a great player who inspired many youth.'"
      ]
     },
     "execution_count": 5,
     "metadata": {},
     "output_type": "execute_result"
    }
   ],
   "source": [
    "file_01.read()"
   ]
  },
  {
   "cell_type": "code",
   "execution_count": 6,
   "id": "73955d5f-f3f1-4530-9291-4dada1126599",
   "metadata": {},
   "outputs": [
    {
     "data": {
      "text/plain": [
       "0"
      ]
     },
     "execution_count": 6,
     "metadata": {},
     "output_type": "execute_result"
    }
   ],
   "source": [
    "file_01.seek(0)"
   ]
  },
  {
   "cell_type": "code",
   "execution_count": 7,
   "id": "5f3173f4-e87e-4800-9822-421f65c24280",
   "metadata": {},
   "outputs": [
    {
     "data": {
      "text/plain": [
       "'Virat Kohli is an Indian international cricketer and the former captain of the Indian national cricket team. He is a right-handed batsman and an occasional medium-fast bowler. He currently represents Royal Challengers Bangalore in the IPL and Delhi in domestic cricket. Virat Kohli is a great player who inspired many youth.'"
      ]
     },
     "execution_count": 7,
     "metadata": {},
     "output_type": "execute_result"
    }
   ],
   "source": [
    "file_01.readline()"
   ]
  },
  {
   "cell_type": "code",
   "execution_count": null,
   "id": "930becf6-9b90-4e6b-9779-a95d3526e905",
   "metadata": {},
   "outputs": [],
   "source": []
  }
 ],
 "metadata": {
  "kernelspec": {
   "display_name": "Python 3 (ipykernel)",
   "language": "python",
   "name": "python3"
  },
  "language_info": {
   "codemirror_mode": {
    "name": "ipython",
    "version": 3
   },
   "file_extension": ".py",
   "mimetype": "text/x-python",
   "name": "python",
   "nbconvert_exporter": "python",
   "pygments_lexer": "ipython3",
   "version": "3.10.8"
  }
 },
 "nbformat": 4,
 "nbformat_minor": 5
}
