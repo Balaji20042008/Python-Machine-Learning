{
 "cells": [
  {
   "cell_type": "code",
   "execution_count": 1,
   "id": "fb542fda-3196-4409-9821-29e3fed791c4",
   "metadata": {},
   "outputs": [],
   "source": [
    "import numpy"
   ]
  },
  {
   "cell_type": "code",
   "execution_count": 2,
   "id": "cb86b69d-c3f0-4de0-8f8c-a9886ebc331e",
   "metadata": {},
   "outputs": [],
   "source": [
    "list_01 = [10, 20, 30, 40, 50]"
   ]
  },
  {
   "cell_type": "code",
   "execution_count": 3,
   "id": "4ccea7a7-f02e-4710-863a-fe56c01e6d82",
   "metadata": {},
   "outputs": [],
   "source": [
    "array_01 = numpy.array(list_01)"
   ]
  },
  {
   "cell_type": "code",
   "execution_count": 4,
   "id": "4a3c774e-3e0e-4d9b-b8f1-c3fa67b68faa",
   "metadata": {},
   "outputs": [
    {
     "data": {
      "text/plain": [
       "array([10, 20, 30, 40, 50])"
      ]
     },
     "execution_count": 4,
     "metadata": {},
     "output_type": "execute_result"
    }
   ],
   "source": [
    "array_01"
   ]
  },
  {
   "cell_type": "code",
   "execution_count": 5,
   "id": "ff2005a2-d16d-421e-a055-b70894fcf5d7",
   "metadata": {},
   "outputs": [
    {
     "data": {
      "text/plain": [
       "numpy.ndarray"
      ]
     },
     "execution_count": 5,
     "metadata": {},
     "output_type": "execute_result"
    }
   ],
   "source": [
    "type(array_01)"
   ]
  },
  {
   "cell_type": "code",
   "execution_count": 6,
   "id": "d92546fe-b24e-41de-88ca-3b8a0b28ec0d",
   "metadata": {},
   "outputs": [],
   "source": [
    "list_02 = [[10, 20], [30, 40]]"
   ]
  },
  {
   "cell_type": "code",
   "execution_count": 7,
   "id": "8d70cde3-eede-400e-80cf-9563620f2c9a",
   "metadata": {},
   "outputs": [],
   "source": [
    "array_02 = numpy.array(list_02)"
   ]
  },
  {
   "cell_type": "code",
   "execution_count": 8,
   "id": "807d91f8-64cf-42bd-a8a0-58d1e10b25f9",
   "metadata": {},
   "outputs": [
    {
     "data": {
      "text/plain": [
       "array([[10, 20],\n",
       "       [30, 40]])"
      ]
     },
     "execution_count": 8,
     "metadata": {},
     "output_type": "execute_result"
    }
   ],
   "source": [
    "array_02"
   ]
  },
  {
   "cell_type": "code",
   "execution_count": 9,
   "id": "8bccc14e-4ea8-42fc-a7a4-4360674f02b5",
   "metadata": {},
   "outputs": [
    {
     "data": {
      "text/plain": [
       "numpy.ndarray"
      ]
     },
     "execution_count": 9,
     "metadata": {},
     "output_type": "execute_result"
    }
   ],
   "source": [
    "type(array_02)"
   ]
  },
  {
   "cell_type": "code",
   "execution_count": 10,
   "id": "e0237279-c049-4f4d-bc87-f95e8d9d1f4d",
   "metadata": {},
   "outputs": [
    {
     "data": {
      "text/plain": [
       "array([10, 20, 30, 40, 50])"
      ]
     },
     "execution_count": 10,
     "metadata": {},
     "output_type": "execute_result"
    }
   ],
   "source": [
    "numpy.asarray(list_01)"
   ]
  },
  {
   "cell_type": "code",
   "execution_count": 11,
   "id": "e904392b-584d-4f24-8900-b7a2ce053af8",
   "metadata": {},
   "outputs": [
    {
     "data": {
      "text/plain": [
       "array([10, 20, 30, 40, 50])"
      ]
     },
     "execution_count": 11,
     "metadata": {},
     "output_type": "execute_result"
    }
   ],
   "source": [
    "numpy.asanyarray(list_01)"
   ]
  },
  {
   "cell_type": "code",
   "execution_count": 12,
   "id": "d409ef4e-48b2-4ca7-bcf0-c3aa01d73ab3",
   "metadata": {},
   "outputs": [],
   "source": [
    "matrix_01 = numpy.matrix([[10, 20], [30, 40]])"
   ]
  },
  {
   "cell_type": "code",
   "execution_count": 13,
   "id": "96567a2f-e68a-46b6-a423-013f1a83397d",
   "metadata": {},
   "outputs": [
    {
     "data": {
      "text/plain": [
       "matrix([[10, 20],\n",
       "        [30, 40]])"
      ]
     },
     "execution_count": 13,
     "metadata": {},
     "output_type": "execute_result"
    }
   ],
   "source": [
    "matrix_01"
   ]
  },
  {
   "cell_type": "code",
   "execution_count": 14,
   "id": "2d57f852-787e-4fcd-bd71-23906456e70e",
   "metadata": {},
   "outputs": [
    {
     "data": {
      "text/plain": [
       "numpy.matrix"
      ]
     },
     "execution_count": 14,
     "metadata": {},
     "output_type": "execute_result"
    }
   ],
   "source": [
    "type(matrix_01)"
   ]
  },
  {
   "cell_type": "code",
   "execution_count": 15,
   "id": "7169c4a7-f32a-4be3-987f-a674ff5a7b46",
   "metadata": {},
   "outputs": [
    {
     "data": {
      "text/plain": [
       "matrix([[10, 20],\n",
       "        [30, 40]])"
      ]
     },
     "execution_count": 15,
     "metadata": {},
     "output_type": "execute_result"
    }
   ],
   "source": [
    "numpy.asanyarray(matrix_01)"
   ]
  },
  {
   "cell_type": "code",
   "execution_count": 16,
   "id": "6a19d791-7787-4991-941e-5d86b5480612",
   "metadata": {},
   "outputs": [
    {
     "data": {
      "text/plain": [
       "array([[10, 20],\n",
       "       [30, 40]])"
      ]
     },
     "execution_count": 16,
     "metadata": {},
     "output_type": "execute_result"
    }
   ],
   "source": [
    "numpy.asarray(matrix_01)"
   ]
  },
  {
   "cell_type": "code",
   "execution_count": 17,
   "id": "c7e552c2-efee-42df-873e-fd45096a5332",
   "metadata": {},
   "outputs": [
    {
     "data": {
      "text/plain": [
       "array([[10, 20],\n",
       "       [30, 40]])"
      ]
     },
     "execution_count": 17,
     "metadata": {},
     "output_type": "execute_result"
    }
   ],
   "source": [
    "numpy.array(matrix_01)"
   ]
  },
  {
   "cell_type": "code",
   "execution_count": 18,
   "id": "3f3f3929-cdc1-430b-b7d8-f217c677aa22",
   "metadata": {},
   "outputs": [],
   "source": [
    "# matrix is a sub-set of array"
   ]
  },
  {
   "cell_type": "code",
   "execution_count": 19,
   "id": "ad4889ca-4cb9-4941-b14e-b4497c9dc77b",
   "metadata": {},
   "outputs": [],
   "source": [
    "list_01 = [10, 20, 30, 40, 50]"
   ]
  },
  {
   "cell_type": "code",
   "execution_count": 20,
   "id": "5a6410dd-f924-49c9-94cb-a8a65efb29c9",
   "metadata": {},
   "outputs": [],
   "source": [
    "array_01 = numpy.array(list_01)"
   ]
  },
  {
   "cell_type": "code",
   "execution_count": 21,
   "id": "7ced15e2-7e36-4343-a2f7-c7a3a1dd4208",
   "metadata": {},
   "outputs": [],
   "source": [
    "array_02 = array_01"
   ]
  },
  {
   "cell_type": "code",
   "execution_count": 24,
   "id": "5a427943-a604-47cf-a6b5-2cc7830f5616",
   "metadata": {},
   "outputs": [
    {
     "data": {
      "text/plain": [
       "array([10, 20, 30, 40, 50])"
      ]
     },
     "execution_count": 24,
     "metadata": {},
     "output_type": "execute_result"
    }
   ],
   "source": [
    "array_01"
   ]
  },
  {
   "cell_type": "code",
   "execution_count": 25,
   "id": "8b88de04-915e-457b-beab-7e5ad01ada90",
   "metadata": {},
   "outputs": [
    {
     "data": {
      "text/plain": [
       "array([10, 20, 30, 40, 50])"
      ]
     },
     "execution_count": 25,
     "metadata": {},
     "output_type": "execute_result"
    }
   ],
   "source": [
    "array_02"
   ]
  },
  {
   "cell_type": "code",
   "execution_count": 26,
   "id": "666ecd0e-28c8-464a-b00f-89b2dc1a77fd",
   "metadata": {},
   "outputs": [],
   "source": [
    "array_01[4] = 60"
   ]
  },
  {
   "cell_type": "code",
   "execution_count": 29,
   "id": "b171404b-5d56-4efd-a66d-7634dae8d996",
   "metadata": {},
   "outputs": [],
   "source": [
    "# Shallow Copy"
   ]
  },
  {
   "cell_type": "code",
   "execution_count": 27,
   "id": "798c036e-b432-41d8-b23a-4469f59ce5be",
   "metadata": {},
   "outputs": [
    {
     "data": {
      "text/plain": [
       "array([10, 20, 30, 40, 60])"
      ]
     },
     "execution_count": 27,
     "metadata": {},
     "output_type": "execute_result"
    }
   ],
   "source": [
    "array_01"
   ]
  },
  {
   "cell_type": "code",
   "execution_count": 28,
   "id": "9f96649b-6b3f-486e-8ead-e33ec3632bc0",
   "metadata": {},
   "outputs": [
    {
     "data": {
      "text/plain": [
       "array([10, 20, 30, 40, 60])"
      ]
     },
     "execution_count": 28,
     "metadata": {},
     "output_type": "execute_result"
    }
   ],
   "source": [
    "array_02"
   ]
  },
  {
   "cell_type": "code",
   "execution_count": 30,
   "id": "d9d56e24-4fed-40b1-ba7c-765a167f9e3d",
   "metadata": {},
   "outputs": [],
   "source": [
    "# Deep Copy"
   ]
  },
  {
   "cell_type": "code",
   "execution_count": 31,
   "id": "c79a2552-dc22-4fe2-a3d4-01c9ed27b1b4",
   "metadata": {},
   "outputs": [],
   "source": [
    "array_03 = numpy.copy(array_01)"
   ]
  },
  {
   "cell_type": "code",
   "execution_count": 32,
   "id": "2554cde3-92b2-4864-bf2e-7f537759e21b",
   "metadata": {},
   "outputs": [
    {
     "data": {
      "text/plain": [
       "array([10, 20, 30, 40, 60])"
      ]
     },
     "execution_count": 32,
     "metadata": {},
     "output_type": "execute_result"
    }
   ],
   "source": [
    "array_01"
   ]
  },
  {
   "cell_type": "code",
   "execution_count": 33,
   "id": "e8b2adbd-fb31-4f85-a177-5c029fcac092",
   "metadata": {},
   "outputs": [
    {
     "data": {
      "text/plain": [
       "array([10, 20, 30, 40, 60])"
      ]
     },
     "execution_count": 33,
     "metadata": {},
     "output_type": "execute_result"
    }
   ],
   "source": [
    "array_03"
   ]
  },
  {
   "cell_type": "code",
   "execution_count": 34,
   "id": "8ea1d12b-8190-41b2-b48f-65afe9ecdeb2",
   "metadata": {},
   "outputs": [],
   "source": [
    "array_01[4] = 70"
   ]
  },
  {
   "cell_type": "code",
   "execution_count": 37,
   "id": "eddf78af-df68-4d59-9e05-5632c96a20f7",
   "metadata": {},
   "outputs": [
    {
     "data": {
      "text/plain": [
       "array([10, 20, 30, 40, 70])"
      ]
     },
     "execution_count": 37,
     "metadata": {},
     "output_type": "execute_result"
    }
   ],
   "source": [
    "array_01"
   ]
  },
  {
   "cell_type": "code",
   "execution_count": 36,
   "id": "8844721e-e1d6-4a6e-9d9b-15c03bd68a93",
   "metadata": {},
   "outputs": [
    {
     "data": {
      "text/plain": [
       "array([10, 20, 30, 40, 60])"
      ]
     },
     "execution_count": 36,
     "metadata": {},
     "output_type": "execute_result"
    }
   ],
   "source": [
    "array_03"
   ]
  },
  {
   "cell_type": "code",
   "execution_count": 38,
   "id": "a424859c-775f-4daa-841c-f346d1535b7a",
   "metadata": {},
   "outputs": [],
   "source": [
    "array_03[4] = 80"
   ]
  },
  {
   "cell_type": "code",
   "execution_count": 39,
   "id": "21c380fc-7225-416b-8a0e-d7544e1b6bce",
   "metadata": {},
   "outputs": [
    {
     "data": {
      "text/plain": [
       "array([10, 20, 30, 40, 80])"
      ]
     },
     "execution_count": 39,
     "metadata": {},
     "output_type": "execute_result"
    }
   ],
   "source": [
    "array_03"
   ]
  },
  {
   "cell_type": "code",
   "execution_count": 40,
   "id": "12cfa01a-2cde-4676-a25c-225a2a69c745",
   "metadata": {},
   "outputs": [
    {
     "data": {
      "text/plain": [
       "array([10, 20, 30, 40, 70])"
      ]
     },
     "execution_count": 40,
     "metadata": {},
     "output_type": "execute_result"
    }
   ],
   "source": [
    "array_01"
   ]
  },
  {
   "cell_type": "code",
   "execution_count": 41,
   "id": "40728ffb-128f-4374-88ab-ca64af8916a6",
   "metadata": {},
   "outputs": [
    {
     "data": {
      "text/plain": [
       "array([[ True, False, False],\n",
       "       [False,  True, False],\n",
       "       [False, False,  True]])"
      ]
     },
     "execution_count": 41,
     "metadata": {},
     "output_type": "execute_result"
    }
   ],
   "source": [
    "numpy.fromfunction(lambda i, j : i == j, (3,3))"
   ]
  },
  {
   "cell_type": "code",
   "execution_count": 42,
   "id": "83860643-bbb1-4975-840b-668cbb1021c1",
   "metadata": {},
   "outputs": [
    {
     "data": {
      "text/plain": [
       "array([[0., 1., 2.],\n",
       "       [1., 2., 3.],\n",
       "       [2., 3., 4.]])"
      ]
     },
     "execution_count": 42,
     "metadata": {},
     "output_type": "execute_result"
    }
   ],
   "source": [
    "numpy.fromfunction(lambda i, j : i + j, (3,3))"
   ]
  },
  {
   "cell_type": "code",
   "execution_count": 44,
   "id": "148da5a6-cb45-4f50-95c2-7e2571c962f7",
   "metadata": {},
   "outputs": [],
   "source": [
    "iterable = (i * i for i in range(5))"
   ]
  },
  {
   "cell_type": "code",
   "execution_count": 45,
   "id": "38cd39b8-ac87-4883-ae3d-c90f9e7b86bd",
   "metadata": {},
   "outputs": [
    {
     "data": {
      "text/plain": [
       "array([ 0,  1,  4,  9, 16])"
      ]
     },
     "execution_count": 45,
     "metadata": {},
     "output_type": "execute_result"
    }
   ],
   "source": [
    "numpy.fromiter(iterable, int)"
   ]
  },
  {
   "cell_type": "code",
   "execution_count": 48,
   "id": "bf07e9f3-7074-456f-8400-165aecc04b11",
   "metadata": {},
   "outputs": [
    {
     "data": {
      "text/plain": [
       "array([10., 20., 30., 40., 50.])"
      ]
     },
     "execution_count": 48,
     "metadata": {},
     "output_type": "execute_result"
    }
   ],
   "source": [
    "numpy.fromstring(\"10 20 30 40 50\", sep = \" \")"
   ]
  },
  {
   "cell_type": "code",
   "execution_count": 49,
   "id": "13a52eb8-8f22-49ab-9bd7-757a479bfda1",
   "metadata": {},
   "outputs": [
    {
     "data": {
      "text/plain": [
       "array([10., 20., 30., 40., 50.])"
      ]
     },
     "execution_count": 49,
     "metadata": {},
     "output_type": "execute_result"
    }
   ],
   "source": [
    "numpy.fromstring(\"10, 20, 30, 40, 50\", sep = \",\")"
   ]
  },
  {
   "cell_type": "code",
   "execution_count": 50,
   "id": "eb964dc9-7c55-480a-bf11-9c842f7987d7",
   "metadata": {},
   "outputs": [],
   "source": [
    "# Python Numpy - Data Types"
   ]
  },
  {
   "cell_type": "code",
   "execution_count": 51,
   "id": "878b05e9-5e9c-425b-85ae-db4827ffa658",
   "metadata": {},
   "outputs": [],
   "source": [
    "list_01 = [10, 20, 30, 40, 50]"
   ]
  },
  {
   "cell_type": "code",
   "execution_count": 52,
   "id": "91b006a6-b48d-4941-93a4-39669b3d2c40",
   "metadata": {},
   "outputs": [],
   "source": [
    "array_01 = numpy.array(list_01)"
   ]
  },
  {
   "cell_type": "code",
   "execution_count": 53,
   "id": "ae4bdb5e-db8f-4e14-bdc5-b936e9613c0f",
   "metadata": {},
   "outputs": [
    {
     "data": {
      "text/plain": [
       "1"
      ]
     },
     "execution_count": 53,
     "metadata": {},
     "output_type": "execute_result"
    }
   ],
   "source": [
    "array_01.ndim"
   ]
  },
  {
   "cell_type": "code",
   "execution_count": 54,
   "id": "02963d29-356a-4873-bd86-87a724065281",
   "metadata": {},
   "outputs": [
    {
     "data": {
      "text/plain": [
       "5"
      ]
     },
     "execution_count": 54,
     "metadata": {},
     "output_type": "execute_result"
    }
   ],
   "source": [
    "array_01.size"
   ]
  },
  {
   "cell_type": "code",
   "execution_count": 55,
   "id": "94e1cf4c-9450-4a91-b78a-bac8651fefd1",
   "metadata": {},
   "outputs": [
    {
     "data": {
      "text/plain": [
       "(5,)"
      ]
     },
     "execution_count": 55,
     "metadata": {},
     "output_type": "execute_result"
    }
   ],
   "source": [
    "array_01.shape"
   ]
  },
  {
   "cell_type": "code",
   "execution_count": 57,
   "id": "b53b58fd-50f0-4047-83e5-0be851b064ff",
   "metadata": {},
   "outputs": [],
   "source": [
    "list_02 = [[10, 10], [20, 20], [30, 30]]"
   ]
  },
  {
   "cell_type": "code",
   "execution_count": 58,
   "id": "66f876c5-497f-4e5b-994e-453b4bdbf19a",
   "metadata": {},
   "outputs": [],
   "source": [
    "array_02 = numpy.array(list_02)"
   ]
  },
  {
   "cell_type": "code",
   "execution_count": 59,
   "id": "cdc77b5b-e641-4949-87ca-42adc7a62518",
   "metadata": {},
   "outputs": [
    {
     "data": {
      "text/plain": [
       "2"
      ]
     },
     "execution_count": 59,
     "metadata": {},
     "output_type": "execute_result"
    }
   ],
   "source": [
    "array_02.ndim"
   ]
  },
  {
   "cell_type": "code",
   "execution_count": 60,
   "id": "ce51e808-fe5b-453c-83a0-29189cfb5b06",
   "metadata": {},
   "outputs": [
    {
     "data": {
      "text/plain": [
       "6"
      ]
     },
     "execution_count": 60,
     "metadata": {},
     "output_type": "execute_result"
    }
   ],
   "source": [
    "array_02.size"
   ]
  },
  {
   "cell_type": "code",
   "execution_count": 61,
   "id": "51225cbf-8784-4dcf-b77a-870471e54089",
   "metadata": {},
   "outputs": [
    {
     "data": {
      "text/plain": [
       "(3, 2)"
      ]
     },
     "execution_count": 61,
     "metadata": {},
     "output_type": "execute_result"
    }
   ],
   "source": [
    "array_02.shape"
   ]
  },
  {
   "cell_type": "code",
   "execution_count": 62,
   "id": "688b4b8b-22fc-481a-ad3d-f5b1386bd863",
   "metadata": {},
   "outputs": [
    {
     "data": {
      "text/plain": [
       "dtype('int64')"
      ]
     },
     "execution_count": 62,
     "metadata": {},
     "output_type": "execute_result"
    }
   ],
   "source": [
    "array_01.dtype"
   ]
  },
  {
   "cell_type": "code",
   "execution_count": 63,
   "id": "acea337c-969d-41b4-87fa-af10c87cf7a6",
   "metadata": {},
   "outputs": [
    {
     "data": {
      "text/plain": [
       "dtype('int64')"
      ]
     },
     "execution_count": 63,
     "metadata": {},
     "output_type": "execute_result"
    }
   ],
   "source": [
    "array_02.dtype"
   ]
  },
  {
   "cell_type": "code",
   "execution_count": 64,
   "id": "fb86f8ac-6449-4e98-8b11-6c5f81878b20",
   "metadata": {},
   "outputs": [],
   "source": [
    "list_03 = [4.8, 5.6 , 7.8, 9.0]"
   ]
  },
  {
   "cell_type": "code",
   "execution_count": 65,
   "id": "dcc2b3da-8873-4f4e-a62a-4e7c494eae2e",
   "metadata": {},
   "outputs": [],
   "source": [
    "array_03 = numpy.array(list_03)"
   ]
  },
  {
   "cell_type": "code",
   "execution_count": 66,
   "id": "d64ca34c-6a4c-4e65-83d8-858296bb7618",
   "metadata": {},
   "outputs": [
    {
     "data": {
      "text/plain": [
       "dtype('float64')"
      ]
     },
     "execution_count": 66,
     "metadata": {},
     "output_type": "execute_result"
    }
   ],
   "source": [
    "array_03.dtype"
   ]
  },
  {
   "cell_type": "code",
   "execution_count": 69,
   "id": "192030ff-a89c-4298-b504-5d2c39e180dc",
   "metadata": {},
   "outputs": [
    {
     "data": {
      "text/plain": [
       "[0, 1, 2, 3, 4]"
      ]
     },
     "execution_count": 69,
     "metadata": {},
     "output_type": "execute_result"
    }
   ],
   "source": [
    "list(range(5))"
   ]
  },
  {
   "cell_type": "code",
   "execution_count": 71,
   "id": "45bff0fa-a0a4-4ec9-a098-5c213f620b10",
   "metadata": {},
   "outputs": [
    {
     "data": {
      "text/plain": [
       "array([0, 1, 2, 3, 4])"
      ]
     },
     "execution_count": 71,
     "metadata": {},
     "output_type": "execute_result"
    }
   ],
   "source": [
    "numpy.arange(0, 5)"
   ]
  },
  {
   "cell_type": "code",
   "execution_count": 72,
   "id": "24e04772-f464-42ad-8306-b1d599577565",
   "metadata": {},
   "outputs": [
    {
     "data": {
      "text/plain": [
       "array([0. , 0.5, 1. , 1.5, 2. , 2.5, 3. , 3.5, 4. , 4.5])"
      ]
     },
     "execution_count": 72,
     "metadata": {},
     "output_type": "execute_result"
    }
   ],
   "source": [
    "numpy.arange(0, 5, 0.5)"
   ]
  },
  {
   "cell_type": "code",
   "execution_count": 73,
   "id": "74feb602-79bd-4a6b-a032-a34bf07f9152",
   "metadata": {},
   "outputs": [
    {
     "data": {
      "text/plain": [
       "array([2.4, 2.8, 3.2, 3.6, 4. , 4.4, 4.8, 5.2, 5.6])"
      ]
     },
     "execution_count": 73,
     "metadata": {},
     "output_type": "execute_result"
    }
   ],
   "source": [
    "numpy.arange(2.4, 5.8, 0.4)"
   ]
  },
  {
   "cell_type": "code",
   "execution_count": 1,
   "id": "4e40f026-31a8-44dd-8b2a-0a91d80a5823",
   "metadata": {},
   "outputs": [],
   "source": [
    "import numpy\n",
    "import pandas"
   ]
  },
  {
   "cell_type": "code",
   "execution_count": 10,
   "id": "93f9f201-bffe-4066-9714-293cd9c2b2e3",
   "metadata": {},
   "outputs": [
    {
     "data": {
      "text/plain": [
       "array([ 1.  ,  3.25,  5.5 ,  7.75, 10.  ])"
      ]
     },
     "execution_count": 10,
     "metadata": {},
     "output_type": "execute_result"
    }
   ],
   "source": [
    "numpy.linspace(1,10,5)"
   ]
  },
  {
   "cell_type": "code",
   "execution_count": 11,
   "id": "00bb6670-2e40-4b59-b0a3-c6b5c3c9251a",
   "metadata": {},
   "outputs": [
    {
     "data": {
      "text/plain": [
       "array([ 10.        ,  17.7827941 ,  31.6227766 ,  56.23413252,\n",
       "       100.        ])"
      ]
     },
     "execution_count": 11,
     "metadata": {},
     "output_type": "execute_result"
    }
   ],
   "source": [
    "numpy.logspace(1, 2, 5, base = 10)"
   ]
  },
  {
   "cell_type": "code",
   "execution_count": 13,
   "id": "5ddd5dca-6b04-44e8-be5d-9677a54c9bcb",
   "metadata": {},
   "outputs": [
    {
     "data": {
      "text/plain": [
       "array([0., 0., 0., 0., 0.])"
      ]
     },
     "execution_count": 13,
     "metadata": {},
     "output_type": "execute_result"
    }
   ],
   "source": [
    "numpy.zeros(5)"
   ]
  },
  {
   "cell_type": "code",
   "execution_count": 14,
   "id": "4e927714-55ce-4f36-8583-e876e7c0b14a",
   "metadata": {},
   "outputs": [
    {
     "data": {
      "text/plain": [
       "array([[0., 0., 0., 0., 0.],\n",
       "       [0., 0., 0., 0., 0.],\n",
       "       [0., 0., 0., 0., 0.],\n",
       "       [0., 0., 0., 0., 0.],\n",
       "       [0., 0., 0., 0., 0.]])"
      ]
     },
     "execution_count": 14,
     "metadata": {},
     "output_type": "execute_result"
    }
   ],
   "source": [
    "numpy.zeros((5,5))"
   ]
  },
  {
   "cell_type": "code",
   "execution_count": 16,
   "id": "73867581-a012-4d5d-88c6-073695633945",
   "metadata": {},
   "outputs": [
    {
     "data": {
      "text/plain": [
       "array([[[0., 0., 0., 0., 0.],\n",
       "        [0., 0., 0., 0., 0.],\n",
       "        [0., 0., 0., 0., 0.],\n",
       "        [0., 0., 0., 0., 0.],\n",
       "        [0., 0., 0., 0., 0.]],\n",
       "\n",
       "       [[0., 0., 0., 0., 0.],\n",
       "        [0., 0., 0., 0., 0.],\n",
       "        [0., 0., 0., 0., 0.],\n",
       "        [0., 0., 0., 0., 0.],\n",
       "        [0., 0., 0., 0., 0.]],\n",
       "\n",
       "       [[0., 0., 0., 0., 0.],\n",
       "        [0., 0., 0., 0., 0.],\n",
       "        [0., 0., 0., 0., 0.],\n",
       "        [0., 0., 0., 0., 0.],\n",
       "        [0., 0., 0., 0., 0.]],\n",
       "\n",
       "       [[0., 0., 0., 0., 0.],\n",
       "        [0., 0., 0., 0., 0.],\n",
       "        [0., 0., 0., 0., 0.],\n",
       "        [0., 0., 0., 0., 0.],\n",
       "        [0., 0., 0., 0., 0.]],\n",
       "\n",
       "       [[0., 0., 0., 0., 0.],\n",
       "        [0., 0., 0., 0., 0.],\n",
       "        [0., 0., 0., 0., 0.],\n",
       "        [0., 0., 0., 0., 0.],\n",
       "        [0., 0., 0., 0., 0.]]])"
      ]
     },
     "execution_count": 16,
     "metadata": {},
     "output_type": "execute_result"
    }
   ],
   "source": [
    "numpy.zeros((5,5,5))"
   ]
  },
  {
   "cell_type": "code",
   "execution_count": 17,
   "id": "eb327d47-f696-412e-8542-0db8203f1620",
   "metadata": {},
   "outputs": [
    {
     "data": {
      "text/plain": [
       "array([1., 1., 1.])"
      ]
     },
     "execution_count": 17,
     "metadata": {},
     "output_type": "execute_result"
    }
   ],
   "source": [
    "numpy.ones(3)"
   ]
  },
  {
   "cell_type": "code",
   "execution_count": 18,
   "id": "853b5816-8c76-4e8a-a97b-13afcee8a593",
   "metadata": {},
   "outputs": [
    {
     "data": {
      "text/plain": [
       "array([[1., 1., 1.],\n",
       "       [1., 1., 1.],\n",
       "       [1., 1., 1.]])"
      ]
     },
     "execution_count": 18,
     "metadata": {},
     "output_type": "execute_result"
    }
   ],
   "source": [
    "numpy.ones((3,3))"
   ]
  },
  {
   "cell_type": "code",
   "execution_count": 19,
   "id": "57fca296-f53b-4b59-8419-ffc028722562",
   "metadata": {},
   "outputs": [
    {
     "data": {
      "text/plain": [
       "array([[[1., 1., 1.],\n",
       "        [1., 1., 1.],\n",
       "        [1., 1., 1.]],\n",
       "\n",
       "       [[1., 1., 1.],\n",
       "        [1., 1., 1.],\n",
       "        [1., 1., 1.]],\n",
       "\n",
       "       [[1., 1., 1.],\n",
       "        [1., 1., 1.],\n",
       "        [1., 1., 1.]]])"
      ]
     },
     "execution_count": 19,
     "metadata": {},
     "output_type": "execute_result"
    }
   ],
   "source": [
    "numpy.ones((3,3,3))"
   ]
  },
  {
   "cell_type": "code",
   "execution_count": 38,
   "id": "632af0bf-4ced-407e-b1fc-c3d3025f8780",
   "metadata": {},
   "outputs": [
    {
     "data": {
      "text/plain": [
       "array([[-1.8889215 , -0.61748227, -0.94959337],\n",
       "       [-0.03118375, -1.40625971,  0.71924652],\n",
       "       [ 0.41657458, -1.89445092,  0.12510936]])"
      ]
     },
     "execution_count": 38,
     "metadata": {},
     "output_type": "execute_result"
    }
   ],
   "source": [
    "numpy.random.randn(3,3)"
   ]
  },
  {
   "cell_type": "code",
   "execution_count": 39,
   "id": "79fee203-9e5a-4d42-be6d-1294e8a1db9a",
   "metadata": {},
   "outputs": [
    {
     "data": {
      "text/plain": [
       "array([[5.94379006e-04, 9.67213616e-01, 9.32141255e-02, 5.42148407e-01],\n",
       "       [4.30578607e-01, 5.87926256e-01, 1.68377900e-01, 2.62223962e-02],\n",
       "       [6.27444086e-03, 9.00366776e-02, 4.76801353e-01, 6.18132131e-01]])"
      ]
     },
     "execution_count": 39,
     "metadata": {},
     "output_type": "execute_result"
    }
   ],
   "source": [
    "numpy.random.rand(3,4)"
   ]
  },
  {
   "cell_type": "code",
   "execution_count": 40,
   "id": "52ba9dcd-2c2b-43e8-aab6-a97071c73601",
   "metadata": {},
   "outputs": [
    {
     "data": {
      "text/plain": [
       "array([[1, 3, 4, 2, 8],\n",
       "       [6, 3, 8, 4, 3],\n",
       "       [8, 5, 6, 9, 9],\n",
       "       [3, 6, 2, 3, 5],\n",
       "       [7, 6, 5, 8, 8]])"
      ]
     },
     "execution_count": 40,
     "metadata": {},
     "output_type": "execute_result"
    }
   ],
   "source": [
    "numpy.random.randint(1,10, (5,5))"
   ]
  },
  {
   "cell_type": "code",
   "execution_count": 41,
   "id": "2ed8d4ff-cf71-42b1-9cc4-b5c46db20f61",
   "metadata": {},
   "outputs": [
    {
     "data": {
      "text/html": [
       "<div>\n",
       "<style scoped>\n",
       "    .dataframe tbody tr th:only-of-type {\n",
       "        vertical-align: middle;\n",
       "    }\n",
       "\n",
       "    .dataframe tbody tr th {\n",
       "        vertical-align: top;\n",
       "    }\n",
       "\n",
       "    .dataframe thead th {\n",
       "        text-align: right;\n",
       "    }\n",
       "</style>\n",
       "<table border=\"1\" class=\"dataframe\">\n",
       "  <thead>\n",
       "    <tr style=\"text-align: right;\">\n",
       "      <th></th>\n",
       "      <th>0</th>\n",
       "      <th>1</th>\n",
       "      <th>2</th>\n",
       "      <th>3</th>\n",
       "      <th>4</th>\n",
       "    </tr>\n",
       "  </thead>\n",
       "  <tbody>\n",
       "    <tr>\n",
       "      <th>0</th>\n",
       "      <td>7</td>\n",
       "      <td>4</td>\n",
       "      <td>8</td>\n",
       "      <td>6</td>\n",
       "      <td>2</td>\n",
       "    </tr>\n",
       "    <tr>\n",
       "      <th>1</th>\n",
       "      <td>7</td>\n",
       "      <td>7</td>\n",
       "      <td>3</td>\n",
       "      <td>9</td>\n",
       "      <td>3</td>\n",
       "    </tr>\n",
       "    <tr>\n",
       "      <th>2</th>\n",
       "      <td>6</td>\n",
       "      <td>6</td>\n",
       "      <td>1</td>\n",
       "      <td>9</td>\n",
       "      <td>8</td>\n",
       "    </tr>\n",
       "    <tr>\n",
       "      <th>3</th>\n",
       "      <td>2</td>\n",
       "      <td>3</td>\n",
       "      <td>6</td>\n",
       "      <td>6</td>\n",
       "      <td>5</td>\n",
       "    </tr>\n",
       "    <tr>\n",
       "      <th>4</th>\n",
       "      <td>8</td>\n",
       "      <td>8</td>\n",
       "      <td>8</td>\n",
       "      <td>6</td>\n",
       "      <td>4</td>\n",
       "    </tr>\n",
       "  </tbody>\n",
       "</table>\n",
       "</div>"
      ],
      "text/plain": [
       "   0  1  2  3  4\n",
       "0  7  4  8  6  2\n",
       "1  7  7  3  9  3\n",
       "2  6  6  1  9  8\n",
       "3  2  3  6  6  5\n",
       "4  8  8  8  6  4"
      ]
     },
     "execution_count": 41,
     "metadata": {},
     "output_type": "execute_result"
    }
   ],
   "source": [
    "pandas.DataFrame(numpy.random.randint(1,10, (5,5)))"
   ]
  },
  {
   "cell_type": "code",
   "execution_count": 43,
   "id": "3ab47ac8-7eb5-46f2-b15b-d799aab26fdf",
   "metadata": {},
   "outputs": [],
   "source": [
    "pandas.DataFrame(numpy.random.randint(1,10, (5,5))).to_csv(\"array_01.csv\")"
   ]
  },
  {
   "cell_type": "code",
   "execution_count": 44,
   "id": "e5ac4122-144a-49cb-9368-8518d2c3088b",
   "metadata": {},
   "outputs": [],
   "source": [
    "array_01 = numpy.random.randint(1,10, (5,5))"
   ]
  },
  {
   "cell_type": "code",
   "execution_count": 45,
   "id": "4b469b27-b115-43a7-8c7b-f1655c307ef2",
   "metadata": {},
   "outputs": [
    {
     "data": {
      "text/plain": [
       "array([[4, 3, 6, 3, 9],\n",
       "       [7, 6, 6, 1, 4],\n",
       "       [9, 8, 3, 3, 5],\n",
       "       [3, 5, 4, 1, 2],\n",
       "       [3, 2, 7, 5, 4]])"
      ]
     },
     "execution_count": 45,
     "metadata": {},
     "output_type": "execute_result"
    }
   ],
   "source": [
    "array_01 "
   ]
  },
  {
   "cell_type": "code",
   "execution_count": 46,
   "id": "62bd7bb8-089f-49b1-ada1-f513ed08b6e9",
   "metadata": {},
   "outputs": [
    {
     "data": {
      "text/plain": [
       "array([3, 6, 8, 5, 2])"
      ]
     },
     "execution_count": 46,
     "metadata": {},
     "output_type": "execute_result"
    }
   ],
   "source": [
    "array_01[0:5, 1]"
   ]
  },
  {
   "cell_type": "code",
   "execution_count": 47,
   "id": "251153f0-36a1-4a7e-a89c-9003d6d4824f",
   "metadata": {},
   "outputs": [
    {
     "data": {
      "text/plain": [
       "array([[8, 3],\n",
       "       [5, 4]])"
      ]
     },
     "execution_count": 47,
     "metadata": {},
     "output_type": "execute_result"
    }
   ],
   "source": [
    "array_01[2:4, (1,2)]"
   ]
  },
  {
   "cell_type": "code",
   "execution_count": 49,
   "id": "09f5db45-d7e1-4bb7-9ae1-4ff0092a1089",
   "metadata": {},
   "outputs": [],
   "source": [
    "array_01[0][0] = 5"
   ]
  },
  {
   "cell_type": "code",
   "execution_count": 50,
   "id": "a3114820-bbb1-4b31-8f6b-ff0c0ba9d45c",
   "metadata": {},
   "outputs": [
    {
     "data": {
      "text/plain": [
       "array([[5, 3, 6, 3, 9],\n",
       "       [7, 6, 6, 1, 4],\n",
       "       [9, 8, 3, 3, 5],\n",
       "       [3, 5, 4, 1, 2],\n",
       "       [3, 2, 7, 5, 4]])"
      ]
     },
     "execution_count": 50,
     "metadata": {},
     "output_type": "execute_result"
    }
   ],
   "source": [
    "array_01"
   ]
  },
  {
   "cell_type": "code",
   "execution_count": 51,
   "id": "95e121ab-83e1-419b-a9bd-de7bdc538df4",
   "metadata": {},
   "outputs": [],
   "source": [
    "array_01 = numpy.random.randint(1,10,(3,4))"
   ]
  },
  {
   "cell_type": "code",
   "execution_count": 52,
   "id": "1e21605e-7af8-4a1e-a54b-f5b4513b3ccb",
   "metadata": {},
   "outputs": [
    {
     "data": {
      "text/plain": [
       "array([[6, 2, 7, 1],\n",
       "       [5, 3, 1, 8],\n",
       "       [4, 5, 5, 8]])"
      ]
     },
     "execution_count": 52,
     "metadata": {},
     "output_type": "execute_result"
    }
   ],
   "source": [
    "array_01"
   ]
  },
  {
   "cell_type": "code",
   "execution_count": 54,
   "id": "b9dc7591-e5b8-4a36-bb98-cb500460dc62",
   "metadata": {},
   "outputs": [
    {
     "data": {
      "text/plain": [
       "array([[6, 2],\n",
       "       [7, 1],\n",
       "       [5, 3],\n",
       "       [1, 8],\n",
       "       [4, 5],\n",
       "       [5, 8]])"
      ]
     },
     "execution_count": 54,
     "metadata": {},
     "output_type": "execute_result"
    }
   ],
   "source": [
    "array_01.reshape(6,2)"
   ]
  },
  {
   "cell_type": "code",
   "execution_count": 75,
   "id": "75e28d27-1cd0-486d-a75b-060a167cb359",
   "metadata": {},
   "outputs": [],
   "source": [
    "# Python Numpy - Mathematical Operations"
   ]
  },
  {
   "cell_type": "code",
   "execution_count": 72,
   "id": "92eea3b8-3d1d-46d8-bb8a-86ef56d36eff",
   "metadata": {},
   "outputs": [],
   "source": [
    "array_01 = numpy.random.randint(1,6,(3,3))"
   ]
  },
  {
   "cell_type": "code",
   "execution_count": 56,
   "id": "fe2cffb0-2dab-456f-ae23-0b17bb2daa9f",
   "metadata": {},
   "outputs": [],
   "source": [
    "array_02 = numpy.random.randint(1,6,(3,3))"
   ]
  },
  {
   "cell_type": "code",
   "execution_count": 57,
   "id": "19eb0127-ad9f-4178-81e5-1bebc2d7b340",
   "metadata": {},
   "outputs": [
    {
     "data": {
      "text/plain": [
       "array([[5, 2, 2],\n",
       "       [2, 4, 2],\n",
       "       [1, 2, 1]])"
      ]
     },
     "execution_count": 57,
     "metadata": {},
     "output_type": "execute_result"
    }
   ],
   "source": [
    "array_01"
   ]
  },
  {
   "cell_type": "code",
   "execution_count": 58,
   "id": "d6eec23a-45e7-43ad-aada-3cd2fbf1be99",
   "metadata": {},
   "outputs": [
    {
     "data": {
      "text/plain": [
       "array([[4, 4, 5],\n",
       "       [1, 1, 3],\n",
       "       [4, 4, 4]])"
      ]
     },
     "execution_count": 58,
     "metadata": {},
     "output_type": "execute_result"
    }
   ],
   "source": [
    "array_02"
   ]
  },
  {
   "cell_type": "code",
   "execution_count": 59,
   "id": "a432087b-81f6-48ee-80ee-3be19a3c9d3e",
   "metadata": {},
   "outputs": [
    {
     "data": {
      "text/plain": [
       "array([[9, 6, 7],\n",
       "       [3, 5, 5],\n",
       "       [5, 6, 5]])"
      ]
     },
     "execution_count": 59,
     "metadata": {},
     "output_type": "execute_result"
    }
   ],
   "source": [
    "array_01 + array_02"
   ]
  },
  {
   "cell_type": "code",
   "execution_count": 60,
   "id": "749f844e-ca42-44f2-95a9-ebd783400b54",
   "metadata": {},
   "outputs": [
    {
     "data": {
      "text/plain": [
       "array([[ 1, -2, -3],\n",
       "       [ 1,  3, -1],\n",
       "       [-3, -2, -3]])"
      ]
     },
     "execution_count": 60,
     "metadata": {},
     "output_type": "execute_result"
    }
   ],
   "source": [
    "array_01 - array_02"
   ]
  },
  {
   "cell_type": "code",
   "execution_count": 61,
   "id": "eba56b7c-ca31-4abf-9f91-472c2886d0ae",
   "metadata": {},
   "outputs": [
    {
     "data": {
      "text/plain": [
       "array([[20,  8, 10],\n",
       "       [ 2,  4,  6],\n",
       "       [ 4,  8,  4]])"
      ]
     },
     "execution_count": 61,
     "metadata": {},
     "output_type": "execute_result"
    }
   ],
   "source": [
    "array_01 * array_02"
   ]
  },
  {
   "cell_type": "code",
   "execution_count": 62,
   "id": "91a18d26-8651-407e-acfc-6a7e4cd16abb",
   "metadata": {},
   "outputs": [
    {
     "data": {
      "text/plain": [
       "array([[1.25      , 0.5       , 0.4       ],\n",
       "       [2.        , 4.        , 0.66666667],\n",
       "       [0.25      , 0.5       , 0.25      ]])"
      ]
     },
     "execution_count": 62,
     "metadata": {},
     "output_type": "execute_result"
    }
   ],
   "source": [
    "array_01 / array_02"
   ]
  },
  {
   "cell_type": "code",
   "execution_count": 63,
   "id": "a7afe3af-1d9c-4352-ace5-9910dce25449",
   "metadata": {},
   "outputs": [
    {
     "data": {
      "text/plain": [
       "array([[30, 30, 39],\n",
       "       [20, 20, 30],\n",
       "       [10, 10, 15]])"
      ]
     },
     "execution_count": 63,
     "metadata": {},
     "output_type": "execute_result"
    }
   ],
   "source": [
    "array_01 @ array_02"
   ]
  },
  {
   "cell_type": "code",
   "execution_count": 64,
   "id": "bdc5967e-bf71-4327-8244-f5d15a9eccf5",
   "metadata": {},
   "outputs": [
    {
     "data": {
      "text/plain": [
       "array([[25,  4,  4],\n",
       "       [ 4, 16,  4],\n",
       "       [ 1,  4,  1]])"
      ]
     },
     "execution_count": 64,
     "metadata": {},
     "output_type": "execute_result"
    }
   ],
   "source": [
    "array_01 ** 2"
   ]
  },
  {
   "cell_type": "code",
   "execution_count": 69,
   "id": "6da10e75-70e3-4a47-97c9-40b593eae669",
   "metadata": {},
   "outputs": [],
   "source": [
    "array_03 = numpy.eye(3, dtype = int)"
   ]
  },
  {
   "cell_type": "code",
   "execution_count": 70,
   "id": "79fe6a07-af32-4902-8918-55b66bfe363d",
   "metadata": {},
   "outputs": [
    {
     "data": {
      "text/plain": [
       "array([[5, 2, 2],\n",
       "       [2, 4, 2],\n",
       "       [1, 2, 1]])"
      ]
     },
     "execution_count": 70,
     "metadata": {},
     "output_type": "execute_result"
    }
   ],
   "source": [
    "array_01 @ array_03"
   ]
  },
  {
   "cell_type": "code",
   "execution_count": 74,
   "id": "9c17e878-0598-4b7b-bae8-2006671dde72",
   "metadata": {},
   "outputs": [
    {
     "data": {
      "text/plain": [
       "array([[3, 1, 2],\n",
       "       [1, 5, 2],\n",
       "       [3, 3, 1]])"
      ]
     },
     "execution_count": 74,
     "metadata": {},
     "output_type": "execute_result"
    }
   ],
   "source": [
    "array_01"
   ]
  },
  {
   "cell_type": "code",
   "execution_count": 73,
   "id": "574352a0-6f0b-4bd0-aaba-ad9aebed03c6",
   "metadata": {},
   "outputs": [
    {
     "data": {
      "text/plain": [
       "array([[4, 1, 2],\n",
       "       [1, 6, 2],\n",
       "       [3, 3, 2]])"
      ]
     },
     "execution_count": 73,
     "metadata": {},
     "output_type": "execute_result"
    }
   ],
   "source": [
    "array_01 + array_03"
   ]
  },
  {
   "cell_type": "code",
   "execution_count": 76,
   "id": "cc044c56-98c7-4ef4-b3b5-bc0470255703",
   "metadata": {},
   "outputs": [],
   "source": [
    "# Numpy Python - Broadcasting"
   ]
  },
  {
   "cell_type": "code",
   "execution_count": 85,
   "id": "6499f8de-2dd6-4fc3-8169-cc24aaf50d72",
   "metadata": {},
   "outputs": [],
   "source": [
    "list_01 = [[1, 2, 3]]"
   ]
  },
  {
   "cell_type": "code",
   "execution_count": 86,
   "id": "e916a841-bd88-4c6a-82b9-426dd16aba54",
   "metadata": {},
   "outputs": [],
   "source": [
    "array_01 = numpy.zeros((3,3), dtype = int)"
   ]
  },
  {
   "cell_type": "code",
   "execution_count": 87,
   "id": "ca36cd6c-266a-4188-a470-d32322c59de3",
   "metadata": {},
   "outputs": [],
   "source": [
    "row_01 = numpy.array(list_01)"
   ]
  },
  {
   "cell_type": "code",
   "execution_count": 88,
   "id": "e1dd5e31-0700-4370-ba6f-0b91bb8301b6",
   "metadata": {},
   "outputs": [
    {
     "data": {
      "text/plain": [
       "array([[1, 2, 3],\n",
       "       [1, 2, 3],\n",
       "       [1, 2, 3]])"
      ]
     },
     "execution_count": 88,
     "metadata": {},
     "output_type": "execute_result"
    }
   ],
   "source": [
    "array_01 + row_01"
   ]
  },
  {
   "cell_type": "code",
   "execution_count": 89,
   "id": "8945decb-9f3f-45cc-a993-b1365651c92b",
   "metadata": {},
   "outputs": [],
   "source": [
    "col_01 = numpy.array(list_01).T"
   ]
  },
  {
   "cell_type": "code",
   "execution_count": 91,
   "id": "43e853dd-957f-4519-b6bc-94648b8c9706",
   "metadata": {},
   "outputs": [
    {
     "data": {
      "text/plain": [
       "array([[1, 1, 1],\n",
       "       [2, 2, 2],\n",
       "       [3, 3, 3]])"
      ]
     },
     "execution_count": 91,
     "metadata": {},
     "output_type": "execute_result"
    }
   ],
   "source": [
    "array_01 + col_01"
   ]
  },
  {
   "cell_type": "code",
   "execution_count": 92,
   "id": "dba7a227-3396-466a-a728-830796591ac0",
   "metadata": {},
   "outputs": [],
   "source": [
    "array_01 = numpy.random.randint(1,11,(3,3))"
   ]
  },
  {
   "cell_type": "code",
   "execution_count": 93,
   "id": "9d59c9b3-6bcf-4485-ba7f-ca38b895ea2e",
   "metadata": {},
   "outputs": [
    {
     "data": {
      "text/plain": [
       "array([[ 4,  3,  1],\n",
       "       [ 8,  3,  2],\n",
       "       [ 9,  3, 10]])"
      ]
     },
     "execution_count": 93,
     "metadata": {},
     "output_type": "execute_result"
    }
   ],
   "source": [
    "array_01"
   ]
  },
  {
   "cell_type": "code",
   "execution_count": 94,
   "id": "f5da44e5-72e7-4411-a0b5-b438ba58551e",
   "metadata": {},
   "outputs": [
    {
     "data": {
      "text/plain": [
       "array([[2.        , 1.73205081, 1.        ],\n",
       "       [2.82842712, 1.73205081, 1.41421356],\n",
       "       [3.        , 1.73205081, 3.16227766]])"
      ]
     },
     "execution_count": 94,
     "metadata": {},
     "output_type": "execute_result"
    }
   ],
   "source": [
    "numpy.sqrt(array_01)"
   ]
  },
  {
   "cell_type": "code",
   "execution_count": 95,
   "id": "663becd4-3d36-44b2-bc04-3a2a2bdcf57f",
   "metadata": {},
   "outputs": [
    {
     "data": {
      "text/plain": [
       "array([[5.45981500e+01, 2.00855369e+01, 2.71828183e+00],\n",
       "       [2.98095799e+03, 2.00855369e+01, 7.38905610e+00],\n",
       "       [8.10308393e+03, 2.00855369e+01, 2.20264658e+04]])"
      ]
     },
     "execution_count": 95,
     "metadata": {},
     "output_type": "execute_result"
    }
   ],
   "source": [
    "numpy.exp(array_01)"
   ]
  },
  {
   "cell_type": "code",
   "execution_count": 96,
   "id": "03356ef7-3ac0-4a91-9cce-7673e5fa52aa",
   "metadata": {},
   "outputs": [
    {
     "data": {
      "text/plain": [
       "array([[0.60205999, 0.47712125, 0.        ],\n",
       "       [0.90308999, 0.47712125, 0.30103   ],\n",
       "       [0.95424251, 0.47712125, 1.        ]])"
      ]
     },
     "execution_count": 96,
     "metadata": {},
     "output_type": "execute_result"
    }
   ],
   "source": [
    "numpy.log10(array_01)"
   ]
  },
  {
   "cell_type": "code",
   "execution_count": null,
   "id": "75fb351d-4337-4df2-a397-c9e013d127b0",
   "metadata": {},
   "outputs": [],
   "source": []
  }
 ],
 "metadata": {
  "kernelspec": {
   "display_name": "Python 3 (ipykernel)",
   "language": "python",
   "name": "python3"
  },
  "language_info": {
   "codemirror_mode": {
    "name": "ipython",
    "version": 3
   },
   "file_extension": ".py",
   "mimetype": "text/x-python",
   "name": "python",
   "nbconvert_exporter": "python",
   "pygments_lexer": "ipython3",
   "version": "3.10.8"
  }
 },
 "nbformat": 4,
 "nbformat_minor": 5
}
