{
 "cells": [
  {
   "cell_type": "code",
   "execution_count": 7,
   "id": "b480009e-a652-44f6-b1e7-be2e60983308",
   "metadata": {},
   "outputs": [],
   "source": [
    "# Basics of Numpy"
   ]
  },
  {
   "cell_type": "code",
   "execution_count": 1,
   "id": "6c9932a8-9bae-4a18-a3fb-4a683c14ec40",
   "metadata": {},
   "outputs": [],
   "source": [
    "import numpy as np"
   ]
  },
  {
   "cell_type": "code",
   "execution_count": 38,
   "id": "8075eda8-21eb-4ec3-be1d-41f39c69d012",
   "metadata": {},
   "outputs": [
    {
     "name": "stdout",
     "output_type": "stream",
     "text": [
      "[1 2 3 4 5]\n"
     ]
    }
   ],
   "source": [
    "a = np.array([1,2,3,4,5], dtype = \"int32\")\n",
    "print(a)"
   ]
  },
  {
   "cell_type": "code",
   "execution_count": 39,
   "id": "a18ad2b7-46a3-424a-ae74-fd7e34185df7",
   "metadata": {},
   "outputs": [
    {
     "name": "stdout",
     "output_type": "stream",
     "text": [
      "[[ 1  2  3  4  5]\n",
      " [ 6  7  8  9 10]]\n"
     ]
    }
   ],
   "source": [
    "b = np.array([[1,2,3,4,5],[6,7,8,9,10]], dtype = \"int32\")\n",
    "print(b)"
   ]
  },
  {
   "cell_type": "code",
   "execution_count": 50,
   "id": "7a616b08-6e15-4c41-8669-4b67fd5241c2",
   "metadata": {},
   "outputs": [],
   "source": [
    "def print_dimension(a,b) :\n",
    "    print(\"a.ndim = \" + str(a.ndim))\n",
    "    print(\"b.ndim = \" + str(b.ndim))"
   ]
  },
  {
   "cell_type": "code",
   "execution_count": 51,
   "id": "73c07b56-7794-4d0c-a695-6301b5641a06",
   "metadata": {},
   "outputs": [],
   "source": [
    "def print_size(a,b) :\n",
    "    print(\"a.size = \" + str(a.size))\n",
    "    print(\"b.size = \" + str(b.size))"
   ]
  },
  {
   "cell_type": "code",
   "execution_count": 52,
   "id": "e925534c-0d9e-4ab8-9157-15a4da91720a",
   "metadata": {},
   "outputs": [],
   "source": [
    "def print_shape(a,b) :\n",
    "    print(\"a.shape = \" + str(a.shape))\n",
    "    print(\"b.shape = \" + str(b.shape))"
   ]
  },
  {
   "cell_type": "code",
   "execution_count": 53,
   "id": "0bcab688-fdec-4541-8c99-90969ec570d8",
   "metadata": {},
   "outputs": [],
   "source": [
    "def print_dtype(a,b) :\n",
    "    print(\"a.dtype = \" + str(a.dtype))\n",
    "    print(\"b.dtype = \" + str(b.dtype))"
   ]
  },
  {
   "cell_type": "code",
   "execution_count": 54,
   "id": "3736277e-8062-4f6b-b0fd-56461c21beb7",
   "metadata": {},
   "outputs": [],
   "source": [
    "def print_itemsize(a,b) :\n",
    "    print(\"a.itemsize = \" + str(a.itemsize))\n",
    "    print(\"b.itemsize = \" + str(b.itemsize))"
   ]
  },
  {
   "cell_type": "code",
   "execution_count": 90,
   "id": "57234d35-427a-4aa1-8d2d-eabba8158d79",
   "metadata": {},
   "outputs": [],
   "source": [
    "def print_memory(a,b) :\n",
    "    print(\"Total memory size of array 'a' : \" + str(a.nbytes))\n",
    "    print(\"Total memory size of array 'b' : \" + str(b.nbytes))"
   ]
  },
  {
   "cell_type": "code",
   "execution_count": 8,
   "id": "38cb471b-7add-4c26-8672-20e0d89f19fa",
   "metadata": {},
   "outputs": [],
   "source": [
    "# Accessing Elements From Arrays"
   ]
  },
  {
   "cell_type": "code",
   "execution_count": 9,
   "id": "e9e7dbe1-c904-4acc-b23a-61eb2fc1773e",
   "metadata": {},
   "outputs": [
    {
     "data": {
      "text/plain": [
       "5"
      ]
     },
     "execution_count": 9,
     "metadata": {},
     "output_type": "execute_result"
    }
   ],
   "source": [
    "a[4]"
   ]
  },
  {
   "cell_type": "code",
   "execution_count": 10,
   "id": "a5305b9a-d6fb-4b10-98b5-d1629ce390fa",
   "metadata": {},
   "outputs": [
    {
     "data": {
      "text/plain": [
       "10"
      ]
     },
     "execution_count": 10,
     "metadata": {},
     "output_type": "execute_result"
    }
   ],
   "source": [
    "b[1,4]"
   ]
  },
  {
   "cell_type": "code",
   "execution_count": 11,
   "id": "6d241bfb-c3d8-4354-a8c0-fd70830947d0",
   "metadata": {},
   "outputs": [
    {
     "data": {
      "text/plain": [
       "10"
      ]
     },
     "execution_count": 11,
     "metadata": {},
     "output_type": "execute_result"
    }
   ],
   "source": [
    "b[1][4]"
   ]
  },
  {
   "cell_type": "code",
   "execution_count": 12,
   "id": "1e963303-af70-4274-96e6-cd2d92eaf9d4",
   "metadata": {},
   "outputs": [
    {
     "data": {
      "text/plain": [
       "array([2, 3, 4])"
      ]
     },
     "execution_count": 12,
     "metadata": {},
     "output_type": "execute_result"
    }
   ],
   "source": [
    "b[0][1:4:1]"
   ]
  },
  {
   "cell_type": "code",
   "execution_count": 19,
   "id": "d8a0dfd0-4045-4512-8f82-5b5f11725ee2",
   "metadata": {},
   "outputs": [
    {
     "data": {
      "text/plain": [
       "array([ 6,  7,  8,  9, 10])"
      ]
     },
     "execution_count": 19,
     "metadata": {},
     "output_type": "execute_result"
    }
   ],
   "source": [
    "b[1,:]"
   ]
  },
  {
   "cell_type": "code",
   "execution_count": 20,
   "id": "212eda74-a54d-4482-885d-0180b4ae21fe",
   "metadata": {},
   "outputs": [
    {
     "data": {
      "text/plain": [
       "array([2, 7])"
      ]
     },
     "execution_count": 20,
     "metadata": {},
     "output_type": "execute_result"
    }
   ],
   "source": [
    "b[:,1]"
   ]
  },
  {
   "cell_type": "code",
   "execution_count": 22,
   "id": "be2d8f10-dae0-4102-97fb-224c742b0914",
   "metadata": {},
   "outputs": [
    {
     "data": {
      "text/plain": [
       "array([[2, 4],\n",
       "       [7, 9]])"
      ]
     },
     "execution_count": 22,
     "metadata": {},
     "output_type": "execute_result"
    }
   ],
   "source": [
    "b[:,1:4:2]"
   ]
  },
  {
   "cell_type": "code",
   "execution_count": 28,
   "id": "2a108847-af66-40fa-a185-dd3e22b6afe4",
   "metadata": {},
   "outputs": [
    {
     "data": {
      "text/plain": [
       "array([[2, 4],\n",
       "       [7, 9]])"
      ]
     },
     "execution_count": 28,
     "metadata": {},
     "output_type": "execute_result"
    }
   ],
   "source": [
    "b[0:2:1,1:4:2]"
   ]
  },
  {
   "cell_type": "code",
   "execution_count": 45,
   "id": "a9fea55c-bdf6-4331-8162-eb29afbd4270",
   "metadata": {},
   "outputs": [],
   "source": [
    "# Types of Arrays"
   ]
  },
  {
   "cell_type": "code",
   "execution_count": 69,
   "id": "3a2c5422-2110-4d48-8eef-96e797977a6b",
   "metadata": {},
   "outputs": [],
   "source": [
    "a = np.array([1,2,3,4,5])\n",
    "b = np.matrix([1,2,3,4,5])"
   ]
  },
  {
   "cell_type": "code",
   "execution_count": 70,
   "id": "9c87ec90-dc4c-4660-b4c1-43f921fbdcb8",
   "metadata": {},
   "outputs": [
    {
     "name": "stdout",
     "output_type": "stream",
     "text": [
      "[1 2 3 4 5]\n",
      "[[1 2 3 4 5]]\n"
     ]
    }
   ],
   "source": [
    "print(a)\n",
    "print(b)"
   ]
  },
  {
   "cell_type": "code",
   "execution_count": 71,
   "id": "4e3ac254-c816-4ee6-b33d-6ee369013e03",
   "metadata": {},
   "outputs": [
    {
     "name": "stdout",
     "output_type": "stream",
     "text": [
      "a.ndim = 1\n",
      "b.ndim = 2\n"
     ]
    }
   ],
   "source": [
    "print_dimension(a,b)"
   ]
  },
  {
   "cell_type": "code",
   "execution_count": 72,
   "id": "906b1583-53f6-4fa2-881d-62021905f3d2",
   "metadata": {},
   "outputs": [
    {
     "name": "stdout",
     "output_type": "stream",
     "text": [
      "a.size = 5\n",
      "b.size = 5\n"
     ]
    }
   ],
   "source": [
    "print_size(a,b)"
   ]
  },
  {
   "cell_type": "code",
   "execution_count": 81,
   "id": "7ec5155b-288a-48a7-bd81-d85b86b14e3b",
   "metadata": {},
   "outputs": [
    {
     "name": "stdout",
     "output_type": "stream",
     "text": [
      "a.shape = (5,)\n",
      "b.shape = (1, 5)\n"
     ]
    }
   ],
   "source": [
    "print_shape(a,b)"
   ]
  },
  {
   "cell_type": "code",
   "execution_count": 82,
   "id": "34890e31-a9bb-490e-af48-3ae5c4bfe7ff",
   "metadata": {},
   "outputs": [
    {
     "name": "stdout",
     "output_type": "stream",
     "text": [
      "a.itemsize = 8\n",
      "b.itemsize = 8\n"
     ]
    }
   ],
   "source": [
    "print_itemsize(a,b)"
   ]
  },
  {
   "cell_type": "code",
   "execution_count": 91,
   "id": "ecdf0baf-0089-462b-a8fb-acc5a0bb82bc",
   "metadata": {},
   "outputs": [
    {
     "name": "stdout",
     "output_type": "stream",
     "text": [
      "Total memory size of array 'a' : 40\n",
      "Total memory size of array 'b' : 40\n"
     ]
    }
   ],
   "source": [
    "print_memory(a,b)"
   ]
  },
  {
   "cell_type": "code",
   "execution_count": 84,
   "id": "e736ebd9-4f56-40d2-8485-2994cb3e01c7",
   "metadata": {},
   "outputs": [
    {
     "data": {
      "text/plain": [
       "array([[1, 2, 3, 4, 5]])"
      ]
     },
     "execution_count": 84,
     "metadata": {},
     "output_type": "execute_result"
    }
   ],
   "source": [
    "np.asarray(b)"
   ]
  },
  {
   "cell_type": "code",
   "execution_count": 86,
   "id": "09385060-388f-42e0-b8c6-e88052ae6455",
   "metadata": {},
   "outputs": [
    {
     "data": {
      "text/plain": [
       "matrix([[1, 2, 3, 4, 5]])"
      ]
     },
     "execution_count": 86,
     "metadata": {},
     "output_type": "execute_result"
    }
   ],
   "source": [
    "np.asanyarray(b)"
   ]
  },
  {
   "cell_type": "code",
   "execution_count": 92,
   "id": "b71562a5-9723-4fd9-8fdd-6e635e58987f",
   "metadata": {},
   "outputs": [],
   "source": [
    "# 3-Dimensional Array"
   ]
  },
  {
   "cell_type": "code",
   "execution_count": 96,
   "id": "ae146bdb-51a6-44e0-97e6-f98f245f10a4",
   "metadata": {},
   "outputs": [
    {
     "name": "stdout",
     "output_type": "stream",
     "text": [
      "[[[1 2]\n",
      "  [3 4]]\n",
      "\n",
      " [[5 6]\n",
      "  [7 8]]]\n"
     ]
    }
   ],
   "source": [
    "a = np.array([[[1,2],[3,4]],[[5,6],[7,8]]])\n",
    "print(a)"
   ]
  },
  {
   "cell_type": "code",
   "execution_count": 97,
   "id": "ab01c0d4-75ab-437e-b2e5-943ea1238fcd",
   "metadata": {},
   "outputs": [
    {
     "data": {
      "text/plain": [
       "3"
      ]
     },
     "execution_count": 97,
     "metadata": {},
     "output_type": "execute_result"
    }
   ],
   "source": [
    "a[0][1][0]"
   ]
  },
  {
   "cell_type": "code",
   "execution_count": 98,
   "id": "7457e80a-c195-496a-bd61-700b330b3881",
   "metadata": {},
   "outputs": [
    {
     "data": {
      "text/plain": [
       "6"
      ]
     },
     "execution_count": 98,
     "metadata": {},
     "output_type": "execute_result"
    }
   ],
   "source": [
    "a[1][0][1]"
   ]
  },
  {
   "cell_type": "code",
   "execution_count": 99,
   "id": "61ef8b61-49de-4a3c-9fb6-095032a0989a",
   "metadata": {},
   "outputs": [
    {
     "data": {
      "text/plain": [
       "array([[2, 4],\n",
       "       [6, 8]])"
      ]
     },
     "execution_count": 99,
     "metadata": {},
     "output_type": "execute_result"
    }
   ],
   "source": [
    "a[:,:,1]"
   ]
  },
  {
   "cell_type": "code",
   "execution_count": 100,
   "id": "eac8b8bb-3df4-42b5-b48f-5314805bb165",
   "metadata": {},
   "outputs": [
    {
     "data": {
      "text/plain": [
       "array([[5, 6],\n",
       "       [7, 8]])"
      ]
     },
     "execution_count": 100,
     "metadata": {},
     "output_type": "execute_result"
    }
   ],
   "source": [
    "a[1,:,:]"
   ]
  },
  {
   "cell_type": "code",
   "execution_count": 101,
   "id": "c97da3bc-a408-4fe5-96eb-475334dfc293",
   "metadata": {},
   "outputs": [
    {
     "data": {
      "text/plain": [
       "array([[1, 2],\n",
       "       [5, 6]])"
      ]
     },
     "execution_count": 101,
     "metadata": {},
     "output_type": "execute_result"
    }
   ],
   "source": [
    "a[:,0,:]"
   ]
  },
  {
   "cell_type": "code",
   "execution_count": 111,
   "id": "096a5260-dc32-41f5-8316-5fdd4ce5fe0d",
   "metadata": {},
   "outputs": [],
   "source": [
    "# NumPy - Zeros & Ones Function"
   ]
  },
  {
   "cell_type": "code",
   "execution_count": 102,
   "id": "43248cd1-9b8f-42c9-a9cd-a399671d7659",
   "metadata": {},
   "outputs": [
    {
     "data": {
      "text/plain": [
       "array([[[0., 0., 0.],\n",
       "        [0., 0., 0.],\n",
       "        [0., 0., 0.]],\n",
       "\n",
       "       [[0., 0., 0.],\n",
       "        [0., 0., 0.],\n",
       "        [0., 0., 0.]],\n",
       "\n",
       "       [[0., 0., 0.],\n",
       "        [0., 0., 0.],\n",
       "        [0., 0., 0.]]])"
      ]
     },
     "execution_count": 102,
     "metadata": {},
     "output_type": "execute_result"
    }
   ],
   "source": [
    "np.zeros((3,3,3))"
   ]
  },
  {
   "cell_type": "code",
   "execution_count": 103,
   "id": "ca751b12-09aa-45a8-ac19-3b9f9d8240c9",
   "metadata": {},
   "outputs": [
    {
     "data": {
      "text/plain": [
       "array([[[1., 1., 1.],\n",
       "        [1., 1., 1.],\n",
       "        [1., 1., 1.]],\n",
       "\n",
       "       [[1., 1., 1.],\n",
       "        [1., 1., 1.],\n",
       "        [1., 1., 1.]],\n",
       "\n",
       "       [[1., 1., 1.],\n",
       "        [1., 1., 1.],\n",
       "        [1., 1., 1.]]])"
      ]
     },
     "execution_count": 103,
     "metadata": {},
     "output_type": "execute_result"
    }
   ],
   "source": [
    "np.ones((3,3,3))"
   ]
  },
  {
   "cell_type": "code",
   "execution_count": 104,
   "id": "4c83a66b-8bd6-43b5-ba45-565a2e4c46c2",
   "metadata": {},
   "outputs": [
    {
     "data": {
      "text/plain": [
       "array([[1, 0, 0],\n",
       "       [0, 1, 0],\n",
       "       [0, 0, 1]])"
      ]
     },
     "execution_count": 104,
     "metadata": {},
     "output_type": "execute_result"
    }
   ],
   "source": [
    "np.eye(3, dtype = \"int64\")"
   ]
  },
  {
   "cell_type": "code",
   "execution_count": 105,
   "id": "bd8cfb1c-e388-4a12-9e36-f1829b92623b",
   "metadata": {},
   "outputs": [
    {
     "data": {
      "text/plain": [
       "array([0., 0., 0., 0., 0.])"
      ]
     },
     "execution_count": 105,
     "metadata": {},
     "output_type": "execute_result"
    }
   ],
   "source": [
    "np.zeros((5))"
   ]
  },
  {
   "cell_type": "code",
   "execution_count": 107,
   "id": "08a75008-2903-4acd-98b9-e108a3d90dfd",
   "metadata": {},
   "outputs": [
    {
     "data": {
      "text/plain": [
       "array([[0., 0., 0., 0., 0.],\n",
       "       [0., 0., 0., 0., 0.],\n",
       "       [0., 0., 0., 0., 0.],\n",
       "       [0., 0., 0., 0., 0.],\n",
       "       [0., 0., 0., 0., 0.]])"
      ]
     },
     "execution_count": 107,
     "metadata": {},
     "output_type": "execute_result"
    }
   ],
   "source": [
    "np.zeros((5,5))"
   ]
  },
  {
   "cell_type": "code",
   "execution_count": 109,
   "id": "7af1dc83-d70f-4807-af70-020afe9f35ed",
   "metadata": {},
   "outputs": [
    {
     "data": {
      "text/plain": [
       "array([1., 1., 1., 1., 1.])"
      ]
     },
     "execution_count": 109,
     "metadata": {},
     "output_type": "execute_result"
    }
   ],
   "source": [
    "np.ones((5))"
   ]
  },
  {
   "cell_type": "code",
   "execution_count": 110,
   "id": "9fcb2660-b4ae-4fab-8f62-62f8f5af2560",
   "metadata": {},
   "outputs": [
    {
     "data": {
      "text/plain": [
       "array([[1., 1., 1., 1., 1.],\n",
       "       [1., 1., 1., 1., 1.],\n",
       "       [1., 1., 1., 1., 1.],\n",
       "       [1., 1., 1., 1., 1.],\n",
       "       [1., 1., 1., 1., 1.]])"
      ]
     },
     "execution_count": 110,
     "metadata": {},
     "output_type": "execute_result"
    }
   ],
   "source": [
    "np.ones((5,5))"
   ]
  },
  {
   "cell_type": "code",
   "execution_count": 112,
   "id": "a87a2170-5cdb-4ef0-a530-0eff86875c60",
   "metadata": {},
   "outputs": [],
   "source": [
    "# NumPy - Linspace & Logspace Function"
   ]
  },
  {
   "cell_type": "code",
   "execution_count": 115,
   "id": "75cab63a-72d6-46cb-91e9-e8616a049a48",
   "metadata": {},
   "outputs": [
    {
     "data": {
      "text/plain": [
       "array([ 1.        ,  1.47368421,  1.94736842,  2.42105263,  2.89473684,\n",
       "        3.36842105,  3.84210526,  4.31578947,  4.78947368,  5.26315789,\n",
       "        5.73684211,  6.21052632,  6.68421053,  7.15789474,  7.63157895,\n",
       "        8.10526316,  8.57894737,  9.05263158,  9.52631579, 10.        ])"
      ]
     },
     "execution_count": 115,
     "metadata": {},
     "output_type": "execute_result"
    }
   ],
   "source": [
    "np.linspace(start = 1, stop = 10, num = 20)"
   ]
  },
  {
   "cell_type": "code",
   "execution_count": 118,
   "id": "30b7a572-7b69-494c-8460-b8d70f06427a",
   "metadata": {},
   "outputs": [
    {
     "data": {
      "text/plain": [
       "array([ 10.        ,  17.7827941 ,  31.6227766 ,  56.23413252,\n",
       "       100.        ])"
      ]
     },
     "execution_count": 118,
     "metadata": {},
     "output_type": "execute_result"
    }
   ],
   "source": [
    "np.logspace(start = 1, stop = 2, num = 5, base = 10)"
   ]
  },
  {
   "cell_type": "code",
   "execution_count": 129,
   "id": "5557624b-5fb2-43b7-ba57-a46a25c5a5f3",
   "metadata": {},
   "outputs": [],
   "source": [
    "# NumPy - From Function, Iter, String"
   ]
  },
  {
   "cell_type": "code",
   "execution_count": 120,
   "id": "53aae79f-1c3c-4b73-9c46-f1ca31ddffe2",
   "metadata": {},
   "outputs": [
    {
     "data": {
      "text/plain": [
       "array([[ True, False, False],\n",
       "       [False,  True, False],\n",
       "       [False, False,  True]])"
      ]
     },
     "execution_count": 120,
     "metadata": {},
     "output_type": "execute_result"
    }
   ],
   "source": [
    "np.fromfunction(lambda i, j : i == j, shape = (3,3))"
   ]
  },
  {
   "cell_type": "code",
   "execution_count": 124,
   "id": "09e952ad-387b-4425-b00c-930ed95c0b17",
   "metadata": {},
   "outputs": [
    {
     "data": {
      "text/plain": [
       "array([[0., 0., 0.],\n",
       "       [0., 1., 2.],\n",
       "       [0., 2., 4.]])"
      ]
     },
     "execution_count": 124,
     "metadata": {},
     "output_type": "execute_result"
    }
   ],
   "source": [
    "np.fromfunction(lambda i, j : i * j, shape = (3,3))"
   ]
  },
  {
   "cell_type": "code",
   "execution_count": 125,
   "id": "f146f38e-8ee4-4351-bad5-2806bd5eabc3",
   "metadata": {},
   "outputs": [],
   "source": [
    "iterable = (i * i for i in range(5))"
   ]
  },
  {
   "cell_type": "code",
   "execution_count": 126,
   "id": "a7ea0365-4c88-4e76-9495-43faaa826a0f",
   "metadata": {},
   "outputs": [
    {
     "data": {
      "text/plain": [
       "array([ 0,  1,  4,  9, 16])"
      ]
     },
     "execution_count": 126,
     "metadata": {},
     "output_type": "execute_result"
    }
   ],
   "source": [
    "np.fromiter(iterable, dtype = \"int64\")"
   ]
  },
  {
   "cell_type": "code",
   "execution_count": 127,
   "id": "bf895c9b-2b9a-4aca-8999-7cd75f772eb5",
   "metadata": {},
   "outputs": [
    {
     "data": {
      "text/plain": [
       "array([1, 2, 3, 4, 5])"
      ]
     },
     "execution_count": 127,
     "metadata": {},
     "output_type": "execute_result"
    }
   ],
   "source": [
    "np.fromstring(\"1 2 3 4 5\", dtype = \"int64\", sep = \" \")"
   ]
  },
  {
   "cell_type": "code",
   "execution_count": 128,
   "id": "db9e5c93-cee2-48bc-adfc-b38567685924",
   "metadata": {},
   "outputs": [
    {
     "data": {
      "text/plain": [
       "array([1, 2, 3, 4, 5])"
      ]
     },
     "execution_count": 128,
     "metadata": {},
     "output_type": "execute_result"
    }
   ],
   "source": [
    "np.fromstring(\"1,2,3,4,5\", dtype = \"int64\", sep = \",\")"
   ]
  },
  {
   "cell_type": "code",
   "execution_count": 130,
   "id": "551bc060-4251-47a2-ac65-ece8ee4f0863",
   "metadata": {},
   "outputs": [],
   "source": [
    "# NumPy - Rand, Randint"
   ]
  },
  {
   "cell_type": "code",
   "execution_count": 131,
   "id": "55894d93-500b-4db5-bd8f-7226c4a896fd",
   "metadata": {},
   "outputs": [],
   "source": [
    "a = np.random.rand(5,5)"
   ]
  },
  {
   "cell_type": "code",
   "execution_count": 132,
   "id": "81b70f8b-a67f-44b6-bf1e-46ede8bbe474",
   "metadata": {},
   "outputs": [
    {
     "name": "stdout",
     "output_type": "stream",
     "text": [
      "[[0.49554246 0.99895479 0.63632195 0.09074537 0.64226454]\n",
      " [0.14855203 0.05282557 0.65385411 0.4675957  0.40834175]\n",
      " [0.29426697 0.07167946 0.21154335 0.1953416  0.89520413]\n",
      " [0.08105944 0.17000139 0.81714255 0.73799471 0.14759025]\n",
      " [0.73949487 0.91993379 0.15722192 0.89298881 0.63429449]]\n"
     ]
    }
   ],
   "source": [
    "print(a)"
   ]
  },
  {
   "cell_type": "code",
   "execution_count": 133,
   "id": "41030a58-4eb3-469a-8c87-780b0ae84c85",
   "metadata": {},
   "outputs": [],
   "source": [
    "b = np.random.randn(5,5)"
   ]
  },
  {
   "cell_type": "code",
   "execution_count": 134,
   "id": "310d6c0b-16e7-4378-a62c-87754aa9487b",
   "metadata": {},
   "outputs": [
    {
     "name": "stdout",
     "output_type": "stream",
     "text": [
      "[[ 1.58211617  0.22151587  0.43669558 -1.12523322 -0.18882681]\n",
      " [ 0.07410226 -0.82853453  1.24057004  0.16944587 -0.61779026]\n",
      " [-0.44222821 -0.11161402 -1.3499777   0.10861481  1.05910774]\n",
      " [-0.11619151 -0.81539559  0.14342669 -0.26613476 -0.82855713]\n",
      " [-0.40744328 -0.67463325 -0.17784122  1.69950667  0.61528264]]\n"
     ]
    }
   ],
   "source": [
    "print(b)"
   ]
  },
  {
   "cell_type": "code",
   "execution_count": 156,
   "id": "a79d55a5-5544-455d-bbdc-2d0c685c04ed",
   "metadata": {},
   "outputs": [],
   "source": [
    "# NumPy - Mathematical Operations"
   ]
  },
  {
   "cell_type": "code",
   "execution_count": 138,
   "id": "5d95449e-e873-4ab4-ba1d-a08bc698456e",
   "metadata": {},
   "outputs": [],
   "source": [
    "array_01 = np.random.randint(low = 0, high = 10, size = (3,3), dtype = \"int64\")"
   ]
  },
  {
   "cell_type": "code",
   "execution_count": 139,
   "id": "1154ab25-82c1-4bc9-b72c-6440200435d3",
   "metadata": {},
   "outputs": [
    {
     "name": "stdout",
     "output_type": "stream",
     "text": [
      "[[7 5 7]\n",
      " [0 1 4]\n",
      " [5 7 7]]\n"
     ]
    }
   ],
   "source": [
    "print(array_01)"
   ]
  },
  {
   "cell_type": "code",
   "execution_count": 140,
   "id": "0bcfa7b6-bbc6-4162-b76a-272cb91c0c10",
   "metadata": {},
   "outputs": [],
   "source": [
    "array_02 = np.random.randint(low = 0, high = 10, size = (3,3), dtype = \"int64\")"
   ]
  },
  {
   "cell_type": "code",
   "execution_count": 141,
   "id": "9934c50a-38c2-443a-ad4e-f4b48fd16a25",
   "metadata": {},
   "outputs": [
    {
     "name": "stdout",
     "output_type": "stream",
     "text": [
      "[[8 5 2]\n",
      " [2 9 6]\n",
      " [9 7 7]]\n"
     ]
    }
   ],
   "source": [
    "print(array_02)"
   ]
  },
  {
   "cell_type": "code",
   "execution_count": 142,
   "id": "77f2d6c7-fee2-4d8b-9987-231ef4815d56",
   "metadata": {},
   "outputs": [
    {
     "data": {
      "text/plain": [
       "array([[15, 10,  9],\n",
       "       [ 2, 10, 10],\n",
       "       [14, 14, 14]])"
      ]
     },
     "execution_count": 142,
     "metadata": {},
     "output_type": "execute_result"
    }
   ],
   "source": [
    "array_01 + array_02"
   ]
  },
  {
   "cell_type": "code",
   "execution_count": 143,
   "id": "cd0d27d9-072c-4fff-b766-e77a1a128d8d",
   "metadata": {},
   "outputs": [
    {
     "data": {
      "text/plain": [
       "array([[-1,  0,  5],\n",
       "       [-2, -8, -2],\n",
       "       [-4,  0,  0]])"
      ]
     },
     "execution_count": 143,
     "metadata": {},
     "output_type": "execute_result"
    }
   ],
   "source": [
    "array_01 - array_02"
   ]
  },
  {
   "cell_type": "code",
   "execution_count": 144,
   "id": "047b6fdb-2c54-483c-960f-abb2bda0a48f",
   "metadata": {},
   "outputs": [
    {
     "data": {
      "text/plain": [
       "array([[56, 25, 14],\n",
       "       [ 0,  9, 24],\n",
       "       [45, 49, 49]])"
      ]
     },
     "execution_count": 144,
     "metadata": {},
     "output_type": "execute_result"
    }
   ],
   "source": [
    "array_01 * array_02"
   ]
  },
  {
   "cell_type": "code",
   "execution_count": 145,
   "id": "cedb7a79-e9ad-475d-b6a9-8aff920a7238",
   "metadata": {},
   "outputs": [
    {
     "data": {
      "text/plain": [
       "array([[0.875     , 1.        , 3.5       ],\n",
       "       [0.        , 0.11111111, 0.66666667],\n",
       "       [0.55555556, 1.        , 1.        ]])"
      ]
     },
     "execution_count": 145,
     "metadata": {},
     "output_type": "execute_result"
    }
   ],
   "source": [
    "array_01 / array_02"
   ]
  },
  {
   "cell_type": "code",
   "execution_count": 146,
   "id": "01a3b6d8-3a97-48d6-9f1d-47236795c0e4",
   "metadata": {},
   "outputs": [
    {
     "data": {
      "text/plain": [
       "array([[129, 129,  93],\n",
       "       [ 38,  37,  34],\n",
       "       [117, 137, 101]])"
      ]
     },
     "execution_count": 146,
     "metadata": {},
     "output_type": "execute_result"
    }
   ],
   "source": [
    "array_01 @ array_02"
   ]
  },
  {
   "cell_type": "code",
   "execution_count": 147,
   "id": "69910fd5-4fbc-4e0f-b0bd-301e890aee56",
   "metadata": {},
   "outputs": [],
   "source": [
    "import pandas as pd\n",
    "import numpy as np\n",
    "import seaborn as sns"
   ]
  },
  {
   "cell_type": "code",
   "execution_count": 148,
   "id": "abe63f71-2fa5-41d7-be2a-288b93be607e",
   "metadata": {},
   "outputs": [],
   "source": [
    "df_01 = pd.DataFrame(np.random.randint(0,9,(5,5)))"
   ]
  },
  {
   "cell_type": "code",
   "execution_count": 151,
   "id": "0d76ad42-bf3a-4848-9e9a-5c2f1d3b06f3",
   "metadata": {},
   "outputs": [
    {
     "data": {
      "text/html": [
       "<div>\n",
       "<style scoped>\n",
       "    .dataframe tbody tr th:only-of-type {\n",
       "        vertical-align: middle;\n",
       "    }\n",
       "\n",
       "    .dataframe tbody tr th {\n",
       "        vertical-align: top;\n",
       "    }\n",
       "\n",
       "    .dataframe thead th {\n",
       "        text-align: right;\n",
       "    }\n",
       "</style>\n",
       "<table border=\"1\" class=\"dataframe\">\n",
       "  <thead>\n",
       "    <tr style=\"text-align: right;\">\n",
       "      <th></th>\n",
       "      <th>0</th>\n",
       "      <th>1</th>\n",
       "      <th>2</th>\n",
       "      <th>3</th>\n",
       "      <th>4</th>\n",
       "    </tr>\n",
       "  </thead>\n",
       "  <tbody>\n",
       "    <tr>\n",
       "      <th>0</th>\n",
       "      <td>6</td>\n",
       "      <td>6</td>\n",
       "      <td>0</td>\n",
       "      <td>6</td>\n",
       "      <td>7</td>\n",
       "    </tr>\n",
       "    <tr>\n",
       "      <th>1</th>\n",
       "      <td>5</td>\n",
       "      <td>5</td>\n",
       "      <td>8</td>\n",
       "      <td>4</td>\n",
       "      <td>8</td>\n",
       "    </tr>\n",
       "    <tr>\n",
       "      <th>2</th>\n",
       "      <td>2</td>\n",
       "      <td>4</td>\n",
       "      <td>8</td>\n",
       "      <td>4</td>\n",
       "      <td>0</td>\n",
       "    </tr>\n",
       "    <tr>\n",
       "      <th>3</th>\n",
       "      <td>0</td>\n",
       "      <td>0</td>\n",
       "      <td>6</td>\n",
       "      <td>7</td>\n",
       "      <td>6</td>\n",
       "    </tr>\n",
       "    <tr>\n",
       "      <th>4</th>\n",
       "      <td>5</td>\n",
       "      <td>8</td>\n",
       "      <td>2</td>\n",
       "      <td>8</td>\n",
       "      <td>3</td>\n",
       "    </tr>\n",
       "  </tbody>\n",
       "</table>\n",
       "</div>"
      ],
      "text/plain": [
       "   0  1  2  3  4\n",
       "0  6  6  0  6  7\n",
       "1  5  5  8  4  8\n",
       "2  2  4  8  4  0\n",
       "3  0  0  6  7  6\n",
       "4  5  8  2  8  3"
      ]
     },
     "execution_count": 151,
     "metadata": {},
     "output_type": "execute_result"
    }
   ],
   "source": [
    "df_01"
   ]
  },
  {
   "cell_type": "code",
   "execution_count": 152,
   "id": "ed5ddf82-8fd4-4d86-8f4d-481583fd2bf9",
   "metadata": {},
   "outputs": [
    {
     "data": {
      "text/html": [
       "<div>\n",
       "<style scoped>\n",
       "    .dataframe tbody tr th:only-of-type {\n",
       "        vertical-align: middle;\n",
       "    }\n",
       "\n",
       "    .dataframe tbody tr th {\n",
       "        vertical-align: top;\n",
       "    }\n",
       "\n",
       "    .dataframe thead th {\n",
       "        text-align: right;\n",
       "    }\n",
       "</style>\n",
       "<table border=\"1\" class=\"dataframe\">\n",
       "  <thead>\n",
       "    <tr style=\"text-align: right;\">\n",
       "      <th></th>\n",
       "      <th>0</th>\n",
       "      <th>1</th>\n",
       "      <th>2</th>\n",
       "      <th>3</th>\n",
       "      <th>4</th>\n",
       "    </tr>\n",
       "  </thead>\n",
       "  <tbody>\n",
       "    <tr>\n",
       "      <th>count</th>\n",
       "      <td>5.00000</td>\n",
       "      <td>5.000000</td>\n",
       "      <td>5.00000</td>\n",
       "      <td>5.000000</td>\n",
       "      <td>5.000000</td>\n",
       "    </tr>\n",
       "    <tr>\n",
       "      <th>mean</th>\n",
       "      <td>3.60000</td>\n",
       "      <td>4.600000</td>\n",
       "      <td>4.80000</td>\n",
       "      <td>5.800000</td>\n",
       "      <td>4.800000</td>\n",
       "    </tr>\n",
       "    <tr>\n",
       "      <th>std</th>\n",
       "      <td>2.50998</td>\n",
       "      <td>2.966479</td>\n",
       "      <td>3.63318</td>\n",
       "      <td>1.788854</td>\n",
       "      <td>3.271085</td>\n",
       "    </tr>\n",
       "    <tr>\n",
       "      <th>min</th>\n",
       "      <td>0.00000</td>\n",
       "      <td>0.000000</td>\n",
       "      <td>0.00000</td>\n",
       "      <td>4.000000</td>\n",
       "      <td>0.000000</td>\n",
       "    </tr>\n",
       "    <tr>\n",
       "      <th>25%</th>\n",
       "      <td>2.00000</td>\n",
       "      <td>4.000000</td>\n",
       "      <td>2.00000</td>\n",
       "      <td>4.000000</td>\n",
       "      <td>3.000000</td>\n",
       "    </tr>\n",
       "    <tr>\n",
       "      <th>50%</th>\n",
       "      <td>5.00000</td>\n",
       "      <td>5.000000</td>\n",
       "      <td>6.00000</td>\n",
       "      <td>6.000000</td>\n",
       "      <td>6.000000</td>\n",
       "    </tr>\n",
       "    <tr>\n",
       "      <th>75%</th>\n",
       "      <td>5.00000</td>\n",
       "      <td>6.000000</td>\n",
       "      <td>8.00000</td>\n",
       "      <td>7.000000</td>\n",
       "      <td>7.000000</td>\n",
       "    </tr>\n",
       "    <tr>\n",
       "      <th>max</th>\n",
       "      <td>6.00000</td>\n",
       "      <td>8.000000</td>\n",
       "      <td>8.00000</td>\n",
       "      <td>8.000000</td>\n",
       "      <td>8.000000</td>\n",
       "    </tr>\n",
       "  </tbody>\n",
       "</table>\n",
       "</div>"
      ],
      "text/plain": [
       "             0         1        2         3         4\n",
       "count  5.00000  5.000000  5.00000  5.000000  5.000000\n",
       "mean   3.60000  4.600000  4.80000  5.800000  4.800000\n",
       "std    2.50998  2.966479  3.63318  1.788854  3.271085\n",
       "min    0.00000  0.000000  0.00000  4.000000  0.000000\n",
       "25%    2.00000  4.000000  2.00000  4.000000  3.000000\n",
       "50%    5.00000  5.000000  6.00000  6.000000  6.000000\n",
       "75%    5.00000  6.000000  8.00000  7.000000  7.000000\n",
       "max    6.00000  8.000000  8.00000  8.000000  8.000000"
      ]
     },
     "execution_count": 152,
     "metadata": {},
     "output_type": "execute_result"
    }
   ],
   "source": [
    "df_01.describe()"
   ]
  },
  {
   "cell_type": "code",
   "execution_count": 153,
   "id": "aeed14b3-be19-4240-bfde-271d963c38f9",
   "metadata": {},
   "outputs": [
    {
     "data": {
      "text/plain": [
       "0    6\n",
       "1    5\n",
       "2    4\n",
       "3    0\n",
       "4    8\n",
       "Name: 1, dtype: int64"
      ]
     },
     "execution_count": 153,
     "metadata": {},
     "output_type": "execute_result"
    }
   ],
   "source": [
    "df_01[1]"
   ]
  },
  {
   "cell_type": "code",
   "execution_count": 154,
   "id": "374ce52d-92df-44b7-ae56-5487cf67de85",
   "metadata": {},
   "outputs": [
    {
     "data": {
      "text/html": [
       "<div>\n",
       "<style scoped>\n",
       "    .dataframe tbody tr th:only-of-type {\n",
       "        vertical-align: middle;\n",
       "    }\n",
       "\n",
       "    .dataframe tbody tr th {\n",
       "        vertical-align: top;\n",
       "    }\n",
       "\n",
       "    .dataframe thead th {\n",
       "        text-align: right;\n",
       "    }\n",
       "</style>\n",
       "<table border=\"1\" class=\"dataframe\">\n",
       "  <thead>\n",
       "    <tr style=\"text-align: right;\">\n",
       "      <th></th>\n",
       "      <th>2</th>\n",
       "      <th>4</th>\n",
       "    </tr>\n",
       "  </thead>\n",
       "  <tbody>\n",
       "    <tr>\n",
       "      <th>0</th>\n",
       "      <td>0</td>\n",
       "      <td>7</td>\n",
       "    </tr>\n",
       "    <tr>\n",
       "      <th>1</th>\n",
       "      <td>8</td>\n",
       "      <td>8</td>\n",
       "    </tr>\n",
       "    <tr>\n",
       "      <th>2</th>\n",
       "      <td>8</td>\n",
       "      <td>0</td>\n",
       "    </tr>\n",
       "    <tr>\n",
       "      <th>3</th>\n",
       "      <td>6</td>\n",
       "      <td>6</td>\n",
       "    </tr>\n",
       "    <tr>\n",
       "      <th>4</th>\n",
       "      <td>2</td>\n",
       "      <td>3</td>\n",
       "    </tr>\n",
       "  </tbody>\n",
       "</table>\n",
       "</div>"
      ],
      "text/plain": [
       "   2  4\n",
       "0  0  7\n",
       "1  8  8\n",
       "2  8  0\n",
       "3  6  6\n",
       "4  2  3"
      ]
     },
     "execution_count": 154,
     "metadata": {},
     "output_type": "execute_result"
    }
   ],
   "source": [
    "df_01[[2, 4]]"
   ]
  },
  {
   "cell_type": "code",
   "execution_count": 155,
   "id": "46e4e7e7-52b7-4471-977a-24e773d4a701",
   "metadata": {},
   "outputs": [],
   "source": [
    "df_01.to_csv(\"array_02.csv\")"
   ]
  },
  {
   "cell_type": "code",
   "execution_count": 157,
   "id": "2359836f-72e1-4d2f-8b0b-af454707c3a0",
   "metadata": {},
   "outputs": [],
   "source": [
    "# NumPy - Broadcasting"
   ]
  },
  {
   "cell_type": "code",
   "execution_count": 158,
   "id": "b88b5926-b36b-44f1-9f19-eef30c48a3e3",
   "metadata": {},
   "outputs": [],
   "source": [
    "array_01 = np.zeros((3,3), dtype = \"int64\")"
   ]
  },
  {
   "cell_type": "code",
   "execution_count": 160,
   "id": "d833c030-1918-406a-b482-857425df95b1",
   "metadata": {},
   "outputs": [
    {
     "name": "stdout",
     "output_type": "stream",
     "text": [
      "[[0 0 0]\n",
      " [0 0 0]\n",
      " [0 0 0]]\n"
     ]
    }
   ],
   "source": [
    "print(array_01)"
   ]
  },
  {
   "cell_type": "code",
   "execution_count": 161,
   "id": "723318d6-314e-4096-9cce-8c2f29ed1690",
   "metadata": {},
   "outputs": [],
   "source": [
    "row_01 = np.array([1,2,3])"
   ]
  },
  {
   "cell_type": "code",
   "execution_count": 162,
   "id": "505d2429-4cf7-4483-b6b4-79c9c99f4788",
   "metadata": {},
   "outputs": [
    {
     "name": "stdout",
     "output_type": "stream",
     "text": [
      "[1 2 3]\n"
     ]
    }
   ],
   "source": [
    "print(row_01)"
   ]
  },
  {
   "cell_type": "code",
   "execution_count": 163,
   "id": "88ac4ee1-f7c3-46c6-82b8-91e3c62f9074",
   "metadata": {},
   "outputs": [
    {
     "data": {
      "text/plain": [
       "array([[1, 2, 3],\n",
       "       [1, 2, 3],\n",
       "       [1, 2, 3]])"
      ]
     },
     "execution_count": 163,
     "metadata": {},
     "output_type": "execute_result"
    }
   ],
   "source": [
    "array_01 + row_01"
   ]
  },
  {
   "cell_type": "code",
   "execution_count": 171,
   "id": "85c30b06-f5d9-4d19-8a18-61237b556732",
   "metadata": {},
   "outputs": [],
   "source": [
    "col_01 = np.array([[1,2,3]]).T"
   ]
  },
  {
   "cell_type": "code",
   "execution_count": 175,
   "id": "15ac3428-3a5c-4727-abe3-e54adcec4004",
   "metadata": {},
   "outputs": [
    {
     "name": "stdout",
     "output_type": "stream",
     "text": [
      "[[1]\n",
      " [2]\n",
      " [3]]\n"
     ]
    }
   ],
   "source": [
    "print(col_01)"
   ]
  },
  {
   "cell_type": "code",
   "execution_count": 176,
   "id": "a380210c-7f03-433b-9115-c68c3f6df12b",
   "metadata": {},
   "outputs": [
    {
     "data": {
      "text/plain": [
       "array([[1, 1, 1],\n",
       "       [2, 2, 2],\n",
       "       [3, 3, 3]])"
      ]
     },
     "execution_count": 176,
     "metadata": {},
     "output_type": "execute_result"
    }
   ],
   "source": [
    "array_01 + col_01"
   ]
  },
  {
   "cell_type": "code",
   "execution_count": 177,
   "id": "5c86e483-db17-4154-824e-c490910b6cc0",
   "metadata": {},
   "outputs": [],
   "source": [
    "array_01 = np.random.randint(0,10,(3,3))"
   ]
  },
  {
   "cell_type": "code",
   "execution_count": 178,
   "id": "f6d90765-a293-4766-8e30-9bfd1af0585c",
   "metadata": {},
   "outputs": [
    {
     "name": "stdout",
     "output_type": "stream",
     "text": [
      "[[8 9 7]\n",
      " [2 3 8]\n",
      " [5 2 0]]\n"
     ]
    }
   ],
   "source": [
    "print(array_01)"
   ]
  },
  {
   "cell_type": "code",
   "execution_count": 179,
   "id": "8260e11c-6530-43f6-9147-4140286ec6a0",
   "metadata": {},
   "outputs": [
    {
     "data": {
      "text/plain": [
       "array([[2.82842712, 3.        , 2.64575131],\n",
       "       [1.41421356, 1.73205081, 2.82842712],\n",
       "       [2.23606798, 1.41421356, 0.        ]])"
      ]
     },
     "execution_count": 179,
     "metadata": {},
     "output_type": "execute_result"
    }
   ],
   "source": [
    "np.sqrt(array_01)"
   ]
  },
  {
   "cell_type": "code",
   "execution_count": 180,
   "id": "66bf4378-4e5d-4430-a1f5-cb29dec4986a",
   "metadata": {},
   "outputs": [
    {
     "data": {
      "text/plain": [
       "array([[2.98095799e+03, 8.10308393e+03, 1.09663316e+03],\n",
       "       [7.38905610e+00, 2.00855369e+01, 2.98095799e+03],\n",
       "       [1.48413159e+02, 7.38905610e+00, 1.00000000e+00]])"
      ]
     },
     "execution_count": 180,
     "metadata": {},
     "output_type": "execute_result"
    }
   ],
   "source": [
    "np.exp(array_01)"
   ]
  },
  {
   "cell_type": "code",
   "execution_count": 181,
   "id": "a54bc2b4-a6ef-467b-af4a-e4a164b1c9a8",
   "metadata": {},
   "outputs": [
    {
     "name": "stderr",
     "output_type": "stream",
     "text": [
      "/tmp/ipykernel_382/96914493.py:1: RuntimeWarning: divide by zero encountered in log10\n",
      "  np.log10(array_01)\n"
     ]
    },
    {
     "data": {
      "text/plain": [
       "array([[0.90308999, 0.95424251, 0.84509804],\n",
       "       [0.30103   , 0.47712125, 0.90308999],\n",
       "       [0.69897   , 0.30103   ,       -inf]])"
      ]
     },
     "execution_count": 181,
     "metadata": {},
     "output_type": "execute_result"
    }
   ],
   "source": [
    "np.log10(array_01)"
   ]
  },
  {
   "cell_type": "code",
   "execution_count": 182,
   "id": "47281005-c6bd-403f-bda7-5db50e4e8491",
   "metadata": {},
   "outputs": [
    {
     "data": {
      "text/plain": [
       "array([[ 0.98935825,  0.41211849,  0.6569866 ],\n",
       "       [ 0.90929743,  0.14112001,  0.98935825],\n",
       "       [-0.95892427,  0.90929743,  0.        ]])"
      ]
     },
     "execution_count": 182,
     "metadata": {},
     "output_type": "execute_result"
    }
   ],
   "source": [
    "np.sin(array_01)"
   ]
  },
  {
   "cell_type": "code",
   "execution_count": 183,
   "id": "3a3b65fe-52de-46a7-b3cb-33411f6eaec1",
   "metadata": {},
   "outputs": [
    {
     "data": {
      "text/plain": [
       "array([[-0.14550003, -0.91113026,  0.75390225],\n",
       "       [-0.41614684, -0.9899925 , -0.14550003],\n",
       "       [ 0.28366219, -0.41614684,  1.        ]])"
      ]
     },
     "execution_count": 183,
     "metadata": {},
     "output_type": "execute_result"
    }
   ],
   "source": [
    "np.cos(array_01)"
   ]
  },
  {
   "cell_type": "code",
   "execution_count": 184,
   "id": "440b2376-6135-4568-aa8e-579a81d3ba38",
   "metadata": {},
   "outputs": [
    {
     "data": {
      "text/plain": [
       "array([[-6.79971146, -0.45231566,  0.87144798],\n",
       "       [-2.18503986, -0.14254654, -6.79971146],\n",
       "       [-3.38051501, -2.18503986,  0.        ]])"
      ]
     },
     "execution_count": 184,
     "metadata": {},
     "output_type": "execute_result"
    }
   ],
   "source": [
    "np.tan(array_01)"
   ]
  },
  {
   "cell_type": "code",
   "execution_count": 185,
   "id": "a7de33a4-55b6-4ee7-9d4a-046779ac7fa9",
   "metadata": {},
   "outputs": [
    {
     "data": {
      "text/plain": [
       "array([[1.49047883e+03, 4.05154190e+03, 5.48316123e+02],\n",
       "       [3.62686041e+00, 1.00178749e+01, 1.49047883e+03],\n",
       "       [7.42032106e+01, 3.62686041e+00, 0.00000000e+00]])"
      ]
     },
     "execution_count": 185,
     "metadata": {},
     "output_type": "execute_result"
    }
   ],
   "source": [
    "np.sinh(array_01)"
   ]
  },
  {
   "cell_type": "code",
   "execution_count": 186,
   "id": "9478eaec-26e2-4e60-8f98-0cc9628d4d0a",
   "metadata": {},
   "outputs": [
    {
     "data": {
      "text/plain": [
       "array([[1.49047916e+03, 4.05154203e+03, 5.48317035e+02],\n",
       "       [3.76219569e+00, 1.00676620e+01, 1.49047916e+03],\n",
       "       [7.42099485e+01, 3.76219569e+00, 1.00000000e+00]])"
      ]
     },
     "execution_count": 186,
     "metadata": {},
     "output_type": "execute_result"
    }
   ],
   "source": [
    "np.cosh(array_01)"
   ]
  },
  {
   "cell_type": "code",
   "execution_count": 187,
   "id": "614c5b4e-24b0-436e-b4ce-0b1a4cbe0c33",
   "metadata": {},
   "outputs": [
    {
     "data": {
      "text/plain": [
       "array([[0.99999977, 0.99999997, 0.99999834],\n",
       "       [0.96402758, 0.99505475, 0.99999977],\n",
       "       [0.9999092 , 0.96402758, 0.        ]])"
      ]
     },
     "execution_count": 187,
     "metadata": {},
     "output_type": "execute_result"
    }
   ],
   "source": [
    "np.tanh(array_01)"
   ]
  },
  {
   "cell_type": "code",
   "execution_count": 188,
   "id": "6e224ce0-e2df-4efe-849d-2ed0495d9f09",
   "metadata": {},
   "outputs": [
    {
     "data": {
      "text/plain": [
       "array([8, 9, 7, 2, 3, 8, 5, 2, 0])"
      ]
     },
     "execution_count": 188,
     "metadata": {},
     "output_type": "execute_result"
    }
   ],
   "source": [
    "array_01.flatten()"
   ]
  },
  {
   "cell_type": "code",
   "execution_count": 189,
   "id": "ab073249-a53b-4fe9-b967-d6cc9f4099cb",
   "metadata": {},
   "outputs": [],
   "source": [
    "array_02 = np.array([1,2,3])"
   ]
  },
  {
   "cell_type": "code",
   "execution_count": 190,
   "id": "c4957b64-4599-4678-a91f-7a9715d5e8f0",
   "metadata": {},
   "outputs": [
    {
     "data": {
      "text/plain": [
       "array([[1, 2, 3]])"
      ]
     },
     "execution_count": 190,
     "metadata": {},
     "output_type": "execute_result"
    }
   ],
   "source": [
    "np.expand_dims(array_02, axis = 0)"
   ]
  },
  {
   "cell_type": "code",
   "execution_count": 191,
   "id": "db854cc2-ef5d-4133-bbca-787362d67ccc",
   "metadata": {},
   "outputs": [
    {
     "data": {
      "text/plain": [
       "array([[1],\n",
       "       [2],\n",
       "       [3]])"
      ]
     },
     "execution_count": 191,
     "metadata": {},
     "output_type": "execute_result"
    }
   ],
   "source": [
    "np.expand_dims(array_02, axis = 1)"
   ]
  },
  {
   "cell_type": "code",
   "execution_count": 192,
   "id": "76687589-df15-4b63-ab4e-462c9e71ce57",
   "metadata": {},
   "outputs": [],
   "source": [
    "array_03 = np.array([[1],[2],[3]])"
   ]
  },
  {
   "cell_type": "code",
   "execution_count": 193,
   "id": "e30a0c9b-863b-4dea-ab33-51ed6b5f09dc",
   "metadata": {},
   "outputs": [
    {
     "name": "stdout",
     "output_type": "stream",
     "text": [
      "[[1]\n",
      " [2]\n",
      " [3]]\n"
     ]
    }
   ],
   "source": [
    "print(array_03)"
   ]
  },
  {
   "cell_type": "code",
   "execution_count": 195,
   "id": "65247f00-13c0-4a81-9a57-0c2e83f65962",
   "metadata": {},
   "outputs": [],
   "source": [
    "array_03 = array_03.squeeze()"
   ]
  },
  {
   "cell_type": "code",
   "execution_count": 196,
   "id": "9a67fdc8-253f-4e24-91da-3b8c41f24a09",
   "metadata": {},
   "outputs": [
    {
     "name": "stdout",
     "output_type": "stream",
     "text": [
      "[1 2 3]\n"
     ]
    }
   ],
   "source": [
    "print(array_03)"
   ]
  },
  {
   "cell_type": "code",
   "execution_count": null,
   "id": "3059843b-fe53-45c0-8a23-4ddb993f1857",
   "metadata": {},
   "outputs": [],
   "source": []
  }
 ],
 "metadata": {
  "kernelspec": {
   "display_name": "Python 3 (ipykernel)",
   "language": "python",
   "name": "python3"
  },
  "language_info": {
   "codemirror_mode": {
    "name": "ipython",
    "version": 3
   },
   "file_extension": ".py",
   "mimetype": "text/x-python",
   "name": "python",
   "nbconvert_exporter": "python",
   "pygments_lexer": "ipython3",
   "version": "3.10.8"
  }
 },
 "nbformat": 4,
 "nbformat_minor": 5
}
