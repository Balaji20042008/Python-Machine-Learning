{
 "cells": [
  {
   "cell_type": "code",
   "execution_count": 1,
   "id": "c3275d3b-bf82-4aa0-a8e5-65da3547c47f",
   "metadata": {},
   "outputs": [],
   "source": [
    "import numpy"
   ]
  },
  {
   "cell_type": "code",
   "execution_count": 3,
   "id": "99334db2-c3d8-40d0-8623-7952aa248a53",
   "metadata": {},
   "outputs": [],
   "source": [
    "# Numpy - Sorting, Counting Function"
   ]
  },
  {
   "cell_type": "code",
   "execution_count": 2,
   "id": "a5b4e32e-331c-4e0d-9c77-598a0f4af4fa",
   "metadata": {},
   "outputs": [],
   "source": [
    "array_01 = numpy.array([18, 90, 45, 12, 30])"
   ]
  },
  {
   "cell_type": "code",
   "execution_count": 10,
   "id": "a29f4471-bd07-44e8-90cb-8afdbaeb0282",
   "metadata": {},
   "outputs": [],
   "source": [
    "array_01 = numpy.sort(array_01)"
   ]
  },
  {
   "cell_type": "code",
   "execution_count": 12,
   "id": "51c6f5a0-cc5f-4765-b31a-38d311dc0e95",
   "metadata": {},
   "outputs": [
    {
     "data": {
      "text/plain": [
       "array([12, 18, 30, 45, 90])"
      ]
     },
     "execution_count": 12,
     "metadata": {},
     "output_type": "execute_result"
    }
   ],
   "source": [
    "array_01"
   ]
  },
  {
   "cell_type": "code",
   "execution_count": 11,
   "id": "d39f3baa-8718-4bb7-8a9b-fca67e4ed007",
   "metadata": {},
   "outputs": [
    {
     "data": {
      "text/plain": [
       "2"
      ]
     },
     "execution_count": 11,
     "metadata": {},
     "output_type": "execute_result"
    }
   ],
   "source": [
    "numpy.searchsorted(array_01, 25)"
   ]
  },
  {
   "cell_type": "code",
   "execution_count": 14,
   "id": "f9cfa9d2-a6d5-4328-9fd9-efc6ba266918",
   "metadata": {},
   "outputs": [],
   "source": [
    "array_02 = numpy.array([0, 12, 25, 60, 45, 0, 0, 0, 60])"
   ]
  },
  {
   "cell_type": "code",
   "execution_count": 17,
   "id": "5ef6da35-a2cb-4fc5-a5ca-3682f15584d5",
   "metadata": {},
   "outputs": [
    {
     "data": {
      "text/plain": [
       "5"
      ]
     },
     "execution_count": 17,
     "metadata": {},
     "output_type": "execute_result"
    }
   ],
   "source": [
    "numpy.count_nonzero(array_02)"
   ]
  },
  {
   "cell_type": "code",
   "execution_count": 15,
   "id": "adc4447d-350a-47e2-bf3e-695be0dbb3c2",
   "metadata": {},
   "outputs": [
    {
     "data": {
      "text/plain": [
       "(array([1, 2, 3, 4, 8]),)"
      ]
     },
     "execution_count": 15,
     "metadata": {},
     "output_type": "execute_result"
    }
   ],
   "source": [
    "numpy.nonzero(array_02)"
   ]
  },
  {
   "cell_type": "code",
   "execution_count": 16,
   "id": "51cace08-b373-4ced-8251-7175e61fdce7",
   "metadata": {},
   "outputs": [
    {
     "data": {
      "text/plain": [
       "(array([2, 3, 4]),)"
      ]
     },
     "execution_count": 16,
     "metadata": {},
     "output_type": "execute_result"
    }
   ],
   "source": [
    "numpy.where(array_01 >= 30)"
   ]
  },
  {
   "cell_type": "code",
   "execution_count": 18,
   "id": "ceb3e143-0143-4277-b54c-dbd43ac56f70",
   "metadata": {},
   "outputs": [
    {
     "data": {
      "text/plain": [
       "array([45, 90])"
      ]
     },
     "execution_count": 18,
     "metadata": {},
     "output_type": "execute_result"
    }
   ],
   "source": [
    "numpy.extract(array_01 >= 40, array_01)"
   ]
  },
  {
   "cell_type": "code",
   "execution_count": 19,
   "id": "8f5645b3-b801-4873-b1ca-d9ea9d3b49e9",
   "metadata": {},
   "outputs": [],
   "source": [
    "# Numpy - Byte Swapping"
   ]
  },
  {
   "cell_type": "code",
   "execution_count": 20,
   "id": "0d42f1b6-2e67-44e8-972b-59726bca96ef",
   "metadata": {},
   "outputs": [
    {
     "data": {
      "text/plain": [
       "array([ 864691128455135232, 1297036692682702848, 2161727821137838080,\n",
       "       3242591731706757120, 6485183463413514240])"
      ]
     },
     "execution_count": 20,
     "metadata": {},
     "output_type": "execute_result"
    }
   ],
   "source": [
    "array_01.byteswap()"
   ]
  },
  {
   "cell_type": "code",
   "execution_count": 22,
   "id": "7441ff01-5099-40b9-a922-d2e608faa70e",
   "metadata": {},
   "outputs": [],
   "source": [
    "# Numpy - Linear Algebra"
   ]
  },
  {
   "cell_type": "code",
   "execution_count": 23,
   "id": "f2e3d8c8-303d-4731-b2f0-3e314bfa4d3d",
   "metadata": {},
   "outputs": [],
   "source": [
    "array_01 = numpy.random.randint(0,10,(3,3))"
   ]
  },
  {
   "cell_type": "code",
   "execution_count": 24,
   "id": "647c2d20-aa71-44b0-b554-5a81c08f588d",
   "metadata": {},
   "outputs": [],
   "source": [
    "array_02 = numpy.random.randint(0,10,(3,3))"
   ]
  },
  {
   "cell_type": "code",
   "execution_count": 25,
   "id": "af5edddf-84a2-4db3-b16e-bab60daa9bce",
   "metadata": {},
   "outputs": [
    {
     "data": {
      "text/plain": [
       "array([[1, 3, 1],\n",
       "       [9, 3, 5],\n",
       "       [6, 7, 1]])"
      ]
     },
     "execution_count": 25,
     "metadata": {},
     "output_type": "execute_result"
    }
   ],
   "source": [
    "array_01"
   ]
  },
  {
   "cell_type": "code",
   "execution_count": 26,
   "id": "653a5864-6207-4922-aa63-3994b33fcd1d",
   "metadata": {},
   "outputs": [
    {
     "data": {
      "text/plain": [
       "array([[6, 6, 3],\n",
       "       [5, 3, 6],\n",
       "       [7, 3, 0]])"
      ]
     },
     "execution_count": 26,
     "metadata": {},
     "output_type": "execute_result"
    }
   ],
   "source": [
    "array_02"
   ]
  },
  {
   "cell_type": "code",
   "execution_count": 27,
   "id": "a9a44574-01d1-4e31-a96e-33570386bad4",
   "metadata": {},
   "outputs": [
    {
     "data": {
      "text/plain": [
       "array([[ 28,  18,  21],\n",
       "       [104,  78,  45],\n",
       "       [ 78,  60,  60]])"
      ]
     },
     "execution_count": 27,
     "metadata": {},
     "output_type": "execute_result"
    }
   ],
   "source": [
    "numpy.dot(array_01, array_02)"
   ]
  },
  {
   "cell_type": "code",
   "execution_count": 28,
   "id": "fdba63da-1211-4872-90a1-91f389647a8f",
   "metadata": {},
   "outputs": [
    {
     "data": {
      "text/plain": [
       "array([[ 28,  18,  21],\n",
       "       [104,  78,  45],\n",
       "       [ 78,  60,  60]])"
      ]
     },
     "execution_count": 28,
     "metadata": {},
     "output_type": "execute_result"
    }
   ],
   "source": [
    "array_01 @ array_02"
   ]
  },
  {
   "cell_type": "code",
   "execution_count": null,
   "id": "d86eba8b-d43e-4a2f-9e94-71b959261043",
   "metadata": {},
   "outputs": [],
   "source": []
  }
 ],
 "metadata": {
  "kernelspec": {
   "display_name": "Python 3 (ipykernel)",
   "language": "python",
   "name": "python3"
  },
  "language_info": {
   "codemirror_mode": {
    "name": "ipython",
    "version": 3
   },
   "file_extension": ".py",
   "mimetype": "text/x-python",
   "name": "python",
   "nbconvert_exporter": "python",
   "pygments_lexer": "ipython3",
   "version": "3.10.8"
  }
 },
 "nbformat": 4,
 "nbformat_minor": 5
}
