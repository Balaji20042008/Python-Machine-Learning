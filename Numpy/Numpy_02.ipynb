{
 "cells": [
  {
   "cell_type": "code",
   "execution_count": 1,
   "id": "30541113-094c-4adc-8e6f-d4cc85e308da",
   "metadata": {},
   "outputs": [],
   "source": [
    " import numpy"
   ]
  },
  {
   "cell_type": "code",
   "execution_count": 26,
   "id": "be6e0321-2ef4-4cfd-9192-9c81543d1655",
   "metadata": {},
   "outputs": [],
   "source": [
    "# Numpy - Array Manipulation"
   ]
  },
  {
   "cell_type": "code",
   "execution_count": 2,
   "id": "35ab9d4f-39af-4e19-a296-f06810043bae",
   "metadata": {},
   "outputs": [],
   "source": [
    "array_01 = numpy.random.randint(1,10, (3,4))"
   ]
  },
  {
   "cell_type": "code",
   "execution_count": 3,
   "id": "45365352-1dd3-4215-859c-cdd7c01282a4",
   "metadata": {},
   "outputs": [
    {
     "data": {
      "text/plain": [
       "array([[1, 2, 9, 5],\n",
       "       [4, 3, 9, 3],\n",
       "       [7, 5, 2, 4]])"
      ]
     },
     "execution_count": 3,
     "metadata": {},
     "output_type": "execute_result"
    }
   ],
   "source": [
    "array_01"
   ]
  },
  {
   "cell_type": "code",
   "execution_count": 4,
   "id": "62e24893-b943-484a-8c28-67fae0b213a4",
   "metadata": {},
   "outputs": [
    {
     "data": {
      "text/plain": [
       "array([[1, 2, 9, 5, 4, 3],\n",
       "       [9, 3, 7, 5, 2, 4]])"
      ]
     },
     "execution_count": 4,
     "metadata": {},
     "output_type": "execute_result"
    }
   ],
   "source": [
    "array_01.reshape(2,6)"
   ]
  },
  {
   "cell_type": "code",
   "execution_count": 6,
   "id": "0cc1239c-e94f-4eee-8c07-c06f7fef62f4",
   "metadata": {},
   "outputs": [
    {
     "data": {
      "text/plain": [
       "array([[1, 2],\n",
       "       [9, 5],\n",
       "       [4, 3],\n",
       "       [9, 3],\n",
       "       [7, 5],\n",
       "       [2, 4]])"
      ]
     },
     "execution_count": 6,
     "metadata": {},
     "output_type": "execute_result"
    }
   ],
   "source": [
    "array_01.reshape(6,2)"
   ]
  },
  {
   "cell_type": "code",
   "execution_count": 7,
   "id": "e0a5f572-3fbe-4211-abac-0d47bd7a6cd8",
   "metadata": {},
   "outputs": [
    {
     "data": {
      "text/plain": [
       "array([[1, 2, 9, 5, 4, 3],\n",
       "       [9, 3, 7, 5, 2, 4]])"
      ]
     },
     "execution_count": 7,
     "metadata": {},
     "output_type": "execute_result"
    }
   ],
   "source": [
    "array_01.reshape(2, -2)"
   ]
  },
  {
   "cell_type": "code",
   "execution_count": 11,
   "id": "7b39ecdb-df57-44d3-ae90-a36c77e8b1c2",
   "metadata": {},
   "outputs": [
    {
     "data": {
      "text/plain": [
       "array([[1, 4, 7],\n",
       "       [2, 3, 5],\n",
       "       [9, 9, 2],\n",
       "       [5, 3, 4]])"
      ]
     },
     "execution_count": 11,
     "metadata": {},
     "output_type": "execute_result"
    }
   ],
   "source": [
    "array_01.T"
   ]
  },
  {
   "cell_type": "code",
   "execution_count": 12,
   "id": "32933bf0-ae8f-4339-a048-8e6a8ce76b64",
   "metadata": {},
   "outputs": [
    {
     "data": {
      "text/plain": [
       "array([1, 2, 9, 5, 4, 3, 9, 3, 7, 5, 2, 4])"
      ]
     },
     "execution_count": 12,
     "metadata": {},
     "output_type": "execute_result"
    }
   ],
   "source": [
    "array_01.flatten()"
   ]
  },
  {
   "cell_type": "code",
   "execution_count": 13,
   "id": "34359933-632d-4104-9c37-e2a2ef5684c4",
   "metadata": {},
   "outputs": [],
   "source": [
    "array_02 = numpy.array([1,2,3,4,5])"
   ]
  },
  {
   "cell_type": "code",
   "execution_count": 16,
   "id": "32b3a506-ca10-4675-94a6-e7592c3dee63",
   "metadata": {},
   "outputs": [
    {
     "data": {
      "text/plain": [
       "array([[1, 2, 3, 4, 5]])"
      ]
     },
     "execution_count": 16,
     "metadata": {},
     "output_type": "execute_result"
    }
   ],
   "source": [
    "numpy.expand_dims(array_02, axis = 0)"
   ]
  },
  {
   "cell_type": "code",
   "execution_count": 17,
   "id": "53f260a7-5d6f-40c2-9b20-3597618c5009",
   "metadata": {},
   "outputs": [
    {
     "data": {
      "text/plain": [
       "array([[1],\n",
       "       [2],\n",
       "       [3],\n",
       "       [4],\n",
       "       [5]])"
      ]
     },
     "execution_count": 17,
     "metadata": {},
     "output_type": "execute_result"
    }
   ],
   "source": [
    "numpy.expand_dims(array_02, axis = 1)"
   ]
  },
  {
   "cell_type": "code",
   "execution_count": 18,
   "id": "3f85434f-0408-4dc8-95f6-9170de553efd",
   "metadata": {},
   "outputs": [],
   "source": [
    "array_03 = numpy.array([[1], [2], [3], [4], [5]])"
   ]
  },
  {
   "cell_type": "code",
   "execution_count": 19,
   "id": "4b2a74c6-112a-4fdb-9459-5fc261f17dc2",
   "metadata": {},
   "outputs": [
    {
     "data": {
      "text/plain": [
       "array([[1],\n",
       "       [2],\n",
       "       [3],\n",
       "       [4],\n",
       "       [5]])"
      ]
     },
     "execution_count": 19,
     "metadata": {},
     "output_type": "execute_result"
    }
   ],
   "source": [
    "array_03"
   ]
  },
  {
   "cell_type": "code",
   "execution_count": 20,
   "id": "31527378-c32f-4054-aef1-f3eefccd1e5c",
   "metadata": {},
   "outputs": [
    {
     "data": {
      "text/plain": [
       "array([1, 2, 3, 4, 5])"
      ]
     },
     "execution_count": 20,
     "metadata": {},
     "output_type": "execute_result"
    }
   ],
   "source": [
    "array_03.squeeze()"
   ]
  },
  {
   "cell_type": "code",
   "execution_count": 21,
   "id": "02cbd29b-c20f-4d9b-8b2a-db21a70101c3",
   "metadata": {},
   "outputs": [
    {
     "data": {
      "text/plain": [
       "array([1, 2, 3, 4, 5])"
      ]
     },
     "execution_count": 21,
     "metadata": {},
     "output_type": "execute_result"
    }
   ],
   "source": [
    "array_02"
   ]
  },
  {
   "cell_type": "code",
   "execution_count": 22,
   "id": "09cfc956-8d24-4ddc-a575-f823ff0b1bfe",
   "metadata": {},
   "outputs": [
    {
     "data": {
      "text/plain": [
       "array([3, 4, 5, 1, 2])"
      ]
     },
     "execution_count": 22,
     "metadata": {},
     "output_type": "execute_result"
    }
   ],
   "source": [
    "numpy.roll(array_02, 3)"
   ]
  },
  {
   "cell_type": "code",
   "execution_count": 24,
   "id": "83ca27f3-1954-4cd9-b09c-87a0283d43b0",
   "metadata": {},
   "outputs": [
    {
     "data": {
      "text/plain": [
       "array([[1, 0, 0, 0, 0],\n",
       "       [0, 2, 0, 0, 0],\n",
       "       [0, 0, 3, 0, 0],\n",
       "       [0, 0, 0, 4, 0],\n",
       "       [0, 0, 0, 0, 5]])"
      ]
     },
     "execution_count": 24,
     "metadata": {},
     "output_type": "execute_result"
    }
   ],
   "source": [
    "numpy.diag(array_02)"
   ]
  },
  {
   "cell_type": "code",
   "execution_count": 25,
   "id": "ca3a637e-f52e-4ece-824b-82f082ed92fa",
   "metadata": {},
   "outputs": [
    {
     "data": {
      "text/plain": [
       "array([1, 1, 1, 2, 2, 2, 3, 3, 3, 4, 4, 4, 5, 5, 5])"
      ]
     },
     "execution_count": 25,
     "metadata": {},
     "output_type": "execute_result"
    }
   ],
   "source": [
    "numpy.repeat(array_02, 3)"
   ]
  },
  {
   "cell_type": "code",
   "execution_count": 27,
   "id": "4fcc9991-57a9-485d-b2ef-b26f72bd6314",
   "metadata": {},
   "outputs": [],
   "source": [
    "# Numpy - Binary Operations"
   ]
  },
  {
   "cell_type": "code",
   "execution_count": 28,
   "id": "9faa342d-637a-4b96-aaec-759ec5dfb81a",
   "metadata": {},
   "outputs": [],
   "source": [
    "array_01 = numpy.random.randint(1,10, (3,3))"
   ]
  },
  {
   "cell_type": "code",
   "execution_count": 29,
   "id": "d49327f3-10f7-414c-a82f-07e8b97512a2",
   "metadata": {},
   "outputs": [],
   "source": [
    "array_02 = numpy.random.randint(1, 10, (3,3))"
   ]
  },
  {
   "cell_type": "code",
   "execution_count": 30,
   "id": "ffed7f51-8184-47ef-8c4b-b805c59b9eb6",
   "metadata": {},
   "outputs": [
    {
     "data": {
      "text/plain": [
       "array([[8, 9, 3],\n",
       "       [1, 1, 4],\n",
       "       [1, 5, 6]])"
      ]
     },
     "execution_count": 30,
     "metadata": {},
     "output_type": "execute_result"
    }
   ],
   "source": [
    "array_01"
   ]
  },
  {
   "cell_type": "code",
   "execution_count": 31,
   "id": "65f17ddc-c634-49ad-b0ce-6293b13ee244",
   "metadata": {},
   "outputs": [
    {
     "data": {
      "text/plain": [
       "array([[1, 7, 8],\n",
       "       [7, 8, 7],\n",
       "       [9, 8, 9]])"
      ]
     },
     "execution_count": 31,
     "metadata": {},
     "output_type": "execute_result"
    }
   ],
   "source": [
    "array_02"
   ]
  },
  {
   "cell_type": "code",
   "execution_count": 32,
   "id": "e9cf62ff-cbf0-4555-8370-d500b3bf3a17",
   "metadata": {},
   "outputs": [
    {
     "data": {
      "text/plain": [
       "array([[0, 1, 0],\n",
       "       [1, 0, 4],\n",
       "       [1, 0, 0]])"
      ]
     },
     "execution_count": 32,
     "metadata": {},
     "output_type": "execute_result"
    }
   ],
   "source": [
    "array_01 & array_02"
   ]
  },
  {
   "cell_type": "code",
   "execution_count": 33,
   "id": "39d8b492-04ca-41c3-b721-d6fd9acded0f",
   "metadata": {},
   "outputs": [
    {
     "data": {
      "text/plain": [
       "array([[ 9, 15, 11],\n",
       "       [ 7,  9,  7],\n",
       "       [ 9, 13, 15]])"
      ]
     },
     "execution_count": 33,
     "metadata": {},
     "output_type": "execute_result"
    }
   ],
   "source": [
    "array_01 | array_02"
   ]
  },
  {
   "cell_type": "code",
   "execution_count": 34,
   "id": "dea7ec1e-11ae-45bd-a41a-a6b937dda688",
   "metadata": {},
   "outputs": [
    {
     "data": {
      "text/plain": [
       "array([[ -9, -10,  -4],\n",
       "       [ -2,  -2,  -5],\n",
       "       [ -2,  -6,  -7]])"
      ]
     },
     "execution_count": 34,
     "metadata": {},
     "output_type": "execute_result"
    }
   ],
   "source": [
    "~array_01"
   ]
  },
  {
   "cell_type": "code",
   "execution_count": 35,
   "id": "36e4e7e7-bf1d-4760-8982-88ed892e6531",
   "metadata": {},
   "outputs": [
    {
     "data": {
      "text/plain": [
       "array([[ 9, 16, 11],\n",
       "       [ 8,  9, 11],\n",
       "       [10, 13, 15]])"
      ]
     },
     "execution_count": 35,
     "metadata": {},
     "output_type": "execute_result"
    }
   ],
   "source": [
    "array_01 + array_02"
   ]
  },
  {
   "cell_type": "code",
   "execution_count": 36,
   "id": "f222c6f4-17b4-45a0-87ad-0f8e986fb291",
   "metadata": {},
   "outputs": [
    {
     "data": {
      "text/plain": [
       "array([[ 7,  2, -5],\n",
       "       [-6, -7, -3],\n",
       "       [-8, -3, -3]])"
      ]
     },
     "execution_count": 36,
     "metadata": {},
     "output_type": "execute_result"
    }
   ],
   "source": [
    "array_01 - array_02"
   ]
  },
  {
   "cell_type": "code",
   "execution_count": 37,
   "id": "463792d9-f998-4049-9341-4aae29a6ee61",
   "metadata": {},
   "outputs": [
    {
     "data": {
      "text/plain": [
       "array([[ 8, 63, 24],\n",
       "       [ 7,  8, 28],\n",
       "       [ 9, 40, 54]])"
      ]
     },
     "execution_count": 37,
     "metadata": {},
     "output_type": "execute_result"
    }
   ],
   "source": [
    "array_01 * array_02"
   ]
  },
  {
   "cell_type": "code",
   "execution_count": 39,
   "id": "1f72017a-92f3-4e9d-9985-ea239b3bf822",
   "metadata": {},
   "outputs": [
    {
     "data": {
      "text/plain": [
       "array([[0, 2, 3],\n",
       "       [1, 1, 4],\n",
       "       [1, 5, 6]])"
      ]
     },
     "execution_count": 39,
     "metadata": {},
     "output_type": "execute_result"
    }
   ],
   "source": [
    "array_01 % array_02"
   ]
  },
  {
   "cell_type": "code",
   "execution_count": 41,
   "id": "b859ce6f-abda-4afb-b261-8de1e28b798c",
   "metadata": {},
   "outputs": [
    {
     "data": {
      "text/plain": [
       "array([[64, 81,  9],\n",
       "       [ 1,  1, 16],\n",
       "       [ 1, 25, 36]])"
      ]
     },
     "execution_count": 41,
     "metadata": {},
     "output_type": "execute_result"
    }
   ],
   "source": [
    "array_01 ** 2"
   ]
  },
  {
   "cell_type": "code",
   "execution_count": 42,
   "id": "45616c51-1006-42f5-b7b5-02c9c40c832d",
   "metadata": {},
   "outputs": [],
   "source": [
    "# Numpy - String Functions"
   ]
  },
  {
   "cell_type": "code",
   "execution_count": 43,
   "id": "98dcd333-a5b5-4393-aa1f-1929dfd5d45f",
   "metadata": {},
   "outputs": [],
   "source": [
    "array_01 = numpy.array([\"balaji\", \"srinivas\", \"rahul\", \"vinay\"])"
   ]
  },
  {
   "cell_type": "code",
   "execution_count": 44,
   "id": "4e105ea1-ab3c-43ad-b863-3dcfbfc152eb",
   "metadata": {},
   "outputs": [
    {
     "data": {
      "text/plain": [
       "array(['balaji', 'srinivas', 'rahul', 'vinay'], dtype='<U8')"
      ]
     },
     "execution_count": 44,
     "metadata": {},
     "output_type": "execute_result"
    }
   ],
   "source": [
    "array_01"
   ]
  },
  {
   "cell_type": "code",
   "execution_count": 45,
   "id": "34e10b4f-601b-4bc3-a7e1-11738ada1854",
   "metadata": {},
   "outputs": [
    {
     "data": {
      "text/plain": [
       "array(['BALAJI', 'SRINIVAS', 'RAHUL', 'VINAY'], dtype='<U8')"
      ]
     },
     "execution_count": 45,
     "metadata": {},
     "output_type": "execute_result"
    }
   ],
   "source": [
    "numpy.char.upper(array_01)"
   ]
  },
  {
   "cell_type": "code",
   "execution_count": 46,
   "id": "b8164284-b2bc-4ad6-9970-184f30d45698",
   "metadata": {},
   "outputs": [
    {
     "data": {
      "text/plain": [
       "array(['Balaji', 'Srinivas', 'Rahul', 'Vinay'], dtype='<U8')"
      ]
     },
     "execution_count": 46,
     "metadata": {},
     "output_type": "execute_result"
    }
   ],
   "source": [
    "numpy.char.title(array_01)"
   ]
  },
  {
   "cell_type": "code",
   "execution_count": 47,
   "id": "a13e7b9c-3672-4d6d-a7bb-636798ba1566",
   "metadata": {},
   "outputs": [
    {
     "data": {
      "text/plain": [
       "array(['balaji', 'srinivas', 'rahul', 'vinay'], dtype='<U8')"
      ]
     },
     "execution_count": 47,
     "metadata": {},
     "output_type": "execute_result"
    }
   ],
   "source": [
    "numpy.char.lower(array_01)"
   ]
  },
  {
   "cell_type": "code",
   "execution_count": 48,
   "id": "4e13e0e6-4508-4521-89ac-6d25c6c35fe3",
   "metadata": {},
   "outputs": [
    {
     "data": {
      "text/plain": [
       "array(['Balaji', 'Srinivas', 'Rahul', 'Vinay'], dtype='<U8')"
      ]
     },
     "execution_count": 48,
     "metadata": {},
     "output_type": "execute_result"
    }
   ],
   "source": [
    "numpy.char.capitalize(array_01)"
   ]
  },
  {
   "cell_type": "code",
   "execution_count": 49,
   "id": "7da172f4-682f-4ded-b7c9-8b7c89730101",
   "metadata": {},
   "outputs": [],
   "source": [
    "# Numpy - Mathematical Functions"
   ]
  },
  {
   "cell_type": "code",
   "execution_count": 50,
   "id": "8aa230d0-41e5-41e0-ad99-f9295ffa408e",
   "metadata": {},
   "outputs": [],
   "source": [
    "array_01 = numpy.random.randint(1,10, (3,3))"
   ]
  },
  {
   "cell_type": "code",
   "execution_count": 51,
   "id": "c613a588-4a6c-43fe-9d6c-dfbe1aea765c",
   "metadata": {},
   "outputs": [
    {
     "data": {
      "text/plain": [
       "array([[3, 2, 4],\n",
       "       [4, 9, 4],\n",
       "       [5, 8, 4]])"
      ]
     },
     "execution_count": 51,
     "metadata": {},
     "output_type": "execute_result"
    }
   ],
   "source": [
    "array_01"
   ]
  },
  {
   "cell_type": "code",
   "execution_count": 52,
   "id": "cf07565b-2c82-49a4-a8a8-a297f20eb2ba",
   "metadata": {},
   "outputs": [
    {
     "data": {
      "text/plain": [
       "array([[ 0.14112001,  0.90929743, -0.7568025 ],\n",
       "       [-0.7568025 ,  0.41211849, -0.7568025 ],\n",
       "       [-0.95892427,  0.98935825, -0.7568025 ]])"
      ]
     },
     "execution_count": 52,
     "metadata": {},
     "output_type": "execute_result"
    }
   ],
   "source": [
    "numpy.sin(array_01)"
   ]
  },
  {
   "cell_type": "code",
   "execution_count": 53,
   "id": "b84b4ee2-14d9-4450-b0e0-dfe24539c280",
   "metadata": {},
   "outputs": [
    {
     "data": {
      "text/plain": [
       "array([[-0.9899925 , -0.41614684, -0.65364362],\n",
       "       [-0.65364362, -0.91113026, -0.65364362],\n",
       "       [ 0.28366219, -0.14550003, -0.65364362]])"
      ]
     },
     "execution_count": 53,
     "metadata": {},
     "output_type": "execute_result"
    }
   ],
   "source": [
    "numpy.cos(array_01)"
   ]
  },
  {
   "cell_type": "code",
   "execution_count": 54,
   "id": "60e97e78-ed70-447a-a518-5c97c214163b",
   "metadata": {},
   "outputs": [
    {
     "data": {
      "text/plain": [
       "array([[-0.14254654, -2.18503986,  1.15782128],\n",
       "       [ 1.15782128, -0.45231566,  1.15782128],\n",
       "       [-3.38051501, -6.79971146,  1.15782128]])"
      ]
     },
     "execution_count": 54,
     "metadata": {},
     "output_type": "execute_result"
    }
   ],
   "source": [
    "numpy.tan(array_01)"
   ]
  },
  {
   "cell_type": "code",
   "execution_count": 55,
   "id": "25e6c18e-f6ba-4fe4-862c-2b949aa992dd",
   "metadata": {},
   "outputs": [
    {
     "data": {
      "text/plain": [
       "array([[1.00178749e+01, 3.62686041e+00, 2.72899172e+01],\n",
       "       [2.72899172e+01, 4.05154190e+03, 2.72899172e+01],\n",
       "       [7.42032106e+01, 1.49047883e+03, 2.72899172e+01]])"
      ]
     },
     "execution_count": 55,
     "metadata": {},
     "output_type": "execute_result"
    }
   ],
   "source": [
    "numpy.sinh(array_01)"
   ]
  },
  {
   "cell_type": "code",
   "execution_count": 56,
   "id": "aeafb193-0142-4527-b62d-69da94dd6e4a",
   "metadata": {},
   "outputs": [
    {
     "data": {
      "text/plain": [
       "array([[1.00676620e+01, 3.76219569e+00, 2.73082328e+01],\n",
       "       [2.73082328e+01, 4.05154203e+03, 2.73082328e+01],\n",
       "       [7.42099485e+01, 1.49047916e+03, 2.73082328e+01]])"
      ]
     },
     "execution_count": 56,
     "metadata": {},
     "output_type": "execute_result"
    }
   ],
   "source": [
    "numpy.cosh(array_01)"
   ]
  },
  {
   "cell_type": "code",
   "execution_count": 57,
   "id": "59c48740-6924-4983-be3c-c4523e38b35e",
   "metadata": {},
   "outputs": [
    {
     "data": {
      "text/plain": [
       "array([[0.99505475, 0.96402758, 0.9993293 ],\n",
       "       [0.9993293 , 0.99999997, 0.9993293 ],\n",
       "       [0.9999092 , 0.99999977, 0.9993293 ]])"
      ]
     },
     "execution_count": 57,
     "metadata": {},
     "output_type": "execute_result"
    }
   ],
   "source": [
    "numpy.tanh(array_01)"
   ]
  },
  {
   "cell_type": "code",
   "execution_count": 58,
   "id": "98a262fe-553e-4af2-b4ee-865376c0322c",
   "metadata": {},
   "outputs": [
    {
     "data": {
      "text/plain": [
       "array([[0.47712125, 0.30103   , 0.60205999],\n",
       "       [0.60205999, 0.95424251, 0.60205999],\n",
       "       [0.69897   , 0.90308999, 0.60205999]])"
      ]
     },
     "execution_count": 58,
     "metadata": {},
     "output_type": "execute_result"
    }
   ],
   "source": [
    "numpy.log10(array_01)"
   ]
  },
  {
   "cell_type": "code",
   "execution_count": 59,
   "id": "bc745d7f-d3ce-4803-a7ed-a6aa2b3b87c6",
   "metadata": {},
   "outputs": [
    {
     "data": {
      "text/plain": [
       "array([[2.00855369e+01, 7.38905610e+00, 5.45981500e+01],\n",
       "       [5.45981500e+01, 8.10308393e+03, 5.45981500e+01],\n",
       "       [1.48413159e+02, 2.98095799e+03, 5.45981500e+01]])"
      ]
     },
     "execution_count": 59,
     "metadata": {},
     "output_type": "execute_result"
    }
   ],
   "source": [
    "numpy.exp(array_01)"
   ]
  },
  {
   "cell_type": "code",
   "execution_count": 60,
   "id": "9ba10e4b-91c6-4cea-98a2-07c2fdc11f7c",
   "metadata": {},
   "outputs": [
    {
     "data": {
      "text/plain": [
       "array([[1.73205081, 1.41421356, 2.        ],\n",
       "       [2.        , 3.        , 2.        ],\n",
       "       [2.23606798, 2.82842712, 2.        ]])"
      ]
     },
     "execution_count": 60,
     "metadata": {},
     "output_type": "execute_result"
    }
   ],
   "source": [
    "numpy.sqrt(array_01)"
   ]
  },
  {
   "cell_type": "code",
   "execution_count": 61,
   "id": "3c8b2161-c4ec-40bc-83a5-d7f2a49269bd",
   "metadata": {},
   "outputs": [
    {
     "data": {
      "text/plain": [
       "array([[ 9,  4, 16],\n",
       "       [16, 81, 16],\n",
       "       [25, 64, 16]])"
      ]
     },
     "execution_count": 61,
     "metadata": {},
     "output_type": "execute_result"
    }
   ],
   "source": [
    "numpy.power(array_01, 2)"
   ]
  },
  {
   "cell_type": "code",
   "execution_count": 62,
   "id": "f6e613bf-9273-455c-8a9c-6012c0f44b9e",
   "metadata": {},
   "outputs": [
    {
     "data": {
      "text/plain": [
       "4.777777777777778"
      ]
     },
     "execution_count": 62,
     "metadata": {},
     "output_type": "execute_result"
    }
   ],
   "source": [
    "numpy.mean(array_01)"
   ]
  },
  {
   "cell_type": "code",
   "execution_count": 63,
   "id": "b0126b33-e94e-45b4-b567-b40d3830f5ee",
   "metadata": {},
   "outputs": [
    {
     "data": {
      "text/plain": [
       "4.0"
      ]
     },
     "execution_count": 63,
     "metadata": {},
     "output_type": "execute_result"
    }
   ],
   "source": [
    "numpy.median(array_01)"
   ]
  },
  {
   "cell_type": "code",
   "execution_count": 64,
   "id": "e1ac9ed8-6eed-4831-9180-84bd7901d2bf",
   "metadata": {},
   "outputs": [
    {
     "data": {
      "text/plain": [
       "2.1487866228681907"
      ]
     },
     "execution_count": 64,
     "metadata": {},
     "output_type": "execute_result"
    }
   ],
   "source": [
    "numpy.std(array_01)"
   ]
  },
  {
   "cell_type": "code",
   "execution_count": 66,
   "id": "85499457-cb86-4d00-9dda-191d26452a88",
   "metadata": {},
   "outputs": [
    {
     "data": {
      "text/plain": [
       "4.617283950617283"
      ]
     },
     "execution_count": 66,
     "metadata": {},
     "output_type": "execute_result"
    }
   ],
   "source": [
    "numpy.var(array_01)"
   ]
  },
  {
   "cell_type": "code",
   "execution_count": 67,
   "id": "aadde920-08ea-4634-8c72-08101e24ec51",
   "metadata": {},
   "outputs": [
    {
     "data": {
      "text/plain": [
       "9"
      ]
     },
     "execution_count": 67,
     "metadata": {},
     "output_type": "execute_result"
    }
   ],
   "source": [
    "numpy.max(array_01)"
   ]
  },
  {
   "cell_type": "code",
   "execution_count": 68,
   "id": "e2ad950d-3f8c-42c0-a432-be84304072c1",
   "metadata": {},
   "outputs": [
    {
     "data": {
      "text/plain": [
       "2"
      ]
     },
     "execution_count": 68,
     "metadata": {},
     "output_type": "execute_result"
    }
   ],
   "source": [
    "numpy.min(array_01)"
   ]
  },
  {
   "cell_type": "code",
   "execution_count": null,
   "id": "a408565a-cc42-46e3-99e7-61fe212886bd",
   "metadata": {},
   "outputs": [],
   "source": []
  }
 ],
 "metadata": {
  "kernelspec": {
   "display_name": "Python 3 (ipykernel)",
   "language": "python",
   "name": "python3"
  },
  "language_info": {
   "codemirror_mode": {
    "name": "ipython",
    "version": 3
   },
   "file_extension": ".py",
   "mimetype": "text/x-python",
   "name": "python",
   "nbconvert_exporter": "python",
   "pygments_lexer": "ipython3",
   "version": "3.10.8"
  }
 },
 "nbformat": 4,
 "nbformat_minor": 5
}
