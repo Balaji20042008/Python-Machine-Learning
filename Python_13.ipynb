{
 "cells": [
  {
   "cell_type": "code",
   "execution_count": 1,
   "id": "8817072e-1eac-40e4-9dda-d0000ff566e2",
   "metadata": {},
   "outputs": [
    {
     "name": "stdout",
     "output_type": "stream",
     "text": [
      "The try block is executed successfully.\n"
     ]
    }
   ],
   "source": [
    "try :\n",
    "    file_01 = open(\"msg_01.txt\", 'w')\n",
    "    file_01.write(\"Hello!! Good Morning.. :)\")\n",
    "except Exception as error :\n",
    "    print(\"Error: \", error)\n",
    "else :\n",
    "    file_01.close()\n",
    "    print(\"The try block is executed successfully.\")"
   ]
  },
  {
   "cell_type": "code",
   "execution_count": 3,
   "id": "40f6dc33-04d4-42ab-86a0-b08b83ce26b6",
   "metadata": {},
   "outputs": [
    {
     "name": "stdout",
     "output_type": "stream",
     "text": [
      "Error:  [Errno 2] No such file or directory: 'msg_02.txt'\n"
     ]
    },
    {
     "data": {
      "text/plain": [
       "[1, 4, 9, 16, 25, 36]"
      ]
     },
     "execution_count": 3,
     "metadata": {},
     "output_type": "execute_result"
    }
   ],
   "source": [
    "try :\n",
    "    file_01 = open(\"msg_02.txt\", 'r')\n",
    "    file_01.write(\"Hello!! Good Morning.. :)\")\n",
    "except Exception as error :\n",
    "    print(\"Error: \", error)\n",
    "else :\n",
    "    file_01.close()\n",
    "    print(\"The try block is executed successfully.\")\n",
    "    \n",
    "list_01 = [1, 2, 3, 4, 5, 6]\n",
    "list_02 = list(map(lambda x : x * x, list_01))\n",
    "\n",
    "size = len(list_01)\n",
    "\n",
    "list_02[0:size:1]"
   ]
  },
  {
   "cell_type": "code",
   "execution_count": 7,
   "id": "5e8e6e53-d64c-4bb9-b8a5-3a48723196a6",
   "metadata": {},
   "outputs": [
    {
     "name": "stdout",
     "output_type": "stream",
     "text": [
      "The try block is executed successfully.\n",
      "This block will be executed irrespective of the runtime error.\n"
     ]
    }
   ],
   "source": [
    "try :\n",
    "    file_01 = open(\"msg_02.txt\", 'w')\n",
    "    file_01.write(\"Hello!! Good Morning.. :)\")\n",
    "except Exception as error :\n",
    "    print(\"Error: \", error)\n",
    "else :\n",
    "    file_01.close()\n",
    "    print(\"The try block is executed successfully.\")\n",
    "finally:\n",
    "    print(\"This block will be executed irrespective of the runtime error.\")"
   ]
  },
  {
   "cell_type": "code",
   "execution_count": null,
   "id": "c4898447-98eb-4066-8a81-5dbfeda333f7",
   "metadata": {},
   "outputs": [],
   "source": []
  }
 ],
 "metadata": {
  "kernelspec": {
   "display_name": "Python 3 (ipykernel)",
   "language": "python",
   "name": "python3"
  },
  "language_info": {
   "codemirror_mode": {
    "name": "ipython",
    "version": 3
   },
   "file_extension": ".py",
   "mimetype": "text/x-python",
   "name": "python",
   "nbconvert_exporter": "python",
   "pygments_lexer": "ipython3",
   "version": "3.10.8"
  }
 },
 "nbformat": 4,
 "nbformat_minor": 5
}
