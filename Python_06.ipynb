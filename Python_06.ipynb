{
 "cells": [
  {
   "cell_type": "code",
   "execution_count": 8,
   "id": "e2f68a03-e341-4220-90cb-671a04d9043a",
   "metadata": {},
   "outputs": [],
   "source": [
    "# def fibonacci(n) :\n",
    "#     a = 0\n",
    "#     b = 1\n",
    "#     for i in range(n) :\n",
    "#         yield a\n",
    "#         s = a + b\n",
    "#         a = b\n",
    "#         b = s"
   ]
  },
  {
   "cell_type": "code",
   "execution_count": 9,
   "id": "a62df429-fee0-4aa3-b30e-8e094ff941e2",
   "metadata": {},
   "outputs": [],
   "source": [
    "# generator = fibonacci(8)"
   ]
  },
  {
   "cell_type": "code",
   "execution_count": 4,
   "id": "fe298fea-edbd-4d0c-9c25-eac37ba9a874",
   "metadata": {},
   "outputs": [],
   "source": [
    "# print(\"Fibonacci Series: \")\n",
    "# for i in generator :\n",
    "#     print(i)"
   ]
  },
  {
   "cell_type": "code",
   "execution_count": 6,
   "id": "36f627ff-2bf7-4ab4-92e9-d38dd3f2c0b1",
   "metadata": {},
   "outputs": [],
   "source": [
    "# print(\"Fibonacci Series: \")\n",
    "# for i in fibonacci(8) :\n",
    "#     print(i)"
   ]
  },
  {
   "cell_type": "code",
   "execution_count": 19,
   "id": "6b9aab49-5213-498f-b5ae-1c56f2f9ef9b",
   "metadata": {},
   "outputs": [],
   "source": [
    "# def fibonacci() :\n",
    "#     a = 0\n",
    "#     b = 1\n",
    "#     while True :\n",
    "#         yield a\n",
    "#         s = a + b\n",
    "#         a = b\n",
    "#         b = s"
   ]
  },
  {
   "cell_type": "code",
   "execution_count": 20,
   "id": "0b921d4a-c2fa-4920-b26a-b372311f4ffa",
   "metadata": {},
   "outputs": [],
   "source": [
    "# generator = fibonacci()"
   ]
  },
  {
   "cell_type": "code",
   "execution_count": 21,
   "id": "9eabc54b-51f1-4a72-913e-59809318a8fc",
   "metadata": {},
   "outputs": [],
   "source": [
    "# type(generator)"
   ]
  },
  {
   "cell_type": "code",
   "execution_count": 18,
   "id": "aac6b37f-8933-4a0a-a6ed-9703d1aa03f4",
   "metadata": {},
   "outputs": [],
   "source": [
    "# print(\"Fibonacci Series: \")\n",
    "# for i in range(8) :\n",
    "#     print(next(generator))"
   ]
  },
  {
   "cell_type": "code",
   "execution_count": 26,
   "id": "610ed72c-2884-4777-85de-3fa0a314091f",
   "metadata": {},
   "outputs": [],
   "source": [
    "# string = \"Balaji\""
   ]
  },
  {
   "cell_type": "code",
   "execution_count": 22,
   "id": "d9708464-5caf-4a17-99bd-c4cf6e7a583e",
   "metadata": {},
   "outputs": [],
   "source": [
    "# for i in string :\n",
    "#     print(i)"
   ]
  },
  {
   "cell_type": "code",
   "execution_count": 23,
   "id": "7565790f-ed03-4bda-a5c5-4117615dbdd4",
   "metadata": {},
   "outputs": [],
   "source": [
    "# iterator = iter(string)"
   ]
  },
  {
   "cell_type": "code",
   "execution_count": 24,
   "id": "4f4e25c2-daf4-4241-84a5-adbe02d735f4",
   "metadata": {},
   "outputs": [],
   "source": [
    "# type(iterator)"
   ]
  },
  {
   "cell_type": "code",
   "execution_count": 25,
   "id": "88c8d9c9-4b3f-40ae-8de3-259bb4d6692a",
   "metadata": {},
   "outputs": [],
   "source": [
    "# for i in string :\n",
    "#     print(next(iterator))"
   ]
  },
  {
   "cell_type": "code",
   "execution_count": 34,
   "id": "ea6d98c4-8511-4e8a-914c-a890c727440b",
   "metadata": {},
   "outputs": [],
   "source": [
    "# def progression(n):\n",
    "#     a = 12\n",
    "#     d = 7\n",
    "#     for i in range(n) :\n",
    "#         yield a\n",
    "#         s = a + d\n",
    "#         a = s"
   ]
  },
  {
   "cell_type": "code",
   "execution_count": 35,
   "id": "29d6ab64-ed4a-4612-8d82-7d15b095e081",
   "metadata": {},
   "outputs": [],
   "source": [
    "# generator = progression(6)"
   ]
  },
  {
   "cell_type": "code",
   "execution_count": 36,
   "id": "25a936bb-8717-4086-b7f1-96fdc105cc81",
   "metadata": {},
   "outputs": [],
   "source": [
    "# print(\"Arithmetic Progression: \")\n",
    "# for i in generator:\n",
    "#     print(i)"
   ]
  },
  {
   "cell_type": "code",
   "execution_count": 37,
   "id": "0b7ab4e5-e3d1-4bf5-838c-f1cb802ac6f0",
   "metadata": {},
   "outputs": [],
   "source": [
    "# print(\"Arithmetic Progression: \")\n",
    "# for i in progression(6) :\n",
    "#     print(i)"
   ]
  },
  {
   "cell_type": "code",
   "execution_count": 1,
   "id": "1b0fd585-81ad-4280-bf7e-2795c23f588e",
   "metadata": {},
   "outputs": [],
   "source": [
    "def progression():\n",
    "    a = 12\n",
    "    d = 7\n",
    "    while True:\n",
    "        yield a\n",
    "        s = a + d\n",
    "        a = s"
   ]
  },
  {
   "cell_type": "code",
   "execution_count": 2,
   "id": "d57e2459-24c1-438f-b93a-5922d9869a0f",
   "metadata": {},
   "outputs": [],
   "source": [
    "generator = progression()"
   ]
  },
  {
   "cell_type": "code",
   "execution_count": 3,
   "id": "92ff470e-2984-4068-8bc2-b2a9b737220e",
   "metadata": {},
   "outputs": [
    {
     "data": {
      "text/plain": [
       "generator"
      ]
     },
     "execution_count": 3,
     "metadata": {},
     "output_type": "execute_result"
    }
   ],
   "source": [
    "type(generator)"
   ]
  },
  {
   "cell_type": "code",
   "execution_count": 4,
   "id": "cbed28d7-04f3-4b72-9244-15e4486d59b3",
   "metadata": {},
   "outputs": [
    {
     "name": "stdout",
     "output_type": "stream",
     "text": [
      "Arithmetic Progression: \n",
      "12\n",
      "19\n",
      "26\n",
      "33\n",
      "40\n",
      "47\n"
     ]
    }
   ],
   "source": [
    "print(\"Arithmetic Progression: \")\n",
    "for i in range(6):\n",
    "    print(next(generator))"
   ]
  },
  {
   "cell_type": "code",
   "execution_count": 51,
   "id": "effc9fca-acc1-4840-a0ce-33c24c5053ba",
   "metadata": {},
   "outputs": [],
   "source": [
    "# list_01 = [12, 45, 60, 75, 90]"
   ]
  },
  {
   "cell_type": "code",
   "execution_count": 52,
   "id": "09b72493-6b86-47d8-80a4-6d3098f68e89",
   "metadata": {},
   "outputs": [],
   "source": [
    "# for i in list_01:\n",
    "#     print(i)"
   ]
  },
  {
   "cell_type": "code",
   "execution_count": 53,
   "id": "2d356229-c9e7-450b-a1b3-e1e67c3db55f",
   "metadata": {},
   "outputs": [],
   "source": [
    "# iterator = iter(list_01)"
   ]
  },
  {
   "cell_type": "code",
   "execution_count": 54,
   "id": "c5c527bc-bb44-4215-beca-0a536a8f8cfd",
   "metadata": {},
   "outputs": [],
   "source": [
    "# type(iterator)"
   ]
  },
  {
   "cell_type": "code",
   "execution_count": 9,
   "id": "3e234aa0-97fd-48f8-b282-bb80271ee6dc",
   "metadata": {},
   "outputs": [],
   "source": [
    "# for i in list_01:\n",
    "#      print(next(iterator))"
   ]
  },
  {
   "cell_type": "code",
   "execution_count": 5,
   "id": "fa507785-97da-4369-8ef8-6fe97953c49c",
   "metadata": {},
   "outputs": [],
   "source": [
    "# a = 2\n",
    "# b = 5"
   ]
  },
  {
   "cell_type": "code",
   "execution_count": 4,
   "id": "45b74338-8968-46bb-a4af-d91d0c04330f",
   "metadata": {},
   "outputs": [],
   "source": [
    "# def exponential(a,b) :\n",
    "#     return a**b;"
   ]
  },
  {
   "cell_type": "code",
   "execution_count": 3,
   "id": "d03a0979-de1a-46e3-8726-ba7489742a46",
   "metadata": {},
   "outputs": [],
   "source": [
    "# exponential(a,b)"
   ]
  },
  {
   "cell_type": "code",
   "execution_count": 2,
   "id": "17f458e2-f3ca-4892-a598-179ac5015d12",
   "metadata": {},
   "outputs": [],
   "source": [
    "# power = lambda a,b : a**b"
   ]
  },
  {
   "cell_type": "code",
   "execution_count": 1,
   "id": "93fcf1c4-980c-429e-8577-648aa8dba8ad",
   "metadata": {},
   "outputs": [],
   "source": [
    "# power(a,b)"
   ]
  },
  {
   "cell_type": "code",
   "execution_count": 8,
   "id": "a2c96be6-5623-4c3e-b69e-5832105f5ee1",
   "metadata": {},
   "outputs": [],
   "source": [
    "# string = \"Balaji\""
   ]
  },
  {
   "cell_type": "code",
   "execution_count": 7,
   "id": "f30efb6c-27d8-4de9-9c7f-22a2b356d178",
   "metadata": {},
   "outputs": [],
   "source": [
    "# length = lambda string : len(string)"
   ]
  },
  {
   "cell_type": "code",
   "execution_count": 6,
   "id": "1c3c7fd7-f3e5-4e9c-8727-dc089326898e",
   "metadata": {},
   "outputs": [],
   "source": [
    "# length(string)"
   ]
  },
  {
   "cell_type": "code",
   "execution_count": 9,
   "id": "50f92744-5977-4d5f-9318-19b9a3b7fc1d",
   "metadata": {},
   "outputs": [],
   "source": [
    "# minimum = lambda x,y : x if x<y else y"
   ]
  },
  {
   "cell_type": "code",
   "execution_count": null,
   "id": "ae014640-e435-4645-88fc-a89b9268935d",
   "metadata": {},
   "outputs": [],
   "source": []
  }
 ],
 "metadata": {
  "kernelspec": {
   "display_name": "Python 3 (ipykernel)",
   "language": "python",
   "name": "python3"
  },
  "language_info": {
   "codemirror_mode": {
    "name": "ipython",
    "version": 3
   },
   "file_extension": ".py",
   "mimetype": "text/x-python",
   "name": "python",
   "nbconvert_exporter": "python",
   "pygments_lexer": "ipython3",
   "version": "3.10.8"
  }
 },
 "nbformat": 4,
 "nbformat_minor": 5
}
