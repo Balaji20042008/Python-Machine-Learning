{
 "cells": [
  {
   "cell_type": "code",
   "execution_count": 1,
   "id": "6466eb89-b247-49dd-9890-b8bca650d0a4",
   "metadata": {},
   "outputs": [],
   "source": [
    "class valid_marks(Exception) :\n",
    "    def __init__(self, message) :\n",
    "        self.message = message"
   ]
  },
  {
   "cell_type": "code",
   "execution_count": 2,
   "id": "94c5896a-c2d8-4554-9254-dc41e3703f17",
   "metadata": {},
   "outputs": [],
   "source": [
    "def validation(marks) :\n",
    "    if marks > 100 :\n",
    "        raise valid_marks(\"The marks obtained by a student can't be more than 100.\")\n",
    "    elif marks < 0 :\n",
    "        raise valid_marks(\"The marks obtained by a student can't be less than 0.\")\n",
    "    else :\n",
    "        print(\"The marks obtained by a student are: \", marks)"
   ]
  },
  {
   "cell_type": "code",
   "execution_count": 12,
   "id": "d8416b26-9e60-474f-8938-606e56fc522e",
   "metadata": {},
   "outputs": [
    {
     "name": "stdin",
     "output_type": "stream",
     "text": [
      "The marks obtained by a student are:  60\n"
     ]
    },
    {
     "name": "stdout",
     "output_type": "stream",
     "text": [
      "The marks obtained by a student are:  60\n",
      "The code is executed successfully without any errors.\n",
      "Grade: C1\n"
     ]
    }
   ],
   "source": [
    "try :\n",
    "    marks = int(input(\"The marks obtained by a student are: \"))\n",
    "    validation(marks)\n",
    "except valid_marks as error :\n",
    "    print(\"Error: \", error)\n",
    "else :\n",
    "    print(\"The code is executed successfully without any errors.\")\n",
    "    if marks > 90 :\n",
    "        print(\"Grade: A1\")\n",
    "    elif marks > 80 and marks <= 90 :\n",
    "        print(\"Grade: A2\")\n",
    "    elif marks > 70 and marks <= 80 :\n",
    "        print(\"Grade: B1\")\n",
    "    elif marks > 60 and marks <= 70 :\n",
    "        print(\"Grade: B2\")\n",
    "    elif marks > 50 and marks <= 60 :\n",
    "        print(\"Grade: C1\")\n",
    "    elif marks > 40 and marks <= 50 :\n",
    "        print(\"Grade: C2\")\n",
    "    else :\n",
    "        print(\"Grade: F\")"
   ]
  },
  {
   "cell_type": "code",
   "execution_count": null,
   "id": "01592828-e721-433b-ac66-44eb6ace60fc",
   "metadata": {},
   "outputs": [],
   "source": []
  }
 ],
 "metadata": {
  "kernelspec": {
   "display_name": "Python 3 (ipykernel)",
   "language": "python",
   "name": "python3"
  },
  "language_info": {
   "codemirror_mode": {
    "name": "ipython",
    "version": 3
   },
   "file_extension": ".py",
   "mimetype": "text/x-python",
   "name": "python",
   "nbconvert_exporter": "python",
   "pygments_lexer": "ipython3",
   "version": "3.10.8"
  }
 },
 "nbformat": 4,
 "nbformat_minor": 5
}
