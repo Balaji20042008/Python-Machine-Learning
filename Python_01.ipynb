{
 "cells": [
  {
   "cell_type": "code",
   "execution_count": 1,
   "id": "aee76308-cd2c-4cff-8520-c43c69e7daa3",
   "metadata": {},
   "outputs": [
    {
     "name": "stdout",
     "output_type": "stream",
     "text": [
      "The value of 'a' is greater than 5.\n",
      "The value of 'b' is lesser than 30.\n"
     ]
    }
   ],
   "source": [
    "a = 10\n",
    "b = 20\n",
    "if (a > 5 and b < 30) :\n",
    "    print(\"The value of 'a' is greater than 5.\")\n",
    "    print(\"The value of 'b' is lesser than 30.\")\n",
    "elif a < 5 and b < 30 :\n",
    "    print(\"The value of 'a' is lesser than 5.\")\n",
    "    print(\"The value of 'b' is lesser than 30.\")\n",
    "else :\n",
    "    print(\"The above conditions are not true.\")"
   ]
  },
  {
   "cell_type": "code",
   "execution_count": 8,
   "id": "9e1710dc-3622-4d02-8202-ba6f5dd9ca37",
   "metadata": {},
   "outputs": [
    {
     "data": {
      "text/plain": [
       "True"
      ]
     },
     "execution_count": 8,
     "metadata": {},
     "output_type": "execute_result"
    }
   ],
   "source": [
    "a > 5 and b < 30"
   ]
  },
  {
   "cell_type": "code",
   "execution_count": 9,
   "id": "0b47ff2a-8596-4d92-9453-40c8b1db7fd9",
   "metadata": {},
   "outputs": [
    {
     "data": {
      "text/plain": [
       "False"
      ]
     },
     "execution_count": 9,
     "metadata": {},
     "output_type": "execute_result"
    }
   ],
   "source": [
    "a < 5 and b < 30"
   ]
  },
  {
   "cell_type": "code",
   "execution_count": 10,
   "id": "952862aa-5e44-49db-9800-c171fc6031ea",
   "metadata": {},
   "outputs": [
    {
     "name": "stdout",
     "output_type": "stream",
     "text": [
      "Grade: B\n"
     ]
    }
   ],
   "source": [
    "percentage = 87\n",
    "if percentage > 90 :\n",
    "    print(\"Grade: A\")\n",
    "elif percentage < 90 and percentage > 75 :\n",
    "    print(\"Grade: B\")\n",
    "elif percentage < 75 and percentage > 65 :\n",
    "    print(\"Grade: C\")\n",
    "else :\n",
    "    print(\"Grade: D\")"
   ]
  },
  {
   "cell_type": "code",
   "execution_count": 11,
   "id": "9fe9566a-8618-4337-be0b-636a2e064b74",
   "metadata": {},
   "outputs": [
    {
     "data": {
      "text/plain": [
       "True"
      ]
     },
     "execution_count": 11,
     "metadata": {},
     "output_type": "execute_result"
    }
   ],
   "source": [
    "percentage < 90 and percentage > 75"
   ]
  },
  {
   "cell_type": "code",
   "execution_count": 12,
   "id": "7f82300a-a96d-4283-afdf-62378668767b",
   "metadata": {},
   "outputs": [
    {
     "name": "stdout",
     "output_type": "stream",
     "text": [
      "The value of 'n' is: \n"
     ]
    },
    {
     "name": "stdin",
     "output_type": "stream",
     "text": [
      " 25\n"
     ]
    }
   ],
   "source": [
    "print(\"The value of 'n' is: \")\n",
    "n = int(input())"
   ]
  },
  {
   "cell_type": "code",
   "execution_count": 17,
   "id": "8af32fac-c2e4-47b5-af34-59917b691832",
   "metadata": {},
   "outputs": [
    {
     "name": "stdout",
     "output_type": "stream",
     "text": [
      "The value of 'n' is: 25\n"
     ]
    }
   ],
   "source": [
    "print(\"The value of 'n' is: \" + str(n))"
   ]
  },
  {
   "cell_type": "code",
   "execution_count": 23,
   "id": "f55ff1f7-b9c4-4b3b-924f-f147c774bea0",
   "metadata": {},
   "outputs": [
    {
     "name": "stdout",
     "output_type": "stream",
     "text": [
      "The value of 'n' is: \n"
     ]
    },
    {
     "name": "stdin",
     "output_type": "stream",
     "text": [
      " 100\n"
     ]
    },
    {
     "name": "stdout",
     "output_type": "stream",
     "text": [
      "The sum of first 'n' natural numbers is: 5050\n"
     ]
    }
   ],
   "source": [
    "#Sum of first 'n' is natural numbers\n",
    "\n",
    "i = 0\n",
    "s = 0\n",
    "\n",
    "print(\"The value of 'n' is: \")\n",
    "n = int(input())\n",
    "\n",
    "while i <= n :\n",
    "    s = s + i\n",
    "    i = i + 1\n",
    "else :\n",
    "    print(\"The sum of first 'n' natural numbers is: \" + str(s))"
   ]
  },
  {
   "cell_type": "code",
   "execution_count": 26,
   "id": "0cbbc3ec-5810-47bb-9080-b898b135dfcb",
   "metadata": {},
   "outputs": [
    {
     "name": "stdout",
     "output_type": "stream",
     "text": [
      "<class 'int'>\n",
      "<class 'float'>\n",
      "<class 'str'>\n",
      "<class 'bool'>\n",
      "The for loop is successfully executed.\n"
     ]
    }
   ],
   "source": [
    "l = [1, 1.00, \"1\", True]\n",
    "\n",
    "for i in l :\n",
    "    print(type(i))\n",
    "else :\n",
    "    print(\"The for loop is successfully executed.\")"
   ]
  },
  {
   "cell_type": "code",
   "execution_count": 27,
   "id": "1212cde5-fc85-462d-aa41-b5645264cc0f",
   "metadata": {},
   "outputs": [
    {
     "data": {
      "text/plain": [
       "[0, 1, 2, 3, 4, 5, 6, 7, 8, 9]"
      ]
     },
     "execution_count": 27,
     "metadata": {},
     "output_type": "execute_result"
    }
   ],
   "source": [
    "list(range(10))"
   ]
  }
 ],
 "metadata": {
  "kernelspec": {
   "display_name": "Python 3 (ipykernel)",
   "language": "python",
   "name": "python3"
  },
  "language_info": {
   "codemirror_mode": {
    "name": "ipython",
    "version": 3
   },
   "file_extension": ".py",
   "mimetype": "text/x-python",
   "name": "python",
   "nbconvert_exporter": "python",
   "pygments_lexer": "ipython3",
   "version": "3.10.8"
  }
 },
 "nbformat": 4,
 "nbformat_minor": 5
}
