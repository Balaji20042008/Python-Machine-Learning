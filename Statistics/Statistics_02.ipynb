{
 "cells": [
  {
   "cell_type": "code",
   "execution_count": 1,
   "id": "569aeed5-a895-4097-9e1b-c5900dabb08a",
   "metadata": {},
   "outputs": [],
   "source": [
    "import scipy.stats as stat\n",
    "import numpy as np"
   ]
  },
  {
   "cell_type": "code",
   "execution_count": 2,
   "id": "967d6db6-15c1-4e40-8e74-2e5ab693a4ae",
   "metadata": {},
   "outputs": [],
   "source": [
    "expected_data = [8, 7, 8, 7, 7, 6, 5]\n",
    "observed_data = [5, 9, 9, 9, 8, 5, 3]"
   ]
  },
  {
   "cell_type": "code",
   "execution_count": 3,
   "id": "a62fafa5-5284-49d0-aa13-15c3d075972f",
   "metadata": {},
   "outputs": [
    {
     "name": "stdout",
     "output_type": "stream",
     "text": [
      "48\n",
      "48\n"
     ]
    }
   ],
   "source": [
    "print(sum(expected_data))\n",
    "print(sum(observed_data))"
   ]
  },
  {
   "cell_type": "code",
   "execution_count": 4,
   "id": "828b6f9f-8f68-40ee-9ab7-3fd54069e3c5",
   "metadata": {},
   "outputs": [],
   "source": [
    "chisquare_value, p_value = stat.chisquare(observed_data, expected_data)"
   ]
  },
  {
   "cell_type": "code",
   "execution_count": 5,
   "id": "c381a787-991a-4028-8d05-9652fe901388",
   "metadata": {},
   "outputs": [
    {
     "name": "stdout",
     "output_type": "stream",
     "text": [
      "The chi-square value is: 3.5023809523809524\n",
      "The p-value is: 0.7436528930901121\n"
     ]
    }
   ],
   "source": [
    "print(\"The chi-square value is: \" + str(chisquare_value))\n",
    "print(\"The p-value is: \" + str(p_value))"
   ]
  },
  {
   "cell_type": "code",
   "execution_count": 6,
   "id": "92b498eb-86fe-429e-99d1-dfa6977de56f",
   "metadata": {},
   "outputs": [],
   "source": [
    "sig_value = 0.05\n",
    "dof_value = len(expected_data) - 1"
   ]
  },
  {
   "cell_type": "code",
   "execution_count": 7,
   "id": "e2ac79c6-3a33-47c7-9252-4ef51b509af0",
   "metadata": {},
   "outputs": [],
   "source": [
    "critical_value = stat.chi2.ppf(1-sig_value, dof_value) #person point function"
   ]
  },
  {
   "cell_type": "code",
   "execution_count": 8,
   "id": "57bbd224-d92d-45b5-b00e-f71180187025",
   "metadata": {},
   "outputs": [
    {
     "name": "stdout",
     "output_type": "stream",
     "text": [
      "The critical value is: 12.591587243743977\n"
     ]
    }
   ],
   "source": [
    "print(\"The critical value is: \" + str(critical_value))"
   ]
  },
  {
   "cell_type": "code",
   "execution_count": 9,
   "id": "7b30626e-80d9-4347-bc76-c3140b2d4907",
   "metadata": {},
   "outputs": [
    {
     "name": "stdout",
     "output_type": "stream",
     "text": [
      "Accept the Null Hypothesis.\n"
     ]
    }
   ],
   "source": [
    "if chisquare_value > critical_value :\n",
    "    print(\"Reject the Null Hypothesis.\")\n",
    "else :\n",
    "    print(\"Accept the Null Hypothesis.\")"
   ]
  },
  {
   "cell_type": "code",
   "execution_count": null,
   "id": "2da33e01-6268-439f-b5f0-4f401b785d14",
   "metadata": {},
   "outputs": [],
   "source": []
  }
 ],
 "metadata": {
  "kernelspec": {
   "display_name": "Python 3 (ipykernel)",
   "language": "python",
   "name": "python3"
  },
  "language_info": {
   "codemirror_mode": {
    "name": "ipython",
    "version": 3
   },
   "file_extension": ".py",
   "mimetype": "text/x-python",
   "name": "python",
   "nbconvert_exporter": "python",
   "pygments_lexer": "ipython3",
   "version": "3.10.8"
  }
 },
 "nbformat": 4,
 "nbformat_minor": 5
}
