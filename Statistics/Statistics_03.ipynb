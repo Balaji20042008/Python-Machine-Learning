{
 "cells": [
  {
   "cell_type": "code",
   "execution_count": 1,
   "id": "1de8cd3d-4f87-4881-b288-327627668c9c",
   "metadata": {},
   "outputs": [],
   "source": [
    "import numpy as np\n",
    "import scipy.stats as stat"
   ]
  },
  {
   "cell_type": "code",
   "execution_count": 2,
   "id": "fd92e1d1-86b9-45da-afb5-e717ef455241",
   "metadata": {},
   "outputs": [],
   "source": [
    "worker_01 = [40, 30, 38, 41, 38, 35]\n",
    "worker_02 = [39, 38, 41, 33, 32, 39, 40, 34]"
   ]
  },
  {
   "cell_type": "code",
   "execution_count": 3,
   "id": "38bda4c8-8b81-4ae0-ae43-42c422245fd9",
   "metadata": {},
   "outputs": [],
   "source": [
    "variance_01 = np.var(worker_01)\n",
    "variance_02 = np.var(worker_02)"
   ]
  },
  {
   "cell_type": "code",
   "execution_count": 4,
   "id": "ca7a4db1-73f5-4ac8-8647-3771503c0c76",
   "metadata": {},
   "outputs": [],
   "source": [
    "f_value = variance_01/variance_02"
   ]
  },
  {
   "cell_type": "code",
   "execution_count": 5,
   "id": "9e3dde04-efdf-4d3c-a0bc-0a7178b04f79",
   "metadata": {},
   "outputs": [
    {
     "name": "stdout",
     "output_type": "stream",
     "text": [
      "The F-value is: 1.26984126984127\n"
     ]
    }
   ],
   "source": [
    "print(\"The F-value is: \" + str(f_value))"
   ]
  },
  {
   "cell_type": "code",
   "execution_count": 7,
   "id": "3eda5d7d-489a-4799-93f0-c6adb5b25aa7",
   "metadata": {},
   "outputs": [],
   "source": [
    "significance_value = 0.05\n",
    "dof_01 = len(worker_01) - 1\n",
    "dof_02 = len(worker_02) - 1"
   ]
  },
  {
   "cell_type": "code",
   "execution_count": 8,
   "id": "4e890bf2-98cc-4e68-8ca6-56962a1aebd5",
   "metadata": {},
   "outputs": [],
   "source": [
    "critical_value = stat.f.ppf(q = 1 - significance_value, dfn = dof_01, dfd = dof_02)"
   ]
  },
  {
   "cell_type": "code",
   "execution_count": 9,
   "id": "b71f08b2-ee8c-45bc-97c2-53f96776a77a",
   "metadata": {},
   "outputs": [
    {
     "name": "stdout",
     "output_type": "stream",
     "text": [
      "The critical value is: 3.9715231506113415\n"
     ]
    }
   ],
   "source": [
    "print(\"The critical value is: \" + str(critical_value))"
   ]
  },
  {
   "cell_type": "code",
   "execution_count": 10,
   "id": "3c77fd5a-d928-47d6-9f4f-0e6b6eb6600d",
   "metadata": {},
   "outputs": [
    {
     "name": "stdout",
     "output_type": "stream",
     "text": [
      "Accept the Null Hypothesis.\n"
     ]
    }
   ],
   "source": [
    "if f_value > critical_value :\n",
    "    print(\"Reject the Null Hypothesis.\")\n",
    "else :\n",
    "    print(\"Accept the Null Hypothesis.\")"
   ]
  },
  {
   "cell_type": "code",
   "execution_count": null,
   "id": "b01c58f6-8aa8-456d-8859-8b4a25070bbd",
   "metadata": {},
   "outputs": [],
   "source": []
  }
 ],
 "metadata": {
  "kernelspec": {
   "display_name": "Python 3 (ipykernel)",
   "language": "python",
   "name": "python3"
  },
  "language_info": {
   "codemirror_mode": {
    "name": "ipython",
    "version": 3
   },
   "file_extension": ".py",
   "mimetype": "text/x-python",
   "name": "python",
   "nbconvert_exporter": "python",
   "pygments_lexer": "ipython3",
   "version": "3.10.8"
  }
 },
 "nbformat": 4,
 "nbformat_minor": 5
}
