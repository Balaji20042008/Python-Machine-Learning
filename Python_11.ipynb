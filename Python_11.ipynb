{
 "cells": [
  {
   "cell_type": "code",
   "execution_count": 9,
   "id": "fc8ef631-d0a9-4839-a601-1099f57d66b8",
   "metadata": {},
   "outputs": [],
   "source": [
    "student_01 = {\n",
    "    \n",
    "    \"Name\" : \"Meda Balaji Punith Kumar\",\n",
    "    \"Email Id\" : \"mn21ceb0b41@student.nitw.ac.in\",\n",
    "    \"Phone Number\" : 8688609730,\n",
    "    \"Subjects\" : [\"Maths\", \"Physics\", \"Chemistry\"],\n",
    "    \"CGPA\" : 7.63\n",
    "}"
   ]
  },
  {
   "cell_type": "code",
   "execution_count": 10,
   "id": "023d7371-6a39-409f-af6c-ec9f8f89b3a2",
   "metadata": {},
   "outputs": [],
   "source": [
    "import json"
   ]
  },
  {
   "cell_type": "code",
   "execution_count": 11,
   "id": "9d50c8fa-c919-48c9-873b-50bdcdfd37c9",
   "metadata": {},
   "outputs": [],
   "source": [
    "with open(\"data.json\", \"w\") as file :\n",
    "    json.dump(student_01, file) "
   ]
  },
  {
   "cell_type": "code",
   "execution_count": 12,
   "id": "2a3c1d54-7cad-47b3-b17e-0f81082f44df",
   "metadata": {},
   "outputs": [],
   "source": [
    "student_02 = {\n",
    "    \n",
    "    \"Name\" : \"Rahul Katam\",\n",
    "    \"Email Id\" : \"rk21ceb0b58@student.nitw.ac.in\",\n",
    "    \"Phone Number\" : 7036747555,\n",
    "    \"Subjects\" : [\"Maths\", \"Physics\", \"Chemistry\"],\n",
    "    \"CGPA\" : 8.28\n",
    "}"
   ]
  },
  {
   "cell_type": "code",
   "execution_count": 13,
   "id": "54565d92-219a-4301-9159-5bf022abd306",
   "metadata": {},
   "outputs": [],
   "source": [
    "with open(\"data.json\", \"w\") as file :\n",
    "    json.dump(student_02, file)"
   ]
  },
  {
   "cell_type": "code",
   "execution_count": 14,
   "id": "96306506-0abc-44c5-93f5-3cf2ecb3d240",
   "metadata": {},
   "outputs": [],
   "source": [
    "with open(\"data.json\", \"r\") as file :\n",
    "    info = json.load(file)"
   ]
  },
  {
   "cell_type": "code",
   "execution_count": 15,
   "id": "bf18f947-4bb4-45d8-9cc4-f23826a1b5f9",
   "metadata": {},
   "outputs": [
    {
     "data": {
      "text/plain": [
       "{'Name': 'Rahul Katam',\n",
       " 'Email Id': 'rk21ceb0b58@student.nitw.ac.in',\n",
       " 'Phone Number': 7036747555,\n",
       " 'Subjects': ['Maths', 'Physics', 'Chemistry'],\n",
       " 'CGPA': 8.28}"
      ]
     },
     "execution_count": 15,
     "metadata": {},
     "output_type": "execute_result"
    }
   ],
   "source": [
    "info"
   ]
  },
  {
   "cell_type": "code",
   "execution_count": 18,
   "id": "8f553b58-c164-496c-aad1-fc94cc9066af",
   "metadata": {},
   "outputs": [
    {
     "data": {
      "text/plain": [
       "'Rahul Katam'"
      ]
     },
     "execution_count": 18,
     "metadata": {},
     "output_type": "execute_result"
    }
   ],
   "source": [
    "info[\"Name\"]"
   ]
  },
  {
   "cell_type": "code",
   "execution_count": 20,
   "id": "178f9ac1-b2c7-4fd6-9f5a-1ff2b60fc33a",
   "metadata": {},
   "outputs": [
    {
     "data": {
      "text/plain": [
       "'Physics'"
      ]
     },
     "execution_count": 20,
     "metadata": {},
     "output_type": "execute_result"
    }
   ],
   "source": [
    "info[\"Subjects\"][1]"
   ]
  },
  {
   "cell_type": "code",
   "execution_count": 21,
   "id": "da19e772-9537-421d-ad85-c3047ff2fb8b",
   "metadata": {},
   "outputs": [
    {
     "data": {
      "text/plain": [
       "8.28"
      ]
     },
     "execution_count": 21,
     "metadata": {},
     "output_type": "execute_result"
    }
   ],
   "source": [
    "info[\"CGPA\"]"
   ]
  },
  {
   "cell_type": "code",
   "execution_count": 23,
   "id": "de053a1c-44f7-4845-9f9d-f7802b8ab179",
   "metadata": {},
   "outputs": [],
   "source": [
    "students = [\n",
    "    [\"Name\", \"Email\", \"CGPA\"],\n",
    "    [\"Balaji\", \"mn21ceb0b41@student.nitw.ac.in\", \"7.63\"],\n",
    "    [\"Rahul\", \"rk21ceb0b58@student.nitwa.c.in\", \"8.28\"]\n",
    "]"
   ]
  },
  {
   "cell_type": "code",
   "execution_count": 24,
   "id": "89012150-be7a-4201-b647-785a59bc6a24",
   "metadata": {},
   "outputs": [],
   "source": [
    "import csv"
   ]
  },
  {
   "cell_type": "code",
   "execution_count": 27,
   "id": "2eb46924-a4e1-49bc-935f-ca6fd3eec72f",
   "metadata": {},
   "outputs": [],
   "source": [
    "with open(\"data.csv\", \"w\") as file :\n",
    "    \n",
    "    writer = csv.writer(file)\n",
    "    \n",
    "    for i in students :\n",
    "        writer.writerow(i)"
   ]
  },
  {
   "cell_type": "code",
   "execution_count": 29,
   "id": "627490c9-ff41-47a2-aa32-8779cffe794c",
   "metadata": {},
   "outputs": [
    {
     "name": "stdout",
     "output_type": "stream",
     "text": [
      "['Name', 'Email', 'CGPA']\n",
      "['Balaji', 'mn21ceb0b41@student.nitw.ac.in', '7.63']\n",
      "['Rahul', 'rk21ceb0b58@student.nitwa.c.in', '8.28']\n"
     ]
    }
   ],
   "source": [
    "with open(\"data.csv\", \"r\") as file :\n",
    "    \n",
    "    info = csv.reader(file)\n",
    "    \n",
    "    for i in info :\n",
    "        print(i)"
   ]
  },
  {
   "cell_type": "code",
   "execution_count": 1,
   "id": "3bf3d122-c0f0-45e5-b9bd-73a8aca98c6b",
   "metadata": {},
   "outputs": [],
   "source": [
    "import json"
   ]
  },
  {
   "cell_type": "code",
   "execution_count": 2,
   "id": "e4cd580f-2fa0-4b4f-acd7-1a2e2678bccd",
   "metadata": {},
   "outputs": [],
   "source": [
    "import csv"
   ]
  },
  {
   "cell_type": "code",
   "execution_count": 3,
   "id": "e3f65153-c94c-4946-a9e0-55cb2587c27e",
   "metadata": {},
   "outputs": [],
   "source": [
    "import os"
   ]
  },
  {
   "cell_type": "code",
   "execution_count": 4,
   "id": "a32d0ba1-7a7b-4911-964c-9bc029722f38",
   "metadata": {},
   "outputs": [],
   "source": [
    "os.rename(\"data.json\", \"data_01.json\")"
   ]
  },
  {
   "cell_type": "code",
   "execution_count": 5,
   "id": "acdfb711-dd75-41eb-9f29-fc7122c8d153",
   "metadata": {},
   "outputs": [],
   "source": [
    "os.rename(\"data.csv\", \"data_01.csv\")"
   ]
  },
  {
   "cell_type": "code",
   "execution_count": 8,
   "id": "541ea6c4-4952-476b-8ffd-91af4ea787c3",
   "metadata": {},
   "outputs": [],
   "source": [
    "student_01 = {\n",
    "    \n",
    "    \"Name\" : \"Srinivas Aka\",\n",
    "    \"Roll Number\" : \"21CEB0B50\",\n",
    "    \"Email ID\" : \"sa21ceb0b50@student.nitw.ac.in\",\n",
    "    \"Phone Number\" : 9492053761,\n",
    "    \"CGPA\" : 8.07\n",
    "}"
   ]
  },
  {
   "cell_type": "code",
   "execution_count": 10,
   "id": "ee486b6d-110c-48e9-90cb-46302b152cd2",
   "metadata": {},
   "outputs": [],
   "source": [
    "with open(\"data_02.json\", \"w\") as file :\n",
    "    json.dump(student_01, file)"
   ]
  },
  {
   "cell_type": "code",
   "execution_count": 11,
   "id": "67804e1b-86c2-4c02-9f9f-bdd2e973f371",
   "metadata": {},
   "outputs": [],
   "source": [
    "with open(\"data_02.json\", \"r\") as file :\n",
    "    info = json.load(file)"
   ]
  },
  {
   "cell_type": "code",
   "execution_count": 12,
   "id": "ee6cb806-23a2-4ccc-b6eb-f7546cab3582",
   "metadata": {},
   "outputs": [
    {
     "data": {
      "text/plain": [
       "{'Name': 'Srinivas Aka',\n",
       " 'Roll Number': '21CEB0B50',\n",
       " 'Email ID': 'sa21ceb0b50@student.nitw.ac.in',\n",
       " 'Phone Number': 9492053761,\n",
       " 'CGPA': 8.07}"
      ]
     },
     "execution_count": 12,
     "metadata": {},
     "output_type": "execute_result"
    }
   ],
   "source": [
    "info"
   ]
  },
  {
   "cell_type": "code",
   "execution_count": 13,
   "id": "5a5a8789-6471-44b6-8d79-c3b819f5af8a",
   "metadata": {},
   "outputs": [
    {
     "data": {
      "text/plain": [
       "'Srinivas Aka'"
      ]
     },
     "execution_count": 13,
     "metadata": {},
     "output_type": "execute_result"
    }
   ],
   "source": [
    "info[\"Name\"]"
   ]
  },
  {
   "cell_type": "code",
   "execution_count": 14,
   "id": "63a7dd28-0a0f-407a-b3a8-fc806d42445e",
   "metadata": {},
   "outputs": [
    {
     "data": {
      "text/plain": [
       "'sa21ceb0b50@student.nitw.ac.in'"
      ]
     },
     "execution_count": 14,
     "metadata": {},
     "output_type": "execute_result"
    }
   ],
   "source": [
    "info[\"Email ID\"]"
   ]
  },
  {
   "cell_type": "code",
   "execution_count": 15,
   "id": "f397510c-2ada-4e9b-ba0e-6ae2c3c6c000",
   "metadata": {},
   "outputs": [
    {
     "data": {
      "text/plain": [
       "'21CEB0B50'"
      ]
     },
     "execution_count": 15,
     "metadata": {},
     "output_type": "execute_result"
    }
   ],
   "source": [
    "info[\"Roll Number\"]"
   ]
  },
  {
   "cell_type": "code",
   "execution_count": 16,
   "id": "cd491ebe-9537-422e-aa9c-333fda5a0f3a",
   "metadata": {},
   "outputs": [
    {
     "data": {
      "text/plain": [
       "8.07"
      ]
     },
     "execution_count": 16,
     "metadata": {},
     "output_type": "execute_result"
    }
   ],
   "source": [
    "info[\"CGPA\"]"
   ]
  },
  {
   "cell_type": "code",
   "execution_count": 29,
   "id": "04c0ad16-cd20-44ef-83aa-1c61fa0e882b",
   "metadata": {},
   "outputs": [],
   "source": [
    "students = [\n",
    "    [\"Name\", \"Roll Number\", \"Phone Number\", \"CGPA\"],\n",
    "    [\"Balaji\", \"21CEB0B41\", 8688609730, 7.63],\n",
    "    [\"Rahul\", \"21CEB0B58\", 7036747555, 8.28],\n",
    "    [\"Srinivas\", \"21CEB0B50\", 942053761, 8.07],\n",
    "]"
   ]
  },
  {
   "cell_type": "code",
   "execution_count": 30,
   "id": "889da846-7364-4956-9711-ed1715ad9873",
   "metadata": {},
   "outputs": [],
   "source": [
    "with open(\"data_02.csv\", \"w\") as file :\n",
    "    writer = csv.writer(file)\n",
    "    \n",
    "    for i in students :\n",
    "        writer.writerow(i)"
   ]
  },
  {
   "cell_type": "code",
   "execution_count": 38,
   "id": "dac26441-bed1-4807-b70a-6d48beed017b",
   "metadata": {},
   "outputs": [
    {
     "name": "stdout",
     "output_type": "stream",
     "text": [
      "['Name', 'Roll Number', 'Phone Number', 'CGPA']\n",
      "['Balaji', '21CEB0B41', '8688609730', '7.63']\n",
      "['Rahul', '21CEB0B58', '7036747555', '8.28']\n",
      "['Srinivas', '21CEB0B50', '942053761', '8.07']\n"
     ]
    }
   ],
   "source": [
    "with open(\"data_02.csv\", \"r\") as file :\n",
    "    reader = csv.reader(file)\n",
    "    \n",
    "    for i in reader :\n",
    "        print(i)"
   ]
  },
  {
   "cell_type": "code",
   "execution_count": 43,
   "id": "2fb7af30-6cc5-4803-807a-d080a5a9d30c",
   "metadata": {},
   "outputs": [],
   "source": [
    "with open(\"test_01.bin\", \"wb\") as file :\n",
    "    file.write(b\"\\x01\\x02\\x03\")"
   ]
  },
  {
   "cell_type": "code",
   "execution_count": 44,
   "id": "6f114f92-dba7-4ae3-b7fe-b399ec310db6",
   "metadata": {},
   "outputs": [
    {
     "name": "stdout",
     "output_type": "stream",
     "text": [
      "b'\\x01\\x02\\x03'\n"
     ]
    }
   ],
   "source": [
    "with open(\"test_01.bin\", \"rb\") as file :\n",
    "    print(file.read())"
   ]
  },
  {
   "cell_type": "code",
   "execution_count": 1,
   "id": "4796b306-1328-4edb-ae3b-b32be80cb97a",
   "metadata": {},
   "outputs": [],
   "source": [
    "import io"
   ]
  },
  {
   "cell_type": "code",
   "execution_count": 4,
   "id": "9bd692a5-3f1f-42d0-9270-ef758a288dae",
   "metadata": {},
   "outputs": [],
   "source": [
    "with open(\"text_03.txt\", \"wb\") as file :\n",
    "    \n",
    "    file = io.BufferedWriter(file)\n",
    "    \n",
    "    file.write(b\"Name: Meda N V S S Balaji Punith Kumar\\n\")\n",
    "    file.write(b\"Roll Number: 21CEB0B41\\n\")\n",
    "    file.write(b\"Phone Number: 8688609730\\n\")\n",
    "    file.write(b\"Email ID: mn21ceb0b41@student.nitw.ac.in\\n\")\n",
    "    file.write(b\"CGPA: 7.63\\n\")\n",
    "    \n",
    "    file.flush()"
   ]
  },
  {
   "cell_type": "code",
   "execution_count": 7,
   "id": "dc073487-7cf8-4e43-bde5-e6d4d9725ec8",
   "metadata": {},
   "outputs": [
    {
     "name": "stdout",
     "output_type": "stream",
     "text": [
      "b'Name: Meda N V S S Balaji Punith Kumar\\nRoll Number: 21CEB0B41\\nPhone Number: 8688609730\\nEmail ID: mn21ceb0b41@student.nitw.ac.in\\nCGPA: 7.63\\n'\n"
     ]
    }
   ],
   "source": [
    "with open(\"text_03.txt\", \"rb\") as file :\n",
    "    \n",
    "    file = io.BufferedReader(file)\n",
    "    \n",
    "    print(file.read())"
   ]
  },
  {
   "cell_type": "code",
   "execution_count": null,
   "id": "5ec54a44-fa02-4600-9159-46e897257914",
   "metadata": {},
   "outputs": [],
   "source": []
  }
 ],
 "metadata": {
  "kernelspec": {
   "display_name": "Python 3 (ipykernel)",
   "language": "python",
   "name": "python3"
  },
  "language_info": {
   "codemirror_mode": {
    "name": "ipython",
    "version": 3
   },
   "file_extension": ".py",
   "mimetype": "text/x-python",
   "name": "python",
   "nbconvert_exporter": "python",
   "pygments_lexer": "ipython3",
   "version": "3.10.8"
  }
 },
 "nbformat": 4,
 "nbformat_minor": 5
}
