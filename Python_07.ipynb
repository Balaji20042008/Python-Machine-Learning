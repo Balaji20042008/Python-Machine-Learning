{
 "cells": [
  {
   "cell_type": "code",
   "execution_count": 13,
   "id": "9cc75222-93b8-43ac-ab51-7e72e1aa761c",
   "metadata": {},
   "outputs": [],
   "source": [
    "# Mapping Function"
   ]
  },
  {
   "cell_type": "code",
   "execution_count": 1,
   "id": "431ca9cd-4b4b-4140-b2de-8296dda12001",
   "metadata": {},
   "outputs": [],
   "source": [
    "list_01 = [1, 2, 3, 4, 5, 6]"
   ]
  },
  {
   "cell_type": "code",
   "execution_count": 2,
   "id": "1044a402-d4c1-4359-a138-271c60f46c35",
   "metadata": {},
   "outputs": [],
   "source": [
    "list_02 = []"
   ]
  },
  {
   "cell_type": "code",
   "execution_count": 5,
   "id": "d3b4cd54-168c-40cf-a032-23fcfc08ed6d",
   "metadata": {},
   "outputs": [],
   "source": [
    "def lists(list_01, list_02) :\n",
    "    for i in list_01:\n",
    "        list_02.append(i*i)\n",
    "    else :\n",
    "        print(\"The code is executed successfully.\")"
   ]
  },
  {
   "cell_type": "code",
   "execution_count": 6,
   "id": "e177be44-ff4e-4b83-96c2-29ea53b3fbed",
   "metadata": {},
   "outputs": [
    {
     "name": "stdout",
     "output_type": "stream",
     "text": [
      "The code is executed successfully.\n"
     ]
    }
   ],
   "source": [
    "lists(list_01,list_02)"
   ]
  },
  {
   "cell_type": "code",
   "execution_count": 7,
   "id": "6eab8536-1a1b-4f2d-a83c-348cbef174af",
   "metadata": {},
   "outputs": [
    {
     "data": {
      "text/plain": [
       "[1, 4, 9, 16, 25, 36]"
      ]
     },
     "execution_count": 7,
     "metadata": {},
     "output_type": "execute_result"
    }
   ],
   "source": [
    "size = len(list_01)\n",
    "list_02[0:size:1]"
   ]
  },
  {
   "cell_type": "code",
   "execution_count": 8,
   "id": "9227a8ae-8f28-4d2f-8902-502dc69eb53c",
   "metadata": {},
   "outputs": [],
   "source": [
    "def square(x) :\n",
    "    return x*x;"
   ]
  },
  {
   "cell_type": "code",
   "execution_count": 9,
   "id": "6e1a29d4-9c40-475d-ae8a-50863db4b9f7",
   "metadata": {},
   "outputs": [],
   "source": [
    "list_03 = list(map(square, list_01))"
   ]
  },
  {
   "cell_type": "code",
   "execution_count": 10,
   "id": "07e970e0-d1bd-4c6e-83bd-01f97123bbfb",
   "metadata": {},
   "outputs": [
    {
     "data": {
      "text/plain": [
       "[1, 4, 9, 16, 25, 36]"
      ]
     },
     "execution_count": 10,
     "metadata": {},
     "output_type": "execute_result"
    }
   ],
   "source": [
    "list_03[0:size:1]"
   ]
  },
  {
   "cell_type": "code",
   "execution_count": 11,
   "id": "e802ac60-74be-4280-988e-e9c6d5de9e01",
   "metadata": {},
   "outputs": [],
   "source": [
    "list_04 = list(map(lambda x : x*x, list_01))"
   ]
  },
  {
   "cell_type": "code",
   "execution_count": 12,
   "id": "836a4f69-f602-477f-b0ae-187474e31dcb",
   "metadata": {},
   "outputs": [
    {
     "data": {
      "text/plain": [
       "[1, 4, 9, 16, 25, 36]"
      ]
     },
     "execution_count": 12,
     "metadata": {},
     "output_type": "execute_result"
    }
   ],
   "source": [
    "list_04[0:size:1]"
   ]
  },
  {
   "cell_type": "code",
   "execution_count": 14,
   "id": "c25d46b2-241c-4d84-8cce-76fe2899f27c",
   "metadata": {},
   "outputs": [],
   "source": [
    "list_01 = [12, 25, 45, 60, 90]"
   ]
  },
  {
   "cell_type": "code",
   "execution_count": 15,
   "id": "7dd86e07-e795-43ab-b11a-a895d25037ec",
   "metadata": {},
   "outputs": [],
   "source": [
    "list_02 = [18, 25, 55, 30, 10]"
   ]
  },
  {
   "cell_type": "code",
   "execution_count": 29,
   "id": "ae06dfc2-843b-4cdf-91b4-de13408a0a98",
   "metadata": {},
   "outputs": [],
   "source": [
    "def addition (list_01, list_02) :\n",
    "    \n",
    "    answer = []\n",
    "    \n",
    "    a = len(list_01)\n",
    "    b = len(list_02)\n",
    "    \n",
    "    size = 0;\n",
    "    \n",
    "    if a < b :\n",
    "        size = a\n",
    "    else :\n",
    "        size = b\n",
    "    \n",
    "    for i in range(size) :\n",
    "        result = list_01[i] + list_02[i]\n",
    "        answer.append(result)\n",
    "    \n",
    "    return answer;"
   ]
  },
  {
   "cell_type": "code",
   "execution_count": 30,
   "id": "6f05a16b-af23-4eca-8715-c5944b3a16a8",
   "metadata": {},
   "outputs": [],
   "source": [
    "list_03 = addition(list_01, list_02)"
   ]
  },
  {
   "cell_type": "code",
   "execution_count": 32,
   "id": "b459b674-18b6-4afb-8a14-6fa03b801c7a",
   "metadata": {},
   "outputs": [
    {
     "name": "stdout",
     "output_type": "stream",
     "text": [
      "30\n",
      "50\n",
      "100\n",
      "90\n",
      "100\n",
      "The code is executed successfully.\n"
     ]
    }
   ],
   "source": [
    "for i in list_03:\n",
    "    print(i)\n",
    "else :\n",
    "    print(\"The code is executed successfully.\")"
   ]
  },
  {
   "cell_type": "code",
   "execution_count": 33,
   "id": "5e7d453b-07ff-43c6-a2d8-b174c3a1dab0",
   "metadata": {},
   "outputs": [],
   "source": [
    "list_04 = list(map(lambda x,y : x+y, list_01, list_02))"
   ]
  },
  {
   "cell_type": "code",
   "execution_count": 34,
   "id": "9662d5ce-f27e-484e-8278-a3b583604dd5",
   "metadata": {},
   "outputs": [
    {
     "name": "stdout",
     "output_type": "stream",
     "text": [
      "30\n",
      "50\n",
      "100\n",
      "90\n",
      "100\n",
      "The code is executed successfully.\n"
     ]
    }
   ],
   "source": [
    "for i in list_04:\n",
    "    print(i)\n",
    "else :\n",
    "    print(\"The code is executed successfully.\")"
   ]
  },
  {
   "cell_type": "code",
   "execution_count": 35,
   "id": "c08399b5-fc41-45d2-8c10-b1b5cc525ae6",
   "metadata": {},
   "outputs": [],
   "source": [
    "# Reduce Function"
   ]
  },
  {
   "cell_type": "code",
   "execution_count": 36,
   "id": "6843599f-a25a-410f-85ee-652a54caa531",
   "metadata": {},
   "outputs": [],
   "source": [
    "from functools import reduce"
   ]
  },
  {
   "cell_type": "code",
   "execution_count": 37,
   "id": "9e360c61-6d95-461e-bcf2-03a30c8c70e4",
   "metadata": {},
   "outputs": [],
   "source": [
    "list_01 = [12, 90, 45, 30, 50]"
   ]
  },
  {
   "cell_type": "code",
   "execution_count": 38,
   "id": "f0086564-fb11-4493-bafc-56af8f18d1f1",
   "metadata": {},
   "outputs": [],
   "source": [
    "maximum = reduce(lambda x,y : x if x > y else y, list_01)"
   ]
  },
  {
   "cell_type": "code",
   "execution_count": 39,
   "id": "714f0376-8f1d-451b-81e1-d569ed94f873",
   "metadata": {},
   "outputs": [
    {
     "name": "stdout",
     "output_type": "stream",
     "text": [
      "The maximum element in the list is: 90\n"
     ]
    }
   ],
   "source": [
    "print(\"The maximum element in the list is: \" + str(maximum))"
   ]
  },
  {
   "cell_type": "code",
   "execution_count": 1,
   "id": "1c5a7cd1-0cd2-4e7a-96ce-f8abe8a1295d",
   "metadata": {},
   "outputs": [],
   "source": [
    "# Filter Function"
   ]
  },
  {
   "cell_type": "code",
   "execution_count": 2,
   "id": "759b12d6-5e8e-4bff-82e1-9e653a7d8d09",
   "metadata": {},
   "outputs": [],
   "source": [
    "list_01 = [24, 65, 40, 78, 48]"
   ]
  },
  {
   "cell_type": "code",
   "execution_count": 3,
   "id": "8bd97c2f-232d-4b27-b5a8-affcea44edec",
   "metadata": {},
   "outputs": [],
   "source": [
    "list_02 = list(filter(lambda x : x % 5 == 0, list_01))"
   ]
  },
  {
   "cell_type": "code",
   "execution_count": 4,
   "id": "68ab2ce6-3981-4083-9e07-b9fea9f27b0f",
   "metadata": {},
   "outputs": [
    {
     "name": "stdout",
     "output_type": "stream",
     "text": [
      "65\n",
      "40\n",
      "The code is executed successfully.\n"
     ]
    }
   ],
   "source": [
    "for i in list_02 :\n",
    "    print(i)\n",
    "else :\n",
    "    print(\"The code is executed successfully.\")"
   ]
  },
  {
   "cell_type": "code",
   "execution_count": null,
   "id": "531ac27f-d94a-4b3c-9730-42fd01587533",
   "metadata": {},
   "outputs": [],
   "source": []
  }
 ],
 "metadata": {
  "kernelspec": {
   "display_name": "Python 3 (ipykernel)",
   "language": "python",
   "name": "python3"
  },
  "language_info": {
   "codemirror_mode": {
    "name": "ipython",
    "version": 3
   },
   "file_extension": ".py",
   "mimetype": "text/x-python",
   "name": "python",
   "nbconvert_exporter": "python",
   "pygments_lexer": "ipython3",
   "version": "3.10.8"
  }
 },
 "nbformat": 4,
 "nbformat_minor": 5
}
