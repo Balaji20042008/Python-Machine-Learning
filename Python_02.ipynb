{
 "cells": [
  {
   "cell_type": "code",
   "execution_count": 1,
   "id": "e641514a-338e-44b2-9c6e-bdd551d3a85a",
   "metadata": {},
   "outputs": [
    {
     "name": "stdout",
     "output_type": "stream",
     "text": [
      "The value of 'a' is: 10.3476\n",
      "The value of 'b' is: 10\n"
     ]
    }
   ],
   "source": [
    "a = 10.3476\n",
    "b = int(a)\n",
    "\n",
    "print(\"The value of 'a' is: \" + str(a))\n",
    "print(\"The value of 'b' is: \" + str(b))"
   ]
  },
  {
   "cell_type": "code",
   "execution_count": 3,
   "id": "a0064fb2-5721-42e1-b629-c457f4344ac4",
   "metadata": {},
   "outputs": [
    {
     "name": "stdout",
     "output_type": "stream",
     "text": [
      "The datatype of the variable 'a' is: <class 'float'>\n",
      "The datatype of the variable 'b' is: <class 'int'>\n"
     ]
    }
   ],
   "source": [
    "print(\"The datatype of the variable 'a' is: \" + str(type(a)))\n",
    "print(\"The datatype of the variable 'b' is: \" + str(type(b)))"
   ]
  },
  {
   "cell_type": "code",
   "execution_count": 9,
   "id": "d0a1239f-a44e-45e6-945d-eeb3567165aa",
   "metadata": {},
   "outputs": [],
   "source": [
    "x = 2 + 3j"
   ]
  },
  {
   "cell_type": "code",
   "execution_count": 10,
   "id": "c2d10c08-f125-446e-9613-6370080df80a",
   "metadata": {},
   "outputs": [
    {
     "name": "stdout",
     "output_type": "stream",
     "text": [
      "The datatype of the variable 'x' is: <class 'complex'>\n"
     ]
    }
   ],
   "source": [
    "print(\"The datatype of the variable 'x' is: \" + str(type(x)))"
   ]
  },
  {
   "cell_type": "code",
   "execution_count": 13,
   "id": "8cd72507-d3f3-4f6f-94c7-6ed3b6962bae",
   "metadata": {},
   "outputs": [],
   "source": [
    "m = x.real\n",
    "n = x.imag"
   ]
  },
  {
   "cell_type": "code",
   "execution_count": 14,
   "id": "1e517159-c4e3-436a-aa12-92983935c20e",
   "metadata": {},
   "outputs": [
    {
     "name": "stdout",
     "output_type": "stream",
     "text": [
      "The real part of the complex number 'x' is: 2.0\n",
      "The imag part of the complex number 'x' is: 3.0\n"
     ]
    }
   ],
   "source": [
    "print(\"The real part of the complex number 'x' is: \" + str(m))\n",
    "print(\"The imag part of the complex number 'x' is: \" + str(n))"
   ]
  },
  {
   "cell_type": "code",
   "execution_count": 3,
   "id": "b5fcbab1-a402-4017-876a-d62b8ce25dc7",
   "metadata": {},
   "outputs": [],
   "source": [
    "string = \"narayana\""
   ]
  },
  {
   "cell_type": "code",
   "execution_count": 4,
   "id": "b7dc7d86-9aac-462f-a182-f4a2f4325ea8",
   "metadata": {},
   "outputs": [
    {
     "data": {
      "text/plain": [
       "'rayan'"
      ]
     },
     "execution_count": 4,
     "metadata": {},
     "output_type": "execute_result"
    }
   ],
   "source": [
    "string[2:7]"
   ]
  },
  {
   "cell_type": "code",
   "execution_count": 5,
   "id": "f3549230-8d3b-4eb9-862f-420cd1e0fda4",
   "metadata": {},
   "outputs": [
    {
     "data": {
      "text/plain": [
       "'aaa'"
      ]
     },
     "execution_count": 5,
     "metadata": {},
     "output_type": "execute_result"
    }
   ],
   "source": [
    "string[1:7:2]"
   ]
  },
  {
   "cell_type": "code",
   "execution_count": 6,
   "id": "9338a3d0-c6a7-421f-8601-02eee42e96ea",
   "metadata": {},
   "outputs": [
    {
     "data": {
      "text/plain": [
       "'nara'"
      ]
     },
     "execution_count": 6,
     "metadata": {},
     "output_type": "execute_result"
    }
   ],
   "source": [
    "string[-8:-4:1]"
   ]
  },
  {
   "cell_type": "code",
   "execution_count": 7,
   "id": "6da784ad-3e3a-4ea2-992c-a3a3a21f9767",
   "metadata": {},
   "outputs": [
    {
     "data": {
      "text/plain": [
       "'anayara'"
      ]
     },
     "execution_count": 7,
     "metadata": {},
     "output_type": "execute_result"
    }
   ],
   "source": [
    "string[-1:-8:-1]"
   ]
  },
  {
   "cell_type": "code",
   "execution_count": 8,
   "id": "66af6559-531d-4acb-92bd-5fb49acceb7e",
   "metadata": {},
   "outputs": [
    {
     "data": {
      "text/plain": [
       "'aaaa'"
      ]
     },
     "execution_count": 8,
     "metadata": {},
     "output_type": "execute_result"
    }
   ],
   "source": [
    "string[1::2]"
   ]
  },
  {
   "cell_type": "code",
   "execution_count": 9,
   "id": "d7ce9bfc-0015-4066-a839-715c94f15b96",
   "metadata": {},
   "outputs": [
    {
     "data": {
      "text/plain": [
       "'aaa'"
      ]
     },
     "execution_count": 9,
     "metadata": {},
     "output_type": "execute_result"
    }
   ],
   "source": [
    "string[3::2]"
   ]
  },
  {
   "cell_type": "code",
   "execution_count": 10,
   "id": "49a71208-58b3-48eb-b00b-6767d63d509d",
   "metadata": {},
   "outputs": [
    {
     "data": {
      "text/plain": [
       "'aaaa'"
      ]
     },
     "execution_count": 10,
     "metadata": {},
     "output_type": "execute_result"
    }
   ],
   "source": [
    "string[-7::2]"
   ]
  },
  {
   "cell_type": "code",
   "execution_count": 11,
   "id": "3c742d91-4f16-4b41-ab4a-88d861c0099a",
   "metadata": {},
   "outputs": [
    {
     "data": {
      "text/plain": [
       "'aaaa'"
      ]
     },
     "execution_count": 11,
     "metadata": {},
     "output_type": "execute_result"
    }
   ],
   "source": [
    "string[-1::-2]"
   ]
  },
  {
   "cell_type": "code",
   "execution_count": 12,
   "id": "ff3fd78f-2203-4caf-a1ad-49a446a465e7",
   "metadata": {},
   "outputs": [
    {
     "data": {
      "text/plain": [
       "''"
      ]
     },
     "execution_count": 12,
     "metadata": {},
     "output_type": "execute_result"
    }
   ],
   "source": [
    "string[-1:-4:1]"
   ]
  },
  {
   "cell_type": "code",
   "execution_count": 13,
   "id": "398e7de2-5dab-4993-aa90-535b38dcecee",
   "metadata": {},
   "outputs": [
    {
     "data": {
      "text/plain": [
       "'a'"
      ]
     },
     "execution_count": 13,
     "metadata": {},
     "output_type": "execute_result"
    }
   ],
   "source": [
    "string[-1::1]"
   ]
  },
  {
   "cell_type": "code",
   "execution_count": 14,
   "id": "7bf20c23-9b89-4a08-81de-c8149720bc1d",
   "metadata": {},
   "outputs": [
    {
     "data": {
      "text/plain": [
       "'nryn'"
      ]
     },
     "execution_count": 14,
     "metadata": {},
     "output_type": "execute_result"
    }
   ],
   "source": [
    "string[:8:2]"
   ]
  },
  {
   "cell_type": "code",
   "execution_count": 15,
   "id": "6d5361d9-4ca5-4272-a6ac-c0deb1ac1cb5",
   "metadata": {},
   "outputs": [
    {
     "data": {
      "text/plain": [
       "'narayana'"
      ]
     },
     "execution_count": 15,
     "metadata": {},
     "output_type": "execute_result"
    }
   ],
   "source": [
    "string[0:8:1]"
   ]
  },
  {
   "cell_type": "code",
   "execution_count": 16,
   "id": "cc99169d-cde6-479b-a330-796beef6b2ac",
   "metadata": {},
   "outputs": [
    {
     "data": {
      "text/plain": [
       "'nan'"
      ]
     },
     "execution_count": 16,
     "metadata": {},
     "output_type": "execute_result"
    }
   ],
   "source": [
    "string[0:7:3]"
   ]
  },
  {
   "cell_type": "code",
   "execution_count": null,
   "id": "0d4c5dd4-2bee-40dd-9adb-7bad49d1e5fa",
   "metadata": {},
   "outputs": [],
   "source": []
  }
 ],
 "metadata": {
  "kernelspec": {
   "display_name": "Python 3 (ipykernel)",
   "language": "python",
   "name": "python3"
  },
  "language_info": {
   "codemirror_mode": {
    "name": "ipython",
    "version": 3
   },
   "file_extension": ".py",
   "mimetype": "text/x-python",
   "name": "python",
   "nbconvert_exporter": "python",
   "pygments_lexer": "ipython3",
   "version": "3.10.8"
  }
 },
 "nbformat": 4,
 "nbformat_minor": 5
}
