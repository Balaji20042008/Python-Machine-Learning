{
 "cells": [
  {
   "cell_type": "code",
   "execution_count": 1,
   "id": "4f0120af-e1ef-463b-9c6e-ac2e2a254be6",
   "metadata": {},
   "outputs": [],
   "source": [
    "import pandas"
   ]
  },
  {
   "cell_type": "code",
   "execution_count": 2,
   "id": "afa5c7e5-600f-4ebc-8c73-010bd0d37e5f",
   "metadata": {},
   "outputs": [],
   "source": [
    "dictionary_01 = {\n",
    "    \n",
    "    \"key_01\" : [12, 18, 30, 45, 60],\n",
    "    \"key_02\" : [10, 20, 30, 40, 50],\n",
    "    \"key_03\" : [24, 48, 90, 75, 85],\n",
    "    \"key_04\" : [25, 90, 65, 55, 15]\n",
    "}"
   ]
  },
  {
   "cell_type": "code",
   "execution_count": 3,
   "id": "a33ffe81-2ad9-4376-a8aa-e16615e31f78",
   "metadata": {},
   "outputs": [],
   "source": [
    "df_01 = pandas.DataFrame(dictionary_01)"
   ]
  },
  {
   "cell_type": "code",
   "execution_count": 4,
   "id": "08d67b7d-0db1-4fb9-93be-b4dfb8a9ab37",
   "metadata": {},
   "outputs": [
    {
     "data": {
      "text/html": [
       "<div>\n",
       "<style scoped>\n",
       "    .dataframe tbody tr th:only-of-type {\n",
       "        vertical-align: middle;\n",
       "    }\n",
       "\n",
       "    .dataframe tbody tr th {\n",
       "        vertical-align: top;\n",
       "    }\n",
       "\n",
       "    .dataframe thead th {\n",
       "        text-align: right;\n",
       "    }\n",
       "</style>\n",
       "<table border=\"1\" class=\"dataframe\">\n",
       "  <thead>\n",
       "    <tr style=\"text-align: right;\">\n",
       "      <th></th>\n",
       "      <th>key_01</th>\n",
       "      <th>key_02</th>\n",
       "      <th>key_03</th>\n",
       "      <th>key_04</th>\n",
       "    </tr>\n",
       "  </thead>\n",
       "  <tbody>\n",
       "    <tr>\n",
       "      <th>0</th>\n",
       "      <td>12</td>\n",
       "      <td>10</td>\n",
       "      <td>24</td>\n",
       "      <td>25</td>\n",
       "    </tr>\n",
       "    <tr>\n",
       "      <th>1</th>\n",
       "      <td>18</td>\n",
       "      <td>20</td>\n",
       "      <td>48</td>\n",
       "      <td>90</td>\n",
       "    </tr>\n",
       "    <tr>\n",
       "      <th>2</th>\n",
       "      <td>30</td>\n",
       "      <td>30</td>\n",
       "      <td>90</td>\n",
       "      <td>65</td>\n",
       "    </tr>\n",
       "    <tr>\n",
       "      <th>3</th>\n",
       "      <td>45</td>\n",
       "      <td>40</td>\n",
       "      <td>75</td>\n",
       "      <td>55</td>\n",
       "    </tr>\n",
       "    <tr>\n",
       "      <th>4</th>\n",
       "      <td>60</td>\n",
       "      <td>50</td>\n",
       "      <td>85</td>\n",
       "      <td>15</td>\n",
       "    </tr>\n",
       "  </tbody>\n",
       "</table>\n",
       "</div>"
      ],
      "text/plain": [
       "   key_01  key_02  key_03  key_04\n",
       "0      12      10      24      25\n",
       "1      18      20      48      90\n",
       "2      30      30      90      65\n",
       "3      45      40      75      55\n",
       "4      60      50      85      15"
      ]
     },
     "execution_count": 4,
     "metadata": {},
     "output_type": "execute_result"
    }
   ],
   "source": [
    "df_01.head()"
   ]
  },
  {
   "cell_type": "code",
   "execution_count": 5,
   "id": "4dc92b80-55e3-42fe-8b6d-74e940a40819",
   "metadata": {},
   "outputs": [],
   "source": [
    "list_01 = [\"Balaji\", \"Rahul\", \"Srinivas\", \"Vinay\", \"Hitesh\"]"
   ]
  },
  {
   "cell_type": "code",
   "execution_count": 6,
   "id": "3c60fecc-5690-4efe-b477-4844bde245a8",
   "metadata": {},
   "outputs": [],
   "source": [
    "df_01[\"Name\"] = \"Null\""
   ]
  },
  {
   "cell_type": "code",
   "execution_count": 7,
   "id": "1d78ff03-63a6-4d2d-8f68-3c2034737ac7",
   "metadata": {},
   "outputs": [
    {
     "data": {
      "text/html": [
       "<div>\n",
       "<style scoped>\n",
       "    .dataframe tbody tr th:only-of-type {\n",
       "        vertical-align: middle;\n",
       "    }\n",
       "\n",
       "    .dataframe tbody tr th {\n",
       "        vertical-align: top;\n",
       "    }\n",
       "\n",
       "    .dataframe thead th {\n",
       "        text-align: right;\n",
       "    }\n",
       "</style>\n",
       "<table border=\"1\" class=\"dataframe\">\n",
       "  <thead>\n",
       "    <tr style=\"text-align: right;\">\n",
       "      <th></th>\n",
       "      <th>key_01</th>\n",
       "      <th>key_02</th>\n",
       "      <th>key_03</th>\n",
       "      <th>key_04</th>\n",
       "      <th>Name</th>\n",
       "    </tr>\n",
       "  </thead>\n",
       "  <tbody>\n",
       "    <tr>\n",
       "      <th>0</th>\n",
       "      <td>12</td>\n",
       "      <td>10</td>\n",
       "      <td>24</td>\n",
       "      <td>25</td>\n",
       "      <td>Null</td>\n",
       "    </tr>\n",
       "    <tr>\n",
       "      <th>1</th>\n",
       "      <td>18</td>\n",
       "      <td>20</td>\n",
       "      <td>48</td>\n",
       "      <td>90</td>\n",
       "      <td>Null</td>\n",
       "    </tr>\n",
       "    <tr>\n",
       "      <th>2</th>\n",
       "      <td>30</td>\n",
       "      <td>30</td>\n",
       "      <td>90</td>\n",
       "      <td>65</td>\n",
       "      <td>Null</td>\n",
       "    </tr>\n",
       "    <tr>\n",
       "      <th>3</th>\n",
       "      <td>45</td>\n",
       "      <td>40</td>\n",
       "      <td>75</td>\n",
       "      <td>55</td>\n",
       "      <td>Null</td>\n",
       "    </tr>\n",
       "    <tr>\n",
       "      <th>4</th>\n",
       "      <td>60</td>\n",
       "      <td>50</td>\n",
       "      <td>85</td>\n",
       "      <td>15</td>\n",
       "      <td>Null</td>\n",
       "    </tr>\n",
       "  </tbody>\n",
       "</table>\n",
       "</div>"
      ],
      "text/plain": [
       "   key_01  key_02  key_03  key_04  Name\n",
       "0      12      10      24      25  Null\n",
       "1      18      20      48      90  Null\n",
       "2      30      30      90      65  Null\n",
       "3      45      40      75      55  Null\n",
       "4      60      50      85      15  Null"
      ]
     },
     "execution_count": 7,
     "metadata": {},
     "output_type": "execute_result"
    }
   ],
   "source": [
    "df_01.head()"
   ]
  },
  {
   "cell_type": "code",
   "execution_count": 8,
   "id": "fab09dea-bca0-4be1-b0ae-d41baf83e628",
   "metadata": {},
   "outputs": [
    {
     "name": "stderr",
     "output_type": "stream",
     "text": [
      "/tmp/ipykernel_77/2419770389.py:2: SettingWithCopyWarning: \n",
      "A value is trying to be set on a copy of a slice from a DataFrame\n",
      "\n",
      "See the caveats in the documentation: https://pandas.pydata.org/pandas-docs/stable/user_guide/indexing.html#returning-a-view-versus-a-copy\n",
      "  df_01[\"Name\"][i] = list_01[i]\n"
     ]
    }
   ],
   "source": [
    "for i in range(len(list_01)) :\n",
    "    df_01[\"Name\"][i] = list_01[i]"
   ]
  },
  {
   "cell_type": "code",
   "execution_count": 9,
   "id": "bbc583f8-d8b1-4c1b-9d59-873fc05f3ef6",
   "metadata": {},
   "outputs": [
    {
     "data": {
      "text/html": [
       "<div>\n",
       "<style scoped>\n",
       "    .dataframe tbody tr th:only-of-type {\n",
       "        vertical-align: middle;\n",
       "    }\n",
       "\n",
       "    .dataframe tbody tr th {\n",
       "        vertical-align: top;\n",
       "    }\n",
       "\n",
       "    .dataframe thead th {\n",
       "        text-align: right;\n",
       "    }\n",
       "</style>\n",
       "<table border=\"1\" class=\"dataframe\">\n",
       "  <thead>\n",
       "    <tr style=\"text-align: right;\">\n",
       "      <th></th>\n",
       "      <th>key_01</th>\n",
       "      <th>key_02</th>\n",
       "      <th>key_03</th>\n",
       "      <th>key_04</th>\n",
       "      <th>Name</th>\n",
       "    </tr>\n",
       "  </thead>\n",
       "  <tbody>\n",
       "    <tr>\n",
       "      <th>0</th>\n",
       "      <td>12</td>\n",
       "      <td>10</td>\n",
       "      <td>24</td>\n",
       "      <td>25</td>\n",
       "      <td>Balaji</td>\n",
       "    </tr>\n",
       "    <tr>\n",
       "      <th>1</th>\n",
       "      <td>18</td>\n",
       "      <td>20</td>\n",
       "      <td>48</td>\n",
       "      <td>90</td>\n",
       "      <td>Rahul</td>\n",
       "    </tr>\n",
       "    <tr>\n",
       "      <th>2</th>\n",
       "      <td>30</td>\n",
       "      <td>30</td>\n",
       "      <td>90</td>\n",
       "      <td>65</td>\n",
       "      <td>Srinivas</td>\n",
       "    </tr>\n",
       "    <tr>\n",
       "      <th>3</th>\n",
       "      <td>45</td>\n",
       "      <td>40</td>\n",
       "      <td>75</td>\n",
       "      <td>55</td>\n",
       "      <td>Vinay</td>\n",
       "    </tr>\n",
       "    <tr>\n",
       "      <th>4</th>\n",
       "      <td>60</td>\n",
       "      <td>50</td>\n",
       "      <td>85</td>\n",
       "      <td>15</td>\n",
       "      <td>Hitesh</td>\n",
       "    </tr>\n",
       "  </tbody>\n",
       "</table>\n",
       "</div>"
      ],
      "text/plain": [
       "   key_01  key_02  key_03  key_04      Name\n",
       "0      12      10      24      25    Balaji\n",
       "1      18      20      48      90     Rahul\n",
       "2      30      30      90      65  Srinivas\n",
       "3      45      40      75      55     Vinay\n",
       "4      60      50      85      15    Hitesh"
      ]
     },
     "execution_count": 9,
     "metadata": {},
     "output_type": "execute_result"
    }
   ],
   "source": [
    "df_01.head()"
   ]
  },
  {
   "cell_type": "code",
   "execution_count": 10,
   "id": "89e2e867-f423-4563-abbe-b2a893915552",
   "metadata": {},
   "outputs": [],
   "source": [
    "df_01.set_index(\"Name\", inplace = True)"
   ]
  },
  {
   "cell_type": "code",
   "execution_count": 11,
   "id": "900e0ad4-c350-4a32-93a4-a58ccadad596",
   "metadata": {},
   "outputs": [
    {
     "data": {
      "text/html": [
       "<div>\n",
       "<style scoped>\n",
       "    .dataframe tbody tr th:only-of-type {\n",
       "        vertical-align: middle;\n",
       "    }\n",
       "\n",
       "    .dataframe tbody tr th {\n",
       "        vertical-align: top;\n",
       "    }\n",
       "\n",
       "    .dataframe thead th {\n",
       "        text-align: right;\n",
       "    }\n",
       "</style>\n",
       "<table border=\"1\" class=\"dataframe\">\n",
       "  <thead>\n",
       "    <tr style=\"text-align: right;\">\n",
       "      <th></th>\n",
       "      <th>key_01</th>\n",
       "      <th>key_02</th>\n",
       "      <th>key_03</th>\n",
       "      <th>key_04</th>\n",
       "    </tr>\n",
       "    <tr>\n",
       "      <th>Name</th>\n",
       "      <th></th>\n",
       "      <th></th>\n",
       "      <th></th>\n",
       "      <th></th>\n",
       "    </tr>\n",
       "  </thead>\n",
       "  <tbody>\n",
       "    <tr>\n",
       "      <th>Balaji</th>\n",
       "      <td>12</td>\n",
       "      <td>10</td>\n",
       "      <td>24</td>\n",
       "      <td>25</td>\n",
       "    </tr>\n",
       "    <tr>\n",
       "      <th>Rahul</th>\n",
       "      <td>18</td>\n",
       "      <td>20</td>\n",
       "      <td>48</td>\n",
       "      <td>90</td>\n",
       "    </tr>\n",
       "    <tr>\n",
       "      <th>Srinivas</th>\n",
       "      <td>30</td>\n",
       "      <td>30</td>\n",
       "      <td>90</td>\n",
       "      <td>65</td>\n",
       "    </tr>\n",
       "    <tr>\n",
       "      <th>Vinay</th>\n",
       "      <td>45</td>\n",
       "      <td>40</td>\n",
       "      <td>75</td>\n",
       "      <td>55</td>\n",
       "    </tr>\n",
       "    <tr>\n",
       "      <th>Hitesh</th>\n",
       "      <td>60</td>\n",
       "      <td>50</td>\n",
       "      <td>85</td>\n",
       "      <td>15</td>\n",
       "    </tr>\n",
       "  </tbody>\n",
       "</table>\n",
       "</div>"
      ],
      "text/plain": [
       "          key_01  key_02  key_03  key_04\n",
       "Name                                    \n",
       "Balaji        12      10      24      25\n",
       "Rahul         18      20      48      90\n",
       "Srinivas      30      30      90      65\n",
       "Vinay         45      40      75      55\n",
       "Hitesh        60      50      85      15"
      ]
     },
     "execution_count": 11,
     "metadata": {},
     "output_type": "execute_result"
    }
   ],
   "source": [
    "df_01.head()"
   ]
  },
  {
   "cell_type": "code",
   "execution_count": 12,
   "id": "73753945-b886-4372-8383-eeaf535cb20f",
   "metadata": {},
   "outputs": [],
   "source": [
    "df_01.reset_index(inplace = True)"
   ]
  },
  {
   "cell_type": "code",
   "execution_count": 13,
   "id": "d17dd548-6cbd-495c-bf0e-d78ae81d40a4",
   "metadata": {},
   "outputs": [
    {
     "data": {
      "text/html": [
       "<div>\n",
       "<style scoped>\n",
       "    .dataframe tbody tr th:only-of-type {\n",
       "        vertical-align: middle;\n",
       "    }\n",
       "\n",
       "    .dataframe tbody tr th {\n",
       "        vertical-align: top;\n",
       "    }\n",
       "\n",
       "    .dataframe thead th {\n",
       "        text-align: right;\n",
       "    }\n",
       "</style>\n",
       "<table border=\"1\" class=\"dataframe\">\n",
       "  <thead>\n",
       "    <tr style=\"text-align: right;\">\n",
       "      <th></th>\n",
       "      <th>Name</th>\n",
       "      <th>key_01</th>\n",
       "      <th>key_02</th>\n",
       "      <th>key_03</th>\n",
       "      <th>key_04</th>\n",
       "    </tr>\n",
       "  </thead>\n",
       "  <tbody>\n",
       "    <tr>\n",
       "      <th>0</th>\n",
       "      <td>Balaji</td>\n",
       "      <td>12</td>\n",
       "      <td>10</td>\n",
       "      <td>24</td>\n",
       "      <td>25</td>\n",
       "    </tr>\n",
       "    <tr>\n",
       "      <th>1</th>\n",
       "      <td>Rahul</td>\n",
       "      <td>18</td>\n",
       "      <td>20</td>\n",
       "      <td>48</td>\n",
       "      <td>90</td>\n",
       "    </tr>\n",
       "    <tr>\n",
       "      <th>2</th>\n",
       "      <td>Srinivas</td>\n",
       "      <td>30</td>\n",
       "      <td>30</td>\n",
       "      <td>90</td>\n",
       "      <td>65</td>\n",
       "    </tr>\n",
       "    <tr>\n",
       "      <th>3</th>\n",
       "      <td>Vinay</td>\n",
       "      <td>45</td>\n",
       "      <td>40</td>\n",
       "      <td>75</td>\n",
       "      <td>55</td>\n",
       "    </tr>\n",
       "    <tr>\n",
       "      <th>4</th>\n",
       "      <td>Hitesh</td>\n",
       "      <td>60</td>\n",
       "      <td>50</td>\n",
       "      <td>85</td>\n",
       "      <td>15</td>\n",
       "    </tr>\n",
       "  </tbody>\n",
       "</table>\n",
       "</div>"
      ],
      "text/plain": [
       "       Name  key_01  key_02  key_03  key_04\n",
       "0    Balaji      12      10      24      25\n",
       "1     Rahul      18      20      48      90\n",
       "2  Srinivas      30      30      90      65\n",
       "3     Vinay      45      40      75      55\n",
       "4    Hitesh      60      50      85      15"
      ]
     },
     "execution_count": 13,
     "metadata": {},
     "output_type": "execute_result"
    }
   ],
   "source": [
    "df_01.head()"
   ]
  },
  {
   "cell_type": "code",
   "execution_count": 14,
   "id": "06b10faf-1f10-4196-82f6-f7f4199f95b0",
   "metadata": {},
   "outputs": [],
   "source": [
    "df_02 = pandas.DataFrame(dictionary_01, index = ['a', 'b', 'c', 'd', 'e'])"
   ]
  },
  {
   "cell_type": "code",
   "execution_count": 15,
   "id": "c1225c0c-40e5-438c-94f8-7bfdd7df850c",
   "metadata": {},
   "outputs": [
    {
     "data": {
      "text/html": [
       "<div>\n",
       "<style scoped>\n",
       "    .dataframe tbody tr th:only-of-type {\n",
       "        vertical-align: middle;\n",
       "    }\n",
       "\n",
       "    .dataframe tbody tr th {\n",
       "        vertical-align: top;\n",
       "    }\n",
       "\n",
       "    .dataframe thead th {\n",
       "        text-align: right;\n",
       "    }\n",
       "</style>\n",
       "<table border=\"1\" class=\"dataframe\">\n",
       "  <thead>\n",
       "    <tr style=\"text-align: right;\">\n",
       "      <th></th>\n",
       "      <th>key_01</th>\n",
       "      <th>key_02</th>\n",
       "      <th>key_03</th>\n",
       "      <th>key_04</th>\n",
       "    </tr>\n",
       "  </thead>\n",
       "  <tbody>\n",
       "    <tr>\n",
       "      <th>a</th>\n",
       "      <td>12</td>\n",
       "      <td>10</td>\n",
       "      <td>24</td>\n",
       "      <td>25</td>\n",
       "    </tr>\n",
       "    <tr>\n",
       "      <th>b</th>\n",
       "      <td>18</td>\n",
       "      <td>20</td>\n",
       "      <td>48</td>\n",
       "      <td>90</td>\n",
       "    </tr>\n",
       "    <tr>\n",
       "      <th>c</th>\n",
       "      <td>30</td>\n",
       "      <td>30</td>\n",
       "      <td>90</td>\n",
       "      <td>65</td>\n",
       "    </tr>\n",
       "    <tr>\n",
       "      <th>d</th>\n",
       "      <td>45</td>\n",
       "      <td>40</td>\n",
       "      <td>75</td>\n",
       "      <td>55</td>\n",
       "    </tr>\n",
       "    <tr>\n",
       "      <th>e</th>\n",
       "      <td>60</td>\n",
       "      <td>50</td>\n",
       "      <td>85</td>\n",
       "      <td>15</td>\n",
       "    </tr>\n",
       "  </tbody>\n",
       "</table>\n",
       "</div>"
      ],
      "text/plain": [
       "   key_01  key_02  key_03  key_04\n",
       "a      12      10      24      25\n",
       "b      18      20      48      90\n",
       "c      30      30      90      65\n",
       "d      45      40      75      55\n",
       "e      60      50      85      15"
      ]
     },
     "execution_count": 15,
     "metadata": {},
     "output_type": "execute_result"
    }
   ],
   "source": [
    "df_02.head()"
   ]
  },
  {
   "cell_type": "code",
   "execution_count": 16,
   "id": "470916dc-4eea-4393-946a-de2f5bfbc395",
   "metadata": {},
   "outputs": [
    {
     "data": {
      "text/html": [
       "<div>\n",
       "<style scoped>\n",
       "    .dataframe tbody tr th:only-of-type {\n",
       "        vertical-align: middle;\n",
       "    }\n",
       "\n",
       "    .dataframe tbody tr th {\n",
       "        vertical-align: top;\n",
       "    }\n",
       "\n",
       "    .dataframe thead th {\n",
       "        text-align: right;\n",
       "    }\n",
       "</style>\n",
       "<table border=\"1\" class=\"dataframe\">\n",
       "  <thead>\n",
       "    <tr style=\"text-align: right;\">\n",
       "      <th></th>\n",
       "      <th>key_01</th>\n",
       "      <th>key_02</th>\n",
       "      <th>key_03</th>\n",
       "      <th>key_04</th>\n",
       "    </tr>\n",
       "  </thead>\n",
       "  <tbody>\n",
       "    <tr>\n",
       "      <th>b</th>\n",
       "      <td>18</td>\n",
       "      <td>20</td>\n",
       "      <td>48</td>\n",
       "      <td>90</td>\n",
       "    </tr>\n",
       "    <tr>\n",
       "      <th>c</th>\n",
       "      <td>30</td>\n",
       "      <td>30</td>\n",
       "      <td>90</td>\n",
       "      <td>65</td>\n",
       "    </tr>\n",
       "    <tr>\n",
       "      <th>d</th>\n",
       "      <td>45</td>\n",
       "      <td>40</td>\n",
       "      <td>75</td>\n",
       "      <td>55</td>\n",
       "    </tr>\n",
       "    <tr>\n",
       "      <th>a</th>\n",
       "      <td>12</td>\n",
       "      <td>10</td>\n",
       "      <td>24</td>\n",
       "      <td>25</td>\n",
       "    </tr>\n",
       "    <tr>\n",
       "      <th>e</th>\n",
       "      <td>60</td>\n",
       "      <td>50</td>\n",
       "      <td>85</td>\n",
       "      <td>15</td>\n",
       "    </tr>\n",
       "  </tbody>\n",
       "</table>\n",
       "</div>"
      ],
      "text/plain": [
       "   key_01  key_02  key_03  key_04\n",
       "b      18      20      48      90\n",
       "c      30      30      90      65\n",
       "d      45      40      75      55\n",
       "a      12      10      24      25\n",
       "e      60      50      85      15"
      ]
     },
     "execution_count": 16,
     "metadata": {},
     "output_type": "execute_result"
    }
   ],
   "source": [
    "df_02.reindex(['b', 'c', 'd', 'a', 'e'])"
   ]
  },
  {
   "cell_type": "code",
   "execution_count": 17,
   "id": "d2c410e4-35c5-4ebc-9a61-15883f3a3127",
   "metadata": {},
   "outputs": [
    {
     "name": "stdout",
     "output_type": "stream",
     "text": [
      "a\n",
      "key_01    12\n",
      "key_02    10\n",
      "key_03    24\n",
      "key_04    25\n",
      "Name: a, dtype: int64\n",
      "b\n",
      "key_01    18\n",
      "key_02    20\n",
      "key_03    48\n",
      "key_04    90\n",
      "Name: b, dtype: int64\n",
      "c\n",
      "key_01    30\n",
      "key_02    30\n",
      "key_03    90\n",
      "key_04    65\n",
      "Name: c, dtype: int64\n",
      "d\n",
      "key_01    45\n",
      "key_02    40\n",
      "key_03    75\n",
      "key_04    55\n",
      "Name: d, dtype: int64\n",
      "e\n",
      "key_01    60\n",
      "key_02    50\n",
      "key_03    85\n",
      "key_04    15\n",
      "Name: e, dtype: int64\n"
     ]
    }
   ],
   "source": [
    "for i, j in df_02.iterrows() :\n",
    "    print(i)\n",
    "    print(j)"
   ]
  },
  {
   "cell_type": "code",
   "execution_count": 18,
   "id": "8de6fe85-0809-454f-8bac-f5d3eaefa72f",
   "metadata": {},
   "outputs": [
    {
     "name": "stdout",
     "output_type": "stream",
     "text": [
      "key_01\n",
      "a    12\n",
      "b    18\n",
      "c    30\n",
      "d    45\n",
      "e    60\n",
      "Name: key_01, dtype: int64\n",
      "key_02\n",
      "a    10\n",
      "b    20\n",
      "c    30\n",
      "d    40\n",
      "e    50\n",
      "Name: key_02, dtype: int64\n",
      "key_03\n",
      "a    24\n",
      "b    48\n",
      "c    90\n",
      "d    75\n",
      "e    85\n",
      "Name: key_03, dtype: int64\n",
      "key_04\n",
      "a    25\n",
      "b    90\n",
      "c    65\n",
      "d    55\n",
      "e    15\n",
      "Name: key_04, dtype: int64\n"
     ]
    },
    {
     "name": "stderr",
     "output_type": "stream",
     "text": [
      "/tmp/ipykernel_77/2186420463.py:1: FutureWarning: iteritems is deprecated and will be removed in a future version. Use .items instead.\n",
      "  for i, j in df_02.iteritems() :\n"
     ]
    }
   ],
   "source": [
    "for i, j in df_02.iteritems() :\n",
    "    print(i)\n",
    "    print(j)"
   ]
  },
  {
   "cell_type": "code",
   "execution_count": 19,
   "id": "dd363180-9cae-4dd5-a175-baf73d805c5f",
   "metadata": {},
   "outputs": [
    {
     "data": {
      "text/plain": [
       "key_01    165\n",
       "key_02    150\n",
       "key_03    322\n",
       "key_04    250\n",
       "dtype: int64"
      ]
     },
     "execution_count": 19,
     "metadata": {},
     "output_type": "execute_result"
    }
   ],
   "source": [
    "def addition(x) :\n",
    "    return x.sum()\n",
    "\n",
    "df_02.apply(addition, axis = 0)"
   ]
  },
  {
   "cell_type": "code",
   "execution_count": 20,
   "id": "09e38472-7bc7-430c-996e-57cdad4861e2",
   "metadata": {},
   "outputs": [
    {
     "data": {
      "text/plain": [
       "a     71\n",
       "b    176\n",
       "c    215\n",
       "d    215\n",
       "e    210\n",
       "dtype: int64"
      ]
     },
     "execution_count": 20,
     "metadata": {},
     "output_type": "execute_result"
    }
   ],
   "source": [
    "def addition(x) :\n",
    "    return x.sum()\n",
    "\n",
    "df_02.apply(addition, axis = 1)"
   ]
  },
  {
   "cell_type": "code",
   "execution_count": 21,
   "id": "5dfaf6ce-5fc7-493d-b744-3d4784e38a58",
   "metadata": {},
   "outputs": [
    {
     "data": {
      "text/plain": [
       "['Balaji', 'Rahul', 'Srinivas', 'Vinay', 'Hitesh']"
      ]
     },
     "execution_count": 21,
     "metadata": {},
     "output_type": "execute_result"
    }
   ],
   "source": [
    "list(df_01[\"Name\"])"
   ]
  },
  {
   "cell_type": "code",
   "execution_count": 22,
   "id": "93410042-7fa2-4861-b776-a8a02beb7657",
   "metadata": {},
   "outputs": [
    {
     "data": {
      "text/plain": [
       "['Balaji', 'Rahul', 'Srinivas', 'Vinay', 'Hitesh']"
      ]
     },
     "execution_count": 22,
     "metadata": {},
     "output_type": "execute_result"
    }
   ],
   "source": [
    "[i for i in df_01[\"Name\"]]"
   ]
  },
  {
   "cell_type": "code",
   "execution_count": 26,
   "id": "49117fb1-dbe1-4af1-b4d4-5a672a81c0e0",
   "metadata": {},
   "outputs": [
    {
     "data": {
      "text/html": [
       "<div>\n",
       "<style scoped>\n",
       "    .dataframe tbody tr th:only-of-type {\n",
       "        vertical-align: middle;\n",
       "    }\n",
       "\n",
       "    .dataframe tbody tr th {\n",
       "        vertical-align: top;\n",
       "    }\n",
       "\n",
       "    .dataframe thead th {\n",
       "        text-align: right;\n",
       "    }\n",
       "</style>\n",
       "<table border=\"1\" class=\"dataframe\">\n",
       "  <thead>\n",
       "    <tr style=\"text-align: right;\">\n",
       "      <th></th>\n",
       "      <th>key_01</th>\n",
       "      <th>key_02</th>\n",
       "      <th>key_03</th>\n",
       "      <th>key_04</th>\n",
       "    </tr>\n",
       "  </thead>\n",
       "  <tbody>\n",
       "    <tr>\n",
       "      <th>e</th>\n",
       "      <td>60</td>\n",
       "      <td>50</td>\n",
       "      <td>85</td>\n",
       "      <td>15</td>\n",
       "    </tr>\n",
       "    <tr>\n",
       "      <th>a</th>\n",
       "      <td>12</td>\n",
       "      <td>10</td>\n",
       "      <td>24</td>\n",
       "      <td>25</td>\n",
       "    </tr>\n",
       "    <tr>\n",
       "      <th>d</th>\n",
       "      <td>45</td>\n",
       "      <td>40</td>\n",
       "      <td>75</td>\n",
       "      <td>55</td>\n",
       "    </tr>\n",
       "    <tr>\n",
       "      <th>c</th>\n",
       "      <td>30</td>\n",
       "      <td>30</td>\n",
       "      <td>90</td>\n",
       "      <td>65</td>\n",
       "    </tr>\n",
       "    <tr>\n",
       "      <th>b</th>\n",
       "      <td>18</td>\n",
       "      <td>20</td>\n",
       "      <td>48</td>\n",
       "      <td>90</td>\n",
       "    </tr>\n",
       "  </tbody>\n",
       "</table>\n",
       "</div>"
      ],
      "text/plain": [
       "   key_01  key_02  key_03  key_04\n",
       "e      60      50      85      15\n",
       "a      12      10      24      25\n",
       "d      45      40      75      55\n",
       "c      30      30      90      65\n",
       "b      18      20      48      90"
      ]
     },
     "execution_count": 26,
     "metadata": {},
     "output_type": "execute_result"
    }
   ],
   "source": [
    "df_02.sort_values(\"key_04\")"
   ]
  },
  {
   "cell_type": "code",
   "execution_count": 27,
   "id": "6574ecc9-f951-4c9d-ad21-ad85605825e4",
   "metadata": {},
   "outputs": [
    {
     "data": {
      "text/html": [
       "<div>\n",
       "<style scoped>\n",
       "    .dataframe tbody tr th:only-of-type {\n",
       "        vertical-align: middle;\n",
       "    }\n",
       "\n",
       "    .dataframe tbody tr th {\n",
       "        vertical-align: top;\n",
       "    }\n",
       "\n",
       "    .dataframe thead th {\n",
       "        text-align: right;\n",
       "    }\n",
       "</style>\n",
       "<table border=\"1\" class=\"dataframe\">\n",
       "  <thead>\n",
       "    <tr style=\"text-align: right;\">\n",
       "      <th></th>\n",
       "      <th>key_01</th>\n",
       "      <th>key_02</th>\n",
       "      <th>key_03</th>\n",
       "      <th>key_04</th>\n",
       "    </tr>\n",
       "  </thead>\n",
       "  <tbody>\n",
       "    <tr>\n",
       "      <th>a</th>\n",
       "      <td>12</td>\n",
       "      <td>10</td>\n",
       "      <td>24</td>\n",
       "      <td>25</td>\n",
       "    </tr>\n",
       "    <tr>\n",
       "      <th>b</th>\n",
       "      <td>18</td>\n",
       "      <td>20</td>\n",
       "      <td>48</td>\n",
       "      <td>90</td>\n",
       "    </tr>\n",
       "    <tr>\n",
       "      <th>d</th>\n",
       "      <td>45</td>\n",
       "      <td>40</td>\n",
       "      <td>75</td>\n",
       "      <td>55</td>\n",
       "    </tr>\n",
       "    <tr>\n",
       "      <th>e</th>\n",
       "      <td>60</td>\n",
       "      <td>50</td>\n",
       "      <td>85</td>\n",
       "      <td>15</td>\n",
       "    </tr>\n",
       "    <tr>\n",
       "      <th>c</th>\n",
       "      <td>30</td>\n",
       "      <td>30</td>\n",
       "      <td>90</td>\n",
       "      <td>65</td>\n",
       "    </tr>\n",
       "  </tbody>\n",
       "</table>\n",
       "</div>"
      ],
      "text/plain": [
       "   key_01  key_02  key_03  key_04\n",
       "a      12      10      24      25\n",
       "b      18      20      48      90\n",
       "d      45      40      75      55\n",
       "e      60      50      85      15\n",
       "c      30      30      90      65"
      ]
     },
     "execution_count": 27,
     "metadata": {},
     "output_type": "execute_result"
    }
   ],
   "source": [
    "df_02.sort_values(\"key_03\")"
   ]
  },
  {
   "cell_type": "code",
   "execution_count": 28,
   "id": "3ced0336-0ff6-4512-b7e3-270dc477ad4c",
   "metadata": {},
   "outputs": [
    {
     "data": {
      "text/html": [
       "<div>\n",
       "<style scoped>\n",
       "    .dataframe tbody tr th:only-of-type {\n",
       "        vertical-align: middle;\n",
       "    }\n",
       "\n",
       "    .dataframe tbody tr th {\n",
       "        vertical-align: top;\n",
       "    }\n",
       "\n",
       "    .dataframe thead th {\n",
       "        text-align: right;\n",
       "    }\n",
       "</style>\n",
       "<table border=\"1\" class=\"dataframe\">\n",
       "  <thead>\n",
       "    <tr style=\"text-align: right;\">\n",
       "      <th></th>\n",
       "      <th>key_01</th>\n",
       "      <th>key_02</th>\n",
       "      <th>key_03</th>\n",
       "      <th>key_04</th>\n",
       "    </tr>\n",
       "  </thead>\n",
       "  <tbody>\n",
       "    <tr>\n",
       "      <th>e</th>\n",
       "      <td>60</td>\n",
       "      <td>50</td>\n",
       "      <td>85</td>\n",
       "      <td>15</td>\n",
       "    </tr>\n",
       "    <tr>\n",
       "      <th>d</th>\n",
       "      <td>45</td>\n",
       "      <td>40</td>\n",
       "      <td>75</td>\n",
       "      <td>55</td>\n",
       "    </tr>\n",
       "    <tr>\n",
       "      <th>c</th>\n",
       "      <td>30</td>\n",
       "      <td>30</td>\n",
       "      <td>90</td>\n",
       "      <td>65</td>\n",
       "    </tr>\n",
       "    <tr>\n",
       "      <th>b</th>\n",
       "      <td>18</td>\n",
       "      <td>20</td>\n",
       "      <td>48</td>\n",
       "      <td>90</td>\n",
       "    </tr>\n",
       "    <tr>\n",
       "      <th>a</th>\n",
       "      <td>12</td>\n",
       "      <td>10</td>\n",
       "      <td>24</td>\n",
       "      <td>25</td>\n",
       "    </tr>\n",
       "  </tbody>\n",
       "</table>\n",
       "</div>"
      ],
      "text/plain": [
       "   key_01  key_02  key_03  key_04\n",
       "e      60      50      85      15\n",
       "d      45      40      75      55\n",
       "c      30      30      90      65\n",
       "b      18      20      48      90\n",
       "a      12      10      24      25"
      ]
     },
     "execution_count": 28,
     "metadata": {},
     "output_type": "execute_result"
    }
   ],
   "source": [
    "df_02.sort_values(\"key_02\", ascending = False)"
   ]
  },
  {
   "cell_type": "code",
   "execution_count": 29,
   "id": "5f6ff724-30fc-4f3c-a630-be949516daf0",
   "metadata": {},
   "outputs": [
    {
     "data": {
      "text/html": [
       "<div>\n",
       "<style scoped>\n",
       "    .dataframe tbody tr th:only-of-type {\n",
       "        vertical-align: middle;\n",
       "    }\n",
       "\n",
       "    .dataframe tbody tr th {\n",
       "        vertical-align: top;\n",
       "    }\n",
       "\n",
       "    .dataframe thead th {\n",
       "        text-align: right;\n",
       "    }\n",
       "</style>\n",
       "<table border=\"1\" class=\"dataframe\">\n",
       "  <thead>\n",
       "    <tr style=\"text-align: right;\">\n",
       "      <th></th>\n",
       "      <th>key_02</th>\n",
       "      <th>key_01</th>\n",
       "      <th>key_03</th>\n",
       "      <th>key_04</th>\n",
       "    </tr>\n",
       "  </thead>\n",
       "  <tbody>\n",
       "    <tr>\n",
       "      <th>a</th>\n",
       "      <td>10</td>\n",
       "      <td>12</td>\n",
       "      <td>24</td>\n",
       "      <td>25</td>\n",
       "    </tr>\n",
       "    <tr>\n",
       "      <th>b</th>\n",
       "      <td>20</td>\n",
       "      <td>18</td>\n",
       "      <td>48</td>\n",
       "      <td>90</td>\n",
       "    </tr>\n",
       "    <tr>\n",
       "      <th>c</th>\n",
       "      <td>30</td>\n",
       "      <td>30</td>\n",
       "      <td>90</td>\n",
       "      <td>65</td>\n",
       "    </tr>\n",
       "    <tr>\n",
       "      <th>d</th>\n",
       "      <td>40</td>\n",
       "      <td>45</td>\n",
       "      <td>75</td>\n",
       "      <td>55</td>\n",
       "    </tr>\n",
       "    <tr>\n",
       "      <th>e</th>\n",
       "      <td>50</td>\n",
       "      <td>60</td>\n",
       "      <td>85</td>\n",
       "      <td>15</td>\n",
       "    </tr>\n",
       "  </tbody>\n",
       "</table>\n",
       "</div>"
      ],
      "text/plain": [
       "   key_02  key_01  key_03  key_04\n",
       "a      10      12      24      25\n",
       "b      20      18      48      90\n",
       "c      30      30      90      65\n",
       "d      40      45      75      55\n",
       "e      50      60      85      15"
      ]
     },
     "execution_count": 29,
     "metadata": {},
     "output_type": "execute_result"
    }
   ],
   "source": [
    "df_02.sort_values('a', axis = 1)"
   ]
  },
  {
   "cell_type": "code",
   "execution_count": 30,
   "id": "9c7a4864-1a68-455d-86f9-912fa24e59f5",
   "metadata": {},
   "outputs": [
    {
     "data": {
      "text/html": [
       "<div>\n",
       "<style scoped>\n",
       "    .dataframe tbody tr th:only-of-type {\n",
       "        vertical-align: middle;\n",
       "    }\n",
       "\n",
       "    .dataframe tbody tr th {\n",
       "        vertical-align: top;\n",
       "    }\n",
       "\n",
       "    .dataframe thead th {\n",
       "        text-align: right;\n",
       "    }\n",
       "</style>\n",
       "<table border=\"1\" class=\"dataframe\">\n",
       "  <thead>\n",
       "    <tr style=\"text-align: right;\">\n",
       "      <th></th>\n",
       "      <th>key_03</th>\n",
       "      <th>key_01</th>\n",
       "      <th>key_02</th>\n",
       "      <th>key_04</th>\n",
       "    </tr>\n",
       "  </thead>\n",
       "  <tbody>\n",
       "    <tr>\n",
       "      <th>a</th>\n",
       "      <td>24</td>\n",
       "      <td>12</td>\n",
       "      <td>10</td>\n",
       "      <td>25</td>\n",
       "    </tr>\n",
       "    <tr>\n",
       "      <th>b</th>\n",
       "      <td>48</td>\n",
       "      <td>18</td>\n",
       "      <td>20</td>\n",
       "      <td>90</td>\n",
       "    </tr>\n",
       "    <tr>\n",
       "      <th>c</th>\n",
       "      <td>90</td>\n",
       "      <td>30</td>\n",
       "      <td>30</td>\n",
       "      <td>65</td>\n",
       "    </tr>\n",
       "    <tr>\n",
       "      <th>d</th>\n",
       "      <td>75</td>\n",
       "      <td>45</td>\n",
       "      <td>40</td>\n",
       "      <td>55</td>\n",
       "    </tr>\n",
       "    <tr>\n",
       "      <th>e</th>\n",
       "      <td>85</td>\n",
       "      <td>60</td>\n",
       "      <td>50</td>\n",
       "      <td>15</td>\n",
       "    </tr>\n",
       "  </tbody>\n",
       "</table>\n",
       "</div>"
      ],
      "text/plain": [
       "   key_03  key_01  key_02  key_04\n",
       "a      24      12      10      25\n",
       "b      48      18      20      90\n",
       "c      90      30      30      65\n",
       "d      75      45      40      55\n",
       "e      85      60      50      15"
      ]
     },
     "execution_count": 30,
     "metadata": {},
     "output_type": "execute_result"
    }
   ],
   "source": [
    "df_02.sort_values('e', axis = 1, ascending = False)"
   ]
  },
  {
   "cell_type": "code",
   "execution_count": 31,
   "id": "2b1221b6-e935-4b55-9902-54318a5c2e72",
   "metadata": {},
   "outputs": [
    {
     "data": {
      "text/html": [
       "<div>\n",
       "<style scoped>\n",
       "    .dataframe tbody tr th:only-of-type {\n",
       "        vertical-align: middle;\n",
       "    }\n",
       "\n",
       "    .dataframe tbody tr th {\n",
       "        vertical-align: top;\n",
       "    }\n",
       "\n",
       "    .dataframe thead th {\n",
       "        text-align: right;\n",
       "    }\n",
       "</style>\n",
       "<table border=\"1\" class=\"dataframe\">\n",
       "  <thead>\n",
       "    <tr style=\"text-align: right;\">\n",
       "      <th></th>\n",
       "      <th>Name</th>\n",
       "      <th>key_01</th>\n",
       "      <th>key_02</th>\n",
       "      <th>key_03</th>\n",
       "      <th>key_04</th>\n",
       "    </tr>\n",
       "  </thead>\n",
       "  <tbody>\n",
       "    <tr>\n",
       "      <th>0</th>\n",
       "      <td>Balaji</td>\n",
       "      <td>12</td>\n",
       "      <td>10</td>\n",
       "      <td>24</td>\n",
       "      <td>25</td>\n",
       "    </tr>\n",
       "    <tr>\n",
       "      <th>4</th>\n",
       "      <td>Hitesh</td>\n",
       "      <td>60</td>\n",
       "      <td>50</td>\n",
       "      <td>85</td>\n",
       "      <td>15</td>\n",
       "    </tr>\n",
       "    <tr>\n",
       "      <th>1</th>\n",
       "      <td>Rahul</td>\n",
       "      <td>18</td>\n",
       "      <td>20</td>\n",
       "      <td>48</td>\n",
       "      <td>90</td>\n",
       "    </tr>\n",
       "    <tr>\n",
       "      <th>2</th>\n",
       "      <td>Srinivas</td>\n",
       "      <td>30</td>\n",
       "      <td>30</td>\n",
       "      <td>90</td>\n",
       "      <td>65</td>\n",
       "    </tr>\n",
       "    <tr>\n",
       "      <th>3</th>\n",
       "      <td>Vinay</td>\n",
       "      <td>45</td>\n",
       "      <td>40</td>\n",
       "      <td>75</td>\n",
       "      <td>55</td>\n",
       "    </tr>\n",
       "  </tbody>\n",
       "</table>\n",
       "</div>"
      ],
      "text/plain": [
       "       Name  key_01  key_02  key_03  key_04\n",
       "0    Balaji      12      10      24      25\n",
       "4    Hitesh      60      50      85      15\n",
       "1     Rahul      18      20      48      90\n",
       "2  Srinivas      30      30      90      65\n",
       "3     Vinay      45      40      75      55"
      ]
     },
     "execution_count": 31,
     "metadata": {},
     "output_type": "execute_result"
    }
   ],
   "source": [
    "df_01.sort_values('Name')"
   ]
  },
  {
   "cell_type": "code",
   "execution_count": 32,
   "id": "d1cc6360-76b0-4882-a502-6d7d41570110",
   "metadata": {},
   "outputs": [
    {
     "data": {
      "text/html": [
       "<div>\n",
       "<style scoped>\n",
       "    .dataframe tbody tr th:only-of-type {\n",
       "        vertical-align: middle;\n",
       "    }\n",
       "\n",
       "    .dataframe tbody tr th {\n",
       "        vertical-align: top;\n",
       "    }\n",
       "\n",
       "    .dataframe thead th {\n",
       "        text-align: right;\n",
       "    }\n",
       "</style>\n",
       "<table border=\"1\" class=\"dataframe\">\n",
       "  <thead>\n",
       "    <tr style=\"text-align: right;\">\n",
       "      <th></th>\n",
       "      <th>Name</th>\n",
       "      <th>key_01</th>\n",
       "      <th>key_02</th>\n",
       "      <th>key_03</th>\n",
       "      <th>key_04</th>\n",
       "    </tr>\n",
       "  </thead>\n",
       "  <tbody>\n",
       "    <tr>\n",
       "      <th>0</th>\n",
       "      <td>Balaji</td>\n",
       "      <td>12</td>\n",
       "      <td>10</td>\n",
       "      <td>24</td>\n",
       "      <td>25</td>\n",
       "    </tr>\n",
       "    <tr>\n",
       "      <th>1</th>\n",
       "      <td>Rahul</td>\n",
       "      <td>18</td>\n",
       "      <td>20</td>\n",
       "      <td>48</td>\n",
       "      <td>90</td>\n",
       "    </tr>\n",
       "    <tr>\n",
       "      <th>2</th>\n",
       "      <td>Srinivas</td>\n",
       "      <td>30</td>\n",
       "      <td>30</td>\n",
       "      <td>90</td>\n",
       "      <td>65</td>\n",
       "    </tr>\n",
       "    <tr>\n",
       "      <th>3</th>\n",
       "      <td>Vinay</td>\n",
       "      <td>45</td>\n",
       "      <td>40</td>\n",
       "      <td>75</td>\n",
       "      <td>55</td>\n",
       "    </tr>\n",
       "    <tr>\n",
       "      <th>4</th>\n",
       "      <td>Hitesh</td>\n",
       "      <td>60</td>\n",
       "      <td>50</td>\n",
       "      <td>85</td>\n",
       "      <td>15</td>\n",
       "    </tr>\n",
       "  </tbody>\n",
       "</table>\n",
       "</div>"
      ],
      "text/plain": [
       "       Name  key_01  key_02  key_03  key_04\n",
       "0    Balaji      12      10      24      25\n",
       "1     Rahul      18      20      48      90\n",
       "2  Srinivas      30      30      90      65\n",
       "3     Vinay      45      40      75      55\n",
       "4    Hitesh      60      50      85      15"
      ]
     },
     "execution_count": 32,
     "metadata": {},
     "output_type": "execute_result"
    }
   ],
   "source": [
    "df_01.sort_index()"
   ]
  },
  {
   "cell_type": "code",
   "execution_count": 33,
   "id": "8f756ab5-c757-4de9-9e6a-168fd01f0d7f",
   "metadata": {},
   "outputs": [
    {
     "data": {
      "text/html": [
       "<div>\n",
       "<style scoped>\n",
       "    .dataframe tbody tr th:only-of-type {\n",
       "        vertical-align: middle;\n",
       "    }\n",
       "\n",
       "    .dataframe tbody tr th {\n",
       "        vertical-align: top;\n",
       "    }\n",
       "\n",
       "    .dataframe thead th {\n",
       "        text-align: right;\n",
       "    }\n",
       "</style>\n",
       "<table border=\"1\" class=\"dataframe\">\n",
       "  <thead>\n",
       "    <tr style=\"text-align: right;\">\n",
       "      <th></th>\n",
       "      <th>Name</th>\n",
       "      <th>key_01</th>\n",
       "      <th>key_02</th>\n",
       "      <th>key_03</th>\n",
       "      <th>key_04</th>\n",
       "    </tr>\n",
       "  </thead>\n",
       "  <tbody>\n",
       "    <tr>\n",
       "      <th>4</th>\n",
       "      <td>Hitesh</td>\n",
       "      <td>60</td>\n",
       "      <td>50</td>\n",
       "      <td>85</td>\n",
       "      <td>15</td>\n",
       "    </tr>\n",
       "    <tr>\n",
       "      <th>3</th>\n",
       "      <td>Vinay</td>\n",
       "      <td>45</td>\n",
       "      <td>40</td>\n",
       "      <td>75</td>\n",
       "      <td>55</td>\n",
       "    </tr>\n",
       "    <tr>\n",
       "      <th>2</th>\n",
       "      <td>Srinivas</td>\n",
       "      <td>30</td>\n",
       "      <td>30</td>\n",
       "      <td>90</td>\n",
       "      <td>65</td>\n",
       "    </tr>\n",
       "    <tr>\n",
       "      <th>1</th>\n",
       "      <td>Rahul</td>\n",
       "      <td>18</td>\n",
       "      <td>20</td>\n",
       "      <td>48</td>\n",
       "      <td>90</td>\n",
       "    </tr>\n",
       "    <tr>\n",
       "      <th>0</th>\n",
       "      <td>Balaji</td>\n",
       "      <td>12</td>\n",
       "      <td>10</td>\n",
       "      <td>24</td>\n",
       "      <td>25</td>\n",
       "    </tr>\n",
       "  </tbody>\n",
       "</table>\n",
       "</div>"
      ],
      "text/plain": [
       "       Name  key_01  key_02  key_03  key_04\n",
       "4    Hitesh      60      50      85      15\n",
       "3     Vinay      45      40      75      55\n",
       "2  Srinivas      30      30      90      65\n",
       "1     Rahul      18      20      48      90\n",
       "0    Balaji      12      10      24      25"
      ]
     },
     "execution_count": 33,
     "metadata": {},
     "output_type": "execute_result"
    }
   ],
   "source": [
    "df_01.sort_index(ascending = False)"
   ]
  },
  {
   "cell_type": "code",
   "execution_count": 34,
   "id": "6bd742e6-7654-4970-8265-c0965069b397",
   "metadata": {},
   "outputs": [
    {
     "data": {
      "text/html": [
       "<div>\n",
       "<style scoped>\n",
       "    .dataframe tbody tr th:only-of-type {\n",
       "        vertical-align: middle;\n",
       "    }\n",
       "\n",
       "    .dataframe tbody tr th {\n",
       "        vertical-align: top;\n",
       "    }\n",
       "\n",
       "    .dataframe thead th {\n",
       "        text-align: right;\n",
       "    }\n",
       "</style>\n",
       "<table border=\"1\" class=\"dataframe\">\n",
       "  <thead>\n",
       "    <tr style=\"text-align: right;\">\n",
       "      <th></th>\n",
       "      <th>Name</th>\n",
       "      <th>key_01</th>\n",
       "      <th>key_02</th>\n",
       "      <th>key_03</th>\n",
       "      <th>key_04</th>\n",
       "    </tr>\n",
       "  </thead>\n",
       "  <tbody>\n",
       "    <tr>\n",
       "      <th>0</th>\n",
       "      <td>Balaji</td>\n",
       "      <td>12</td>\n",
       "      <td>10</td>\n",
       "      <td>24</td>\n",
       "      <td>25</td>\n",
       "    </tr>\n",
       "    <tr>\n",
       "      <th>1</th>\n",
       "      <td>Rahul</td>\n",
       "      <td>18</td>\n",
       "      <td>20</td>\n",
       "      <td>48</td>\n",
       "      <td>90</td>\n",
       "    </tr>\n",
       "    <tr>\n",
       "      <th>2</th>\n",
       "      <td>Srinivas</td>\n",
       "      <td>30</td>\n",
       "      <td>30</td>\n",
       "      <td>90</td>\n",
       "      <td>65</td>\n",
       "    </tr>\n",
       "    <tr>\n",
       "      <th>3</th>\n",
       "      <td>Vinay</td>\n",
       "      <td>45</td>\n",
       "      <td>40</td>\n",
       "      <td>75</td>\n",
       "      <td>55</td>\n",
       "    </tr>\n",
       "    <tr>\n",
       "      <th>4</th>\n",
       "      <td>Hitesh</td>\n",
       "      <td>60</td>\n",
       "      <td>50</td>\n",
       "      <td>85</td>\n",
       "      <td>15</td>\n",
       "    </tr>\n",
       "  </tbody>\n",
       "</table>\n",
       "</div>"
      ],
      "text/plain": [
       "       Name  key_01  key_02  key_03  key_04\n",
       "0    Balaji      12      10      24      25\n",
       "1     Rahul      18      20      48      90\n",
       "2  Srinivas      30      30      90      65\n",
       "3     Vinay      45      40      75      55\n",
       "4    Hitesh      60      50      85      15"
      ]
     },
     "execution_count": 34,
     "metadata": {},
     "output_type": "execute_result"
    }
   ],
   "source": [
    "df_01.sort_index(axis = 1)"
   ]
  },
  {
   "cell_type": "code",
   "execution_count": 51,
   "id": "74759238-003c-476d-b9be-0c671999adfa",
   "metadata": {},
   "outputs": [],
   "source": [
    "pandas.set_option(\"display.max_colwidth\", 300)"
   ]
  },
  {
   "cell_type": "code",
   "execution_count": 47,
   "id": "3bd87285-d901-41e1-8de0-94bd32b27095",
   "metadata": {},
   "outputs": [],
   "source": [
    "df_03 = pandas.DataFrame({\"Description\" : [\"Data science is considered a discipline, while data scientists are the practitioners within that field. Data scientists are not necessarily directly responsible for all the processes involved in the data science lifecycle. For example, data pipelines are typically handled by data engineers—but the data scientist may make recommendations about what sort of data is useful or required. While data scientists can build machine learning models, scaling these efforts at a larger level requires more software engineering skills to optimize a program to run more quickly. As a result, it’s common for a data scientist to partner with machine learning engineers to scale machine learning models.\"]})"
   ]
  },
  {
   "cell_type": "code",
   "execution_count": 48,
   "id": "05777935-dd3f-4c56-918d-56d2f8985adb",
   "metadata": {},
   "outputs": [
    {
     "data": {
      "text/html": [
       "<div>\n",
       "<style scoped>\n",
       "    .dataframe tbody tr th:only-of-type {\n",
       "        vertical-align: middle;\n",
       "    }\n",
       "\n",
       "    .dataframe tbody tr th {\n",
       "        vertical-align: top;\n",
       "    }\n",
       "\n",
       "    .dataframe thead th {\n",
       "        text-align: right;\n",
       "    }\n",
       "</style>\n",
       "<table border=\"1\" class=\"dataframe\">\n",
       "  <thead>\n",
       "    <tr style=\"text-align: right;\">\n",
       "      <th></th>\n",
       "      <th>Description</th>\n",
       "    </tr>\n",
       "  </thead>\n",
       "  <tbody>\n",
       "    <tr>\n",
       "      <th>0</th>\n",
       "      <td>Data science is considered a discipline, while data scientists are the practitioners within that...</td>\n",
       "    </tr>\n",
       "  </tbody>\n",
       "</table>\n",
       "</div>"
      ],
      "text/plain": [
       "                                                                                           Description\n",
       "0  Data science is considered a discipline, while data scientists are the practitioners within that..."
      ]
     },
     "execution_count": 48,
     "metadata": {},
     "output_type": "execute_result"
    }
   ],
   "source": [
    "df_03.head()"
   ]
  },
  {
   "cell_type": "code",
   "execution_count": 49,
   "id": "57e86192-a09d-46f9-a809-741cfb22bf2c",
   "metadata": {},
   "outputs": [],
   "source": [
    "df_03 = pandas.DataFrame({\"Description\" : [\"Data science is considered a discipline, while data scientists are the practitioners within that field. Data scientists are not necessarily directly responsible for all the processes involved in the data science lifecycle. For example, data pipelines are typically handled by data engineers—but the data scientist may make recommendations about what sort of data is useful or required. While data scientists can build machine learning models, scaling these efforts at a larger level requires more software engineering skills to optimize a program to run more quickly. As a result, it’s common for a data scientist to partner with machine learning engineers to scale machine learning models.\", \"Data scientist responsibilities can commonly overlap with a data analyst, particularly with exploratory data analysis and data visualization. However, a data scientist’s skillset is typically broader than the average data analyst. Comparatively speaking, data scientist leverage common programming languages, such as R and Python, to conduct more statistical inference and data visualization.\", \"To perform these tasks, data scientists require computer science and pure science skills beyond those of a typical business analyst or data analyst. The data scientist must also understand the specifics of the business, such as automobile manufacturing, eCommerce, or healthcare.\"]})"
   ]
  },
  {
   "cell_type": "code",
   "execution_count": 52,
   "id": "c15f87b6-ed1a-45d4-b614-9a3766f10ab8",
   "metadata": {},
   "outputs": [
    {
     "data": {
      "text/html": [
       "<div>\n",
       "<style scoped>\n",
       "    .dataframe tbody tr th:only-of-type {\n",
       "        vertical-align: middle;\n",
       "    }\n",
       "\n",
       "    .dataframe tbody tr th {\n",
       "        vertical-align: top;\n",
       "    }\n",
       "\n",
       "    .dataframe thead th {\n",
       "        text-align: right;\n",
       "    }\n",
       "</style>\n",
       "<table border=\"1\" class=\"dataframe\">\n",
       "  <thead>\n",
       "    <tr style=\"text-align: right;\">\n",
       "      <th></th>\n",
       "      <th>Description</th>\n",
       "    </tr>\n",
       "  </thead>\n",
       "  <tbody>\n",
       "    <tr>\n",
       "      <th>0</th>\n",
       "      <td>Data science is considered a discipline, while data scientists are the practitioners within that field. Data scientists are not necessarily directly responsible for all the processes involved in the data science lifecycle. For example, data pipelines are typically handled by data engineers—but t...</td>\n",
       "    </tr>\n",
       "    <tr>\n",
       "      <th>1</th>\n",
       "      <td>Data scientist responsibilities can commonly overlap with a data analyst, particularly with exploratory data analysis and data visualization. However, a data scientist’s skillset is typically broader than the average data analyst. Comparatively speaking, data scientist leverage common programmin...</td>\n",
       "    </tr>\n",
       "    <tr>\n",
       "      <th>2</th>\n",
       "      <td>To perform these tasks, data scientists require computer science and pure science skills beyond those of a typical business analyst or data analyst. The data scientist must also understand the specifics of the business, such as automobile manufacturing, eCommerce, or healthcare.</td>\n",
       "    </tr>\n",
       "  </tbody>\n",
       "</table>\n",
       "</div>"
      ],
      "text/plain": [
       "                                                                                                                                                                                                                                                                                                   Description\n",
       "0  Data science is considered a discipline, while data scientists are the practitioners within that field. Data scientists are not necessarily directly responsible for all the processes involved in the data science lifecycle. For example, data pipelines are typically handled by data engineers—but t...\n",
       "1  Data scientist responsibilities can commonly overlap with a data analyst, particularly with exploratory data analysis and data visualization. However, a data scientist’s skillset is typically broader than the average data analyst. Comparatively speaking, data scientist leverage common programmin...\n",
       "2                      To perform these tasks, data scientists require computer science and pure science skills beyond those of a typical business analyst or data analyst. The data scientist must also understand the specifics of the business, such as automobile manufacturing, eCommerce, or healthcare."
      ]
     },
     "execution_count": 52,
     "metadata": {},
     "output_type": "execute_result"
    }
   ],
   "source": [
    "df_03.head()"
   ]
  },
  {
   "cell_type": "code",
   "execution_count": 53,
   "id": "4cc41bd1-852d-41a1-98c4-c7b8944aa214",
   "metadata": {},
   "outputs": [],
   "source": [
    "df_03[\"Length\"] = df_03[\"Description\"].apply(len)"
   ]
  },
  {
   "cell_type": "code",
   "execution_count": 54,
   "id": "250039d3-42eb-49b8-8d7a-314f1957163e",
   "metadata": {},
   "outputs": [
    {
     "data": {
      "text/html": [
       "<div>\n",
       "<style scoped>\n",
       "    .dataframe tbody tr th:only-of-type {\n",
       "        vertical-align: middle;\n",
       "    }\n",
       "\n",
       "    .dataframe tbody tr th {\n",
       "        vertical-align: top;\n",
       "    }\n",
       "\n",
       "    .dataframe thead th {\n",
       "        text-align: right;\n",
       "    }\n",
       "</style>\n",
       "<table border=\"1\" class=\"dataframe\">\n",
       "  <thead>\n",
       "    <tr style=\"text-align: right;\">\n",
       "      <th></th>\n",
       "      <th>Description</th>\n",
       "      <th>Length</th>\n",
       "    </tr>\n",
       "  </thead>\n",
       "  <tbody>\n",
       "    <tr>\n",
       "      <th>0</th>\n",
       "      <td>Data science is considered a discipline, while data scientists are the practitioners within that field. Data scientists are not necessarily directly responsible for all the processes involved in the data science lifecycle. For example, data pipelines are typically handled by data engineers—but t...</td>\n",
       "      <td>690</td>\n",
       "    </tr>\n",
       "    <tr>\n",
       "      <th>1</th>\n",
       "      <td>Data scientist responsibilities can commonly overlap with a data analyst, particularly with exploratory data analysis and data visualization. However, a data scientist’s skillset is typically broader than the average data analyst. Comparatively speaking, data scientist leverage common programmin...</td>\n",
       "      <td>392</td>\n",
       "    </tr>\n",
       "    <tr>\n",
       "      <th>2</th>\n",
       "      <td>To perform these tasks, data scientists require computer science and pure science skills beyond those of a typical business analyst or data analyst. The data scientist must also understand the specifics of the business, such as automobile manufacturing, eCommerce, or healthcare.</td>\n",
       "      <td>279</td>\n",
       "    </tr>\n",
       "  </tbody>\n",
       "</table>\n",
       "</div>"
      ],
      "text/plain": [
       "                                                                                                                                                                                                                                                                                                   Description  \\\n",
       "0  Data science is considered a discipline, while data scientists are the practitioners within that field. Data scientists are not necessarily directly responsible for all the processes involved in the data science lifecycle. For example, data pipelines are typically handled by data engineers—but t...   \n",
       "1  Data scientist responsibilities can commonly overlap with a data analyst, particularly with exploratory data analysis and data visualization. However, a data scientist’s skillset is typically broader than the average data analyst. Comparatively speaking, data scientist leverage common programmin...   \n",
       "2                      To perform these tasks, data scientists require computer science and pure science skills beyond those of a typical business analyst or data analyst. The data scientist must also understand the specifics of the business, such as automobile manufacturing, eCommerce, or healthcare.   \n",
       "\n",
       "   Length  \n",
       "0     690  \n",
       "1     392  \n",
       "2     279  "
      ]
     },
     "execution_count": 54,
     "metadata": {},
     "output_type": "execute_result"
    }
   ],
   "source": [
    "df_03.head()"
   ]
  },
  {
   "cell_type": "code",
   "execution_count": 55,
   "id": "b3ec357e-08aa-45c8-bb69-1e17fe11f17b",
   "metadata": {},
   "outputs": [],
   "source": [
    "text_01 = \"Sanjay Balaji Rahul Praneet\""
   ]
  },
  {
   "cell_type": "code",
   "execution_count": 56,
   "id": "b754534c-7a66-4ab4-afdb-b3124aeeef6a",
   "metadata": {},
   "outputs": [
    {
     "data": {
      "text/plain": [
       "['Sanjay', 'Balaji', 'Rahul', 'Praneet']"
      ]
     },
     "execution_count": 56,
     "metadata": {},
     "output_type": "execute_result"
    }
   ],
   "source": [
    "text_01.split()"
   ]
  },
  {
   "cell_type": "code",
   "execution_count": 58,
   "id": "9aa0282d-5096-489d-96c3-de845d5278d0",
   "metadata": {},
   "outputs": [
    {
     "data": {
      "text/plain": [
       "4"
      ]
     },
     "execution_count": 58,
     "metadata": {},
     "output_type": "execute_result"
    }
   ],
   "source": [
    "len(text_01.split())"
   ]
  },
  {
   "cell_type": "code",
   "execution_count": 59,
   "id": "15805220-16e3-4d03-a194-39fc9690055b",
   "metadata": {},
   "outputs": [],
   "source": [
    "df_03[\"Words\"] = df_03[\"Description\"].apply(lambda x : len(x.split())) "
   ]
  },
  {
   "cell_type": "code",
   "execution_count": 60,
   "id": "7e46d19f-4434-46cc-a7d6-9f5aec48da23",
   "metadata": {},
   "outputs": [
    {
     "data": {
      "text/html": [
       "<div>\n",
       "<style scoped>\n",
       "    .dataframe tbody tr th:only-of-type {\n",
       "        vertical-align: middle;\n",
       "    }\n",
       "\n",
       "    .dataframe tbody tr th {\n",
       "        vertical-align: top;\n",
       "    }\n",
       "\n",
       "    .dataframe thead th {\n",
       "        text-align: right;\n",
       "    }\n",
       "</style>\n",
       "<table border=\"1\" class=\"dataframe\">\n",
       "  <thead>\n",
       "    <tr style=\"text-align: right;\">\n",
       "      <th></th>\n",
       "      <th>Description</th>\n",
       "      <th>Length</th>\n",
       "      <th>Words</th>\n",
       "    </tr>\n",
       "  </thead>\n",
       "  <tbody>\n",
       "    <tr>\n",
       "      <th>0</th>\n",
       "      <td>Data science is considered a discipline, while data scientists are the practitioners within that field. Data scientists are not necessarily directly responsible for all the processes involved in the data science lifecycle. For example, data pipelines are typically handled by data engineers—but t...</td>\n",
       "      <td>690</td>\n",
       "      <td>105</td>\n",
       "    </tr>\n",
       "    <tr>\n",
       "      <th>1</th>\n",
       "      <td>Data scientist responsibilities can commonly overlap with a data analyst, particularly with exploratory data analysis and data visualization. However, a data scientist’s skillset is typically broader than the average data analyst. Comparatively speaking, data scientist leverage common programmin...</td>\n",
       "      <td>392</td>\n",
       "      <td>52</td>\n",
       "    </tr>\n",
       "    <tr>\n",
       "      <th>2</th>\n",
       "      <td>To perform these tasks, data scientists require computer science and pure science skills beyond those of a typical business analyst or data analyst. The data scientist must also understand the specifics of the business, such as automobile manufacturing, eCommerce, or healthcare.</td>\n",
       "      <td>279</td>\n",
       "      <td>41</td>\n",
       "    </tr>\n",
       "  </tbody>\n",
       "</table>\n",
       "</div>"
      ],
      "text/plain": [
       "                                                                                                                                                                                                                                                                                                   Description  \\\n",
       "0  Data science is considered a discipline, while data scientists are the practitioners within that field. Data scientists are not necessarily directly responsible for all the processes involved in the data science lifecycle. For example, data pipelines are typically handled by data engineers—but t...   \n",
       "1  Data scientist responsibilities can commonly overlap with a data analyst, particularly with exploratory data analysis and data visualization. However, a data scientist’s skillset is typically broader than the average data analyst. Comparatively speaking, data scientist leverage common programmin...   \n",
       "2                      To perform these tasks, data scientists require computer science and pure science skills beyond those of a typical business analyst or data analyst. The data scientist must also understand the specifics of the business, such as automobile manufacturing, eCommerce, or healthcare.   \n",
       "\n",
       "   Length  Words  \n",
       "0     690    105  \n",
       "1     392     52  \n",
       "2     279     41  "
      ]
     },
     "execution_count": 60,
     "metadata": {},
     "output_type": "execute_result"
    }
   ],
   "source": [
    "df_03.head()"
   ]
  },
  {
   "cell_type": "code",
   "execution_count": 62,
   "id": "7e4ac4b2-789b-4f18-bb39-965e47b243fa",
   "metadata": {},
   "outputs": [
    {
     "data": {
      "text/html": [
       "<div>\n",
       "<style scoped>\n",
       "    .dataframe tbody tr th:only-of-type {\n",
       "        vertical-align: middle;\n",
       "    }\n",
       "\n",
       "    .dataframe tbody tr th {\n",
       "        vertical-align: top;\n",
       "    }\n",
       "\n",
       "    .dataframe thead th {\n",
       "        text-align: right;\n",
       "    }\n",
       "</style>\n",
       "<table border=\"1\" class=\"dataframe\">\n",
       "  <thead>\n",
       "    <tr style=\"text-align: right;\">\n",
       "      <th></th>\n",
       "      <th>key_01</th>\n",
       "      <th>key_02</th>\n",
       "      <th>key_03</th>\n",
       "      <th>key_04</th>\n",
       "    </tr>\n",
       "  </thead>\n",
       "  <tbody>\n",
       "    <tr>\n",
       "      <th>a</th>\n",
       "      <td>12</td>\n",
       "      <td>10</td>\n",
       "      <td>24</td>\n",
       "      <td>25</td>\n",
       "    </tr>\n",
       "    <tr>\n",
       "      <th>b</th>\n",
       "      <td>18</td>\n",
       "      <td>20</td>\n",
       "      <td>48</td>\n",
       "      <td>90</td>\n",
       "    </tr>\n",
       "    <tr>\n",
       "      <th>c</th>\n",
       "      <td>30</td>\n",
       "      <td>30</td>\n",
       "      <td>90</td>\n",
       "      <td>65</td>\n",
       "    </tr>\n",
       "    <tr>\n",
       "      <th>d</th>\n",
       "      <td>45</td>\n",
       "      <td>40</td>\n",
       "      <td>75</td>\n",
       "      <td>55</td>\n",
       "    </tr>\n",
       "    <tr>\n",
       "      <th>e</th>\n",
       "      <td>60</td>\n",
       "      <td>50</td>\n",
       "      <td>85</td>\n",
       "      <td>15</td>\n",
       "    </tr>\n",
       "  </tbody>\n",
       "</table>\n",
       "</div>"
      ],
      "text/plain": [
       "   key_01  key_02  key_03  key_04\n",
       "a      12      10      24      25\n",
       "b      18      20      48      90\n",
       "c      30      30      90      65\n",
       "d      45      40      75      55\n",
       "e      60      50      85      15"
      ]
     },
     "execution_count": 62,
     "metadata": {},
     "output_type": "execute_result"
    }
   ],
   "source": [
    "df_02.head()"
   ]
  },
  {
   "cell_type": "code",
   "execution_count": 63,
   "id": "a172c7e6-a139-4e72-8f65-2ea6e4c75782",
   "metadata": {},
   "outputs": [
    {
     "data": {
      "text/plain": [
       "33.0"
      ]
     },
     "execution_count": 63,
     "metadata": {},
     "output_type": "execute_result"
    }
   ],
   "source": [
    "df_02[\"key_01\"].mean()"
   ]
  },
  {
   "cell_type": "code",
   "execution_count": 65,
   "id": "a3171ccc-6d21-48a8-9470-904508d8bf5a",
   "metadata": {},
   "outputs": [
    {
     "data": {
      "text/plain": [
       "30.0"
      ]
     },
     "execution_count": 65,
     "metadata": {},
     "output_type": "execute_result"
    }
   ],
   "source": [
    "df_02[\"key_01\"].median()"
   ]
  },
  {
   "cell_type": "code",
   "execution_count": 66,
   "id": "ff7af0e5-b219-495d-a824-612c3177d17b",
   "metadata": {},
   "outputs": [
    {
     "data": {
      "text/plain": [
       "0    12\n",
       "1    18\n",
       "2    30\n",
       "3    45\n",
       "4    60\n",
       "Name: key_01, dtype: int64"
      ]
     },
     "execution_count": 66,
     "metadata": {},
     "output_type": "execute_result"
    }
   ],
   "source": [
    "df_02[\"key_01\"].mode()"
   ]
  },
  {
   "cell_type": "code",
   "execution_count": 67,
   "id": "f7f0d4c3-0180-498d-ae05-0debd9d0b51a",
   "metadata": {},
   "outputs": [],
   "source": [
    "dictionary_02 = {\n",
    "    \n",
    "    \"key_01\" : [60, 60, 25, 80],\n",
    "    \"key_02\" : [60, 70, 80, 90],\n",
    "    \"key_03\" : [55, 90, 90, 90],\n",
    "    \"key_04\" : [15, 65, 65, 65]\n",
    "}"
   ]
  },
  {
   "cell_type": "code",
   "execution_count": 68,
   "id": "c3dce555-9444-46a4-a043-f9a444d9bcaa",
   "metadata": {},
   "outputs": [],
   "source": [
    "df_04 = pandas.DataFrame(dictionary_02, index = ['f', 'g', 'h', 'i'])"
   ]
  },
  {
   "cell_type": "code",
   "execution_count": 69,
   "id": "b1179e60-8329-4042-ab0b-ed2fac174a40",
   "metadata": {},
   "outputs": [
    {
     "data": {
      "text/html": [
       "<div>\n",
       "<style scoped>\n",
       "    .dataframe tbody tr th:only-of-type {\n",
       "        vertical-align: middle;\n",
       "    }\n",
       "\n",
       "    .dataframe tbody tr th {\n",
       "        vertical-align: top;\n",
       "    }\n",
       "\n",
       "    .dataframe thead th {\n",
       "        text-align: right;\n",
       "    }\n",
       "</style>\n",
       "<table border=\"1\" class=\"dataframe\">\n",
       "  <thead>\n",
       "    <tr style=\"text-align: right;\">\n",
       "      <th></th>\n",
       "      <th>key_01</th>\n",
       "      <th>key_02</th>\n",
       "      <th>key_03</th>\n",
       "      <th>key_04</th>\n",
       "    </tr>\n",
       "  </thead>\n",
       "  <tbody>\n",
       "    <tr>\n",
       "      <th>f</th>\n",
       "      <td>60</td>\n",
       "      <td>60</td>\n",
       "      <td>55</td>\n",
       "      <td>15</td>\n",
       "    </tr>\n",
       "    <tr>\n",
       "      <th>g</th>\n",
       "      <td>60</td>\n",
       "      <td>70</td>\n",
       "      <td>90</td>\n",
       "      <td>65</td>\n",
       "    </tr>\n",
       "    <tr>\n",
       "      <th>h</th>\n",
       "      <td>25</td>\n",
       "      <td>80</td>\n",
       "      <td>90</td>\n",
       "      <td>65</td>\n",
       "    </tr>\n",
       "    <tr>\n",
       "      <th>i</th>\n",
       "      <td>80</td>\n",
       "      <td>90</td>\n",
       "      <td>90</td>\n",
       "      <td>65</td>\n",
       "    </tr>\n",
       "  </tbody>\n",
       "</table>\n",
       "</div>"
      ],
      "text/plain": [
       "   key_01  key_02  key_03  key_04\n",
       "f      60      60      55      15\n",
       "g      60      70      90      65\n",
       "h      25      80      90      65\n",
       "i      80      90      90      65"
      ]
     },
     "execution_count": 69,
     "metadata": {},
     "output_type": "execute_result"
    }
   ],
   "source": [
    "df_04.head()"
   ]
  },
  {
   "cell_type": "code",
   "execution_count": 72,
   "id": "6bdad769-577a-4fea-b69c-a7543fae454b",
   "metadata": {},
   "outputs": [],
   "source": [
    "df_02 = pandas.concat([df_02, df_04])"
   ]
  },
  {
   "cell_type": "code",
   "execution_count": 74,
   "id": "461a5fc6-aa5b-4405-9911-1ae301459712",
   "metadata": {},
   "outputs": [
    {
     "data": {
      "text/html": [
       "<div>\n",
       "<style scoped>\n",
       "    .dataframe tbody tr th:only-of-type {\n",
       "        vertical-align: middle;\n",
       "    }\n",
       "\n",
       "    .dataframe tbody tr th {\n",
       "        vertical-align: top;\n",
       "    }\n",
       "\n",
       "    .dataframe thead th {\n",
       "        text-align: right;\n",
       "    }\n",
       "</style>\n",
       "<table border=\"1\" class=\"dataframe\">\n",
       "  <thead>\n",
       "    <tr style=\"text-align: right;\">\n",
       "      <th></th>\n",
       "      <th>key_01</th>\n",
       "      <th>key_02</th>\n",
       "      <th>key_03</th>\n",
       "      <th>key_04</th>\n",
       "    </tr>\n",
       "  </thead>\n",
       "  <tbody>\n",
       "    <tr>\n",
       "      <th>a</th>\n",
       "      <td>12</td>\n",
       "      <td>10</td>\n",
       "      <td>24</td>\n",
       "      <td>25</td>\n",
       "    </tr>\n",
       "    <tr>\n",
       "      <th>b</th>\n",
       "      <td>18</td>\n",
       "      <td>20</td>\n",
       "      <td>48</td>\n",
       "      <td>90</td>\n",
       "    </tr>\n",
       "    <tr>\n",
       "      <th>c</th>\n",
       "      <td>30</td>\n",
       "      <td>30</td>\n",
       "      <td>90</td>\n",
       "      <td>65</td>\n",
       "    </tr>\n",
       "    <tr>\n",
       "      <th>d</th>\n",
       "      <td>45</td>\n",
       "      <td>40</td>\n",
       "      <td>75</td>\n",
       "      <td>55</td>\n",
       "    </tr>\n",
       "    <tr>\n",
       "      <th>e</th>\n",
       "      <td>60</td>\n",
       "      <td>50</td>\n",
       "      <td>85</td>\n",
       "      <td>15</td>\n",
       "    </tr>\n",
       "    <tr>\n",
       "      <th>f</th>\n",
       "      <td>60</td>\n",
       "      <td>60</td>\n",
       "      <td>55</td>\n",
       "      <td>15</td>\n",
       "    </tr>\n",
       "    <tr>\n",
       "      <th>g</th>\n",
       "      <td>60</td>\n",
       "      <td>70</td>\n",
       "      <td>90</td>\n",
       "      <td>65</td>\n",
       "    </tr>\n",
       "    <tr>\n",
       "      <th>h</th>\n",
       "      <td>25</td>\n",
       "      <td>80</td>\n",
       "      <td>90</td>\n",
       "      <td>65</td>\n",
       "    </tr>\n",
       "    <tr>\n",
       "      <th>i</th>\n",
       "      <td>80</td>\n",
       "      <td>90</td>\n",
       "      <td>90</td>\n",
       "      <td>65</td>\n",
       "    </tr>\n",
       "  </tbody>\n",
       "</table>\n",
       "</div>"
      ],
      "text/plain": [
       "   key_01  key_02  key_03  key_04\n",
       "a      12      10      24      25\n",
       "b      18      20      48      90\n",
       "c      30      30      90      65\n",
       "d      45      40      75      55\n",
       "e      60      50      85      15\n",
       "f      60      60      55      15\n",
       "g      60      70      90      65\n",
       "h      25      80      90      65\n",
       "i      80      90      90      65"
      ]
     },
     "execution_count": 74,
     "metadata": {},
     "output_type": "execute_result"
    }
   ],
   "source": [
    "df_02"
   ]
  },
  {
   "cell_type": "code",
   "execution_count": 73,
   "id": "12a6daac-0225-42d4-9119-304d78fd6ecf",
   "metadata": {},
   "outputs": [
    {
     "data": {
      "text/plain": [
       "0    60\n",
       "Name: key_01, dtype: int64"
      ]
     },
     "execution_count": 73,
     "metadata": {},
     "output_type": "execute_result"
    }
   ],
   "source": [
    "df_02[\"key_01\"].mode()"
   ]
  },
  {
   "cell_type": "code",
   "execution_count": 75,
   "id": "cde68ba4-6c9d-4756-8022-16c7ad126a48",
   "metadata": {},
   "outputs": [
    {
     "data": {
      "text/plain": [
       "0    65\n",
       "Name: key_04, dtype: int64"
      ]
     },
     "execution_count": 75,
     "metadata": {},
     "output_type": "execute_result"
    }
   ],
   "source": [
    "df_02[\"key_04\"].mode()"
   ]
  },
  {
   "cell_type": "code",
   "execution_count": 76,
   "id": "c99cf843-1c7d-466a-a7cb-3832eeaf93e4",
   "metadata": {},
   "outputs": [
    {
     "data": {
      "text/plain": [
       "43.333333333333336"
      ]
     },
     "execution_count": 76,
     "metadata": {},
     "output_type": "execute_result"
    }
   ],
   "source": [
    "df_02[\"key_01\"].mean()"
   ]
  },
  {
   "cell_type": "code",
   "execution_count": 77,
   "id": "c9e19082-a624-4711-bf0c-307c395e356e",
   "metadata": {},
   "outputs": [
    {
     "data": {
      "text/plain": [
       "45.0"
      ]
     },
     "execution_count": 77,
     "metadata": {},
     "output_type": "execute_result"
    }
   ],
   "source": [
    "df_02[\"key_01\"].median()"
   ]
  },
  {
   "cell_type": "code",
   "execution_count": 78,
   "id": "caf5960f-ab9a-499c-974d-b4dadc10c068",
   "metadata": {},
   "outputs": [
    {
     "data": {
      "text/plain": [
       "12"
      ]
     },
     "execution_count": 78,
     "metadata": {},
     "output_type": "execute_result"
    }
   ],
   "source": [
    "df_02[\"key_01\"].min()"
   ]
  },
  {
   "cell_type": "code",
   "execution_count": 79,
   "id": "6d7fa395-638d-44ac-8f17-ff1937e5e7ba",
   "metadata": {},
   "outputs": [
    {
     "data": {
      "text/plain": [
       "80"
      ]
     },
     "execution_count": 79,
     "metadata": {},
     "output_type": "execute_result"
    }
   ],
   "source": [
    "df_02[\"key_01\"].max()"
   ]
  },
  {
   "cell_type": "code",
   "execution_count": 80,
   "id": "50e60c5d-25cb-4427-95d3-14fb37a2e1e8",
   "metadata": {},
   "outputs": [
    {
     "data": {
      "text/plain": [
       "23.232520310977886"
      ]
     },
     "execution_count": 80,
     "metadata": {},
     "output_type": "execute_result"
    }
   ],
   "source": [
    "df_02[\"key_01\"].std()"
   ]
  },
  {
   "cell_type": "code",
   "execution_count": 81,
   "id": "9ce08cf7-c5e2-43fd-92d0-9a70b08d3623",
   "metadata": {},
   "outputs": [
    {
     "data": {
      "text/plain": [
       "539.75"
      ]
     },
     "execution_count": 81,
     "metadata": {},
     "output_type": "execute_result"
    }
   ],
   "source": [
    "df_02[\"key_01\"].var()"
   ]
  },
  {
   "cell_type": "code",
   "execution_count": null,
   "id": "cb4d7dec-2c05-4c52-a2ea-54206a3e40cd",
   "metadata": {},
   "outputs": [],
   "source": [
    "# Python Pandas - Rolling Window Functions"
   ]
  },
  {
   "cell_type": "code",
   "execution_count": 83,
   "id": "f2ca297e-64be-4729-a111-b4db4f6d3dd4",
   "metadata": {},
   "outputs": [
    {
     "data": {
      "text/plain": [
       "a    12.0\n",
       "b    18.0\n",
       "c    30.0\n",
       "d    45.0\n",
       "e    60.0\n",
       "f    60.0\n",
       "g    60.0\n",
       "h    25.0\n",
       "i    80.0\n",
       "Name: key_01, dtype: float64"
      ]
     },
     "execution_count": 83,
     "metadata": {},
     "output_type": "execute_result"
    }
   ],
   "source": [
    "df_02[\"key_01\"].rolling(window = 1).mean()"
   ]
  },
  {
   "cell_type": "code",
   "execution_count": 84,
   "id": "5fad01a4-58e6-4184-8db3-5f9d6ae61ced",
   "metadata": {},
   "outputs": [
    {
     "data": {
      "text/plain": [
       "a     NaN\n",
       "b    15.0\n",
       "c    24.0\n",
       "d    37.5\n",
       "e    52.5\n",
       "f    60.0\n",
       "g    60.0\n",
       "h    42.5\n",
       "i    52.5\n",
       "Name: key_01, dtype: float64"
      ]
     },
     "execution_count": 84,
     "metadata": {},
     "output_type": "execute_result"
    }
   ],
   "source": [
    "df_02[\"key_01\"].rolling(window = 2).mean()"
   ]
  },
  {
   "cell_type": "code",
   "execution_count": 85,
   "id": "32942baa-18d8-4fc8-b49a-8618a86828bb",
   "metadata": {},
   "outputs": [
    {
     "data": {
      "text/plain": [
       "a          NaN\n",
       "b          NaN\n",
       "c    20.000000\n",
       "d    31.000000\n",
       "e    45.000000\n",
       "f    55.000000\n",
       "g    60.000000\n",
       "h    48.333333\n",
       "i    55.000000\n",
       "Name: key_01, dtype: float64"
      ]
     },
     "execution_count": 85,
     "metadata": {},
     "output_type": "execute_result"
    }
   ],
   "source": [
    "df_02[\"key_01\"].rolling(window = 3).mean()"
   ]
  },
  {
   "cell_type": "code",
   "execution_count": 87,
   "id": "e7ced1a6-5854-45c7-b7d0-f88d79077c89",
   "metadata": {},
   "outputs": [
    {
     "data": {
      "text/plain": [
       "a     NaN\n",
       "b     NaN\n",
       "c    12.0\n",
       "d    18.0\n",
       "e    30.0\n",
       "f    45.0\n",
       "g    60.0\n",
       "h    25.0\n",
       "i    25.0\n",
       "Name: key_01, dtype: float64"
      ]
     },
     "execution_count": 87,
     "metadata": {},
     "output_type": "execute_result"
    }
   ],
   "source": [
    "df_02[\"key_01\"].rolling(window = 3).min()"
   ]
  },
  {
   "cell_type": "code",
   "execution_count": 88,
   "id": "2c05400c-c764-4c3d-a6f1-a4cd6359cfe7",
   "metadata": {},
   "outputs": [
    {
     "data": {
      "text/plain": [
       "a     NaN\n",
       "b     NaN\n",
       "c    30.0\n",
       "d    45.0\n",
       "e    60.0\n",
       "f    60.0\n",
       "g    60.0\n",
       "h    60.0\n",
       "i    80.0\n",
       "Name: key_01, dtype: float64"
      ]
     },
     "execution_count": 88,
     "metadata": {},
     "output_type": "execute_result"
    }
   ],
   "source": [
    "df_02[\"key_01\"].rolling(window = 3).max()"
   ]
  },
  {
   "cell_type": "code",
   "execution_count": 89,
   "id": "3a518eb1-7278-4649-b8ec-6641e308dcc1",
   "metadata": {},
   "outputs": [
    {
     "data": {
      "text/plain": [
       "a     12\n",
       "b     30\n",
       "c     60\n",
       "d    105\n",
       "e    165\n",
       "f    225\n",
       "g    285\n",
       "h    310\n",
       "i    390\n",
       "Name: key_01, dtype: int64"
      ]
     },
     "execution_count": 89,
     "metadata": {},
     "output_type": "execute_result"
    }
   ],
   "source": [
    "df_02[\"key_01\"].cumsum()"
   ]
  },
  {
   "cell_type": "code",
   "execution_count": 90,
   "id": "77d810de-9d14-43ae-9760-459eb70eceda",
   "metadata": {},
   "outputs": [],
   "source": [
    "# Python Pandas - Date Functionality"
   ]
  },
  {
   "cell_type": "code",
   "execution_count": 91,
   "id": "075404de-12f1-4b02-9535-5cb74709077b",
   "metadata": {},
   "outputs": [
    {
     "data": {
      "text/plain": [
       "DatetimeIndex(['2024-05-01', '2024-05-02', '2024-05-03', '2024-05-04',\n",
       "               '2024-05-05', '2024-05-06', '2024-05-07', '2024-05-08',\n",
       "               '2024-05-09', '2024-05-10', '2024-05-11', '2024-05-12',\n",
       "               '2024-05-13', '2024-05-14', '2024-05-15', '2024-05-16',\n",
       "               '2024-05-17', '2024-05-18', '2024-05-19', '2024-05-20',\n",
       "               '2024-05-21', '2024-05-22', '2024-05-23', '2024-05-24',\n",
       "               '2024-05-25', '2024-05-26', '2024-05-27', '2024-05-28',\n",
       "               '2024-05-29', '2024-05-30', '2024-05-31'],\n",
       "              dtype='datetime64[ns]', freq='D')"
      ]
     },
     "execution_count": 91,
     "metadata": {},
     "output_type": "execute_result"
    }
   ],
   "source": [
    "pandas.date_range(start = '2024-05-01', end = '2024-05-31')"
   ]
  },
  {
   "cell_type": "code",
   "execution_count": 92,
   "id": "21f08ae9-e3a1-460c-9eff-82a3c8d21e9c",
   "metadata": {},
   "outputs": [],
   "source": [
    "date = pandas.date_range(start = '2024-05-01', end = '2024-05-31')"
   ]
  },
  {
   "cell_type": "code",
   "execution_count": 93,
   "id": "d21b57fe-9eaa-49ab-b6b5-ae092dad008a",
   "metadata": {},
   "outputs": [
    {
     "data": {
      "text/plain": [
       "DatetimeIndex(['2024-05-01', '2024-05-02', '2024-05-03', '2024-05-04',\n",
       "               '2024-05-05', '2024-05-06', '2024-05-07', '2024-05-08',\n",
       "               '2024-05-09', '2024-05-10', '2024-05-11', '2024-05-12',\n",
       "               '2024-05-13', '2024-05-14', '2024-05-15', '2024-05-16',\n",
       "               '2024-05-17', '2024-05-18', '2024-05-19', '2024-05-20',\n",
       "               '2024-05-21', '2024-05-22', '2024-05-23', '2024-05-24',\n",
       "               '2024-05-25', '2024-05-26', '2024-05-27', '2024-05-28',\n",
       "               '2024-05-29', '2024-05-30', '2024-05-31'],\n",
       "              dtype='datetime64[ns]', freq='D')"
      ]
     },
     "execution_count": 93,
     "metadata": {},
     "output_type": "execute_result"
    }
   ],
   "source": [
    "date"
   ]
  },
  {
   "cell_type": "code",
   "execution_count": 95,
   "id": "a63c6681-7465-4baf-a1dc-2da09dad5879",
   "metadata": {},
   "outputs": [],
   "source": [
    "df_date_01 = pandas.DataFrame({\"Date\" : date})"
   ]
  },
  {
   "cell_type": "code",
   "execution_count": 96,
   "id": "ad00c97c-13d4-42c2-92b3-cb925807439b",
   "metadata": {},
   "outputs": [
    {
     "data": {
      "text/html": [
       "<div>\n",
       "<style scoped>\n",
       "    .dataframe tbody tr th:only-of-type {\n",
       "        vertical-align: middle;\n",
       "    }\n",
       "\n",
       "    .dataframe tbody tr th {\n",
       "        vertical-align: top;\n",
       "    }\n",
       "\n",
       "    .dataframe thead th {\n",
       "        text-align: right;\n",
       "    }\n",
       "</style>\n",
       "<table border=\"1\" class=\"dataframe\">\n",
       "  <thead>\n",
       "    <tr style=\"text-align: right;\">\n",
       "      <th></th>\n",
       "      <th>Date</th>\n",
       "    </tr>\n",
       "  </thead>\n",
       "  <tbody>\n",
       "    <tr>\n",
       "      <th>0</th>\n",
       "      <td>2024-05-01</td>\n",
       "    </tr>\n",
       "    <tr>\n",
       "      <th>1</th>\n",
       "      <td>2024-05-02</td>\n",
       "    </tr>\n",
       "    <tr>\n",
       "      <th>2</th>\n",
       "      <td>2024-05-03</td>\n",
       "    </tr>\n",
       "    <tr>\n",
       "      <th>3</th>\n",
       "      <td>2024-05-04</td>\n",
       "    </tr>\n",
       "    <tr>\n",
       "      <th>4</th>\n",
       "      <td>2024-05-05</td>\n",
       "    </tr>\n",
       "  </tbody>\n",
       "</table>\n",
       "</div>"
      ],
      "text/plain": [
       "        Date\n",
       "0 2024-05-01\n",
       "1 2024-05-02\n",
       "2 2024-05-03\n",
       "3 2024-05-04\n",
       "4 2024-05-05"
      ]
     },
     "execution_count": 96,
     "metadata": {},
     "output_type": "execute_result"
    }
   ],
   "source": [
    "df_date_01.head()"
   ]
  },
  {
   "cell_type": "code",
   "execution_count": 97,
   "id": "69f74b0f-c803-455a-8184-1af6f5c587de",
   "metadata": {},
   "outputs": [],
   "source": [
    "df_date_02 = pandas.DataFrame({\"Date\" : ['2024-05-01', '2024-05-02', '2024-05-03']})"
   ]
  },
  {
   "cell_type": "code",
   "execution_count": 98,
   "id": "345d4187-0f61-419d-bac7-487c134ecadd",
   "metadata": {},
   "outputs": [
    {
     "data": {
      "text/html": [
       "<div>\n",
       "<style scoped>\n",
       "    .dataframe tbody tr th:only-of-type {\n",
       "        vertical-align: middle;\n",
       "    }\n",
       "\n",
       "    .dataframe tbody tr th {\n",
       "        vertical-align: top;\n",
       "    }\n",
       "\n",
       "    .dataframe thead th {\n",
       "        text-align: right;\n",
       "    }\n",
       "</style>\n",
       "<table border=\"1\" class=\"dataframe\">\n",
       "  <thead>\n",
       "    <tr style=\"text-align: right;\">\n",
       "      <th></th>\n",
       "      <th>Date</th>\n",
       "    </tr>\n",
       "  </thead>\n",
       "  <tbody>\n",
       "    <tr>\n",
       "      <th>0</th>\n",
       "      <td>2024-05-01</td>\n",
       "    </tr>\n",
       "    <tr>\n",
       "      <th>1</th>\n",
       "      <td>2024-05-02</td>\n",
       "    </tr>\n",
       "    <tr>\n",
       "      <th>2</th>\n",
       "      <td>2024-05-03</td>\n",
       "    </tr>\n",
       "  </tbody>\n",
       "</table>\n",
       "</div>"
      ],
      "text/plain": [
       "         Date\n",
       "0  2024-05-01\n",
       "1  2024-05-02\n",
       "2  2024-05-03"
      ]
     },
     "execution_count": 98,
     "metadata": {},
     "output_type": "execute_result"
    }
   ],
   "source": [
    "df_date_02.head()"
   ]
  },
  {
   "cell_type": "code",
   "execution_count": 99,
   "id": "d8bed0b5-19a6-4b19-8cfc-7f167b0e2e6d",
   "metadata": {},
   "outputs": [
    {
     "data": {
      "text/plain": [
       "Date    datetime64[ns]\n",
       "dtype: object"
      ]
     },
     "execution_count": 99,
     "metadata": {},
     "output_type": "execute_result"
    }
   ],
   "source": [
    "df_date_01.dtypes"
   ]
  },
  {
   "cell_type": "code",
   "execution_count": 100,
   "id": "ea97866a-f078-49a5-aa29-ab03a4622146",
   "metadata": {},
   "outputs": [
    {
     "data": {
      "text/plain": [
       "Date    object\n",
       "dtype: object"
      ]
     },
     "execution_count": 100,
     "metadata": {},
     "output_type": "execute_result"
    }
   ],
   "source": [
    "df_date_02.dtypes"
   ]
  },
  {
   "cell_type": "code",
   "execution_count": 101,
   "id": "ae2211ea-4af0-4676-8493-07ab2bcf416d",
   "metadata": {},
   "outputs": [],
   "source": [
    "df_date_02[\"Updated_Date\"] = pandas.to_datetime(df_date_02[\"Date\"])"
   ]
  },
  {
   "cell_type": "code",
   "execution_count": 103,
   "id": "87c0f1cb-14aa-4a01-a9da-97360ac1648b",
   "metadata": {},
   "outputs": [
    {
     "data": {
      "text/html": [
       "<div>\n",
       "<style scoped>\n",
       "    .dataframe tbody tr th:only-of-type {\n",
       "        vertical-align: middle;\n",
       "    }\n",
       "\n",
       "    .dataframe tbody tr th {\n",
       "        vertical-align: top;\n",
       "    }\n",
       "\n",
       "    .dataframe thead th {\n",
       "        text-align: right;\n",
       "    }\n",
       "</style>\n",
       "<table border=\"1\" class=\"dataframe\">\n",
       "  <thead>\n",
       "    <tr style=\"text-align: right;\">\n",
       "      <th></th>\n",
       "      <th>Date</th>\n",
       "      <th>Updated_Date</th>\n",
       "    </tr>\n",
       "  </thead>\n",
       "  <tbody>\n",
       "    <tr>\n",
       "      <th>0</th>\n",
       "      <td>2024-05-01</td>\n",
       "      <td>2024-05-01</td>\n",
       "    </tr>\n",
       "    <tr>\n",
       "      <th>1</th>\n",
       "      <td>2024-05-02</td>\n",
       "      <td>2024-05-02</td>\n",
       "    </tr>\n",
       "    <tr>\n",
       "      <th>2</th>\n",
       "      <td>2024-05-03</td>\n",
       "      <td>2024-05-03</td>\n",
       "    </tr>\n",
       "  </tbody>\n",
       "</table>\n",
       "</div>"
      ],
      "text/plain": [
       "         Date Updated_Date\n",
       "0  2024-05-01   2024-05-01\n",
       "1  2024-05-02   2024-05-02\n",
       "2  2024-05-03   2024-05-03"
      ]
     },
     "execution_count": 103,
     "metadata": {},
     "output_type": "execute_result"
    }
   ],
   "source": [
    "df_date_02.head()"
   ]
  },
  {
   "cell_type": "code",
   "execution_count": 104,
   "id": "297346a4-afc0-4087-ae69-1bed0111d130",
   "metadata": {},
   "outputs": [
    {
     "data": {
      "text/plain": [
       "Date                    object\n",
       "Updated_Date    datetime64[ns]\n",
       "dtype: object"
      ]
     },
     "execution_count": 104,
     "metadata": {},
     "output_type": "execute_result"
    }
   ],
   "source": [
    "df_date_02.dtypes"
   ]
  },
  {
   "cell_type": "code",
   "execution_count": 105,
   "id": "b26919a2-b383-4986-a6d6-3c28443c295b",
   "metadata": {},
   "outputs": [],
   "source": [
    "df_date_02[\"Day\"] = df_date_02[\"Updated_Date\"].dt.day"
   ]
  },
  {
   "cell_type": "code",
   "execution_count": 106,
   "id": "68563aab-c9fc-4ae1-9c03-95ff99dbe46d",
   "metadata": {},
   "outputs": [],
   "source": [
    "df_date_02[\"Month\"] = df_date_02[\"Updated_Date\"].dt.month"
   ]
  },
  {
   "cell_type": "code",
   "execution_count": 107,
   "id": "7f3f2150-5a69-40f6-8c89-0488f2e282d5",
   "metadata": {},
   "outputs": [],
   "source": [
    "df_date_02[\"Year\"] = df_date_02[\"Updated_Date\"].dt.year"
   ]
  },
  {
   "cell_type": "code",
   "execution_count": 108,
   "id": "d5e58aa1-731b-4b2a-b471-bd8b71c90e05",
   "metadata": {},
   "outputs": [
    {
     "data": {
      "text/html": [
       "<div>\n",
       "<style scoped>\n",
       "    .dataframe tbody tr th:only-of-type {\n",
       "        vertical-align: middle;\n",
       "    }\n",
       "\n",
       "    .dataframe tbody tr th {\n",
       "        vertical-align: top;\n",
       "    }\n",
       "\n",
       "    .dataframe thead th {\n",
       "        text-align: right;\n",
       "    }\n",
       "</style>\n",
       "<table border=\"1\" class=\"dataframe\">\n",
       "  <thead>\n",
       "    <tr style=\"text-align: right;\">\n",
       "      <th></th>\n",
       "      <th>Date</th>\n",
       "      <th>Updated_Date</th>\n",
       "      <th>Day</th>\n",
       "      <th>Month</th>\n",
       "      <th>Year</th>\n",
       "    </tr>\n",
       "  </thead>\n",
       "  <tbody>\n",
       "    <tr>\n",
       "      <th>0</th>\n",
       "      <td>2024-05-01</td>\n",
       "      <td>2024-05-01</td>\n",
       "      <td>1</td>\n",
       "      <td>5</td>\n",
       "      <td>2024</td>\n",
       "    </tr>\n",
       "    <tr>\n",
       "      <th>1</th>\n",
       "      <td>2024-05-02</td>\n",
       "      <td>2024-05-02</td>\n",
       "      <td>2</td>\n",
       "      <td>5</td>\n",
       "      <td>2024</td>\n",
       "    </tr>\n",
       "    <tr>\n",
       "      <th>2</th>\n",
       "      <td>2024-05-03</td>\n",
       "      <td>2024-05-03</td>\n",
       "      <td>3</td>\n",
       "      <td>5</td>\n",
       "      <td>2024</td>\n",
       "    </tr>\n",
       "  </tbody>\n",
       "</table>\n",
       "</div>"
      ],
      "text/plain": [
       "         Date Updated_Date  Day  Month  Year\n",
       "0  2024-05-01   2024-05-01    1      5  2024\n",
       "1  2024-05-02   2024-05-02    2      5  2024\n",
       "2  2024-05-03   2024-05-03    3      5  2024"
      ]
     },
     "execution_count": 108,
     "metadata": {},
     "output_type": "execute_result"
    }
   ],
   "source": [
    "df_date_02.head()"
   ]
  },
  {
   "cell_type": "code",
   "execution_count": 109,
   "id": "5a0b2206-eb21-498d-98f5-ada78bd9a299",
   "metadata": {},
   "outputs": [],
   "source": [
    "# Python Pandas - Time Delta"
   ]
  },
  {
   "cell_type": "code",
   "execution_count": 112,
   "id": "81d32588-3f5b-49ed-8fa2-31f1e2af1b13",
   "metadata": {},
   "outputs": [],
   "source": [
    "time_delta = pandas.Timedelta(days = 5, hours = 18, minutes = 30)"
   ]
  },
  {
   "cell_type": "code",
   "execution_count": 111,
   "id": "8c3a2e75-3bfd-423e-8f22-81339995a3ad",
   "metadata": {},
   "outputs": [],
   "source": [
    "date_01 = pandas.to_datetime('2024-05-01')"
   ]
  },
  {
   "cell_type": "code",
   "execution_count": 117,
   "id": "7a480048-b151-4c7e-947f-bacad218c85a",
   "metadata": {},
   "outputs": [
    {
     "data": {
      "text/plain": [
       "Timestamp('2024-05-06 18:30:00')"
      ]
     },
     "execution_count": 117,
     "metadata": {},
     "output_type": "execute_result"
    }
   ],
   "source": [
    "date_01 + time_delta"
   ]
  },
  {
   "cell_type": "code",
   "execution_count": 118,
   "id": "cba1e4c1-be5c-4f97-ac12-1c1e1166c04f",
   "metadata": {},
   "outputs": [
    {
     "data": {
      "text/plain": [
       "Timestamp('2024-04-25 05:30:00')"
      ]
     },
     "execution_count": 118,
     "metadata": {},
     "output_type": "execute_result"
    }
   ],
   "source": [
    "date_01 - time_delta"
   ]
  },
  {
   "cell_type": "code",
   "execution_count": 119,
   "id": "b9b6e958-7d36-4822-8244-16c0d0627fad",
   "metadata": {},
   "outputs": [],
   "source": [
    "# Python Pandas - Categorical Data"
   ]
  },
  {
   "cell_type": "code",
   "execution_count": 120,
   "id": "83c0c041-3111-4fb6-b322-7c2c6003de7d",
   "metadata": {},
   "outputs": [],
   "source": [
    "df_titanic = pandas.read_csv(\"titanic.csv\")"
   ]
  },
  {
   "cell_type": "code",
   "execution_count": 121,
   "id": "8e404d67-2c04-4ffb-9310-a7539f462913",
   "metadata": {},
   "outputs": [
    {
     "data": {
      "text/html": [
       "<div>\n",
       "<style scoped>\n",
       "    .dataframe tbody tr th:only-of-type {\n",
       "        vertical-align: middle;\n",
       "    }\n",
       "\n",
       "    .dataframe tbody tr th {\n",
       "        vertical-align: top;\n",
       "    }\n",
       "\n",
       "    .dataframe thead th {\n",
       "        text-align: right;\n",
       "    }\n",
       "</style>\n",
       "<table border=\"1\" class=\"dataframe\">\n",
       "  <thead>\n",
       "    <tr style=\"text-align: right;\">\n",
       "      <th></th>\n",
       "      <th>PassengerId</th>\n",
       "      <th>Survived</th>\n",
       "      <th>Pclass</th>\n",
       "      <th>Name</th>\n",
       "      <th>Sex</th>\n",
       "      <th>Age</th>\n",
       "      <th>SibSp</th>\n",
       "      <th>Parch</th>\n",
       "      <th>Ticket</th>\n",
       "      <th>Fare</th>\n",
       "      <th>Cabin</th>\n",
       "      <th>Embarked</th>\n",
       "    </tr>\n",
       "  </thead>\n",
       "  <tbody>\n",
       "    <tr>\n",
       "      <th>0</th>\n",
       "      <td>1</td>\n",
       "      <td>0</td>\n",
       "      <td>3</td>\n",
       "      <td>Braund, Mr. Owen Harris</td>\n",
       "      <td>male</td>\n",
       "      <td>22.0</td>\n",
       "      <td>1</td>\n",
       "      <td>0</td>\n",
       "      <td>A/5 21171</td>\n",
       "      <td>7.2500</td>\n",
       "      <td>NaN</td>\n",
       "      <td>S</td>\n",
       "    </tr>\n",
       "    <tr>\n",
       "      <th>1</th>\n",
       "      <td>2</td>\n",
       "      <td>1</td>\n",
       "      <td>1</td>\n",
       "      <td>Cumings, Mrs. John Bradley (Florence Briggs Thayer)</td>\n",
       "      <td>female</td>\n",
       "      <td>38.0</td>\n",
       "      <td>1</td>\n",
       "      <td>0</td>\n",
       "      <td>PC 17599</td>\n",
       "      <td>71.2833</td>\n",
       "      <td>C85</td>\n",
       "      <td>C</td>\n",
       "    </tr>\n",
       "    <tr>\n",
       "      <th>2</th>\n",
       "      <td>3</td>\n",
       "      <td>1</td>\n",
       "      <td>3</td>\n",
       "      <td>Heikkinen, Miss. Laina</td>\n",
       "      <td>female</td>\n",
       "      <td>26.0</td>\n",
       "      <td>0</td>\n",
       "      <td>0</td>\n",
       "      <td>STON/O2. 3101282</td>\n",
       "      <td>7.9250</td>\n",
       "      <td>NaN</td>\n",
       "      <td>S</td>\n",
       "    </tr>\n",
       "    <tr>\n",
       "      <th>3</th>\n",
       "      <td>4</td>\n",
       "      <td>1</td>\n",
       "      <td>1</td>\n",
       "      <td>Futrelle, Mrs. Jacques Heath (Lily May Peel)</td>\n",
       "      <td>female</td>\n",
       "      <td>35.0</td>\n",
       "      <td>1</td>\n",
       "      <td>0</td>\n",
       "      <td>113803</td>\n",
       "      <td>53.1000</td>\n",
       "      <td>C123</td>\n",
       "      <td>S</td>\n",
       "    </tr>\n",
       "    <tr>\n",
       "      <th>4</th>\n",
       "      <td>5</td>\n",
       "      <td>0</td>\n",
       "      <td>3</td>\n",
       "      <td>Allen, Mr. William Henry</td>\n",
       "      <td>male</td>\n",
       "      <td>35.0</td>\n",
       "      <td>0</td>\n",
       "      <td>0</td>\n",
       "      <td>373450</td>\n",
       "      <td>8.0500</td>\n",
       "      <td>NaN</td>\n",
       "      <td>S</td>\n",
       "    </tr>\n",
       "  </tbody>\n",
       "</table>\n",
       "</div>"
      ],
      "text/plain": [
       "   PassengerId  Survived  Pclass  \\\n",
       "0            1         0       3   \n",
       "1            2         1       1   \n",
       "2            3         1       3   \n",
       "3            4         1       1   \n",
       "4            5         0       3   \n",
       "\n",
       "                                                  Name     Sex   Age  SibSp  \\\n",
       "0                              Braund, Mr. Owen Harris    male  22.0      1   \n",
       "1  Cumings, Mrs. John Bradley (Florence Briggs Thayer)  female  38.0      1   \n",
       "2                               Heikkinen, Miss. Laina  female  26.0      0   \n",
       "3         Futrelle, Mrs. Jacques Heath (Lily May Peel)  female  35.0      1   \n",
       "4                             Allen, Mr. William Henry    male  35.0      0   \n",
       "\n",
       "   Parch            Ticket     Fare Cabin Embarked  \n",
       "0      0         A/5 21171   7.2500   NaN        S  \n",
       "1      0          PC 17599  71.2833   C85        C  \n",
       "2      0  STON/O2. 3101282   7.9250   NaN        S  \n",
       "3      0            113803  53.1000  C123        S  \n",
       "4      0            373450   8.0500   NaN        S  "
      ]
     },
     "execution_count": 121,
     "metadata": {},
     "output_type": "execute_result"
    }
   ],
   "source": [
    "df_titanic.head()"
   ]
  },
  {
   "cell_type": "code",
   "execution_count": 123,
   "id": "74e720fb-57bb-4a9c-8a3f-3dfbef433f49",
   "metadata": {},
   "outputs": [],
   "source": [
    "category_01 = pandas.Categorical(df_titanic[\"Survived\"])"
   ]
  },
  {
   "cell_type": "code",
   "execution_count": 124,
   "id": "5fa0d2f9-f952-4794-a94a-9feb063abdb5",
   "metadata": {},
   "outputs": [
    {
     "data": {
      "text/plain": [
       "[0, 1, 1, 1, 0, ..., 0, 1, 0, 1, 0]\n",
       "Length: 891\n",
       "Categories (2, int64): [0, 1]"
      ]
     },
     "execution_count": 124,
     "metadata": {},
     "output_type": "execute_result"
    }
   ],
   "source": [
    "category_01"
   ]
  },
  {
   "cell_type": "code",
   "execution_count": 125,
   "id": "9ef8e391-84bc-430a-acd0-788723362674",
   "metadata": {},
   "outputs": [
    {
     "data": {
      "text/plain": [
       "0    549\n",
       "1    342\n",
       "dtype: int64"
      ]
     },
     "execution_count": 125,
     "metadata": {},
     "output_type": "execute_result"
    }
   ],
   "source": [
    "category_01.value_counts()"
   ]
  },
  {
   "cell_type": "code",
   "execution_count": 126,
   "id": "60f26779-0988-4b86-b762-50504dbf0999",
   "metadata": {},
   "outputs": [],
   "source": [
    "# Python Pandas - Visualization"
   ]
  },
  {
   "cell_type": "code",
   "execution_count": 127,
   "id": "765b6730-d6a6-4e7d-9ea2-44383777dd72",
   "metadata": {},
   "outputs": [
    {
     "data": {
      "text/html": [
       "<div>\n",
       "<style scoped>\n",
       "    .dataframe tbody tr th:only-of-type {\n",
       "        vertical-align: middle;\n",
       "    }\n",
       "\n",
       "    .dataframe tbody tr th {\n",
       "        vertical-align: top;\n",
       "    }\n",
       "\n",
       "    .dataframe thead th {\n",
       "        text-align: right;\n",
       "    }\n",
       "</style>\n",
       "<table border=\"1\" class=\"dataframe\">\n",
       "  <thead>\n",
       "    <tr style=\"text-align: right;\">\n",
       "      <th></th>\n",
       "      <th>Name</th>\n",
       "      <th>key_01</th>\n",
       "      <th>key_02</th>\n",
       "      <th>key_03</th>\n",
       "      <th>key_04</th>\n",
       "    </tr>\n",
       "  </thead>\n",
       "  <tbody>\n",
       "    <tr>\n",
       "      <th>0</th>\n",
       "      <td>Balaji</td>\n",
       "      <td>12</td>\n",
       "      <td>10</td>\n",
       "      <td>24</td>\n",
       "      <td>25</td>\n",
       "    </tr>\n",
       "    <tr>\n",
       "      <th>1</th>\n",
       "      <td>Rahul</td>\n",
       "      <td>18</td>\n",
       "      <td>20</td>\n",
       "      <td>48</td>\n",
       "      <td>90</td>\n",
       "    </tr>\n",
       "    <tr>\n",
       "      <th>2</th>\n",
       "      <td>Srinivas</td>\n",
       "      <td>30</td>\n",
       "      <td>30</td>\n",
       "      <td>90</td>\n",
       "      <td>65</td>\n",
       "    </tr>\n",
       "    <tr>\n",
       "      <th>3</th>\n",
       "      <td>Vinay</td>\n",
       "      <td>45</td>\n",
       "      <td>40</td>\n",
       "      <td>75</td>\n",
       "      <td>55</td>\n",
       "    </tr>\n",
       "    <tr>\n",
       "      <th>4</th>\n",
       "      <td>Hitesh</td>\n",
       "      <td>60</td>\n",
       "      <td>50</td>\n",
       "      <td>85</td>\n",
       "      <td>15</td>\n",
       "    </tr>\n",
       "  </tbody>\n",
       "</table>\n",
       "</div>"
      ],
      "text/plain": [
       "       Name  key_01  key_02  key_03  key_04\n",
       "0    Balaji      12      10      24      25\n",
       "1     Rahul      18      20      48      90\n",
       "2  Srinivas      30      30      90      65\n",
       "3     Vinay      45      40      75      55\n",
       "4    Hitesh      60      50      85      15"
      ]
     },
     "execution_count": 127,
     "metadata": {},
     "output_type": "execute_result"
    }
   ],
   "source": [
    "df_01.head()"
   ]
  },
  {
   "cell_type": "code",
   "execution_count": 128,
   "id": "361dd133-9327-44e4-93bf-8221a7554cbd",
   "metadata": {},
   "outputs": [],
   "source": [
    "df_sub_01 = df_01[[\"key_01\"]]"
   ]
  },
  {
   "cell_type": "code",
   "execution_count": 129,
   "id": "b85a782e-909e-47d4-8279-11e1e0f851ca",
   "metadata": {},
   "outputs": [
    {
     "data": {
      "text/html": [
       "<div>\n",
       "<style scoped>\n",
       "    .dataframe tbody tr th:only-of-type {\n",
       "        vertical-align: middle;\n",
       "    }\n",
       "\n",
       "    .dataframe tbody tr th {\n",
       "        vertical-align: top;\n",
       "    }\n",
       "\n",
       "    .dataframe thead th {\n",
       "        text-align: right;\n",
       "    }\n",
       "</style>\n",
       "<table border=\"1\" class=\"dataframe\">\n",
       "  <thead>\n",
       "    <tr style=\"text-align: right;\">\n",
       "      <th></th>\n",
       "      <th>key_01</th>\n",
       "    </tr>\n",
       "  </thead>\n",
       "  <tbody>\n",
       "    <tr>\n",
       "      <th>0</th>\n",
       "      <td>12</td>\n",
       "    </tr>\n",
       "    <tr>\n",
       "      <th>1</th>\n",
       "      <td>18</td>\n",
       "    </tr>\n",
       "    <tr>\n",
       "      <th>2</th>\n",
       "      <td>30</td>\n",
       "    </tr>\n",
       "    <tr>\n",
       "      <th>3</th>\n",
       "      <td>45</td>\n",
       "    </tr>\n",
       "    <tr>\n",
       "      <th>4</th>\n",
       "      <td>60</td>\n",
       "    </tr>\n",
       "  </tbody>\n",
       "</table>\n",
       "</div>"
      ],
      "text/plain": [
       "   key_01\n",
       "0      12\n",
       "1      18\n",
       "2      30\n",
       "3      45\n",
       "4      60"
      ]
     },
     "execution_count": 129,
     "metadata": {},
     "output_type": "execute_result"
    }
   ],
   "source": [
    "df_sub_01.head()"
   ]
  },
  {
   "cell_type": "code",
   "execution_count": 130,
   "id": "fd2d1b55-0d3c-4262-92fa-58fe8dcf5feb",
   "metadata": {},
   "outputs": [
    {
     "data": {
      "text/plain": [
       "<AxesSubplot: >"
      ]
     },
     "execution_count": 130,
     "metadata": {},
     "output_type": "execute_result"
    },
    {
     "data": {
      "image/png": "[encoded data removed]",
      "text/plain": [
       "<Figure size 640x480 with 1 Axes>"
      ]
     },
     "metadata": {},
     "output_type": "display_data"
    }
   ],
   "source": [
    "df_sub_01.plot()"
   ]
  },
  {
   "cell_type": "code",
   "execution_count": 138,
   "id": "b0799405-c8e0-4f2e-bd2a-aff151b51400",
   "metadata": {},
   "outputs": [
    {
     "data": {
      "text/plain": [
       "<AxesSubplot: xlabel='key_01', ylabel='key_02'>"
      ]
     },
     "execution_count": 138,
     "metadata": {},
     "output_type": "execute_result"
    },
    {
     "data": {
      "image/png": "[encoded data removed]",
      "text/plain": [
       "<Figure size 640x480 with 1 Axes>"
      ]
     },
     "metadata": {},
     "output_type": "display_data"
    }
   ],
   "source": [
    "df_01.plot.scatter(x = \"key_01\", y = \"key_02\")"
   ]
  },
  {
   "cell_type": "code",
   "execution_count": null,
   "id": "d0a10899-0b5e-420b-8e73-66cc3d55efdb",
   "metadata": {},
   "outputs": [
    {
     "data": {
      "text/plain": [
       "<AxesSubplot: >"
      ]
     },
     "execution_count": 148,
     "metadata": {},
     "output_type": "execute_result"
    }
   ],
   "source": [
    "df_01.plot(y = \"key_02\")"
   ]
  },
  {
   "cell_type": "code",
   "execution_count": 141,
   "id": "a1a55c21-352d-49d8-b651-ee1bb146d2af",
   "metadata": {},
   "outputs": [
    {
     "data": {
      "text/plain": [
       "<AxesSubplot: ylabel='key_01'>"
      ]
     },
     "execution_count": 141,
     "metadata": {},
     "output_type": "execute_result"
    },
    {
     "data": {
      "image/png": "[encoded data removed]",
      "text/plain": [
       "<Figure size 640x480 with 1 Axes>"
      ]
     },
     "metadata": {},
     "output_type": "display_data"
    }
   ],
   "source": [
    "df_01.plot.pie(y = \"key_01\")"
   ]
  },
  {
   "cell_type": "code",
   "execution_count": null,
   "id": "27d6e2fb-a8c9-455c-876c-0fd52fe1fd79",
   "metadata": {},
   "outputs": [],
   "source": []
  }
 ],
 "metadata": {
  "kernelspec": {
   "display_name": "Python 3 (ipykernel)",
   "language": "python",
   "name": "python3"
  },
  "language_info": {
   "codemirror_mode": {
    "name": "ipython",
    "version": 3
   },
   "file_extension": ".py",
   "mimetype": "text/x-python",
   "name": "python",
   "nbconvert_exporter": "python",
   "pygments_lexer": "ipython3",
   "version": "3.10.8"
  }
 },
 "nbformat": 4,
 "nbformat_minor": 5
}
